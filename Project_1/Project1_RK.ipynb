{
 "cells": [
  {
   "cell_type": "code",
   "execution_count": 1,
   "id": "49a78cb2",
   "metadata": {},
   "outputs": [],
   "source": [
    "import pandas as pd"
   ]
  },
  {
   "cell_type": "code",
   "execution_count": 2,
   "id": "2351d20d",
   "metadata": {},
   "outputs": [],
   "source": [
    "# read csv file\n",
    "filename = \"Project_1_dataset_01_01_2022.csv\"\n",
    "df = pd.read_csv(filename)"
   ]
  },
  {
   "cell_type": "code",
   "execution_count": 3,
   "id": "32ef2936",
   "metadata": {},
   "outputs": [
    {
     "data": {
      "text/html": [
       "<div>\n",
       "<style scoped>\n",
       "    .dataframe tbody tr th:only-of-type {\n",
       "        vertical-align: middle;\n",
       "    }\n",
       "\n",
       "    .dataframe tbody tr th {\n",
       "        vertical-align: top;\n",
       "    }\n",
       "\n",
       "    .dataframe thead th {\n",
       "        text-align: right;\n",
       "    }\n",
       "</style>\n",
       "<table border=\"1\" class=\"dataframe\">\n",
       "  <thead>\n",
       "    <tr style=\"text-align: right;\">\n",
       "      <th></th>\n",
       "      <th>Unnamed: 0</th>\n",
       "      <th>full_text</th>\n",
       "      <th>summary</th>\n",
       "      <th>keywords</th>\n",
       "      <th>publish_date</th>\n",
       "      <th>authors</th>\n",
       "      <th>url</th>\n",
       "      <th>leaf_label</th>\n",
       "      <th>root_label</th>\n",
       "    </tr>\n",
       "  </thead>\n",
       "  <tbody>\n",
       "    <tr>\n",
       "      <th>0</th>\n",
       "      <td>590</td>\n",
       "      <td>Having made a massive impact in Saudi Arabia w...</td>\n",
       "      <td>Having made a massive impact in Saudi Arabia w...</td>\n",
       "      <td>['singhs', 'rooting', 'cool', 'saudi', 'style'...</td>\n",
       "      <td>NaN</td>\n",
       "      <td>[]</td>\n",
       "      <td>https://www.msn.com/en-in/entertainment/other/...</td>\n",
       "      <td>cricket</td>\n",
       "      <td>sports</td>\n",
       "    </tr>\n",
       "    <tr>\n",
       "      <th>1</th>\n",
       "      <td>388</td>\n",
       "      <td>Cricket is all about the emotional rollercoast...</td>\n",
       "      <td>No matter which team fans hope to win, every s...</td>\n",
       "      <td>['wants', 'fans', 'finals', 'cup', 'win', 'tou...</td>\n",
       "      <td>NaN</td>\n",
       "      <td>[]</td>\n",
       "      <td>https://www.prnewswire.com:443/news-releases/c...</td>\n",
       "      <td>cricket</td>\n",
       "      <td>sports</td>\n",
       "    </tr>\n",
       "    <tr>\n",
       "      <th>2</th>\n",
       "      <td>423</td>\n",
       "      <td>New Zealand announces back-to-back tours next ...</td>\n",
       "      <td>New Zealand announces back-to-back tours next ...</td>\n",
       "      <td>['test', 'west', 'tour', 'zealand', 'world', '...</td>\n",
       "      <td>2021-12-20 00:00:00</td>\n",
       "      <td>[]</td>\n",
       "      <td>https://www.aljazeera.com/news/2021/12/20/cric...</td>\n",
       "      <td>cricket</td>\n",
       "      <td>sports</td>\n",
       "    </tr>\n",
       "    <tr>\n",
       "      <th>3</th>\n",
       "      <td>563</td>\n",
       "      <td>It's not the first time cricket fans in the co...</td>\n",
       "      <td>Billed as one of the pre-tournament favourites...</td>\n",
       "      <td>['qualify', 'afghanistan', 'cup', 'world', 'ze...</td>\n",
       "      <td>NaN</td>\n",
       "      <td>[]</td>\n",
       "      <td>https://www.msn.com/en-in/news/other/t20-world...</td>\n",
       "      <td>cricket</td>\n",
       "      <td>sports</td>\n",
       "    </tr>\n",
       "    <tr>\n",
       "      <th>4</th>\n",
       "      <td>634</td>\n",
       "      <td>An employee works on a computer terminal again...</td>\n",
       "      <td>REUTERS/Sivaram VBENGALURU, Oct 11 (Reuters Br...</td>\n",
       "      <td>['success', 'tech', 'startup', 'talent', 'onli...</td>\n",
       "      <td>2021-10-11 00:00:00</td>\n",
       "      <td>['Una Galani']</td>\n",
       "      <td>https://www.reuters.com/breakingviews/india-in...</td>\n",
       "      <td>cricket</td>\n",
       "      <td>sports</td>\n",
       "    </tr>\n",
       "  </tbody>\n",
       "</table>\n",
       "</div>"
      ],
      "text/plain": [
       "   Unnamed: 0                                          full_text  \\\n",
       "0         590  Having made a massive impact in Saudi Arabia w...   \n",
       "1         388  Cricket is all about the emotional rollercoast...   \n",
       "2         423  New Zealand announces back-to-back tours next ...   \n",
       "3         563  It's not the first time cricket fans in the co...   \n",
       "4         634  An employee works on a computer terminal again...   \n",
       "\n",
       "                                             summary  \\\n",
       "0  Having made a massive impact in Saudi Arabia w...   \n",
       "1  No matter which team fans hope to win, every s...   \n",
       "2  New Zealand announces back-to-back tours next ...   \n",
       "3  Billed as one of the pre-tournament favourites...   \n",
       "4  REUTERS/Sivaram VBENGALURU, Oct 11 (Reuters Br...   \n",
       "\n",
       "                                            keywords         publish_date  \\\n",
       "0  ['singhs', 'rooting', 'cool', 'saudi', 'style'...                  NaN   \n",
       "1  ['wants', 'fans', 'finals', 'cup', 'win', 'tou...                  NaN   \n",
       "2  ['test', 'west', 'tour', 'zealand', 'world', '...  2021-12-20 00:00:00   \n",
       "3  ['qualify', 'afghanistan', 'cup', 'world', 'ze...                  NaN   \n",
       "4  ['success', 'tech', 'startup', 'talent', 'onli...  2021-10-11 00:00:00   \n",
       "\n",
       "          authors                                                url  \\\n",
       "0              []  https://www.msn.com/en-in/entertainment/other/...   \n",
       "1              []  https://www.prnewswire.com:443/news-releases/c...   \n",
       "2              []  https://www.aljazeera.com/news/2021/12/20/cric...   \n",
       "3              []  https://www.msn.com/en-in/news/other/t20-world...   \n",
       "4  ['Una Galani']  https://www.reuters.com/breakingviews/india-in...   \n",
       "\n",
       "  leaf_label root_label  \n",
       "0    cricket     sports  \n",
       "1    cricket     sports  \n",
       "2    cricket     sports  \n",
       "3    cricket     sports  \n",
       "4    cricket     sports  "
      ]
     },
     "execution_count": 3,
     "metadata": {},
     "output_type": "execute_result"
    }
   ],
   "source": [
    "# check the data\n",
    "df.head()"
   ]
  },
  {
   "cell_type": "markdown",
   "id": "4713c49c",
   "metadata": {},
   "source": [
    "## Question1"
   ]
  },
  {
   "cell_type": "code",
   "execution_count": 4,
   "id": "810b6a30",
   "metadata": {},
   "outputs": [],
   "source": [
    "import matplotlib.pyplot as plt\n",
    "%matplotlib inline"
   ]
  },
  {
   "cell_type": "code",
   "execution_count": 5,
   "id": "2ac6273b",
   "metadata": {},
   "outputs": [],
   "source": [
    "# create column count which stores length of alpha numeric characters\n",
    "df['count'] =  df['full_text'].apply(lambda x: sum(char.isalnum() for char in x))"
   ]
  },
  {
   "cell_type": "code",
   "execution_count": 6,
   "id": "bef4f960",
   "metadata": {},
   "outputs": [
    {
     "data": {
      "image/png": "[encoded data removed]",
      "text/plain": [
       "<Figure size 864x288 with 1 Axes>"
      ]
     },
     "metadata": {
      "needs_background": "light"
     },
     "output_type": "display_data"
    }
   ],
   "source": [
    "\n",
    "# histogram: alpha-numeric characters in document\n",
    "plt.figure(figsize=(12,4))\n",
    "plt.hist(df['count'],50)\n",
    "plt.xlabel('char_count')\n",
    "plt.ylabel('frequency')\n",
    "plt.title(\"Frequency plot : alpha-numeric characters\")\n",
    "# plt.show()\n",
    "plt.savefig('plot_1.png')\n",
    "df = df.drop('count',axis=1)   ## drop new column count after creating the histogram"
   ]
  },
  {
   "cell_type": "code",
   "execution_count": 7,
   "id": "f3fea339",
   "metadata": {},
   "outputs": [
    {
     "data": {
      "image/png": "[encoded data removed]",
      "text/plain": [
       "<Figure size 864x288 with 1 Axes>"
      ]
     },
     "metadata": {
      "needs_background": "light"
     },
     "output_type": "display_data"
    }
   ],
   "source": [
    "# histogram: leaf_label\n",
    "leaf_label_counts = pd.DataFrame(df['leaf_label'].value_counts()).reset_index()\n",
    "\n",
    "plt.figure(figsize=(12,4))\n",
    "plt.bar(leaf_label_counts['index'],leaf_label_counts['leaf_label'] ,0.5)\n",
    "plt.xlabel('class')\n",
    "plt.ylabel('frequency')\n",
    "plt.title(\"Frequency plot : leaf_label\")\n",
    "plt.savefig('plot_2.png')"
   ]
  },
  {
   "cell_type": "code",
   "execution_count": 8,
   "id": "aafb2622",
   "metadata": {},
   "outputs": [
    {
     "data": {
      "image/png": "[encoded data removed]",
      "text/plain": [
       "<Figure size 648x288 with 1 Axes>"
      ]
     },
     "metadata": {
      "needs_background": "light"
     },
     "output_type": "display_data"
    }
   ],
   "source": [
    "# histogram: root_label\n",
    "root_label_counts = pd.DataFrame(df['root_label'].value_counts()).reset_index()\n",
    "\n",
    "plt.figure(figsize=(9,4))\n",
    "plt.bar(root_label_counts['index'],root_label_counts['root_label'] ,0.5)\n",
    "plt.xlabel('class')\n",
    "plt.ylabel('frequency')\n",
    "plt.title(\"Frequency plot : root_label\")\n",
    "plt.savefig('plot_3.png')\n"
   ]
  },
  {
   "cell_type": "code",
   "execution_count": 9,
   "id": "c2d7face",
   "metadata": {},
   "outputs": [
    {
     "name": "stdout",
     "output_type": "stream",
     "text": [
      "sample number:2072\n",
      "column number:9\n"
     ]
    }
   ],
   "source": [
    "print(\"sample number:{}\".format(df.shape[0]))\n",
    "print(\"column number:{}\".format(df.shape[1]))"
   ]
  },
  {
   "cell_type": "markdown",
   "id": "8ebc1c33",
   "metadata": {},
   "source": [
    "## Question2"
   ]
  },
  {
   "cell_type": "code",
   "execution_count": 10,
   "id": "ae03e53b",
   "metadata": {},
   "outputs": [],
   "source": [
    "import numpy as np\n",
    "import random \n",
    "\n",
    "np.random.seed(42)\n",
    "random.seed(42)"
   ]
  },
  {
   "cell_type": "code",
   "execution_count": 11,
   "id": "9038096b",
   "metadata": {},
   "outputs": [
    {
     "name": "stdout",
     "output_type": "stream",
     "text": [
      "train number:1657\n",
      "test number:415\n"
     ]
    }
   ],
   "source": [
    "from sklearn.model_selection import train_test_split\n",
    "\n",
    "def question2(train,test):\n",
    "    \n",
    "    train_num = train.shape[0]\n",
    "    test_num = test.shape[0]\n",
    "    return train_num,test_num\n",
    "\n",
    "train, test = train_test_split(df, test_size=0.2, random_state = 42)\n",
    "\n",
    "train_num,test_num = question2(train,test)\n",
    "print(\"train number:{}\".format(train_num))\n",
    "print(\"test number:{}\".format(test_num))"
   ]
  },
  {
   "cell_type": "markdown",
   "id": "0efa7178",
   "metadata": {},
   "source": [
    "## Question3"
   ]
  },
  {
   "cell_type": "code",
   "execution_count": 12,
   "id": "d84a357d",
   "metadata": {},
   "outputs": [],
   "source": [
    "## Import libraries\n",
    "import re\n",
    "from sklearn.feature_extraction import text\n",
    "from sklearn.feature_extraction.text import CountVectorizer, TfidfTransformer\n",
    "\n",
    "import nltk\n",
    "from nltk import pos_tag\n",
    "from nltk.tokenize import sent_tokenize\n",
    "from nltk.corpus import stopwords\n",
    "#nltk.download('stopwords' )\n",
    "\n",
    "import string\n",
    "from string import punctuation\n",
    "\n",
    "stop_words_skt = text.ENGLISH_STOP_WORDS\n",
    "stop_words_en = stopwords.words('english')"
   ]
  },
  {
   "cell_type": "code",
   "execution_count": 13,
   "id": "ae272d2a",
   "metadata": {},
   "outputs": [],
   "source": [
    "def clean(text):\n",
    "    '''\n",
    "    Helps remove many HTML artefacts from the crawler's output.\n",
    "    '''\n",
    "    text = re.sub(r'^https?:\\/\\/.*[\\r\\n]*', '', text, flags=re.MULTILINE)\n",
    "    texter = re.sub(r\"<br />\", \" \", text)\n",
    "    texter = re.sub(r\"&quot;\", \"\\\"\",texter)\n",
    "    texter = re.sub('&#39;', \"\\\"\", texter)\n",
    "    texter = re.sub('\\n', \" \", texter)\n",
    "    texter = re.sub(' u ',\" you \", texter)\n",
    "    texter = re.sub('`',\"\", texter)\n",
    "    texter = re.sub(' +', ' ', texter)\n",
    "    texter = re.sub(r\"(!)\\1+\", r\"!\", texter)\n",
    "    texter = re.sub(r\"(\\?)\\1+\", r\"?\", texter)\n",
    "    texter = re.sub('&amp;', 'and', texter)\n",
    "    texter = re.sub('\\r', ' ',texter)\n",
    "    clean = re.compile('<.*?>')\n",
    "    texter = texter.encode('ascii', 'ignore').decode('ascii')\n",
    "    texter = re.sub(clean, '', texter)\n",
    "    if texter == \"\":\n",
    "        texter = \"\"\n",
    "    return texter\n",
    "\n",
    "def clean_data(data):\n",
    "    for index,row in data.iterrows():\n",
    "        row['full_text'] = clean(row['full_text'])\n",
    "    return data"
   ]
  },
  {
   "cell_type": "code",
   "execution_count": 14,
   "id": "71bdc531",
   "metadata": {},
   "outputs": [],
   "source": [
    "# #### IMP: still need to determine the right order of cleaning steps\n",
    "# ## Right now the order is --> clean html, remove_punctuation, lemmatize, remove digit, stopwords and chars\n",
    "\n",
    "# ## Building 6 analyzers for [clean, no clean]*[lemmatize, stem, no compression] combinations\n",
    "\n",
    "\n",
    "# combined_stopwords = set.union(set(stop_words_en),set(punctuation),set(stop_words_skt))\n",
    "# wnl = nltk.wordnet.WordNetLemmatizer()\n",
    "# stemmer = nltk.stem.PorterStemmer()\n",
    "# analyzer = CountVectorizer().build_analyzer()\n",
    "\n",
    "# def penn2morphy(penntag):\n",
    "#     \"\"\" \n",
    "#     Converts Penn Treebank tags to WordNet. \n",
    "#     \"\"\"\n",
    "#     morphy_tag = {'NN':'n', 'JJ':'a',\n",
    "#                   'VB':'v', 'RB':'r'}\n",
    "#     try:\n",
    "#         return morphy_tag[penntag[:2]]\n",
    "#     except:\n",
    "#         return 'n' \n",
    "\n",
    "# def lemmatize_sent(list_word): \n",
    "#     '''\n",
    "#     Returns lemmatized set of tokens with pos tagging\n",
    "#     '''\n",
    "#     return [wnl.lemmatize(word.lower(), pos=penn2morphy(tag)) \n",
    "#             for word, tag in pos_tag(list_word)]\n",
    "\n",
    "# def clean_tokens_lemma (tokens: list):\n",
    "#     '''\n",
    "#     Cleans set of tokens at sentence level by applying lemmatization at sentence level\n",
    "#     '''\n",
    "#     lower_txt = [token.lower() for token in tokens]\n",
    "#     lemmatize_tokens = lemmatize_sent(lower_txt) \n",
    "#     remove_words = [token for token in lemmatize_tokens if (not token.isdigit())\\\n",
    "#                      and (token not in combined_stopwords) and (len(token)>1)]\n",
    "#     return remove_words\n",
    "\n",
    "# def doc_tokens_lemma (doc):\n",
    "#     '''\n",
    "#     Split the document at sentence level, clean it and return clean set of tokens at doc level\n",
    "#     '''\n",
    "#     doc = clean(doc)\n",
    "#     list_sentences = sent_tokenize(doc)\n",
    "#     doc_tokens = []\n",
    "#     for sentence in list_sentences:\n",
    "#         sentence = sentence.translate(str.maketrans('', '', string.punctuation))\n",
    "#         tokens = nltk.word_tokenize(sentence)\n",
    "#         tokens = clean_tokens_lemma(tokens)\n",
    "#         doc_tokens.extend(tokens)\n",
    "# #     print(doc_tokens)\n",
    "#     return (word for word in doc_tokens)     \n",
    "\n",
    "# def doc_tokens_lemma_woClean (doc):\n",
    "#     '''\n",
    "#     Perform lemmatization without any text cleaning\n",
    "#     '''\n",
    "#     list_sentences = sent_tokenize(doc)\n",
    "#     doc_tokens = []\n",
    "#     for sentence in list_sentences:\n",
    "#         tokens = nltk.word_tokenize(sentence)\n",
    "#         tokens = lemmatize_sent(tokens)\n",
    "#         doc_tokens.extend(tokens)\n",
    "# #     print(doc_tokens)\n",
    "#     return (word for word in doc_tokens)   \n",
    "\n",
    "# def doc_tokens_stem (doc):\n",
    "#     '''\n",
    "#     Clean full text using stemming. This function does not require split at sentence level.\n",
    "#     '''\n",
    "#     doc = clean(doc)\n",
    "#     doc = doc.translate(str.maketrans('', '', string.punctuation))\n",
    "#     tokens = nltk.word_tokenize(doc)\n",
    "#     lower_txt = [token.lower() for token in tokens]\n",
    "#     stem_tokens = [stemmer.stem(token) for token in lower_txt] \n",
    "#     remove_words = [token for token in stem_tokens if (not token.isdigit())\\\n",
    "#                      and (token not in combined_stopwords) and (len(token)>1)]\n",
    "#     return (word for word in remove_words)\n",
    "\n",
    "# def doc_tokens_stem_woClean (doc):\n",
    "#     '''\n",
    "#     Clean full text using stemming. This function does not require split at sentence level.\n",
    "#     '''\n",
    "#     tokens = nltk.word_tokenize(doc)\n",
    "#     lower_txt = [token.lower() for token in tokens]\n",
    "#     stem_tokens = [stemmer.stem(token) for token in lower_txt] \n",
    "#     return (word for word in stem_tokens)\n",
    "    \n",
    "# def doc_tokens (doc):\n",
    "#     '''\n",
    "#     Clean full text without any stemming or lemmatization\n",
    "#     '''\n",
    "#     doc = clean(doc)\n",
    "#     doc = doc.translate(str.maketrans('', '', string.punctuation))\n",
    "#     tokens = nltk.word_tokenize(doc)\n",
    "#     lower_txt = [token.lower() for token in tokens]\n",
    "#     remove_words = [token for token in lower_txt if (not token.isdigit())\\\n",
    "#                      and (token not in combined_stopwords) and (len(token)>1)]\n",
    "#     return (word for word in remove_words)\n",
    "    \n",
    "# def doc_tokens_woClean (doc):\n",
    "#     '''\n",
    "#     Clean full text using stemming. This function does not require split at sentence level.\n",
    "#     '''\n",
    "#     tokens = nltk.word_tokenize(doc)\n",
    "#     lower_txt = [token.lower() for token in tokens]\n",
    "#     return (word for word in lower_txt)"
   ]
  },
  {
   "cell_type": "code",
   "execution_count": 15,
   "id": "3d3b3d79",
   "metadata": {},
   "outputs": [],
   "source": [
    "#### IMP: still need to determine the right order of cleaning steps\n",
    "## Right now the order is --> clean html, remove_punctuation, lemmatize, remove digit, stopwords and chars\n",
    "\n",
    "## Building 6 analyzers for [clean, no clean]*[lemmatize, stem, no compression] combinations\n",
    "\n",
    "\n",
    "combined_stopwords = set.union(set(stop_words_en),set(punctuation),set(stop_words_skt))\n",
    "wnl = nltk.wordnet.WordNetLemmatizer()\n",
    "stemmer = nltk.stem.PorterStemmer()\n",
    "analyzer = CountVectorizer().build_analyzer()\n",
    "\n",
    "def penn2morphy(penntag):\n",
    "    \"\"\" \n",
    "    Converts Penn Treebank tags to WordNet. \n",
    "    \"\"\"\n",
    "    morphy_tag = {'NN':'n', 'JJ':'a',\n",
    "                  'VB':'v', 'RB':'r'}\n",
    "    try:\n",
    "        return morphy_tag[penntag[:2]]\n",
    "    except:\n",
    "        return 'n' \n",
    "\n",
    "def lemmatize_sent(list_word): \n",
    "    '''\n",
    "    Returns lemmatized set of tokens with pos tagging\n",
    "    '''\n",
    "    return [wnl.lemmatize(word.lower(), pos=penn2morphy(tag)) \n",
    "            for word, tag in pos_tag(list_word)]\n",
    "\n",
    "def clean_tokens_lemma (tokens: list):\n",
    "    '''\n",
    "    Cleans set of tokens at sentence level by applying lemmatization at sentence level\n",
    "    '''\n",
    "    lower_txt = [token.lower() for token in tokens]\n",
    "    remove_words = [token for token in lower_txt if (not token.isdigit())\\\n",
    "                     and (token not in combined_stopwords) and (len(token)>1)]\n",
    "    lemmatize_tokens = lemmatize_sent(remove_words) \n",
    "    return lemmatize_tokens\n",
    "\n",
    "def doc_tokens_lemma (doc):\n",
    "    '''\n",
    "    Split the document at sentence level, clean it and return clean set of tokens at doc level\n",
    "    '''\n",
    "    doc = clean(doc)\n",
    "    list_sentences = sent_tokenize(doc)\n",
    "    doc_tokens = []\n",
    "    for sentence in list_sentences:\n",
    "        sentence = sentence.translate(str.maketrans('', '', string.punctuation))\n",
    "        tokens = nltk.word_tokenize(sentence)\n",
    "        tokens = clean_tokens_lemma(tokens)\n",
    "        doc_tokens.extend(tokens)\n",
    "#     print(doc_tokens)\n",
    "    return (word for word in doc_tokens)     \n",
    "\n",
    "def doc_tokens_lemma_woClean (doc):\n",
    "    '''\n",
    "    Perform lemmatization without any text cleaning\n",
    "    '''\n",
    "    list_sentences = sent_tokenize(doc)\n",
    "    doc_tokens = []\n",
    "    for sentence in list_sentences:\n",
    "        tokens = nltk.word_tokenize(sentence)\n",
    "        tokens = lemmatize_sent(tokens)\n",
    "        doc_tokens.extend(tokens)\n",
    "#     print(doc_tokens)\n",
    "    return (word for word in doc_tokens)   \n",
    "\n",
    "def doc_tokens_stem (doc):\n",
    "    '''\n",
    "    Clean full text using stemming. This function does not require split at sentence level.\n",
    "    '''\n",
    "    doc = clean(doc)\n",
    "    doc = doc.translate(str.maketrans('', '', string.punctuation))\n",
    "    tokens = nltk.word_tokenize(doc)\n",
    "    lower_txt = [token.lower() for token in tokens]\n",
    "    remove_words = [token for token in lower_txt if (not token.isdigit())\\\n",
    "                     and (token not in combined_stopwords) and (len(token)>1)]\n",
    "    stem_tokens = [stemmer.stem(token) for token in remove_words] \n",
    "    return (word for word in stem_tokens)\n",
    "\n",
    "def doc_tokens_stem_woClean (doc):\n",
    "    '''\n",
    "    Clean full text using stemming. This function does not require split at sentence level.\n",
    "    '''\n",
    "    tokens = nltk.word_tokenize(doc)\n",
    "    lower_txt = [token.lower() for token in tokens]\n",
    "    stem_tokens = [stemmer.stem(token) for token in lower_txt] \n",
    "    return (word for word in stem_tokens)\n",
    "    \n",
    "def doc_tokens (doc):\n",
    "    '''\n",
    "    Clean full text without any stemming or lemmatization\n",
    "    '''\n",
    "    doc = clean(doc)\n",
    "    doc = doc.translate(str.maketrans('', '', string.punctuation))\n",
    "    tokens = nltk.word_tokenize(doc)\n",
    "    lower_txt = [token.lower() for token in tokens]\n",
    "    remove_words = [token for token in lower_txt if (not token.isdigit())\\\n",
    "                     and (token not in combined_stopwords) and (len(token)>1)]\n",
    "    return (word for word in remove_words)\n",
    "    \n",
    "def doc_tokens_woClean (doc):\n",
    "    '''\n",
    "    Clean full text using stemming. This function does not require split at sentence level.\n",
    "    '''\n",
    "    tokens = nltk.word_tokenize(doc)\n",
    "    lower_txt = [token.lower() for token in tokens]\n",
    "    return (word for word in lower_txt)"
   ]
  },
  {
   "cell_type": "code",
   "execution_count": 16,
   "id": "10ac7476",
   "metadata": {},
   "outputs": [],
   "source": [
    "## stemming vs lemmatization"
   ]
  },
  {
   "cell_type": "code",
   "execution_count": 17,
   "id": "556dbc5f",
   "metadata": {},
   "outputs": [
    {
     "name": "stdout",
     "output_type": "stream",
     "text": [
      "Lemmatization dictionary size is:  10614\n"
     ]
    }
   ],
   "source": [
    "count_vectorizer_lemma = CountVectorizer(min_df=3, stop_words='english', analyzer=doc_tokens_lemma, max_df=0.7)\n",
    "X_train_counts = count_vectorizer_lemma.fit_transform(train['full_text'])\n",
    "print(\"Lemmatization dictionary size is: \", X_train_counts.shape[1])"
   ]
  },
  {
   "cell_type": "code",
   "execution_count": 18,
   "id": "7d701e46",
   "metadata": {},
   "outputs": [
    {
     "name": "stdout",
     "output_type": "stream",
     "text": [
      "Stemming dictionary size is:  9351\n"
     ]
    }
   ],
   "source": [
    "count_vectorizer_stem = CountVectorizer(min_df=3, stop_words='english', analyzer=doc_tokens_stem, max_df=0.7)\n",
    "X_train_counts = count_vectorizer_stem.fit_transform(train['full_text'])\n",
    "print(\"Stemming dictionary size is: \", X_train_counts.shape[1])"
   ]
  },
  {
   "cell_type": "code",
   "execution_count": 19,
   "id": "1f6bef06",
   "metadata": {},
   "outputs": [],
   "source": [
    "# impact of minimum data frequency on tf-idf"
   ]
  },
  {
   "cell_type": "code",
   "execution_count": 20,
   "id": "36ac477d",
   "metadata": {},
   "outputs": [
    {
     "name": "stdout",
     "output_type": "stream",
     "text": [
      "(1657, 34414)\n",
      "(1657, 15324)\n",
      "(1657, 10614)\n",
      "(1657, 8331)\n"
     ]
    }
   ],
   "source": [
    "min_dfs = range(1,5)\n",
    "for min_df in min_dfs:\n",
    "    count_vectorizer1 = CountVectorizer(min_df=min_df, stop_words='english', analyzer=doc_tokens_lemma, max_df=0.7)\n",
    "    X_train_counts1 = count_vectorizer1.fit_transform(train['full_text'])\n",
    "    \n",
    "    transformer1 = TfidfTransformer()\n",
    "    X_train_tfidf = transformer1.fit_transform(X_train_counts1)\n",
    "    \n",
    "    print(X_train_tfidf.shape)"
   ]
  },
  {
   "cell_type": "code",
   "execution_count": 21,
   "id": "c5f33f1a",
   "metadata": {},
   "outputs": [
    {
     "name": "stdout",
     "output_type": "stream",
     "text": [
      "(1657, 29305)\n",
      "(1657, 13329)\n",
      "(1657, 9351)\n",
      "(1657, 7434)\n"
     ]
    }
   ],
   "source": [
    "min_dfs = range(1,5)\n",
    "for min_df in min_dfs:\n",
    "    count_vectorizer1 = CountVectorizer(min_df=min_df, stop_words='english', analyzer=doc_tokens_stem, max_df=0.7)\n",
    "    X_train_counts1 = count_vectorizer1.fit_transform(train['full_text'])\n",
    "    \n",
    "    transformer1 = TfidfTransformer()\n",
    "    X_train_tfidf = transformer1.fit_transform(X_train_counts1)\n",
    "    \n",
    "    print(X_train_tfidf.shape)"
   ]
  },
  {
   "cell_type": "code",
   "execution_count": 22,
   "id": "4ac0c204",
   "metadata": {},
   "outputs": [],
   "source": [
    "## tf-idf processed train and test"
   ]
  },
  {
   "cell_type": "code",
   "execution_count": 23,
   "id": "3902f67b",
   "metadata": {},
   "outputs": [
    {
     "name": "stdout",
     "output_type": "stream",
     "text": [
      "TF-IDF processed train data shape: (1657, 10614)\n",
      "TF-IDF processed test data shape: (415, 10614)\n"
     ]
    }
   ],
   "source": [
    "count_vectorizer = CountVectorizer(min_df=3, stop_words='english', analyzer=doc_tokens_lemma, max_df=0.7)\n",
    "transformer = TfidfTransformer()\n",
    "\n",
    "X_train_counts = count_vectorizer.fit_transform(train['full_text'])\n",
    "X_train_tfidf = transformer.fit_transform(X_train_counts)\n",
    "\n",
    "X_test_counts = count_vectorizer.transform(test['full_text'])\n",
    "X_test_tfidf = transformer.transform(X_test_counts)\n",
    "\n",
    "print('TF-IDF processed train data shape:', X_train_tfidf.shape)\n",
    "print('TF-IDF processed test data shape:', X_test_tfidf.shape)"
   ]
  },
  {
   "cell_type": "markdown",
   "id": "42d67c5d",
   "metadata": {},
   "source": [
    "## Question 4"
   ]
  },
  {
   "cell_type": "code",
   "execution_count": 24,
   "id": "61a98f9b",
   "metadata": {
    "scrolled": true
   },
   "outputs": [
    {
     "data": {
      "image/png": "[encoded data removed]",
      "text/plain": [
       "<Figure size 432x288 with 1 Axes>"
      ]
     },
     "metadata": {
      "needs_background": "light"
     },
     "output_type": "display_data"
    }
   ],
   "source": [
    "from sklearn.decomposition import TruncatedSVD\n",
    "# Run LSI for various k values\n",
    "k_list = [1,10,50,100,200,500,1000,2000]\n",
    "explained_ratio = []\n",
    "for k in k_list:\n",
    "    svd = TruncatedSVD(n_components=k, n_iter = 20, random_state=42)\n",
    "    svd.fit(X_train_tfidf)\n",
    "    # print(svd.explained_variance_ratio_.sum())\n",
    "    explained_ratio.append(svd.explained_variance_ratio_.sum())\n",
    "\n",
    "# plotting the explained variance ratio across number of components\n",
    "plt.plot(k_list, explained_ratio)\n",
    "plt.xlabel('n_components')\n",
    "plt.ylabel('explained_variance_ratio')\n",
    "plt.title('LSI')\n",
    "plt.show()"
   ]
  },
  {
   "cell_type": "code",
   "execution_count": 25,
   "id": "f6d0ce9f",
   "metadata": {},
   "outputs": [],
   "source": [
    "# reconstruction residual"
   ]
  },
  {
   "cell_type": "code",
   "execution_count": 26,
   "id": "df2036b0",
   "metadata": {},
   "outputs": [],
   "source": [
    "SVD_50 = TruncatedSVD(n_components=50, n_iter = 20, random_state=42)\n",
    "X_train_lsi = SVD_50.fit_transform(X_train_tfidf)\n",
    "X_test_lsi = SVD_50.transform(X_test_tfidf)\n"
   ]
  },
  {
   "cell_type": "code",
   "execution_count": 27,
   "id": "3eb4fbef",
   "metadata": {},
   "outputs": [],
   "source": [
    "## For NMF\n",
    "from sklearn.decomposition import NMF\n",
    "\n",
    "NMF_50 = NMF(n_components=50, max_iter = 500, init='random', random_state=42)\n",
    "X_train_nmf = NMF_50.fit_transform(X_train_tfidf)\n",
    "X_test_nmf = NMF_50.transform(X_test_tfidf)"
   ]
  },
  {
   "cell_type": "code",
   "execution_count": 28,
   "id": "01682969",
   "metadata": {},
   "outputs": [
    {
     "name": "stdout",
     "output_type": "stream",
     "text": [
      "6.76606675295168e-05 6.887317580393173e-05 1189.9750887872885 303.3732535129165\n"
     ]
    }
   ],
   "source": [
    "VT = SVD_50.components_\n",
    "X_train_svd_recons = np.matmul(X_train_lsi, VT)\n",
    "norm_train = ((X_train_tfidf.toarray() - X_train_svd_recons)**2).sum(axis = None)\n",
    "mse_train = ((X_train_tfidf.toarray() - X_train_svd_recons)**2).mean(axis = None)\n",
    "X_test_svd_recons = np.matmul(X_test_lsi, VT)\n",
    "norm_test = ((X_test_tfidf.toarray() - X_test_svd_recons)**2).sum(axis = None)\n",
    "mse_test = ((X_test_tfidf.toarray() - X_test_svd_recons)**2).mean(axis = None)\n",
    "print(mse_train, mse_test, norm_train, norm_test)"
   ]
  },
  {
   "cell_type": "code",
   "execution_count": 29,
   "id": "77cb5fc9",
   "metadata": {},
   "outputs": [
    {
     "name": "stdout",
     "output_type": "stream",
     "text": [
      "6.88559382854776e-05 6.9468066093233e-05 1210.996791290132 305.99363220813365\n"
     ]
    }
   ],
   "source": [
    "H = NMF_50.components_\n",
    "X_train_nmf_recons = np.matmul(X_train_nmf, H)\n",
    "norm_train = ((X_train_tfidf.toarray() - X_train_nmf_recons)**2).sum(axis = None)\n",
    "mse_train = ((X_train_tfidf.toarray() - X_train_nmf_recons)**2).mean(axis = None)\n",
    "X_test_nmf_recons = np.matmul(X_test_nmf, H)\n",
    "norm_test = ((X_test_tfidf.toarray() - X_test_nmf_recons)**2).sum(axis = None)\n",
    "mse_test = ((X_test_tfidf.toarray() - X_test_nmf_recons)**2).mean(axis = None)\n",
    "print(mse_train, mse_test, norm_train, norm_test)\n"
   ]
  },
  {
   "cell_type": "markdown",
   "id": "ddc62653",
   "metadata": {},
   "source": [
    "Why?\n",
    "\n",
    "Both NMF and SVD represent a set of vectors in a given basis. The basis in NMF is composed of vectors with positive elements while the basis in SVD can have positive or negative values.\n",
    "\n",
    "The difference then is that NMF reconstructs each vector as a positive summation of the basis vectors, in other words you take a little of each vector in the basis to reconstruct your data.\n",
    "\n",
    "In SVD the data is modeled as a linear combination of the basis you can add or substract vectors as needed."
   ]
  },
  {
   "cell_type": "markdown",
   "id": "5c19e068",
   "metadata": {},
   "source": [
    "## Question 5"
   ]
  },
  {
   "cell_type": "code",
   "execution_count": 30,
   "id": "f955f062",
   "metadata": {},
   "outputs": [],
   "source": [
    "## Data pre-processing\n",
    "from sklearn.preprocessing import LabelEncoder, StandardScaler\n",
    "label_encoder = LabelEncoder()\n",
    "\n",
    "## train model\n",
    "y_train = label_encoder.fit_transform(train['root_label'])\n",
    "y_test = label_encoder.fit_transform(test['root_label'])"
   ]
  },
  {
   "cell_type": "markdown",
   "id": "08660bb6",
   "metadata": {},
   "source": [
    "### Train SVM model"
   ]
  },
  {
   "cell_type": "code",
   "execution_count": 31,
   "id": "7615faac",
   "metadata": {},
   "outputs": [
    {
     "data": {
      "text/plain": [
       "SVC(C=0.0001, kernel='linear', random_state=42)"
      ]
     },
     "execution_count": 31,
     "metadata": {},
     "output_type": "execute_result"
    }
   ],
   "source": [
    "# train linear SVM\n",
    "\n",
    "from sklearn.svm import SVC\n",
    "\n",
    "svm_hard = SVC(kernel='linear', C=1000, random_state=42)\n",
    "svm_soft = SVC(kernel='linear', C=0.0001, random_state=42)\n",
    "\n",
    "svm_hard.fit(X_train_lsi, y_train)\n",
    "svm_soft.fit(X_train_lsi, y_train)"
   ]
  },
  {
   "cell_type": "code",
   "execution_count": 32,
   "id": "7f0b2024",
   "metadata": {},
   "outputs": [],
   "source": [
    "# plot ROC\n",
    "from sklearn import metrics\n",
    "\n",
    "def plot_ROC(fpr,tpr):\n",
    "    fig = plt.figure()\n",
    "    roc_auc = metrics.auc(fpr,tpr)\n",
    "    plt.plot(fpr,tpr,label=\"area under curve = %0.3f\" %roc_auc)\n",
    "    plt.xlabel('False positive rate',fontsize=10)\n",
    "    plt.ylabel('True positive rate',fontsize=10)\n",
    "    plt.grid()\n",
    "    plt.legend()\n",
    "    plt.savefig('plot.png')\n",
    "    return roc_auc\n",
    "    "
   ]
  },
  {
   "cell_type": "code",
   "execution_count": 33,
   "id": "01f4d7af",
   "metadata": {},
   "outputs": [
    {
     "data": {
      "image/png": "[encoded data removed]",
      "text/plain": [
       "<Figure size 432x288 with 1 Axes>"
      ]
     },
     "metadata": {
      "needs_background": "light"
     },
     "output_type": "display_data"
    }
   ],
   "source": [
    "# plot ROC curve for svm_hard\n",
    "score_hard = svm_hard.decision_function(X_test_lsi)\n",
    "fpr_hard,tpr_hard,_ = metrics.roc_curve(y_test,score_hard)\n",
    "auc_hard = plot_ROC(fpr_hard,tpr_hard)"
   ]
  },
  {
   "cell_type": "code",
   "execution_count": 34,
   "id": "16830124",
   "metadata": {},
   "outputs": [
    {
     "data": {
      "image/png": "[encoded data removed]",
      "text/plain": [
       "<Figure size 432x288 with 1 Axes>"
      ]
     },
     "metadata": {
      "needs_background": "light"
     },
     "output_type": "display_data"
    }
   ],
   "source": [
    "# plot ROC curve for svm_hard\n",
    "score_soft = svm_soft.decision_function(X_test_lsi)\n",
    "fpr_soft,tpr_soft,_ = metrics.roc_curve(y_test,score_soft)\n",
    "auc_soft = plot_ROC(fpr_soft,tpr_soft)"
   ]
  },
  {
   "cell_type": "code",
   "execution_count": 35,
   "id": "c737d346",
   "metadata": {},
   "outputs": [
    {
     "name": "stdout",
     "output_type": "stream",
     "text": [
      "SVM_hard is better\n"
     ]
    }
   ],
   "source": [
    "# comparison\n",
    "if auc_hard > auc_soft:\n",
    "    print('SVM_hard is better')\n",
    "else:\n",
    "    print('SVM_soft is better')"
   ]
  },
  {
   "cell_type": "code",
   "execution_count": 36,
   "id": "7c0353ef",
   "metadata": {},
   "outputs": [
    {
     "data": {
      "text/plain": [
       "SVC(C=100000, kernel='linear', random_state=42)"
      ]
     },
     "execution_count": 36,
     "metadata": {},
     "output_type": "execute_result"
    }
   ],
   "source": [
    "svm_veryHard = SVC(kernel='linear', C=100000, random_state=42)\n",
    "svm_veryHard.fit(X_train_lsi, y_train)"
   ]
  },
  {
   "cell_type": "code",
   "execution_count": 37,
   "id": "ff4f584f",
   "metadata": {},
   "outputs": [
    {
     "data": {
      "image/png": "[encoded data removed]",
      "text/plain": [
       "<Figure size 432x288 with 1 Axes>"
      ]
     },
     "metadata": {
      "needs_background": "light"
     },
     "output_type": "display_data"
    }
   ],
   "source": [
    "# plot ROC curve for svm_veryHard\n",
    "score_veryHard = svm_veryHard.decision_function(X_test_lsi)\n",
    "fpr_veryHard,tpr_veryHard,_ = metrics.roc_curve(y_test,score_veryHard)\n",
    "auc_veryHard = plot_ROC(fpr_veryHard,tpr_veryHard)"
   ]
  },
  {
   "cell_type": "code",
   "execution_count": 38,
   "id": "6d9e9984",
   "metadata": {},
   "outputs": [],
   "source": [
    "def evaluation(classifier,test_data,y_test):\n",
    "    y_test_pred = classifier.predict(test_data)\n",
    "    print('-'*20)\n",
    "    print(\"Confusion matrix on test set is: \")\n",
    "    print(metrics.confusion_matrix(y_test, y_test_pred))\n",
    "    print('-'*20)\n",
    "    print('-'*20)\n",
    "    print(\"Performance metrics on test set is: \")\n",
    "    print (\"Precision is: \", metrics.precision_score(y_test, y_test_pred))\n",
    "    print (\"Recall is: \", metrics.recall_score(y_test, y_test_pred))\n",
    "    print (\"Accuracy is: \", metrics.accuracy_score(y_test, y_test_pred))\n",
    "    print (\"F1 score is: \", metrics.f1_score(y_test, y_test_pred))\n",
    "    print('-'*20)"
   ]
  },
  {
   "cell_type": "code",
   "execution_count": 39,
   "id": "908a43c5",
   "metadata": {},
   "outputs": [
    {
     "name": "stdout",
     "output_type": "stream",
     "text": [
      "Performance of SVM hard\n",
      "________________________________________\n",
      "--------------------\n",
      "Confusion matrix on test set is: \n",
      "[[199   7]\n",
      " [  3 206]]\n",
      "--------------------\n",
      "--------------------\n",
      "Performance metrics on test set is: \n",
      "Precision is:  0.9671361502347418\n",
      "Recall is:  0.9856459330143541\n",
      "Accuracy is:  0.9759036144578314\n",
      "F1 score is:  0.976303317535545\n",
      "--------------------\n",
      "____________________________________________________________\n",
      "Performance of SVM soft\n",
      "________________________________________\n",
      "--------------------\n",
      "Confusion matrix on test set is: \n",
      "[[206   0]\n",
      " [209   0]]\n",
      "--------------------\n",
      "--------------------\n",
      "Performance metrics on test set is: \n",
      "Precision is:  0.0\n",
      "Recall is:  0.0\n",
      "Accuracy is:  0.4963855421686747\n",
      "F1 score is:  0.0\n",
      "--------------------\n"
     ]
    },
    {
     "name": "stderr",
     "output_type": "stream",
     "text": [
      "/home/shivam/.local/lib/python3.8/site-packages/sklearn/metrics/_classification.py:1308: UndefinedMetricWarning: Precision is ill-defined and being set to 0.0 due to no predicted samples. Use `zero_division` parameter to control this behavior.\n",
      "  _warn_prf(average, modifier, msg_start, len(result))\n"
     ]
    }
   ],
   "source": [
    "print(\"Performance of SVM hard\")\n",
    "print('_' * 40)\n",
    "evaluation(svm_hard,X_test_lsi,y_test)\n",
    "print('_' * 60)\n",
    "print(\"Performance of SVM soft\")\n",
    "print('_' * 40)\n",
    "evaluation(svm_soft,X_test_lsi,y_test)"
   ]
  },
  {
   "cell_type": "markdown",
   "id": "58b05ebd",
   "metadata": {},
   "source": [
    "### Use cross-validation to choose $\\gamma$"
   ]
  },
  {
   "cell_type": "code",
   "execution_count": 40,
   "id": "91a346bf",
   "metadata": {},
   "outputs": [
    {
     "name": "stdout",
     "output_type": "stream",
     "text": [
      "-------------------- C = 0.001 --------------------\n",
      "[0.47289157 0.48795181 0.50151057 0.46223565 0.50151057]\n",
      "0.4852200342154115\n",
      "-------------------- C = 0.01 --------------------\n",
      "[0.47289157 0.48795181 0.50151057 0.46223565 0.50151057]\n",
      "0.4852200342154115\n",
      "-------------------- C = 0.1 --------------------\n",
      "[0.96084337 0.94879518 0.9305136  0.9244713  0.93655589]\n",
      "0.9402358679430713\n",
      "-------------------- C = 1 --------------------\n",
      "[0.96084337 0.94879518 0.94561934 0.92749245 0.95166163]\n",
      "0.9468823936228297\n",
      "-------------------- C = 10 --------------------\n",
      "[0.96987952 0.96084337 0.95770393 0.93353474 0.95468278]\n",
      "0.9553288683434644\n",
      "-------------------- C = 100 --------------------\n",
      "[0.96385542 0.95783133 0.95770393 0.94259819 0.95468278]\n",
      "0.9553343282495541\n",
      "-------------------- C = 1000 --------------------\n",
      "[0.96084337 0.94578313 0.96374622 0.94561934 0.93957704]\n",
      "0.9511138208422816\n",
      "-------------------- C = 10000 --------------------\n",
      "[0.95783133 0.94277108 0.95770393 0.93655589 0.93655589]\n",
      "0.9462836239216685\n",
      "-------------------- C = 100000 --------------------\n",
      "[0.95783133 0.93975904 0.96072508 0.93957704 0.94259819]\n",
      "0.9480981327121174\n",
      "-------------------- C = 1000000 --------------------\n",
      "[0.95783133 0.93975904 0.96072508 0.93957704 0.94259819]\n",
      "0.9480981327121174\n",
      "-------------------- Result --------------------\n",
      "The best classifier is when C = 100\n",
      "Average Accuracy is: 0.9553343282495541\n"
     ]
    }
   ],
   "source": [
    "from sklearn.model_selection import cross_val_score\n",
    "from sklearn.model_selection import ShuffleSplit\n",
    "from sklearn.model_selection import KFold\n",
    "\n",
    "def cross_validate(classifier, train, label):\n",
    "    avg_score = []\n",
    "\n",
    "    for k in range(-3, 7):\n",
    "        classifier.set_params(C=10**k).fit(train, label)\n",
    "        cv = KFold(n_splits=5, random_state=42,shuffle=True)\n",
    "        scores = cross_val_score(classifier, train, label, cv=cv, scoring='accuracy', n_jobs = -1)\n",
    "    \n",
    "        print('-'*20,'C =',10**k,'-'*20)\n",
    "        print(scores)\n",
    "        print(np.average(scores))\n",
    "        avg_score.append(np.average(scores))\n",
    "\n",
    "    max_score = np.max(avg_score)\n",
    "    index = avg_score.index(max_score)\n",
    "    c_idx = [x for x in range(-3,4)][index]\n",
    "    print('-'*20,'Result','-'*20)\n",
    "    print('The best classifier is when C =', 10**c_idx)\n",
    "    print('Average Accuracy is:', max_score)\n",
    "    \n",
    "    return classifier.set_params(C=10**c_idx).fit(train,label)\n",
    "\n",
    "svm_best = cross_validate(SVC(kernel='linear', random_state=42), X_train_lsi, y_train)\n"
   ]
  },
  {
   "cell_type": "markdown",
   "id": "e2bb8d83",
   "metadata": {},
   "source": [
    "##### The best $\\gamma$ for SVM is c = 10 "
   ]
  },
  {
   "cell_type": "code",
   "execution_count": 41,
   "id": "144ec640",
   "metadata": {},
   "outputs": [
    {
     "name": "stdout",
     "output_type": "stream",
     "text": [
      "auc_best:0.9940\n"
     ]
    },
    {
     "data": {
      "image/png": "[encoded data removed]",
      "text/plain": [
       "<Figure size 432x288 with 1 Axes>"
      ]
     },
     "metadata": {
      "needs_background": "light"
     },
     "output_type": "display_data"
    }
   ],
   "source": [
    "# plot ROC curve for svm_best\n",
    "svm_best_train = SVC(kernel='linear', C=10, random_state=42)\n",
    "svm_best_train.fit(X_train_lsi, y_train)\n",
    "score_best = svm_best.decision_function(X_test_lsi)\n",
    "fpr_best,tpr_best,_ = metrics.roc_curve(y_test,score_best)\n",
    "auc_best = plot_ROC(fpr_soft,tpr_soft)\n",
    "print(\"auc_best:%0.4f\" % auc_best)"
   ]
  },
  {
   "cell_type": "code",
   "execution_count": 42,
   "id": "9c69ff60",
   "metadata": {},
   "outputs": [
    {
     "name": "stdout",
     "output_type": "stream",
     "text": [
      "Performance of SVM soft\n",
      "________________________________________\n",
      "--------------------\n",
      "Confusion matrix on test set is: \n",
      "[[199   7]\n",
      " [  3 206]]\n",
      "--------------------\n",
      "--------------------\n",
      "Performance metrics on test set is: \n",
      "Precision is:  0.9671361502347418\n",
      "Recall is:  0.9856459330143541\n",
      "Accuracy is:  0.9759036144578314\n",
      "F1 score is:  0.976303317535545\n",
      "--------------------\n"
     ]
    }
   ],
   "source": [
    "## evaluate this svm_best model\n",
    "print(\"Performance of SVM soft\")\n",
    "print('_' * 40)\n",
    "evaluation(svm_best,X_test_lsi,y_test)\n"
   ]
  },
  {
   "cell_type": "markdown",
   "id": "34a6f4f1",
   "metadata": {},
   "source": [
    "## Question 6"
   ]
  },
  {
   "cell_type": "code",
   "execution_count": 43,
   "id": "bdbfd157",
   "metadata": {},
   "outputs": [],
   "source": [
    "from sklearn.linear_model import LogisticRegression\n",
    "from sklearn.metrics import classification_report\n",
    "\n",
    "logistic = LogisticRegression(penalty = 'none',solver = 'saga', max_iter=10000)\n",
    "logistic.fit(X_train_lsi, y_train)\n",
    "\n",
    "\n",
    "y_test_pred = logistic.predict(X_test_lsi)\n"
   ]
  },
  {
   "cell_type": "code",
   "execution_count": 44,
   "id": "bce5c5a8",
   "metadata": {},
   "outputs": [
    {
     "name": "stdout",
     "output_type": "stream",
     "text": [
      "auc_best:0.9940\n"
     ]
    },
    {
     "data": {
      "image/png": "[encoded data removed]",
      "text/plain": [
       "<Figure size 432x288 with 1 Axes>"
      ]
     },
     "metadata": {
      "needs_background": "light"
     },
     "output_type": "display_data"
    }
   ],
   "source": [
    "# plot ROC curve for logistic regression\n",
    "y_test_pred_prob = logistic.predict_proba(X_test_lsi)[::,1]\n",
    "fpr_best,tpr_best,_ = metrics.roc_curve(y_test,y_test_pred_prob)\n",
    "auc_best = plot_ROC(fpr_soft,tpr_soft)\n",
    "print(\"auc_best:%0.4f\" % auc_best)"
   ]
  },
  {
   "cell_type": "code",
   "execution_count": 45,
   "id": "0b717b2a",
   "metadata": {},
   "outputs": [
    {
     "name": "stdout",
     "output_type": "stream",
     "text": [
      "Performance of Logistic regression without regularisation\n",
      "________________________________________\n",
      "--------------------\n",
      "Confusion matrix on test set is: \n",
      "[[199   7]\n",
      " [  3 206]]\n",
      "--------------------\n",
      "--------------------\n",
      "Performance metrics on test set is: \n",
      "Precision is:  0.9671361502347418\n",
      "Recall is:  0.9856459330143541\n",
      "Accuracy is:  0.9759036144578314\n",
      "F1 score is:  0.976303317535545\n",
      "--------------------\n"
     ]
    }
   ],
   "source": [
    "print(\"Performance of Logistic regression without regularisation\")\n",
    "print('_' * 40)\n",
    "evaluation(logistic,X_test_lsi,y_test)"
   ]
  },
  {
   "cell_type": "code",
   "execution_count": 46,
   "id": "fad40677",
   "metadata": {},
   "outputs": [],
   "source": [
    "## find optimal regularisation strength for L1 and L2 regularisation"
   ]
  },
  {
   "cell_type": "code",
   "execution_count": 47,
   "id": "45eac836",
   "metadata": {},
   "outputs": [],
   "source": [
    "def cross_validate_logistic(classifier, train, label):\n",
    "    avg_score = []\n",
    "\n",
    "    for k in range(-4, 5):\n",
    "        classifier.set_params(C=10**k).fit(train, label)\n",
    "        cv = KFold(n_splits=5, random_state=42,shuffle=True)\n",
    "        scores = cross_val_score(classifier, train, label, cv=cv, scoring='accuracy', n_jobs = -1)\n",
    "    \n",
    "        print('-'*20,'C =',10**k,'-'*20)\n",
    "        print(scores)\n",
    "        print(np.average(scores))\n",
    "        avg_score.append(np.average(scores))\n",
    "\n",
    "    max_score = np.max(avg_score)\n",
    "    index = avg_score.index(max_score)\n",
    "    c_idx = [x for x in range(-3,4)][index]\n",
    "    print('-'*20,'Result','-'*20)\n",
    "    print('The best classifier is when C =', 10**c_idx)\n",
    "    print('Average Accuracy is:', max_score)\n",
    "    \n",
    "    return classifier.set_params(C=10**c_idx).fit(train,label)\n",
    "\n",
    "\n"
   ]
  },
  {
   "cell_type": "code",
   "execution_count": 48,
   "id": "8ce14719",
   "metadata": {},
   "outputs": [
    {
     "name": "stdout",
     "output_type": "stream",
     "text": [
      "-------------------- C = 0.0001 --------------------\n",
      "[0.47289157 0.51204819 0.49848943 0.46223565 0.50151057]\n",
      "0.4894350817165945\n",
      "-------------------- C = 0.001 --------------------\n",
      "[0.52710843 0.48795181 0.50151057 0.46223565 0.50151057]\n",
      "0.4960634077093874\n",
      "-------------------- C = 0.01 --------------------\n",
      "[0.52710843 0.51204819 0.50151057 0.53776435 0.50151057]\n",
      "0.51598842499909\n",
      "-------------------- C = 0.1 --------------------\n",
      "[0.9186747  0.93072289 0.918429   0.88217523 0.88821752]\n",
      "0.9076438685254613\n",
      "-------------------- C = 1 --------------------\n",
      "[0.96686747 0.96385542 0.96676737 0.93655589 0.93957704]\n",
      "0.9547246387362136\n",
      "-------------------- C = 10 --------------------\n",
      "[0.96987952 0.96987952 0.96676737 0.95166163 0.95468278]\n",
      "0.962574163724384\n",
      "-------------------- C = 100 --------------------\n",
      "[0.96987952 0.95180723 0.96072508 0.95166163 0.93957704]\n",
      "0.9547300986423032\n",
      "-------------------- C = 1000 --------------------\n",
      "[0.96686747 0.95180723 0.96072508 0.95166163 0.94259819]\n",
      "0.9547319186109998\n",
      "-------------------- C = 10000 --------------------\n",
      "[0.96686747 0.95180723 0.96072508 0.95166163 0.94259819]\n",
      "0.9547319186109998\n",
      "-------------------- Result --------------------\n",
      "The best classifier is when C = 100\n",
      "Average Accuracy is: 0.962574163724384\n"
     ]
    }
   ],
   "source": [
    "logisticL1_best = cross_validate_logistic(LogisticRegression(penalty = 'l1', solver='saga', max_iter=10000), X_train_lsi, y_train)\n",
    "\n"
   ]
  },
  {
   "cell_type": "code",
   "execution_count": 49,
   "id": "8c5f7298",
   "metadata": {},
   "outputs": [
    {
     "name": "stdout",
     "output_type": "stream",
     "text": [
      "-------------------- C = 0.0001 --------------------\n",
      "[0.47289157 0.48795181 0.50151057 0.46223565 0.50151057]\n",
      "0.4852200342154115\n",
      "-------------------- C = 0.001 --------------------\n",
      "[0.47289157 0.79819277 0.96374622 0.46223565 0.92749245]\n",
      "0.7249117315182179\n",
      "-------------------- C = 0.01 --------------------\n",
      "[0.90963855 0.93975904 0.94561934 0.85800604 0.92145015]\n",
      "0.9148946238124704\n",
      "-------------------- C = 0.1 --------------------\n",
      "[0.95783133 0.94879518 0.95166163 0.91540785 0.93655589]\n",
      "0.9420503767335202\n",
      "-------------------- C = 1 --------------------\n",
      "[0.96686747 0.96686747 0.95770393 0.9305136  0.95770393]\n",
      "0.9559312779820187\n",
      "-------------------- C = 10 --------------------\n",
      "[0.96987952 0.96686747 0.96676737 0.93655589 0.95166163]\n",
      "0.9583463764423252\n",
      "-------------------- C = 100 --------------------\n",
      "[0.96987952 0.96084337 0.96676737 0.95166163 0.95770393]\n",
      "0.9613711644159719\n",
      "-------------------- C = 1000 --------------------\n",
      "[0.97289157 0.95481928 0.96072508 0.94864048 0.94259819]\n",
      "0.9559349179194117\n",
      "-------------------- C = 10000 --------------------\n",
      "[0.96686747 0.95180723 0.96072508 0.95166163 0.93957704]\n",
      "0.9541276890037491\n",
      "-------------------- Result --------------------\n",
      "The best classifier is when C = 1000\n",
      "Average Accuracy is: 0.9613711644159719\n"
     ]
    }
   ],
   "source": [
    "logisticL2_best = cross_validate_logistic(LogisticRegression(penalty = 'l2', solver='saga', max_iter=10000), X_train_lsi, y_train)\n",
    "\n"
   ]
  },
  {
   "cell_type": "code",
   "execution_count": 50,
   "id": "bce8affb",
   "metadata": {},
   "outputs": [
    {
     "name": "stdout",
     "output_type": "stream",
     "text": [
      "Optimal regularisation strength for Logistic regression with L1 regularisation is 100\n",
      "Optimal regularisation strength for Logistic regression with L2 regularisation is 1000\n"
     ]
    }
   ],
   "source": [
    "print('Optimal regularisation strength for Logistic \\\n",
    "regression with L1 regularisation is 100')\n",
    "print('Optimal regularisation strength for Logistic \\\n",
    "regression with L2 regularisation is 1000')"
   ]
  },
  {
   "cell_type": "code",
   "execution_count": 51,
   "id": "64a0b350",
   "metadata": {},
   "outputs": [
    {
     "data": {
      "text/plain": [
       "LogisticRegression(C=1000, max_iter=10000, solver='saga')"
      ]
     },
     "execution_count": 51,
     "metadata": {},
     "output_type": "execute_result"
    }
   ],
   "source": [
    "# fit model on entire train dataset\n",
    "logisticL1 = LogisticRegression(penalty = 'l1', solver='saga', max_iter=10000, C=100)\n",
    "logisticL2 = LogisticRegression(penalty = 'l2', solver='saga', max_iter=10000, C=1000)\n",
    "logisticL1.fit(X_train_lsi,y_train)\n",
    "logisticL2.fit(X_train_lsi,y_train)"
   ]
  },
  {
   "cell_type": "code",
   "execution_count": 52,
   "id": "adb4cf8e",
   "metadata": {},
   "outputs": [
    {
     "name": "stdout",
     "output_type": "stream",
     "text": [
      "Performance of Logistic w/o regularisation is: \n",
      "________________________________________\n",
      "--------------------\n",
      "Confusion matrix on test set is: \n",
      "[[199   7]\n",
      " [  3 206]]\n",
      "--------------------\n",
      "--------------------\n",
      "Performance metrics on test set is: \n",
      "Precision is:  0.9671361502347418\n",
      "Recall is:  0.9856459330143541\n",
      "Accuracy is:  0.9759036144578314\n",
      "F1 score is:  0.976303317535545\n",
      "--------------------\n"
     ]
    }
   ],
   "source": [
    "print(\"Performance of Logistic w/o regularisation is: \")\n",
    "print('_' * 40)\n",
    "evaluation(logistic,X_test_lsi,y_test)"
   ]
  },
  {
   "cell_type": "code",
   "execution_count": 53,
   "id": "62d6e937",
   "metadata": {},
   "outputs": [
    {
     "name": "stdout",
     "output_type": "stream",
     "text": [
      "Performance of Logistic w L1 regularisation is: \n",
      "________________________________________\n",
      "--------------------\n",
      "Confusion matrix on test set is: \n",
      "[[199   7]\n",
      " [  3 206]]\n",
      "--------------------\n",
      "--------------------\n",
      "Performance metrics on test set is: \n",
      "Precision is:  0.9671361502347418\n",
      "Recall is:  0.9856459330143541\n",
      "Accuracy is:  0.9759036144578314\n",
      "F1 score is:  0.976303317535545\n",
      "--------------------\n"
     ]
    }
   ],
   "source": [
    "print(\"Performance of Logistic w L1 regularisation is: \")\n",
    "print('_' * 40)\n",
    "evaluation(logisticL1,X_test_lsi,y_test)"
   ]
  },
  {
   "cell_type": "code",
   "execution_count": 54,
   "id": "059098ad",
   "metadata": {},
   "outputs": [
    {
     "name": "stdout",
     "output_type": "stream",
     "text": [
      "Performance of Logistic w L2 regularisation is: \n",
      "________________________________________\n",
      "--------------------\n",
      "Confusion matrix on test set is: \n",
      "[[200   6]\n",
      " [  3 206]]\n",
      "--------------------\n",
      "--------------------\n",
      "Performance metrics on test set is: \n",
      "Precision is:  0.9716981132075472\n",
      "Recall is:  0.9856459330143541\n",
      "Accuracy is:  0.9783132530120482\n",
      "F1 score is:  0.9786223277909739\n",
      "--------------------\n"
     ]
    }
   ],
   "source": [
    "print(\"Performance of Logistic w L2 regularisation is: \")\n",
    "print('_' * 40)\n",
    "evaluation(logisticL2,X_test_lsi,y_test)"
   ]
  },
  {
   "cell_type": "markdown",
   "id": "6bfc248f",
   "metadata": {},
   "source": [
    "# Question 7"
   ]
  },
  {
   "cell_type": "code",
   "execution_count": 55,
   "id": "90d49420",
   "metadata": {},
   "outputs": [
    {
     "data": {
      "text/plain": [
       "GaussianNB()"
      ]
     },
     "execution_count": 55,
     "metadata": {},
     "output_type": "execute_result"
    }
   ],
   "source": [
    "from sklearn.naive_bayes import GaussianNB\n",
    "from sklearn.metrics import classification_report\n",
    "\n",
    "naivebayes = GaussianNB()\n",
    "naivebayes.fit(X_train_lsi, y_train)\n"
   ]
  },
  {
   "cell_type": "code",
   "execution_count": 56,
   "id": "41ff0fa2",
   "metadata": {},
   "outputs": [
    {
     "name": "stdout",
     "output_type": "stream",
     "text": [
      "auc_best:0.9940\n"
     ]
    },
    {
     "data": {
      "image/png": "[encoded data removed]",
      "text/plain": [
       "<Figure size 432x288 with 1 Axes>"
      ]
     },
     "metadata": {
      "needs_background": "light"
     },
     "output_type": "display_data"
    }
   ],
   "source": [
    "# plot ROC curve for logistic regression\n",
    "y_test_pred_prob = naivebayes.predict_proba(X_test_lsi)[::,1]\n",
    "fpr_best,tpr_best,_ = metrics.roc_curve(y_test,y_test_pred_prob)\n",
    "auc_best = plot_ROC(fpr_soft,tpr_soft)\n",
    "print(\"auc_best:%0.4f\" % auc_best)"
   ]
  },
  {
   "cell_type": "code",
   "execution_count": 57,
   "id": "97711a7d",
   "metadata": {},
   "outputs": [
    {
     "name": "stdout",
     "output_type": "stream",
     "text": [
      "Performance of Naive Bayes classification\n",
      "________________________________________\n",
      "--------------------\n",
      "Confusion matrix on test set is: \n",
      "[[197   9]\n",
      " [ 13 196]]\n",
      "--------------------\n",
      "--------------------\n",
      "Performance metrics on test set is: \n",
      "Precision is:  0.9560975609756097\n",
      "Recall is:  0.937799043062201\n",
      "Accuracy is:  0.946987951807229\n",
      "F1 score is:  0.9468599033816425\n",
      "--------------------\n"
     ]
    }
   ],
   "source": [
    "print(\"Performance of Naive Bayes classification\")\n",
    "print('_' * 40)\n",
    "evaluation(naivebayes,X_test_lsi,y_test)"
   ]
  },
  {
   "cell_type": "markdown",
   "id": "62a3b00e",
   "metadata": {},
   "source": [
    "## Question 8: Comparison between three classifiers"
   ]
  },
  {
   "cell_type": "code",
   "execution_count": 60,
   "id": "b1be6b53",
   "metadata": {},
   "outputs": [
    {
     "name": "stdout",
     "output_type": "stream",
     "text": [
      "accuracy:0.980722891566265\n"
     ]
    }
   ],
   "source": [
    "# prepare for pipeline\n",
    "from sklearn.pipeline import Pipeline\n",
    "\n",
    "pipeline = Pipeline([\n",
    "    ('vect', CountVectorizer(min_df=3, analyzer=doc_tokens_lemma)),\n",
    "    ('tfidf', TfidfTransformer()),\n",
    "    ('reduce_dim', TruncatedSVD(n_components=50, random_state=42)),\n",
    "    ('clf', SVC(kernel='linear', C=100, random_state=42))\n",
    "])\n",
    "\n",
    "pipeline.fit(train.full_text, y_train)\n",
    "predict = pipeline.predict(test.full_text)\n",
    "print(\"accuracy:{}\".format(metrics.accuracy_score(y_test, predict)))"
   ]
  },
  {
   "cell_type": "code",
   "execution_count": 61,
   "id": "dc684149",
   "metadata": {},
   "outputs": [],
   "source": [
    "from sklearn.model_selection import GridSearchCV\n",
    "\n",
    "# used to cache results\n",
    "from tempfile import mkdtemp\n",
    "from shutil import rmtree\n",
    "import joblib"
   ]
  },
  {
   "cell_type": "code",
   "execution_count": 62,
   "id": "0decbb75",
   "metadata": {},
   "outputs": [],
   "source": [
    "cachedir = mkdtemp()\n",
    "memory = joblib.Memory(location=cachedir, verbose=10)\n",
    "\n",
    "pipeline = Pipeline([\n",
    "    ('vect', CountVectorizer(min_df=1, stop_words='english')),\n",
    "    ('tfidf', TfidfTransformer()),\n",
    "    ('reduce_dim', TruncatedSVD(random_state=42)),\n",
    "    ('clf', GaussianNB()),\n",
    "],\n",
    "memory=memory\n",
    ")\n",
    "\n",
    "param_grid = [\n",
    "    {\n",
    "        'vect': [\n",
    "            CountVectorizer(min_df=3, analyzer=doc_tokens_lemma),   ## lemmatization with data cleaning\n",
    "            CountVectorizer(min_df=3, analyzer=doc_tokens_stem),    ## stemming with data cleaning\n",
    "            CountVectorizer(min_df=3, analyzer=doc_tokens),   ## no compression with data cleaning\n",
    "            CountVectorizer(min_df=3, analyzer=doc_tokens_lemma_woClean), ## lemmatization without data cleaning\n",
    "            CountVectorizer(min_df=3, analyzer=doc_tokens_stem_woClean), ## stemming without data cleaning\n",
    "            CountVectorizer(min_df=3, analyzer=doc_tokens_woClean),  ## no compression with data cleaning\n",
    "            CountVectorizer(min_df=5, analyzer=doc_tokens_lemma),   \n",
    "            CountVectorizer(min_df=5, analyzer=doc_tokens_stem),    \n",
    "            CountVectorizer(min_df=5, analyzer=doc_tokens),   \n",
    "            CountVectorizer(min_df=5, analyzer=doc_tokens_lemma_woClean), \n",
    "            CountVectorizer(min_df=5, analyzer=doc_tokens_stem_woClean), \n",
    "            CountVectorizer(min_df=5, analyzer=doc_tokens_woClean)\n",
    "        ],\n",
    "        'reduce_dim': [TruncatedSVD(n_components=5, n_iter=20, random_state=42),\n",
    "                       TruncatedSVD(n_components=50, n_iter=20, random_state=42),\n",
    "                       TruncatedSVD(n_components=500, n_iter=20, random_state=42),\n",
    "                       NMF(n_components=5, max_iter=500, init='random', random_state=42),\n",
    "                       NMF(n_components=50, max_iter=500, init='random', random_state=42),\n",
    "                       NMF(n_components=500, max_iter=500, init='random', random_state=42)\n",
    "        ],\n",
    "        'clf': [SVC(kernel='linear', C=10, random_state=42),\n",
    "                LogisticRegression(penalty='l1', C=100, random_state=42),\n",
    "                LogisticRegression(penalty='l2', C=1000, random_state=42),\n",
    "                GaussianNB()\n",
    "        ],\n",
    "    }\n",
    "]"
   ]
  },
  {
   "cell_type": "code",
   "execution_count": null,
   "id": "eb96fd04",
   "metadata": {},
   "outputs": [],
   "source": [
    "# grid search no clean data\n",
    "grid = GridSearchCV(pipeline, cv=5, n_jobs=-1, param_grid=param_grid, scoring='accuracy')\n",
    "grid.fit(train.full_text, train_label)\n",
    "rmtree(cachedir)"
   ]
  },
  {
   "cell_type": "code",
   "execution_count": null,
   "id": "2f20f30e",
   "metadata": {},
   "outputs": [],
   "source": [
    "import pandas as pd\n",
    "\n",
    "result = pd.DataFrame(grid.cv_results_)\n",
    "pd.DataFrame(grid.cv_results_)"
   ]
  },
  {
   "cell_type": "code",
   "execution_count": null,
   "id": "c94a285a",
   "metadata": {},
   "outputs": [],
   "source": [
    "# save the data\n",
    "np.save(\"results\",result)"
   ]
  },
  {
   "cell_type": "code",
   "execution_count": null,
   "id": "1fc66bce",
   "metadata": {},
   "outputs": [],
   "source": [
    "best_list = {}\n",
    "k = 1\n",
    "for i,row in enumerate(result['rank_test_score']):\n",
    "    if row >= 1 and row <= 5:\n",
    "        best_list[row] = i\n",
    "    \n",
    "print(\"The index of 5 best combination:{}\".format(best_list))"
   ]
  },
  {
   "cell_type": "code",
   "execution_count": null,
   "id": "71246e17",
   "metadata": {},
   "outputs": [],
   "source": [
    "i = 1\n",
    "while i <= 5:\n",
    "    index = best_list[i]\n",
    "    print(\"_\" * 80)\n",
    "    print(\"rank_test_score:\")\n",
    "    print(result['rank_test_score'][index]) \n",
    "    print(\"_\" * 20)\n",
    "    print(\"mean_test_score:\")\n",
    "    print(result['mean_test_score'][index])     \n",
    "    print(\"_\" * 20)\n",
    "    print(\"model parameters:\")\n",
    "    print(result['params'][index])  \n",
    "    print(\"_\" * 80)\n",
    "    i += 1"
   ]
  },
  {
   "cell_type": "code",
   "execution_count": null,
   "id": "5895c628",
   "metadata": {},
   "outputs": [],
   "source": [
    "# Report their performance on the testing set \n",
    "pipeline1 = Pipeline([\n",
    "    ('vect', CountVectorizer(min_df=5, stop_words='english')),\n",
    "    ('tfidf', TfidfTransformer()),\n",
    "    ('reduce_dim', TruncatedSVD(n_components=500, random_state=42)),\n",
    "    ('clf', LogisticRegression(C=10, random_state=42))\n",
    "])\n",
    "\n",
    "pipeline1.fit(train.full_text, train_label)\n",
    "predict = pipeline1.predict(test.full_text)\n",
    "\n",
    "print(classification_report(test_label, predict))"
   ]
  },
  {
   "cell_type": "code",
   "execution_count": null,
   "id": "792ca60b",
   "metadata": {},
   "outputs": [],
   "source": [
    "## Retrain the above 5 best models on trainset and report on test set"
   ]
  },
  {
   "cell_type": "markdown",
   "id": "a8ef1a43",
   "metadata": {},
   "source": [
    "## Question 9: Multi-class classification"
   ]
  },
  {
   "cell_type": "code",
   "execution_count": 58,
   "id": "77f92bc0",
   "metadata": {},
   "outputs": [],
   "source": [
    "from sklearn.naive_bayes import MultinomialNB"
   ]
  },
  {
   "cell_type": "code",
   "execution_count": 59,
   "id": "a6d8ddc6",
   "metadata": {},
   "outputs": [],
   "source": [
    "map_row_to_class = {0:\"chess\", 1:\"cricket\", 2:\"soccer\", 3:\"football\", \\\n",
    "                    4:\"%22forest%20fire%22\", 5:\"flood\", 6:\"earthquake\", 7:\"drought\"}\n",
    "\n",
    "map_class_to_val = {\"chess\": 0, \"cricket\": 1, \"soccer\": 2, \"football\": 3, \\\n",
    "                    \"%22forest%20fire%22\": 4, \"flood\": 5, \"earthquake\": 6, \"drought\": 7}\n"
   ]
  },
  {
   "cell_type": "code",
   "execution_count": 60,
   "id": "e9c805f8",
   "metadata": {},
   "outputs": [],
   "source": [
    "## Naive bayes classification\n",
    "\n",
    "k = 50\n",
    "\n",
    "## train the model\n",
    "\n",
    "## define model\n",
    "count_vectorizer = CountVectorizer(min_df=3, stop_words='english', analyzer=doc_tokens_lemma, max_df=0.7)\n",
    "transformer = TfidfTransformer()\n",
    "nmf = NMF(n_components=k, max_iter=500, init='random', random_state=42)  ## Multinomial NB can take only positive values\n",
    "svd = TruncatedSVD(n_components=k, n_iter=20, random_state=42) \n",
    "clf = MultinomialNB()\n",
    "\n",
    "## train model\n",
    "train['leaf_label_encode']= train['leaf_label'].map(map_class_to_val)\n",
    "\n",
    "y_train = train['leaf_label_encode']\n",
    "# print(y_train)\n",
    "X_train_counts = count_vectorizer.fit_transform(train['full_text'])\n",
    "X_train_tfidf = transformer.fit_transform(X_train_counts)\n",
    "X_train_nmf = nmf.fit_transform(X_train_tfidf)\n",
    "model = clf.fit(X_train_nmf, y_train)\n",
    "\n",
    "## get train parameters\n",
    "\n",
    "## test model\n",
    "test['leaf_label_encode']= test['leaf_label'].map(map_class_to_val)\n",
    "\n",
    "y_test = test['leaf_label_encode']\n",
    "X_test_counts = count_vectorizer.transform(test['full_text'])\n",
    "X_test_tfidf = transformer.transform(X_test_counts)\n",
    "X_test_nmf = nmf.transform(X_test_tfidf)\n",
    "y_test_pred = clf.predict(X_test_nmf)"
   ]
  },
  {
   "cell_type": "code",
   "execution_count": 61,
   "id": "20530ad0",
   "metadata": {},
   "outputs": [
    {
     "name": "stdout",
     "output_type": "stream",
     "text": [
      "--------------------\n",
      "Confusion matrix on test set is: \n",
      "[[44  0  0  1  1  0  0  0]\n",
      " [ 2 48  0  0  0  0  0  0]\n",
      " [ 7  1 49  1  0  0  0  0]\n",
      " [ 2  0  0 53  0  0  0  0]\n",
      " [ 1  0  1  0 47  0  0  0]\n",
      " [ 3  0  0  1  2 39  6  2]\n",
      " [ 7  0  1  1  0  1 41  6]\n",
      " [ 0  0  1  0  1  1  0 44]]\n",
      "--------------------\n",
      "--------------------\n",
      "Performance metrics on test set is: \n",
      "Precision is:  0.8887091460555532\n",
      "Recall is:  0.8844358596783561\n",
      "Accuracy is:  0.8795180722891566\n",
      "F1 score is:  0.8799858223927373\n",
      "--------------------\n"
     ]
    }
   ],
   "source": [
    "from sklearn.metrics import confusion_matrix\n",
    "## get test parameters\n",
    "print('-'*20)\n",
    "print(\"Confusion matrix on test set is: \")\n",
    "print(confusion_matrix(y_test, y_test_pred))\n",
    "print('-'*20)\n",
    "print('-'*20)\n",
    "print(\"Performance metrics on test set is: \")\n",
    "print (\"Precision is: \", metrics.precision_score(y_test, y_test_pred, average = 'macro'))\n",
    "print (\"Recall is: \", metrics.recall_score(y_test, y_test_pred, average = 'macro'))\n",
    "print (\"Accuracy is: \", metrics.accuracy_score(y_test, y_test_pred))\n",
    "print (\"F1 score is: \", metrics.f1_score(y_test, y_test_pred, average = 'macro'))\n",
    "print('-'*20)"
   ]
  },
  {
   "cell_type": "code",
   "execution_count": 62,
   "id": "2efc5622",
   "metadata": {},
   "outputs": [],
   "source": [
    "## svm classification one vs one"
   ]
  },
  {
   "cell_type": "code",
   "execution_count": 63,
   "id": "5cc6d197",
   "metadata": {},
   "outputs": [],
   "source": [
    "from sklearn.multiclass import OneVsOneClassifier, OneVsRestClassifier\n",
    "from sklearn.svm import LinearSVC"
   ]
  },
  {
   "cell_type": "code",
   "execution_count": 64,
   "id": "9bec8b56",
   "metadata": {},
   "outputs": [],
   "source": [
    "k = 50\n",
    "\n",
    "## train the model\n",
    "\n",
    "## define model\n",
    "count_vectorizer = CountVectorizer(min_df=3, stop_words='english', analyzer=doc_tokens, max_df=0.7)\n",
    "transformer = TfidfTransformer()\n",
    "svd = TruncatedSVD(n_components=k, n_iter = 20, random_state=42) ## Multinomial NB can take only positive values\n",
    "clf = LinearSVC()\n",
    "ovo_classifier = OneVsOneClassifier(clf)\n",
    "\n",
    "## train model\n",
    "train['leaf_label_encode']= train['leaf_label'].map(map_class_to_val)\n",
    "y_train = train['leaf_label_encode']\n",
    "# print(y_train)\n",
    "X_train_counts = count_vectorizer.fit_transform(train['full_text'])\n",
    "X_train_tfidf = transformer.fit_transform(X_train_counts)\n",
    "X_train_svd = svd.fit_transform(X_train_tfidf)\n",
    "model = ovo_classifier.fit(X_train_svd, y_train)\n",
    "\n",
    "## get train parameters\n",
    "\n",
    "## test model\n",
    "test['leaf_label_encode']= test['leaf_label'].map(map_class_to_val)\n",
    "y_test = test['leaf_label_encode']\n",
    "X_test_counts = count_vectorizer.transform(test['full_text'])\n",
    "X_test_tfidf = transformer.transform(X_test_counts)\n",
    "X_test_svd = svd.transform(X_test_tfidf)\n",
    "y_test_pred = ovo_classifier.predict(X_test_svd)"
   ]
  },
  {
   "cell_type": "code",
   "execution_count": 65,
   "id": "0bd0a098",
   "metadata": {},
   "outputs": [
    {
     "name": "stdout",
     "output_type": "stream",
     "text": [
      "--------------------\n",
      "Confusion matrix on test set is: \n",
      "[[44  0  0  1  0  0  1  0]\n",
      " [ 1 49  0  0  0  0  0  0]\n",
      " [ 6  1 51  0  0  0  0  0]\n",
      " [ 2  0  0 53  0  0  0  0]\n",
      " [ 2  0  1  0 46  0  0  0]\n",
      " [ 3  0  0  1  2 43  2  2]\n",
      " [ 2  0  1  1  1  2 49  1]\n",
      " [ 2  0  1  0  2  1  0 41]]\n",
      "--------------------\n",
      "--------------------\n",
      "Performance metrics on test set is: \n",
      "Precision is:  0.9114274627953882\n",
      "Recall is:  0.9076942826067975\n",
      "Accuracy is:  0.9060240963855422\n",
      "F1 score is:  0.9061690492596456\n",
      "--------------------\n"
     ]
    }
   ],
   "source": [
    "## get test parameters\n",
    "print('-'*20)\n",
    "print(\"Confusion matrix on test set is: \")\n",
    "print(confusion_matrix(y_test, y_test_pred))\n",
    "print('-'*20)\n",
    "print('-'*20)\n",
    "print(\"Performance metrics on test set is: \")\n",
    "print (\"Precision is: \", metrics.precision_score(y_test, y_test_pred, average = 'macro'))\n",
    "print (\"Recall is: \", metrics.recall_score(y_test, y_test_pred, average = 'macro'))\n",
    "print (\"Accuracy is: \", metrics.accuracy_score(y_test, y_test_pred))\n",
    "print (\"F1 score is: \", metrics.f1_score(y_test, y_test_pred, average = 'macro'))\n",
    "print('-'*20)\n"
   ]
  },
  {
   "cell_type": "code",
   "execution_count": 66,
   "id": "3f6f3ca2",
   "metadata": {},
   "outputs": [],
   "source": [
    "## svm classification one vs rest"
   ]
  },
  {
   "cell_type": "code",
   "execution_count": 67,
   "id": "469f16ba",
   "metadata": {},
   "outputs": [],
   "source": [
    "k = 50\n",
    "\n",
    "## train the model\n",
    "\n",
    "## define model\n",
    "count_vectorizer = CountVectorizer(min_df=3, stop_words='english', analyzer=doc_tokens, max_df=0.7)\n",
    "transformer = TfidfTransformer()\n",
    "svd = TruncatedSVD(n_components=k, n_iter = 20, random_state=42) ## Multinomial NB can take only positive values\n",
    "clf = LinearSVC(multi_class = 'ovr', class_weight = 'balanced')\n",
    "# clf = LinearSVC(multi_class = 'ovr')\n",
    "# ovr_classifier = OneVsRestClassifier(clf)\n",
    "\n",
    "## train model\n",
    "train['leaf_label_encode']= train['leaf_label'].map(map_class_to_val)\n",
    "y_train = train['leaf_label_encode']\n",
    "# print(y_train)\n",
    "X_train_counts = count_vectorizer.fit_transform(train['full_text'])\n",
    "X_train_tfidf = transformer.fit_transform(X_train_counts)\n",
    "X_train_svd = svd.fit_transform(X_train_tfidf)\n",
    "model = clf.fit(X_train_svd, y_train)\n",
    "\n",
    "## get train parameters\n",
    "\n",
    "## test model\n",
    "test['leaf_label_encode']= test['leaf_label'].map(map_class_to_val)\n",
    "y_test = test['leaf_label_encode']\n",
    "X_test_counts = count_vectorizer.transform(test['full_text'])\n",
    "X_test_tfidf = transformer.transform(X_test_counts)\n",
    "X_test_svd = svd.transform(X_test_tfidf)\n",
    "y_test_pred = clf.predict(X_test_svd)"
   ]
  },
  {
   "cell_type": "code",
   "execution_count": 68,
   "id": "9c740444",
   "metadata": {},
   "outputs": [
    {
     "name": "stdout",
     "output_type": "stream",
     "text": [
      "--------------------\n",
      "Confusion matrix on test set is: \n",
      "[[44  0  0  1  0  0  1  0]\n",
      " [ 0 49  0  0  0  0  0  1]\n",
      " [ 4  1 53  0  0  0  0  0]\n",
      " [ 0  0  0 55  0  0  0  0]\n",
      " [ 1  0  1  0 47  0  0  0]\n",
      " [ 1  0  0  1  2 44  3  2]\n",
      " [ 1  0  1  1  0  2 51  1]\n",
      " [ 1  1  1  0  1  1  0 42]]\n",
      "--------------------\n",
      "--------------------\n",
      "Performance metrics on test set is: \n",
      "Precision is:  0.9272661264595534\n",
      "Recall is:  0.928505132334405\n",
      "Accuracy is:  0.927710843373494\n",
      "F1 score is:  0.9268708929843031\n",
      "--------------------\n"
     ]
    }
   ],
   "source": [
    "from sklearn.metrics import precision_score\n",
    "from sklearn.metrics import confusion_matrix\n",
    "from sklearn.metrics import precision_score\n",
    "from sklearn.metrics import recall_score\n",
    "from sklearn.metrics import roc_curve\n",
    "from sklearn.metrics import auc\n",
    "from sklearn.metrics import classification_report, accuracy_score, make_scorer\n",
    "from sklearn.metrics import f1_score\n",
    "## get test parameters\n",
    "print('-'*20)\n",
    "print(\"Confusion matrix on test set is: \")\n",
    "print(confusion_matrix(y_test, y_test_pred))\n",
    "print('-'*20)\n",
    "print('-'*20)\n",
    "print(\"Performance metrics on test set is: \")\n",
    "print (\"Precision is: \", precision_score(y_test, y_test_pred, average = 'macro'))\n",
    "print (\"Recall is: \", recall_score(y_test, y_test_pred, average = 'macro'))\n",
    "print (\"Accuracy is: \", accuracy_score(y_test, y_test_pred))\n",
    "print (\"F1 score is: \", f1_score(y_test, y_test_pred, average = 'macro'))\n",
    "print('-'*20)"
   ]
  },
  {
   "cell_type": "markdown",
   "id": "844a72e5",
   "metadata": {},
   "source": [
    "#### Merge 'football' & 'soccer' and try "
   ]
  },
  {
   "cell_type": "code",
   "execution_count": 101,
   "id": "3052ff70",
   "metadata": {},
   "outputs": [],
   "source": [
    "map_row_to_class_merge = {0:\"chess\", 1:\"cricket\", 2:\"soccer\",  2:\"football\", \n",
    "                    3:\"%22forest%20fire%22\", 4:\"flood\", 5:\"earthquake\", 6:\"drought\"}\n",
    "\n",
    "map_class_to_val_merge = {\"chess\": 0, \"cricket\": 1, \"soccer\":2 , \"football\": 2,\n",
    "                    \"%22forest%20fire%22\": 3, \"flood\": 4, \"earthquake\": 5, \"drought\": 6}"
   ]
  },
  {
   "cell_type": "code",
   "execution_count": 102,
   "id": "051014af",
   "metadata": {},
   "outputs": [
    {
     "name": "stdout",
     "output_type": "stream",
     "text": [
      "--------------------\n",
      "Confusion matrix on test set is: \n",
      "[[ 44   0   1   0   0   1   0]\n",
      " [  2  47   0   1   0   0   0]\n",
      " [  8   3 102   0   0   0   0]\n",
      " [  0   0   1  45   1   2   0]\n",
      " [  1   0   1   1  40   6   4]\n",
      " [  0   1   2   2   6  45   1]\n",
      " [  0   1   1   3   1   0  41]]\n",
      "--------------------\n",
      "--------------------\n",
      "Performance metrics on test set is: \n",
      "Precision is:  0.8673780325954239\n",
      "Recall is:  0.8762964348857664\n",
      "Accuracy is:  0.8771084337349397\n",
      "F1 score is:  0.8702331767129708\n",
      "--------------------\n"
     ]
    }
   ],
   "source": [
    "from sklearn.naive_bayes import GaussianNB\n",
    "from sklearn.metrics import confusion_matrix \n",
    "from sklearn.metrics import precision_score, recall_score, accuracy_score, f1_score\n",
    "\n",
    "k = 50\n",
    "\n",
    "## train the model\n",
    "\n",
    "## define model\n",
    "count_vectorizer = CountVectorizer(min_df=3, stop_words='english', analyzer=doc_tokens, max_df=0.7)\n",
    "transformer = TfidfTransformer()\n",
    "nmf = NMF(n_components=k, init='random', random_state=42)  ## Multinomial NB can take only positive values\n",
    "clf = GaussianNB()\n",
    "\n",
    "## train model\n",
    "train['leaf_label_encode']= train['leaf_label'].map(map_class_to_val_merge)\n",
    "\n",
    "y_train = train['leaf_label_encode']\n",
    "# print(y_train)\n",
    "X_train_counts = count_vectorizer.fit_transform(train['full_text'])\n",
    "X_train_tfidf = transformer.fit_transform(X_train_counts)\n",
    "X_train_nmf = nmf.fit_transform(X_train_tfidf)\n",
    "model = clf.fit(X_train_nmf, y_train)\n",
    "\n",
    "## get train parameters\n",
    "\n",
    "## test model\n",
    "test['leaf_label_encode']= test['leaf_label'].map(map_class_to_val_merge)\n",
    "\n",
    "y_test = test['leaf_label_encode']\n",
    "X_test_counts = count_vectorizer.transform(test['full_text'])\n",
    "X_test_tfidf = transformer.transform(X_test_counts)\n",
    "X_test_nmf = nmf.transform(X_test_tfidf)\n",
    "y_test_pred = clf.predict(X_test_nmf)\n",
    "\n",
    "## get test parameters\n",
    "print('-'*20)\n",
    "print(\"Confusion matrix on test set is: \")\n",
    "print(confusion_matrix(y_test, y_test_pred))\n",
    "print('-'*20)\n",
    "print('-'*20)\n",
    "print(\"Performance metrics on test set is: \")\n",
    "print (\"Precision is: \", precision_score(y_test, y_test_pred, average = 'macro'))\n",
    "print (\"Recall is: \", recall_score(y_test, y_test_pred, average = 'macro'))\n",
    "print (\"Accuracy is: \", accuracy_score(y_test, y_test_pred))\n",
    "print (\"F1 score is: \", f1_score(y_test, y_test_pred, average = 'macro'))\n",
    "print('-'*20)"
   ]
  },
  {
   "cell_type": "code",
   "execution_count": 103,
   "id": "26454e8e",
   "metadata": {},
   "outputs": [
    {
     "name": "stdout",
     "output_type": "stream",
     "text": [
      "--------------------\n",
      "Confusion matrix on test set is: \n",
      "[[ 44   0   1   0   0   1   0]\n",
      " [  1  48   1   0   0   0   0]\n",
      " [  5   0 108   0   0   0   0]\n",
      " [  2   0   1  46   0   0   0]\n",
      " [  3   0   1   2  43   2   2]\n",
      " [  2   0   2   1   2  49   1]\n",
      " [  2   0   1   2   1   0  41]]\n",
      "--------------------\n",
      "--------------------\n",
      "Performance metrics on test set is: \n",
      "Precision is:  0.9136803448260382\n",
      "Recall is:  0.9077656806828299\n",
      "Accuracy is:  0.9132530120481928\n",
      "F1 score is:  0.907703404925096\n",
      "--------------------\n"
     ]
    }
   ],
   "source": [
    "## svm classification one vs one\n",
    "from sklearn.svm import LinearSVC\n",
    "from sklearn.multiclass import OneVsOneClassifier, OneVsRestClassifier\n",
    "\n",
    "k = 50\n",
    "\n",
    "## train the model\n",
    "\n",
    "## define model\n",
    "count_vectorizer = CountVectorizer(min_df=3, stop_words='english', analyzer=doc_tokens, max_df=0.7)\n",
    "transformer = TfidfTransformer()\n",
    "svd = TruncatedSVD(n_components=k, n_iter = 20, random_state=42) ## Multinomial NB can take only positive values\n",
    "clf = LinearSVC()\n",
    "ovo_classifier = OneVsOneClassifier(clf)\n",
    "\n",
    "## train model\n",
    "train['leaf_label_encode']= train['leaf_label'].map(map_class_to_val_merge)\n",
    "y_train = train['leaf_label_encode']\n",
    "# print(y_train)\n",
    "X_train_counts = count_vectorizer.fit_transform(train['full_text'])\n",
    "X_train_tfidf = transformer.fit_transform(X_train_counts)\n",
    "X_train_svd = svd.fit_transform(X_train_tfidf)\n",
    "model = ovo_classifier.fit(X_train_svd, y_train)\n",
    "\n",
    "## get train parameters\n",
    "\n",
    "## test model\n",
    "test['leaf_label_encode']= test['leaf_label'].map(map_class_to_val_merge)\n",
    "y_test = test['leaf_label_encode']\n",
    "X_test_counts = count_vectorizer.transform(test['full_text'])\n",
    "X_test_tfidf = transformer.transform(X_test_counts)\n",
    "X_test_svd = svd.transform(X_test_tfidf)\n",
    "y_test_pred = ovo_classifier.predict(X_test_svd)\n",
    "\n",
    "## get test parameters\n",
    "print('-'*20)\n",
    "print(\"Confusion matrix on test set is: \")\n",
    "print(confusion_matrix(y_test, y_test_pred))\n",
    "print('-'*20)\n",
    "print('-'*20)\n",
    "print(\"Performance metrics on test set is: \")\n",
    "print (\"Precision is: \", precision_score(y_test, y_test_pred, average = 'macro'))\n",
    "print (\"Recall is: \", recall_score(y_test, y_test_pred, average = 'macro'))\n",
    "print (\"Accuracy is: \", accuracy_score(y_test, y_test_pred))\n",
    "print (\"F1 score is: \", f1_score(y_test, y_test_pred, average = 'macro'))\n",
    "print('-'*20)"
   ]
  },
  {
   "cell_type": "code",
   "execution_count": 104,
   "id": "f58e2d09",
   "metadata": {},
   "outputs": [
    {
     "name": "stdout",
     "output_type": "stream",
     "text": [
      "--------------------\n",
      "Confusion matrix on test set is: \n",
      "[[ 44   0   1   0   0   1   0]\n",
      " [  0  49   0   0   0   0   1]\n",
      " [  4   2 107   0   0   0   0]\n",
      " [  1   0   1  47   0   0   0]\n",
      " [  1   0   1   2  44   3   2]\n",
      " [  1   0   2   0   2  51   1]\n",
      " [  1   1   1   1   1   0  42]]\n",
      "--------------------\n",
      "--------------------\n",
      "Performance metrics on test set is: \n",
      "Precision is:  0.9216929445183355\n",
      "Recall is:  0.9230215157277458\n",
      "Accuracy is:  0.9253012048192771\n",
      "F1 score is:  0.921297313418152\n",
      "--------------------\n"
     ]
    }
   ],
   "source": [
    "## svm classification one vs rest\n",
    "\n",
    "k = 50\n",
    "\n",
    "## train the model\n",
    "\n",
    "## define model\n",
    "count_vectorizer = CountVectorizer(min_df=3, stop_words='english', analyzer=doc_tokens, max_df=0.7)\n",
    "transformer = TfidfTransformer()\n",
    "svd = TruncatedSVD(n_components=k, n_iter = 20, random_state=42) ## Multinomial NB can take only positive values\n",
    "clf = LinearSVC(multi_class = 'ovr', class_weight = 'balanced')\n",
    "# clf = LinearSVC(multi_class = 'ovr')\n",
    "# ovr_classifier = OneVsRestClassifier(clf)\n",
    "\n",
    "## train model\n",
    "train['leaf_label_encode']= train['leaf_label'].map(map_class_to_val_merge)\n",
    "y_train = train['leaf_label_encode']\n",
    "# print(y_train)\n",
    "X_train_counts = count_vectorizer.fit_transform(train['full_text'])\n",
    "X_train_tfidf = transformer.fit_transform(X_train_counts)\n",
    "X_train_svd = svd.fit_transform(X_train_tfidf)\n",
    "model = clf.fit(X_train_svd, y_train)\n",
    "\n",
    "## get train parameters\n",
    "\n",
    "## test model\n",
    "test['leaf_label_encode']= test['leaf_label'].map(map_class_to_val_merge)\n",
    "y_test = test['leaf_label_encode']\n",
    "X_test_counts = count_vectorizer.transform(test['full_text'])\n",
    "X_test_tfidf = transformer.transform(X_test_counts)\n",
    "X_test_svd = svd.transform(X_test_tfidf)\n",
    "y_test_pred = clf.predict(X_test_svd)\n",
    "\n",
    "## get test parameters\n",
    "print('-'*20)\n",
    "print(\"Confusion matrix on test set is: \")\n",
    "print(confusion_matrix(y_test, y_test_pred))\n",
    "print('-'*20)\n",
    "print('-'*20)\n",
    "print(\"Performance metrics on test set is: \")\n",
    "print (\"Precision is: \", precision_score(y_test, y_test_pred, average = 'macro'))\n",
    "print (\"Recall is: \", recall_score(y_test, y_test_pred, average = 'macro'))\n",
    "print (\"Accuracy is: \", accuracy_score(y_test, y_test_pred))\n",
    "print (\"F1 score is: \", f1_score(y_test, y_test_pred, average = 'macro'))\n",
    "print('-'*20)\n"
   ]
  },
  {
   "cell_type": "markdown",
   "id": "af28337e",
   "metadata": {},
   "source": [
    "### Word Embeddings\n",
    "\n",
    "GLoVE embeddings - Global vectors for word representation"
   ]
  },
  {
   "cell_type": "markdown",
   "id": "724fa20b",
   "metadata": {},
   "source": [
    "#### Question 10"
   ]
  },
  {
   "cell_type": "markdown",
   "id": "e3cf8407",
   "metadata": {},
   "source": [
    "Q10 a. Why are GLoVE embeddings trained on the ratio of co-occurrence probabilities rather than\n",
    "the probabilities themselves?\n",
    "\n"
   ]
  },
  {
   "cell_type": "markdown",
   "id": "f90c16c3",
   "metadata": {},
   "source": [
    "Ratio of the co-occurence probabilities helps determine the words in context which are relevant in distinguishing two different words and also helps determining which context word is more important for which key word. For example, let the context words be solid, gas, water and fashion being studied to understand the target words ice and steam. The probability of solid given ice (P(solid | ice)) and (P(solid| steam)) by itself does not provide much information but if we take the ratio (P(solid | ice) / (P(solid| steam)) given a corpus, we can see that solid is a relevant word in context of ice compared to steam and can help distinguish between ice and steam. "
   ]
  },
  {
   "cell_type": "markdown",
   "id": "29eccdde",
   "metadata": {},
   "source": [
    "Q10 b. In the two sentences: “James is running in the park.” and “James is running for the\n",
    "presidency.”, would GLoVE embeddings return the same vector for the word running in both\n",
    "cases? Why or why not?"
   ]
  },
  {
   "cell_type": "markdown",
   "id": "63a83bc8",
   "metadata": {},
   "source": [
    "Since GLoVE is a global vector representation, after being trained on a large corpus using the co-occurence matrix of wordsfrom the corpus, the vector embeddings of the word remain unique. Hence, GLoVE will return same vector for the word \"running\" in the two sentences. "
   ]
  },
  {
   "cell_type": "markdown",
   "id": "4531a33a",
   "metadata": {},
   "source": [
    "Q10 c. What do you expect for the values of,\n",
    "||GLoVE[\"queen\"] - GLoVE[\"king\"] - GLoVE[\"wife\"] + GLoVE[\"husband\"]||2,\n",
    "||GLoVE[\"queen\"] - GLoVE[\"king\"]||2 and ||GLoVE[\"wife\"] - GLoVE[\"husband\"]||2 ?\n",
    "Compare these values."
   ]
  },
  {
   "cell_type": "markdown",
   "id": "3b78af91",
   "metadata": {},
   "source": [
    "The distance between the embeddings of queen and king compared to the distance between the embeddings of wife and husband should be of similar value as they both have same semantic relationship. The difference between the queen and king and wife and husband should be close to zero."
   ]
  },
  {
   "cell_type": "markdown",
   "id": "34d4883e",
   "metadata": {},
   "source": [
    "Q10 d. Given a word, would you rather stem or lemmatize the word before mapping it to its GLoVE\n",
    "embedding?"
   ]
  },
  {
   "cell_type": "markdown",
   "id": "9d07cfd5",
   "metadata": {},
   "source": [
    "Lemmatization would be preferred over stemming before mapping the word to its GLoVE embedding. This is becayse lemmatization with pos tagging is word base reduction on the basis of context of word. Also, lemmatization ensures the reduced word is actually an english word with close meaning to original word."
   ]
  },
  {
   "cell_type": "code",
   "execution_count": 70,
   "id": "02656c81",
   "metadata": {},
   "outputs": [],
   "source": [
    "embeddings_dict = {}\n",
    "dimension_of_glove = 300\n",
    "with open(\"glove/glove.6B.300d.txt\", 'r') as f:\n",
    "    for line in f:\n",
    "        values = line.split()\n",
    "        word = values[0]\n",
    "        vector = np.asarray(values[1:], \"float32\")\n",
    "        embeddings_dict[word] = vector"
   ]
  },
  {
   "cell_type": "code",
   "execution_count": 71,
   "id": "bd98338e",
   "metadata": {},
   "outputs": [],
   "source": [
    "queen_king = ((embeddings_dict['king'] - embeddings_dict['queen'])**2)\n",
    "husband_wife = ((embeddings_dict['husband'] - embeddings_dict['wife'])**2)"
   ]
  },
  {
   "cell_type": "code",
   "execution_count": 72,
   "id": "cdd3a446",
   "metadata": {},
   "outputs": [
    {
     "data": {
      "text/plain": [
       "5.966257954114113"
      ]
     },
     "execution_count": 72,
     "metadata": {},
     "output_type": "execute_result"
    }
   ],
   "source": [
    "(sum(queen_king))**0.5"
   ]
  },
  {
   "cell_type": "code",
   "execution_count": 73,
   "id": "a2e37c80",
   "metadata": {},
   "outputs": [],
   "source": [
    "queen_king = np.linalg.norm(embeddings_dict['king'] - embeddings_dict['queen'])\n",
    "husband_wife = np.linalg.norm(embeddings_dict['husband'] - embeddings_dict['wife'])\n",
    "queen_king_husband_wife = np.linalg.norm(embeddings_dict['queen'] - embeddings_dict['king'] - \\\n",
    "                                         embeddings_dict['wife'] + embeddings_dict['husband'])"
   ]
  },
  {
   "cell_type": "code",
   "execution_count": 74,
   "id": "2067937e",
   "metadata": {},
   "outputs": [
    {
     "name": "stdout",
     "output_type": "stream",
     "text": [
      "9.695891\n"
     ]
    }
   ],
   "source": [
    "m = np.linalg.norm(embeddings_dict['husband'] - embeddings_dict['badminton'])\n",
    "print(m)"
   ]
  },
  {
   "cell_type": "code",
   "execution_count": 75,
   "id": "a80f55ec",
   "metadata": {},
   "outputs": [],
   "source": [
    "a = (embeddings_dict['king'] - embeddings_dict['queen'])"
   ]
  },
  {
   "cell_type": "code",
   "execution_count": 76,
   "id": "4261da9e",
   "metadata": {},
   "outputs": [
    {
     "data": {
      "text/plain": [
       "5.966258"
      ]
     },
     "execution_count": 76,
     "metadata": {},
     "output_type": "execute_result"
    }
   ],
   "source": [
    "np.linalg.norm(a)"
   ]
  },
  {
   "cell_type": "code",
   "execution_count": 77,
   "id": "1669cd24",
   "metadata": {},
   "outputs": [
    {
     "name": "stdout",
     "output_type": "stream",
     "text": [
      "5.966258\n",
      "3.1520464\n",
      "6.1650367\n"
     ]
    }
   ],
   "source": [
    "print(queen_king)\n",
    "print(husband_wife)\n",
    "print(queen_king_husband_wife)"
   ]
  },
  {
   "cell_type": "markdown",
   "id": "6ac816f9",
   "metadata": {},
   "source": [
    "#### Question 11\n",
    "\n",
    "Train a binary classification model using GLoVE embeddings"
   ]
  },
  {
   "cell_type": "code",
   "execution_count": 78,
   "id": "0bf373a5",
   "metadata": {},
   "outputs": [],
   "source": [
    "## Feature engineering using Glove word embeddings\n",
    "\n",
    "def get_document_vector (doc_keywords:list, embeddings_dict: dict, embed_size = 300 ):\n",
    "    '''\n",
    "    From the list of keywords representing the document, get a document embedding\n",
    "    '''\n",
    "    representation = np.zeros(embed_size)\n",
    "    count = 0\n",
    "    for word in doc_keywords:\n",
    "        try:\n",
    "            embed = embeddings_dict[word]\n",
    "            count = count+1\n",
    "            representation = np.add(representation, embed)    \n",
    "        except:\n",
    "            count = count\n",
    "    return (representation / count)\n",
    "        "
   ]
  },
  {
   "cell_type": "code",
   "execution_count": 79,
   "id": "48d70e58",
   "metadata": {},
   "outputs": [],
   "source": [
    "def get_tokens(doc: str):\n",
    "    '''\n",
    "    Clean full text without any stemming or lemmatization\n",
    "    '''\n",
    "    doc = clean(doc)\n",
    "    doc = doc.translate(str.maketrans('', '', string.punctuation))\n",
    "    tokens = nltk.word_tokenize(doc)\n",
    "    lower_txt = [token.lower() for token in tokens]\n",
    "    remove_words = [token for token in lower_txt if (not token.isdigit())\\\n",
    "                     and (token not in combined_stopwords) and (len(token)>1)]\n",
    "    return (word for word in remove_words)"
   ]
  },
  {
   "cell_type": "code",
   "execution_count": 80,
   "id": "e27d64af",
   "metadata": {},
   "outputs": [],
   "source": [
    "def data_to_feature_mapping (data: pd.DataFrame(), embeddings_dict: dict, embed_size = 300):\n",
    "    feature_map = np.zeros(embed_size)\n",
    "    for index, row in data.iterrows():\n",
    "#         keywords = row['keywords']\n",
    "#         print(keywords)\n",
    "        keywords = get_tokens(row['full_text'])\n",
    "        embed = get_document_vector(keywords, embeddings_dict, embed_size)\n",
    "        feature_map = np.vstack((feature_map,embed))\n",
    "    feature_map = feature_map[1:,:]\n",
    "    return feature_map"
   ]
  },
  {
   "cell_type": "code",
   "execution_count": 81,
   "id": "e5356fc7",
   "metadata": {},
   "outputs": [
    {
     "data": {
      "text/plain": [
       "1657"
      ]
     },
     "execution_count": 81,
     "metadata": {},
     "output_type": "execute_result"
    }
   ],
   "source": [
    "len(train)"
   ]
  },
  {
   "cell_type": "code",
   "execution_count": 82,
   "id": "e06864eb",
   "metadata": {},
   "outputs": [],
   "source": [
    "clf = LogisticRegression(penalty = 'none', max_iter=10000, random_state=42)\n",
    "# clf = SVC(kernel='linear', C=10, random_state=42)\n",
    "label_encoder = LabelEncoder()\n",
    "\n",
    "## train model\n",
    "y_train = label_encoder.fit_transform(train['root_label'])\n",
    "# print(y_train)\n",
    "X_train = data_to_feature_mapping(train, embeddings_dict, 300)\n",
    "model = clf.fit(X_train, y_train)\n",
    "\n",
    "## get train parameters\n",
    "\n",
    "## test model\n",
    "y_test = label_encoder.transform(test['root_label'])\n",
    "X_test = data_to_feature_mapping(test, embeddings_dict, 300)\n",
    "y_test_pred = clf.predict(X_test)\n"
   ]
  },
  {
   "cell_type": "code",
   "execution_count": 83,
   "id": "2bd39983",
   "metadata": {},
   "outputs": [
    {
     "name": "stdout",
     "output_type": "stream",
     "text": [
      "--------------------\n",
      "Confusion matrix on test set is: \n",
      "[[193  13]\n",
      " [  1 208]]\n",
      "--------------------\n",
      "--------------------\n",
      "Performance metrics on test set is: \n",
      "Precision is:  0.9411764705882353\n",
      "Recall is:  0.9952153110047847\n",
      "Accuracy is:  0.9662650602409638\n",
      "F1 score is:  0.9674418604651163\n",
      "--------------------\n",
      "--------------------\n",
      "ROC curve on test set is: \n"
     ]
    },
    {
     "data": {
      "image/png": "[encoded data removed]",
      "text/plain": [
       "<Figure size 432x288 with 1 Axes>"
      ]
     },
     "metadata": {
      "needs_background": "light"
     },
     "output_type": "display_data"
    }
   ],
   "source": [
    "## get test parameters\n",
    "print('-'*20)\n",
    "print(\"Confusion matrix on test set is: \")\n",
    "print(confusion_matrix(y_test, y_test_pred))\n",
    "print('-'*20)\n",
    "print('-'*20)\n",
    "print(\"Performance metrics on test set is: \")\n",
    "print (\"Precision is: \", metrics.precision_score(y_test, y_test_pred))\n",
    "print (\"Recall is: \", metrics.recall_score(y_test, y_test_pred))\n",
    "print (\"Accuracy is: \", metrics.accuracy_score(y_test, y_test_pred))\n",
    "print (\"F1 score is: \", metrics.f1_score(y_test, y_test_pred))\n",
    "print('-'*20)\n",
    "\n",
    "print('-'*20)\n",
    "print(\"ROC curve on test set is: \")\n",
    "y_test_pred_proba = clf.predict_proba(X_test)[::,1]\n",
    "# y_test_pred_proba = clf.decision_function(X_test)\n",
    "fpr, tpr, _ = roc_curve(y_test,  y_test_pred_proba)\n",
    "\n",
    "#create ROC curve\n",
    "plt.plot(fpr,tpr)\n",
    "plt.ylabel('True Positive Rate')\n",
    "plt.xlabel('False Positive Rate')\n",
    "plt.show()"
   ]
  },
  {
   "cell_type": "markdown",
   "id": "59fd5988",
   "metadata": {},
   "source": [
    "#### Question 12\n",
    "\n",
    "Trend between embedding size and accuracy"
   ]
  },
  {
   "cell_type": "code",
   "execution_count": 84,
   "id": "a326df52",
   "metadata": {},
   "outputs": [],
   "source": [
    "embed_size = [50,100,200,300]"
   ]
  },
  {
   "cell_type": "code",
   "execution_count": 88,
   "id": "699655ce",
   "metadata": {},
   "outputs": [],
   "source": [
    "clf = LogisticRegression(penalty = 'none',max_iter=10000, random_state=42)\n",
    "# clf = SVC(kernel='linear', C=10, random_state=42)\n",
    "label_encoder = LabelEncoder()\n",
    "\n",
    "## label encoding\n",
    "y_train = label_encoder.fit_transform(train['root_label'])\n",
    "y_test = label_encoder.transform(test['root_label'])\n",
    "\n",
    "## report test accuracy on different embedding size\n",
    "accuracy = []\n",
    "accuracy_train = []\n",
    "for size in embed_size:\n",
    "    \n",
    "    embeddings_dict = {}\n",
    "    with open(\"glove/glove.6B.\"+ str(size)+\"d.txt\", 'r') as f:\n",
    "        for line in f:\n",
    "            values = line.split()\n",
    "            word = values[0]\n",
    "            vector = np.asarray(values[1:], \"float32\")\n",
    "            embeddings_dict[word] = vector\n",
    "    \n",
    "    X_train = data_to_feature_mapping(train, embeddings_dict, size)\n",
    "    model = clf.fit(X_train, y_train)\n",
    "\n",
    "    X_test = data_to_feature_mapping(test,embeddings_dict, size)\n",
    "    y_test_pred = clf.predict(X_test)\n",
    "    y_train_pred = clf.predict(X_train)\n",
    "    accuracy.append(metrics.accuracy_score(y_test, y_test_pred))\n",
    "    accuracy_train.append(metrics.accuracy_score(y_train, y_train_pred))"
   ]
  },
  {
   "cell_type": "code",
   "execution_count": 89,
   "id": "1e91841f",
   "metadata": {},
   "outputs": [
    {
     "data": {
      "text/plain": [
       "[0.9566265060240964,\n",
       " 0.9518072289156626,\n",
       " 0.9662650602409638,\n",
       " 0.9662650602409638]"
      ]
     },
     "execution_count": 89,
     "metadata": {},
     "output_type": "execute_result"
    }
   ],
   "source": [
    "accuracy"
   ]
  },
  {
   "cell_type": "code",
   "execution_count": 90,
   "id": "28a865d1",
   "metadata": {},
   "outputs": [
    {
     "data": {
      "text/plain": [
       "[0.9480989740494871,\n",
       " 0.9837054918527459,\n",
       " 0.9981894990947495,\n",
       " 0.9981894990947495]"
      ]
     },
     "execution_count": 90,
     "metadata": {},
     "output_type": "execute_result"
    }
   ],
   "source": [
    "accuracy_train"
   ]
  },
  {
   "cell_type": "code",
   "execution_count": 91,
   "id": "9f372323",
   "metadata": {},
   "outputs": [
    {
     "data": {
      "image/png": "[encoded data removed]",
      "text/plain": [
       "<Figure size 432x288 with 1 Axes>"
      ]
     },
     "metadata": {
      "needs_background": "light"
     },
     "output_type": "display_data"
    }
   ],
   "source": [
    "# plotting the explained variance ratio across number of components\n",
    "plt.plot(embed_size, accuracy)\n",
    "plt.xlabel('embed_size')\n",
    "plt.ylabel('test_accuracy')\n",
    "plt.title('GLoVE embedding')\n",
    "plt.savefig('glove_embed.png')\n",
    "plt.show()"
   ]
  },
  {
   "cell_type": "markdown",
   "id": "c24ada7c",
   "metadata": {},
   "source": [
    "#### Question 13\n",
    "\n",
    "Visualize using UMAP"
   ]
  },
  {
   "cell_type": "code",
   "execution_count": 94,
   "id": "7aa6ce0e",
   "metadata": {},
   "outputs": [],
   "source": [
    "import umap.umap_ as umap\n",
    "import seaborn as sns\n",
    "from sklearn.preprocessing import StandardScaler"
   ]
  },
  {
   "cell_type": "code",
   "execution_count": 95,
   "id": "447ace2f",
   "metadata": {},
   "outputs": [
    {
     "data": {
      "text/plain": [
       "(1657, 2)"
      ]
     },
     "execution_count": 95,
     "metadata": {},
     "output_type": "execute_result"
    }
   ],
   "source": [
    "size = 300\n",
    "embeddings_dict = {}\n",
    "with open(\"glove/glove.6B.\"+ str(size)+\"d.txt\", 'r') as f:\n",
    "    for line in f:\n",
    "        values = line.split()\n",
    "        word = values[0]\n",
    "        vector = np.asarray(values[1:], \"float32\")\n",
    "        embeddings_dict[word] = vector\n",
    "\n",
    "X_train = data_to_feature_mapping(train, embeddings_dict, size)\n",
    "\n",
    "reducer = umap.UMAP()\n",
    "scaled_data = StandardScaler().fit_transform(X_train)\n",
    "embedding = reducer.fit_transform(scaled_data)\n",
    "embedding.shape"
   ]
  },
  {
   "cell_type": "code",
   "execution_count": 96,
   "id": "42433f1d",
   "metadata": {},
   "outputs": [
    {
     "data": {
      "image/png": "[encoded data removed]",
      "text/plain": [
       "<Figure size 432x288 with 1 Axes>"
      ]
     },
     "metadata": {
      "needs_background": "light"
     },
     "output_type": "display_data"
    }
   ],
   "source": [
    "plt.scatter(\n",
    "    embedding[:, 0],\n",
    "    embedding[:, 1],\n",
    "    c=[sns.color_palette()[x] for x in train.root_label.map({\"sports\":0, \"climate\":1})])\n",
    "plt.gca().set_aspect('equal', 'datalim')\n",
    "plt.title('UMAP projection of the Training dataset', fontsize=24)\n",
    "plt.savefig(\"umap_train.png\")"
   ]
  },
  {
   "cell_type": "code",
   "execution_count": 97,
   "id": "d0519fc3",
   "metadata": {},
   "outputs": [],
   "source": [
    "rand_data = np.random.rand(1657,300)"
   ]
  },
  {
   "cell_type": "code",
   "execution_count": 98,
   "id": "7246868d",
   "metadata": {},
   "outputs": [
    {
     "data": {
      "text/plain": [
       "(1657, 2)"
      ]
     },
     "execution_count": 98,
     "metadata": {},
     "output_type": "execute_result"
    }
   ],
   "source": [
    "reducer = umap.UMAP()\n",
    "scaled_data_rand = StandardScaler().fit_transform(rand_data)\n",
    "embedding_rand = reducer.fit_transform(scaled_data_rand)\n",
    "embedding_rand.shape"
   ]
  },
  {
   "cell_type": "code",
   "execution_count": 99,
   "id": "a6351e03",
   "metadata": {},
   "outputs": [
    {
     "data": {
      "image/png": "[encoded data removed]",
      "text/plain": [
       "<Figure size 432x288 with 1 Axes>"
      ]
     },
     "metadata": {
      "needs_background": "light"
     },
     "output_type": "display_data"
    }
   ],
   "source": [
    "plt.scatter(\n",
    "    embedding_rand[:, 0],\n",
    "    embedding_rand[:, 1],\n",
    "    c=[sns.color_palette()[x] for x in train.root_label.map({\"sports\":0, \"climate\":1})])\n",
    "plt.gca().set_aspect('equal', 'datalim')\n",
    "plt.title('UMAP projection of the random dataset', fontsize=24)\n",
    "plt.savefig(\"umap_random.png\")"
   ]
  },
  {
   "cell_type": "code",
   "execution_count": null,
   "id": "754eeac3",
   "metadata": {},
   "outputs": [],
   "source": []
  },
  {
   "cell_type": "code",
   "execution_count": null,
   "id": "80edb63f",
   "metadata": {},
   "outputs": [],
   "source": []
  },
  {
   "cell_type": "code",
   "execution_count": null,
   "id": "5e59fa93",
   "metadata": {},
   "outputs": [],
   "source": []
  }
 ],
 "metadata": {
  "kernelspec": {
   "display_name": "Python 3 (ipykernel)",
   "language": "python",
   "name": "python3"
  },
  "language_info": {
   "codemirror_mode": {
    "name": "ipython",
    "version": 3
   },
   "file_extension": ".py",
   "mimetype": "text/x-python",
   "name": "python",
   "nbconvert_exporter": "python",
   "pygments_lexer": "ipython3",
   "version": "3.8.10"
  }
 },
 "nbformat": 4,
 "nbformat_minor": 5
}
