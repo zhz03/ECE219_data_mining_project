{
 "cells": [
  {
   "cell_type": "code",
   "execution_count": 4,
   "id": "a5890d2f",
   "metadata": {},
   "outputs": [],
   "source": [
    "import numpy as np\n",
    "import pandas as pd\n",
    "from sklearn.feature_extraction.text import CountVectorizer\n",
    "from sklearn.feature_extraction import text\n",
    "from sklearn.feature_extraction.text import TfidfTransformer\n",
    "from sklearn.naive_bayes import MultinomialNB\n",
    "from sklearn.decomposition import NMF\n",
    "from tempfile import mkdtemp\n",
    "from shutil import rmtree\n",
    "from sklearn.decomposition import TruncatedSVD\n",
    "from sklearn.linear_model import LogisticRegression\n",
    "from sklearn.pipeline import Pipeline\n",
    "from sklearn.model_selection import GridSearchCV\n",
    "from sklearn.preprocessing import StandardScaler \n",
    "from sklearn.feature_extraction.text import CountVectorizer\n",
    "from sklearn.feature_extraction.text import TfidfTransformer\n",
    "# import nltk"
   ]
  },
  {
   "cell_type": "code",
   "execution_count": 5,
   "id": "30ada602",
   "metadata": {},
   "outputs": [
    {
     "name": "stdout",
     "output_type": "stream",
     "text": [
      "      Unnamed: 0                                          full_text  \\\n",
      "0            590  Having made a massive impact in Saudi Arabia w...   \n",
      "1            388  Cricket is all about the emotional rollercoast...   \n",
      "2            423  New Zealand announces back-to-back tours next ...   \n",
      "3            563  It's not the first time cricket fans in the co...   \n",
      "4            634  An employee works on a computer terminal again...   \n",
      "...          ...                                                ...   \n",
      "2067        3546  DES MOINES, Iowa -- Drought conditions are exp...   \n",
      "2068        3652  WASHINGTON — Vice President Kamala Harris is m...   \n",
      "2069        3555  Drought conditions plaguing much of North Caro...   \n",
      "2070        3507  LAKEWOOD, CO — Mild drought conditions hit Lak...   \n",
      "2071        3611  An update to the U.S. drought monitor came out...   \n",
      "\n",
      "                                                summary  \\\n",
      "0     Having made a massive impact in Saudi Arabia w...   \n",
      "1     No matter which team fans hope to win, every s...   \n",
      "2     New Zealand announces back-to-back tours next ...   \n",
      "3     Billed as one of the pre-tournament favourites...   \n",
      "4     REUTERS/Sivaram VBENGALURU, Oct 11 (Reuters Br...   \n",
      "...                                                 ...   \n",
      "2067  DES MOINES, Iowa -- Drought conditions are exp...   \n",
      "2068  WASHINGTON — Vice President Kamala Harris is m...   \n",
      "2069  Drought conditions plaguing much of North Caro...   \n",
      "2070  LAKEWOOD, CO — Mild drought conditions hit Lak...   \n",
      "2071  CHARLOTTE, N.C. — The latest United States dro...   \n",
      "\n",
      "                                               keywords  \\\n",
      "0     ['singhs', 'rooting', 'cool', 'saudi', 'style'...   \n",
      "1     ['wants', 'fans', 'finals', 'cup', 'win', 'tou...   \n",
      "2     ['test', 'west', 'tour', 'zealand', 'world', '...   \n",
      "3     ['qualify', 'afghanistan', 'cup', 'world', 'ze...   \n",
      "4     ['success', 'tech', 'startup', 'talent', 'onli...   \n",
      "...                                                 ...   \n",
      "2067  ['conditions', 'widespread', 'expand', 'week',...   \n",
      "2068  ['mead', 'change', 'president', 'vice', 'harri...   \n",
      "2069  ['plaguing', 'nina', 'conditions', 'weather', ...   \n",
      "2070  ['worsened', 'conditions', 'midseptember', 'ac...   \n",
      "2071  ['minimal', 'conditions', 'week', 'weather', '...   \n",
      "\n",
      "                    publish_date               authors  \\\n",
      "0                            NaN                    []   \n",
      "1                            NaN                    []   \n",
      "2            2021-12-20 00:00:00                    []   \n",
      "3                            NaN                    []   \n",
      "4            2021-10-11 00:00:00        ['Una Galani']   \n",
      "...                          ...                   ...   \n",
      "2067         2021-10-07 00:00:00        ['Trent Rice']   \n",
      "2068  2021-10-18 11:49:57.566000  ['Associated Press']   \n",
      "2069   2021-12-21 20:07:00+00:00                    []   \n",
      "2070   2021-10-05 14:17:58+00:00                    []   \n",
      "2071         2021-12-23 10:20:00                    []   \n",
      "\n",
      "                                                    url leaf_label root_label  \n",
      "0     https://www.msn.com/en-in/entertainment/other/...    cricket     sports  \n",
      "1     https://www.prnewswire.com:443/news-releases/c...    cricket     sports  \n",
      "2     https://www.aljazeera.com/news/2021/12/20/cric...    cricket     sports  \n",
      "3     https://www.msn.com/en-in/news/other/t20-world...    cricket     sports  \n",
      "4     https://www.reuters.com/breakingviews/india-in...    cricket     sports  \n",
      "...                                                 ...        ...        ...  \n",
      "2067  https://1430kasi.iheart.com/content/2021-10-07...    drought    climate  \n",
      "2068  https://www.abc15.com/news/national/harris-to-...    drought    climate  \n",
      "2069  https://www.wwaytv3.com/drought-conditions-pla...    drought    climate  \n",
      "2070  https://patch.com/colorado/lakewood-co/drought...    drought    climate  \n",
      "2071  https://www.wcnc.com/article/weather/minimal-c...    drought    climate  \n",
      "\n",
      "[2072 rows x 9 columns]\n"
     ]
    }
   ],
   "source": [
    "dataset = pd.read_csv('Project_1_dataset_01_01_2022.csv', on_bad_lines='skip')\n",
    "print(dataset)"
   ]
  },
  {
   "cell_type": "code",
   "execution_count": 6,
   "id": "1678b319",
   "metadata": {},
   "outputs": [
    {
     "name": "stdout",
     "output_type": "stream",
     "text": [
      "(2072, 9)\n"
     ]
    }
   ],
   "source": [
    "print(dataset.shape)"
   ]
  },
  {
   "cell_type": "code",
   "execution_count": 7,
   "id": "98bb06c2",
   "metadata": {},
   "outputs": [
    {
     "name": "stdout",
     "output_type": "stream",
     "text": [
      "         0\n",
      "0     1365\n",
      "1     1797\n",
      "2     2289\n",
      "3     3823\n",
      "4     4437\n",
      "...    ...\n",
      "2067   421\n",
      "2068   647\n",
      "2069  1799\n",
      "2070   805\n",
      "2071  1471\n",
      "\n",
      "[2072 rows x 1 columns]\n"
     ]
    },
    {
     "data": {
      "image/png": "[encoded data removed]",
      "text/plain": [
       "<Figure size 432x288 with 1 Axes>"
      ]
     },
     "metadata": {
      "needs_background": "light"
     },
     "output_type": "display_data"
    }
   ],
   "source": [
    "import matplotlib.pyplot as plt\n",
    "hist_h = []\n",
    "\n",
    "for index, row in dataset.iterrows():\n",
    "    a = str(row['full_text'])\n",
    "    n = 0\n",
    "    for c in a:\n",
    "        if c.isalpha() or c.isdigit():\n",
    "            n = n+1\n",
    "    hist_h.append(n)\n",
    "pd.DataFrame(hist_h).hist(bins = 100)\n",
    "print(pd.DataFrame(hist_h))"
   ]
  },
  {
   "cell_type": "markdown",
   "id": "df04dbaa",
   "metadata": {},
   "source": [
    "# Question 2"
   ]
  },
  {
   "cell_type": "code",
   "execution_count": 8,
   "id": "36c90f06",
   "metadata": {},
   "outputs": [
    {
     "name": "stdout",
     "output_type": "stream",
     "text": [
      "(1657, 2)\n",
      "(415, 2)\n"
     ]
    }
   ],
   "source": [
    "import random\n",
    "np.random.seed(42)\n",
    "random.seed(42)\n",
    "\n",
    "from sklearn.model_selection import train_test_split\n",
    "train, test = train_test_split(dataset[[\"full_text\",\"root_label\"]], test_size=0.2)\n",
    "print(np.array(train).shape)\n",
    "print(np.array(test).shape)"
   ]
  },
  {
   "cell_type": "markdown",
   "id": "d59ce8f9",
   "metadata": {},
   "source": [
    "# Question 3"
   ]
  },
  {
   "cell_type": "code",
   "execution_count": 9,
   "id": "4c7ba76c",
   "metadata": {},
   "outputs": [],
   "source": [
    "from sklearn.feature_extraction import text\n",
    "import re\n",
    "def clean(text):\n",
    "    text = re.sub(r'^https?:\\/\\/.*[\\r\\n]*', '', text, flags=re.MULTILINE)\n",
    "    texter = re.sub(r\"<br />\", \" \", text)\n",
    "    texter = re.sub(r\"&quot;\", \"\\\"\",texter)\n",
    "    texter = re.sub('&#39;', \"\\\"\", texter)\n",
    "    texter = re.sub('\\n', \" \", texter)\n",
    "    texter = re.sub(' u ',\" you \", texter)\n",
    "    texter = re.sub('`',\"\", texter)\n",
    "    texter = re.sub(' +', ' ', texter)\n",
    "    texter = re.sub(r\"(!)\\1+\", r\"!\", texter)\n",
    "    texter = re.sub(r\"(\\?)\\1+\", r\"?\", texter)\n",
    "    texter = re.sub('&amp;', 'and', texter)\n",
    "    texter = re.sub('\\r', ' ',texter)\n",
    "    clean = re.compile('<.*?>')\n",
    "    texter = texter.encode('ascii', 'ignore').decode('ascii')\n",
    "    texter = re.sub(clean, '', texter)\n",
    "    if texter == \"\":\n",
    "        texter = \"\"\n",
    "    return texter\n",
    "\n",
    "for index, row in train.iterrows():\n",
    "    row['full_text'] = clean(row['full_text'])\n",
    "\n",
    "for index, row in test.iterrows():\n",
    "    row['full_text'] = clean(row['full_text'])\n"
   ]
  },
  {
   "cell_type": "code",
   "execution_count": 10,
   "id": "213e3bbe",
   "metadata": {},
   "outputs": [
    {
     "name": "stdout",
     "output_type": "stream",
     "text": [
      "# of stop_words_en:\t\t 179\n",
      "# of stop_words_skt:\t\t 318\n",
      "# of punctuation:\t\t 32\n"
     ]
    }
   ],
   "source": [
    "import nltk\n",
    "\n",
    "## Uncomment all and download and comment it back \n",
    "# nltk.download('punkt')#, if you need \"tokenizers/punkt/english.pickle\", choose it\n",
    "# nltk.download('averaged_perceptron_tagger')\n",
    "# nltk.download('stopwords' )\n",
    "# nltk.download('wordnet')\n",
    "# nltk.download('omw-1.4')\n",
    "\n",
    "from nltk import pos_tag\n",
    "from sklearn.feature_extraction import text\n",
    "from nltk.corpus import stopwords\n",
    "\n",
    "stop_words_en = stopwords.words('english')\n",
    "stop_words_skt = text.ENGLISH_STOP_WORDS\n",
    "from string import punctuation\n",
    "print(\"# of stop_words_en:\\t\\t %s\" % len(stop_words_en))\n",
    "print(\"# of stop_words_skt:\\t\\t %s\" % len(stop_words_skt))\n",
    "print(\"# of punctuation:\\t\\t %s\" % len(punctuation))\n",
    "combined_stopwords = set.union(set(stop_words_en),set(punctuation),set(stop_words_skt))\n",
    "wnl = nltk.wordnet.WordNetLemmatizer()\n",
    "analyzer = CountVectorizer().build_analyzer()\n",
    "\n",
    "def penn2morphy(penntag):\n",
    "    \"\"\" Converts Penn Treebank tags to WordNet. \"\"\"\n",
    "    morphy_tag = {'NN':'n', 'JJ':'a',\n",
    "                  'VB':'v', 'RB':'r'}\n",
    "    try:\n",
    "        return morphy_tag[penntag[:2]]\n",
    "    except:\n",
    "        return 'n' \n",
    "\n",
    "def lemmatize_sent(list_word): \n",
    "    # Text input is string, returns array of lowercased strings(words).\n",
    "    return [wnl.lemmatize(word.lower(), pos=penn2morphy(tag)) \n",
    "            for word, tag in pos_tag(list_word)]\n",
    "\n",
    "def stem_rmv_punc(doc): # this should have been at the sentence-level because the pos-tag performs best at sentence-level\n",
    "    return (word for word in lemmatize_sent(analyzer(doc)) if word not in combined_stopwords and not word.isdigit())\n",
    "\n",
    "count_vect = CountVectorizer(stop_words='english', min_df=3, max_df=0.7, analyzer=stem_rmv_punc)"
   ]
  },
  {
   "cell_type": "code",
   "execution_count": 11,
   "id": "3477f3ee",
   "metadata": {},
   "outputs": [
    {
     "name": "stdout",
     "output_type": "stream",
     "text": [
      "(1657, 10130)\n",
      "(415, 4292)\n"
     ]
    }
   ],
   "source": [
    "X_train_counts = count_vect.fit_transform(train.full_text)\n",
    "print(X_train_counts.shape)\n",
    "\n",
    "X_test_counts = count_vect.fit_transform(test.full_text)\n",
    "print(X_test_counts.shape)"
   ]
  },
  {
   "cell_type": "code",
   "execution_count": 21,
   "id": "85e00de2",
   "metadata": {},
   "outputs": [
    {
     "name": "stdout",
     "output_type": "stream",
     "text": [
      "(1657, 10130)\n",
      "(415, 4292)\n"
     ]
    }
   ],
   "source": [
    "tfidf_transformer = TfidfTransformer()\n",
    "X_train_tfidf = tfidf_transformer.fit_transform(X_train_counts)\n",
    "X_test_tfidf = tfidf_transformer.fit_transform(X_test_counts)\n",
    "print(X_train_tfidf.shape)\n",
    "print(X_test_tfidf.shape)"
   ]
  },
  {
   "cell_type": "markdown",
   "id": "4a038086",
   "metadata": {},
   "source": [
    "# Question 4"
   ]
  },
  {
   "cell_type": "code",
   "execution_count": 13,
   "id": "7dbadef2",
   "metadata": {},
   "outputs": [
    {
     "name": "stdout",
     "output_type": "stream",
     "text": [
      "(1657, 50)\n"
     ]
    }
   ],
   "source": [
    "from sklearn.decomposition import NMF\n",
    "\n",
    "modelNMF = NMF(n_components=50, init='random', random_state=0)\n",
    "W_trainNMF = modelNMF.fit_transform(X_train_tfidf)\n",
    "print(W_trainNMF.shape)"
   ]
  },
  {
   "cell_type": "code",
   "execution_count": 22,
   "id": "19a658f0",
   "metadata": {},
   "outputs": [
    {
     "name": "stdout",
     "output_type": "stream",
     "text": [
      "(1657, 50)\n",
      "(415, 50)\n"
     ]
    }
   ],
   "source": [
    "## For LSI\n",
    "from sklearn.decomposition import TruncatedSVD\n",
    "modelTruncatedSVD = TruncatedSVD(n_components=50, random_state=0)\n",
    "W_trainTruncatedSVD = modelTruncatedSVD.fit_transform(X_train_tfidf)\n",
    "print(W_trainTruncatedSVD.shape)\n",
    "\n",
    "## LSI for Test Data\n",
    "W_testTruncatedSVD = modelTruncatedSVD.fit_transform(X_test_tfidf)\n",
    "print(W_testTruncatedSVD.shape)"
   ]
  },
  {
   "cell_type": "code",
   "execution_count": 15,
   "id": "7e31085a",
   "metadata": {},
   "outputs": [
    {
     "data": {
      "image/png": "[encoded data removed]",
      "text/plain": [
       "<Figure size 432x288 with 1 Axes>"
      ]
     },
     "metadata": {
      "needs_background": "light"
     },
     "output_type": "display_data"
    },
    {
     "data": {
      "image/png": "[encoded data removed]",
      "text/plain": [
       "<Figure size 432x288 with 1 Axes>"
      ]
     },
     "metadata": {
      "needs_background": "light"
     },
     "output_type": "display_data"
    },
    {
     "data": {
      "image/png": "[encoded data removed]",
      "text/plain": [
       "<Figure size 432x288 with 1 Axes>"
      ]
     },
     "metadata": {
      "needs_background": "light"
     },
     "output_type": "display_data"
    },
    {
     "data": {
      "image/png": "[encoded data removed]",
      "text/plain": [
       "<Figure size 432x288 with 1 Axes>"
      ]
     },
     "metadata": {
      "needs_background": "light"
     },
     "output_type": "display_data"
    },
    {
     "data": {
      "image/png": "[encoded data removed]",
      "text/plain": [
       "<Figure size 432x288 with 1 Axes>"
      ]
     },
     "metadata": {
      "needs_background": "light"
     },
     "output_type": "display_data"
    },
    {
     "data": {
      "image/png": "[encoded data removed]",
      "text/plain": [
       "<Figure size 432x288 with 1 Axes>"
      ]
     },
     "metadata": {
      "needs_background": "light"
     },
     "output_type": "display_data"
    },
    {
     "data": {
      "image/png": "[encoded data removed]",
      "text/plain": [
       "<Figure size 432x288 with 1 Axes>"
      ]
     },
     "metadata": {
      "needs_background": "light"
     },
     "output_type": "display_data"
    },
    {
     "data": {
      "image/png": "[encoded data removed]",
      "text/plain": [
       "<Figure size 432x288 with 1 Axes>"
      ]
     },
     "metadata": {
      "needs_background": "light"
     },
     "output_type": "display_data"
    }
   ],
   "source": [
    "# print(modelTruncatedSVD.explained_variance_ratio_)\n",
    "k = [1, 10, 50, 100, 200, 500, 1000, 2000]\n",
    "for i in range(len(k)):\n",
    "    SVD = TruncatedSVD(n_components=k[i], random_state=0)\n",
    "    SVD.fit_transform(X_train_tfidf)\n",
    "    fig = plt.plot(SVD.explained_variance_ratio_)\n",
    "    plt.show()"
   ]
  },
  {
   "cell_type": "markdown",
   "id": "4d429a9c",
   "metadata": {},
   "source": [
    "# Question 6"
   ]
  },
  {
   "cell_type": "code",
   "execution_count": 37,
   "id": "92dab4d9",
   "metadata": {},
   "outputs": [
    {
     "name": "stdout",
     "output_type": "stream",
     "text": [
      "0.7879518072289157\n",
      "              precision    recall  f1-score   support\n",
      "\n",
      "       False       0.74      0.88      0.81       206\n",
      "        True       0.86      0.69      0.77       209\n",
      "\n",
      "    accuracy                           0.79       415\n",
      "   macro avg       0.80      0.79      0.79       415\n",
      "weighted avg       0.80      0.79      0.79       415\n",
      "\n"
     ]
    }
   ],
   "source": [
    "from sklearn.linear_model import LogisticRegression\n",
    "from sklearn.metrics import classification_report\n",
    "\n",
    "logistic = LogisticRegression(penalty = 'none', max_iter=10000, tol=0.1)\n",
    "Xtrain_logistic = W_trainTruncatedSVD\n",
    "ytrain_logistic = train.root_label==\"sports\"\n",
    "logistic.fit(Xtrain_logistic, ytrain_logistic)\n",
    "\n",
    "Xtest_logistic = W_testTruncatedSVD\n",
    "ytest_logistic = test.root_label==\"sports\"\n",
    "ytest_pred_logistic = logistic.predict(Xtest_logistic)\n",
    "print(logistic.score(Xtest_logistic, ytest_logistic))\n",
    "print(classification_report(ytest_logistic, ytest_pred_logistic))"
   ]
  },
  {
   "cell_type": "code",
   "execution_count": 38,
   "id": "425c77a7",
   "metadata": {},
   "outputs": [],
   "source": [
    "from sklearn.metrics import confusion_matrix\n",
    "from sklearn.metrics import precision_score\n",
    "from sklearn.metrics import recall_score\n",
    "from sklearn.metrics import roc_curve\n",
    "from sklearn.metrics import auc\n",
    "\n",
    "def plot_roc(fpr, tpr):\n",
    "    fig, ax = plt.subplots()\n",
    "\n",
    "    roc_auc = auc(fpr,tpr)\n",
    "\n",
    "    ax.plot(fpr, tpr, lw=2, label= 'area under curve = %0.4f' % roc_auc)\n",
    "\n",
    "    ax.grid(color='0.7', linestyle='--', linewidth=1)\n",
    "\n",
    "    ax.set_xlim([-0.1, 1.1])\n",
    "    ax.set_ylim([0.0, 1.05])\n",
    "    ax.set_xlabel('False Positive Rate',fontsize=15)\n",
    "    ax.set_ylabel('True Positive Rate',fontsize=15)\n",
    "\n",
    "    ax.legend(loc=\"lower right\")\n",
    "\n",
    "    for label in ax.get_xticklabels()+ax.get_yticklabels():\n",
    "        label.set_fontsize(15)\n",
    "\n",
    "def fit_predict_and_plot_roc(pipe, train_data, train_label, test_data, test_label):\n",
    "    pipe.fit(train_data, train_label)\n",
    "    # pipeline1.predict(twenty_test.data)\n",
    "\n",
    "    prob_score = pipe.predict_proba(test_data)\n",
    "\n",
    "    fpr, tpr, _ = roc_curve(test_label, prob_score[:,1])\n",
    "\n",
    "    plot_roc(fpr, tpr)\n",
    "    return pipe"
   ]
  },
  {
   "cell_type": "code",
   "execution_count": 39,
   "id": "61acba14",
   "metadata": {},
   "outputs": [
    {
     "data": {
      "text/plain": [
       "LogisticRegression(max_iter=10000, penalty='none', tol=0.1)"
      ]
     },
     "execution_count": 39,
     "metadata": {},
     "output_type": "execute_result"
    },
    {
     "data": {
      "image/png": "[encoded data removed]",
      "text/plain": [
       "<Figure size 432x288 with 1 Axes>"
      ]
     },
     "metadata": {
      "needs_background": "light"
     },
     "output_type": "display_data"
    }
   ],
   "source": [
    "fit_predict_and_plot_roc(logistic, Xtrain_logistic, ytrain_logistic, Xtest_logistic, ytest_logistic)"
   ]
  },
  {
   "cell_type": "code",
   "execution_count": 40,
   "id": "b88f5fe8",
   "metadata": {},
   "outputs": [
    {
     "name": "stdout",
     "output_type": "stream",
     "text": [
      "0.7879518072289157\n",
      "              precision    recall  f1-score   support\n",
      "\n",
      "       False       0.74      0.88      0.81       206\n",
      "        True       0.86      0.69      0.77       209\n",
      "\n",
      "    accuracy                           0.79       415\n",
      "   macro avg       0.80      0.79      0.79       415\n",
      "weighted avg       0.80      0.79      0.79       415\n",
      "\n",
      "0.8819277108433735\n",
      "              precision    recall  f1-score   support\n",
      "\n",
      "       False       0.74      0.88      0.81       206\n",
      "        True       0.86      0.69      0.77       209\n",
      "\n",
      "    accuracy                           0.79       415\n",
      "   macro avg       0.80      0.79      0.79       415\n",
      "weighted avg       0.80      0.79      0.79       415\n",
      "\n",
      "0.8746987951807229\n",
      "              precision    recall  f1-score   support\n",
      "\n",
      "       False       0.74      0.88      0.81       206\n",
      "        True       0.86      0.69      0.77       209\n",
      "\n",
      "    accuracy                           0.79       415\n",
      "   macro avg       0.80      0.79      0.79       415\n",
      "weighted avg       0.80      0.79      0.79       415\n",
      "\n"
     ]
    }
   ],
   "source": [
    "# Regularization Comparision: none vs l1 vs l2\n",
    "\n",
    "logisticNone = LogisticRegression(penalty = 'none', max_iter=10000, tol=0.1)\n",
    "logisticL1 = LogisticRegression(penalty = 'l1', solver='liblinear', max_iter=10000, tol=0.1)\n",
    "logisticL2 = LogisticRegression( penalty = 'l2', max_iter=10000, tol=0.1)\n",
    "\n",
    "logisticNone.fit(Xtrain_logistic, ytrain_logistic)\n",
    "logisticL1.fit(Xtrain_logistic, ytrain_logistic)\n",
    "logisticL2.fit(Xtrain_logistic, ytrain_logistic)\n",
    "\n",
    "ytest_pred_logistic_None = logisticNone.predict(Xtest_logistic)\n",
    "print(logisticNone.score(Xtest_logistic, ytest_logistic))\n",
    "print(classification_report(ytest_logistic, ytest_pred_logistic))\n",
    "\n",
    "ytest_pred_logistic_L1 = logisticL1.predict(Xtest_logistic)\n",
    "print(logisticL1.score(Xtest_logistic, ytest_logistic))\n",
    "print(classification_report(ytest_logistic, ytest_pred_logistic))\n",
    "\n",
    "ytest_pred_logistic_L2 = logisticL2.predict(Xtest_logistic)\n",
    "print(logisticL2.score(Xtest_logistic, ytest_logistic))\n",
    "print(classification_report(ytest_logistic, ytest_pred_logistic))"
   ]
  },
  {
   "cell_type": "code",
   "execution_count": 42,
   "id": "5cb0ce8f",
   "metadata": {},
   "outputs": [
    {
     "name": "stdout",
     "output_type": "stream",
     "text": [
      "              precision    recall  f1-score   support\n",
      "\n",
      "       False       0.98      0.96      0.97       166\n",
      "        True       0.96      0.98      0.97       166\n",
      "\n",
      "    accuracy                           0.97       332\n",
      "   macro avg       0.97      0.97      0.97       332\n",
      "weighted avg       0.97      0.97      0.97       332\n",
      "\n",
      "              precision    recall  f1-score   support\n",
      "\n",
      "       False       0.97      0.93      0.95       166\n",
      "        True       0.94      0.97      0.95       166\n",
      "\n",
      "    accuracy                           0.95       332\n",
      "   macro avg       0.95      0.95      0.95       332\n",
      "weighted avg       0.95      0.95      0.95       332\n",
      "\n",
      "              precision    recall  f1-score   support\n",
      "\n",
      "       False       0.92      0.93      0.92       166\n",
      "        True       0.93      0.92      0.92       165\n",
      "\n",
      "    accuracy                           0.92       331\n",
      "   macro avg       0.92      0.92      0.92       331\n",
      "weighted avg       0.92      0.92      0.92       331\n",
      "\n",
      "              precision    recall  f1-score   support\n",
      "\n",
      "       False       0.98      0.97      0.98       166\n",
      "        True       0.97      0.98      0.98       165\n",
      "\n",
      "    accuracy                           0.98       331\n",
      "   macro avg       0.98      0.98      0.98       331\n",
      "weighted avg       0.98      0.98      0.98       331\n",
      "\n",
      "              precision    recall  f1-score   support\n",
      "\n",
      "       False       0.96      0.95      0.95       166\n",
      "        True       0.95      0.96      0.95       165\n",
      "\n",
      "    accuracy                           0.95       331\n",
      "   macro avg       0.95      0.95      0.95       331\n",
      "weighted avg       0.95      0.95      0.95       331\n",
      "\n",
      "[0.96987952 0.95180723 0.9244713  0.97583082 0.95468278]\n"
     ]
    }
   ],
   "source": [
    "from sklearn.metrics import classification_report, accuracy_score, make_scorer\n",
    "from sklearn.model_selection import cross_val_score\n",
    "\n",
    "def classification_report_with_accuracy_score(y_true, y_pred):\n",
    "\n",
    "    print (classification_report(y_true, y_pred))# print classification report\n",
    "    return accuracy_score(y_true, y_pred) # return accuracy score\n",
    "\n",
    "# 5-Fold Cross Validation with L1\n",
    "\n",
    "cv_score_L1 = cross_val_score(logisticL1, X=Xtrain_logistic, y=ytrain_logistic, cv=5, \\\n",
    "               scoring=make_scorer(classification_report_with_accuracy_score))\n",
    "print (cv_score_L1)"
   ]
  },
  {
   "cell_type": "code",
   "execution_count": 43,
   "id": "d8c1c79c",
   "metadata": {},
   "outputs": [
    {
     "name": "stdout",
     "output_type": "stream",
     "text": [
      "              precision    recall  f1-score   support\n",
      "\n",
      "       False       0.98      0.96      0.97       166\n",
      "        True       0.96      0.98      0.97       166\n",
      "\n",
      "    accuracy                           0.97       332\n",
      "   macro avg       0.97      0.97      0.97       332\n",
      "weighted avg       0.97      0.97      0.97       332\n",
      "\n",
      "              precision    recall  f1-score   support\n",
      "\n",
      "       False       0.97      0.92      0.94       166\n",
      "        True       0.93      0.97      0.95       166\n",
      "\n",
      "    accuracy                           0.95       332\n",
      "   macro avg       0.95      0.95      0.95       332\n",
      "weighted avg       0.95      0.95      0.95       332\n",
      "\n",
      "              precision    recall  f1-score   support\n",
      "\n",
      "       False       0.94      0.93      0.93       166\n",
      "        True       0.93      0.94      0.93       165\n",
      "\n",
      "    accuracy                           0.93       331\n",
      "   macro avg       0.93      0.93      0.93       331\n",
      "weighted avg       0.93      0.93      0.93       331\n",
      "\n",
      "              precision    recall  f1-score   support\n",
      "\n",
      "       False       0.98      0.95      0.97       166\n",
      "        True       0.95      0.98      0.97       165\n",
      "\n",
      "    accuracy                           0.97       331\n",
      "   macro avg       0.97      0.97      0.97       331\n",
      "weighted avg       0.97      0.97      0.97       331\n",
      "\n",
      "              precision    recall  f1-score   support\n",
      "\n",
      "       False       0.99      0.93      0.96       166\n",
      "        True       0.94      0.99      0.96       165\n",
      "\n",
      "    accuracy                           0.96       331\n",
      "   macro avg       0.97      0.96      0.96       331\n",
      "weighted avg       0.97      0.96      0.96       331\n",
      "\n",
      "[0.97289157 0.94578313 0.93353474 0.96676737 0.96374622]\n"
     ]
    }
   ],
   "source": [
    "# 5-Fold Cross Validation with L2\n",
    "\n",
    "cv_score_L2 = cross_val_score(logisticL2, X=Xtrain_logistic, y=ytrain_logistic, cv=5, \\\n",
    "               scoring=make_scorer(classification_report_with_accuracy_score))\n",
    "print (cv_score_L2)"
   ]
  },
  {
   "cell_type": "markdown",
   "id": "a86c7f08",
   "metadata": {},
   "source": [
    "# Question 7"
   ]
  },
  {
   "cell_type": "code",
   "execution_count": 44,
   "id": "413855ed",
   "metadata": {},
   "outputs": [
    {
     "name": "stdout",
     "output_type": "stream",
     "text": [
      "0.7879518072289157\n",
      "              precision    recall  f1-score   support\n",
      "\n",
      "       False       0.74      0.88      0.81       206\n",
      "        True       0.86      0.69      0.77       209\n",
      "\n",
      "    accuracy                           0.79       415\n",
      "   macro avg       0.80      0.79      0.79       415\n",
      "weighted avg       0.80      0.79      0.79       415\n",
      "\n"
     ]
    }
   ],
   "source": [
    "from sklearn.naive_bayes import GaussianNB\n",
    "\n",
    "naivebayes = GaussianNB()\n",
    "Xtrain = W_trainTruncatedSVD\n",
    "ytrain = train.root_label==\"sports\"\n",
    "logistic.fit(Xtrain, ytrain)\n",
    "\n",
    "Xtest = W_testTruncatedSVD\n",
    "ytest = test.root_label==\"sports\"\n",
    "ytest_pred_gNB = logistic.predict(Xtest)\n",
    "print(logistic.score(Xtest, ytest))\n",
    "print(classification_report(ytest, ytest_pred_gNB))"
   ]
  }
 ],
 "metadata": {
  "kernelspec": {
   "display_name": "Python 3 (ipykernel)",
   "language": "python",
   "name": "python3"
  },
  "language_info": {
   "codemirror_mode": {
    "name": "ipython",
    "version": 3
   },
   "file_extension": ".py",
   "mimetype": "text/x-python",
   "name": "python",
   "nbconvert_exporter": "python",
   "pygments_lexer": "ipython3",
   "version": "3.9.7"
  }
 },
 "nbformat": 4,
 "nbformat_minor": 5
}
