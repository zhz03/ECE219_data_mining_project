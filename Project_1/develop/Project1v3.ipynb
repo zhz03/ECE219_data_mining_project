{
 "cells": [
  {
   "cell_type": "code",
   "execution_count": 39,
   "id": "d66e486e",
   "metadata": {},
   "outputs": [],
   "source": [
    "import pandas as pd"
   ]
  },
  {
   "cell_type": "code",
   "execution_count": 40,
   "id": "327d141b",
   "metadata": {},
   "outputs": [],
   "source": [
    "# read csv file\n",
    "filename = \"Project_1_dataset_01_01_2022.csv\"\n",
    "df = pd.read_csv(filename)"
   ]
  },
  {
   "cell_type": "code",
   "execution_count": 41,
   "id": "de8d1510",
   "metadata": {},
   "outputs": [
    {
     "data": {
      "text/html": [
       "<div>\n",
       "<style scoped>\n",
       "    .dataframe tbody tr th:only-of-type {\n",
       "        vertical-align: middle;\n",
       "    }\n",
       "\n",
       "    .dataframe tbody tr th {\n",
       "        vertical-align: top;\n",
       "    }\n",
       "\n",
       "    .dataframe thead th {\n",
       "        text-align: right;\n",
       "    }\n",
       "</style>\n",
       "<table border=\"1\" class=\"dataframe\">\n",
       "  <thead>\n",
       "    <tr style=\"text-align: right;\">\n",
       "      <th></th>\n",
       "      <th>Unnamed: 0</th>\n",
       "      <th>full_text</th>\n",
       "      <th>summary</th>\n",
       "      <th>keywords</th>\n",
       "      <th>publish_date</th>\n",
       "      <th>authors</th>\n",
       "      <th>url</th>\n",
       "      <th>leaf_label</th>\n",
       "      <th>root_label</th>\n",
       "    </tr>\n",
       "  </thead>\n",
       "  <tbody>\n",
       "    <tr>\n",
       "      <th>0</th>\n",
       "      <td>590</td>\n",
       "      <td>Having made a massive impact in Saudi Arabia w...</td>\n",
       "      <td>Having made a massive impact in Saudi Arabia w...</td>\n",
       "      <td>['singhs', 'rooting', 'cool', 'saudi', 'style'...</td>\n",
       "      <td>NaN</td>\n",
       "      <td>[]</td>\n",
       "      <td>https://www.msn.com/en-in/entertainment/other/...</td>\n",
       "      <td>cricket</td>\n",
       "      <td>sports</td>\n",
       "    </tr>\n",
       "    <tr>\n",
       "      <th>1</th>\n",
       "      <td>388</td>\n",
       "      <td>Cricket is all about the emotional rollercoast...</td>\n",
       "      <td>No matter which team fans hope to win, every s...</td>\n",
       "      <td>['wants', 'fans', 'finals', 'cup', 'win', 'tou...</td>\n",
       "      <td>NaN</td>\n",
       "      <td>[]</td>\n",
       "      <td>https://www.prnewswire.com:443/news-releases/c...</td>\n",
       "      <td>cricket</td>\n",
       "      <td>sports</td>\n",
       "    </tr>\n",
       "    <tr>\n",
       "      <th>2</th>\n",
       "      <td>423</td>\n",
       "      <td>New Zealand announces back-to-back tours next ...</td>\n",
       "      <td>New Zealand announces back-to-back tours next ...</td>\n",
       "      <td>['test', 'west', 'tour', 'zealand', 'world', '...</td>\n",
       "      <td>2021-12-20 00:00:00</td>\n",
       "      <td>[]</td>\n",
       "      <td>https://www.aljazeera.com/news/2021/12/20/cric...</td>\n",
       "      <td>cricket</td>\n",
       "      <td>sports</td>\n",
       "    </tr>\n",
       "    <tr>\n",
       "      <th>3</th>\n",
       "      <td>563</td>\n",
       "      <td>It's not the first time cricket fans in the co...</td>\n",
       "      <td>Billed as one of the pre-tournament favourites...</td>\n",
       "      <td>['qualify', 'afghanistan', 'cup', 'world', 'ze...</td>\n",
       "      <td>NaN</td>\n",
       "      <td>[]</td>\n",
       "      <td>https://www.msn.com/en-in/news/other/t20-world...</td>\n",
       "      <td>cricket</td>\n",
       "      <td>sports</td>\n",
       "    </tr>\n",
       "    <tr>\n",
       "      <th>4</th>\n",
       "      <td>634</td>\n",
       "      <td>An employee works on a computer terminal again...</td>\n",
       "      <td>REUTERS/Sivaram VBENGALURU, Oct 11 (Reuters Br...</td>\n",
       "      <td>['success', 'tech', 'startup', 'talent', 'onli...</td>\n",
       "      <td>2021-10-11 00:00:00</td>\n",
       "      <td>['Una Galani']</td>\n",
       "      <td>https://www.reuters.com/breakingviews/india-in...</td>\n",
       "      <td>cricket</td>\n",
       "      <td>sports</td>\n",
       "    </tr>\n",
       "  </tbody>\n",
       "</table>\n",
       "</div>"
      ],
      "text/plain": [
       "   Unnamed: 0                                          full_text  \\\n",
       "0         590  Having made a massive impact in Saudi Arabia w...   \n",
       "1         388  Cricket is all about the emotional rollercoast...   \n",
       "2         423  New Zealand announces back-to-back tours next ...   \n",
       "3         563  It's not the first time cricket fans in the co...   \n",
       "4         634  An employee works on a computer terminal again...   \n",
       "\n",
       "                                             summary  \\\n",
       "0  Having made a massive impact in Saudi Arabia w...   \n",
       "1  No matter which team fans hope to win, every s...   \n",
       "2  New Zealand announces back-to-back tours next ...   \n",
       "3  Billed as one of the pre-tournament favourites...   \n",
       "4  REUTERS/Sivaram VBENGALURU, Oct 11 (Reuters Br...   \n",
       "\n",
       "                                            keywords         publish_date  \\\n",
       "0  ['singhs', 'rooting', 'cool', 'saudi', 'style'...                  NaN   \n",
       "1  ['wants', 'fans', 'finals', 'cup', 'win', 'tou...                  NaN   \n",
       "2  ['test', 'west', 'tour', 'zealand', 'world', '...  2021-12-20 00:00:00   \n",
       "3  ['qualify', 'afghanistan', 'cup', 'world', 'ze...                  NaN   \n",
       "4  ['success', 'tech', 'startup', 'talent', 'onli...  2021-10-11 00:00:00   \n",
       "\n",
       "          authors                                                url  \\\n",
       "0              []  https://www.msn.com/en-in/entertainment/other/...   \n",
       "1              []  https://www.prnewswire.com:443/news-releases/c...   \n",
       "2              []  https://www.aljazeera.com/news/2021/12/20/cric...   \n",
       "3              []  https://www.msn.com/en-in/news/other/t20-world...   \n",
       "4  ['Una Galani']  https://www.reuters.com/breakingviews/india-in...   \n",
       "\n",
       "  leaf_label root_label  \n",
       "0    cricket     sports  \n",
       "1    cricket     sports  \n",
       "2    cricket     sports  \n",
       "3    cricket     sports  \n",
       "4    cricket     sports  "
      ]
     },
     "execution_count": 41,
     "metadata": {},
     "output_type": "execute_result"
    }
   ],
   "source": [
    "# check the data\n",
    "df.head()"
   ]
  },
  {
   "cell_type": "markdown",
   "id": "708bfb1b",
   "metadata": {},
   "source": [
    "## Question1"
   ]
  },
  {
   "cell_type": "code",
   "execution_count": 42,
   "id": "e6524623",
   "metadata": {},
   "outputs": [],
   "source": [
    "import matplotlib.pyplot as plt\n",
    "%matplotlib inline\n",
    "class question1:\n",
    "    def __init__(self):\n",
    "        pass\n",
    "    def overview(self,df):\n",
    "        shape = df.shape\n",
    "        samples,features = shape[0],shape[1]\n",
    "        return samples,features\n",
    "    \n",
    "    def histogram_a(self,df):\n",
    "        r,c = self.overview(df)\n",
    "        ft = df['full_text']\n",
    "        \n",
    "        count = []\n",
    "        for i in range(r):\n",
    "            count.append(len(ft[i]))\n",
    "        \n",
    "        plt.figure()\n",
    "        plt.hist(count,50)\n",
    "        plt.xlabel('count')\n",
    "        plt.ylabel('frequency')\n",
    "        plt.show()\n",
    "        \n",
    "    def histogram_bc(self,df,col_name):\n",
    "        df_class = df[col_name]\n",
    "        df_set = set(df_class)\n",
    "        class_dict = {}\n",
    "        for key in df[col_name]:\n",
    "            class_dict[key] = class_dict.get(key,0)+1\n",
    "        \n",
    "        plt.figure(figsize=(12,4))\n",
    "        plt.bar(class_dict.keys(),class_dict.values(),0.5)\n",
    "        plt.xlabel('class')\n",
    "        plt.ylabel('frequency')\n",
    "        plt.show()\n",
    "q1 = question1()    "
   ]
  },
  {
   "cell_type": "code",
   "execution_count": 43,
   "id": "3e757699",
   "metadata": {},
   "outputs": [
    {
     "name": "stdout",
     "output_type": "stream",
     "text": [
      "sample number:2072\n",
      "features number:9\n"
     ]
    }
   ],
   "source": [
    "# overview\n",
    "samples,features = q1.overview(df)\n",
    "print(\"sample number:{}\".format(samples))\n",
    "print(\"features number:{}\".format(features))"
   ]
  },
  {
   "cell_type": "code",
   "execution_count": 44,
   "id": "a07ae44a",
   "metadata": {},
   "outputs": [
    {
     "data": {
      "image/png": "[encoded data removed]",
      "text/plain": [
       "<Figure size 432x288 with 1 Axes>"
      ]
     },
     "metadata": {
      "needs_background": "light"
     },
     "output_type": "display_data"
    }
   ],
   "source": [
    "# histogram (a)\n",
    "q1.histogram_a(df)"
   ]
  },
  {
   "cell_type": "code",
   "execution_count": 45,
   "id": "37c6ffb0",
   "metadata": {
    "scrolled": true
   },
   "outputs": [
    {
     "data": {
      "image/png": "[encoded data removed]",
      "text/plain": [
       "<Figure size 864x288 with 1 Axes>"
      ]
     },
     "metadata": {
      "needs_background": "light"
     },
     "output_type": "display_data"
    }
   ],
   "source": [
    "# histogram (b)\n",
    "q1.histogram_bc(df,'leaf_label')"
   ]
  },
  {
   "cell_type": "code",
   "execution_count": 46,
   "id": "4ddee3fc",
   "metadata": {},
   "outputs": [
    {
     "data": {
      "image/png": "[encoded data removed]",
      "text/plain": [
       "<Figure size 864x288 with 1 Axes>"
      ]
     },
     "metadata": {
      "needs_background": "light"
     },
     "output_type": "display_data"
    }
   ],
   "source": [
    "# histogram (c)\n",
    "q1.histogram_bc(df,'root_label')"
   ]
  },
  {
   "cell_type": "markdown",
   "id": "1fad26f8",
   "metadata": {},
   "source": [
    "## Question2"
   ]
  },
  {
   "cell_type": "code",
   "execution_count": 47,
   "id": "a56bac6f",
   "metadata": {},
   "outputs": [],
   "source": [
    "import numpy as np\n",
    "import random \n",
    "\n",
    "np.random.seed(42)\n",
    "random.seed(42)"
   ]
  },
  {
   "cell_type": "code",
   "execution_count": 48,
   "id": "5584409d",
   "metadata": {},
   "outputs": [
    {
     "name": "stdout",
     "output_type": "stream",
     "text": [
      "train number:1657\n",
      "test number:415\n"
     ]
    }
   ],
   "source": [
    "from sklearn.model_selection import train_test_split\n",
    "\n",
    "def question2(train,test):\n",
    "    \n",
    "    train_num = train.shape[0]\n",
    "    test_num = test.shape[0]\n",
    "    return train_num,test_num\n",
    "\n",
    "train, test = train_test_split(df[[\"full_text\",\"root_label\"]], test_size=0.2)\n",
    "\n",
    "train_num,test_num = question2(train,test)\n",
    "print(\"train number:{}\".format(train_num))\n",
    "print(\"test number:{}\".format(test_num))"
   ]
  },
  {
   "cell_type": "markdown",
   "id": "ad970d32",
   "metadata": {},
   "source": [
    "## Question3"
   ]
  },
  {
   "cell_type": "code",
   "execution_count": 49,
   "id": "41a3d598",
   "metadata": {},
   "outputs": [],
   "source": [
    "from sklearn.feature_extraction import text\n",
    "import re\n",
    "def clean(text):\n",
    "    text = re.sub(r'^https?:\\/\\/.*[\\r\\n]*', '', text, flags=re.MULTILINE)\n",
    "    texter = re.sub(r\"<br />\", \" \", text)\n",
    "    texter = re.sub(r\"&quot;\", \"\\\"\",texter)\n",
    "    texter = re.sub('&#39;', \"\\\"\", texter)\n",
    "    texter = re.sub('\\n', \" \", texter)\n",
    "    texter = re.sub(' u ',\" you \", texter)\n",
    "    texter = re.sub('`',\"\", texter)\n",
    "    texter = re.sub(' +', ' ', texter)\n",
    "    texter = re.sub(r\"(!)\\1+\", r\"!\", texter)\n",
    "    texter = re.sub(r\"(\\?)\\1+\", r\"?\", texter)\n",
    "    texter = re.sub('&amp;', 'and', texter)\n",
    "    texter = re.sub('\\r', ' ',texter)\n",
    "    clean = re.compile('<.*?>')\n",
    "    texter = texter.encode('ascii', 'ignore').decode('ascii')\n",
    "    texter = re.sub(clean, '', texter)\n",
    "    if texter == \"\":\n",
    "        texter = \"\"\n",
    "    return texter\n",
    "\n",
    "def clean_data(data):\n",
    "    for index,row in data.iterrows():\n",
    "        row['full_text'] = clean(row['full_text'])\n",
    "    return data"
   ]
  },
  {
   "cell_type": "code",
   "execution_count": 50,
   "id": "c05d1d70",
   "metadata": {},
   "outputs": [],
   "source": [
    "# clean the data \n",
    "train_clean = clean_data(train)\n",
    "test_clean = clean_data(test)"
   ]
  },
  {
   "cell_type": "code",
   "execution_count": 51,
   "id": "35739dca",
   "metadata": {},
   "outputs": [],
   "source": [
    "# import necessary libraries\n",
    "import nltk\n",
    "\n",
    "## Uncomment all and download and comment it back \n",
    "# nltk.download('punkt')#, if you need \"tokenizers/punkt/english.pickle\", choose it\n",
    "# nltk.download('averaged_perceptron_tagger')\n",
    "# nltk.download('stopwords' )\n",
    "# nltk.download('wordnet')\n",
    "# nltk.download('omw-1.4')"
   ]
  },
  {
   "cell_type": "code",
   "execution_count": 52,
   "id": "3cb07c4d",
   "metadata": {},
   "outputs": [],
   "source": [
    "# import necessary libraries\n",
    "from nltk import pos_tag\n",
    "from sklearn.feature_extraction import text\n",
    "from nltk.corpus import stopwords\n",
    "from string import punctuation\n",
    "from sklearn.feature_extraction.text import CountVectorizer"
   ]
  },
  {
   "cell_type": "code",
   "execution_count": 53,
   "id": "230837fa",
   "metadata": {},
   "outputs": [
    {
     "name": "stdout",
     "output_type": "stream",
     "text": [
      "# of stop_words_en:\t\t 179\n",
      "# of stop_words_skt:\t\t 318\n",
      "# of punctuation:\t\t 32\n"
     ]
    }
   ],
   "source": [
    "# Lemmatization\n",
    "\n",
    "stop_words_en = stopwords.words('english')\n",
    "stop_words_skt = text.ENGLISH_STOP_WORDS\n",
    "print(\"# of stop_words_en:\\t\\t %s\" % len(stop_words_en))\n",
    "print(\"# of stop_words_skt:\\t\\t %s\" % len(stop_words_skt))\n",
    "print(\"# of punctuation:\\t\\t %s\" % len(punctuation))\n",
    "combined_stopwords = set.union(set(stop_words_en),set(punctuation),set(stop_words_skt))\n",
    "wnl = nltk.wordnet.WordNetLemmatizer()\n",
    "analyzer = CountVectorizer().build_analyzer()\n",
    "\n",
    "def penn2morphy(penntag):\n",
    "    \"\"\" Converts Penn Treebank tags to WordNet. \"\"\"\n",
    "    morphy_tag = {'NN':'n', 'JJ':'a',\n",
    "                  'VB':'v', 'RB':'r'}\n",
    "    try:\n",
    "        return morphy_tag[penntag[:2]]\n",
    "    except:\n",
    "        return 'n' \n",
    "\n",
    "def lemmatize_sent(list_word): \n",
    "    # Text input is string, returns array of lowercased strings(words).\n",
    "    return [wnl.lemmatize(word.lower(), pos=penn2morphy(tag)) \n",
    "            for word, tag in pos_tag(list_word)]\n",
    "\n",
    "def stem_rmv_punc(doc): # this should have been at the sentence-level because the pos-tag performs best at sentence-level\n",
    "    return (word for word in lemmatize_sent(analyzer(doc)) if word not in combined_stopwords and not word.isdigit())\n",
    "\n",
    "count_vect = CountVectorizer(stop_words='english', min_df=3, max_df=0.7, analyzer=stem_rmv_punc)"
   ]
  },
  {
   "cell_type": "code",
   "execution_count": 54,
   "id": "dcb28093",
   "metadata": {},
   "outputs": [
    {
     "name": "stdout",
     "output_type": "stream",
     "text": [
      "(1657, 10130)\n",
      "(415, 10130)\n"
     ]
    }
   ],
   "source": [
    "X_train_counts = count_vect.fit_transform(train.full_text)\n",
    "print(X_train_counts.shape)\n",
    "\n",
    "X_test_counts = count_vect.transform(test.full_text)\n",
    "print(X_test_counts.shape)"
   ]
  },
  {
   "cell_type": "code",
   "execution_count": 55,
   "id": "a0df04cb",
   "metadata": {},
   "outputs": [
    {
     "name": "stdout",
     "output_type": "stream",
     "text": [
      "(1657, 10130)\n",
      "(415, 10130)\n"
     ]
    }
   ],
   "source": [
    "from sklearn.feature_extraction.text import TfidfTransformer\n",
    "\n",
    "tfidf_transformer = TfidfTransformer()\n",
    "\n",
    "X_train_tfidf = tfidf_transformer.fit_transform(X_train_counts)\n",
    "print(X_train_tfidf.shape)\n",
    "\n",
    "X_test_tfidf = tfidf_transformer.transform(X_test_counts)\n",
    "print(X_test_tfidf.shape)"
   ]
  },
  {
   "cell_type": "markdown",
   "id": "e819a78e",
   "metadata": {},
   "source": [
    "#### Pros and Cons\n",
    "\n",
    "the advantages of stemming are that it’s straightforward to implement and fast to run.\n",
    "\n",
    "lemmatization provides better results by performing an analysis that depends on the word’s part-of-speech and producing real, dictionary words. \n",
    "\n",
    "However, if we are heavily optimizing for speed, a simpler stemming algorithm can be a possibility."
   ]
  },
  {
   "cell_type": "markdown",
   "id": "c021268e",
   "metadata": {},
   "source": [
    "## Question 4"
   ]
  },
  {
   "cell_type": "code",
   "execution_count": 56,
   "id": "d6133684",
   "metadata": {},
   "outputs": [
    {
     "data": {
      "image/png": "[encoded data removed]",
      "text/plain": [
       "<Figure size 432x288 with 1 Axes>"
      ]
     },
     "metadata": {
      "needs_background": "light"
     },
     "output_type": "display_data"
    },
    {
     "data": {
      "image/png": "[encoded data removed]",
      "text/plain": [
       "<Figure size 432x288 with 1 Axes>"
      ]
     },
     "metadata": {
      "needs_background": "light"
     },
     "output_type": "display_data"
    },
    {
     "data": {
      "image/png": "[encoded data removed]",
      "text/plain": [
       "<Figure size 432x288 with 1 Axes>"
      ]
     },
     "metadata": {
      "needs_background": "light"
     },
     "output_type": "display_data"
    },
    {
     "data": {
      "image/png": "[encoded data removed]",
      "text/plain": [
       "<Figure size 432x288 with 1 Axes>"
      ]
     },
     "metadata": {
      "needs_background": "light"
     },
     "output_type": "display_data"
    },
    {
     "data": {
      "image/png": "[encoded data removed]",
      "text/plain": [
       "<Figure size 432x288 with 1 Axes>"
      ]
     },
     "metadata": {
      "needs_background": "light"
     },
     "output_type": "display_data"
    },
    {
     "data": {
      "image/png": "[encoded data removed]",
      "text/plain": [
       "<Figure size 432x288 with 1 Axes>"
      ]
     },
     "metadata": {
      "needs_background": "light"
     },
     "output_type": "display_data"
    },
    {
     "data": {
      "image/png": "[encoded data removed]",
      "text/plain": [
       "<Figure size 432x288 with 1 Axes>"
      ]
     },
     "metadata": {
      "needs_background": "light"
     },
     "output_type": "display_data"
    },
    {
     "data": {
      "image/png": "[encoded data removed]",
      "text/plain": [
       "<Figure size 432x288 with 1 Axes>"
      ]
     },
     "metadata": {
      "needs_background": "light"
     },
     "output_type": "display_data"
    }
   ],
   "source": [
    "from sklearn.decomposition import TruncatedSVD\n",
    "# The explained variance ratio plot\n",
    "k = [1, 10, 50, 100, 200, 500, 1000, 2000]\n",
    "for i in range(len(k)):\n",
    "    SVD = TruncatedSVD(n_components=k[i], random_state=0)\n",
    "    SVD.fit_transform(X_train_tfidf)\n",
    "    fig = plt.plot(SVD.explained_variance_ratio_)\n",
    "    plt.title(\"k:{}\".format(k[i]))\n",
    "    plt.show()"
   ]
  },
  {
   "cell_type": "markdown",
   "id": "88e1fe45",
   "metadata": {},
   "source": [
    "The explained variance ration:\n",
    "\n",
    "This is an array of the variance of the data explained by each of the {k} principal components. This plot tells us that the biggest data variance lands on between 5-10 PC, which is where the peak is. \n"
   ]
  },
  {
   "cell_type": "code",
   "execution_count": 57,
   "id": "e650d722",
   "metadata": {},
   "outputs": [
    {
     "name": "stdout",
     "output_type": "stream",
     "text": [
      "(1657, 10130)\n",
      "(1657, 50)\n",
      "(415, 10130)\n",
      "(415, 50)\n"
     ]
    }
   ],
   "source": [
    "## For LSI\n",
    "\n",
    "SVD_50 = TruncatedSVD(n_components=50, random_state=0)\n",
    "X_train_lsi = SVD_50.fit_transform(X_train_tfidf)\n",
    "X_test_lsi = SVD_50.transform(X_test_tfidf)\n",
    "print(X_train_tfidf.shape)\n",
    "print(X_train_lsi.shape)\n",
    "# print(SVD_50.explained_variance_ratio_)\n",
    "# print(SVD_50.explained_variance_ratio_.cumsum())\n",
    "print(X_test_tfidf.shape)\n",
    "print(X_test_lsi.shape)"
   ]
  },
  {
   "cell_type": "code",
   "execution_count": 58,
   "id": "dbd7e080",
   "metadata": {},
   "outputs": [
    {
     "name": "stdout",
     "output_type": "stream",
     "text": [
      "(1657, 10130)\n",
      "(1657, 50)\n",
      "(415, 10130)\n",
      "(415, 50)\n"
     ]
    }
   ],
   "source": [
    "## For NMF\n",
    "from sklearn.decomposition import NMF\n",
    "\n",
    "NMF_50 = NMF(n_components=50, init='random', random_state=0)\n",
    "X_train_nmf = NMF_50.fit_transform(X_train_tfidf)\n",
    "print(X_train_tfidf.shape)\n",
    "print(X_train_nmf.shape)\n",
    "\n",
    "X_test_nmf = NMF_50.transform(X_test_tfidf)\n",
    "print(X_test_tfidf.shape)\n",
    "print(X_test_nmf.shape)"
   ]
  },
  {
   "cell_type": "code",
   "execution_count": 59,
   "id": "0899a6c2",
   "metadata": {},
   "outputs": [
    {
     "name": "stdout",
     "output_type": "stream",
     "text": [
      "1179.9461432115684\n"
     ]
    }
   ],
   "source": [
    "import numpy as np\n",
    "## Loss of LSI\n",
    "Sigma_V = SVD_50.components_\n",
    "error_lsi = np.sum(np.array(X_train_tfidf - X_train_lsi.dot(Sigma_V)) ** 2)\n",
    "print(error_lsi)"
   ]
  },
  {
   "cell_type": "code",
   "execution_count": 60,
   "id": "9a40b417",
   "metadata": {},
   "outputs": [
    {
     "name": "stdout",
     "output_type": "stream",
     "text": [
      "1200.5605264906985\n"
     ]
    }
   ],
   "source": [
    "## Loss of NMF\n",
    "H = NMF_50.components_\n",
    "error_nmf = np.sum(np.array(X_train_tfidf - X_train_nmf.dot(H)) ** 2)\n",
    "print(error_nmf)"
   ]
  },
  {
   "cell_type": "code",
   "execution_count": 61,
   "id": "1b9ab775",
   "metadata": {},
   "outputs": [
    {
     "name": "stdout",
     "output_type": "stream",
     "text": [
      "The loss of NMF is larger!\n"
     ]
    }
   ],
   "source": [
    "if error_lsi > error_nmf:\n",
    "    print(\"The loss of LSI is larger!\")\n",
    "else: \n",
    "    print(\"The loss of NMF is larger!\")"
   ]
  },
  {
   "cell_type": "markdown",
   "id": "54330e38",
   "metadata": {},
   "source": [
    "Why?\n",
    "\n",
    "Both NMF and SVD represent a set of vectors in a given basis. The basis in NMF is composed of vectors with positive elements while the basis in SVD can have positive or negative values.\n",
    "\n",
    "The difference then is that NMF reconstructs each vector as a positive summation of the basis vectors, in other words you take a little of each vector in the basis to reconstruct your data.\n",
    "\n",
    "In SVD the data is modeled as a linear combination of the basis you can add or substract vectors as needed."
   ]
  },
  {
   "cell_type": "markdown",
   "id": "172204ea",
   "metadata": {},
   "source": [
    "## Question 5"
   ]
  },
  {
   "cell_type": "code",
   "execution_count": 62,
   "id": "d8c2cb62",
   "metadata": {},
   "outputs": [
    {
     "name": "stdout",
     "output_type": "stream",
     "text": [
      "train label number:1657\n",
      "test label number:415\n"
     ]
    }
   ],
   "source": [
    "# root_label -> vector\n",
    "# sport -> 0\n",
    "# climate -> 1\n",
    "\n",
    "def new_label(data):\n",
    "    new_label = []\n",
    "    data_class = list(set(data['root_label'])) #    ['sports', 'climate']\n",
    "    \n",
    "    for i,row in data.iterrows():\n",
    "        if row['root_label'] == data_class[0]:\n",
    "            new_label.append(0)\n",
    "        elif row['root_label'] == data_class[1]:\n",
    "            new_label.append(1)\n",
    "        else:\n",
    "            print('wrong label')\n",
    "    return new_label\n",
    "\n",
    "train_label = new_label(train)\n",
    "test_label = new_label(test)\n",
    "# check \n",
    "print(\"train label number:{}\".format(len(train_label)))\n",
    "print(\"test label number:{}\".format(len(test_label)))"
   ]
  },
  {
   "cell_type": "code",
   "execution_count": 63,
   "id": "310b4a36",
   "metadata": {},
   "outputs": [
    {
     "name": "stdout",
     "output_type": "stream",
     "text": [
      "1431    climate\n",
      "1567    climate\n",
      "1044    climate\n",
      "175      sports\n",
      "1610    climate\n",
      "Name: root_label, dtype: object\n",
      "[1, 1, 1, 0, 1]\n",
      "1351    climate\n",
      "733      sports\n",
      "678      sports\n",
      "1460    climate\n",
      "411      sports\n",
      "Name: root_label, dtype: object\n",
      "[1, 0, 0, 1, 0]\n"
     ]
    }
   ],
   "source": [
    "# check label\n",
    "print(train['root_label'].head())\n",
    "print(train_label[0:5])\n",
    "print(test['root_label'].head())\n",
    "print(test_label[0:5])"
   ]
  },
  {
   "cell_type": "markdown",
   "id": "a20a4ebc",
   "metadata": {},
   "source": [
    "### Train SVM model"
   ]
  },
  {
   "cell_type": "code",
   "execution_count": 64,
   "id": "74bbf1ab",
   "metadata": {},
   "outputs": [
    {
     "data": {
      "text/plain": [
       "SVC(C=0.0001, kernel='linear', random_state=42)"
      ]
     },
     "execution_count": 64,
     "metadata": {},
     "output_type": "execute_result"
    }
   ],
   "source": [
    "# train linear SVM\n",
    "\n",
    "from sklearn.svm import SVC\n",
    "\n",
    "svm_hard = SVC(kernel='linear', C=1000, random_state=42)\n",
    "svm_soft = SVC(kernel='linear', C=0.0001, random_state=42)\n",
    "\n",
    "svm_hard.fit(X_train_lsi, train_label)\n",
    "svm_soft.fit(X_train_lsi, train_label)"
   ]
  },
  {
   "cell_type": "markdown",
   "id": "2906d06e",
   "metadata": {},
   "source": [
    "#### Receiver Operating Characteristic (ROC)\n",
    "\n",
    "Example of Receiver Operating Characteristic (ROC) metric to evaluate classifier output quality.\n",
    "\n",
    "ROC curves typically feature true positive rate on the Y axis, and false positive rate on the X axis. This means that the top left corner of the plot is the “ideal” point - a false positive rate of zero, and a true positive rate of one. This is not very realistic, but it does mean that a larger area under the curve (AUC) is usually better.\n",
    "\n",
    "The “steepness” of ROC curves is also important, since it is ideal to maximize the true positive rate while minimizing the false positive rate.\n",
    "\n",
    "ROC curves are typically used in binary classification to study the output of a classifier. In order to extend ROC curve and ROC area to multi-label classification, it is necessary to binarize the output. One ROC curve can be drawn per label, but one can also draw a ROC curve by considering each element of the label indicator matrix as a binary prediction (micro-averaging)."
   ]
  },
  {
   "cell_type": "code",
   "execution_count": 65,
   "id": "167227bd",
   "metadata": {},
   "outputs": [],
   "source": [
    "# plot ROC\n",
    "from sklearn import metrics\n",
    "\n",
    "def plot_ROC(fpr,tpr):\n",
    "    fig = plt.figure()\n",
    "    roc_auc = metrics.auc(fpr,tpr)\n",
    "    plt.plot(fpr,tpr,label=\"area under curve = %0.3f\" %roc_auc)\n",
    "    plt.xlabel('False positive rate',fontsize=10)\n",
    "    plt.ylabel('True positive rate',fontsize=10)\n",
    "    plt.grid()\n",
    "    plt.legend()\n",
    "    return roc_auc\n",
    "    "
   ]
  },
  {
   "cell_type": "code",
   "execution_count": 66,
   "id": "68bb2327",
   "metadata": {},
   "outputs": [
    {
     "data": {
      "image/png": "[encoded data removed]",
      "text/plain": [
       "<Figure size 432x288 with 1 Axes>"
      ]
     },
     "metadata": {
      "needs_background": "light"
     },
     "output_type": "display_data"
    }
   ],
   "source": [
    "# plot ROC curve for svm_hard\n",
    "score_hard = svm_hard.decision_function(X_test_lsi)\n",
    "fpr_hard,tpr_hard,_ = metrics.roc_curve(test_label,score_hard)\n",
    "auc_hard = plot_ROC(fpr_hard,tpr_hard)"
   ]
  },
  {
   "cell_type": "code",
   "execution_count": 67,
   "id": "336d389b",
   "metadata": {},
   "outputs": [
    {
     "data": {
      "image/png": "[encoded data removed]",
      "text/plain": [
       "<Figure size 432x288 with 1 Axes>"
      ]
     },
     "metadata": {
      "needs_background": "light"
     },
     "output_type": "display_data"
    }
   ],
   "source": [
    "# plot ROC curve for svm_hard\n",
    "score_soft = svm_soft.decision_function(X_test_lsi)\n",
    "fpr_soft,tpr_soft,_ = metrics.roc_curve(test_label,score_soft)\n",
    "auc_soft = plot_ROC(fpr_soft,tpr_soft)"
   ]
  },
  {
   "cell_type": "code",
   "execution_count": 68,
   "id": "41e0da76",
   "metadata": {},
   "outputs": [
    {
     "name": "stdout",
     "output_type": "stream",
     "text": [
      "SVM_hard is better\n"
     ]
    }
   ],
   "source": [
    "# comparison\n",
    "if auc_hard > auc_soft:\n",
    "    print('SVM_hard is better')\n",
    "else:\n",
    "    print('SVM_soft is better')"
   ]
  },
  {
   "cell_type": "code",
   "execution_count": 69,
   "id": "4f8c80dd",
   "metadata": {},
   "outputs": [],
   "source": [
    "# Evaluation\n",
    "\n",
    "def evaluation(classifier,test_data,test_label):\n",
    "    test_pre = classifier.predict(test_data)\n",
    "    confusion_m = metrics.confusion_matrix(test_label,test_pre)\n",
    "    print(\"Confusion matrix:\")\n",
    "    print('_' * 20)\n",
    "    print(confusion_m)\n",
    "    print('_' * 20)\n",
    "    print(metrics.classification_report(test_label,test_pre))\n",
    "    "
   ]
  },
  {
   "cell_type": "code",
   "execution_count": 70,
   "id": "f7a72a5b",
   "metadata": {},
   "outputs": [
    {
     "name": "stdout",
     "output_type": "stream",
     "text": [
      "Performance of SVM hard\n",
      "________________________________________\n",
      "Confusion matrix:\n",
      "____________________\n",
      "[[206   3]\n",
      " [  8 198]]\n",
      "____________________\n",
      "              precision    recall  f1-score   support\n",
      "\n",
      "           0       0.96      0.99      0.97       209\n",
      "           1       0.99      0.96      0.97       206\n",
      "\n",
      "    accuracy                           0.97       415\n",
      "   macro avg       0.97      0.97      0.97       415\n",
      "weighted avg       0.97      0.97      0.97       415\n",
      "\n",
      "____________________________________________________________\n",
      "Performance of SVM soft\n",
      "________________________________________\n",
      "Confusion matrix:\n",
      "____________________\n",
      "[[  0 209]\n",
      " [  0 206]]\n",
      "____________________\n",
      "              precision    recall  f1-score   support\n",
      "\n",
      "           0       0.00      0.00      0.00       209\n",
      "           1       0.50      1.00      0.66       206\n",
      "\n",
      "    accuracy                           0.50       415\n",
      "   macro avg       0.25      0.50      0.33       415\n",
      "weighted avg       0.25      0.50      0.33       415\n",
      "\n"
     ]
    },
    {
     "name": "stderr",
     "output_type": "stream",
     "text": [
      "/home/shivam/.local/lib/python3.8/site-packages/sklearn/metrics/_classification.py:1308: UndefinedMetricWarning: Precision and F-score are ill-defined and being set to 0.0 in labels with no predicted samples. Use `zero_division` parameter to control this behavior.\n",
      "  _warn_prf(average, modifier, msg_start, len(result))\n",
      "/home/shivam/.local/lib/python3.8/site-packages/sklearn/metrics/_classification.py:1308: UndefinedMetricWarning: Precision and F-score are ill-defined and being set to 0.0 in labels with no predicted samples. Use `zero_division` parameter to control this behavior.\n",
      "  _warn_prf(average, modifier, msg_start, len(result))\n",
      "/home/shivam/.local/lib/python3.8/site-packages/sklearn/metrics/_classification.py:1308: UndefinedMetricWarning: Precision and F-score are ill-defined and being set to 0.0 in labels with no predicted samples. Use `zero_division` parameter to control this behavior.\n",
      "  _warn_prf(average, modifier, msg_start, len(result))\n"
     ]
    }
   ],
   "source": [
    "print(\"Performance of SVM hard\")\n",
    "print('_' * 40)\n",
    "evaluation(svm_hard,X_test_lsi,test_label)\n",
    "print('_' * 60)\n",
    "print(\"Performance of SVM soft\")\n",
    "print('_' * 40)\n",
    "evaluation(svm_soft,X_test_lsi,test_label)"
   ]
  },
  {
   "cell_type": "markdown",
   "id": "ad91a3f3",
   "metadata": {},
   "source": [
    "### Use cross-validation to choose $\\gamma$"
   ]
  },
  {
   "cell_type": "code",
   "execution_count": 71,
   "id": "c1b08700",
   "metadata": {},
   "outputs": [
    {
     "name": "stdout",
     "output_type": "stream",
     "text": [
      "-------------------- C = 0.001 --------------------\n",
      "[0.49196787 0.46787149 0.49799197 0.47590361 0.48795181]\n",
      "0.4843373493975903\n",
      "-------------------- C = 0.01 --------------------\n",
      "[0.49196787 0.46787149 0.49799197 0.47590361 0.48795181]\n",
      "0.4843373493975903\n",
      "-------------------- C = 0.1 --------------------\n",
      "[0.95381526 0.94779116 0.94578313 0.91767068 0.92168675]\n",
      "0.9373493975903614\n",
      "-------------------- C = 1 --------------------\n",
      "[0.95783133 0.9437751  0.95381526 0.93373494 0.9437751 ]\n",
      "0.9465863453815262\n",
      "-------------------- C = 10 --------------------\n",
      "[0.96184739 0.95381526 0.95983936 0.94779116 0.95783133]\n",
      "0.9562248995983935\n",
      "-------------------- C = 100 --------------------\n",
      "[0.96787149 0.95180723 0.96787149 0.95381526 0.95983936]\n",
      "0.9602409638554217\n",
      "-------------------- C = 1000 --------------------\n",
      "[0.96385542 0.9497992  0.96586345 0.9497992  0.95582329]\n",
      "0.9570281124497994\n",
      "-------------------- C = 10000 --------------------\n",
      "[0.96184739 0.9437751  0.95381526 0.95180723 0.96987952]\n",
      "0.9562248995983935\n",
      "-------------------- C = 100000 --------------------\n",
      "[0.95983936 0.93373494 0.95983936 0.94779116 0.97188755]\n",
      "0.9546184738955823\n",
      "-------------------- Result --------------------\n",
      "The best classifier is when C = 100\n",
      "Average Accuracy is: 0.9602409638554217\n"
     ]
    }
   ],
   "source": [
    "from sklearn.model_selection import cross_val_score\n",
    "from sklearn.model_selection import ShuffleSplit\n",
    "\n",
    "def cross_validate(classifier, train, label):\n",
    "    avg_score = []\n",
    "\n",
    "    for k in range(-3, 6):\n",
    "        classifier.set_params(C=10**k).fit(train, label)\n",
    "        cv = ShuffleSplit(n_splits=5, test_size=0.3, random_state=42)\n",
    "        scores = cross_val_score(classifier, train, label, cv=cv, scoring='accuracy')\n",
    "    \n",
    "        print('-'*20,'C =',10**k,'-'*20)\n",
    "        print(scores)\n",
    "        print(np.average(scores))\n",
    "        avg_score.append(np.average(scores))\n",
    "\n",
    "    max_score = np.max(avg_score)\n",
    "    index = avg_score.index(max_score)\n",
    "    c_idx = [x for x in range(-3,4)][index]\n",
    "    print('-'*20,'Result','-'*20)\n",
    "    print('The best classifier is when C =', 10**c_idx)\n",
    "    print('Average Accuracy is:', max_score)\n",
    "    \n",
    "    return classifier.set_params(C=10**c_idx).fit(train,label)\n",
    "\n",
    "svm_score = cross_validate(SVC(kernel='linear'), X_train_lsi, train_label)\n"
   ]
  },
  {
   "cell_type": "markdown",
   "id": "0873211c",
   "metadata": {},
   "source": [
    "##### The best $\\gamma$ for SVM is c = 100 "
   ]
  },
  {
   "cell_type": "code",
   "execution_count": 72,
   "id": "1f207f43",
   "metadata": {},
   "outputs": [
    {
     "ename": "NameError",
     "evalue": "name 'svm_best' is not defined",
     "output_type": "error",
     "traceback": [
      "\u001b[0;31m---------------------------------------------------------------------------\u001b[0m",
      "\u001b[0;31mNameError\u001b[0m                                 Traceback (most recent call last)",
      "\u001b[0;32m/tmp/ipykernel_21982/3112756970.py\u001b[0m in \u001b[0;36m<module>\u001b[0;34m\u001b[0m\n\u001b[1;32m      1\u001b[0m \u001b[0;31m# plot ROC curve for svm_best\u001b[0m\u001b[0;34m\u001b[0m\u001b[0;34m\u001b[0m\u001b[0;34m\u001b[0m\u001b[0m\n\u001b[0;32m----> 2\u001b[0;31m \u001b[0mscore_best\u001b[0m \u001b[0;34m=\u001b[0m \u001b[0msvm_best\u001b[0m\u001b[0;34m.\u001b[0m\u001b[0mdecision_function\u001b[0m\u001b[0;34m(\u001b[0m\u001b[0mX_test_lsi\u001b[0m\u001b[0;34m)\u001b[0m\u001b[0;34m\u001b[0m\u001b[0;34m\u001b[0m\u001b[0m\n\u001b[0m\u001b[1;32m      3\u001b[0m \u001b[0mfpr_best\u001b[0m\u001b[0;34m,\u001b[0m\u001b[0mtpr_best\u001b[0m\u001b[0;34m,\u001b[0m\u001b[0m_\u001b[0m \u001b[0;34m=\u001b[0m \u001b[0mmetrics\u001b[0m\u001b[0;34m.\u001b[0m\u001b[0mroc_curve\u001b[0m\u001b[0;34m(\u001b[0m\u001b[0mtest_label\u001b[0m\u001b[0;34m,\u001b[0m\u001b[0mscore_best\u001b[0m\u001b[0;34m)\u001b[0m\u001b[0;34m\u001b[0m\u001b[0;34m\u001b[0m\u001b[0m\n\u001b[1;32m      4\u001b[0m \u001b[0mauc_best\u001b[0m \u001b[0;34m=\u001b[0m \u001b[0mplot_ROC\u001b[0m\u001b[0;34m(\u001b[0m\u001b[0mfpr_soft\u001b[0m\u001b[0;34m,\u001b[0m\u001b[0mtpr_soft\u001b[0m\u001b[0;34m)\u001b[0m\u001b[0;34m\u001b[0m\u001b[0;34m\u001b[0m\u001b[0m\n\u001b[1;32m      5\u001b[0m \u001b[0mprint\u001b[0m\u001b[0;34m(\u001b[0m\u001b[0;34m\"auc_best:%0.4f\"\u001b[0m \u001b[0;34m%\u001b[0m \u001b[0mauc_best\u001b[0m\u001b[0;34m)\u001b[0m\u001b[0;34m\u001b[0m\u001b[0;34m\u001b[0m\u001b[0m\n",
      "\u001b[0;31mNameError\u001b[0m: name 'svm_best' is not defined"
     ]
    }
   ],
   "source": [
    "# plot ROC curve for svm_best\n",
    "score_best = svm_best.decision_function(X_test_lsi)\n",
    "fpr_best,tpr_best,_ = metrics.roc_curve(test_label,score_best)\n",
    "auc_best = plot_ROC(fpr_soft,tpr_soft)\n",
    "print(\"auc_best:%0.4f\" % auc_best)"
   ]
  },
  {
   "cell_type": "code",
   "execution_count": 73,
   "id": "a15a4e4a",
   "metadata": {},
   "outputs": [
    {
     "name": "stdout",
     "output_type": "stream",
     "text": [
      "Performance of SVM soft\n",
      "________________________________________\n"
     ]
    },
    {
     "ename": "NameError",
     "evalue": "name 'svm_best' is not defined",
     "output_type": "error",
     "traceback": [
      "\u001b[0;31m---------------------------------------------------------------------------\u001b[0m",
      "\u001b[0;31mNameError\u001b[0m                                 Traceback (most recent call last)",
      "\u001b[0;32m/tmp/ipykernel_21982/3529351247.py\u001b[0m in \u001b[0;36m<module>\u001b[0;34m\u001b[0m\n\u001b[1;32m      2\u001b[0m \u001b[0mprint\u001b[0m\u001b[0;34m(\u001b[0m\u001b[0;34m\"Performance of SVM soft\"\u001b[0m\u001b[0;34m)\u001b[0m\u001b[0;34m\u001b[0m\u001b[0;34m\u001b[0m\u001b[0m\n\u001b[1;32m      3\u001b[0m \u001b[0mprint\u001b[0m\u001b[0;34m(\u001b[0m\u001b[0;34m'_'\u001b[0m \u001b[0;34m*\u001b[0m \u001b[0;36m40\u001b[0m\u001b[0;34m)\u001b[0m\u001b[0;34m\u001b[0m\u001b[0;34m\u001b[0m\u001b[0m\n\u001b[0;32m----> 4\u001b[0;31m \u001b[0mevaluation\u001b[0m\u001b[0;34m(\u001b[0m\u001b[0msvm_best\u001b[0m\u001b[0;34m,\u001b[0m\u001b[0mX_test_lsi\u001b[0m\u001b[0;34m,\u001b[0m\u001b[0mtest_label\u001b[0m\u001b[0;34m)\u001b[0m\u001b[0;34m\u001b[0m\u001b[0;34m\u001b[0m\u001b[0m\n\u001b[0m",
      "\u001b[0;31mNameError\u001b[0m: name 'svm_best' is not defined"
     ]
    }
   ],
   "source": [
    "## evaluate this svm_best model\n",
    "print(\"Performance of SVM soft\")\n",
    "print('_' * 40)\n",
    "evaluation(svm_best,X_test_lsi,test_label)"
   ]
  },
  {
   "cell_type": "markdown",
   "id": "6e8bc759",
   "metadata": {},
   "source": [
    "## Question 6"
   ]
  },
  {
   "cell_type": "code",
   "execution_count": 74,
   "id": "3ace29a5",
   "metadata": {},
   "outputs": [
    {
     "name": "stdout",
     "output_type": "stream",
     "text": [
      "0.9734939759036144\n",
      "              precision    recall  f1-score   support\n",
      "\n",
      "       False       0.99      0.96      0.97       206\n",
      "        True       0.96      0.99      0.97       209\n",
      "\n",
      "    accuracy                           0.97       415\n",
      "   macro avg       0.97      0.97      0.97       415\n",
      "weighted avg       0.97      0.97      0.97       415\n",
      "\n"
     ]
    }
   ],
   "source": [
    "from sklearn.linear_model import LogisticRegression\n",
    "from sklearn.metrics import classification_report\n",
    "\n",
    "logistic = LogisticRegression(penalty = 'none', max_iter=10000, tol=0.1)\n",
    "Xtrain_logistic = X_train_lsi\n",
    "ytrain_logistic = train.root_label==\"sports\"\n",
    "logistic.fit(Xtrain_logistic, ytrain_logistic)\n",
    "\n",
    "Xtest_logistic = X_test_lsi\n",
    "ytest_logistic = test.root_label==\"sports\"\n",
    "ytest_pred_logistic = logistic.predict(Xtest_logistic)\n",
    "print(logistic.score(Xtest_logistic, ytest_logistic))\n",
    "print(classification_report(ytest_logistic, ytest_pred_logistic))"
   ]
  },
  {
   "cell_type": "code",
   "execution_count": 75,
   "id": "303a54aa",
   "metadata": {},
   "outputs": [],
   "source": [
    "from sklearn.metrics import confusion_matrix\n",
    "from sklearn.metrics import precision_score\n",
    "from sklearn.metrics import recall_score\n",
    "from sklearn.metrics import roc_curve\n",
    "from sklearn.metrics import auc\n",
    "\n",
    "def plot_roc(fpr, tpr):\n",
    "    fig, ax = plt.subplots()\n",
    "\n",
    "    roc_auc = auc(fpr,tpr)\n",
    "\n",
    "    ax.plot(fpr, tpr, lw=2, label= 'area under curve = %0.4f' % roc_auc)\n",
    "\n",
    "    ax.grid(color='0.7', linestyle='--', linewidth=1)\n",
    "\n",
    "    ax.set_xlim([-0.1, 1.1])\n",
    "    ax.set_ylim([0.0, 1.05])\n",
    "    ax.set_xlabel('False Positive Rate',fontsize=15)\n",
    "    ax.set_ylabel('True Positive Rate',fontsize=15)\n",
    "\n",
    "    ax.legend(loc=\"lower right\")\n",
    "\n",
    "    for label in ax.get_xticklabels()+ax.get_yticklabels():\n",
    "        label.set_fontsize(15)\n",
    "\n",
    "def fit_predict_and_plot_roc(pipe, train_data, train_label, test_data, test_label):\n",
    "    pipe.fit(train_data, train_label)\n",
    "    # pipeline1.predict(twenty_test.data)\n",
    "\n",
    "    prob_score = pipe.predict_proba(test_data)\n",
    "\n",
    "    fpr, tpr, _ = roc_curve(test_label, prob_score[:,1])\n",
    "\n",
    "    plot_roc(fpr, tpr)\n",
    "    return pipe"
   ]
  },
  {
   "cell_type": "code",
   "execution_count": 76,
   "id": "9790726d",
   "metadata": {},
   "outputs": [
    {
     "data": {
      "text/plain": [
       "LogisticRegression(max_iter=10000, penalty='none', tol=0.1)"
      ]
     },
     "execution_count": 76,
     "metadata": {},
     "output_type": "execute_result"
    },
    {
     "data": {
      "image/png": "[encoded data removed]",
      "text/plain": [
       "<Figure size 432x288 with 1 Axes>"
      ]
     },
     "metadata": {
      "needs_background": "light"
     },
     "output_type": "display_data"
    }
   ],
   "source": [
    "fit_predict_and_plot_roc(logistic, Xtrain_logistic, ytrain_logistic, Xtest_logistic, ytest_logistic)"
   ]
  },
  {
   "cell_type": "code",
   "execution_count": 77,
   "id": "10bb6828",
   "metadata": {},
   "outputs": [
    {
     "name": "stdout",
     "output_type": "stream",
     "text": [
      "0.9734939759036144\n",
      "              precision    recall  f1-score   support\n",
      "\n",
      "       False       0.99      0.96      0.97       206\n",
      "        True       0.96      0.99      0.97       209\n",
      "\n",
      "    accuracy                           0.97       415\n",
      "   macro avg       0.97      0.97      0.97       415\n",
      "weighted avg       0.97      0.97      0.97       415\n",
      "\n",
      "0.9686746987951808\n",
      "              precision    recall  f1-score   support\n",
      "\n",
      "       False       0.99      0.96      0.97       206\n",
      "        True       0.96      0.99      0.97       209\n",
      "\n",
      "    accuracy                           0.97       415\n",
      "   macro avg       0.97      0.97      0.97       415\n",
      "weighted avg       0.97      0.97      0.97       415\n",
      "\n",
      "0.963855421686747\n",
      "              precision    recall  f1-score   support\n",
      "\n",
      "       False       0.99      0.96      0.97       206\n",
      "        True       0.96      0.99      0.97       209\n",
      "\n",
      "    accuracy                           0.97       415\n",
      "   macro avg       0.97      0.97      0.97       415\n",
      "weighted avg       0.97      0.97      0.97       415\n",
      "\n"
     ]
    }
   ],
   "source": [
    "# Regularization Comparision: none vs l1 vs l2\n",
    "\n",
    "logisticNone = LogisticRegression(penalty = 'none', max_iter=10000, tol=0.1)\n",
    "logisticL1 = LogisticRegression(penalty = 'l1', solver='liblinear', max_iter=10000, tol=0.1)\n",
    "logisticL2 = LogisticRegression( penalty = 'l2', max_iter=10000, tol=0.1)\n",
    "\n",
    "logisticNone.fit(Xtrain_logistic, ytrain_logistic)\n",
    "logisticL1.fit(Xtrain_logistic, ytrain_logistic)\n",
    "logisticL2.fit(Xtrain_logistic, ytrain_logistic)\n",
    "\n",
    "ytest_pred_logistic_None = logisticNone.predict(Xtest_logistic)\n",
    "print(logisticNone.score(Xtest_logistic, ytest_logistic))\n",
    "print(classification_report(ytest_logistic, ytest_pred_logistic))\n",
    "\n",
    "ytest_pred_logistic_L1 = logisticL1.predict(Xtest_logistic)\n",
    "print(logisticL1.score(Xtest_logistic, ytest_logistic))\n",
    "print(classification_report(ytest_logistic, ytest_pred_logistic))\n",
    "\n",
    "ytest_pred_logistic_L2 = logisticL2.predict(Xtest_logistic)\n",
    "print(logisticL2.score(Xtest_logistic, ytest_logistic))\n",
    "print(classification_report(ytest_logistic, ytest_pred_logistic))"
   ]
  },
  {
   "cell_type": "code",
   "execution_count": 78,
   "id": "f34d752e",
   "metadata": {},
   "outputs": [
    {
     "name": "stdout",
     "output_type": "stream",
     "text": [
      "              precision    recall  f1-score   support\n",
      "\n",
      "       False       0.98      0.98      0.98       166\n",
      "        True       0.98      0.98      0.98       166\n",
      "\n",
      "    accuracy                           0.98       332\n",
      "   macro avg       0.98      0.98      0.98       332\n",
      "weighted avg       0.98      0.98      0.98       332\n",
      "\n",
      "              precision    recall  f1-score   support\n",
      "\n",
      "       False       0.97      0.93      0.95       166\n",
      "        True       0.93      0.97      0.95       166\n",
      "\n",
      "    accuracy                           0.95       332\n",
      "   macro avg       0.95      0.95      0.95       332\n",
      "weighted avg       0.95      0.95      0.95       332\n",
      "\n",
      "              precision    recall  f1-score   support\n",
      "\n",
      "       False       0.93      0.93      0.93       166\n",
      "        True       0.93      0.93      0.93       165\n",
      "\n",
      "    accuracy                           0.93       331\n",
      "   macro avg       0.93      0.93      0.93       331\n",
      "weighted avg       0.93      0.93      0.93       331\n",
      "\n",
      "              precision    recall  f1-score   support\n",
      "\n",
      "       False       0.98      0.96      0.97       166\n",
      "        True       0.96      0.98      0.97       165\n",
      "\n",
      "    accuracy                           0.97       331\n",
      "   macro avg       0.97      0.97      0.97       331\n",
      "weighted avg       0.97      0.97      0.97       331\n",
      "\n",
      "              precision    recall  f1-score   support\n",
      "\n",
      "       False       0.96      0.95      0.95       166\n",
      "        True       0.95      0.96      0.95       165\n",
      "\n",
      "    accuracy                           0.95       331\n",
      "   macro avg       0.95      0.95      0.95       331\n",
      "weighted avg       0.95      0.95      0.95       331\n",
      "\n",
      "[0.97590361 0.94879518 0.93353474 0.97280967 0.95468278]\n"
     ]
    }
   ],
   "source": [
    "from sklearn.metrics import classification_report, accuracy_score, make_scorer\n",
    "from sklearn.model_selection import cross_val_score\n",
    "\n",
    "def classification_report_with_accuracy_score(y_true, y_pred):\n",
    "\n",
    "    print (classification_report(y_true, y_pred))# print classification report\n",
    "    return accuracy_score(y_true, y_pred) # return accuracy score\n",
    "\n",
    "# 5-Fold Cross Validation with L1\n",
    "\n",
    "cv_score_L1 = cross_val_score(logisticL1, X=Xtrain_logistic, y=ytrain_logistic, cv=5, \\\n",
    "               scoring=make_scorer(classification_report_with_accuracy_score))\n",
    "print (cv_score_L1)"
   ]
  },
  {
   "cell_type": "code",
   "execution_count": 79,
   "id": "6eeeb4b6",
   "metadata": {},
   "outputs": [
    {
     "name": "stdout",
     "output_type": "stream",
     "text": [
      "              precision    recall  f1-score   support\n",
      "\n",
      "       False       0.98      0.96      0.97       166\n",
      "        True       0.96      0.98      0.97       166\n",
      "\n",
      "    accuracy                           0.97       332\n",
      "   macro avg       0.97      0.97      0.97       332\n",
      "weighted avg       0.97      0.97      0.97       332\n",
      "\n",
      "              precision    recall  f1-score   support\n",
      "\n",
      "       False       0.97      0.92      0.94       166\n",
      "        True       0.93      0.97      0.95       166\n",
      "\n",
      "    accuracy                           0.95       332\n",
      "   macro avg       0.95      0.95      0.95       332\n",
      "weighted avg       0.95      0.95      0.95       332\n",
      "\n",
      "              precision    recall  f1-score   support\n",
      "\n",
      "       False       0.94      0.93      0.93       166\n",
      "        True       0.93      0.94      0.93       165\n",
      "\n",
      "    accuracy                           0.93       331\n",
      "   macro avg       0.93      0.93      0.93       331\n",
      "weighted avg       0.93      0.93      0.93       331\n",
      "\n",
      "              precision    recall  f1-score   support\n",
      "\n",
      "       False       0.98      0.95      0.97       166\n",
      "        True       0.95      0.98      0.97       165\n",
      "\n",
      "    accuracy                           0.97       331\n",
      "   macro avg       0.97      0.97      0.97       331\n",
      "weighted avg       0.97      0.97      0.97       331\n",
      "\n",
      "              precision    recall  f1-score   support\n",
      "\n",
      "       False       0.99      0.93      0.96       166\n",
      "        True       0.94      0.99      0.96       165\n",
      "\n",
      "    accuracy                           0.96       331\n",
      "   macro avg       0.97      0.96      0.96       331\n",
      "weighted avg       0.97      0.96      0.96       331\n",
      "\n",
      "[0.97289157 0.94578313 0.93353474 0.96676737 0.96374622]\n"
     ]
    }
   ],
   "source": [
    "# 5-Fold Cross Validation with L2\n",
    "\n",
    "cv_score_L2 = cross_val_score(logisticL2, X=Xtrain_logistic, y=ytrain_logistic, cv=5, \\\n",
    "               scoring=make_scorer(classification_report_with_accuracy_score))\n",
    "print (cv_score_L2)"
   ]
  },
  {
   "cell_type": "markdown",
   "id": "1ce16e29",
   "metadata": {},
   "source": [
    "## Question 7"
   ]
  },
  {
   "cell_type": "code",
   "execution_count": 80,
   "id": "f793b89a",
   "metadata": {},
   "outputs": [
    {
     "name": "stdout",
     "output_type": "stream",
     "text": [
      "0.9542168674698795\n",
      "              precision    recall  f1-score   support\n",
      "\n",
      "       False       0.94      0.97      0.95       206\n",
      "        True       0.97      0.94      0.95       209\n",
      "\n",
      "    accuracy                           0.95       415\n",
      "   macro avg       0.95      0.95      0.95       415\n",
      "weighted avg       0.95      0.95      0.95       415\n",
      "\n"
     ]
    }
   ],
   "source": [
    "from sklearn.naive_bayes import GaussianNB\n",
    "from sklearn.metrics import classification_report\n",
    "\n",
    "naivebayes = GaussianNB()\n",
    "Xtrain = X_train_lsi\n",
    "ytrain = train.root_label==\"sports\"\n",
    "naivebayes.fit(Xtrain, ytrain)\n",
    "\n",
    "Xtest = X_test_lsi\n",
    "ytest = test.root_label==\"sports\"\n",
    "ytest_pred_gNB = naivebayes.predict(Xtest)\n",
    "print(naivebayes.score(Xtest, ytest))\n",
    "print(classification_report(ytest, ytest_pred_gNB))"
   ]
  },
  {
   "cell_type": "markdown",
   "id": "efcd2075",
   "metadata": {},
   "source": [
    "## Question 8: Comparison between three classifiers"
   ]
  },
  {
   "cell_type": "code",
   "execution_count": 98,
   "id": "0e4e17e6",
   "metadata": {},
   "outputs": [],
   "source": [
    "from sklearn.model_selection import GridSearchCV\n",
    "from sklearn.pipeline import Pipeline\n",
    "from sklearn.preprocessing import StandardScaler \n",
    "from sklearn.feature_extraction.text import CountVectorizer\n",
    "from sklearn.feature_extraction.text import TfidfTransformer\n",
    "\n",
    "class EstimatorSelectionHelper:\n",
    "\n",
    "    def __init__(self, models, params):\n",
    "        if not set(models.keys()).issubset(set(params.keys())):\n",
    "            missing_params = list(set(models.keys()) - set(params.keys()))\n",
    "            raise ValueError(\"Some estimators are missing parameters: %s\" % missing_params)\n",
    "        self.models = models\n",
    "        self.params = params\n",
    "        self.keys = models.keys()\n",
    "        self.grid_searches = {}\n",
    "\n",
    "    def fit(self, X, y, cv=5, n_jobs=-1, verbose=1, scoring=None, refit=False):\n",
    "        count_vectorizer = CountVectorizer(min_df=3, stop_words='english', analyzer=stem_rmv_punc)\n",
    "        tfidf = TfidfTransformer()\n",
    "        scaler = StandardScaler(with_mean=False) # not absolutely required but does help\n",
    "        pca = TruncatedSVD()\n",
    "        for key in self.keys:\n",
    "            print(\"Running GridSearchCV for %s.\" % key)\n",
    "            model = self.models[key]\n",
    "            params = self.params[key]\n",
    "            pipe = Pipeline(steps=[ \n",
    "                         (\"vect\", count_vectorizer),\n",
    "                         ('tfidf', tfidf), \n",
    "                         (\"scaler\", scaler), \n",
    "#                          (\"reduce_dim\", \"passthrough\"),\n",
    "                        (\"classify\", model)])\n",
    "            gs = GridSearchCV(pipe, params, cv=cv, n_jobs=n_jobs,\n",
    "                              verbose=verbose, scoring=scoring, refit=refit,\n",
    "                              return_train_score=True)\n",
    "            gs.fit(X,y)\n",
    "            self.grid_searches[key] = gs    \n",
    "\n",
    "    def score_summary(self, sort_by='mean_score'):\n",
    "        def row(key, scores, params):\n",
    "            d = {\n",
    "                 'estimator': key,\n",
    "                 'min_score': min(scores),\n",
    "                 'max_score': max(scores),\n",
    "                 'mean_score': np.mean(scores),\n",
    "                 'std_score': np.std(scores),\n",
    "            }\n",
    "            return pd.Series({**params,**d})\n",
    "\n",
    "        rows = []\n",
    "        for k in self.grid_searches:\n",
    "            print(k)\n",
    "            params = self.grid_searches[k].cv_results_['params']\n",
    "            scores = []\n",
    "            for i in range(self.grid_searches[k].cv):\n",
    "                key = \"split{}_test_score\".format(i)\n",
    "                r = self.grid_searches[k].cv_results_[key]        \n",
    "                scores.append(r.reshape(len(params),1))\n",
    "\n",
    "            all_scores = np.hstack(scores)\n",
    "            for p, s in zip(params,all_scores):\n",
    "                rows.append((row(k, s, p)))\n",
    "\n",
    "        df = pd.concat(rows, axis=1).T.sort_values([sort_by], ascending=False)\n",
    "\n",
    "        columns = ['estimator', 'min_score', 'mean_score', 'max_score', 'std_score']\n",
    "        columns = columns + [c for c in df.columns if c not in columns]\n",
    "\n",
    "        return df[columns]"
   ]
  },
  {
   "cell_type": "code",
   "execution_count": 99,
   "id": "b0b5c368",
   "metadata": {},
   "outputs": [
    {
     "name": "stdout",
     "output_type": "stream",
     "text": [
      "Running GridSearchCV for logisticL1.\n",
      "Fitting 5 folds for each of 2 candidates, totalling 10 fits\n",
      "Running GridSearchCV for logisticL2.\n",
      "Fitting 5 folds for each of 2 candidates, totalling 10 fits\n",
      "Running GridSearchCV for gaussionNB.\n",
      "Fitting 5 folds for each of 2 candidates, totalling 10 fits\n"
     ]
    },
    {
     "name": "stderr",
     "output_type": "stream",
     "text": [
      "/home/shivam/.local/lib/python3.8/site-packages/sklearn/model_selection/_validation.py:372: FitFailedWarning: \n",
      "10 fits failed out of a total of 10.\n",
      "The score on these train-test partitions for these parameters will be set to nan.\n",
      "If these failures are not expected, you can try to debug them by setting error_score='raise'.\n",
      "\n",
      "Below are more details about the failures:\n",
      "--------------------------------------------------------------------------------\n",
      "10 fits failed with the following error:\n",
      "Traceback (most recent call last):\n",
      "  File \"/home/shivam/.local/lib/python3.8/site-packages/sklearn/model_selection/_validation.py\", line 681, in _fit_and_score\n",
      "    estimator.fit(X_train, y_train, **fit_params)\n",
      "  File \"/home/shivam/.local/lib/python3.8/site-packages/sklearn/pipeline.py\", line 394, in fit\n",
      "    self._final_estimator.fit(Xt, y, **fit_params_last_step)\n",
      "  File \"/home/shivam/.local/lib/python3.8/site-packages/sklearn/naive_bayes.py\", line 245, in fit\n",
      "    return self._partial_fit(\n",
      "  File \"/home/shivam/.local/lib/python3.8/site-packages/sklearn/naive_bayes.py\", line 402, in _partial_fit\n",
      "    X, y = self._validate_data(X, y, reset=first_call)\n",
      "  File \"/home/shivam/.local/lib/python3.8/site-packages/sklearn/base.py\", line 576, in _validate_data\n",
      "    X, y = check_X_y(X, y, **check_params)\n",
      "  File \"/home/shivam/.local/lib/python3.8/site-packages/sklearn/utils/validation.py\", line 956, in check_X_y\n",
      "    X = check_array(\n",
      "  File \"/home/shivam/.local/lib/python3.8/site-packages/sklearn/utils/validation.py\", line 712, in check_array\n",
      "    array = _ensure_sparse_format(\n",
      "  File \"/home/shivam/.local/lib/python3.8/site-packages/sklearn/utils/validation.py\", line 432, in _ensure_sparse_format\n",
      "    raise TypeError(\n",
      "TypeError: A sparse matrix was passed, but dense data is required. Use X.toarray() to convert to a dense numpy array.\n",
      "\n",
      "  warnings.warn(some_fits_failed_message, FitFailedWarning)\n",
      "/home/shivam/.local/lib/python3.8/site-packages/sklearn/model_selection/_search.py:969: UserWarning: One or more of the test scores are non-finite: [nan nan]\n",
      "  warnings.warn(\n",
      "/home/shivam/.local/lib/python3.8/site-packages/sklearn/model_selection/_search.py:969: UserWarning: One or more of the train scores are non-finite: [nan nan]\n",
      "  warnings.warn(\n"
     ]
    }
   ],
   "source": [
    "# logistic = LogisticRegression(max_iter=10000, tol=0.1)\n",
    "# count_vectorizer = CountVectorizer(min_df=3, stop_words='english', analyzer=stem_rmv_punc)\n",
    "# tfidf = TfidfTransformer()\n",
    "# scaler = StandardScaler(with_mean=False) # not absolutely required but does help\n",
    "# pca = TruncatedSVD()\n",
    "\n",
    "N_FEATURES_OPTIONS = [5, 50, 500]\n",
    "\n",
    "XtrainGS = train.full_text\n",
    "ytrainGS = ytrain\n",
    "\n",
    "\n",
    "models1 = {\n",
    "    'logisticL1': LogisticRegression(penalty = 'l1', solver='liblinear', max_iter=10000),\n",
    "    'logisticL2': LogisticRegression( penalty = 'l2', max_iter=10000),\n",
    "    'gaussionNB': GaussianNB()\n",
    "}\n",
    "\n",
    "params1 = {\n",
    "    'logisticL1': [ \n",
    "                     {\"vect__min_df\":[3, 5] },\n",
    "#                      {\"reduce_dim\": [TruncatedSVD(), NMF()]},\n",
    "#                      {\"reduce_dim__n_components\": N_FEATURES_OPTIONS},\n",
    "                    ],\n",
    "    'logisticL2': [ \n",
    "                     {\"vect__min_df\":[3, 5] },\n",
    "#                      {\"reduce_dim\": [TruncatedSVD(), NMF()]},\n",
    "#                      {\"reduce_dim__n_components\": N_FEATURES_OPTIONS},\n",
    "                    ],\n",
    "    'gaussionNB': [ \n",
    "                     {\"vect__min_df\":[3, 5] },\n",
    "#                      {\"reduce_dim\": [TruncatedSVD(), NMF()]},\n",
    "#                      {\"reduce_dim__n_components\": N_FEATURES_OPTIONS},\n",
    "                    ],\n",
    "}\n",
    "\n",
    "helper1 = EstimatorSelectionHelper(models1, params1)\n",
    "helper1.fit(XtrainGS, ytrainGS, scoring='f1')"
   ]
  },
  {
   "cell_type": "code",
   "execution_count": 100,
   "id": "27825067",
   "metadata": {},
   "outputs": [
    {
     "name": "stdout",
     "output_type": "stream",
     "text": [
      "logisticL1\n",
      "logisticL2\n",
      "gaussionNB\n"
     ]
    },
    {
     "data": {
      "text/html": [
       "<div>\n",
       "<style scoped>\n",
       "    .dataframe tbody tr th:only-of-type {\n",
       "        vertical-align: middle;\n",
       "    }\n",
       "\n",
       "    .dataframe tbody tr th {\n",
       "        vertical-align: top;\n",
       "    }\n",
       "\n",
       "    .dataframe thead th {\n",
       "        text-align: right;\n",
       "    }\n",
       "</style>\n",
       "<table border=\"1\" class=\"dataframe\">\n",
       "  <thead>\n",
       "    <tr style=\"text-align: right;\">\n",
       "      <th></th>\n",
       "      <th>estimator</th>\n",
       "      <th>min_score</th>\n",
       "      <th>mean_score</th>\n",
       "      <th>max_score</th>\n",
       "      <th>std_score</th>\n",
       "      <th>vect__min_df</th>\n",
       "    </tr>\n",
       "  </thead>\n",
       "  <tbody>\n",
       "    <tr>\n",
       "      <th>0</th>\n",
       "      <td>logisticL1</td>\n",
       "      <td>0.93578</td>\n",
       "      <td>0.961861</td>\n",
       "      <td>0.981928</td>\n",
       "      <td>0.016377</td>\n",
       "      <td>3</td>\n",
       "    </tr>\n",
       "    <tr>\n",
       "      <th>1</th>\n",
       "      <td>logisticL1</td>\n",
       "      <td>0.942249</td>\n",
       "      <td>0.962066</td>\n",
       "      <td>0.975904</td>\n",
       "      <td>0.012031</td>\n",
       "      <td>5</td>\n",
       "    </tr>\n",
       "    <tr>\n",
       "      <th>2</th>\n",
       "      <td>logisticL2</td>\n",
       "      <td>0.931343</td>\n",
       "      <td>0.952033</td>\n",
       "      <td>0.967164</td>\n",
       "      <td>0.01473</td>\n",
       "      <td>3</td>\n",
       "    </tr>\n",
       "    <tr>\n",
       "      <th>3</th>\n",
       "      <td>logisticL2</td>\n",
       "      <td>0.925373</td>\n",
       "      <td>0.946888</td>\n",
       "      <td>0.967164</td>\n",
       "      <td>0.0165</td>\n",
       "      <td>5</td>\n",
       "    </tr>\n",
       "    <tr>\n",
       "      <th>4</th>\n",
       "      <td>gaussionNB</td>\n",
       "      <td>NaN</td>\n",
       "      <td>NaN</td>\n",
       "      <td>NaN</td>\n",
       "      <td>NaN</td>\n",
       "      <td>3</td>\n",
       "    </tr>\n",
       "    <tr>\n",
       "      <th>5</th>\n",
       "      <td>gaussionNB</td>\n",
       "      <td>NaN</td>\n",
       "      <td>NaN</td>\n",
       "      <td>NaN</td>\n",
       "      <td>NaN</td>\n",
       "      <td>5</td>\n",
       "    </tr>\n",
       "  </tbody>\n",
       "</table>\n",
       "</div>"
      ],
      "text/plain": [
       "    estimator min_score mean_score max_score std_score vect__min_df\n",
       "0  logisticL1   0.93578   0.961861  0.981928  0.016377            3\n",
       "1  logisticL1  0.942249   0.962066  0.975904  0.012031            5\n",
       "2  logisticL2  0.931343   0.952033  0.967164   0.01473            3\n",
       "3  logisticL2  0.925373   0.946888  0.967164    0.0165            5\n",
       "4  gaussionNB       NaN        NaN       NaN       NaN            3\n",
       "5  gaussionNB       NaN        NaN       NaN       NaN            5"
      ]
     },
     "execution_count": 100,
     "metadata": {},
     "output_type": "execute_result"
    }
   ],
   "source": [
    "helper1.score_summary(sort_by='max_score')"
   ]
  },
  {
   "cell_type": "code",
   "execution_count": null,
   "id": "75f867bb",
   "metadata": {},
   "outputs": [],
   "source": [
    "# logistic = LogisticRegression(max_iter=10000, tol=0.1)\n",
    "from shutil import rmtree\n",
    "\n",
    "count_vectorizer = CountVectorizer(min_df=3, stop_words='english', analyzer=stem_rmv_punc)\n",
    "tfidf = TfidfTransformer()\n",
    "scaler = StandardScaler(with_mean=False) # not absolutely required but does help\n",
    "pca = TruncatedSVD()\n",
    "\n",
    "models1 = {\n",
    "    'logisticL1': LogisticRegression(penalty = 'l1', solver='liblinear', max_iter=10000),\n",
    "    'logisticL2': LogisticRegression( penalty = 'l2', max_iter=10000),\n",
    "    'gaussionNB': GaussianNB()\n",
    "}\n",
    "\n",
    "\n",
    "modelkeys = models1.keys()\n",
    "N_FEATURES_OPTIONS = [5, 50, 500]\n",
    "\n",
    "\n",
    "import time\n",
    "full_time = time.time()\n",
    "for i in range(2): # let's do some math: cleaning vs. not cleaning (2), stem/lemm/none (3), LSI/NMF (2), Classifiers (3)\n",
    "    for key in modelkeys:\n",
    "        start_time = time.time()\n",
    "#         cachedir = mkdtemp() # without this, you get results where each iteration takes about 5 minutes on my computer.\n",
    "\n",
    "        pipe = Pipeline(steps=[ \n",
    "                           (\"vect\", count_vectorizer),\n",
    "                           ('tfidf', tfidf), # please do not split training and testing inside your gridsearch.\n",
    "                           (\"scaler\", scaler), \n",
    "                           (\"reduce_dim\", \"passthrough\"), \n",
    "                           (\"classify\", models1[key])]) # memory=cachedir), \"clf\",get the model list)\n",
    "\n",
    "        # Parameters of pipelines can be set using ‘__’ separated parameter names:\n",
    "        param_grid = {\n",
    "#             \"pca__n_components\": [10, 100, 1000], # an upper bound\n",
    "            \"reduce_dim\": [TruncatedSVD(), NMF()],\n",
    "            \"reduce_dim__n_components\": N_FEATURES_OPTIONS,\n",
    "#             \"logistic__C\": [0.01], # your specific model\n",
    "            \"vect__min_df\":[3, 5], # min df = 3,5 - these are currently junk values!\n",
    "        }\n",
    "\n",
    "        search = GridSearchCV(pipe, param_grid, n_jobs=-1, cv=5) # n_jobs is saying how many processes do you want to start concurrently\n",
    "        # If you are using Google Colab, you need to make sure that you have enough memory. If you don't,\n",
    "        # your runtime is significantly affected, because the virtual machine will start adding everything to swap memory and \n",
    "        # this **really** slows down the processing.\n",
    "\n",
    "        search.fit(XtrainGS, ytrainGS)\n",
    "        print(\"Best parameter (CV score=%0.3f):\" % search.best_score_) \n",
    "        # built-in functions exist for this\n",
    "        # RandomizedSearchCV that you can use as an alternate, but you may not score full points on the search.\n",
    "\n",
    "        print(search.best_params_)\n",
    "        print(\"--- %s seconds ---\" % (time.time() - start_time))\n",
    "#         rmtree(cachedir)\n",
    "\n",
    "print(\"--- %s seconds ---\" % (time.time() - full_time))"
   ]
  },
  {
   "cell_type": "code",
   "execution_count": null,
   "id": "4e3ba2a6",
   "metadata": {},
   "outputs": [],
   "source": []
  }
 ],
 "metadata": {
  "kernelspec": {
   "display_name": "Python 3 (ipykernel)",
   "language": "python",
   "name": "python3"
  },
  "language_info": {
   "codemirror_mode": {
    "name": "ipython",
    "version": 3
   },
   "file_extension": ".py",
   "mimetype": "text/x-python",
   "name": "python",
   "nbconvert_exporter": "python",
   "pygments_lexer": "ipython3",
   "version": "3.8.10"
  }
 },
 "nbformat": 4,
 "nbformat_minor": 5
}
