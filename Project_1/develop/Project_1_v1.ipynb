{
 "cells": [
  {
   "cell_type": "markdown",
   "id": "f5a1ee3f",
   "metadata": {},
   "source": [
    "### 0. Load & View Dataset"
   ]
  },
  {
   "cell_type": "code",
   "execution_count": 2,
   "id": "3d38c9f3",
   "metadata": {},
   "outputs": [],
   "source": [
    "## Import libraries\n",
    "import pandas as pd\n",
    "import numpy as np"
   ]
  },
  {
   "cell_type": "code",
   "execution_count": 3,
   "id": "f5e6c49a",
   "metadata": {},
   "outputs": [],
   "source": [
    "## Load dataset\n",
    "df = pd.read_csv('./Project_1_dataset_01_01_2022.csv')"
   ]
  },
  {
   "cell_type": "code",
   "execution_count": 4,
   "id": "3b017b9d",
   "metadata": {},
   "outputs": [
    {
     "data": {
      "text/html": [
       "<div>\n",
       "<style scoped>\n",
       "    .dataframe tbody tr th:only-of-type {\n",
       "        vertical-align: middle;\n",
       "    }\n",
       "\n",
       "    .dataframe tbody tr th {\n",
       "        vertical-align: top;\n",
       "    }\n",
       "\n",
       "    .dataframe thead th {\n",
       "        text-align: right;\n",
       "    }\n",
       "</style>\n",
       "<table border=\"1\" class=\"dataframe\">\n",
       "  <thead>\n",
       "    <tr style=\"text-align: right;\">\n",
       "      <th></th>\n",
       "      <th>Unnamed: 0</th>\n",
       "      <th>full_text</th>\n",
       "      <th>summary</th>\n",
       "      <th>keywords</th>\n",
       "      <th>publish_date</th>\n",
       "      <th>authors</th>\n",
       "      <th>url</th>\n",
       "      <th>leaf_label</th>\n",
       "      <th>root_label</th>\n",
       "    </tr>\n",
       "  </thead>\n",
       "  <tbody>\n",
       "    <tr>\n",
       "      <th>0</th>\n",
       "      <td>590</td>\n",
       "      <td>Having made a massive impact in Saudi Arabia w...</td>\n",
       "      <td>Having made a massive impact in Saudi Arabia w...</td>\n",
       "      <td>['singhs', 'rooting', 'cool', 'saudi', 'style'...</td>\n",
       "      <td>NaN</td>\n",
       "      <td>[]</td>\n",
       "      <td>https://www.msn.com/en-in/entertainment/other/...</td>\n",
       "      <td>cricket</td>\n",
       "      <td>sports</td>\n",
       "    </tr>\n",
       "    <tr>\n",
       "      <th>1</th>\n",
       "      <td>388</td>\n",
       "      <td>Cricket is all about the emotional rollercoast...</td>\n",
       "      <td>No matter which team fans hope to win, every s...</td>\n",
       "      <td>['wants', 'fans', 'finals', 'cup', 'win', 'tou...</td>\n",
       "      <td>NaN</td>\n",
       "      <td>[]</td>\n",
       "      <td>https://www.prnewswire.com:443/news-releases/c...</td>\n",
       "      <td>cricket</td>\n",
       "      <td>sports</td>\n",
       "    </tr>\n",
       "    <tr>\n",
       "      <th>2</th>\n",
       "      <td>423</td>\n",
       "      <td>New Zealand announces back-to-back tours next ...</td>\n",
       "      <td>New Zealand announces back-to-back tours next ...</td>\n",
       "      <td>['test', 'west', 'tour', 'zealand', 'world', '...</td>\n",
       "      <td>2021-12-20 00:00:00</td>\n",
       "      <td>[]</td>\n",
       "      <td>https://www.aljazeera.com/news/2021/12/20/cric...</td>\n",
       "      <td>cricket</td>\n",
       "      <td>sports</td>\n",
       "    </tr>\n",
       "    <tr>\n",
       "      <th>3</th>\n",
       "      <td>563</td>\n",
       "      <td>It's not the first time cricket fans in the co...</td>\n",
       "      <td>Billed as one of the pre-tournament favourites...</td>\n",
       "      <td>['qualify', 'afghanistan', 'cup', 'world', 'ze...</td>\n",
       "      <td>NaN</td>\n",
       "      <td>[]</td>\n",
       "      <td>https://www.msn.com/en-in/news/other/t20-world...</td>\n",
       "      <td>cricket</td>\n",
       "      <td>sports</td>\n",
       "    </tr>\n",
       "    <tr>\n",
       "      <th>4</th>\n",
       "      <td>634</td>\n",
       "      <td>An employee works on a computer terminal again...</td>\n",
       "      <td>REUTERS/Sivaram VBENGALURU, Oct 11 (Reuters Br...</td>\n",
       "      <td>['success', 'tech', 'startup', 'talent', 'onli...</td>\n",
       "      <td>2021-10-11 00:00:00</td>\n",
       "      <td>['Una Galani']</td>\n",
       "      <td>https://www.reuters.com/breakingviews/india-in...</td>\n",
       "      <td>cricket</td>\n",
       "      <td>sports</td>\n",
       "    </tr>\n",
       "  </tbody>\n",
       "</table>\n",
       "</div>"
      ],
      "text/plain": [
       "   Unnamed: 0                                          full_text  \\\n",
       "0         590  Having made a massive impact in Saudi Arabia w...   \n",
       "1         388  Cricket is all about the emotional rollercoast...   \n",
       "2         423  New Zealand announces back-to-back tours next ...   \n",
       "3         563  It's not the first time cricket fans in the co...   \n",
       "4         634  An employee works on a computer terminal again...   \n",
       "\n",
       "                                             summary  \\\n",
       "0  Having made a massive impact in Saudi Arabia w...   \n",
       "1  No matter which team fans hope to win, every s...   \n",
       "2  New Zealand announces back-to-back tours next ...   \n",
       "3  Billed as one of the pre-tournament favourites...   \n",
       "4  REUTERS/Sivaram VBENGALURU, Oct 11 (Reuters Br...   \n",
       "\n",
       "                                            keywords         publish_date  \\\n",
       "0  ['singhs', 'rooting', 'cool', 'saudi', 'style'...                  NaN   \n",
       "1  ['wants', 'fans', 'finals', 'cup', 'win', 'tou...                  NaN   \n",
       "2  ['test', 'west', 'tour', 'zealand', 'world', '...  2021-12-20 00:00:00   \n",
       "3  ['qualify', 'afghanistan', 'cup', 'world', 'ze...                  NaN   \n",
       "4  ['success', 'tech', 'startup', 'talent', 'onli...  2021-10-11 00:00:00   \n",
       "\n",
       "          authors                                                url  \\\n",
       "0              []  https://www.msn.com/en-in/entertainment/other/...   \n",
       "1              []  https://www.prnewswire.com:443/news-releases/c...   \n",
       "2              []  https://www.aljazeera.com/news/2021/12/20/cric...   \n",
       "3              []  https://www.msn.com/en-in/news/other/t20-world...   \n",
       "4  ['Una Galani']  https://www.reuters.com/breakingviews/india-in...   \n",
       "\n",
       "  leaf_label root_label  \n",
       "0    cricket     sports  \n",
       "1    cricket     sports  \n",
       "2    cricket     sports  \n",
       "3    cricket     sports  \n",
       "4    cricket     sports  "
      ]
     },
     "execution_count": 4,
     "metadata": {},
     "output_type": "execute_result"
    }
   ],
   "source": [
    "df.head()"
   ]
  },
  {
   "cell_type": "code",
   "execution_count": 5,
   "id": "0ddece5b",
   "metadata": {},
   "outputs": [
    {
     "data": {
      "text/plain": [
       "(2072, 9)"
      ]
     },
     "execution_count": 5,
     "metadata": {},
     "output_type": "execute_result"
    }
   ],
   "source": [
    "df.shape"
   ]
  },
  {
   "cell_type": "markdown",
   "id": "74a77678",
   "metadata": {},
   "source": [
    "Question 1: There are in total 2072 rows/samples. There are in total 9 columns, however the features describing the \n",
    "data are full_text, summary, keywords, publish_date, authors and url (6 in total). Leaf_label and root_label are the dependent variables or classes. Unamed: 0 is an index variable."
   ]
  },
  {
   "cell_type": "markdown",
   "id": "580566bb",
   "metadata": {},
   "source": [
    "#### 0.1 Plot histograms"
   ]
  },
  {
   "cell_type": "code",
   "execution_count": 6,
   "id": "444ca42a",
   "metadata": {},
   "outputs": [],
   "source": [
    "## Import libraries\n",
    "import matplotlib.pyplot as plt\n",
    "%matplotlib inline"
   ]
  },
  {
   "cell_type": "code",
   "execution_count": 7,
   "id": "014d14e5",
   "metadata": {},
   "outputs": [],
   "source": [
    "# what happens with infinite bins?"
   ]
  },
  {
   "cell_type": "code",
   "execution_count": 8,
   "id": "3a040d79",
   "metadata": {},
   "outputs": [],
   "source": [
    "df['count'] =  df['full_text'].apply(lambda x: sum(char.isalnum() for char in x))"
   ]
  },
  {
   "cell_type": "code",
   "execution_count": 9,
   "id": "10e0aaf2",
   "metadata": {},
   "outputs": [],
   "source": [
    "## Sanity check - value of count should be in the range of length of string full_text\n",
    "# df['count'].value_counts\n",
    "\n",
    "## Sanity check - length of full_text for first row\n",
    "# len(df['full_text'][0])"
   ]
  },
  {
   "cell_type": "code",
   "execution_count": 10,
   "id": "e419a7de",
   "metadata": {},
   "outputs": [],
   "source": [
    "# plt.hist(df['count'])\n",
    "# plt.show()"
   ]
  },
  {
   "cell_type": "code",
   "execution_count": 11,
   "id": "a4fe2fcb",
   "metadata": {},
   "outputs": [
    {
     "data": {
      "image/png": "[encoded data removed]",
      "text/plain": [
       "<Figure size 432x288 with 1 Axes>"
      ]
     },
     "metadata": {
      "needs_background": "light"
     },
     "output_type": "display_data"
    }
   ],
   "source": [
    "# Frequency plot for number of alpha-numeric characters in full_text\n",
    "plt.hist(df['count'], 30,\n",
    "         histtype='bar')\n",
    "\n",
    "plt.show()"
   ]
  },
  {
   "cell_type": "code",
   "execution_count": 12,
   "id": "b00b91a3",
   "metadata": {},
   "outputs": [
    {
     "data": {
      "image/png": "[encoded data removed]",
      "text/plain": [
       "<Figure size 432x288 with 1 Axes>"
      ]
     },
     "metadata": {
      "needs_background": "light"
     },
     "output_type": "display_data"
    }
   ],
   "source": [
    "plt.hist(df[df['count']<5000]['count'], 30,\n",
    "         histtype='bar')\n",
    "\n",
    "plt.show()"
   ]
  },
  {
   "cell_type": "code",
   "execution_count": 13,
   "id": "9e8185a5",
   "metadata": {},
   "outputs": [],
   "source": [
    "## sanity check\n",
    "# df['leaf_label'].value_counts()"
   ]
  },
  {
   "cell_type": "code",
   "execution_count": 14,
   "id": "c0d8e74e",
   "metadata": {},
   "outputs": [
    {
     "data": {
      "image/png": "[encoded data removed]",
      "text/plain": [
       "<Figure size 720x216 with 1 Axes>"
      ]
     },
     "metadata": {
      "needs_background": "light"
     },
     "output_type": "display_data"
    }
   ],
   "source": [
    "# Frequency plot for leaf_label\n",
    "\n",
    "plt.figure(figsize=(10,3))\n",
    "plt.hist(df['leaf_label'],\n",
    "        histtype='bar')\n",
    "plt.show()"
   ]
  },
  {
   "cell_type": "code",
   "execution_count": 15,
   "id": "e0b9cbad",
   "metadata": {},
   "outputs": [],
   "source": [
    "## sanity check\n",
    "# df['root_label'].value_counts()"
   ]
  },
  {
   "cell_type": "code",
   "execution_count": 16,
   "id": "9e442fc8",
   "metadata": {},
   "outputs": [
    {
     "data": {
      "image/png": "[encoded data removed]",
      "text/plain": [
       "<Figure size 432x288 with 1 Axes>"
      ]
     },
     "metadata": {
      "needs_background": "light"
     },
     "output_type": "display_data"
    }
   ],
   "source": [
    "# Frequency plot for root_label\n",
    "\n",
    "# plt.figure(figsize=(3,3))\n",
    "plt.hist(df['root_label'],\n",
    "        histtype='bar')\n",
    "plt.show()"
   ]
  },
  {
   "cell_type": "markdown",
   "id": "08632cbd",
   "metadata": {},
   "source": [
    "The first plot suggests that most of the documents have less that 5,000 alpha-numeric characters. Few documents are very long with some having more than 30,000 alpha-numeric characters. The second frequency plot for leaf_label suggests that data is distributed equally among the 8 classes with each class having 259 samples in total. The third plot suggests that for the binary class label root_label, data is distributed equally between the 2 classes sports and climate, with each having 1036 data points."
   ]
  },
  {
   "cell_type": "markdown",
   "id": "2dea6c78",
   "metadata": {},
   "source": [
    "### 1. Binary Classification\n",
    "\n",
    "- Use full_text to extract features for binary classification to root_label classes: sports and climate"
   ]
  },
  {
   "cell_type": "markdown",
   "id": "20bc8175",
   "metadata": {},
   "source": [
    "#### 1.1 Split data"
   ]
  },
  {
   "cell_type": "code",
   "execution_count": 17,
   "id": "056b7c37",
   "metadata": {},
   "outputs": [],
   "source": [
    "import numpy as np\n",
    "import random\n",
    "np.random.seed(42)\n",
    "random.seed(42)"
   ]
  },
  {
   "cell_type": "code",
   "execution_count": 18,
   "id": "a51c17d4",
   "metadata": {},
   "outputs": [],
   "source": [
    "## Split data into train and test\n",
    "from sklearn.model_selection import train_test_split\n",
    "train, test = train_test_split(df, test_size=0.2)\n"
   ]
  },
  {
   "cell_type": "code",
   "execution_count": 19,
   "id": "fb1c363c",
   "metadata": {},
   "outputs": [
    {
     "name": "stdout",
     "output_type": "stream",
     "text": [
      "(1657, 10)\n",
      "(415, 10)\n"
     ]
    }
   ],
   "source": [
    "print(train.shape)\n",
    "print(test.shape)"
   ]
  },
  {
   "cell_type": "markdown",
   "id": "af0de6b8",
   "metadata": {},
   "source": [
    "Question 2: There are total 1657 samples in training data and 415 samples in test data."
   ]
  },
  {
   "cell_type": "code",
   "execution_count": 22,
   "id": "96e67a64",
   "metadata": {},
   "outputs": [],
   "source": [
    "## check class distribution in train and test\n",
    "\n",
    "# train['leaf_label'].value_counts(normalize = True)\n",
    "# test['leaf_label'].value_counts(normalize = True)\n",
    "# train['root_label'].value_counts(normalize = True)\n",
    "# test['root_label'].value_counts(normalize = True)"
   ]
  },
  {
   "cell_type": "markdown",
   "id": "cb73576d",
   "metadata": {},
   "source": [
    "#### 1.2 Feature extraction"
   ]
  },
  {
   "cell_type": "code",
   "execution_count": 23,
   "id": "047e87df",
   "metadata": {},
   "outputs": [],
   "source": [
    "## Import libraries\n",
    "import re\n",
    "from sklearn.feature_extraction import text\n",
    "from sklearn.feature_extraction.text import CountVectorizer, TfidfTransformer\n",
    "\n",
    "import nltk\n",
    "from nltk import pos_tag\n",
    "from nltk.tokenize import sent_tokenize\n",
    "from nltk.corpus import stopwords\n",
    "#nltk.download('stopwords' )\n",
    "\n",
    "\n",
    "import string\n",
    "from string import punctuation\n",
    "\n",
    "stop_words_skt = text.ENGLISH_STOP_WORDS\n",
    "stop_words_en = stopwords.words('english')\n"
   ]
  },
  {
   "cell_type": "code",
   "execution_count": 24,
   "id": "d1ff77e6",
   "metadata": {},
   "outputs": [],
   "source": [
    "#################################\n",
    "# FUNCTIONS\n",
    "#################################"
   ]
  },
  {
   "cell_type": "code",
   "execution_count": 25,
   "id": "e697fd1c",
   "metadata": {},
   "outputs": [],
   "source": [
    "def clean(text):\n",
    "    '''\n",
    "    Helps remove many HTML artefacts from the crawler's output.\n",
    "    '''\n",
    "    text = re.sub(r'^https?:\\/\\/.*[\\r\\n]*', '', text, flags=re.MULTILINE)\n",
    "    texter = re.sub(r\"<br />\", \" \", text)\n",
    "    texter = re.sub(r\"&quot;\", \"\\\"\",texter)\n",
    "    texter = re.sub('&#39;', \"\\\"\", texter)\n",
    "    texter = re.sub('\\n', \" \", texter)\n",
    "    texter = re.sub(' u ',\" you \", texter)\n",
    "    texter = re.sub('`',\"\", texter)\n",
    "    texter = re.sub(' +', ' ', texter)\n",
    "    texter = re.sub(r\"(!)\\1+\", r\"!\", texter)\n",
    "    texter = re.sub(r\"(\\?)\\1+\", r\"?\", texter)\n",
    "    texter = re.sub('&amp;', 'and', texter)\n",
    "    texter = re.sub('\\r', ' ',texter)\n",
    "    clean = re.compile('<.*?>')\n",
    "    texter = texter.encode('ascii', 'ignore').decode('ascii')\n",
    "    texter = re.sub(clean, '', texter)\n",
    "    if texter == \"\":\n",
    "        texter = \"\"\n",
    "    return texter"
   ]
  },
  {
   "cell_type": "code",
   "execution_count": 26,
   "id": "eab39ec3",
   "metadata": {},
   "outputs": [],
   "source": [
    "\n",
    "combined_stopwords = set.union(set(stop_words_en),set(punctuation),set(stop_words_skt))\n",
    "wnl = nltk.wordnet.WordNetLemmatizer()\n",
    "stemmer = nltk.stem.PorterStemmer()\n",
    "\n",
    "analyzer = CountVectorizer().build_analyzer()\n",
    "def stemmed_words(doc):\n",
    "    return (stemmer.stem(w) for w in analyzer(doc))\n",
    "\n",
    "def penn2morphy(penntag):\n",
    "    \"\"\" \n",
    "    Converts Penn Treebank tags to WordNet. \n",
    "    \"\"\"\n",
    "    morphy_tag = {'NN':'n', 'JJ':'a',\n",
    "                  'VB':'v', 'RB':'r'}\n",
    "    try:\n",
    "        return morphy_tag[penntag[:2]]\n",
    "    except:\n",
    "        return 'n' \n",
    "\n",
    "def lemmatize_sent(list_word): \n",
    "    '''\n",
    "    Returns lemmatized set of tokens with pos tagging\n",
    "    '''\n",
    "    return [wnl.lemmatize(word.lower(), pos=penn2morphy(tag)) \n",
    "            for word, tag in pos_tag(list_word)]\n",
    "\n",
    "def stem_rmv_punc(doc): # this should have been at the sentence-level because the pos-tag performs best at sentence-level\n",
    "    return (word for word in lemmatize_sent(analyzer(doc)) if word not in combined_stopwords and not word.isdigit())\n",
    "\n",
    "\n",
    "def clean_tokens (tokens: list):\n",
    "    lower_txt = [token.lower() for token in tokens]\n",
    "    \n",
    "    # if lemmatization\n",
    "#     lemmatize_tokens = lemmatize_sent(lower_txt)  \n",
    "#     remove_digits = [token for token in lemmatize_tokens if not token.isdigit()]\n",
    "    # if stemming\n",
    "    stem_tokens = [stemmer.stem(token) for token in lower_txt] \n",
    "    remove_digits = [token for token in stem_tokens if not token.isdigit()]\n",
    "    \n",
    "    remove_stopwords = [token for token in remove_digits if token not in combined_stopwords]\n",
    "    len_token = [token for token in remove_stopwords if len(token)>1]\n",
    "    return len_token\n",
    "\n",
    "def doc_tokens (doc):\n",
    "    list_sentences = sent_tokenize(doc)\n",
    "    doc_tokens = []\n",
    "    for sentence in list_sentences:\n",
    "        sentence = sentence.translate(str.maketrans('', '', string.punctuation))\n",
    "        tokens = nltk.word_tokenize(sentence)\n",
    "        tokens = clean_tokens(tokens)\n",
    "        doc_tokens.extend(tokens)\n",
    "#     print(doc_tokens)\n",
    "    return (word for word in doc_tokens)       \n",
    "    "
   ]
  },
  {
   "cell_type": "markdown",
   "id": "7a52d2ec",
   "metadata": {},
   "source": [
    "Ref: https://avielrs.github.io/lemmatization/\n",
    "\n",
    "Difference between stemming and lemmatization:\n",
    "    Stemming tries to reduce the word to root/base word which might or might not have actual meaning associated with it. It works by removing siffixes from the words. Stemming can be beneficial when developing search engines for query matching and feature space reduction when training a model. Since, stemming does not take into account the complexities of english language, it might end up changing the meaning of the word entirely for example from does to doe. Also, the resulting words after stemming might be hard to understand as they don't necessarily have a meaning associated. Stemming might be preferred when the meaning of the word is not important. It is also faster than lemmatization.\n",
    "    Lemmatization on the other hand, is more careful that the word reduction does not lose the meaning of the word. It can also utilize some complexities of english language such as parts of speech in order to return better root words. A downside for lemmatization is that it might end up giving a larger feature set compared to stemming."
   ]
  },
  {
   "cell_type": "code",
   "execution_count": 27,
   "id": "ddcf4cc5",
   "metadata": {},
   "outputs": [],
   "source": [
    "# punctuation"
   ]
  },
  {
   "cell_type": "code",
   "execution_count": 28,
   "id": "424fe756",
   "metadata": {},
   "outputs": [],
   "source": [
    "#################################\n",
    "# MAIN\n",
    "#################################"
   ]
  },
  {
   "cell_type": "code",
   "execution_count": 29,
   "id": "8f1f3fac",
   "metadata": {},
   "outputs": [],
   "source": [
    "# train_debug = train[:50]"
   ]
  },
  {
   "cell_type": "code",
   "execution_count": 30,
   "id": "07ed22f7",
   "metadata": {},
   "outputs": [],
   "source": [
    "count_vectorizer = CountVectorizer(min_df=3, stop_words='english', analyzer=doc_tokens, max_df=0.7)\n",
    "# count_vectorizer = CountVectorizer(stop_words='english', analyzer=doc_tokens)\n",
    "X_train_counts = count_vectorizer.fit_transform(train['full_text'])"
   ]
  },
  {
   "cell_type": "code",
   "execution_count": 31,
   "id": "b30e362a",
   "metadata": {},
   "outputs": [
    {
     "data": {
      "text/plain": [
       "(1657, 9326)"
      ]
     },
     "execution_count": 31,
     "metadata": {},
     "output_type": "execute_result"
    }
   ],
   "source": [
    "X_train_counts.shape"
   ]
  },
  {
   "cell_type": "markdown",
   "id": "a63d9007",
   "metadata": {},
   "source": [
    "Lemmatization leads to 10451 keywords, while stemming leads to 9382 keywords. Stemming reduces the dictionary size."
   ]
  },
  {
   "cell_type": "code",
   "execution_count": 32,
   "id": "efb9fe14",
   "metadata": {},
   "outputs": [
    {
     "name": "stderr",
     "output_type": "stream",
     "text": [
      "/home/shivam/.local/lib/python3.8/site-packages/sklearn/utils/deprecation.py:87: FutureWarning: Function get_feature_names is deprecated; get_feature_names is deprecated in 1.0 and will be removed in 1.2. Please use get_feature_names_out instead.\n",
      "  warnings.warn(msg, category=FutureWarning)\n"
     ]
    },
    {
     "data": {
      "text/plain": [
       "['08837phone',\n",
       " '100th',\n",
       " '100year',\n",
       " '10km',\n",
       " '10th',\n",
       " '10year',\n",
       " '10yearold',\n",
       " '11th',\n",
       " '11yearold',\n",
       " '12th',\n",
       " '12yard',\n",
       " '13th',\n",
       " '13yard',\n",
       " '14game',\n",
       " '14th',\n",
       " '15man',\n",
       " '15th',\n",
       " '15yard',\n",
       " '16th',\n",
       " '17f',\n",
       " '17inch',\n",
       " '17magnitud',\n",
       " '17th',\n",
       " '17yard',\n",
       " '18th',\n",
       " '18yearold',\n",
       " '19th',\n",
       " '19yard',\n",
       " '1and4',\n",
       " '1st',\n",
       " '1yard',\n",
       " '20th',\n",
       " '20year',\n",
       " '21st',\n",
       " '21yard',\n",
       " '22yard',\n",
       " '22yearold',\n",
       " '23rd',\n",
       " '23yard',\n",
       " '23yearold',\n",
       " '247sport',\n",
       " '24hour',\n",
       " '24th',\n",
       " '25th',\n",
       " '25yearold',\n",
       " '26th',\n",
       " '27th',\n",
       " '28th',\n",
       " '28yearold',\n",
       " '29th',\n",
       " '29yard',\n",
       " '29yearold',\n",
       " '2am',\n",
       " '2nd',\n",
       " '2s',\n",
       " '2yard',\n",
       " '2½',\n",
       " '30day',\n",
       " '30th',\n",
       " '30yard',\n",
       " '30yearold',\n",
       " '31st',\n",
       " '31yearold',\n",
       " '32nd',\n",
       " '32yard',\n",
       " '32yearold',\n",
       " '33yard',\n",
       " '33yearold',\n",
       " '34game',\n",
       " '34th',\n",
       " '34yard',\n",
       " '35liter',\n",
       " '360degre',\n",
       " '36yard',\n",
       " '36yearold',\n",
       " '37inch',\n",
       " '37th',\n",
       " '37yard',\n",
       " '37yearold',\n",
       " '39yard',\n",
       " '3a',\n",
       " '3d',\n",
       " '3rd',\n",
       " '40th',\n",
       " '40yard',\n",
       " '40yearold',\n",
       " '42nd',\n",
       " '44yearold',\n",
       " '45yard',\n",
       " '45yearold',\n",
       " '47magnitud',\n",
       " '47yard',\n",
       " '48yard',\n",
       " '49er',\n",
       " '49yard',\n",
       " '4g',\n",
       " '4th',\n",
       " '50over',\n",
       " '50plu',\n",
       " '50th',\n",
       " '51yard',\n",
       " '53yard',\n",
       " '53yearold',\n",
       " '54yard',\n",
       " '55yarder',\n",
       " '56yard',\n",
       " '58magnitud',\n",
       " '58th',\n",
       " '5g',\n",
       " '5th',\n",
       " '5year',\n",
       " '62nd',\n",
       " '63magnitud',\n",
       " '64th',\n",
       " '65th',\n",
       " '6th',\n",
       " '71magnitud',\n",
       " '72nd',\n",
       " '73liter',\n",
       " '75km',\n",
       " '75magnitud',\n",
       " '75yard',\n",
       " '76th',\n",
       " '78magnitud',\n",
       " '79th',\n",
       " '7day',\n",
       " '7th',\n",
       " '7yard',\n",
       " '85th',\n",
       " '86th',\n",
       " '88th',\n",
       " '8pm',\n",
       " '8th',\n",
       " '8yard',\n",
       " '919881074592infoqurateresearchcomw',\n",
       " '930pm',\n",
       " '9th',\n",
       " 'a3',\n",
       " 'a4',\n",
       " 'a5',\n",
       " 'a6',\n",
       " 'aap',\n",
       " 'aaron',\n",
       " 'ab',\n",
       " 'abandon',\n",
       " 'abat',\n",
       " 'abbi',\n",
       " 'abbott',\n",
       " 'abc',\n",
       " 'abc10',\n",
       " 'abdul',\n",
       " 'abhishek',\n",
       " 'abid',\n",
       " 'abil',\n",
       " 'abject',\n",
       " 'abl',\n",
       " 'ablat',\n",
       " 'abnorm',\n",
       " 'abolish',\n",
       " 'aborigin',\n",
       " 'abov',\n",
       " 'aboveaverag',\n",
       " 'abraham',\n",
       " 'abrahamyan',\n",
       " 'abram',\n",
       " 'abroad',\n",
       " 'abrupt',\n",
       " 'absenc',\n",
       " 'absent',\n",
       " 'absolut',\n",
       " 'absorb',\n",
       " 'abstract',\n",
       " 'abu',\n",
       " 'abund',\n",
       " 'abundantli',\n",
       " 'abus',\n",
       " 'ac',\n",
       " 'academ',\n",
       " 'academi',\n",
       " 'acc',\n",
       " 'acceler',\n",
       " 'accent',\n",
       " 'accept',\n",
       " 'access',\n",
       " 'accessori',\n",
       " 'accid',\n",
       " 'accident',\n",
       " 'accolad',\n",
       " 'accomack',\n",
       " 'accommod',\n",
       " 'accompani',\n",
       " 'accomplish',\n",
       " 'accord',\n",
       " 'accordingli',\n",
       " 'account',\n",
       " 'accredit',\n",
       " 'accumul',\n",
       " 'accur',\n",
       " 'accuraci',\n",
       " 'accus',\n",
       " 'accuweath',\n",
       " 'ace',\n",
       " 'achiev',\n",
       " 'acid',\n",
       " 'acknowledg',\n",
       " 'acl',\n",
       " 'acoust',\n",
       " 'acquir',\n",
       " 'acquisit',\n",
       " 'acr',\n",
       " 'acreag',\n",
       " 'acrefeet',\n",
       " 'acrobat',\n",
       " 'act',\n",
       " 'action',\n",
       " 'activ',\n",
       " 'activist',\n",
       " 'actor',\n",
       " 'actress',\n",
       " 'actual',\n",
       " 'actuari',\n",
       " 'acut',\n",
       " 'ad',\n",
       " 'adam',\n",
       " 'adapt',\n",
       " 'add',\n",
       " 'addict',\n",
       " 'addit',\n",
       " 'address',\n",
       " 'adel',\n",
       " 'adelaid',\n",
       " 'adept',\n",
       " 'adequ',\n",
       " 'adewumi',\n",
       " 'adher',\n",
       " 'adida',\n",
       " 'adjac',\n",
       " 'adjust',\n",
       " 'administ',\n",
       " 'administr',\n",
       " 'admir',\n",
       " 'admiss',\n",
       " 'admit',\n",
       " 'adopt',\n",
       " 'ador',\n",
       " 'adrian',\n",
       " 'adult',\n",
       " 'advanc',\n",
       " 'advantag',\n",
       " 'adventur',\n",
       " 'advers',\n",
       " 'advertis',\n",
       " 'advic',\n",
       " 'advis',\n",
       " 'advisor',\n",
       " 'advisori',\n",
       " 'advoc',\n",
       " 'advocaci',\n",
       " 'aerial',\n",
       " 'aerospac',\n",
       " 'aesthet',\n",
       " 'afc',\n",
       " 'affair',\n",
       " 'affect',\n",
       " 'affili',\n",
       " 'affirm',\n",
       " 'afford',\n",
       " 'afghan',\n",
       " 'afghanistan',\n",
       " 'aforement',\n",
       " 'afp',\n",
       " 'afraid',\n",
       " 'africa',\n",
       " 'african',\n",
       " 'aftermarket',\n",
       " 'aftermath',\n",
       " 'afternoon',\n",
       " 'aftershock',\n",
       " 'afterward',\n",
       " 'ag',\n",
       " 'agarw',\n",
       " 'age',\n",
       " 'agenc',\n",
       " 'agenda',\n",
       " 'agent',\n",
       " 'aggrav',\n",
       " 'aggreg',\n",
       " 'aggress',\n",
       " 'aggressor',\n",
       " 'ago',\n",
       " 'agra',\n",
       " 'agre',\n",
       " 'agreement',\n",
       " 'agricultur',\n",
       " 'ahead',\n",
       " 'ahm',\n",
       " 'ahmad',\n",
       " 'ai',\n",
       " 'aid',\n",
       " 'aiden',\n",
       " 'aidriven',\n",
       " 'aijaz',\n",
       " 'aim',\n",
       " 'aimnasdaq',\n",
       " 'air',\n",
       " 'aircraft',\n",
       " 'airplan',\n",
       " 'airport',\n",
       " 'aisl',\n",
       " 'aiyuk',\n",
       " 'aj',\n",
       " 'ajaz',\n",
       " 'ajinkya',\n",
       " 'aka',\n",
       " 'akash',\n",
       " 'akbar',\n",
       " 'akeal',\n",
       " 'akin',\n",
       " 'al',\n",
       " 'alabama',\n",
       " 'alain',\n",
       " 'alam',\n",
       " 'alameda',\n",
       " 'alan',\n",
       " 'alarm',\n",
       " 'alaska',\n",
       " 'albania',\n",
       " 'albeit',\n",
       " 'albert',\n",
       " 'album',\n",
       " 'albuquerqu',\n",
       " 'alcohol',\n",
       " 'alejandro',\n",
       " 'aleksand',\n",
       " 'aleksandr',\n",
       " 'alert',\n",
       " 'alex',\n",
       " 'alexand',\n",
       " 'alexandra',\n",
       " 'alexandria',\n",
       " 'alfr',\n",
       " 'algeria',\n",
       " 'algorithm',\n",
       " 'ali',\n",
       " 'alic',\n",
       " 'alien',\n",
       " 'align',\n",
       " 'alik',\n",
       " 'alireza',\n",
       " 'alis',\n",
       " 'aliv',\n",
       " 'allamerican',\n",
       " 'alleg',\n",
       " 'allegedli',\n",
       " 'allen',\n",
       " 'allevi',\n",
       " 'alli',\n",
       " 'allianc',\n",
       " 'allison',\n",
       " 'alloc',\n",
       " 'allot',\n",
       " 'allow',\n",
       " 'allpro',\n",
       " 'allround',\n",
       " 'allstar',\n",
       " 'allstat',\n",
       " 'alltim',\n",
       " 'alon',\n",
       " 'alongsid',\n",
       " 'alonzo',\n",
       " 'alphabet',\n",
       " 'alreadi',\n",
       " 'alright',\n",
       " 'alter',\n",
       " 'altern',\n",
       " 'altitud',\n",
       " 'altogeth',\n",
       " 'alumni',\n",
       " 'alvarez',\n",
       " 'alway',\n",
       " 'amanda',\n",
       " 'amass',\n",
       " 'amateur',\n",
       " 'amaz',\n",
       " 'amazon',\n",
       " 'amazona',\n",
       " 'ambassador',\n",
       " 'ambient',\n",
       " 'ambit',\n",
       " 'ambiti',\n",
       " 'ame',\n",
       " 'amen',\n",
       " 'amend',\n",
       " 'america',\n",
       " 'american',\n",
       " 'america•',\n",
       " 'ami',\n",
       " 'amid',\n",
       " 'amidst',\n",
       " 'ammo',\n",
       " 'ammonia',\n",
       " 'ampl',\n",
       " 'amplifi',\n",
       " 'anaheim',\n",
       " 'analog',\n",
       " 'analys',\n",
       " 'analysi',\n",
       " 'analysischapt',\n",
       " 'analysis•',\n",
       " 'analyst',\n",
       " 'analyt',\n",
       " 'analyz',\n",
       " 'anand',\n",
       " 'anchor',\n",
       " 'anchorag',\n",
       " 'ancient',\n",
       " 'anderson',\n",
       " 'andi',\n",
       " 'andor',\n",
       " 'andorra',\n",
       " 'andov',\n",
       " 'andr',\n",
       " 'andrea',\n",
       " 'andrew',\n",
       " 'android',\n",
       " 'anecdot',\n",
       " 'angel',\n",
       " 'angeleno',\n",
       " 'angelo',\n",
       " 'anger',\n",
       " 'angl',\n",
       " 'angola',\n",
       " 'angri',\n",
       " 'angst',\n",
       " 'anguilla',\n",
       " 'ani',\n",
       " 'anil',\n",
       " 'anim',\n",
       " 'ankl',\n",
       " 'ann',\n",
       " 'anna',\n",
       " 'annapoli',\n",
       " 'anniversari',\n",
       " 'announc',\n",
       " 'announcedbi',\n",
       " 'annoy',\n",
       " 'annual',\n",
       " 'anomali',\n",
       " 'anonym',\n",
       " 'anoth',\n",
       " 'answer',\n",
       " 'ant',\n",
       " 'antarct',\n",
       " 'antarctica',\n",
       " 'anthem',\n",
       " 'antholog',\n",
       " 'anthoni',\n",
       " 'antibodi',\n",
       " 'antic',\n",
       " 'anticip',\n",
       " 'antigua',\n",
       " 'antil',\n",
       " 'antiqu',\n",
       " 'anton',\n",
       " 'antonia',\n",
       " 'antonio',\n",
       " 'anurag',\n",
       " 'anxieti',\n",
       " 'anxiou',\n",
       " 'anya',\n",
       " 'anybodi',\n",
       " 'anymor',\n",
       " 'anyon',\n",
       " 'anyth',\n",
       " 'anytim',\n",
       " 'anywher',\n",
       " 'ap',\n",
       " 'apac',\n",
       " 'apart',\n",
       " 'apawn',\n",
       " 'apex',\n",
       " 'api',\n",
       " 'apiec',\n",
       " 'apocalyps',\n",
       " 'apocalypt',\n",
       " 'apolog',\n",
       " 'apologis',\n",
       " 'app',\n",
       " 'appal',\n",
       " 'appalachian',\n",
       " 'appar',\n",
       " 'apparel',\n",
       " 'appeal',\n",
       " 'appear',\n",
       " 'appetit',\n",
       " 'appl',\n",
       " 'applaud',\n",
       " 'appli',\n",
       " 'applianc',\n",
       " 'applic',\n",
       " 'appoint',\n",
       " 'appreci',\n",
       " 'approach',\n",
       " 'appropri',\n",
       " 'approv',\n",
       " 'approxim',\n",
       " 'april',\n",
       " 'aquif',\n",
       " 'arab',\n",
       " 'arabia',\n",
       " 'arbitrari',\n",
       " 'arbor',\n",
       " 'arc',\n",
       " 'arch',\n",
       " 'archer',\n",
       " 'archetyp',\n",
       " 'archipelago',\n",
       " 'architect',\n",
       " 'architectur',\n",
       " 'archiv',\n",
       " 'archriv',\n",
       " 'ardi',\n",
       " 'area',\n",
       " 'arena',\n",
       " 'arent',\n",
       " 'argentin',\n",
       " 'argentina',\n",
       " 'argu',\n",
       " 'arguabl',\n",
       " 'argument',\n",
       " 'aric',\n",
       " 'arid',\n",
       " 'aridif',\n",
       " 'aris',\n",
       " 'ariz',\n",
       " 'arizona',\n",
       " 'ark',\n",
       " 'arkansa',\n",
       " 'arlington',\n",
       " 'arm',\n",
       " 'armando',\n",
       " 'armenia',\n",
       " 'armi',\n",
       " 'armor',\n",
       " 'aros',\n",
       " 'arrang',\n",
       " 'array',\n",
       " 'arrest',\n",
       " 'arriv',\n",
       " 'arroyo',\n",
       " 'arsen',\n",
       " 'arson',\n",
       " 'art',\n",
       " 'arthur',\n",
       " 'articl',\n",
       " 'artifact',\n",
       " 'artifici',\n",
       " 'artist',\n",
       " 'artwork',\n",
       " 'aruba',\n",
       " 'arundel',\n",
       " 'asad',\n",
       " 'ash',\n",
       " 'ashevil',\n",
       " 'ashley',\n",
       " 'ashton',\n",
       " 'ashwin',\n",
       " 'asia',\n",
       " 'asiacraig',\n",
       " 'asian',\n",
       " 'asiapacif',\n",
       " 'asid',\n",
       " 'ask',\n",
       " 'aslani',\n",
       " 'asleep',\n",
       " 'aspect',\n",
       " 'aspir',\n",
       " 'asprevi',\n",
       " 'assassin',\n",
       " 'assault',\n",
       " 'assem',\n",
       " 'assembl',\n",
       " 'assert',\n",
       " 'assess',\n",
       " 'asset',\n",
       " 'assign',\n",
       " 'assist',\n",
       " 'associ',\n",
       " 'assort',\n",
       " 'assum',\n",
       " 'assumpt',\n",
       " 'assur',\n",
       " 'asthma',\n",
       " 'astonish',\n",
       " 'astronom',\n",
       " 'athen',\n",
       " 'athlet',\n",
       " 'atlant',\n",
       " 'atlanta',\n",
       " 'atletico',\n",
       " 'atmospher',\n",
       " 'atom',\n",
       " 'aton',\n",
       " 'atop',\n",
       " 'atrisk',\n",
       " 'att',\n",
       " 'attach',\n",
       " 'attack',\n",
       " 'attain',\n",
       " 'attempt',\n",
       " 'attend',\n",
       " 'attende',\n",
       " 'attent',\n",
       " 'atth',\n",
       " 'attitud',\n",
       " 'attorney',\n",
       " 'attract',\n",
       " 'attribut',\n",
       " 'attrit',\n",
       " 'attun',\n",
       " 'auburn',\n",
       " 'auction',\n",
       " 'audienc',\n",
       " 'audio',\n",
       " 'audit',\n",
       " 'auditorium',\n",
       " 'aug',\n",
       " 'augment',\n",
       " 'august',\n",
       " 'augustin',\n",
       " 'aunt',\n",
       " 'aussi',\n",
       " 'austin',\n",
       " 'australia',\n",
       " 'australian',\n",
       " 'austria',\n",
       " 'authent',\n",
       " 'author',\n",
       " 'auto',\n",
       " 'autom',\n",
       " 'automak',\n",
       " 'automat',\n",
       " 'automot',\n",
       " 'autumn',\n",
       " 'auxiliari',\n",
       " 'ava',\n",
       " 'avail',\n",
       " 'ave',\n",
       " 'aveng',\n",
       " 'avenu',\n",
       " 'averag',\n",
       " 'averi',\n",
       " 'avoid',\n",
       " 'aw',\n",
       " 'await',\n",
       " 'awak',\n",
       " 'awaken',\n",
       " 'awar',\n",
       " 'award',\n",
       " 'awardwin',\n",
       " 'away',\n",
       " 'awesom',\n",
       " 'axar',\n",
       " 'axb4',\n",
       " 'axb5',\n",
       " 'axe',\n",
       " 'axl',\n",
       " 'az',\n",
       " 'azam',\n",
       " 'azeem',\n",
       " 'azerbaijan',\n",
       " 'b2b',\n",
       " 'b4',\n",
       " 'b5',\n",
       " 'b6',\n",
       " 'ba4',\n",
       " 'babar',\n",
       " 'babi',\n",
       " 'bachelor',\n",
       " 'backandforth',\n",
       " 'backbon',\n",
       " 'backcountri',\n",
       " 'backdrop',\n",
       " 'backfir',\n",
       " 'background',\n",
       " 'backlash',\n",
       " 'backlin',\n",
       " 'backroom',\n",
       " 'backsid',\n",
       " 'backstag',\n",
       " 'backtoback',\n",
       " 'backup',\n",
       " 'backward',\n",
       " 'backyard',\n",
       " 'bacon',\n",
       " 'bad',\n",
       " 'badghi',\n",
       " 'badli',\n",
       " 'bag',\n",
       " 'bahama',\n",
       " 'bahrain',\n",
       " 'bail',\n",
       " 'bailey',\n",
       " 'bairstow',\n",
       " 'baja',\n",
       " 'bake',\n",
       " 'baker',\n",
       " 'bakeri',\n",
       " 'bakersfield',\n",
       " 'balanc',\n",
       " 'baldwin',\n",
       " 'bali',\n",
       " 'ball',\n",
       " 'balloon',\n",
       " 'ballot',\n",
       " 'ballshap',\n",
       " 'balltamp',\n",
       " 'ballycastl',\n",
       " 'baltimor',\n",
       " 'bam',\n",
       " 'ban',\n",
       " 'band',\n",
       " 'banfield',\n",
       " 'bang',\n",
       " 'bangalor',\n",
       " 'bangladesh',\n",
       " 'bangli',\n",
       " 'bank',\n",
       " 'bankruptci',\n",
       " 'banner',\n",
       " 'banter',\n",
       " 'bar',\n",
       " 'barbado',\n",
       " 'barbara',\n",
       " 'barbecu',\n",
       " 'barbuda',\n",
       " 'barcelona',\n",
       " 'barclay',\n",
       " 'bare',\n",
       " 'bargain',\n",
       " 'barker',\n",
       " 'barkley',\n",
       " 'barley',\n",
       " 'barn',\n",
       " 'barrag',\n",
       " 'barren',\n",
       " 'barrett',\n",
       " 'barri',\n",
       " 'barricad',\n",
       " 'barrier',\n",
       " 'base',\n",
       " 'basebal',\n",
       " 'baselin',\n",
       " 'basement',\n",
       " 'bash',\n",
       " 'basi',\n",
       " 'basic',\n",
       " 'basin',\n",
       " 'basket',\n",
       " 'basketbal',\n",
       " 'basler',\n",
       " 'bass',\n",
       " 'bat',\n",
       " 'batch',\n",
       " 'bath',\n",
       " 'bathroom',\n",
       " 'baton',\n",
       " 'batsman',\n",
       " 'batsmen',\n",
       " 'batter',\n",
       " 'batteri',\n",
       " 'battl',\n",
       " 'battleground',\n",
       " 'batur',\n",
       " 'bavdhanpun',\n",
       " 'bay',\n",
       " 'baylor',\n",
       " 'baysid',\n",
       " 'bb3',\n",
       " 'bb4',\n",
       " 'bb5',\n",
       " 'bb7',\n",
       " 'bbc',\n",
       " 'bc',\n",
       " 'bc3',\n",
       " 'bc4',\n",
       " 'bc8',\n",
       " 'bcci',\n",
       " 'bd2',\n",
       " 'bd3',\n",
       " 'bd6',\n",
       " 'bd7',\n",
       " 'be2',\n",
       " 'be3',\n",
       " 'be4',\n",
       " 'be6',\n",
       " 'be7',\n",
       " 'beach',\n",
       " 'beachgoer',\n",
       " 'beam',\n",
       " 'bean',\n",
       " 'beani',\n",
       " 'bear',\n",
       " 'beard',\n",
       " 'beast',\n",
       " 'beasti',\n",
       " 'beat',\n",
       " 'beaten',\n",
       " 'beatl',\n",
       " 'beauti',\n",
       " 'beaver',\n",
       " 'becam',\n",
       " 'becaus',\n",
       " 'beckham',\n",
       " 'becki',\n",
       " 'becom',\n",
       " 'bed',\n",
       " 'bedmount',\n",
       " 'bee',\n",
       " 'beef',\n",
       " 'beer',\n",
       " 'beetl',\n",
       " 'befor',\n",
       " 'began',\n",
       " 'begin',\n",
       " 'beginn',\n",
       " 'begun',\n",
       " 'behalf',\n",
       " 'behav',\n",
       " 'behavior',\n",
       " 'behaviour',\n",
       " 'behindthescen',\n",
       " 'behold',\n",
       " 'beij',\n",
       " 'belaili',\n",
       " 'belaru',\n",
       " 'belfast',\n",
       " 'belgium',\n",
       " 'belief',\n",
       " 'believ',\n",
       " 'beliz',\n",
       " 'bell',\n",
       " 'bellingham',\n",
       " 'belong',\n",
       " 'belov',\n",
       " 'belowaverag',\n",
       " 'belt',\n",
       " 'ben',\n",
       " 'bench',\n",
       " 'benchmark',\n",
       " 'bend',\n",
       " 'beneath',\n",
       " 'benefici',\n",
       " 'benefit',\n",
       " 'bengal',\n",
       " 'bengaluru',\n",
       " 'benin',\n",
       " 'benjamin',\n",
       " 'bennett',\n",
       " 'bent',\n",
       " 'berkeley',\n",
       " 'berlin',\n",
       " 'bermuda',\n",
       " 'bernardino',\n",
       " 'berri',\n",
       " 'bert',\n",
       " 'berth',\n",
       " 'beset',\n",
       " 'besid',\n",
       " 'best',\n",
       " 'bestsel',\n",
       " 'bet',\n",
       " 'beta',\n",
       " 'beth',\n",
       " 'betray',\n",
       " 'better',\n",
       " 'beverag',\n",
       " 'beverli',\n",
       " 'beyonc',\n",
       " 'beyoncé',\n",
       " 'bf4',\n",
       " 'bf5',\n",
       " 'bg',\n",
       " 'bg2',\n",
       " 'bhutan',\n",
       " 'bid',\n",
       " 'biden',\n",
       " 'biennial',\n",
       " 'big',\n",
       " 'bigger',\n",
       " 'biggest',\n",
       " 'bighit',\n",
       " 'bijan',\n",
       " 'bike',\n",
       " 'bilater',\n",
       " 'billboard',\n",
       " 'billi',\n",
       " 'billion',\n",
       " 'billow',\n",
       " 'bin',\n",
       " 'bind',\n",
       " 'bingo',\n",
       " 'biobubbl',\n",
       " 'biodivers',\n",
       " 'biolog',\n",
       " 'biologist',\n",
       " 'biosecur',\n",
       " 'bioshock',\n",
       " 'biospher',\n",
       " 'bipartisan',\n",
       " 'bipoc',\n",
       " 'bird',\n",
       " 'birmingham',\n",
       " 'birth',\n",
       " 'birthday',\n",
       " 'biscuit',\n",
       " 'bishop',\n",
       " 'bismarck',\n",
       " 'bit',\n",
       " 'bitcoin',\n",
       " 'bite',\n",
       " 'bites',\n",
       " 'bitter',\n",
       " 'bizarr',\n",
       " 'black',\n",
       " 'blackandwhit',\n",
       " 'blackburn',\n",
       " 'blackcap',\n",
       " 'blacken',\n",
       " 'blackout',\n",
       " 'blacksburg',\n",
       " 'blade',\n",
       " 'blake',\n",
       " 'blame',\n",
       " 'blanco',\n",
       " 'blank',\n",
       " 'blanket',\n",
       " 'blast',\n",
       " 'blatter',\n",
       " 'blaze',\n",
       " 'bleak',\n",
       " 'blend',\n",
       " 'bless',\n",
       " 'blew',\n",
       " 'blind',\n",
       " 'blister',\n",
       " 'blitz',\n",
       " 'blm',\n",
       " 'bloc',\n",
       " 'block',\n",
       " 'blockchain',\n",
       " 'bloemfontein',\n",
       " 'blog',\n",
       " 'blogger',\n",
       " 'bloke',\n",
       " 'blood',\n",
       " 'bloodstream',\n",
       " 'bloom',\n",
       " 'blossom',\n",
       " 'blow',\n",
       " 'blown',\n",
       " 'blowout',\n",
       " 'blue',\n",
       " 'blueprint',\n",
       " 'bluff',\n",
       " 'blunder',\n",
       " 'blunt',\n",
       " 'blusteri',\n",
       " 'bmw',\n",
       " 'board',\n",
       " 'boast',\n",
       " 'boat',\n",
       " 'boater',\n",
       " 'bob',\n",
       " 'bobbi',\n",
       " 'bode',\n",
       " 'bodi',\n",
       " 'boe',\n",
       " 'boil',\n",
       " 'bold',\n",
       " 'bolivarian',\n",
       " 'bolivia',\n",
       " 'bollywood',\n",
       " 'bolster',\n",
       " 'bolt',\n",
       " 'bom',\n",
       " 'bomb',\n",
       " 'bombard',\n",
       " 'bond',\n",
       " 'bone',\n",
       " 'bonner',\n",
       " 'bonni',\n",
       " 'bonu',\n",
       " 'book',\n",
       " 'boom',\n",
       " 'boombox',\n",
       " 'boon',\n",
       " 'boost',\n",
       " 'booster',\n",
       " 'boot',\n",
       " ...]"
      ]
     },
     "execution_count": 32,
     "metadata": {},
     "output_type": "execute_result"
    }
   ],
   "source": [
    "count_vectorizer.get_feature_names()"
   ]
  },
  {
   "cell_type": "code",
   "execution_count": 33,
   "id": "a6a75435",
   "metadata": {},
   "outputs": [],
   "source": [
    "transformer = TfidfTransformer()\n",
    "X_train_tfidf = transformer.fit_transform(X_train_counts)"
   ]
  },
  {
   "cell_type": "code",
   "execution_count": 34,
   "id": "ea5a446a",
   "metadata": {},
   "outputs": [
    {
     "name": "stdout",
     "output_type": "stream",
     "text": [
      "(1657, 29631)\n",
      "(1657, 13316)\n",
      "(1657, 9326)\n",
      "(1657, 7413)\n"
     ]
    }
   ],
   "source": [
    "min_dfs = range(1,5)\n",
    "for min_df in min_dfs:\n",
    "    count_vectorizer1 = CountVectorizer(min_df=min_df, stop_words='english', analyzer=doc_tokens, max_df=0.7)\n",
    "    X_train_counts1 = count_vectorizer1.fit_transform(train['full_text'])\n",
    "    \n",
    "    transformer1 = TfidfTransformer()\n",
    "    X_train_tfidf = transformer1.fit_transform(X_train_counts1)\n",
    "    \n",
    "    print(X_train_tfidf.shape)"
   ]
  },
  {
   "cell_type": "markdown",
   "id": "5e61cc67",
   "metadata": {},
   "source": [
    "Increasing minimum document frequency i.e, minimum number of documents in which the word should appear reduces the size of the vocabulary by removing words that are not descriptive of the set of documents as they occur in very few documents. It will also reduce some high idf (inverse document frequency) values associated with lower minimum document frequency as min_df is increased."
   ]
  },
  {
   "cell_type": "markdown",
   "id": "da89c08d",
   "metadata": {},
   "source": [
    "Since lemmatization preserves the meaning of the words, stopwords ...."
   ]
  },
  {
   "cell_type": "code",
   "execution_count": 35,
   "id": "fca2facb",
   "metadata": {},
   "outputs": [
    {
     "name": "stdout",
     "output_type": "stream",
     "text": [
      "(1657, 9326)\n",
      "(415, 9326)\n"
     ]
    }
   ],
   "source": [
    "count_vectorizer = CountVectorizer(min_df=3, stop_words='english', analyzer=doc_tokens, max_df=0.7)\n",
    "transformer = TfidfTransformer()\n",
    "\n",
    "X_train_counts = count_vectorizer.fit_transform(train['full_text'])\n",
    "X_train_tfidf = transformer.fit_transform(X_train_counts)\n",
    "\n",
    "X_test_counts = count_vectorizer.transform(test['full_text'])\n",
    "X_test_tfidf = transformer.transform(X_test_counts)\n",
    "\n",
    "print(X_train_tfidf.shape)\n",
    "print(X_test_tfidf.shape)"
   ]
  },
  {
   "cell_type": "markdown",
   "id": "1e3f63d9",
   "metadata": {},
   "source": [
    "The shape of tf-idf processed train matrix is (1657, 9382) and the shape of test matrix is (415, 9382). The number of rows matches that in question 2."
   ]
  },
  {
   "cell_type": "markdown",
   "id": "124bb6c2",
   "metadata": {},
   "source": [
    "#### 1.3 Dimensionality reduction"
   ]
  },
  {
   "cell_type": "code",
   "execution_count": 36,
   "id": "f1ec571a",
   "metadata": {},
   "outputs": [],
   "source": [
    "from sklearn.decomposition import TruncatedSVD, NMF\n",
    "# contrary to PCA this method does not center the data, hence can work with sparse matrices. understand this.\n",
    "# understand PCA vs truncated SVD\n",
    "\n"
   ]
  },
  {
   "cell_type": "code",
   "execution_count": 37,
   "id": "1f74368c",
   "metadata": {},
   "outputs": [
    {
     "name": "stdout",
     "output_type": "stream",
     "text": [
      "0.005680719937246281\n",
      "0.120075060180665\n",
      "0.267332498655192\n",
      "0.3630882099695053\n",
      "0.4935982040003447\n",
      "0.7261635851869628\n",
      "0.9223143266762159\n",
      "0.9999999999999999\n"
     ]
    }
   ],
   "source": [
    "# Run LSI for various k values\n",
    "k_list = [1,10,50,100,200,500,1000,2000]\n",
    "explained_ratio = []\n",
    "for k in k_list:\n",
    "    svd = TruncatedSVD(n_components=k, n_iter = 20, random_state=42)\n",
    "    svd.fit(X_train_tfidf)\n",
    "    print(svd.explained_variance_ratio_.sum())\n",
    "    explained_ratio.append(svd.explained_variance_ratio_.sum())"
   ]
  },
  {
   "cell_type": "code",
   "execution_count": 38,
   "id": "6a440747",
   "metadata": {},
   "outputs": [
    {
     "data": {
      "image/png": "[encoded data removed]",
      "text/plain": [
       "<Figure size 432x288 with 1 Axes>"
      ]
     },
     "metadata": {
      "needs_background": "light"
     },
     "output_type": "display_data"
    }
   ],
   "source": [
    "# plotting the explained variance ratio across number of components\n",
    "plt.plot(k_list, explained_ratio)\n",
    "plt.xlabel('n_components')\n",
    "plt.ylabel('explained_variance_ratio')\n",
    "plt.title('LSI')\n",
    "plt.show()"
   ]
  },
  {
   "cell_type": "markdown",
   "id": "52493778",
   "metadata": {},
   "source": [
    "Question 4: The plots concavity suggests that as we increase dimensions, the explained variance ratio first increases quickly and then the rate of increase in explained variance ratio decreases with increasing number of dimensions. Explained variance of each eigenvector has diminishing returns."
   ]
  },
  {
   "cell_type": "code",
   "execution_count": 39,
   "id": "0337a206",
   "metadata": {},
   "outputs": [],
   "source": [
    "def get_SVD_residual_MSE (X_train, X_test, k = 50):\n",
    "    svd = TruncatedSVD(n_components=k, n_iter = 20, random_state=42)\n",
    "    X_train_svd = svd.fit_transform(X_train)\n",
    "    VT = svd.components_\n",
    "    X_train_svd = np.matmul(X_train_svd, VT)\n",
    "#     print(X_train_svd)\n",
    "    mse_train = ((X_train.toarray() - X_train_svd)**2).mean(axis=None)\n",
    "    X_test_svd = svd.transform(X_test)\n",
    "    X_test_svd = np.matmul(X_test_svd, VT)\n",
    "    mse_test = ((X_test.toarray() - X_test_svd)**2).mean(axis=None)\n",
    "    print(mse_train, mse_test)\n",
    "    \n",
    "    \n",
    "    \n",
    "def get_NMF_residual_MSE (X_train, X_test, k= 50):\n",
    "    nmf = NMF(n_components=k, init='random', random_state=42)\n",
    "    X_train_nmf = nmf.fit_transform(X_train)\n",
    "    H = nmf.components_\n",
    "    X_train_nmf = np.matmul(X_train_nmf, H)\n",
    "#     print(X_train_svd)\n",
    "    mse_train = ((X_train.toarray() - X_train_nmf)**2).mean(axis=None)\n",
    "    X_test_nmf = nmf.transform(X_test)\n",
    "    X_test_nmf = np.matmul(X_test_nmf, H)\n",
    "    mse_test = ((X_test.toarray() - X_test_nmf)**2).mean(axis=None)\n",
    "    print(mse_train, mse_test)\n",
    "    "
   ]
  },
  {
   "cell_type": "code",
   "execution_count": 37,
   "id": "d76c6f25",
   "metadata": {},
   "outputs": [],
   "source": [
    "# svd = TruncatedSVD(n_components=50, n_iter = 20, random_state=42)\n",
    "# X_train_svd = svd.fit_transform(X_train_tfidf)\n",
    "# VT = svd.components_\n",
    "# X_train_svd = np.matmul(X_train_svd, VT)"
   ]
  },
  {
   "cell_type": "code",
   "execution_count": 38,
   "id": "7d68123a",
   "metadata": {},
   "outputs": [
    {
     "name": "stdout",
     "output_type": "stream",
     "text": [
      "7.585568825839525e-05 7.729591315198664e-05\n"
     ]
    }
   ],
   "source": [
    "get_SVD_residual_MSE(X_train_tfidf, X_test_tfidf)"
   ]
  },
  {
   "cell_type": "code",
   "execution_count": 39,
   "id": "863d258a",
   "metadata": {},
   "outputs": [
    {
     "name": "stdout",
     "output_type": "stream",
     "text": [
      "7.740124417013825e-05 7.834903942213096e-05\n"
     ]
    }
   ],
   "source": [
    "get_NMF_residual_MSE(X_train_tfidf, X_test_tfidf)"
   ]
  },
  {
   "cell_type": "markdown",
   "id": "696a3258",
   "metadata": {},
   "source": [
    "NMF has larger error compared to SVD. This is because ....."
   ]
  },
  {
   "cell_type": "markdown",
   "id": "891280a4",
   "metadata": {},
   "source": [
    "#### 1.4 Classification algorithms"
   ]
  },
  {
   "cell_type": "code",
   "execution_count": 40,
   "id": "aaba953e",
   "metadata": {},
   "outputs": [],
   "source": [
    "from sklearn.pipeline import Pipeline\n",
    "from sklearn.linear_model import LogisticRegression\n",
    "from sklearn.metrics import confusion_matrix, roc_curve, auc\n",
    "from sklearn.metrics import precision_score, recall_score, accuracy_score, f1_score, roc_auc_score\n",
    "from sklearn.preprocessing import LabelEncoder, StandardScaler\n"
   ]
  },
  {
   "cell_type": "code",
   "execution_count": 41,
   "id": "176ef53d",
   "metadata": {},
   "outputs": [],
   "source": [
    "def plot_roc(fpr, tpr):\n",
    "    fig, ax = plt.subplots()\n",
    "\n",
    "    roc_auc = auc(fpr,tpr)\n",
    "\n",
    "    ax.plot(fpr, tpr, lw=2, label= 'area under curve = %0.4f' % roc_auc)\n",
    "\n",
    "    ax.grid(color='0.7', linestyle='--', linewidth=1)\n",
    "\n",
    "    ax.set_xlim([-0.1, 1.1])\n",
    "    ax.set_ylim([0.0, 1.05])\n",
    "    ax.set_xlabel('False Positive Rate',fontsize=15)\n",
    "    ax.set_ylabel('True Positive Rate',fontsize=15)\n",
    "\n",
    "    ax.legend(loc=\"lower right\")\n",
    "\n",
    "    for label in ax.get_xticklabels()+ax.get_yticklabels():\n",
    "        label.set_fontsize(15)\n",
    "\n",
    "def fit_predict_and_plot_roc(pipe, train_data, train_label, test_data, test_label):\n",
    "    pipe.fit(train_data, train_label)\n",
    "    # pipeline1.predict(twenty_test.data)\n",
    "\n",
    "    prob_score = pipe.predict_proba(test_data)\n",
    "\n",
    "    fpr, tpr, _ = roc_curve(test_label, prob_score[:,1])\n",
    "\n",
    "    plot_roc(fpr, tpr)\n",
    "    return pipe"
   ]
  },
  {
   "cell_type": "code",
   "execution_count": 42,
   "id": "54d78ea5",
   "metadata": {},
   "outputs": [],
   "source": [
    "## svm"
   ]
  },
  {
   "cell_type": "code",
   "execution_count": 43,
   "id": "ee3eec9c",
   "metadata": {},
   "outputs": [
    {
     "name": "stderr",
     "output_type": "stream",
     "text": [
      "/Users/reemakumari/.conda/envs/kaggle/lib/python3.8/site-packages/sklearn/linear_model/_logistic.py:814: ConvergenceWarning: lbfgs failed to converge (status=1):\n",
      "STOP: TOTAL NO. of ITERATIONS REACHED LIMIT.\n",
      "\n",
      "Increase the number of iterations (max_iter) or scale the data as shown in:\n",
      "    https://scikit-learn.org/stable/modules/preprocessing.html\n",
      "Please also refer to the documentation for alternative solver options:\n",
      "    https://scikit-learn.org/stable/modules/linear_model.html#logistic-regression\n",
      "  n_iter_i = _check_optimize_result(\n"
     ]
    }
   ],
   "source": [
    "## logistic regression\n",
    "# plot the ROC\n",
    "# curve and report the confusion matrix and calculate the accuracy, recall precision and F-1\n",
    "# score of this classifier on the testing set.\n",
    "## 1000 features has 92% explained variance\n",
    "\n",
    "k = 50\n",
    "\n",
    "## train the model\n",
    "\n",
    "## define model\n",
    "count_vectorizer = CountVectorizer(min_df=3, stop_words='english', analyzer=doc_tokens, max_df=0.7)\n",
    "transformer = TfidfTransformer()\n",
    "svd = TruncatedSVD(n_components=k, n_iter = 20, random_state=42)\n",
    "clf = LogisticRegression(penalty = 'none', random_state=42)\n",
    "label_encoder = LabelEncoder()\n",
    "\n",
    "## train model\n",
    "y_train = label_encoder.fit_transform(train['root_label'])\n",
    "# print(y_train)\n",
    "X_train_counts = count_vectorizer.fit_transform(train['full_text'])\n",
    "X_train_tfidf = transformer.fit_transform(X_train_counts)\n",
    "X_train_svd = svd.fit_transform(X_train_tfidf)\n",
    "model = clf.fit(X_train_svd, y_train)\n",
    "\n",
    "## get train parameters\n",
    "\n",
    "## test model\n",
    "y_test = label_encoder.transform(test['root_label'])\n",
    "X_test_counts = count_vectorizer.transform(test['full_text'])\n",
    "X_test_tfidf = transformer.transform(X_test_counts)\n",
    "X_test_svd = svd.transform(X_test_tfidf)\n",
    "y_test_pred = clf.predict(X_test_svd)\n",
    "\n",
    "\n",
    "\n"
   ]
  },
  {
   "cell_type": "code",
   "execution_count": 44,
   "id": "880ff291",
   "metadata": {},
   "outputs": [
    {
     "name": "stdout",
     "output_type": "stream",
     "text": [
      "--------------------\n",
      "Confusion matrix on test set is: \n",
      "[[198   8]\n",
      " [  3 206]]\n",
      "--------------------\n",
      "--------------------\n",
      "Performance metrics on test set is: \n",
      "Precision is:  0.9626168224299065\n",
      "Recall is:  0.9856459330143541\n",
      "Accuracy is:  0.9734939759036144\n",
      "F1 score is:  0.9739952718676123\n",
      "--------------------\n",
      "--------------------\n",
      "ROC curve on test set is: \n"
     ]
    },
    {
     "data": {
      "image/png": "[encoded data removed]",
      "text/plain": [
       "<Figure size 432x288 with 1 Axes>"
      ]
     },
     "metadata": {
      "needs_background": "light"
     },
     "output_type": "display_data"
    }
   ],
   "source": [
    "## get test parameters\n",
    "print('-'*20)\n",
    "print(\"Confusion matrix on test set is: \")\n",
    "print(confusion_matrix(y_test, y_test_pred))\n",
    "print('-'*20)\n",
    "print('-'*20)\n",
    "print(\"Performance metrics on test set is: \")\n",
    "print (\"Precision is: \", precision_score(y_test, y_test_pred))\n",
    "print (\"Recall is: \", recall_score(y_test, y_test_pred))\n",
    "print (\"Accuracy is: \", accuracy_score(y_test, y_test_pred))\n",
    "print (\"F1 score is: \", f1_score(y_test, y_test_pred))\n",
    "print('-'*20)\n",
    "\n",
    "print('-'*20)\n",
    "print(\"ROC curve on test set is: \")\n",
    "y_test_pred_proba = clf.predict_proba(X_test_svd)[::,1]\n",
    "fpr, tpr, _ = roc_curve(y_test,  y_test_pred_proba)\n",
    "\n",
    "#create ROC curve\n",
    "plt.plot(fpr,tpr)\n",
    "plt.ylabel('True Positive Rate')\n",
    "plt.xlabel('False Positive Rate')\n",
    "plt.show()\n",
    "print('-'*20)\n",
    "\n",
    "print('-'*20)\n",
    "print (\"AUC score is: \", roc_auc_score(y_test, y_test_pred_proba))\n",
    "print('-'*20)"
   ]
  },
  {
   "cell_type": "code",
   "execution_count": 45,
   "id": "8cf334ff",
   "metadata": {},
   "outputs": [
    {
     "ename": "NameError",
     "evalue": "name 'X' is not defined",
     "output_type": "error",
     "traceback": [
      "\u001b[0;31m---------------------------------------------------------------------------\u001b[0m",
      "\u001b[0;31mNameError\u001b[0m                                 Traceback (most recent call last)",
      "\u001b[0;32m<ipython-input-45-740fc59afbbd>\u001b[0m in \u001b[0;36m<module>\u001b[0;34m\u001b[0m\n\u001b[1;32m     10\u001b[0m \u001b[0macc_score\u001b[0m \u001b[0;34m=\u001b[0m \u001b[0;34m[\u001b[0m\u001b[0;34m]\u001b[0m\u001b[0;34m\u001b[0m\u001b[0;34m\u001b[0m\u001b[0m\n\u001b[1;32m     11\u001b[0m \u001b[0;34m\u001b[0m\u001b[0m\n\u001b[0;32m---> 12\u001b[0;31m \u001b[0;32mfor\u001b[0m \u001b[0mtrain_index\u001b[0m \u001b[0;34m,\u001b[0m \u001b[0mtest_index\u001b[0m \u001b[0;32min\u001b[0m \u001b[0mkf\u001b[0m\u001b[0;34m.\u001b[0m\u001b[0msplit\u001b[0m\u001b[0;34m(\u001b[0m\u001b[0mX\u001b[0m\u001b[0;34m)\u001b[0m\u001b[0;34m:\u001b[0m\u001b[0;34m\u001b[0m\u001b[0;34m\u001b[0m\u001b[0m\n\u001b[0m\u001b[1;32m     13\u001b[0m     \u001b[0mX_train\u001b[0m \u001b[0;34m,\u001b[0m \u001b[0mX_test\u001b[0m \u001b[0;34m=\u001b[0m \u001b[0mX\u001b[0m\u001b[0;34m.\u001b[0m\u001b[0miloc\u001b[0m\u001b[0;34m[\u001b[0m\u001b[0mtrain_index\u001b[0m\u001b[0;34m,\u001b[0m\u001b[0;34m:\u001b[0m\u001b[0;34m]\u001b[0m\u001b[0;34m,\u001b[0m\u001b[0mX\u001b[0m\u001b[0;34m.\u001b[0m\u001b[0miloc\u001b[0m\u001b[0;34m[\u001b[0m\u001b[0mtest_index\u001b[0m\u001b[0;34m,\u001b[0m\u001b[0;34m:\u001b[0m\u001b[0;34m]\u001b[0m\u001b[0;34m\u001b[0m\u001b[0;34m\u001b[0m\u001b[0m\n\u001b[1;32m     14\u001b[0m     \u001b[0my_train\u001b[0m \u001b[0;34m,\u001b[0m \u001b[0my_test\u001b[0m \u001b[0;34m=\u001b[0m \u001b[0my\u001b[0m\u001b[0;34m[\u001b[0m\u001b[0mtrain_index\u001b[0m\u001b[0;34m]\u001b[0m \u001b[0;34m,\u001b[0m \u001b[0my\u001b[0m\u001b[0;34m[\u001b[0m\u001b[0mtest_index\u001b[0m\u001b[0;34m]\u001b[0m\u001b[0;34m\u001b[0m\u001b[0;34m\u001b[0m\u001b[0m\n",
      "\u001b[0;31mNameError\u001b[0m: name 'X' is not defined"
     ]
    }
   ],
   "source": [
    "## Logistic regression with cross validation and L1 regularisation\n",
    "from sklearn.model_selection import KFold \n",
    "\n",
    "#Implementing cross validation\n",
    " \n",
    "k = 5\n",
    "kf = KFold(n_splits=k, random_state=None)\n",
    "model = LogisticRegression(solver= 'liblinear')\n",
    " \n",
    "acc_score = []\n",
    " \n",
    "for train_index , test_index in kf.split(X):\n",
    "    X_train , X_test = X.iloc[train_index,:],X.iloc[test_index,:]\n",
    "    y_train , y_test = y[train_index] , y[test_index]\n",
    "     \n",
    "    model.fit(X_train,y_train)\n",
    "    pred_values = model.predict(X_test)\n",
    "     \n",
    "    acc = accuracy_score(pred_values , y_test)\n",
    "    acc_score.append(acc)\n",
    "     \n",
    "avg_acc_score = sum(acc_score)/k\n",
    " \n",
    "print('accuracy of each fold - {}'.format(acc_score))\n",
    "print('Avg accuracy : {}'.format(avg_acc_score))"
   ]
  },
  {
   "cell_type": "code",
   "execution_count": null,
   "id": "517e31a4",
   "metadata": {},
   "outputs": [],
   "source": [
    "## Logistic regression with cross validation and L2 regularisation"
   ]
  },
  {
   "cell_type": "code",
   "execution_count": null,
   "id": "c6ffe3fc",
   "metadata": {},
   "outputs": [],
   "source": [
    "# precision_score(y_test, y_test_pred)"
   ]
  },
  {
   "cell_type": "code",
   "execution_count": null,
   "id": "734c7669",
   "metadata": {},
   "outputs": [],
   "source": [
    "# from sklearn.preprocessing import LabelEncoder, StandardScaler\n",
    "\n",
    "# Y = label_encoder.fit_transform(y_train)\n",
    "# X = StandardScaler().fit_transform(X_train_tfidf_dense)"
   ]
  },
  {
   "cell_type": "markdown",
   "id": "abbbfc49",
   "metadata": {},
   "source": [
    "### Grid Search"
   ]
  },
  {
   "cell_type": "code",
   "execution_count": null,
   "id": "c3b69874",
   "metadata": {},
   "outputs": [],
   "source": [
    "import time\n",
    "from sklearn.pipeline import Pipeline"
   ]
  },
  {
   "cell_type": "code",
   "execution_count": null,
   "id": "9fe8aa48",
   "metadata": {},
   "outputs": [],
   "source": [
    "logistic = LogisticRegression(max_iter=10000, tol=0.1)\n",
    "count_vectorizer = CountVectorizer(min_df=3, stop_words='english', analyzer=stem_rmv_punc)\n",
    "tfidf = TfidfTransformer()\n",
    "scaler = StandardScaler(with_mean=False) # not absolutely required but does help\n",
    "pca = TruncatedSVD()"
   ]
  },
  {
   "cell_type": "code",
   "execution_count": null,
   "id": "c4272c7b",
   "metadata": {},
   "outputs": [],
   "source": [
    "#pipeline parameters\n",
    "    parameters = \\\n",
    "        [ \\\n",
    "            {\n",
    "                'clf': [LogisticRegression()],\n",
    "                'clf__alpha': [0.001, 0.1, 1, 10, 100]\n",
    "            },\n",
    "\n",
    "            {\n",
    "                'clf': [LinearSVC()],\n",
    "                'clf__probability': [True]\n",
    "            },\n",
    "\n",
    "            {\n",
    "                'clf': [GaussianNB()]\n",
    "            }\n",
    "        ]\n",
    "\n",
    "    #evaluating multiple classifiers\n",
    "    #based on pipeline parameters\n",
    "    #-------------------------------\n",
    "    result=[]\n",
    "\n",
    "    for params in parameters:\n",
    "\n",
    "        #classifier\n",
    "        clf = params['clf'][0]\n",
    "\n",
    "        #getting arguments by\n",
    "        #popping out classifier\n",
    "        params.pop('clf')\n",
    "\n",
    "        #pipeline\n",
    "        steps = [('tf-idf', TfidfVectorizer()), ('clf',clf)]\n",
    "\n",
    "        #cross validation using\n",
    "        #Grid Search\n",
    "        grid = GridSearchCV(Pipeline(steps), param_grid=params, cv=3)\n",
    "        grid.fit(features, labels)\n",
    "\n",
    "        #storing result\n",
    "        result.append\\\n",
    "        (\n",
    "            {\n",
    "                'grid': grid,\n",
    "                'classifier': grid.best_estimator_,\n",
    "                'best score': grid.best_score_,\n",
    "                'best params': grid.best_params_,\n",
    "                'cv': grid.cv\n",
    "            }\n",
    "        )\n",
    "\n",
    "    #sorting result by best score\n",
    "    result = sorted(result, key=itemgetter('best score'),reverse=True)\n",
    "\n",
    "    #saving best classifier\n",
    "    grid = result[0]['grid']\n",
    "    joblib.dump(grid, 'classifier.pickle')\n"
   ]
  },
  {
   "cell_type": "code",
   "execution_count": null,
   "id": "db11a008",
   "metadata": {},
   "outputs": [],
   "source": [
    "#pipeline parameters\n",
    "    parameters = \\\n",
    "        [ \\\n",
    "            {\n",
    "                'clf': [LogisticRegression()],\n",
    "                'clf__alpha': [0.001, 0.1, 1, 10, 100]\n",
    "            },\n",
    "\n",
    "            {\n",
    "                'clf': [LinearSVC()],\n",
    "                'tf-idf__stop_words': ['english', None],\n",
    "                'clf__C': [0.001, 0.1, 1, 10, 100, 10e5],\n",
    "                'clf__kernel': ['linear', 'rbf'],\n",
    "                'clf__class_weight': ['balanced'],\n",
    "                'clf__probability': [True]\n",
    "            },\n",
    "\n",
    "            {\n",
    "                'clf': [GaussianNB()],\n",
    "                'tf-idf__stop_words': ['english', None],\n",
    "                'clf__criterion': ['gini','entropy'],\n",
    "                'clf__splitter': ['best','random'],\n",
    "                'clf__class_weight':['balanced', None]\n",
    "            }\n",
    "        ]\n",
    "\n",
    "    #evaluating multiple classifiers\n",
    "    #based on pipeline parameters\n",
    "    #-------------------------------\n",
    "    result=[]\n",
    "\n",
    "    for params in parameters:\n",
    "\n",
    "        #classifier\n",
    "        clf = params['clf'][0]\n",
    "\n",
    "        #getting arguments by\n",
    "        #popping out classifier\n",
    "        params.pop('clf')\n",
    "\n",
    "        #pipeline\n",
    "        steps = [('tf-idf', TfidfVectorizer()), ('clf',clf)]\n",
    "\n",
    "        #cross validation using\n",
    "        #Grid Search\n",
    "        grid = GridSearchCV(Pipeline(steps), param_grid=params, cv=3)\n",
    "        grid.fit(features, labels)\n",
    "\n",
    "        #storing result\n",
    "        result.append\\\n",
    "        (\n",
    "            {\n",
    "                'grid': grid,\n",
    "                'classifier': grid.best_estimator_,\n",
    "                'best score': grid.best_score_,\n",
    "                'best params': grid.best_params_,\n",
    "                'cv': grid.cv\n",
    "            }\n",
    "        )\n",
    "\n",
    "    #sorting result by best score\n",
    "    result = sorted(result, key=itemgetter('best score'),reverse=True)\n",
    "\n",
    "    #saving best classifier\n",
    "    grid = result[0]['grid']\n",
    "    joblib.dump(grid, 'classifier.pickle')\n"
   ]
  },
  {
   "cell_type": "code",
   "execution_count": null,
   "id": "0eb98183",
   "metadata": {},
   "outputs": [],
   "source": [
    "import time\n",
    "full_time = time.time()\n",
    "for i in range(36): # let's do some math: cleaning vs. not cleaning (2), stem/lemm/none (3), LSI/NMF (2), Classifiers (3)\n",
    "    start_time = time.time()\n",
    "    #cachedir = mkdtemp() # without this, you get results where each iteration takes about 5 minutes on my computer.\n",
    "    \n",
    "    pipe = Pipeline(steps=[ \n",
    "                       (\"vect\", count_vectorizer),\n",
    "                       ('tfidf', tfidf), # please do not split training and testing inside your gridsearch.\n",
    "                       (\"scaler\", scaler), \n",
    "                       (\"pca\", pca), \n",
    "                       (\"logistic\", logistic)]) # memory=cachedir), \"clf\",get the model list)\n",
    "    \n",
    "    # Parameters of pipelines can be set using ‘__’ separated parameter names:\n",
    "    param_grid = {\n",
    "        \"pca__n_components\": [10, 100, 1000], # an upper bound\n",
    "        \"logistic__C\": [0.01], # your specific model\n",
    "        \"vect__min_df\":[2, 6], # min df = 3,5 - these are currently junk values!\n",
    "    }\n",
    "    \n",
    "    search = GridSearchCV(pipe, param_grid, n_jobs=-1, cv=5) # n_jobs is saying how many processes do you want to start concurrently\n",
    "    # If you are using Google Colab, you need to make sure that you have enough memory. If you don't,\n",
    "    # your runtime is significantly affected, because the virtual machine will start adding everything to swap memory and \n",
    "    # this **really** slows down the processing.\n",
    "    \n",
    "    search.fit(X_digits, y_digits)\n",
    "    print(\"Best parameter (CV score=%0.3f):\" % search.best_score_) \n",
    "    # built-in functions exist for this\n",
    "    # RandomizedSearchCV that you can use as an alternate, but you may not score full points on the search.\n",
    "    \n",
    "    print(search.best_params_)\n",
    "    print(\"--- %s seconds ---\" % (time.time() - start_time))\n",
    "    rmtree(cachedir)\n",
    "\n",
    "print(\"--- %s seconds ---\" % (time.time() - full_time))"
   ]
  },
  {
   "cell_type": "markdown",
   "id": "165b4c59",
   "metadata": {},
   "source": [
    "### Multi-class classification"
   ]
  },
  {
   "cell_type": "markdown",
   "id": "e97e3212",
   "metadata": {},
   "source": [
    "#### Question 9"
   ]
  },
  {
   "cell_type": "code",
   "execution_count": 75,
   "id": "b56bed25",
   "metadata": {},
   "outputs": [],
   "source": [
    "from sklearn.naive_bayes import MultinomialNB"
   ]
  },
  {
   "cell_type": "code",
   "execution_count": 76,
   "id": "aa049c6c",
   "metadata": {},
   "outputs": [],
   "source": [
    "map_row_to_class = {0:\"chess\", 1:\"cricket\", 2:\"soccer\", 3:\"football\", \\\n",
    "                    4:\"%22forest%20fire%22\", 5:\"flood\", 6:\"earthquake\", 7:\"drought\"}\n",
    "\n"
   ]
  },
  {
   "cell_type": "code",
   "execution_count": 80,
   "id": "41bb46cb",
   "metadata": {},
   "outputs": [],
   "source": [
    "map_class_to_val = {\"chess\": 0, \"cricket\": 1, \"soccer\": 2, \"football\": 3, \\\n",
    "                    \"%22forest%20fire%22\": 4, \"flood\": 5, \"earthquake\": 6, \"drought\": 7}"
   ]
  },
  {
   "cell_type": "code",
   "execution_count": 81,
   "id": "cb2c33c0",
   "metadata": {},
   "outputs": [
    {
     "data": {
      "text/plain": [
       "array(['flood', 'earthquake', '%22forest%20fire%22', 'cricket', 'drought',\n",
       "       'football', 'soccer', 'chess'], dtype=object)"
      ]
     },
     "execution_count": 81,
     "metadata": {},
     "output_type": "execute_result"
    }
   ],
   "source": [
    "train['leaf_label'].unique()"
   ]
  },
  {
   "cell_type": "code",
   "execution_count": 88,
   "id": "41361590",
   "metadata": {},
   "outputs": [
    {
     "name": "stderr",
     "output_type": "stream",
     "text": [
      "/Users/reemakumari/.conda/envs/kaggle/lib/python3.8/site-packages/sklearn/decomposition/_nmf.py:1637: ConvergenceWarning: Maximum number of iterations 200 reached. Increase it to improve convergence.\n",
      "  warnings.warn(\n"
     ]
    }
   ],
   "source": [
    "## Naive bayes classification\n",
    "\n",
    "k = 50\n",
    "\n",
    "## train the model\n",
    "\n",
    "## define model\n",
    "count_vectorizer = CountVectorizer(min_df=3, stop_words='english', analyzer=doc_tokens, max_df=0.7)\n",
    "transformer = TfidfTransformer()\n",
    "nmf = NMF(n_components=k, init='random', random_state=42)  ## Multinomial NB can take only positive values\n",
    "clf = MultinomialNB()\n",
    "\n",
    "## train model\n",
    "train['leaf_label_encode']= train['leaf_label'].map(map_class_to_val)\n",
    "\n",
    "y_train = train['leaf_label_encode']\n",
    "# print(y_train)\n",
    "X_train_counts = count_vectorizer.fit_transform(train['full_text'])\n",
    "X_train_tfidf = transformer.fit_transform(X_train_counts)\n",
    "X_train_nmf = nmf.fit_transform(X_train_tfidf)\n",
    "model = clf.fit(X_train_nmf, y_train)\n",
    "\n",
    "## get train parameters\n",
    "\n",
    "## test model\n",
    "test['leaf_label_encode']= test['leaf_label'].map(map_class_to_val)\n",
    "\n",
    "y_test = test['leaf_label_encode']\n",
    "X_test_counts = count_vectorizer.transform(test['full_text'])\n",
    "X_test_tfidf = transformer.transform(X_test_counts)\n",
    "X_test_nmf = nmf.transform(X_test_tfidf)\n",
    "y_test_pred = clf.predict(X_test_nmf)\n"
   ]
  },
  {
   "cell_type": "code",
   "execution_count": 89,
   "id": "16f7bd35",
   "metadata": {},
   "outputs": [
    {
     "name": "stdout",
     "output_type": "stream",
     "text": [
      "--------------------\n",
      "Confusion matrix on test set is: \n",
      "[[43  0  0  1  1  0  0  1]\n",
      " [ 4 45  0  0  0  0  0  1]\n",
      " [ 6  0 50  1  1  0  0  0]\n",
      " [ 5  1  0 48  0  0  0  1]\n",
      " [ 1  0  1  0 47  0  0  0]\n",
      " [ 1  0  0  1  3 41  5  2]\n",
      " [ 9  0  1  1  2  1 38  5]\n",
      " [ 3  0  1  0  0  1  0 42]]\n",
      "--------------------\n",
      "--------------------\n",
      "Performance metrics on test set is: \n",
      "Precision is:  0.8696535277084646\n",
      "Recall is:  0.8578288892516492\n",
      "Accuracy is:  0.8530120481927711\n",
      "F1 score is:  0.8549604495349992\n",
      "--------------------\n"
     ]
    }
   ],
   "source": [
    "## get test parameters\n",
    "print('-'*20)\n",
    "print(\"Confusion matrix on test set is: \")\n",
    "print(confusion_matrix(y_test, y_test_pred))\n",
    "print('-'*20)\n",
    "print('-'*20)\n",
    "print(\"Performance metrics on test set is: \")\n",
    "print (\"Precision is: \", precision_score(y_test, y_test_pred, average = 'macro'))\n",
    "print (\"Recall is: \", recall_score(y_test, y_test_pred, average = 'macro'))\n",
    "print (\"Accuracy is: \", accuracy_score(y_test, y_test_pred))\n",
    "print (\"F1 score is: \", f1_score(y_test, y_test_pred, average = 'macro'))\n",
    "print('-'*20)\n"
   ]
  },
  {
   "cell_type": "code",
   "execution_count": null,
   "id": "af64820c",
   "metadata": {},
   "outputs": [],
   "source": [
    "## svm classification one vs one"
   ]
  },
  {
   "cell_type": "code",
   "execution_count": 90,
   "id": "fd44cce9",
   "metadata": {},
   "outputs": [],
   "source": [
    "from sklearn.multiclass import OneVsOneClassifier, OneVsRestClassifier\n",
    "from sklearn.svm import LinearSVC"
   ]
  },
  {
   "cell_type": "code",
   "execution_count": 92,
   "id": "dd76d282",
   "metadata": {},
   "outputs": [],
   "source": [
    "k = 50\n",
    "\n",
    "## train the model\n",
    "\n",
    "## define model\n",
    "count_vectorizer = CountVectorizer(min_df=3, stop_words='english', analyzer=doc_tokens, max_df=0.7)\n",
    "transformer = TfidfTransformer()\n",
    "svd = TruncatedSVD(n_components=k, n_iter = 20, random_state=42) ## Multinomial NB can take only positive values\n",
    "clf = LinearSVC()\n",
    "ovo_classifier = OneVsOneClassifier(clf)\n",
    "\n",
    "## train model\n",
    "train['leaf_label_encode']= train['leaf_label'].map(map_class_to_val)\n",
    "y_train = train['leaf_label_encode']\n",
    "# print(y_train)\n",
    "X_train_counts = count_vectorizer.fit_transform(train['full_text'])\n",
    "X_train_tfidf = transformer.fit_transform(X_train_counts)\n",
    "X_train_svd = svd.fit_transform(X_train_tfidf)\n",
    "model = ovo_classifier.fit(X_train_svd, y_train)\n",
    "\n",
    "## get train parameters\n",
    "\n",
    "## test model\n",
    "test['leaf_label_encode']= test['leaf_label'].map(map_class_to_val)\n",
    "y_test = test['leaf_label_encode']\n",
    "X_test_counts = count_vectorizer.transform(test['full_text'])\n",
    "X_test_tfidf = transformer.transform(X_test_counts)\n",
    "X_test_svd = svd.transform(X_test_tfidf)\n",
    "y_test_pred = ovo_classifier.predict(X_test_svd)\n"
   ]
  },
  {
   "cell_type": "code",
   "execution_count": 93,
   "id": "27d8dcb5",
   "metadata": {},
   "outputs": [
    {
     "name": "stdout",
     "output_type": "stream",
     "text": [
      "--------------------\n",
      "Confusion matrix on test set is: \n",
      "[[44  0  0  1  0  0  1  0]\n",
      " [ 0 49  0  0  0  0  1  0]\n",
      " [ 3  1 53  1  0  0  0  0]\n",
      " [ 1  0  0 54  0  0  0  0]\n",
      " [ 1  0  1  0 46  0  1  0]\n",
      " [ 2  0  0  1  2 44  2  2]\n",
      " [ 2  0  1  1  1  2 49  1]\n",
      " [ 3  0  1  0  1  1  0 41]]\n",
      "--------------------\n",
      "--------------------\n",
      "Performance metrics on test set is: \n",
      "Precision is:  0.917321642736628\n",
      "Recall is:  0.9166358452731487\n",
      "Accuracy is:  0.9156626506024096\n",
      "F1 score is:  0.9151995731383523\n",
      "--------------------\n"
     ]
    }
   ],
   "source": [
    "## get test parameters\n",
    "print('-'*20)\n",
    "print(\"Confusion matrix on test set is: \")\n",
    "print(confusion_matrix(y_test, y_test_pred))\n",
    "print('-'*20)\n",
    "print('-'*20)\n",
    "print(\"Performance metrics on test set is: \")\n",
    "print (\"Precision is: \", precision_score(y_test, y_test_pred, average = 'macro'))\n",
    "print (\"Recall is: \", recall_score(y_test, y_test_pred, average = 'macro'))\n",
    "print (\"Accuracy is: \", accuracy_score(y_test, y_test_pred))\n",
    "print (\"F1 score is: \", f1_score(y_test, y_test_pred, average = 'macro'))\n",
    "print('-'*20)\n"
   ]
  },
  {
   "cell_type": "code",
   "execution_count": null,
   "id": "cc70f479",
   "metadata": {},
   "outputs": [],
   "source": [
    "## svm classification one vs rest"
   ]
  },
  {
   "cell_type": "code",
   "execution_count": 99,
   "id": "c0b0ca75",
   "metadata": {},
   "outputs": [],
   "source": [
    "k = 50\n",
    "\n",
    "## train the model\n",
    "\n",
    "## define model\n",
    "count_vectorizer = CountVectorizer(min_df=3, stop_words='english', analyzer=doc_tokens, max_df=0.7)\n",
    "transformer = TfidfTransformer()\n",
    "svd = TruncatedSVD(n_components=k, n_iter = 20, random_state=42) ## Multinomial NB can take only positive values\n",
    "clf = LinearSVC(multi_class = 'ovr', class_weight = 'balanced')\n",
    "# clf = LinearSVC(multi_class = 'ovr')\n",
    "# ovr_classifier = OneVsRestClassifier(clf)\n",
    "\n",
    "## train model\n",
    "train['leaf_label_encode']= train['leaf_label'].map(map_class_to_val)\n",
    "y_train = train['leaf_label_encode']\n",
    "# print(y_train)\n",
    "X_train_counts = count_vectorizer.fit_transform(train['full_text'])\n",
    "X_train_tfidf = transformer.fit_transform(X_train_counts)\n",
    "X_train_svd = svd.fit_transform(X_train_tfidf)\n",
    "model = clf.fit(X_train_svd, y_train)\n",
    "\n",
    "## get train parameters\n",
    "\n",
    "## test model\n",
    "test['leaf_label_encode']= test['leaf_label'].map(map_class_to_val)\n",
    "y_test = test['leaf_label_encode']\n",
    "X_test_counts = count_vectorizer.transform(test['full_text'])\n",
    "X_test_tfidf = transformer.transform(X_test_counts)\n",
    "X_test_svd = svd.transform(X_test_tfidf)\n",
    "y_test_pred = clf.predict(X_test_svd)"
   ]
  },
  {
   "cell_type": "code",
   "execution_count": 100,
   "id": "74ad6193",
   "metadata": {},
   "outputs": [
    {
     "name": "stdout",
     "output_type": "stream",
     "text": [
      "--------------------\n",
      "Confusion matrix on test set is: \n",
      "[[43  0  0  1  1  0  1  0]\n",
      " [ 0 49  0  0  0  0  0  1]\n",
      " [ 1  0 57  0  0  0  0  0]\n",
      " [ 0  0  0 54  0  0  1  0]\n",
      " [ 1  0  1  0 46  0  1  0]\n",
      " [ 2  0  0  1  2 44  2  2]\n",
      " [ 1  0  1  1  0  3 50  1]\n",
      " [ 2  1  1  0  0  1  0 42]]\n",
      "--------------------\n",
      "--------------------\n",
      "Performance metrics on test set is: \n",
      "Precision is:  0.9268681231593947\n",
      "Recall is:  0.9273917005481986\n",
      "Accuracy is:  0.927710843373494\n",
      "F1 score is:  0.9265457913450013\n",
      "--------------------\n"
     ]
    }
   ],
   "source": [
    "## get test parameters\n",
    "print('-'*20)\n",
    "print(\"Confusion matrix on test set is: \")\n",
    "print(confusion_matrix(y_test, y_test_pred))\n",
    "print('-'*20)\n",
    "print('-'*20)\n",
    "print(\"Performance metrics on test set is: \")\n",
    "print (\"Precision is: \", precision_score(y_test, y_test_pred, average = 'macro'))\n",
    "print (\"Recall is: \", recall_score(y_test, y_test_pred, average = 'macro'))\n",
    "print (\"Accuracy is: \", accuracy_score(y_test, y_test_pred))\n",
    "print (\"F1 score is: \", f1_score(y_test, y_test_pred, average = 'macro'))\n",
    "print('-'*20)\n"
   ]
  },
  {
   "cell_type": "markdown",
   "id": "95f10c88",
   "metadata": {},
   "source": [
    "#### Merge 'football' & 'soccer' and try "
   ]
  },
  {
   "cell_type": "code",
   "execution_count": 47,
   "id": "d15e5372",
   "metadata": {},
   "outputs": [],
   "source": [
    "map_row_to_class_merge = {0:\"chess\", 1:\"cricket\", 2:\"soccer\",  2:\"football\", \n",
    "                    3:\"%22forest%20fire%22\", 4:\"flood\", 5:\"earthquake\", 6:\"drought\"}\n",
    "\n",
    "map_class_to_val_merge = {\"chess\": 0, \"cricket\": 1, \"soccer\":2 , \"football\": 2,\n",
    "                    \"%22forest%20fire%22\": 3, \"flood\": 4, \"earthquake\": 5, \"drought\": 6}"
   ]
  },
  {
   "cell_type": "code",
   "execution_count": 48,
   "id": "c6b2b4e7",
   "metadata": {},
   "outputs": [
    {
     "name": "stderr",
     "output_type": "stream",
     "text": [
      "/home/shivam/.local/lib/python3.8/site-packages/sklearn/decomposition/_nmf.py:1637: ConvergenceWarning: Maximum number of iterations 200 reached. Increase it to improve convergence.\n",
      "  warnings.warn(\n"
     ]
    },
    {
     "name": "stdout",
     "output_type": "stream",
     "text": [
      "--------------------\n",
      "Confusion matrix on test set is: \n",
      "[[ 41   1   1   0   0   3   0]\n",
      " [  1  47   1   0   0   1   0]\n",
      " [  3   2 105   0   0   3   0]\n",
      " [  0   0   1  45   0   1   2]\n",
      " [  1   0   1   2  38   9   2]\n",
      " [  0   1   2   2   6  45   1]\n",
      " [  0   0   1   2   1   2  41]]\n",
      "--------------------\n",
      "--------------------\n",
      "Performance metrics on test set is: \n",
      "Precision is:  0.8673713869605812\n",
      "Recall is:  0.8653814966293977\n",
      "Accuracy is:  0.8722891566265061\n",
      "F1 score is:  0.8651947196497246\n",
      "--------------------\n"
     ]
    }
   ],
   "source": [
    "from sklearn.naive_bayes import GaussianNB\n",
    "from sklearn.metrics import confusion_matrix \n",
    "from sklearn.metrics import precision_score, recall_score, accuracy_score, f1_score\n",
    "\n",
    "k = 50\n",
    "\n",
    "## train the model\n",
    "\n",
    "## define model\n",
    "count_vectorizer = CountVectorizer(min_df=3, stop_words='english', analyzer=doc_tokens, max_df=0.7)\n",
    "transformer = TfidfTransformer()\n",
    "nmf = NMF(n_components=k, init='random', random_state=42)  ## Multinomial NB can take only positive values\n",
    "clf = GaussianNB()\n",
    "\n",
    "## train model\n",
    "train['leaf_label_encode']= train['leaf_label'].map(map_class_to_val_merge)\n",
    "\n",
    "y_train = train['leaf_label_encode']\n",
    "# print(y_train)\n",
    "X_train_counts = count_vectorizer.fit_transform(train['full_text'])\n",
    "X_train_tfidf = transformer.fit_transform(X_train_counts)\n",
    "X_train_nmf = nmf.fit_transform(X_train_tfidf)\n",
    "model = clf.fit(X_train_nmf, y_train)\n",
    "\n",
    "## get train parameters\n",
    "\n",
    "## test model\n",
    "test['leaf_label_encode']= test['leaf_label'].map(map_class_to_val_merge)\n",
    "\n",
    "y_test = test['leaf_label_encode']\n",
    "X_test_counts = count_vectorizer.transform(test['full_text'])\n",
    "X_test_tfidf = transformer.transform(X_test_counts)\n",
    "X_test_nmf = nmf.transform(X_test_tfidf)\n",
    "y_test_pred = clf.predict(X_test_nmf)\n",
    "\n",
    "## get test parameters\n",
    "print('-'*20)\n",
    "print(\"Confusion matrix on test set is: \")\n",
    "print(confusion_matrix(y_test, y_test_pred))\n",
    "print('-'*20)\n",
    "print('-'*20)\n",
    "print(\"Performance metrics on test set is: \")\n",
    "print (\"Precision is: \", precision_score(y_test, y_test_pred, average = 'macro'))\n",
    "print (\"Recall is: \", recall_score(y_test, y_test_pred, average = 'macro'))\n",
    "print (\"Accuracy is: \", accuracy_score(y_test, y_test_pred))\n",
    "print (\"F1 score is: \", f1_score(y_test, y_test_pred, average = 'macro'))\n",
    "print('-'*20)"
   ]
  },
  {
   "cell_type": "code",
   "execution_count": 49,
   "id": "474d999a",
   "metadata": {},
   "outputs": [
    {
     "name": "stdout",
     "output_type": "stream",
     "text": [
      "--------------------\n",
      "Confusion matrix on test set is: \n",
      "[[ 44   0   1   0   0   1   0]\n",
      " [  0  49   0   0   0   1   0]\n",
      " [  1   0 112   0   0   0   0]\n",
      " [  1   0   1  46   0   1   0]\n",
      " [  2   0   1   2  44   2   2]\n",
      " [  2   0   2   1   2  49   1]\n",
      " [  3   0   1   1   1   0  41]]\n",
      "--------------------\n",
      "--------------------\n",
      "Performance metrics on test set is: \n",
      "Precision is:  0.9249624319442444\n",
      "Recall is:  0.9183751313423727\n",
      "Accuracy is:  0.927710843373494\n",
      "F1 score is:  0.9202513659656517\n",
      "--------------------\n"
     ]
    }
   ],
   "source": [
    "## svm classification one vs one\n",
    "from sklearn.svm import LinearSVC\n",
    "from sklearn.multiclass import OneVsOneClassifier, OneVsRestClassifier\n",
    "\n",
    "k = 50\n",
    "\n",
    "## train the model\n",
    "\n",
    "## define model\n",
    "count_vectorizer = CountVectorizer(min_df=3, stop_words='english', analyzer=doc_tokens, max_df=0.7)\n",
    "transformer = TfidfTransformer()\n",
    "svd = TruncatedSVD(n_components=k, n_iter = 20, random_state=42) ## Multinomial NB can take only positive values\n",
    "clf = LinearSVC()\n",
    "ovo_classifier = OneVsOneClassifier(clf)\n",
    "\n",
    "## train model\n",
    "train['leaf_label_encode']= train['leaf_label'].map(map_class_to_val_merge)\n",
    "y_train = train['leaf_label_encode']\n",
    "# print(y_train)\n",
    "X_train_counts = count_vectorizer.fit_transform(train['full_text'])\n",
    "X_train_tfidf = transformer.fit_transform(X_train_counts)\n",
    "X_train_svd = svd.fit_transform(X_train_tfidf)\n",
    "model = ovo_classifier.fit(X_train_svd, y_train)\n",
    "\n",
    "## get train parameters\n",
    "\n",
    "## test model\n",
    "test['leaf_label_encode']= test['leaf_label'].map(map_class_to_val_merge)\n",
    "y_test = test['leaf_label_encode']\n",
    "X_test_counts = count_vectorizer.transform(test['full_text'])\n",
    "X_test_tfidf = transformer.transform(X_test_counts)\n",
    "X_test_svd = svd.transform(X_test_tfidf)\n",
    "y_test_pred = ovo_classifier.predict(X_test_svd)\n",
    "\n",
    "## get test parameters\n",
    "print('-'*20)\n",
    "print(\"Confusion matrix on test set is: \")\n",
    "print(confusion_matrix(y_test, y_test_pred))\n",
    "print('-'*20)\n",
    "print('-'*20)\n",
    "print(\"Performance metrics on test set is: \")\n",
    "print (\"Precision is: \", precision_score(y_test, y_test_pred, average = 'macro'))\n",
    "print (\"Recall is: \", recall_score(y_test, y_test_pred, average = 'macro'))\n",
    "print (\"Accuracy is: \", accuracy_score(y_test, y_test_pred))\n",
    "print (\"F1 score is: \", f1_score(y_test, y_test_pred, average = 'macro'))\n",
    "print('-'*20)\n"
   ]
  },
  {
   "cell_type": "code",
   "execution_count": 50,
   "id": "345a4270",
   "metadata": {},
   "outputs": [
    {
     "name": "stdout",
     "output_type": "stream",
     "text": [
      "--------------------\n",
      "Confusion matrix on test set is: \n",
      "[[ 43   0   1   1   0   1   0]\n",
      " [  0  49   0   0   0   0   1]\n",
      " [  1   1 110   0   0   1   0]\n",
      " [  1   0   1  46   0   1   0]\n",
      " [  2   0   1   2  44   2   2]\n",
      " [  1   0   2   0   2  51   1]\n",
      " [  2   0   1   1   1   0  42]]\n",
      "--------------------\n",
      "--------------------\n",
      "Performance metrics on test set is: \n",
      "Precision is:  0.924029119830011\n",
      "Recall is:  0.920793141280072\n",
      "Accuracy is:  0.927710843373494\n",
      "F1 score is:  0.9216722323272635\n",
      "--------------------\n"
     ]
    }
   ],
   "source": [
    "## svm classification one vs rest\n",
    "\n",
    "k = 50\n",
    "\n",
    "## train the model\n",
    "\n",
    "## define model\n",
    "count_vectorizer = CountVectorizer(min_df=3, stop_words='english', analyzer=doc_tokens, max_df=0.7)\n",
    "transformer = TfidfTransformer()\n",
    "svd = TruncatedSVD(n_components=k, n_iter = 20, random_state=42) ## Multinomial NB can take only positive values\n",
    "clf = LinearSVC(multi_class = 'ovr', class_weight = 'balanced')\n",
    "# clf = LinearSVC(multi_class = 'ovr')\n",
    "# ovr_classifier = OneVsRestClassifier(clf)\n",
    "\n",
    "## train model\n",
    "train['leaf_label_encode']= train['leaf_label'].map(map_class_to_val_merge)\n",
    "y_train = train['leaf_label_encode']\n",
    "# print(y_train)\n",
    "X_train_counts = count_vectorizer.fit_transform(train['full_text'])\n",
    "X_train_tfidf = transformer.fit_transform(X_train_counts)\n",
    "X_train_svd = svd.fit_transform(X_train_tfidf)\n",
    "model = clf.fit(X_train_svd, y_train)\n",
    "\n",
    "## get train parameters\n",
    "\n",
    "## test model\n",
    "test['leaf_label_encode']= test['leaf_label'].map(map_class_to_val_merge)\n",
    "y_test = test['leaf_label_encode']\n",
    "X_test_counts = count_vectorizer.transform(test['full_text'])\n",
    "X_test_tfidf = transformer.transform(X_test_counts)\n",
    "X_test_svd = svd.transform(X_test_tfidf)\n",
    "y_test_pred = clf.predict(X_test_svd)\n",
    "\n",
    "## get test parameters\n",
    "print('-'*20)\n",
    "print(\"Confusion matrix on test set is: \")\n",
    "print(confusion_matrix(y_test, y_test_pred))\n",
    "print('-'*20)\n",
    "print('-'*20)\n",
    "print(\"Performance metrics on test set is: \")\n",
    "print (\"Precision is: \", precision_score(y_test, y_test_pred, average = 'macro'))\n",
    "print (\"Recall is: \", recall_score(y_test, y_test_pred, average = 'macro'))\n",
    "print (\"Accuracy is: \", accuracy_score(y_test, y_test_pred))\n",
    "print (\"F1 score is: \", f1_score(y_test, y_test_pred, average = 'macro'))\n",
    "print('-'*20)\n"
   ]
  },
  {
   "cell_type": "markdown",
   "id": "f3c8be49",
   "metadata": {},
   "source": [
    "### Resolution to class imbalance"
   ]
  },
  {
   "cell_type": "code",
   "execution_count": 56,
   "id": "b3000af2",
   "metadata": {},
   "outputs": [
    {
     "name": "stderr",
     "output_type": "stream",
     "text": [
      "/home/shivam/.local/lib/python3.8/site-packages/sklearn/decomposition/_nmf.py:1637: ConvergenceWarning: Maximum number of iterations 200 reached. Increase it to improve convergence.\n",
      "  warnings.warn(\n"
     ]
    },
    {
     "name": "stdout",
     "output_type": "stream",
     "text": [
      "--------------------\n",
      "Confusion matrix on test set is: \n",
      "[[41  2  0  0  0  3  0]\n",
      " [ 1 43  0  0  0  2  0]\n",
      " [ 1  4 39  0  0  2  0]\n",
      " [ 0  0  1 42  0  2  1]\n",
      " [ 1  0  1  2 32  8  2]\n",
      " [ 0  0  1  2  5 37  1]\n",
      " [ 0  0  1  2  1  2 40]]\n",
      "--------------------\n",
      "--------------------\n",
      "Performance metrics on test set is: \n",
      "Precision is:  0.8576080577679258\n",
      "Recall is:  0.8509316770186336\n",
      "Accuracy is:  0.8509316770186336\n",
      "F1 score is:  0.8518113759337927\n",
      "--------------------\n"
     ]
    }
   ],
   "source": [
    "import imblearn\n",
    "from sklearn.naive_bayes import GaussianNB\n",
    "from sklearn.metrics import confusion_matrix \n",
    "from sklearn.metrics import precision_score, recall_score, accuracy_score, f1_score\n",
    "from imblearn.under_sampling import RandomUnderSampler\n",
    "\n",
    "k = 50\n",
    "\n",
    "## train the model\n",
    "\n",
    "## define model\n",
    "count_vectorizer = CountVectorizer(min_df=3, stop_words='english', analyzer=doc_tokens, max_df=0.7)\n",
    "transformer = TfidfTransformer()\n",
    "nmf = NMF(n_components=k, init='random', random_state=42)  ## Multinomial NB can take only positive values\n",
    "clf = GaussianNB()\n",
    "\n",
    "## train model\n",
    "train['leaf_label_encode']= train['leaf_label'].map(map_class_to_val_merge)\n",
    "\n",
    "y_train = train['leaf_label_encode']\n",
    "# print(y_train)\n",
    "X_train_counts = count_vectorizer.fit_transform(train['full_text'])\n",
    "X_train_tfidf = transformer.fit_transform(X_train_counts)\n",
    "X_train_nmf = nmf.fit_transform(X_train_tfidf)\n",
    "rus = RandomUnderSampler(random_state=42)\n",
    "X_train_res, y_train_res = rus.fit_resample(X_train_nmf, y_train)\n",
    "model = clf.fit(X_train_res, y_train_res)\n",
    "\n",
    "## get train parameters\n",
    "\n",
    "## test model\n",
    "test['leaf_label_encode']= test['leaf_label'].map(map_class_to_val_merge)\n",
    "\n",
    "y_test = test['leaf_label_encode']\n",
    "X_test_counts = count_vectorizer.transform(test['full_text'])\n",
    "X_test_tfidf = transformer.transform(X_test_counts)\n",
    "X_test_nmf = nmf.transform(X_test_tfidf)\n",
    "X_test_res, y_test_res = rus.fit_resample(X_test_nmf, y_test)\n",
    "y_test_pred = clf.predict(X_test_res)\n",
    "\n",
    "## get test parameters\n",
    "print('-'*20)\n",
    "print(\"Confusion matrix on test set is: \")\n",
    "print(confusion_matrix(y_test_res, y_test_pred))\n",
    "print('-'*20)\n",
    "print('-'*20)\n",
    "print(\"Performance metrics on test set is: \")\n",
    "print (\"Precision is: \", precision_score(y_test_res, y_test_pred, average = 'macro'))\n",
    "print (\"Recall is: \", recall_score(y_test_res, y_test_pred, average = 'macro'))\n",
    "print (\"Accuracy is: \", accuracy_score(y_test_res, y_test_pred))\n",
    "print (\"F1 score is: \", f1_score(y_test_res, y_test_pred, average = 'macro'))\n",
    "print('-'*20)\n"
   ]
  },
  {
   "cell_type": "code",
   "execution_count": 57,
   "id": "23a719c5",
   "metadata": {},
   "outputs": [
    {
     "name": "stdout",
     "output_type": "stream",
     "text": [
      "--------------------\n",
      "Confusion matrix on test set is: \n",
      "[[44  0  0  1  0  1  0]\n",
      " [ 0 45  0  0  0  1  0]\n",
      " [ 5  1 39  1  0  0  0]\n",
      " [ 1  0  1 43  0  1  0]\n",
      " [ 2  0  0  2 38  2  2]\n",
      " [ 1  0  1  1  1 41  1]\n",
      " [ 3  0  1  1  1  0 40]]\n",
      "--------------------\n",
      "--------------------\n",
      "Performance metrics on test set is: \n",
      "Precision is:  0.9059477871749595\n",
      "Recall is:  0.9006211180124224\n",
      "Accuracy is:  0.9006211180124224\n",
      "F1 score is:  0.9009334920594048\n",
      "--------------------\n"
     ]
    }
   ],
   "source": [
    "## svm classification one vs one\n",
    "from sklearn.svm import LinearSVC\n",
    "from sklearn.multiclass import OneVsOneClassifier, OneVsRestClassifier\n",
    "\n",
    "k = 50\n",
    "\n",
    "## train the model\n",
    "\n",
    "## define model\n",
    "count_vectorizer = CountVectorizer(min_df=3, stop_words='english', analyzer=doc_tokens, max_df=0.7)\n",
    "transformer = TfidfTransformer()\n",
    "svd = TruncatedSVD(n_components=k, n_iter = 20, random_state=42) ## Multinomial NB can take only positive values\n",
    "clf = LinearSVC()\n",
    "ovo_classifier = OneVsOneClassifier(clf)\n",
    "\n",
    "## train model\n",
    "train['leaf_label_encode']= train['leaf_label'].map(map_class_to_val_merge)\n",
    "y_train = train['leaf_label_encode']\n",
    "# print(y_train)\n",
    "X_train_counts = count_vectorizer.fit_transform(train['full_text'])\n",
    "X_train_tfidf = transformer.fit_transform(X_train_counts)\n",
    "X_train_svd = svd.fit_transform(X_train_tfidf)\n",
    "rus = RandomUnderSampler(random_state=42)\n",
    "X_train_res, y_train_res = rus.fit_resample(X_train_svd, y_train)\n",
    "model = ovo_classifier.fit(X_train_res, y_train_res)\n",
    "\n",
    "## get train parameters\n",
    "\n",
    "## test model\n",
    "test['leaf_label_encode']= test['leaf_label'].map(map_class_to_val_merge)\n",
    "y_test = test['leaf_label_encode']\n",
    "X_test_counts = count_vectorizer.transform(test['full_text'])\n",
    "X_test_tfidf = transformer.transform(X_test_counts)\n",
    "X_test_svd = svd.transform(X_test_tfidf)\n",
    "X_test_res, y_test_res = rus.fit_resample(X_test_svd, y_test)\n",
    "y_test_pred = ovo_classifier.predict(X_test_res)\n",
    "\n",
    "## get test parameters\n",
    "print('-'*20)\n",
    "print(\"Confusion matrix on test set is: \")\n",
    "print(confusion_matrix(y_test_res, y_test_pred))\n",
    "print('-'*20)\n",
    "print('-'*20)\n",
    "print(\"Performance metrics on test set is: \")\n",
    "print (\"Precision is: \", precision_score(y_test_res, y_test_pred, average = 'macro'))\n",
    "print (\"Recall is: \", recall_score(y_test_res, y_test_pred, average = 'macro'))\n",
    "print (\"Accuracy is: \", accuracy_score(y_test_res, y_test_pred))\n",
    "print (\"F1 score is: \", f1_score(y_test_res, y_test_pred, average = 'macro'))\n",
    "print('-'*20)\n"
   ]
  },
  {
   "cell_type": "code",
   "execution_count": 58,
   "id": "26713642",
   "metadata": {},
   "outputs": [
    {
     "name": "stdout",
     "output_type": "stream",
     "text": [
      "--------------------\n",
      "Confusion matrix on test set is: \n",
      "[[43  0  0  2  0  1  0]\n",
      " [ 0 45  0  0  0  0  1]\n",
      " [ 1  2 41  1  0  1  0]\n",
      " [ 1  0  1 43  0  1  0]\n",
      " [ 2  0  0  2 38  2  2]\n",
      " [ 0  0  1  0  2 42  1]\n",
      " [ 2  0  1  1  1  0 41]]\n",
      "--------------------\n",
      "--------------------\n",
      "Performance metrics on test set is: \n",
      "Precision is:  0.9108463474036481\n",
      "Recall is:  0.9099378881987576\n",
      "Accuracy is:  0.9099378881987578\n",
      "F1 score is:  0.9096096126179678\n",
      "--------------------\n"
     ]
    }
   ],
   "source": [
    "## svm classification one vs rest\n",
    "\n",
    "k = 50\n",
    "\n",
    "## train the model\n",
    "\n",
    "## define model\n",
    "count_vectorizer = CountVectorizer(min_df=3, stop_words='english', analyzer=doc_tokens, max_df=0.7)\n",
    "transformer = TfidfTransformer()\n",
    "svd = TruncatedSVD(n_components=k, n_iter = 20, random_state=42) ## Multinomial NB can take only positive values\n",
    "clf = LinearSVC(multi_class = 'ovr', class_weight = 'balanced')\n",
    "# clf = LinearSVC(multi_class = 'ovr')\n",
    "# ovr_classifier = OneVsRestClassifier(clf)\n",
    "\n",
    "## train model\n",
    "train['leaf_label_encode']= train['leaf_label'].map(map_class_to_val_merge)\n",
    "y_train = train['leaf_label_encode']\n",
    "# print(y_train)\n",
    "X_train_counts = count_vectorizer.fit_transform(train['full_text'])\n",
    "X_train_tfidf = transformer.fit_transform(X_train_counts)\n",
    "X_train_svd = svd.fit_transform(X_train_tfidf)\n",
    "rus = RandomUnderSampler(random_state=42)\n",
    "X_train_res, y_train_res = rus.fit_resample(X_train_svd, y_train)\n",
    "model = clf.fit(X_train_res, y_train_res)\n",
    "\n",
    "## get train parameters\n",
    "\n",
    "## test model\n",
    "test['leaf_label_encode']= test['leaf_label'].map(map_class_to_val_merge)\n",
    "y_test = test['leaf_label_encode']\n",
    "X_test_counts = count_vectorizer.transform(test['full_text'])\n",
    "X_test_tfidf = transformer.transform(X_test_counts)\n",
    "X_test_svd = svd.transform(X_test_tfidf)\n",
    "X_test_res, y_test_res = rus.fit_resample(X_test_svd, y_test)\n",
    "y_test_pred = clf.predict(X_test_res)\n",
    "\n",
    "## get test parameters\n",
    "print('-'*20)\n",
    "print(\"Confusion matrix on test set is: \")\n",
    "print(confusion_matrix(y_test_res, y_test_pred))\n",
    "print('-'*20)\n",
    "print('-'*20)\n",
    "print(\"Performance metrics on test set is: \")\n",
    "print (\"Precision is: \", precision_score(y_test_res, y_test_pred, average = 'macro'))\n",
    "print (\"Recall is: \", recall_score(y_test_res, y_test_pred, average = 'macro'))\n",
    "print (\"Accuracy is: \", accuracy_score(y_test_res, y_test_pred))\n",
    "print (\"F1 score is: \", f1_score(y_test_res, y_test_pred, average = 'macro'))\n",
    "print('-'*20)"
   ]
  },
  {
   "cell_type": "markdown",
   "id": "5442ec21",
   "metadata": {},
   "source": [
    "### Word Embeddings"
   ]
  },
  {
   "cell_type": "markdown",
   "id": "523fd01c",
   "metadata": {},
   "source": [
    "GLoVE embeddings - Global vectors for word representation"
   ]
  },
  {
   "cell_type": "markdown",
   "id": "10ef02f7",
   "metadata": {},
   "source": [
    "#### Question 10"
   ]
  },
  {
   "cell_type": "markdown",
   "id": "cbba867d",
   "metadata": {},
   "source": [
    "Q10 a. Why are GLoVE embeddings trained on the ratio of co-occurrence probabilities rather than\n",
    "the probabilities themselves?\n",
    "\n"
   ]
  },
  {
   "cell_type": "markdown",
   "id": "256b1d07",
   "metadata": {},
   "source": [
    "Ratio of the co-occurence probabilities helps determine the words in context which are relevant in distinguishing two different words and also helps determining which context word is more important for which key word. For example, let the context words be solid, gas, water and fashion being studied to understand the target words ice and steam. The probability of solid given ice (P(solid | ice)) and (P(solid| steam)) by itself does not provide much information but if we take the ratio (P(solid | ice) / (P(solid| steam)) given a corpus, we can see that solid is a relevant word in context of ice compared to steam and can help distinguish between ice and steam. "
   ]
  },
  {
   "cell_type": "markdown",
   "id": "491ce48a",
   "metadata": {},
   "source": [
    "Q10 b. In the two sentences: “James is running in the park.” and “James is running for the\n",
    "presidency.”, would GLoVE embeddings return the same vector for the word running in both\n",
    "cases? Why or why not?"
   ]
  },
  {
   "cell_type": "markdown",
   "id": "d8ff2485",
   "metadata": {},
   "source": [
    "Since GLoVE is a global vector representation, after being trained on a large corpus using the co-occurence matrix of wordsfrom the corpus, the vector embeddings of the word remain unique. Hence, GLoVE will return same vector for the word \"running\" in the two sentences. "
   ]
  },
  {
   "cell_type": "markdown",
   "id": "bcabd4e5",
   "metadata": {},
   "source": [
    "Q10 c. What do you expect for the values of,\n",
    "||GLoVE[\"queen\"] - GLoVE[\"king\"] - GLoVE[\"wife\"] + GLoVE[\"husband\"]||2,\n",
    "||GLoVE[\"queen\"] - GLoVE[\"king\"]||2 and ||GLoVE[\"wife\"] - GLoVE[\"husband\"]||2 ?\n",
    "Compare these values."
   ]
  },
  {
   "cell_type": "markdown",
   "id": "107ce92b",
   "metadata": {},
   "source": [
    "The distance between the embeddings of queen and king compared to the distance between the embeddings of wife and husband should be of similar value as they both have same semantic relationship. The difference between the queen and king and wife and husband should be close to zero."
   ]
  },
  {
   "cell_type": "markdown",
   "id": "1b561d16",
   "metadata": {},
   "source": [
    "Q10 d. Given a word, would you rather stem or lemmatize the word before mapping it to its GLoVE\n",
    "embedding?"
   ]
  },
  {
   "cell_type": "markdown",
   "id": "5a1cbe70",
   "metadata": {},
   "source": [
    "Lemmatization would be preferred over stemming before mapping the word to its GLoVE embedding. This is becayse lemmatization with pos tagging is word base reduction on the basis of context of word. Also, lemmatization ensures the reduced word is actually an english word with close meaning to original word."
   ]
  },
  {
   "cell_type": "code",
   "execution_count": 46,
   "id": "d88c5043",
   "metadata": {},
   "outputs": [],
   "source": [
    "embeddings_dict = {}\n",
    "dimension_of_glove = 300\n",
    "with open(\"glove/glove.6B.300d.txt\", 'r') as f:\n",
    "    for line in f:\n",
    "        values = line.split()\n",
    "        word = values[0]\n",
    "        vector = np.asarray(values[1:], \"float32\")\n",
    "        embeddings_dict[word] = vector"
   ]
  },
  {
   "cell_type": "code",
   "execution_count": 47,
   "id": "af6eca8e",
   "metadata": {},
   "outputs": [],
   "source": [
    "queen_king = ((embeddings_dict['king'] - embeddings_dict['queen'])**2)\n",
    "husband_wife = ((embeddings_dict['husband'] - embeddings_dict['wife'])**2)"
   ]
  },
  {
   "cell_type": "code",
   "execution_count": 48,
   "id": "b968c50a",
   "metadata": {},
   "outputs": [
    {
     "data": {
      "text/plain": [
       "5.966257954114113"
      ]
     },
     "execution_count": 48,
     "metadata": {},
     "output_type": "execute_result"
    }
   ],
   "source": [
    "(sum(queen_king))**0.5"
   ]
  },
  {
   "cell_type": "code",
   "execution_count": 49,
   "id": "5f9b204f",
   "metadata": {},
   "outputs": [],
   "source": [
    "queen_king = np.linalg.norm(embeddings_dict['king'] - embeddings_dict['queen'])\n",
    "husband_wife = np.linalg.norm(embeddings_dict['husband'] - embeddings_dict['wife'])\n",
    "queen_king_husband_wife = np.linalg.norm(embeddings_dict['queen'] - embeddings_dict['king'] - \\\n",
    "                                         embeddings_dict['wife'] + embeddings_dict['husband'])"
   ]
  },
  {
   "cell_type": "code",
   "execution_count": 50,
   "id": "6f4782ef",
   "metadata": {},
   "outputs": [
    {
     "name": "stdout",
     "output_type": "stream",
     "text": [
      "9.695891\n"
     ]
    }
   ],
   "source": [
    "m = np.linalg.norm(embeddings_dict['husband'] - embeddings_dict['badminton'])\n",
    "print(m)"
   ]
  },
  {
   "cell_type": "code",
   "execution_count": 51,
   "id": "dc91a8b9",
   "metadata": {},
   "outputs": [],
   "source": [
    "a = (embeddings_dict['king'] - embeddings_dict['queen'])"
   ]
  },
  {
   "cell_type": "code",
   "execution_count": 52,
   "id": "5a94f837",
   "metadata": {},
   "outputs": [
    {
     "data": {
      "text/plain": [
       "5.966258"
      ]
     },
     "execution_count": 52,
     "metadata": {},
     "output_type": "execute_result"
    }
   ],
   "source": [
    "np.linalg.norm(a)"
   ]
  },
  {
   "cell_type": "code",
   "execution_count": 53,
   "id": "a8626a33",
   "metadata": {},
   "outputs": [
    {
     "name": "stdout",
     "output_type": "stream",
     "text": [
      "5.966258\n",
      "3.1520464\n",
      "6.1650367\n"
     ]
    }
   ],
   "source": [
    "print(queen_king)\n",
    "print(husband_wife)\n",
    "print(queen_king_husband_wife)"
   ]
  },
  {
   "cell_type": "markdown",
   "id": "cb894ae9",
   "metadata": {},
   "source": [
    "#### Question 11\n",
    "\n",
    "Train a binary classification model using GLoVE embeddings"
   ]
  },
  {
   "cell_type": "code",
   "execution_count": 54,
   "id": "3d6493bb",
   "metadata": {},
   "outputs": [],
   "source": [
    "## Feature engineering using Glove word embeddings\n",
    "\n",
    "def get_document_vector (doc_keywords:list, embeddings_dict: dict, embed_size = 300 ):\n",
    "    '''\n",
    "    From the list of keywords representing the document, get a document embedding\n",
    "    '''\n",
    "    representation = np.zeros(embed_size)\n",
    "    count = 0\n",
    "    for word in doc_keywords:\n",
    "        try:\n",
    "            embed = embeddings_dict[word]\n",
    "            count = count+1\n",
    "            representation = np.add(representation, embed)    \n",
    "        except:\n",
    "            count = count\n",
    "    return (representation / count)\n",
    "        "
   ]
  },
  {
   "cell_type": "code",
   "execution_count": 55,
   "id": "92dd2bda",
   "metadata": {},
   "outputs": [],
   "source": [
    "def data_to_feature_mapping (data: pd.DataFrame(), embeddings_dict: dict, embed_size = 300):\n",
    "    feature_map = np.zeros(embed_size)\n",
    "    for index, row in data.iterrows():\n",
    "        keywords = row['keywords']\n",
    "#         print(keywords)\n",
    "        embed = get_document_vector(keywords, embeddings_dict, embed_size)\n",
    "        feature_map = np.vstack((feature_map,embed))\n",
    "    feature_map = feature_map[1:,:]\n",
    "    return feature_map"
   ]
  },
  {
   "cell_type": "code",
   "execution_count": 56,
   "id": "68d2997f",
   "metadata": {},
   "outputs": [
    {
     "data": {
      "text/plain": [
       "1657"
      ]
     },
     "execution_count": 56,
     "metadata": {},
     "output_type": "execute_result"
    }
   ],
   "source": [
    "len(train)"
   ]
  },
  {
   "cell_type": "code",
   "execution_count": 57,
   "id": "140c14f2",
   "metadata": {},
   "outputs": [
    {
     "name": "stderr",
     "output_type": "stream",
     "text": [
      "/Users/reemakumari/.conda/envs/kaggle/lib/python3.8/site-packages/sklearn/linear_model/_logistic.py:814: ConvergenceWarning: lbfgs failed to converge (status=1):\n",
      "STOP: TOTAL NO. of ITERATIONS REACHED LIMIT.\n",
      "\n",
      "Increase the number of iterations (max_iter) or scale the data as shown in:\n",
      "    https://scikit-learn.org/stable/modules/preprocessing.html\n",
      "Please also refer to the documentation for alternative solver options:\n",
      "    https://scikit-learn.org/stable/modules/linear_model.html#logistic-regression\n",
      "  n_iter_i = _check_optimize_result(\n"
     ]
    }
   ],
   "source": [
    "clf = LogisticRegression(penalty = 'none', random_state=42)\n",
    "label_encoder = LabelEncoder()\n",
    "\n",
    "## train model\n",
    "y_train = label_encoder.fit_transform(train['root_label'])\n",
    "# print(y_train)\n",
    "X_train = data_to_feature_mapping(train, embeddings_dict, 300)\n",
    "model = clf.fit(X_train, y_train)\n",
    "\n",
    "## get train parameters\n",
    "\n",
    "## test model\n",
    "y_test = label_encoder.transform(test['root_label'])\n",
    "X_test = data_to_feature_mapping(test, embeddings_dict, 300)\n",
    "y_test_pred = clf.predict(X_test)\n"
   ]
  },
  {
   "cell_type": "code",
   "execution_count": 58,
   "id": "38c97859",
   "metadata": {},
   "outputs": [
    {
     "name": "stdout",
     "output_type": "stream",
     "text": [
      "--------------------\n",
      "Confusion matrix on test set is: \n",
      "[[150  56]\n",
      " [ 46 163]]\n",
      "--------------------\n",
      "--------------------\n",
      "Performance metrics on test set is: \n",
      "Precision is:  0.7442922374429224\n",
      "Recall is:  0.7799043062200957\n",
      "Accuracy is:  0.7542168674698795\n",
      "F1 score is:  0.7616822429906542\n",
      "--------------------\n",
      "--------------------\n",
      "ROC curve on test set is: \n"
     ]
    },
    {
     "data": {
      "image/png": "[encoded data removed]",
      "text/plain": [
       "<Figure size 432x288 with 1 Axes>"
      ]
     },
     "metadata": {
      "needs_background": "light"
     },
     "output_type": "display_data"
    }
   ],
   "source": [
    "## get test parameters\n",
    "print('-'*20)\n",
    "print(\"Confusion matrix on test set is: \")\n",
    "print(confusion_matrix(y_test, y_test_pred))\n",
    "print('-'*20)\n",
    "print('-'*20)\n",
    "print(\"Performance metrics on test set is: \")\n",
    "print (\"Precision is: \", precision_score(y_test, y_test_pred))\n",
    "print (\"Recall is: \", recall_score(y_test, y_test_pred))\n",
    "print (\"Accuracy is: \", accuracy_score(y_test, y_test_pred))\n",
    "print (\"F1 score is: \", f1_score(y_test, y_test_pred))\n",
    "print('-'*20)\n",
    "\n",
    "print('-'*20)\n",
    "print(\"ROC curve on test set is: \")\n",
    "y_test_pred_proba = clf.predict_proba(X_test)[::,1]\n",
    "fpr, tpr, _ = roc_curve(y_test,  y_test_pred_proba)\n",
    "\n",
    "#create ROC curve\n",
    "plt.plot(fpr,tpr)\n",
    "plt.ylabel('True Positive Rate')\n",
    "plt.xlabel('False Positive Rate')\n",
    "plt.show()"
   ]
  },
  {
   "cell_type": "markdown",
   "id": "7f703124",
   "metadata": {},
   "source": [
    "#### Question 12\n",
    "\n",
    "Trend between embedding size and accuracy"
   ]
  },
  {
   "cell_type": "code",
   "execution_count": 59,
   "id": "d69879d0",
   "metadata": {},
   "outputs": [],
   "source": [
    "embed_size = [50,100,200,300]"
   ]
  },
  {
   "cell_type": "code",
   "execution_count": 60,
   "id": "242e9c4c",
   "metadata": {},
   "outputs": [
    {
     "name": "stderr",
     "output_type": "stream",
     "text": [
      "/Users/reemakumari/.conda/envs/kaggle/lib/python3.8/site-packages/sklearn/linear_model/_logistic.py:814: ConvergenceWarning: lbfgs failed to converge (status=1):\n",
      "STOP: TOTAL NO. of ITERATIONS REACHED LIMIT.\n",
      "\n",
      "Increase the number of iterations (max_iter) or scale the data as shown in:\n",
      "    https://scikit-learn.org/stable/modules/preprocessing.html\n",
      "Please also refer to the documentation for alternative solver options:\n",
      "    https://scikit-learn.org/stable/modules/linear_model.html#logistic-regression\n",
      "  n_iter_i = _check_optimize_result(\n",
      "/Users/reemakumari/.conda/envs/kaggle/lib/python3.8/site-packages/sklearn/linear_model/_logistic.py:814: ConvergenceWarning: lbfgs failed to converge (status=1):\n",
      "STOP: TOTAL NO. of ITERATIONS REACHED LIMIT.\n",
      "\n",
      "Increase the number of iterations (max_iter) or scale the data as shown in:\n",
      "    https://scikit-learn.org/stable/modules/preprocessing.html\n",
      "Please also refer to the documentation for alternative solver options:\n",
      "    https://scikit-learn.org/stable/modules/linear_model.html#logistic-regression\n",
      "  n_iter_i = _check_optimize_result(\n",
      "/Users/reemakumari/.conda/envs/kaggle/lib/python3.8/site-packages/sklearn/linear_model/_logistic.py:814: ConvergenceWarning: lbfgs failed to converge (status=1):\n",
      "STOP: TOTAL NO. of ITERATIONS REACHED LIMIT.\n",
      "\n",
      "Increase the number of iterations (max_iter) or scale the data as shown in:\n",
      "    https://scikit-learn.org/stable/modules/preprocessing.html\n",
      "Please also refer to the documentation for alternative solver options:\n",
      "    https://scikit-learn.org/stable/modules/linear_model.html#logistic-regression\n",
      "  n_iter_i = _check_optimize_result(\n",
      "/Users/reemakumari/.conda/envs/kaggle/lib/python3.8/site-packages/sklearn/linear_model/_logistic.py:814: ConvergenceWarning: lbfgs failed to converge (status=1):\n",
      "STOP: TOTAL NO. of ITERATIONS REACHED LIMIT.\n",
      "\n",
      "Increase the number of iterations (max_iter) or scale the data as shown in:\n",
      "    https://scikit-learn.org/stable/modules/preprocessing.html\n",
      "Please also refer to the documentation for alternative solver options:\n",
      "    https://scikit-learn.org/stable/modules/linear_model.html#logistic-regression\n",
      "  n_iter_i = _check_optimize_result(\n"
     ]
    }
   ],
   "source": [
    "clf = LogisticRegression(penalty = 'none', random_state=42)\n",
    "label_encoder = LabelEncoder()\n",
    "\n",
    "## label encoding\n",
    "y_train = label_encoder.fit_transform(train['root_label'])\n",
    "y_test = label_encoder.transform(test['root_label'])\n",
    "\n",
    "## report test accuracy on different embedding size\n",
    "accuracy = []\n",
    "for size in embed_size:\n",
    "    \n",
    "    embeddings_dict = {}\n",
    "    with open(\"glove/glove.6B.\"+ str(size)+\"d.txt\", 'r') as f:\n",
    "        for line in f:\n",
    "            values = line.split()\n",
    "            word = values[0]\n",
    "            vector = np.asarray(values[1:], \"float32\")\n",
    "            embeddings_dict[word] = vector\n",
    "    \n",
    "    X_train = data_to_feature_mapping(train, embeddings_dict, size)\n",
    "    model = clf.fit(X_train, y_train)\n",
    "\n",
    "    X_test = data_to_feature_mapping(test,embeddings_dict, size)\n",
    "    y_test_pred = clf.predict(X_test)\n",
    "    accuracy.append(accuracy_score(y_test, y_test_pred))\n"
   ]
  },
  {
   "cell_type": "code",
   "execution_count": 61,
   "id": "b57a36cf",
   "metadata": {},
   "outputs": [
    {
     "data": {
      "text/plain": [
       "[0.7590361445783133,\n",
       " 0.7566265060240964,\n",
       " 0.7542168674698795,\n",
       " 0.7542168674698795]"
      ]
     },
     "execution_count": 61,
     "metadata": {},
     "output_type": "execute_result"
    }
   ],
   "source": [
    "accuracy"
   ]
  },
  {
   "cell_type": "code",
   "execution_count": 62,
   "id": "aa57f987",
   "metadata": {},
   "outputs": [
    {
     "data": {
      "image/png": "[encoded data removed]",
      "text/plain": [
       "<Figure size 432x288 with 1 Axes>"
      ]
     },
     "metadata": {
      "needs_background": "light"
     },
     "output_type": "display_data"
    }
   ],
   "source": [
    "# plotting the explained variance ratio across number of components\n",
    "plt.plot(embed_size, accuracy)\n",
    "plt.xlabel('embed_size')\n",
    "plt.ylabel('test_accuracy')\n",
    "plt.title('GLoVE embedding')\n",
    "plt.show()"
   ]
  },
  {
   "cell_type": "markdown",
   "id": "ae249ee6",
   "metadata": {},
   "source": [
    "#### Question 13\n",
    "\n",
    "Visualize using UMAP"
   ]
  },
  {
   "cell_type": "code",
   "execution_count": 68,
   "id": "3e7e9ff7",
   "metadata": {},
   "outputs": [],
   "source": [
    "import umap\n",
    "import seaborn as sns\n",
    "from sklearn.preprocessing import StandardScaler"
   ]
  },
  {
   "cell_type": "code",
   "execution_count": 69,
   "id": "ce53129f",
   "metadata": {},
   "outputs": [
    {
     "data": {
      "text/plain": [
       "(1657, 2)"
      ]
     },
     "execution_count": 69,
     "metadata": {},
     "output_type": "execute_result"
    }
   ],
   "source": [
    "size = 300\n",
    "embeddings_dict = {}\n",
    "with open(\"glove/glove.6B.\"+ str(size)+\"d.txt\", 'r') as f:\n",
    "    for line in f:\n",
    "        values = line.split()\n",
    "        word = values[0]\n",
    "        vector = np.asarray(values[1:], \"float32\")\n",
    "        embeddings_dict[word] = vector\n",
    "\n",
    "X_train = data_to_feature_mapping(train, embeddings_dict, size)\n",
    "\n",
    "reducer = umap.UMAP()\n",
    "scaled_data = StandardScaler().fit_transform(X_train)\n",
    "embedding = reducer.fit_transform(scaled_data)\n",
    "embedding.shape"
   ]
  },
  {
   "cell_type": "code",
   "execution_count": 70,
   "id": "3d9a51b6",
   "metadata": {},
   "outputs": [
    {
     "data": {
      "text/plain": [
       "Text(0.5, 1.0, 'UMAP projection of the Training dataset')"
      ]
     },
     "execution_count": 70,
     "metadata": {},
     "output_type": "execute_result"
    },
    {
     "data": {
      "image/png": "[encoded data removed]",
      "text/plain": [
       "<Figure size 432x288 with 1 Axes>"
      ]
     },
     "metadata": {
      "needs_background": "light"
     },
     "output_type": "display_data"
    }
   ],
   "source": [
    "plt.scatter(\n",
    "    embedding[:, 0],\n",
    "    embedding[:, 1],\n",
    "    c=[sns.color_palette()[x] for x in train.root_label.map({\"sports\":0, \"climate\":1})])\n",
    "plt.gca().set_aspect('equal', 'datalim')\n",
    "plt.title('UMAP projection of the Training dataset', fontsize=24)"
   ]
  },
  {
   "cell_type": "code",
   "execution_count": 71,
   "id": "e56c2768",
   "metadata": {},
   "outputs": [],
   "source": [
    "rand_data = np.random.rand(1657,300)"
   ]
  },
  {
   "cell_type": "code",
   "execution_count": 72,
   "id": "41b5de56",
   "metadata": {},
   "outputs": [
    {
     "data": {
      "text/plain": [
       "(1657, 2)"
      ]
     },
     "execution_count": 72,
     "metadata": {},
     "output_type": "execute_result"
    }
   ],
   "source": [
    "reducer = umap.UMAP()\n",
    "scaled_data_rand = StandardScaler().fit_transform(rand_data)\n",
    "embedding_rand = reducer.fit_transform(scaled_data_rand)\n",
    "embedding_rand.shape"
   ]
  },
  {
   "cell_type": "code",
   "execution_count": 73,
   "id": "5606c3a4",
   "metadata": {},
   "outputs": [
    {
     "data": {
      "text/plain": [
       "Text(0.5, 1.0, 'UMAP projection of the random dataset')"
      ]
     },
     "execution_count": 73,
     "metadata": {},
     "output_type": "execute_result"
    },
    {
     "data": {
      "image/png": "[encoded data removed]",
      "text/plain": [
       "<Figure size 432x288 with 1 Axes>"
      ]
     },
     "metadata": {
      "needs_background": "light"
     },
     "output_type": "display_data"
    }
   ],
   "source": [
    "plt.scatter(\n",
    "    embedding_rand[:, 0],\n",
    "    embedding_rand[:, 1],\n",
    "    c=[sns.color_palette()[x] for x in train.root_label.map({\"sports\":0, \"climate\":1})])\n",
    "plt.gca().set_aspect('equal', 'datalim')\n",
    "plt.title('UMAP projection of the random dataset', fontsize=24)"
   ]
  },
  {
   "cell_type": "code",
   "execution_count": null,
   "id": "8e59c828",
   "metadata": {},
   "outputs": [],
   "source": []
  },
  {
   "cell_type": "code",
   "execution_count": null,
   "id": "4aa0cc1e",
   "metadata": {},
   "outputs": [],
   "source": []
  },
  {
   "cell_type": "code",
   "execution_count": null,
   "id": "d135e26e",
   "metadata": {},
   "outputs": [],
   "source": []
  },
  {
   "cell_type": "code",
   "execution_count": null,
   "id": "27d26a76",
   "metadata": {},
   "outputs": [],
   "source": [
    "###################################### END #######################################"
   ]
  },
  {
   "cell_type": "code",
   "execution_count": null,
   "id": "f8f37882",
   "metadata": {},
   "outputs": [],
   "source": [
    "doc_keywords1 = ['this', 'is', 'my', 'pen']\n",
    "doc_keywords2 = ['why', 'are', 'you', 'here']"
   ]
  },
  {
   "cell_type": "code",
   "execution_count": null,
   "id": "c13bbb1b",
   "metadata": {},
   "outputs": [],
   "source": [
    "a = get_document_vector(doc_keywords1)\n",
    "b = get_document_vector(doc_keywords2)\n",
    "m = np.zeros(300)\n",
    "m = np.vstack((m,a))\n",
    "m = np.vstack((m,b))\n",
    "# c = np.vstack((a,b))\n",
    "print(m.shape)"
   ]
  },
  {
   "cell_type": "code",
   "execution_count": null,
   "id": "95a74084",
   "metadata": {},
   "outputs": [],
   "source": [
    "m = m[1:,:]"
   ]
  },
  {
   "cell_type": "code",
   "execution_count": null,
   "id": "d3ce3971",
   "metadata": {},
   "outputs": [],
   "source": [
    "print(m.shape)"
   ]
  },
  {
   "cell_type": "code",
   "execution_count": null,
   "id": "e6442da5",
   "metadata": {},
   "outputs": [],
   "source": [
    "# len(embeddings_dict['king'])"
   ]
  },
  {
   "cell_type": "code",
   "execution_count": null,
   "id": "f1da2541",
   "metadata": {},
   "outputs": [],
   "source": [
    "representation = [0]*300"
   ]
  },
  {
   "cell_type": "code",
   "execution_count": null,
   "id": "a881b24e",
   "metadata": {},
   "outputs": [],
   "source": [
    "representation"
   ]
  },
  {
   "cell_type": "code",
   "execution_count": null,
   "id": "ce5d03c6",
   "metadata": {},
   "outputs": [],
   "source": [
    "# embeddings_dict['king']"
   ]
  },
  {
   "cell_type": "code",
   "execution_count": null,
   "id": "2abcfde5",
   "metadata": {},
   "outputs": [],
   "source": [
    "## logistic regression\n",
    "# plot the ROC\n",
    "# curve and report the confusion matrix and calculate the accuracy, recall precision and F-1\n",
    "# score of this classifier on the testing set.\n",
    "## 1000 features has 92% explained variance\n",
    "\n",
    "clf = LogisticRegression(penalty = 'none')\n",
    "\n",
    "## train the model\n",
    "CountVectorizer(min_df=3, stop_words='english', analyzer=doc_tokens, max_df=0.7)\n",
    "\n",
    "pipeline1 = Pipeline([\n",
    "    ('vect', CountVectorizer(min_df=3, stop_words='english', analyzer=doc_tokens, max_df=0.7)),\n",
    "    ('tfidf', TfidfTransformer()),\n",
    "    ('reduce_dim', TruncatedSVD(n_components=1000, n_iter = 20, random_state=42)),\n",
    "    ('clf', clf),\n",
    "])\n"
   ]
  },
  {
   "cell_type": "code",
   "execution_count": null,
   "id": "e34d02e0",
   "metadata": {},
   "outputs": [],
   "source": []
  },
  {
   "cell_type": "code",
   "execution_count": null,
   "id": "9d395d0e",
   "metadata": {},
   "outputs": [],
   "source": [
    "fit_predict_and_plot_roc(pipeline1, twenty_train.data, twenty_train.target, twenty_test.data, twenty_test.target)"
   ]
  },
  {
   "cell_type": "code",
   "execution_count": null,
   "id": "0194f192",
   "metadata": {},
   "outputs": [],
   "source": [
    "## Provide accuracy bla.. bla.. ---> on test\n",
    "## take test set -> get ordered list of labels for test set -> get predicted labels"
   ]
  },
  {
   "cell_type": "code",
   "execution_count": null,
   "id": "bcad618e",
   "metadata": {},
   "outputs": [],
   "source": []
  },
  {
   "cell_type": "code",
   "execution_count": null,
   "id": "095d3779",
   "metadata": {},
   "outputs": [],
   "source": []
  },
  {
   "cell_type": "code",
   "execution_count": null,
   "id": "117c9570",
   "metadata": {},
   "outputs": [],
   "source": [
    "model = NMF(n_components=50, init='random', random_state=0)\n",
    "W_train = model.fit_transform(X_train_tfidf)"
   ]
  },
  {
   "cell_type": "code",
   "execution_count": null,
   "id": "ef8c454f",
   "metadata": {},
   "outputs": [],
   "source": [
    "def feature_extraction (data: pd.DataFrame()):\n",
    "    '''\n",
    "    Module for feature extraction\n",
    "    '''\n",
    "    \n",
    "    ## clean \n",
    "    data['clean_full_text'] = data['full_text'].apply(lambda x: clean(x))\n",
    "    \n",
    "    ## sentence level data\n",
    "    data['idx'] = range(1, len(data)+1)\n",
    "    sent_tokenize(sentence)\n",
    "    \n",
    "    \n",
    "    ## Bag of words\n",
    "    "
   ]
  },
  {
   "cell_type": "code",
   "execution_count": null,
   "id": "67c73282",
   "metadata": {},
   "outputs": [],
   "source": [
    "train['clean_full_text'] = train['full_text'].apply(lambda x: clean(x))\n",
    "train1 = getVectorizer(train, 'clean_full_text')  ## taking time; optimize this; taking even more time :P"
   ]
  },
  {
   "cell_type": "code",
   "execution_count": null,
   "id": "0ea0c117",
   "metadata": {},
   "outputs": [],
   "source": [
    "train1.head()"
   ]
  },
  {
   "cell_type": "code",
   "execution_count": null,
   "id": "0c382bad",
   "metadata": {},
   "outputs": [],
   "source": [
    "count_vect = CountVectorizer(stop_words='english', min_df=3, max_df=0.7)\n",
    "X_train_counts = count_vect.fit_transform(train1['doc_tokens'])"
   ]
  },
  {
   "cell_type": "code",
   "execution_count": null,
   "id": "c6109808",
   "metadata": {},
   "outputs": [],
   "source": []
  },
  {
   "cell_type": "code",
   "execution_count": null,
   "id": "c4920700",
   "metadata": {},
   "outputs": [],
   "source": [
    "X_train_counts"
   ]
  },
  {
   "cell_type": "code",
   "execution_count": null,
   "id": "a4cf97a4",
   "metadata": {},
   "outputs": [],
   "source": [
    "X_train_counts.shape"
   ]
  },
  {
   "cell_type": "code",
   "execution_count": null,
   "id": "4b46adf4",
   "metadata": {},
   "outputs": [],
   "source": [
    "m = count_vect.get_feature_names() # remove 00, 000, 00pm etc ...."
   ]
  },
  {
   "cell_type": "code",
   "execution_count": null,
   "id": "ff99ca65",
   "metadata": {},
   "outputs": [],
   "source": [
    "X_train_tfidf"
   ]
  },
  {
   "cell_type": "code",
   "execution_count": null,
   "id": "ebfe2204",
   "metadata": {},
   "outputs": [],
   "source": [
    "X"
   ]
  },
  {
   "cell_type": "code",
   "execution_count": null,
   "id": "558c58ad",
   "metadata": {},
   "outputs": [],
   "source": [
    "## Latent semantic indexing   ## time taking step\n",
    "X_train_tfidf_dense = X_train_tfidf.toarray()\n",
    "U, D, VT = np.linalg.svd(X_train_tfidf_dense)"
   ]
  },
  {
   "cell_type": "code",
   "execution_count": null,
   "id": "7963b4e7",
   "metadata": {},
   "outputs": [],
   "source": [
    "U.shape"
   ]
  },
  {
   "cell_type": "code",
   "execution_count": null,
   "id": "4fa3faa9",
   "metadata": {},
   "outputs": [],
   "source": [
    "D"
   ]
  },
  {
   "cell_type": "code",
   "execution_count": null,
   "id": "2d91ea8a",
   "metadata": {},
   "outputs": [],
   "source": [
    "k = [1,10,50,100,200,500,1000,2000]"
   ]
  },
  {
   "cell_type": "code",
   "execution_count": null,
   "id": "655974c2",
   "metadata": {},
   "outputs": [],
   "source": [
    "# def plot_explained_variance (D, k : list):\n",
    "#     V = np.transpose(VT)\n",
    "#     explained_ratio = []\n",
    "#     for k_item in k:\n",
    "#         V_k = V[:,:k_item]\n",
    "#         X_reduced = np.dot(X,V_k)"
   ]
  },
  {
   "cell_type": "code",
   "execution_count": null,
   "id": "8c0cdba5",
   "metadata": {},
   "outputs": [],
   "source": [
    "def plot_explained_variance (D, k : list):\n",
    "    explained_ratio = []\n",
    "    tot_variance = sum(D)\n",
    "    for k_item in k:\n",
    "        k_variance = sum(D[:k_item])\n",
    "        explained_ratio.append(k_variance/tot_variance)\n",
    "    return explained_ratio"
   ]
  },
  {
   "cell_type": "code",
   "execution_count": null,
   "id": "4ed34f2c",
   "metadata": {},
   "outputs": [],
   "source": [
    "D"
   ]
  },
  {
   "cell_type": "code",
   "execution_count": null,
   "id": "9c47207b",
   "metadata": {},
   "outputs": [],
   "source": [
    "explained_ratio = plot_explained_variance(D, k)"
   ]
  },
  {
   "cell_type": "code",
   "execution_count": null,
   "id": "3b575927",
   "metadata": {},
   "outputs": [],
   "source": [
    "explained_ratio"
   ]
  },
  {
   "cell_type": "code",
   "execution_count": null,
   "id": "3ea0f21b",
   "metadata": {},
   "outputs": [],
   "source": [
    "explained_ratio = pd.Series(explained_ratio)\n",
    "explained_ratio.plot()  ## should be concave; but is convex. check this"
   ]
  },
  {
   "cell_type": "code",
   "execution_count": null,
   "id": "1113dda8",
   "metadata": {},
   "outputs": [],
   "source": [
    "from sklearn.decomposition import NMF\n",
    "def get_SVD_residual_MSE (X, k = 50):\n",
    "    U, D, VT = np.linalg.svd(X_train_tfidf_dense)\n",
    "    V = np.transpose(VT)\n",
    "    V_k = V[:,:k]\n",
    "    U_k = U[:,:k]\n",
    "    D_k = D[:k]\n",
    "    D_mat = np.diag(D_k)\n",
    "    X_reconstruct = np.dot(U_k, D_mat)\n",
    "    X_reconstruct1 = np.dot(X_reconstruct, np.transpose(V_k))\n",
    "    count = 0\n",
    "    squared_error = 0\n",
    "    for i in range(X.shape[0]):\n",
    "        for j in range(X.shape[1]):\n",
    "            squared_error = squared_error + ((X[i][j]-X_reconstruct1[i][j])**2)\n",
    "            count = count+1\n",
    "    mse = squared_error/count\n",
    "    return mse\n",
    "    \n",
    "    \n",
    "def get_NMF_residual_MSE (X, k= 50):\n",
    "    model = NMF(n_components=k, init='random', random_state=0)\n",
    "    W = model.fit_transform(X)\n",
    "    H = model.components_\n",
    "    X_fit = np.dot(W, H)\n",
    "    count = 0\n",
    "    squared_error = 0\n",
    "    for i in range(X.shape[0]):\n",
    "        for j in range(X.shape[1]):\n",
    "            squared_error = squared_error + ((X[i][j]-X_fit[i][j])**2)\n",
    "            count = count+1\n",
    "    mse = squared_error/count\n",
    "    return mse\n",
    "    "
   ]
  },
  {
   "cell_type": "code",
   "execution_count": null,
   "id": "a0681b51",
   "metadata": {},
   "outputs": [],
   "source": [
    "get_SVD_residual_MSE(X_train_tfidf_dense)  ## takes time"
   ]
  },
  {
   "cell_type": "code",
   "execution_count": null,
   "id": "83ad593d",
   "metadata": {},
   "outputs": [],
   "source": [
    "X_train_tfidf_dense.shape"
   ]
  },
  {
   "cell_type": "code",
   "execution_count": null,
   "id": "d8664a05",
   "metadata": {},
   "outputs": [],
   "source": [
    "get_NMF_residual_MSE(X_train_tfidf_dense)  ## takes time"
   ]
  },
  {
   "cell_type": "code",
   "execution_count": null,
   "id": "a12f95b7",
   "metadata": {},
   "outputs": [],
   "source": [
    "## use root_label for binary classification"
   ]
  },
  {
   "cell_type": "code",
   "execution_count": null,
   "id": "16cfa7b4",
   "metadata": {},
   "outputs": [],
   "source": [
    "y_train = train['root_label']"
   ]
  },
  {
   "cell_type": "code",
   "execution_count": null,
   "id": "75661a53",
   "metadata": {},
   "outputs": [],
   "source": [
    "y_train"
   ]
  },
  {
   "cell_type": "code",
   "execution_count": null,
   "id": "28da057c",
   "metadata": {},
   "outputs": [],
   "source": [
    "from sklearn.preprocessing import LabelEncoder, StandardScaler\n",
    "label_encoder = LabelEncoder()\n",
    "Y = label_encoder.fit_transform(y_train)\n",
    "X = StandardScaler().fit_transform(X_train_tfidf_dense)"
   ]
  },
  {
   "cell_type": "code",
   "execution_count": null,
   "id": "c7816fa7",
   "metadata": {},
   "outputs": [],
   "source": [
    "from sklearn.svm import SVC # \"Support vector classifier\"\n",
    "model = SVC(kernel = 'linear', C = 1E10)\n",
    "model.fit(X, Y)"
   ]
  },
  {
   "cell_type": "code",
   "execution_count": null,
   "id": "7a3aa33b",
   "metadata": {},
   "outputs": [],
   "source": [
    "from sklearn.metrics import accuracy_score\n",
    "y_pred = model.predict(X)\n",
    "accuracy_score(Y, y_pred)"
   ]
  },
  {
   "cell_type": "code",
   "execution_count": null,
   "id": "38c9e9da",
   "metadata": {},
   "outputs": [],
   "source": [
    "from sklearn.linear_model import LogisticRegression\n",
    "clf = LogisticRegression(random_state=0).fit(X, Y)\n",
    "y_pred = clf.predict(X)\n",
    "accuracy_score(Y, y_pred)"
   ]
  },
  {
   "cell_type": "code",
   "execution_count": null,
   "id": "915abba5",
   "metadata": {},
   "outputs": [],
   "source": [
    "from sklearn.naive_bayes import GaussianNB\n",
    "clf = GaussianNB()\n",
    "clf.fit(X, Y)\n",
    "y_pred = clf.predict(X)\n",
    "accuracy_score(Y, y_pred)"
   ]
  },
  {
   "cell_type": "code",
   "execution_count": null,
   "id": "607cfb8a",
   "metadata": {},
   "outputs": [],
   "source": []
  },
  {
   "cell_type": "code",
   "execution_count": null,
   "id": "51f23733",
   "metadata": {},
   "outputs": [],
   "source": []
  },
  {
   "cell_type": "code",
   "execution_count": null,
   "id": "353539c4",
   "metadata": {},
   "outputs": [],
   "source": [
    "from sklearn.linear_model import LogisticRegression\n",
    "clf = LogisticRegression(random_state=0).fit(X, Y)\n",
    "y_pred = clf.predict(X)\n",
    "accuracy_score(Y, y_pred)"
   ]
  },
  {
   "cell_type": "code",
   "execution_count": null,
   "id": "bdfc00c4",
   "metadata": {},
   "outputs": [],
   "source": [
    "D"
   ]
  },
  {
   "cell_type": "code",
   "execution_count": null,
   "id": "49139f13",
   "metadata": {},
   "outputs": [],
   "source": [
    "tfidf_transformer.get_feature_names()"
   ]
  },
  {
   "cell_type": "code",
   "execution_count": null,
   "id": "dd2d488f",
   "metadata": {},
   "outputs": [],
   "source": [
    "m.to_csv('./m.csv', index = False)"
   ]
  },
  {
   "cell_type": "code",
   "execution_count": null,
   "id": "5ecd7274",
   "metadata": {},
   "outputs": [],
   "source": [
    "train1.to_csv('./train1.csv', index = False)"
   ]
  },
  {
   "cell_type": "code",
   "execution_count": null,
   "id": "23b67cf7",
   "metadata": {},
   "outputs": [],
   "source": []
  },
  {
   "cell_type": "code",
   "execution_count": null,
   "id": "bd11f244",
   "metadata": {},
   "outputs": [],
   "source": []
  },
  {
   "cell_type": "code",
   "execution_count": null,
   "id": "458dd013",
   "metadata": {},
   "outputs": [],
   "source": [
    "df1.head()"
   ]
  },
  {
   "cell_type": "code",
   "execution_count": null,
   "id": "39286a21",
   "metadata": {},
   "outputs": [],
   "source": [
    "df1"
   ]
  },
  {
   "cell_type": "code",
   "execution_count": null,
   "id": "3e96d70f",
   "metadata": {},
   "outputs": [],
   "source": [
    "df.columns"
   ]
  },
  {
   "cell_type": "code",
   "execution_count": null,
   "id": "712629d9",
   "metadata": {},
   "outputs": [],
   "source": [
    "df['full_text'][0]"
   ]
  },
  {
   "cell_type": "code",
   "execution_count": null,
   "id": "2b6fde5a",
   "metadata": {},
   "outputs": [],
   "source": [
    "a = clean(df['full_text'][0])"
   ]
  },
  {
   "cell_type": "code",
   "execution_count": null,
   "id": "1fa3b761",
   "metadata": {},
   "outputs": [],
   "source": [
    "import nltk\n",
    "from nltk.tokenize import sent_tokenize"
   ]
  },
  {
   "cell_type": "code",
   "execution_count": null,
   "id": "225be62b",
   "metadata": {},
   "outputs": [],
   "source": [
    "sent_tokenize(a)"
   ]
  },
  {
   "cell_type": "code",
   "execution_count": null,
   "id": "da18901d",
   "metadata": {},
   "outputs": [],
   "source": [
    "for row,index in df:\n",
    "    print(row['full_text'])\n",
    "    "
   ]
  },
  {
   "cell_type": "code",
   "execution_count": null,
   "id": "a34df172",
   "metadata": {},
   "outputs": [],
   "source": [
    "def latent_semantic_indexing (X):\n",
    "    X_dense = X.toarray()\n",
    "    U, D, VT = np.linalg.svd(X_dense)"
   ]
  }
 ],
 "metadata": {
  "kernelspec": {
   "display_name": "Python 3 (ipykernel)",
   "language": "python",
   "name": "python3"
  },
  "language_info": {
   "codemirror_mode": {
    "name": "ipython",
    "version": 3
   },
   "file_extension": ".py",
   "mimetype": "text/x-python",
   "name": "python",
   "nbconvert_exporter": "python",
   "pygments_lexer": "ipython3",
   "version": "3.8.10"
  }
 },
 "nbformat": 4,
 "nbformat_minor": 5
}
