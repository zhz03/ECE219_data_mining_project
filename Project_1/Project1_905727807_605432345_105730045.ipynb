{
 "cells": [
  {
   "cell_type": "code",
   "execution_count": 1,
   "id": "6f0e811f",
   "metadata": {},
   "outputs": [],
   "source": [
    "import pandas as pd"
   ]
  },
  {
   "cell_type": "code",
   "execution_count": 2,
   "id": "05873e7b",
   "metadata": {},
   "outputs": [],
   "source": [
    "# read csv file\n",
    "filename = \"Project_1_dataset_01_01_2022.csv\"\n",
    "df = pd.read_csv(filename)"
   ]
  },
  {
   "cell_type": "code",
   "execution_count": 3,
   "id": "de49adb5",
   "metadata": {},
   "outputs": [
    {
     "data": {
      "text/html": [
       "<div>\n",
       "<style scoped>\n",
       "    .dataframe tbody tr th:only-of-type {\n",
       "        vertical-align: middle;\n",
       "    }\n",
       "\n",
       "    .dataframe tbody tr th {\n",
       "        vertical-align: top;\n",
       "    }\n",
       "\n",
       "    .dataframe thead th {\n",
       "        text-align: right;\n",
       "    }\n",
       "</style>\n",
       "<table border=\"1\" class=\"dataframe\">\n",
       "  <thead>\n",
       "    <tr style=\"text-align: right;\">\n",
       "      <th></th>\n",
       "      <th>Unnamed: 0</th>\n",
       "      <th>full_text</th>\n",
       "      <th>summary</th>\n",
       "      <th>keywords</th>\n",
       "      <th>publish_date</th>\n",
       "      <th>authors</th>\n",
       "      <th>url</th>\n",
       "      <th>leaf_label</th>\n",
       "      <th>root_label</th>\n",
       "    </tr>\n",
       "  </thead>\n",
       "  <tbody>\n",
       "    <tr>\n",
       "      <th>0</th>\n",
       "      <td>590</td>\n",
       "      <td>Having made a massive impact in Saudi Arabia w...</td>\n",
       "      <td>Having made a massive impact in Saudi Arabia w...</td>\n",
       "      <td>['singhs', 'rooting', 'cool', 'saudi', 'style'...</td>\n",
       "      <td>NaN</td>\n",
       "      <td>[]</td>\n",
       "      <td>https://www.msn.com/en-in/entertainment/other/...</td>\n",
       "      <td>cricket</td>\n",
       "      <td>sports</td>\n",
       "    </tr>\n",
       "    <tr>\n",
       "      <th>1</th>\n",
       "      <td>388</td>\n",
       "      <td>Cricket is all about the emotional rollercoast...</td>\n",
       "      <td>No matter which team fans hope to win, every s...</td>\n",
       "      <td>['wants', 'fans', 'finals', 'cup', 'win', 'tou...</td>\n",
       "      <td>NaN</td>\n",
       "      <td>[]</td>\n",
       "      <td>https://www.prnewswire.com:443/news-releases/c...</td>\n",
       "      <td>cricket</td>\n",
       "      <td>sports</td>\n",
       "    </tr>\n",
       "    <tr>\n",
       "      <th>2</th>\n",
       "      <td>423</td>\n",
       "      <td>New Zealand announces back-to-back tours next ...</td>\n",
       "      <td>New Zealand announces back-to-back tours next ...</td>\n",
       "      <td>['test', 'west', 'tour', 'zealand', 'world', '...</td>\n",
       "      <td>2021-12-20 00:00:00</td>\n",
       "      <td>[]</td>\n",
       "      <td>https://www.aljazeera.com/news/2021/12/20/cric...</td>\n",
       "      <td>cricket</td>\n",
       "      <td>sports</td>\n",
       "    </tr>\n",
       "    <tr>\n",
       "      <th>3</th>\n",
       "      <td>563</td>\n",
       "      <td>It's not the first time cricket fans in the co...</td>\n",
       "      <td>Billed as one of the pre-tournament favourites...</td>\n",
       "      <td>['qualify', 'afghanistan', 'cup', 'world', 'ze...</td>\n",
       "      <td>NaN</td>\n",
       "      <td>[]</td>\n",
       "      <td>https://www.msn.com/en-in/news/other/t20-world...</td>\n",
       "      <td>cricket</td>\n",
       "      <td>sports</td>\n",
       "    </tr>\n",
       "    <tr>\n",
       "      <th>4</th>\n",
       "      <td>634</td>\n",
       "      <td>An employee works on a computer terminal again...</td>\n",
       "      <td>REUTERS/Sivaram VBENGALURU, Oct 11 (Reuters Br...</td>\n",
       "      <td>['success', 'tech', 'startup', 'talent', 'onli...</td>\n",
       "      <td>2021-10-11 00:00:00</td>\n",
       "      <td>['Una Galani']</td>\n",
       "      <td>https://www.reuters.com/breakingviews/india-in...</td>\n",
       "      <td>cricket</td>\n",
       "      <td>sports</td>\n",
       "    </tr>\n",
       "  </tbody>\n",
       "</table>\n",
       "</div>"
      ],
      "text/plain": [
       "   Unnamed: 0                                          full_text  \\\n",
       "0         590  Having made a massive impact in Saudi Arabia w...   \n",
       "1         388  Cricket is all about the emotional rollercoast...   \n",
       "2         423  New Zealand announces back-to-back tours next ...   \n",
       "3         563  It's not the first time cricket fans in the co...   \n",
       "4         634  An employee works on a computer terminal again...   \n",
       "\n",
       "                                             summary  \\\n",
       "0  Having made a massive impact in Saudi Arabia w...   \n",
       "1  No matter which team fans hope to win, every s...   \n",
       "2  New Zealand announces back-to-back tours next ...   \n",
       "3  Billed as one of the pre-tournament favourites...   \n",
       "4  REUTERS/Sivaram VBENGALURU, Oct 11 (Reuters Br...   \n",
       "\n",
       "                                            keywords         publish_date  \\\n",
       "0  ['singhs', 'rooting', 'cool', 'saudi', 'style'...                  NaN   \n",
       "1  ['wants', 'fans', 'finals', 'cup', 'win', 'tou...                  NaN   \n",
       "2  ['test', 'west', 'tour', 'zealand', 'world', '...  2021-12-20 00:00:00   \n",
       "3  ['qualify', 'afghanistan', 'cup', 'world', 'ze...                  NaN   \n",
       "4  ['success', 'tech', 'startup', 'talent', 'onli...  2021-10-11 00:00:00   \n",
       "\n",
       "          authors                                                url  \\\n",
       "0              []  https://www.msn.com/en-in/entertainment/other/...   \n",
       "1              []  https://www.prnewswire.com:443/news-releases/c...   \n",
       "2              []  https://www.aljazeera.com/news/2021/12/20/cric...   \n",
       "3              []  https://www.msn.com/en-in/news/other/t20-world...   \n",
       "4  ['Una Galani']  https://www.reuters.com/breakingviews/india-in...   \n",
       "\n",
       "  leaf_label root_label  \n",
       "0    cricket     sports  \n",
       "1    cricket     sports  \n",
       "2    cricket     sports  \n",
       "3    cricket     sports  \n",
       "4    cricket     sports  "
      ]
     },
     "execution_count": 3,
     "metadata": {},
     "output_type": "execute_result"
    }
   ],
   "source": [
    "# check the data\n",
    "df.head()"
   ]
  },
  {
   "cell_type": "markdown",
   "id": "ceb10786",
   "metadata": {},
   "source": [
    "## Question1"
   ]
  },
  {
   "cell_type": "code",
   "execution_count": 4,
   "id": "6ed3a35e",
   "metadata": {},
   "outputs": [],
   "source": [
    "import matplotlib.pyplot as plt\n",
    "%matplotlib inline"
   ]
  },
  {
   "cell_type": "code",
   "execution_count": 5,
   "id": "47ed86d9",
   "metadata": {},
   "outputs": [],
   "source": [
    "# create column count which stores length of alpha numeric characters\n",
    "df['count'] =  df['full_text'].apply(lambda x: sum(char.isalnum() for char in x))"
   ]
  },
  {
   "cell_type": "code",
   "execution_count": 6,
   "id": "af31998e",
   "metadata": {},
   "outputs": [
    {
     "data": {
      "image/png": "[encoded data removed]",
      "text/plain": [
       "<Figure size 864x288 with 1 Axes>"
      ]
     },
     "metadata": {
      "needs_background": "light"
     },
     "output_type": "display_data"
    }
   ],
   "source": [
    "\n",
    "# histogram: alpha-numeric characters in document\n",
    "plt.figure(figsize=(12,4))\n",
    "plt.hist(df['count'],50)\n",
    "plt.xlabel('char_count')\n",
    "plt.ylabel('frequency')\n",
    "plt.title(\"Frequency plot : alpha-numeric characters\")\n",
    "# plt.show()\n",
    "plt.savefig('plot_1.png')\n",
    "df = df.drop('count',axis=1)   ## drop new column count after creating the histogram"
   ]
  },
  {
   "cell_type": "code",
   "execution_count": 7,
   "id": "73c13b7e",
   "metadata": {},
   "outputs": [
    {
     "data": {
      "image/png": "[encoded data removed]",
      "text/plain": [
       "<Figure size 864x288 with 1 Axes>"
      ]
     },
     "metadata": {
      "needs_background": "light"
     },
     "output_type": "display_data"
    }
   ],
   "source": [
    "# histogram: leaf_label\n",
    "leaf_label_counts = pd.DataFrame(df['leaf_label'].value_counts()).reset_index()\n",
    "\n",
    "plt.figure(figsize=(12,4))\n",
    "plt.bar(leaf_label_counts['index'],leaf_label_counts['leaf_label'] ,0.5)\n",
    "plt.xlabel('class')\n",
    "plt.ylabel('frequency')\n",
    "plt.title(\"Frequency plot : leaf_label\")\n",
    "plt.savefig('plot_2.png')"
   ]
  },
  {
   "cell_type": "code",
   "execution_count": 8,
   "id": "8836825c",
   "metadata": {},
   "outputs": [
    {
     "data": {
      "image/png": "[encoded data removed]",
      "text/plain": [
       "<Figure size 648x288 with 1 Axes>"
      ]
     },
     "metadata": {
      "needs_background": "light"
     },
     "output_type": "display_data"
    }
   ],
   "source": [
    "# histogram: root_label\n",
    "root_label_counts = pd.DataFrame(df['root_label'].value_counts()).reset_index()\n",
    "\n",
    "plt.figure(figsize=(9,4))\n",
    "plt.bar(root_label_counts['index'],root_label_counts['root_label'] ,0.5)\n",
    "plt.xlabel('class')\n",
    "plt.ylabel('frequency')\n",
    "plt.title(\"Frequency plot : root_label\")\n",
    "plt.savefig('plot_3.png')\n"
   ]
  },
  {
   "cell_type": "code",
   "execution_count": 9,
   "id": "95d9abc5",
   "metadata": {},
   "outputs": [
    {
     "name": "stdout",
     "output_type": "stream",
     "text": [
      "sample number:2072\n",
      "column number:9\n"
     ]
    }
   ],
   "source": [
    "print(\"sample number:{}\".format(df.shape[0]))\n",
    "print(\"column number:{}\".format(df.shape[1]))"
   ]
  },
  {
   "cell_type": "markdown",
   "id": "52d905a6",
   "metadata": {},
   "source": [
    "## Question2"
   ]
  },
  {
   "cell_type": "code",
   "execution_count": 10,
   "id": "c8c833d4",
   "metadata": {},
   "outputs": [],
   "source": [
    "import numpy as np\n",
    "import random \n",
    "\n",
    "np.random.seed(42)\n",
    "random.seed(42)"
   ]
  },
  {
   "cell_type": "code",
   "execution_count": 11,
   "id": "7d1b6b45",
   "metadata": {},
   "outputs": [
    {
     "name": "stdout",
     "output_type": "stream",
     "text": [
      "train number:1657\n",
      "test number:415\n"
     ]
    }
   ],
   "source": [
    "from sklearn.model_selection import train_test_split\n",
    "\n",
    "def question2(train,test):\n",
    "    \n",
    "    train_num = train.shape[0]\n",
    "    test_num = test.shape[0]\n",
    "    return train_num,test_num\n",
    "\n",
    "train, test = train_test_split(df, test_size=0.2, random_state = 42)\n",
    "\n",
    "train_num,test_num = question2(train,test)\n",
    "print(\"train number:{}\".format(train_num))\n",
    "print(\"test number:{}\".format(test_num))"
   ]
  },
  {
   "cell_type": "markdown",
   "id": "dbb87209",
   "metadata": {},
   "source": [
    "## Question3"
   ]
  },
  {
   "cell_type": "code",
   "execution_count": 12,
   "id": "b694d5f7",
   "metadata": {},
   "outputs": [],
   "source": [
    "## Import libraries\n",
    "import re\n",
    "from sklearn.feature_extraction import text\n",
    "from sklearn.feature_extraction.text import CountVectorizer, TfidfTransformer\n",
    "\n",
    "import nltk\n",
    "from nltk import pos_tag\n",
    "from nltk.tokenize import sent_tokenize\n",
    "from nltk.corpus import stopwords\n",
    "#nltk.download('stopwords' )\n",
    "\n",
    "import string\n",
    "from string import punctuation\n",
    "\n",
    "stop_words_skt = text.ENGLISH_STOP_WORDS\n",
    "stop_words_en = stopwords.words('english')"
   ]
  },
  {
   "cell_type": "code",
   "execution_count": 13,
   "id": "d8f9774b",
   "metadata": {},
   "outputs": [],
   "source": [
    "def clean(text):\n",
    "    '''\n",
    "    Helps remove many HTML artefacts from the crawler's output.\n",
    "    '''\n",
    "    text = re.sub(r'^https?:\\/\\/.*[\\r\\n]*', '', text, flags=re.MULTILINE)\n",
    "    texter = re.sub(r\"<br />\", \" \", text)\n",
    "    texter = re.sub(r\"&quot;\", \"\\\"\",texter)\n",
    "    texter = re.sub('&#39;', \"\\\"\", texter)\n",
    "    texter = re.sub('\\n', \" \", texter)\n",
    "    texter = re.sub(' u ',\" you \", texter)\n",
    "    texter = re.sub('`',\"\", texter)\n",
    "    texter = re.sub(' +', ' ', texter)\n",
    "    texter = re.sub(r\"(!)\\1+\", r\"!\", texter)\n",
    "    texter = re.sub(r\"(\\?)\\1+\", r\"?\", texter)\n",
    "    texter = re.sub('&amp;', 'and', texter)\n",
    "    texter = re.sub('\\r', ' ',texter)\n",
    "    clean = re.compile('<.*?>')\n",
    "    texter = texter.encode('ascii', 'ignore').decode('ascii')\n",
    "    texter = re.sub(clean, '', texter)\n",
    "    if texter == \"\":\n",
    "        texter = \"\"\n",
    "    return texter\n",
    "\n",
    "def clean_data(data):\n",
    "    for index,row in data.iterrows():\n",
    "        row['full_text'] = clean(row['full_text'])\n",
    "    return data"
   ]
  },
  {
   "cell_type": "code",
   "execution_count": 14,
   "id": "9c2d5c5a",
   "metadata": {},
   "outputs": [],
   "source": [
    "# #### IMP: still need to determine the right order of cleaning steps\n",
    "# ## Right now the order is --> clean html, remove_punctuation, lemmatize, remove digit, stopwords and chars\n",
    "\n",
    "# ## Building 6 analyzers for [clean, no clean]*[lemmatize, stem, no compression] combinations\n",
    "\n",
    "\n",
    "# combined_stopwords = set.union(set(stop_words_en),set(punctuation),set(stop_words_skt))\n",
    "# wnl = nltk.wordnet.WordNetLemmatizer()\n",
    "# stemmer = nltk.stem.PorterStemmer()\n",
    "# analyzer = CountVectorizer().build_analyzer()\n",
    "\n",
    "# def penn2morphy(penntag):\n",
    "#     \"\"\" \n",
    "#     Converts Penn Treebank tags to WordNet. \n",
    "#     \"\"\"\n",
    "#     morphy_tag = {'NN':'n', 'JJ':'a',\n",
    "#                   'VB':'v', 'RB':'r'}\n",
    "#     try:\n",
    "#         return morphy_tag[penntag[:2]]\n",
    "#     except:\n",
    "#         return 'n' \n",
    "\n",
    "# def lemmatize_sent(list_word): \n",
    "#     '''\n",
    "#     Returns lemmatized set of tokens with pos tagging\n",
    "#     '''\n",
    "#     return [wnl.lemmatize(word.lower(), pos=penn2morphy(tag)) \n",
    "#             for word, tag in pos_tag(list_word)]\n",
    "\n",
    "# def clean_tokens_lemma (tokens: list):\n",
    "#     '''\n",
    "#     Cleans set of tokens at sentence level by applying lemmatization at sentence level\n",
    "#     '''\n",
    "#     lower_txt = [token.lower() for token in tokens]\n",
    "#     lemmatize_tokens = lemmatize_sent(lower_txt) \n",
    "#     remove_words = [token for token in lemmatize_tokens if (not token.isdigit())\\\n",
    "#                      and (token not in combined_stopwords) and (len(token)>1)]\n",
    "#     return remove_words\n",
    "\n",
    "# def doc_tokens_lemma (doc):\n",
    "#     '''\n",
    "#     Split the document at sentence level, clean it and return clean set of tokens at doc level\n",
    "#     '''\n",
    "#     doc = clean(doc)\n",
    "#     list_sentences = sent_tokenize(doc)\n",
    "#     doc_tokens = []\n",
    "#     for sentence in list_sentences:\n",
    "#         sentence = sentence.translate(str.maketrans('', '', string.punctuation))\n",
    "#         tokens = nltk.word_tokenize(sentence)\n",
    "#         tokens = clean_tokens_lemma(tokens)\n",
    "#         doc_tokens.extend(tokens)\n",
    "# #     print(doc_tokens)\n",
    "#     return (word for word in doc_tokens)     \n",
    "\n",
    "# def doc_tokens_lemma_woClean (doc):\n",
    "#     '''\n",
    "#     Perform lemmatization without any text cleaning\n",
    "#     '''\n",
    "#     list_sentences = sent_tokenize(doc)\n",
    "#     doc_tokens = []\n",
    "#     for sentence in list_sentences:\n",
    "#         tokens = nltk.word_tokenize(sentence)\n",
    "#         tokens = lemmatize_sent(tokens)\n",
    "#         doc_tokens.extend(tokens)\n",
    "# #     print(doc_tokens)\n",
    "#     return (word for word in doc_tokens)   \n",
    "\n",
    "# def doc_tokens_stem (doc):\n",
    "#     '''\n",
    "#     Clean full text using stemming. This function does not require split at sentence level.\n",
    "#     '''\n",
    "#     doc = clean(doc)\n",
    "#     doc = doc.translate(str.maketrans('', '', string.punctuation))\n",
    "#     tokens = nltk.word_tokenize(doc)\n",
    "#     lower_txt = [token.lower() for token in tokens]\n",
    "#     stem_tokens = [stemmer.stem(token) for token in lower_txt] \n",
    "#     remove_words = [token for token in stem_tokens if (not token.isdigit())\\\n",
    "#                      and (token not in combined_stopwords) and (len(token)>1)]\n",
    "#     return (word for word in remove_words)\n",
    "\n",
    "# def doc_tokens_stem_woClean (doc):\n",
    "#     '''\n",
    "#     Clean full text using stemming. This function does not require split at sentence level.\n",
    "#     '''\n",
    "#     tokens = nltk.word_tokenize(doc)\n",
    "#     lower_txt = [token.lower() for token in tokens]\n",
    "#     stem_tokens = [stemmer.stem(token) for token in lower_txt] \n",
    "#     return (word for word in stem_tokens)\n",
    "    \n",
    "# def doc_tokens (doc):\n",
    "#     '''\n",
    "#     Clean full text without any stemming or lemmatization\n",
    "#     '''\n",
    "#     doc = clean(doc)\n",
    "#     doc = doc.translate(str.maketrans('', '', string.punctuation))\n",
    "#     tokens = nltk.word_tokenize(doc)\n",
    "#     lower_txt = [token.lower() for token in tokens]\n",
    "#     remove_words = [token for token in lower_txt if (not token.isdigit())\\\n",
    "#                      and (token not in combined_stopwords) and (len(token)>1)]\n",
    "#     return (word for word in remove_words)\n",
    "    \n",
    "# def doc_tokens_woClean (doc):\n",
    "#     '''\n",
    "#     Clean full text using stemming. This function does not require split at sentence level.\n",
    "#     '''\n",
    "#     tokens = nltk.word_tokenize(doc)\n",
    "#     lower_txt = [token.lower() for token in tokens]\n",
    "#     return (word for word in lower_txt)"
   ]
  },
  {
   "cell_type": "code",
   "execution_count": 15,
   "id": "eec52d5f",
   "metadata": {},
   "outputs": [],
   "source": [
    "#### IMP: still need to determine the right order of cleaning steps\n",
    "## Right now the order is --> clean html, remove_punctuation, lemmatize, remove digit, stopwords and chars\n",
    "\n",
    "## Building 6 analyzers for [clean, no clean]*[lemmatize, stem, no compression] combinations\n",
    "\n",
    "\n",
    "combined_stopwords = set.union(set(stop_words_en),set(punctuation),set(stop_words_skt))\n",
    "wnl = nltk.wordnet.WordNetLemmatizer()\n",
    "stemmer = nltk.stem.PorterStemmer()\n",
    "analyzer = CountVectorizer().build_analyzer()\n",
    "\n",
    "def penn2morphy(penntag):\n",
    "    \"\"\" \n",
    "    Converts Penn Treebank tags to WordNet. \n",
    "    \"\"\"\n",
    "    morphy_tag = {'NN':'n', 'JJ':'a',\n",
    "                  'VB':'v', 'RB':'r'}\n",
    "    try:\n",
    "        return morphy_tag[penntag[:2]]\n",
    "    except:\n",
    "        return 'n' \n",
    "\n",
    "def lemmatize_sent(list_word): \n",
    "    '''\n",
    "    Returns lemmatized set of tokens with pos tagging\n",
    "    '''\n",
    "    return [wnl.lemmatize(word.lower(), pos=penn2morphy(tag)) \n",
    "            for word, tag in pos_tag(list_word)]\n",
    "\n",
    "def stem_rmv_punc(doc): # this should have been at the sentence-level because the pos-tag performs best at sentence-level\n",
    "    return (word for word in lemmatize_sent(analyzer(doc)) if word not in combined_stopwords and not word.isdigit())\n",
    "\n",
    "def clean_tokens_lemma (tokens: list):\n",
    "    '''\n",
    "    Cleans set of tokens at sentence level by applying lemmatization at sentence level\n",
    "    '''\n",
    "    lower_txt = [token.lower() for token in tokens]\n",
    "    remove_words = [token for token in lower_txt if (not token.isdigit())\\\n",
    "                     and (token not in combined_stopwords) and (len(token)>1)]\n",
    "    lemmatize_tokens = lemmatize_sent(remove_words) \n",
    "    return lemmatize_tokens\n",
    "\n",
    "def doc_tokens_lemma (doc):\n",
    "    '''\n",
    "    Split the document at sentence level, clean it and return clean set of tokens at doc level\n",
    "    '''\n",
    "    doc = clean(doc)\n",
    "    list_sentences = sent_tokenize(doc)\n",
    "    doc_tokens = []\n",
    "    for sentence in list_sentences:\n",
    "        sentence = sentence.translate(str.maketrans('', '', string.punctuation))\n",
    "        tokens = nltk.word_tokenize(sentence)\n",
    "        tokens = clean_tokens_lemma(tokens)\n",
    "        doc_tokens.extend(tokens)\n",
    "#     print(doc_tokens)\n",
    "    return (word for word in doc_tokens)     \n",
    "\n",
    "def doc_tokens_lemma_woClean (doc):\n",
    "    '''\n",
    "    Perform lemmatization without any text cleaning\n",
    "    '''\n",
    "    list_sentences = sent_tokenize(doc)\n",
    "    doc_tokens = []\n",
    "    for sentence in list_sentences:\n",
    "        tokens = nltk.word_tokenize(sentence)\n",
    "        tokens = lemmatize_sent(tokens)\n",
    "        doc_tokens.extend(tokens)\n",
    "#     print(doc_tokens)\n",
    "    return (word for word in doc_tokens)   \n",
    "\n",
    "def doc_tokens_stem (doc):\n",
    "    '''\n",
    "    Clean full text using stemming. This function does not require split at sentence level.\n",
    "    '''\n",
    "    doc = clean(doc)\n",
    "    doc = doc.translate(str.maketrans('', '', string.punctuation))\n",
    "    tokens = nltk.word_tokenize(doc)\n",
    "    lower_txt = [token.lower() for token in tokens]\n",
    "    remove_words = [token for token in lower_txt if (not token.isdigit())\\\n",
    "                     and (token not in combined_stopwords) and (len(token)>1)]\n",
    "    stem_tokens = [stemmer.stem(token) for token in remove_words] \n",
    "    return (word for word in stem_tokens)\n",
    "\n",
    "def doc_tokens_stem_woClean (doc):\n",
    "    '''\n",
    "    Clean full text using stemming. This function does not require split at sentence level.\n",
    "    '''\n",
    "    tokens = nltk.word_tokenize(doc)\n",
    "    lower_txt = [token.lower() for token in tokens]\n",
    "    stem_tokens = [stemmer.stem(token) for token in lower_txt] \n",
    "    return (word for word in stem_tokens)\n",
    "    \n",
    "def doc_tokens (doc):\n",
    "    '''\n",
    "    Clean full text without any stemming or lemmatization\n",
    "    '''\n",
    "    doc = clean(doc)\n",
    "    doc = doc.translate(str.maketrans('', '', string.punctuation))\n",
    "    tokens = nltk.word_tokenize(doc)\n",
    "    lower_txt = [token.lower() for token in tokens]\n",
    "    remove_words = [token for token in lower_txt if (not token.isdigit())\\\n",
    "                     and (token not in combined_stopwords) and (len(token)>1)]\n",
    "    return (word for word in remove_words)\n",
    "    \n",
    "def doc_tokens_woClean (doc):\n",
    "    '''\n",
    "    Clean full text using stemming. This function does not require split at sentence level.\n",
    "    '''\n",
    "    tokens = nltk.word_tokenize(doc)\n",
    "    lower_txt = [token.lower() for token in tokens]\n",
    "    return (word for word in lower_txt)"
   ]
  },
  {
   "cell_type": "code",
   "execution_count": 16,
   "id": "e346e42a",
   "metadata": {},
   "outputs": [],
   "source": [
    "## stemming vs lemmatization"
   ]
  },
  {
   "cell_type": "code",
   "execution_count": 17,
   "id": "eae70349",
   "metadata": {},
   "outputs": [
    {
     "name": "stdout",
     "output_type": "stream",
     "text": [
      "Lemmatization dictionary size is:  10614\n"
     ]
    }
   ],
   "source": [
    "count_vectorizer_lemma = CountVectorizer(min_df=3, stop_words='english', analyzer=doc_tokens_lemma, max_df=0.7)\n",
    "X_train_counts = count_vectorizer_lemma.fit_transform(train['full_text'])\n",
    "print(\"Lemmatization dictionary size is: \", X_train_counts.shape[1])"
   ]
  },
  {
   "cell_type": "code",
   "execution_count": 18,
   "id": "bc5ec326",
   "metadata": {},
   "outputs": [
    {
     "name": "stdout",
     "output_type": "stream",
     "text": [
      "Stemming dictionary size is:  9351\n"
     ]
    }
   ],
   "source": [
    "count_vectorizer_stem = CountVectorizer(min_df=3, stop_words='english', analyzer=doc_tokens_stem, max_df=0.7)\n",
    "X_train_counts = count_vectorizer_stem.fit_transform(train['full_text'])\n",
    "print(\"Stemming dictionary size is: \", X_train_counts.shape[1])"
   ]
  },
  {
   "cell_type": "code",
   "execution_count": 19,
   "id": "349c4879",
   "metadata": {},
   "outputs": [],
   "source": [
    "# impact of minimum data frequency on tf-idf"
   ]
  },
  {
   "cell_type": "code",
   "execution_count": 20,
   "id": "7c495c46",
   "metadata": {},
   "outputs": [
    {
     "name": "stdout",
     "output_type": "stream",
     "text": [
      "(1657, 34414)\n",
      "(1657, 15324)\n",
      "(1657, 10614)\n",
      "(1657, 8331)\n"
     ]
    }
   ],
   "source": [
    "min_dfs = range(1,5)\n",
    "for min_df in min_dfs:\n",
    "    count_vectorizer1 = CountVectorizer(min_df=min_df, stop_words='english', analyzer=doc_tokens_lemma, max_df=0.7)\n",
    "    X_train_counts1 = count_vectorizer1.fit_transform(train['full_text'])\n",
    "    \n",
    "    transformer1 = TfidfTransformer()\n",
    "    X_train_tfidf = transformer1.fit_transform(X_train_counts1)\n",
    "    \n",
    "    print(X_train_tfidf.shape)"
   ]
  },
  {
   "cell_type": "code",
   "execution_count": 21,
   "id": "62c1b96c",
   "metadata": {},
   "outputs": [
    {
     "name": "stdout",
     "output_type": "stream",
     "text": [
      "(1657, 29305)\n",
      "(1657, 13329)\n",
      "(1657, 9351)\n",
      "(1657, 7434)\n"
     ]
    }
   ],
   "source": [
    "min_dfs = range(1,5)\n",
    "for min_df in min_dfs:\n",
    "    count_vectorizer1 = CountVectorizer(min_df=min_df, stop_words='english', analyzer=doc_tokens_stem, max_df=0.7)\n",
    "    X_train_counts1 = count_vectorizer1.fit_transform(train['full_text'])\n",
    "    \n",
    "    transformer1 = TfidfTransformer()\n",
    "    X_train_tfidf = transformer1.fit_transform(X_train_counts1)\n",
    "    \n",
    "    print(X_train_tfidf.shape)"
   ]
  },
  {
   "cell_type": "code",
   "execution_count": 22,
   "id": "627845ca",
   "metadata": {},
   "outputs": [],
   "source": [
    "## tf-idf processed train and test"
   ]
  },
  {
   "cell_type": "code",
   "execution_count": 23,
   "id": "0a9ee918",
   "metadata": {},
   "outputs": [
    {
     "name": "stdout",
     "output_type": "stream",
     "text": [
      "TF-IDF processed train data shape: (1657, 10614)\n",
      "TF-IDF processed test data shape: (415, 10614)\n"
     ]
    }
   ],
   "source": [
    "count_vectorizer = CountVectorizer(min_df=3, stop_words='english', analyzer=doc_tokens_lemma, max_df=0.7)\n",
    "transformer = TfidfTransformer()\n",
    "\n",
    "X_train_counts = count_vectorizer.fit_transform(train['full_text'])\n",
    "X_train_tfidf = transformer.fit_transform(X_train_counts)\n",
    "\n",
    "X_test_counts = count_vectorizer.transform(test['full_text'])\n",
    "X_test_tfidf = transformer.transform(X_test_counts)\n",
    "\n",
    "print('TF-IDF processed train data shape:', X_train_tfidf.shape)\n",
    "print('TF-IDF processed test data shape:', X_test_tfidf.shape)"
   ]
  },
  {
   "cell_type": "markdown",
   "id": "64c23188",
   "metadata": {},
   "source": [
    "## Question 4"
   ]
  },
  {
   "cell_type": "code",
   "execution_count": 24,
   "id": "84f379ac",
   "metadata": {
    "scrolled": true
   },
   "outputs": [
    {
     "data": {
      "image/png": "[encoded data removed]",
      "text/plain": [
       "<Figure size 432x288 with 1 Axes>"
      ]
     },
     "metadata": {
      "needs_background": "light"
     },
     "output_type": "display_data"
    }
   ],
   "source": [
    "from sklearn.decomposition import TruncatedSVD\n",
    "# Run LSI for various k values\n",
    "k_list = [1,10,50,100,200,500,1000,2000]\n",
    "explained_ratio = []\n",
    "for k in k_list:\n",
    "    svd = TruncatedSVD(n_components=k, n_iter = 20, random_state=42)\n",
    "    svd.fit(X_train_tfidf)\n",
    "    # print(svd.explained_variance_ratio_.sum())\n",
    "    explained_ratio.append(svd.explained_variance_ratio_.sum())\n",
    "\n",
    "# plotting the explained variance ratio across number of components\n",
    "plt.plot(k_list, explained_ratio)\n",
    "plt.xlabel('n_components')\n",
    "plt.ylabel('explained_variance_ratio')\n",
    "plt.title('LSI')\n",
    "plt.show()"
   ]
  },
  {
   "cell_type": "code",
   "execution_count": 25,
   "id": "1111a13b",
   "metadata": {},
   "outputs": [],
   "source": [
    "# reconstruction residual"
   ]
  },
  {
   "cell_type": "code",
   "execution_count": 26,
   "id": "f0412977",
   "metadata": {},
   "outputs": [],
   "source": [
    "SVD_50 = TruncatedSVD(n_components=50, n_iter = 20, random_state=42)\n",
    "X_train_lsi = SVD_50.fit_transform(X_train_tfidf)\n",
    "X_test_lsi = SVD_50.transform(X_test_tfidf)\n"
   ]
  },
  {
   "cell_type": "code",
   "execution_count": 27,
   "id": "8e367223",
   "metadata": {},
   "outputs": [],
   "source": [
    "## For NMF\n",
    "from sklearn.decomposition import NMF\n",
    "\n",
    "NMF_50 = NMF(n_components=50, max_iter = 500, init='random', random_state=42)\n",
    "X_train_nmf = NMF_50.fit_transform(X_train_tfidf)\n",
    "X_test_nmf = NMF_50.transform(X_test_tfidf)"
   ]
  },
  {
   "cell_type": "code",
   "execution_count": 28,
   "id": "19ed41b5",
   "metadata": {},
   "outputs": [
    {
     "name": "stdout",
     "output_type": "stream",
     "text": [
      "6.766065165465466e-05 6.887313300219922e-05 1189.97480958977 303.37306497941717\n"
     ]
    }
   ],
   "source": [
    "VT = SVD_50.components_\n",
    "X_train_svd_recons = np.matmul(X_train_lsi, VT)\n",
    "norm_train = ((X_train_tfidf.toarray() - X_train_svd_recons)**2).sum(axis = None)\n",
    "mse_train = ((X_train_tfidf.toarray() - X_train_svd_recons)**2).mean(axis = None)\n",
    "X_test_svd_recons = np.matmul(X_test_lsi, VT)\n",
    "norm_test = ((X_test_tfidf.toarray() - X_test_svd_recons)**2).sum(axis = None)\n",
    "mse_test = ((X_test_tfidf.toarray() - X_test_svd_recons)**2).mean(axis = None)\n",
    "print(mse_train, mse_test, norm_train, norm_test)"
   ]
  },
  {
   "cell_type": "code",
   "execution_count": 29,
   "id": "7260dac9",
   "metadata": {},
   "outputs": [
    {
     "name": "stdout",
     "output_type": "stream",
     "text": [
      "6.88544602260256e-05 6.964009639149524e-05 1210.9707960702822 306.75139298622213\n"
     ]
    }
   ],
   "source": [
    "H = NMF_50.components_\n",
    "X_train_nmf_recons = np.matmul(X_train_nmf, H)\n",
    "norm_train = ((X_train_tfidf.toarray() - X_train_nmf_recons)**2).sum(axis = None)\n",
    "mse_train = ((X_train_tfidf.toarray() - X_train_nmf_recons)**2).mean(axis = None)\n",
    "X_test_nmf_recons = np.matmul(X_test_nmf, H)\n",
    "norm_test = ((X_test_tfidf.toarray() - X_test_nmf_recons)**2).sum(axis = None)\n",
    "mse_test = ((X_test_tfidf.toarray() - X_test_nmf_recons)**2).mean(axis = None)\n",
    "print(mse_train, mse_test, norm_train, norm_test)\n"
   ]
  },
  {
   "cell_type": "markdown",
   "id": "42430593",
   "metadata": {},
   "source": [
    "Why?\n",
    "\n",
    "Both NMF and SVD represent a set of vectors in a given basis. The basis in NMF is composed of vectors with positive elements while the basis in SVD can have positive or negative values.\n",
    "\n",
    "The difference then is that NMF reconstructs each vector as a positive summation of the basis vectors, in other words you take a little of each vector in the basis to reconstruct your data.\n",
    "\n",
    "In SVD the data is modeled as a linear combination of the basis you can add or substract vectors as needed."
   ]
  },
  {
   "cell_type": "markdown",
   "id": "78f71257",
   "metadata": {},
   "source": [
    "## Question 5"
   ]
  },
  {
   "cell_type": "code",
   "execution_count": 30,
   "id": "c1be545c",
   "metadata": {},
   "outputs": [],
   "source": [
    "## Data pre-processing\n",
    "from sklearn.preprocessing import LabelEncoder, StandardScaler\n",
    "label_encoder = LabelEncoder()\n",
    "\n",
    "## train model\n",
    "y_train = label_encoder.fit_transform(train['root_label'])\n",
    "y_test = label_encoder.fit_transform(test['root_label'])"
   ]
  },
  {
   "cell_type": "markdown",
   "id": "53e0e2b8",
   "metadata": {},
   "source": [
    "### Train SVM model"
   ]
  },
  {
   "cell_type": "code",
   "execution_count": 31,
   "id": "cbb5a8ee",
   "metadata": {},
   "outputs": [
    {
     "data": {
      "text/plain": [
       "SVC(C=0.0001, kernel='linear', random_state=42)"
      ]
     },
     "execution_count": 31,
     "metadata": {},
     "output_type": "execute_result"
    }
   ],
   "source": [
    "# train linear SVM\n",
    "\n",
    "from sklearn.svm import SVC\n",
    "\n",
    "svm_hard = SVC(kernel='linear', C=1000, random_state=42)\n",
    "svm_soft = SVC(kernel='linear', C=0.0001, random_state=42)\n",
    "\n",
    "svm_hard.fit(X_train_lsi, y_train)\n",
    "svm_soft.fit(X_train_lsi, y_train)"
   ]
  },
  {
   "cell_type": "code",
   "execution_count": 32,
   "id": "846d7ac9",
   "metadata": {},
   "outputs": [],
   "source": [
    "# plot ROC\n",
    "from sklearn import metrics\n",
    "\n",
    "def plot_ROC(fpr,tpr):\n",
    "    fig = plt.figure()\n",
    "    roc_auc = metrics.auc(fpr,tpr)\n",
    "    plt.plot(fpr,tpr,label=\"area under curve = %0.3f\" %roc_auc)\n",
    "    plt.xlabel('False positive rate',fontsize=10)\n",
    "    plt.ylabel('True positive rate',fontsize=10)\n",
    "    plt.grid()\n",
    "    plt.legend()\n",
    "    plt.savefig('plot.png')\n",
    "    return roc_auc\n",
    "    "
   ]
  },
  {
   "cell_type": "code",
   "execution_count": 33,
   "id": "ece38258",
   "metadata": {},
   "outputs": [
    {
     "data": {
      "image/png": "[encoded data removed]",
      "text/plain": [
       "<Figure size 432x288 with 1 Axes>"
      ]
     },
     "metadata": {
      "needs_background": "light"
     },
     "output_type": "display_data"
    }
   ],
   "source": [
    "# plot ROC curve for svm_hard\n",
    "score_hard = svm_hard.decision_function(X_test_lsi)\n",
    "fpr_hard,tpr_hard,_ = metrics.roc_curve(y_test,score_hard)\n",
    "auc_hard = plot_ROC(fpr_hard,tpr_hard)"
   ]
  },
  {
   "cell_type": "code",
   "execution_count": 34,
   "id": "a123a352",
   "metadata": {},
   "outputs": [
    {
     "data": {
      "image/png": "[encoded data removed]",
      "text/plain": [
       "<Figure size 432x288 with 1 Axes>"
      ]
     },
     "metadata": {
      "needs_background": "light"
     },
     "output_type": "display_data"
    }
   ],
   "source": [
    "# plot ROC curve for svm_hard\n",
    "score_soft = svm_soft.decision_function(X_test_lsi)\n",
    "fpr_soft,tpr_soft,_ = metrics.roc_curve(y_test,score_soft)\n",
    "auc_soft = plot_ROC(fpr_soft,tpr_soft)"
   ]
  },
  {
   "cell_type": "code",
   "execution_count": 35,
   "id": "893ae617",
   "metadata": {},
   "outputs": [
    {
     "name": "stdout",
     "output_type": "stream",
     "text": [
      "SVM_hard is better\n"
     ]
    }
   ],
   "source": [
    "# comparison\n",
    "if auc_hard > auc_soft:\n",
    "    print('SVM_hard is better')\n",
    "else:\n",
    "    print('SVM_soft is better')"
   ]
  },
  {
   "cell_type": "code",
   "execution_count": 36,
   "id": "4b44ca19",
   "metadata": {},
   "outputs": [
    {
     "data": {
      "text/plain": [
       "SVC(C=100000, kernel='linear', random_state=42)"
      ]
     },
     "execution_count": 36,
     "metadata": {},
     "output_type": "execute_result"
    }
   ],
   "source": [
    "svm_veryHard = SVC(kernel='linear', C=100000, random_state=42)\n",
    "svm_veryHard.fit(X_train_lsi, y_train)"
   ]
  },
  {
   "cell_type": "code",
   "execution_count": 37,
   "id": "ef166a2a",
   "metadata": {},
   "outputs": [
    {
     "data": {
      "image/png": "[encoded data removed]",
      "text/plain": [
       "<Figure size 432x288 with 1 Axes>"
      ]
     },
     "metadata": {
      "needs_background": "light"
     },
     "output_type": "display_data"
    }
   ],
   "source": [
    "# plot ROC curve for svm_veryHard\n",
    "score_veryHard = svm_veryHard.decision_function(X_test_lsi)\n",
    "fpr_veryHard,tpr_veryHard,_ = metrics.roc_curve(y_test,score_veryHard)\n",
    "auc_veryHard = plot_ROC(fpr_veryHard,tpr_veryHard)"
   ]
  },
  {
   "cell_type": "code",
   "execution_count": 38,
   "id": "d51e2337",
   "metadata": {},
   "outputs": [],
   "source": [
    "def evaluation(classifier,test_data,y_test):\n",
    "    y_test_pred = classifier.predict(test_data)\n",
    "    print('-'*20)\n",
    "    print(\"Confusion matrix on test set is: \")\n",
    "    print(metrics.confusion_matrix(y_test, y_test_pred))\n",
    "    print('-'*20)\n",
    "    print('-'*20)\n",
    "    print(\"Performance metrics on test set is: \")\n",
    "    print (\"Precision is: \", metrics.precision_score(y_test, y_test_pred))\n",
    "    print (\"Recall is: \", metrics.recall_score(y_test, y_test_pred))\n",
    "    print (\"Accuracy is: \", metrics.accuracy_score(y_test, y_test_pred))\n",
    "    print (\"F1 score is: \", metrics.f1_score(y_test, y_test_pred))\n",
    "    print('-'*20)"
   ]
  },
  {
   "cell_type": "code",
   "execution_count": 39,
   "id": "be2aed3a",
   "metadata": {},
   "outputs": [
    {
     "name": "stdout",
     "output_type": "stream",
     "text": [
      "Performance of SVM hard\n",
      "________________________________________\n",
      "--------------------\n",
      "Confusion matrix on test set is: \n",
      "[[199   7]\n",
      " [  3 206]]\n",
      "--------------------\n",
      "--------------------\n",
      "Performance metrics on test set is: \n",
      "Precision is:  0.9671361502347418\n",
      "Recall is:  0.9856459330143541\n",
      "Accuracy is:  0.9759036144578314\n",
      "F1 score is:  0.976303317535545\n",
      "--------------------\n",
      "____________________________________________________________\n",
      "Performance of SVM soft\n",
      "________________________________________\n",
      "--------------------\n",
      "Confusion matrix on test set is: \n",
      "[[206   0]\n",
      " [209   0]]\n",
      "--------------------\n",
      "--------------------\n",
      "Performance metrics on test set is: \n",
      "Precision is:  0.0\n",
      "Recall is:  0.0\n",
      "Accuracy is:  0.4963855421686747\n",
      "F1 score is:  0.0\n",
      "--------------------\n"
     ]
    },
    {
     "name": "stderr",
     "output_type": "stream",
     "text": [
      "/Users/reemakumari/.conda/envs/kaggle/lib/python3.8/site-packages/sklearn/metrics/_classification.py:1318: UndefinedMetricWarning: Precision is ill-defined and being set to 0.0 due to no predicted samples. Use `zero_division` parameter to control this behavior.\n",
      "  _warn_prf(average, modifier, msg_start, len(result))\n"
     ]
    }
   ],
   "source": [
    "print(\"Performance of SVM hard\")\n",
    "print('_' * 40)\n",
    "evaluation(svm_hard,X_test_lsi,y_test)\n",
    "print('_' * 60)\n",
    "print(\"Performance of SVM soft\")\n",
    "print('_' * 40)\n",
    "evaluation(svm_soft,X_test_lsi,y_test)"
   ]
  },
  {
   "cell_type": "code",
   "execution_count": 40,
   "id": "b55da641",
   "metadata": {},
   "outputs": [
    {
     "name": "stdout",
     "output_type": "stream",
     "text": [
      "Performance of Very hard SVM\n",
      "________________________________________\n",
      "--------------------\n",
      "Confusion matrix on test set is: \n",
      "[[199   7]\n",
      " [  3 206]]\n",
      "--------------------\n",
      "--------------------\n",
      "Performance metrics on test set is: \n",
      "Precision is:  0.9671361502347418\n",
      "Recall is:  0.9856459330143541\n",
      "Accuracy is:  0.9759036144578314\n",
      "F1 score is:  0.976303317535545\n",
      "--------------------\n"
     ]
    }
   ],
   "source": [
    "print(\"Performance of Very hard SVM\")\n",
    "print('_' * 40)\n",
    "evaluation(svm_veryHard,X_test_lsi,y_test)"
   ]
  },
  {
   "cell_type": "markdown",
   "id": "5ad407bf",
   "metadata": {},
   "source": [
    "### Use cross-validation to choose $\\gamma$"
   ]
  },
  {
   "cell_type": "code",
   "execution_count": 41,
   "id": "cd1e5cfb",
   "metadata": {},
   "outputs": [
    {
     "name": "stdout",
     "output_type": "stream",
     "text": [
      "-------------------- C = 0.001 --------------------\n",
      "[0.47289157 0.48795181 0.50151057 0.46223565 0.50151057]\n",
      "0.4852200342154115\n",
      "-------------------- C = 0.01 --------------------\n",
      "[0.47289157 0.48795181 0.50151057 0.46223565 0.50151057]\n",
      "0.4852200342154115\n",
      "-------------------- C = 0.1 --------------------\n",
      "[0.96084337 0.94879518 0.9305136  0.9244713  0.93655589]\n",
      "0.9402358679430713\n",
      "-------------------- C = 1 --------------------\n",
      "[0.96084337 0.94879518 0.94561934 0.92749245 0.95166163]\n",
      "0.9468823936228297\n",
      "-------------------- C = 10 --------------------\n",
      "[0.96987952 0.96385542 0.95770393 0.93353474 0.95468278]\n",
      "0.9559312779820187\n",
      "-------------------- C = 100 --------------------\n",
      "[0.96385542 0.95783133 0.95770393 0.94259819 0.95166163]\n",
      "0.9547300986423034\n",
      "-------------------- C = 1000 --------------------\n",
      "[0.96084337 0.94578313 0.96374622 0.94561934 0.93957704]\n",
      "0.9511138208422816\n",
      "-------------------- C = 10000 --------------------\n",
      "[0.95783133 0.94277108 0.95770393 0.93655589 0.93655589]\n",
      "0.9462836239216685\n",
      "-------------------- C = 100000 --------------------\n",
      "[0.95783133 0.93975904 0.96072508 0.93957704 0.94259819]\n",
      "0.9480981327121174\n",
      "-------------------- C = 1000000 --------------------\n",
      "[0.95783133 0.93975904 0.96072508 0.93957704 0.94259819]\n",
      "0.9480981327121174\n",
      "-------------------- Result --------------------\n",
      "The best classifier is when C = 10\n",
      "Average Accuracy is: 0.9559312779820187\n"
     ]
    }
   ],
   "source": [
    "from sklearn.model_selection import cross_val_score\n",
    "from sklearn.model_selection import ShuffleSplit\n",
    "from sklearn.model_selection import KFold\n",
    "\n",
    "def cross_validate(classifier, train, label):\n",
    "    avg_score = []\n",
    "\n",
    "    for k in range(-3, 7):\n",
    "        classifier.set_params(C=10**k).fit(train, label)\n",
    "        cv = KFold(n_splits=5, random_state=42,shuffle=True)\n",
    "        scores = cross_val_score(classifier, train, label, cv=cv, scoring='accuracy', n_jobs = -1)\n",
    "    \n",
    "        print('-'*20,'C =',10**k,'-'*20)\n",
    "        print(scores)\n",
    "        print(np.average(scores))\n",
    "        avg_score.append(np.average(scores))\n",
    "\n",
    "    max_score = np.max(avg_score)\n",
    "    index = avg_score.index(max_score)\n",
    "    c_idx = [x for x in range(-3,7)][index]\n",
    "    print('-'*20,'Result','-'*20)\n",
    "    print('The best classifier is when C =', 10**c_idx)\n",
    "    print('Average Accuracy is:', max_score)\n",
    "    \n",
    "    return classifier.set_params(C=10**c_idx).fit(train,label)\n",
    "\n",
    "svm_best = cross_validate(SVC(kernel='linear', random_state=42), X_train_lsi, y_train)\n"
   ]
  },
  {
   "cell_type": "markdown",
   "id": "3b2e8b90",
   "metadata": {},
   "source": [
    "##### The best $\\gamma$ for SVM is c = 10 "
   ]
  },
  {
   "cell_type": "code",
   "execution_count": 42,
   "id": "6e7d9cff",
   "metadata": {},
   "outputs": [
    {
     "name": "stdout",
     "output_type": "stream",
     "text": [
      "auc_best:0.9940\n"
     ]
    },
    {
     "data": {
      "image/png": "[encoded data removed]",
      "text/plain": [
       "<Figure size 432x288 with 1 Axes>"
      ]
     },
     "metadata": {
      "needs_background": "light"
     },
     "output_type": "display_data"
    }
   ],
   "source": [
    "# plot ROC curve for svm_best\n",
    "svm_best_train = SVC(kernel='linear', C=10, random_state=42)\n",
    "svm_best_train.fit(X_train_lsi, y_train)\n",
    "score_best = svm_best.decision_function(X_test_lsi)\n",
    "fpr_best,tpr_best,_ = metrics.roc_curve(y_test,score_best)\n",
    "auc_best = plot_ROC(fpr_soft,tpr_soft)\n",
    "print(\"auc_best:%0.4f\" % auc_best)"
   ]
  },
  {
   "cell_type": "code",
   "execution_count": 43,
   "id": "414b8259",
   "metadata": {},
   "outputs": [
    {
     "name": "stdout",
     "output_type": "stream",
     "text": [
      "Performance of SVM soft\n",
      "________________________________________\n",
      "--------------------\n",
      "Confusion matrix on test set is: \n",
      "[[199   7]\n",
      " [  3 206]]\n",
      "--------------------\n",
      "--------------------\n",
      "Performance metrics on test set is: \n",
      "Precision is:  0.9671361502347418\n",
      "Recall is:  0.9856459330143541\n",
      "Accuracy is:  0.9759036144578314\n",
      "F1 score is:  0.976303317535545\n",
      "--------------------\n"
     ]
    }
   ],
   "source": [
    "## evaluate this svm_best model\n",
    "print(\"Performance of SVM soft\")\n",
    "print('_' * 40)\n",
    "evaluation(svm_best,X_test_lsi,y_test)\n"
   ]
  },
  {
   "cell_type": "markdown",
   "id": "4fc3c1a4",
   "metadata": {},
   "source": [
    "## Question 6"
   ]
  },
  {
   "cell_type": "code",
   "execution_count": 44,
   "id": "0f2f664a",
   "metadata": {},
   "outputs": [],
   "source": [
    "from sklearn.linear_model import LogisticRegression\n",
    "from sklearn.metrics import classification_report\n",
    "\n",
    "logistic = LogisticRegression(penalty = 'none',solver = 'saga', max_iter=10000)\n",
    "logistic.fit(X_train_lsi, y_train)\n",
    "\n",
    "\n",
    "y_test_pred = logistic.predict(X_test_lsi)\n"
   ]
  },
  {
   "cell_type": "code",
   "execution_count": 45,
   "id": "30ec6bec",
   "metadata": {},
   "outputs": [
    {
     "name": "stdout",
     "output_type": "stream",
     "text": [
      "auc_best:0.9940\n"
     ]
    },
    {
     "data": {
      "image/png": "[encoded data removed]",
      "text/plain": [
       "<Figure size 432x288 with 1 Axes>"
      ]
     },
     "metadata": {
      "needs_background": "light"
     },
     "output_type": "display_data"
    }
   ],
   "source": [
    "# plot ROC curve for logistic regression\n",
    "y_test_pred_prob = logistic.predict_proba(X_test_lsi)[::,1]\n",
    "fpr_best,tpr_best,_ = metrics.roc_curve(y_test,y_test_pred_prob)\n",
    "auc_best = plot_ROC(fpr_soft,tpr_soft)\n",
    "print(\"auc_best:%0.4f\" % auc_best)"
   ]
  },
  {
   "cell_type": "code",
   "execution_count": 46,
   "id": "b21a2074",
   "metadata": {},
   "outputs": [
    {
     "name": "stdout",
     "output_type": "stream",
     "text": [
      "Performance of Logistic regression without regularisation\n",
      "________________________________________\n",
      "--------------------\n",
      "Confusion matrix on test set is: \n",
      "[[199   7]\n",
      " [  3 206]]\n",
      "--------------------\n",
      "--------------------\n",
      "Performance metrics on test set is: \n",
      "Precision is:  0.9671361502347418\n",
      "Recall is:  0.9856459330143541\n",
      "Accuracy is:  0.9759036144578314\n",
      "F1 score is:  0.976303317535545\n",
      "--------------------\n"
     ]
    }
   ],
   "source": [
    "print(\"Performance of Logistic regression without regularisation\")\n",
    "print('_' * 40)\n",
    "evaluation(logistic,X_test_lsi,y_test)"
   ]
  },
  {
   "cell_type": "code",
   "execution_count": 47,
   "id": "e596b98c",
   "metadata": {},
   "outputs": [],
   "source": [
    "## find optimal regularisation strength for L1 and L2 regularisation"
   ]
  },
  {
   "cell_type": "code",
   "execution_count": 48,
   "id": "64040b80",
   "metadata": {},
   "outputs": [],
   "source": [
    "def cross_validate_logistic(classifier, train, label):\n",
    "    avg_score = []\n",
    "\n",
    "    for k in range(-4, 5):\n",
    "        classifier.set_params(C=10**k).fit(train, label)\n",
    "        cv = KFold(n_splits=5, random_state=42,shuffle=True)\n",
    "        scores = cross_val_score(classifier, train, label, cv=cv, scoring='accuracy', n_jobs = -1)\n",
    "    \n",
    "        print('-'*20,'C =',10**k,'-'*20)\n",
    "        print(scores)\n",
    "        print(np.average(scores))\n",
    "        avg_score.append(np.average(scores))\n",
    "\n",
    "    max_score = np.max(avg_score)\n",
    "    index = avg_score.index(max_score)\n",
    "    c_idx = [x for x in range(-4,5)][index]\n",
    "    print('-'*20,'Result','-'*20)\n",
    "    print('The best classifier is when C =', 10**c_idx)\n",
    "    print('Average Accuracy is:', max_score)\n",
    "    \n",
    "    return classifier.set_params(C=10**c_idx).fit(train,label)\n",
    "\n",
    "\n"
   ]
  },
  {
   "cell_type": "code",
   "execution_count": 49,
   "id": "7994fbf5",
   "metadata": {},
   "outputs": [
    {
     "name": "stdout",
     "output_type": "stream",
     "text": [
      "-------------------- C = 0.0001 --------------------\n",
      "[0.47289157 0.48795181 0.49848943 0.46223565 0.49848943]\n",
      "0.48401157500091\n",
      "-------------------- C = 0.001 --------------------\n",
      "[0.52710843 0.48795181 0.49848943 0.46223565 0.49848943]\n",
      "0.49485494849488587\n",
      "-------------------- C = 0.01 --------------------\n",
      "[0.52710843 0.48795181 0.50151057 0.46223565 0.49848943]\n",
      "0.49545917810213663\n",
      "-------------------- C = 0.1 --------------------\n",
      "[0.9186747  0.93072289 0.918429   0.88217523 0.88821752]\n",
      "0.9076438685254613\n",
      "-------------------- C = 1 --------------------\n",
      "[0.96686747 0.96385542 0.96676737 0.93655589 0.93957704]\n",
      "0.9547246387362136\n",
      "-------------------- C = 10 --------------------\n",
      "[0.96987952 0.96987952 0.96676737 0.95166163 0.95468278]\n",
      "0.962574163724384\n",
      "-------------------- C = 100 --------------------\n",
      "[0.96987952 0.95180723 0.96072508 0.95166163 0.93957704]\n",
      "0.9547300986423032\n",
      "-------------------- C = 1000 --------------------\n",
      "[0.96686747 0.95180723 0.96072508 0.95166163 0.94259819]\n",
      "0.9547319186109998\n",
      "-------------------- C = 10000 --------------------\n",
      "[0.96686747 0.95180723 0.96072508 0.95166163 0.94259819]\n",
      "0.9547319186109998\n",
      "-------------------- Result --------------------\n",
      "The best classifier is when C = 10\n",
      "Average Accuracy is: 0.962574163724384\n"
     ]
    }
   ],
   "source": [
    "logisticL1_best = cross_validate_logistic(LogisticRegression(penalty = 'l1', solver='saga', max_iter=10000), X_train_lsi, y_train)\n",
    "\n"
   ]
  },
  {
   "cell_type": "code",
   "execution_count": 50,
   "id": "0a53b69f",
   "metadata": {},
   "outputs": [
    {
     "name": "stdout",
     "output_type": "stream",
     "text": [
      "-------------------- C = 0.0001 --------------------\n",
      "[0.47289157 0.48795181 0.50151057 0.46223565 0.50151057]\n",
      "0.4852200342154115\n",
      "-------------------- C = 0.001 --------------------\n",
      "[0.47289157 0.79819277 0.96374622 0.46223565 0.92749245]\n",
      "0.7249117315182179\n",
      "-------------------- C = 0.01 --------------------\n",
      "[0.90963855 0.93975904 0.94561934 0.85800604 0.92145015]\n",
      "0.9148946238124704\n",
      "-------------------- C = 0.1 --------------------\n",
      "[0.95783133 0.94879518 0.95166163 0.91540785 0.93655589]\n",
      "0.9420503767335202\n",
      "-------------------- C = 1 --------------------\n",
      "[0.96686747 0.96686747 0.95770393 0.9305136  0.95770393]\n",
      "0.9559312779820187\n",
      "-------------------- C = 10 --------------------\n",
      "[0.96987952 0.96686747 0.96676737 0.93655589 0.95166163]\n",
      "0.9583463764423252\n",
      "-------------------- C = 100 --------------------\n",
      "[0.96987952 0.96084337 0.96676737 0.95166163 0.95770393]\n",
      "0.9613711644159719\n",
      "-------------------- C = 1000 --------------------\n",
      "[0.97289157 0.95481928 0.96072508 0.94864048 0.94259819]\n",
      "0.9559349179194117\n",
      "-------------------- C = 10000 --------------------\n",
      "[0.96686747 0.95180723 0.96072508 0.95166163 0.93957704]\n",
      "0.9541276890037491\n",
      "-------------------- Result --------------------\n",
      "The best classifier is when C = 100\n",
      "Average Accuracy is: 0.9613711644159719\n"
     ]
    }
   ],
   "source": [
    "logisticL2_best = cross_validate_logistic(LogisticRegression(penalty = 'l2', solver='saga', max_iter=10000), X_train_lsi, y_train)\n",
    "\n"
   ]
  },
  {
   "cell_type": "code",
   "execution_count": 51,
   "id": "e0618aed",
   "metadata": {},
   "outputs": [
    {
     "name": "stdout",
     "output_type": "stream",
     "text": [
      "Optimal regularisation strength for Logistic regression with L1 regularisation is 10\n",
      "Optimal regularisation strength for Logistic regression with L2 regularisation is 100\n"
     ]
    }
   ],
   "source": [
    "print('Optimal regularisation strength for Logistic \\\n",
    "regression with L1 regularisation is 10')\n",
    "print('Optimal regularisation strength for Logistic \\\n",
    "regression with L2 regularisation is 100')"
   ]
  },
  {
   "cell_type": "code",
   "execution_count": 52,
   "id": "92761ea4",
   "metadata": {},
   "outputs": [
    {
     "data": {
      "text/plain": [
       "LogisticRegression(C=100, max_iter=10000, solver='saga')"
      ]
     },
     "execution_count": 52,
     "metadata": {},
     "output_type": "execute_result"
    }
   ],
   "source": [
    "# fit model on entire train dataset\n",
    "logisticL1 = LogisticRegression(penalty = 'l1', solver='saga', max_iter=10000, C=10)\n",
    "logisticL2 = LogisticRegression(penalty = 'l2', solver='saga', max_iter=10000, C=100)\n",
    "logisticL1.fit(X_train_lsi,y_train)\n",
    "logisticL2.fit(X_train_lsi,y_train)"
   ]
  },
  {
   "cell_type": "code",
   "execution_count": 53,
   "id": "ca65c469",
   "metadata": {},
   "outputs": [
    {
     "name": "stdout",
     "output_type": "stream",
     "text": [
      "Performance of Logistic w/o regularisation is: \n",
      "________________________________________\n",
      "--------------------\n",
      "Confusion matrix on test set is: \n",
      "[[199   7]\n",
      " [  3 206]]\n",
      "--------------------\n",
      "--------------------\n",
      "Performance metrics on test set is: \n",
      "Precision is:  0.9671361502347418\n",
      "Recall is:  0.9856459330143541\n",
      "Accuracy is:  0.9759036144578314\n",
      "F1 score is:  0.976303317535545\n",
      "--------------------\n"
     ]
    }
   ],
   "source": [
    "print(\"Performance of Logistic w/o regularisation is: \")\n",
    "print('_' * 40)\n",
    "evaluation(logistic,X_test_lsi,y_test)"
   ]
  },
  {
   "cell_type": "code",
   "execution_count": 54,
   "id": "f09d9d29",
   "metadata": {},
   "outputs": [
    {
     "name": "stdout",
     "output_type": "stream",
     "text": [
      "Performance of Logistic w L1 regularisation is: \n",
      "________________________________________\n",
      "--------------------\n",
      "Confusion matrix on test set is: \n",
      "[[200   6]\n",
      " [  3 206]]\n",
      "--------------------\n",
      "--------------------\n",
      "Performance metrics on test set is: \n",
      "Precision is:  0.9716981132075472\n",
      "Recall is:  0.9856459330143541\n",
      "Accuracy is:  0.9783132530120482\n",
      "F1 score is:  0.9786223277909739\n",
      "--------------------\n"
     ]
    }
   ],
   "source": [
    "print(\"Performance of Logistic w L1 regularisation is: \")\n",
    "print('_' * 40)\n",
    "evaluation(logisticL1,X_test_lsi,y_test)"
   ]
  },
  {
   "cell_type": "code",
   "execution_count": 55,
   "id": "0c15819e",
   "metadata": {},
   "outputs": [
    {
     "name": "stdout",
     "output_type": "stream",
     "text": [
      "Performance of Logistic w L2 regularisation is: \n",
      "________________________________________\n",
      "--------------------\n",
      "Confusion matrix on test set is: \n",
      "[[201   5]\n",
      " [  3 206]]\n",
      "--------------------\n",
      "--------------------\n",
      "Performance metrics on test set is: \n",
      "Precision is:  0.976303317535545\n",
      "Recall is:  0.9856459330143541\n",
      "Accuracy is:  0.980722891566265\n",
      "F1 score is:  0.9809523809523809\n",
      "--------------------\n"
     ]
    }
   ],
   "source": [
    "print(\"Performance of Logistic w L2 regularisation is: \")\n",
    "print('_' * 40)\n",
    "evaluation(logisticL2,X_test_lsi,y_test)"
   ]
  },
  {
   "cell_type": "markdown",
   "id": "628feb65",
   "metadata": {},
   "source": [
    "# Question 7"
   ]
  },
  {
   "cell_type": "code",
   "execution_count": 55,
   "id": "6ee75035",
   "metadata": {},
   "outputs": [
    {
     "data": {
      "text/plain": [
       "GaussianNB()"
      ]
     },
     "execution_count": 55,
     "metadata": {},
     "output_type": "execute_result"
    }
   ],
   "source": [
    "from sklearn.naive_bayes import GaussianNB\n",
    "from sklearn.metrics import classification_report\n",
    "\n",
    "naivebayes = GaussianNB()\n",
    "naivebayes.fit(X_train_lsi, y_train)\n"
   ]
  },
  {
   "cell_type": "code",
   "execution_count": 56,
   "id": "a11dc671",
   "metadata": {},
   "outputs": [
    {
     "name": "stdout",
     "output_type": "stream",
     "text": [
      "auc_best:0.9940\n"
     ]
    },
    {
     "data": {
      "image/png": "[encoded data removed]",
      "text/plain": [
       "<Figure size 432x288 with 1 Axes>"
      ]
     },
     "metadata": {
      "needs_background": "light"
     },
     "output_type": "display_data"
    }
   ],
   "source": [
    "# plot ROC curve for logistic regression\n",
    "y_test_pred_prob = naivebayes.predict_proba(X_test_lsi)[::,1]\n",
    "fpr_best,tpr_best,_ = metrics.roc_curve(y_test,y_test_pred_prob)\n",
    "auc_best = plot_ROC(fpr_soft,tpr_soft)\n",
    "print(\"auc_best:%0.4f\" % auc_best)"
   ]
  },
  {
   "cell_type": "code",
   "execution_count": 57,
   "id": "b850991e",
   "metadata": {},
   "outputs": [
    {
     "name": "stdout",
     "output_type": "stream",
     "text": [
      "Performance of Naive Bayes classification\n",
      "________________________________________\n",
      "--------------------\n",
      "Confusion matrix on test set is: \n",
      "[[197   9]\n",
      " [ 13 196]]\n",
      "--------------------\n",
      "--------------------\n",
      "Performance metrics on test set is: \n",
      "Precision is:  0.9560975609756097\n",
      "Recall is:  0.937799043062201\n",
      "Accuracy is:  0.946987951807229\n",
      "F1 score is:  0.9468599033816425\n",
      "--------------------\n"
     ]
    }
   ],
   "source": [
    "print(\"Performance of Naive Bayes classification\")\n",
    "print('_' * 40)\n",
    "evaluation(naivebayes,X_test_lsi,y_test)"
   ]
  },
  {
   "cell_type": "markdown",
   "id": "35d1a327",
   "metadata": {},
   "source": [
    "## Question 8: Comparison between three classifiers"
   ]
  },
  {
   "cell_type": "code",
   "execution_count": 129,
   "id": "26c13249",
   "metadata": {},
   "outputs": [],
   "source": [
    "from sklearn.pipeline import Pipeline\n",
    "from sklearn.naive_bayes import GaussianNB"
   ]
  },
  {
   "cell_type": "code",
   "execution_count": 58,
   "id": "00f0a53f",
   "metadata": {},
   "outputs": [
    {
     "name": "stdout",
     "output_type": "stream",
     "text": [
      "accuracy:0.980722891566265\n"
     ]
    }
   ],
   "source": [
    "# prepare for pipeline\n",
    "from sklearn.pipeline import Pipeline\n",
    "\n",
    "pipeline = Pipeline([\n",
    "    ('vect', CountVectorizer(min_df=3, analyzer=doc_tokens_lemma)),\n",
    "    ('tfidf', TfidfTransformer()),\n",
    "    ('reduce_dim', TruncatedSVD(n_components=50, random_state=42)),\n",
    "    ('clf', SVC(kernel='linear', C=100, random_state=42))\n",
    "])\n",
    "\n",
    "pipeline.fit(train.full_text, y_train)\n",
    "predict = pipeline.predict(test.full_text)\n",
    "print(\"accuracy:{}\".format(metrics.accuracy_score(y_test, predict)))"
   ]
  },
  {
   "cell_type": "code",
   "execution_count": 59,
   "id": "f4688afe",
   "metadata": {},
   "outputs": [],
   "source": [
    "from sklearn.model_selection import GridSearchCV\n",
    "\n",
    "# used to cache results\n",
    "from tempfile import mkdtemp\n",
    "from shutil import rmtree\n",
    "import joblib"
   ]
  },
  {
   "cell_type": "code",
   "execution_count": 46,
   "id": "f043d55a",
   "metadata": {},
   "outputs": [],
   "source": [
    "cachedir = mkdtemp()\n",
    "memory = joblib.Memory(location=cachedir, verbose=10)\n",
    "\n",
    "pipeline = Pipeline([\n",
    "    ('vect', CountVectorizer(min_df=1, stop_words='english')),\n",
    "    ('tfidf', TfidfTransformer()),\n",
    "    ('reduce_dim', TruncatedSVD(random_state=42)),\n",
    "    ('clf', GaussianNB()),\n",
    "],\n",
    "memory=memory\n",
    ")\n",
    "\n",
    "param_grid = [\n",
    "    {\n",
    "        'vect': [\n",
    "            CountVectorizer(min_df=3, stop_words='english'),\n",
    "            CountVectorizer(min_df=3, analyzer=stem_rmv_punc),\n",
    "            CountVectorizer(min_df=5, stop_words='english'),\n",
    "            CountVectorizer(min_df=5, analyzer=stem_rmv_punc)\n",
    "        ],\n",
    "        'reduce_dim': [TruncatedSVD(n_components=5, random_state=42),\n",
    "                       TruncatedSVD(n_components=50, random_state=42),\n",
    "                       TruncatedSVD(n_components=500, random_state=42),\n",
    "                       NMF(n_components=5, init='random', random_state=42),\n",
    "                       NMF(n_components=50, init='random', random_state=42),\n",
    "                       NMF(n_components=500, init='random', random_state=42)\n",
    "        ],\n",
    "        'clf': [SVC(kernel='linear', C=10, random_state=42),\n",
    "                LogisticRegression(penalty='l1', C=10, random_state=42),\n",
    "                LogisticRegression(penalty='l2', C=100, random_state=42),\n",
    "                GaussianNB()\n",
    "        ],\n",
    "    }\n",
    "]"
   ]
  },
  {
   "cell_type": "code",
   "execution_count": null,
   "id": "3df70d10",
   "metadata": {},
   "outputs": [],
   "source": [
    "# grid search no clean data\n",
    "grid = GridSearchCV(pipeline, cv=5, n_jobs=1, param_grid=param_grid, scoring='accuracy')\n",
    "grid.fit(train.full_text, train_label)\n",
    "rmtree(cachedir)"
   ]
  },
  {
   "cell_type": "code",
   "execution_count": 55,
   "id": "cd61f8f5",
   "metadata": {},
   "outputs": [
    {
     "data": {
      "text/html": [
       "<div>\n",
       "<style scoped>\n",
       "    .dataframe tbody tr th:only-of-type {\n",
       "        vertical-align: middle;\n",
       "    }\n",
       "\n",
       "    .dataframe tbody tr th {\n",
       "        vertical-align: top;\n",
       "    }\n",
       "\n",
       "    .dataframe thead th {\n",
       "        text-align: right;\n",
       "    }\n",
       "</style>\n",
       "<table border=\"1\" class=\"dataframe\">\n",
       "  <thead>\n",
       "    <tr style=\"text-align: right;\">\n",
       "      <th></th>\n",
       "      <th>mean_fit_time</th>\n",
       "      <th>std_fit_time</th>\n",
       "      <th>mean_score_time</th>\n",
       "      <th>std_score_time</th>\n",
       "      <th>param_clf</th>\n",
       "      <th>param_reduce_dim</th>\n",
       "      <th>param_vect</th>\n",
       "      <th>params</th>\n",
       "      <th>split0_test_score</th>\n",
       "      <th>split1_test_score</th>\n",
       "      <th>split2_test_score</th>\n",
       "      <th>split3_test_score</th>\n",
       "      <th>split4_test_score</th>\n",
       "      <th>mean_test_score</th>\n",
       "      <th>std_test_score</th>\n",
       "      <th>rank_test_score</th>\n",
       "    </tr>\n",
       "  </thead>\n",
       "  <tbody>\n",
       "    <tr>\n",
       "      <th>0</th>\n",
       "      <td>0.890214</td>\n",
       "      <td>0.016934</td>\n",
       "      <td>0.119382</td>\n",
       "      <td>0.012400</td>\n",
       "      <td>SVC(C=100, kernel='linear', random_state=42)</td>\n",
       "      <td>TruncatedSVD(n_components=5, random_state=42)</td>\n",
       "      <td>CountVectorizer(min_df=3, stop_words='english')</td>\n",
       "      <td>{'clf': SVC(C=100, kernel='linear', random_sta...</td>\n",
       "      <td>0.939759</td>\n",
       "      <td>0.915663</td>\n",
       "      <td>0.921450</td>\n",
       "      <td>0.939577</td>\n",
       "      <td>0.903323</td>\n",
       "      <td>0.923954</td>\n",
       "      <td>0.014103</td>\n",
       "      <td>46</td>\n",
       "    </tr>\n",
       "    <tr>\n",
       "      <th>1</th>\n",
       "      <td>28.847751</td>\n",
       "      <td>0.916071</td>\n",
       "      <td>7.201628</td>\n",
       "      <td>0.348592</td>\n",
       "      <td>SVC(C=100, kernel='linear', random_state=42)</td>\n",
       "      <td>TruncatedSVD(n_components=5, random_state=42)</td>\n",
       "      <td>CountVectorizer(analyzer=&lt;function stem_rmv_pu...</td>\n",
       "      <td>{'clf': SVC(C=100, kernel='linear', random_sta...</td>\n",
       "      <td>0.936747</td>\n",
       "      <td>0.915663</td>\n",
       "      <td>0.894260</td>\n",
       "      <td>0.936556</td>\n",
       "      <td>0.897281</td>\n",
       "      <td>0.916101</td>\n",
       "      <td>0.018309</td>\n",
       "      <td>60</td>\n",
       "    </tr>\n",
       "    <tr>\n",
       "      <th>2</th>\n",
       "      <td>0.806911</td>\n",
       "      <td>0.013631</td>\n",
       "      <td>0.116953</td>\n",
       "      <td>0.009206</td>\n",
       "      <td>SVC(C=100, kernel='linear', random_state=42)</td>\n",
       "      <td>TruncatedSVD(n_components=5, random_state=42)</td>\n",
       "      <td>CountVectorizer(min_df=5, stop_words='english')</td>\n",
       "      <td>{'clf': SVC(C=100, kernel='linear', random_sta...</td>\n",
       "      <td>0.942771</td>\n",
       "      <td>0.918675</td>\n",
       "      <td>0.921450</td>\n",
       "      <td>0.936556</td>\n",
       "      <td>0.903323</td>\n",
       "      <td>0.924555</td>\n",
       "      <td>0.013935</td>\n",
       "      <td>45</td>\n",
       "    </tr>\n",
       "    <tr>\n",
       "      <th>3</th>\n",
       "      <td>28.343112</td>\n",
       "      <td>0.443759</td>\n",
       "      <td>7.396043</td>\n",
       "      <td>0.824464</td>\n",
       "      <td>SVC(C=100, kernel='linear', random_state=42)</td>\n",
       "      <td>TruncatedSVD(n_components=5, random_state=42)</td>\n",
       "      <td>CountVectorizer(analyzer=&lt;function stem_rmv_pu...</td>\n",
       "      <td>{'clf': SVC(C=100, kernel='linear', random_sta...</td>\n",
       "      <td>0.933735</td>\n",
       "      <td>0.918675</td>\n",
       "      <td>0.900302</td>\n",
       "      <td>0.939577</td>\n",
       "      <td>0.891239</td>\n",
       "      <td>0.916705</td>\n",
       "      <td>0.018626</td>\n",
       "      <td>58</td>\n",
       "    </tr>\n",
       "    <tr>\n",
       "      <th>4</th>\n",
       "      <td>0.408963</td>\n",
       "      <td>0.016459</td>\n",
       "      <td>0.118535</td>\n",
       "      <td>0.007790</td>\n",
       "      <td>SVC(C=100, kernel='linear', random_state=42)</td>\n",
       "      <td>TruncatedSVD(n_components=50, random_state=42)</td>\n",
       "      <td>CountVectorizer(min_df=3, stop_words='english')</td>\n",
       "      <td>{'clf': SVC(C=100, kernel='linear', random_sta...</td>\n",
       "      <td>0.960843</td>\n",
       "      <td>0.954819</td>\n",
       "      <td>0.942598</td>\n",
       "      <td>0.957704</td>\n",
       "      <td>0.960725</td>\n",
       "      <td>0.955338</td>\n",
       "      <td>0.006745</td>\n",
       "      <td>29</td>\n",
       "    </tr>\n",
       "    <tr>\n",
       "      <th>...</th>\n",
       "      <td>...</td>\n",
       "      <td>...</td>\n",
       "      <td>...</td>\n",
       "      <td>...</td>\n",
       "      <td>...</td>\n",
       "      <td>...</td>\n",
       "      <td>...</td>\n",
       "      <td>...</td>\n",
       "      <td>...</td>\n",
       "      <td>...</td>\n",
       "      <td>...</td>\n",
       "      <td>...</td>\n",
       "      <td>...</td>\n",
       "      <td>...</td>\n",
       "      <td>...</td>\n",
       "      <td>...</td>\n",
       "    </tr>\n",
       "    <tr>\n",
       "      <th>91</th>\n",
       "      <td>0.133156</td>\n",
       "      <td>0.008734</td>\n",
       "      <td>7.114854</td>\n",
       "      <td>0.214618</td>\n",
       "      <td>GaussianNB()</td>\n",
       "      <td>NMF(init='random', n_components=50, random_sta...</td>\n",
       "      <td>CountVectorizer(analyzer=&lt;function stem_rmv_pu...</td>\n",
       "      <td>{'clf': GaussianNB(), 'reduce_dim': NMF(init='...</td>\n",
       "      <td>0.966867</td>\n",
       "      <td>0.960843</td>\n",
       "      <td>0.966767</td>\n",
       "      <td>0.966767</td>\n",
       "      <td>0.954683</td>\n",
       "      <td>0.963186</td>\n",
       "      <td>0.004837</td>\n",
       "      <td>15</td>\n",
       "    </tr>\n",
       "    <tr>\n",
       "      <th>92</th>\n",
       "      <td>0.159981</td>\n",
       "      <td>0.005195</td>\n",
       "      <td>2.327658</td>\n",
       "      <td>0.059513</td>\n",
       "      <td>GaussianNB()</td>\n",
       "      <td>NMF(init='random', n_components=500, random_st...</td>\n",
       "      <td>CountVectorizer(min_df=3, stop_words='english')</td>\n",
       "      <td>{'clf': GaussianNB(), 'reduce_dim': NMF(init='...</td>\n",
       "      <td>0.966867</td>\n",
       "      <td>0.975904</td>\n",
       "      <td>0.948640</td>\n",
       "      <td>0.966767</td>\n",
       "      <td>0.960725</td>\n",
       "      <td>0.963781</td>\n",
       "      <td>0.008989</td>\n",
       "      <td>13</td>\n",
       "    </tr>\n",
       "    <tr>\n",
       "      <th>93</th>\n",
       "      <td>0.137558</td>\n",
       "      <td>0.004938</td>\n",
       "      <td>9.106821</td>\n",
       "      <td>0.491132</td>\n",
       "      <td>GaussianNB()</td>\n",
       "      <td>NMF(init='random', n_components=500, random_st...</td>\n",
       "      <td>CountVectorizer(analyzer=&lt;function stem_rmv_pu...</td>\n",
       "      <td>{'clf': GaussianNB(), 'reduce_dim': NMF(init='...</td>\n",
       "      <td>0.966867</td>\n",
       "      <td>0.978916</td>\n",
       "      <td>0.930514</td>\n",
       "      <td>0.966767</td>\n",
       "      <td>0.951662</td>\n",
       "      <td>0.958945</td>\n",
       "      <td>0.016638</td>\n",
       "      <td>22</td>\n",
       "    </tr>\n",
       "    <tr>\n",
       "      <th>94</th>\n",
       "      <td>0.153181</td>\n",
       "      <td>0.011368</td>\n",
       "      <td>2.145601</td>\n",
       "      <td>0.072860</td>\n",
       "      <td>GaussianNB()</td>\n",
       "      <td>NMF(init='random', n_components=500, random_st...</td>\n",
       "      <td>CountVectorizer(min_df=5, stop_words='english')</td>\n",
       "      <td>{'clf': GaussianNB(), 'reduce_dim': NMF(init='...</td>\n",
       "      <td>0.972892</td>\n",
       "      <td>0.972892</td>\n",
       "      <td>0.945619</td>\n",
       "      <td>0.978852</td>\n",
       "      <td>0.966767</td>\n",
       "      <td>0.967404</td>\n",
       "      <td>0.011543</td>\n",
       "      <td>4</td>\n",
       "    </tr>\n",
       "    <tr>\n",
       "      <th>95</th>\n",
       "      <td>0.143146</td>\n",
       "      <td>0.025406</td>\n",
       "      <td>8.998555</td>\n",
       "      <td>0.284498</td>\n",
       "      <td>GaussianNB()</td>\n",
       "      <td>NMF(init='random', n_components=500, random_st...</td>\n",
       "      <td>CountVectorizer(analyzer=&lt;function stem_rmv_pu...</td>\n",
       "      <td>{'clf': GaussianNB(), 'reduce_dim': NMF(init='...</td>\n",
       "      <td>0.966867</td>\n",
       "      <td>0.960843</td>\n",
       "      <td>0.933535</td>\n",
       "      <td>0.960725</td>\n",
       "      <td>0.957704</td>\n",
       "      <td>0.955935</td>\n",
       "      <td>0.011588</td>\n",
       "      <td>28</td>\n",
       "    </tr>\n",
       "  </tbody>\n",
       "</table>\n",
       "<p>96 rows × 16 columns</p>\n",
       "</div>"
      ],
      "text/plain": [
       "    mean_fit_time  std_fit_time  mean_score_time  std_score_time  \\\n",
       "0        0.890214      0.016934         0.119382        0.012400   \n",
       "1       28.847751      0.916071         7.201628        0.348592   \n",
       "2        0.806911      0.013631         0.116953        0.009206   \n",
       "3       28.343112      0.443759         7.396043        0.824464   \n",
       "4        0.408963      0.016459         0.118535        0.007790   \n",
       "..            ...           ...              ...             ...   \n",
       "91       0.133156      0.008734         7.114854        0.214618   \n",
       "92       0.159981      0.005195         2.327658        0.059513   \n",
       "93       0.137558      0.004938         9.106821        0.491132   \n",
       "94       0.153181      0.011368         2.145601        0.072860   \n",
       "95       0.143146      0.025406         8.998555        0.284498   \n",
       "\n",
       "                                       param_clf  \\\n",
       "0   SVC(C=100, kernel='linear', random_state=42)   \n",
       "1   SVC(C=100, kernel='linear', random_state=42)   \n",
       "2   SVC(C=100, kernel='linear', random_state=42)   \n",
       "3   SVC(C=100, kernel='linear', random_state=42)   \n",
       "4   SVC(C=100, kernel='linear', random_state=42)   \n",
       "..                                           ...   \n",
       "91                                  GaussianNB()   \n",
       "92                                  GaussianNB()   \n",
       "93                                  GaussianNB()   \n",
       "94                                  GaussianNB()   \n",
       "95                                  GaussianNB()   \n",
       "\n",
       "                                     param_reduce_dim  \\\n",
       "0       TruncatedSVD(n_components=5, random_state=42)   \n",
       "1       TruncatedSVD(n_components=5, random_state=42)   \n",
       "2       TruncatedSVD(n_components=5, random_state=42)   \n",
       "3       TruncatedSVD(n_components=5, random_state=42)   \n",
       "4      TruncatedSVD(n_components=50, random_state=42)   \n",
       "..                                                ...   \n",
       "91  NMF(init='random', n_components=50, random_sta...   \n",
       "92  NMF(init='random', n_components=500, random_st...   \n",
       "93  NMF(init='random', n_components=500, random_st...   \n",
       "94  NMF(init='random', n_components=500, random_st...   \n",
       "95  NMF(init='random', n_components=500, random_st...   \n",
       "\n",
       "                                           param_vect  \\\n",
       "0     CountVectorizer(min_df=3, stop_words='english')   \n",
       "1   CountVectorizer(analyzer=<function stem_rmv_pu...   \n",
       "2     CountVectorizer(min_df=5, stop_words='english')   \n",
       "3   CountVectorizer(analyzer=<function stem_rmv_pu...   \n",
       "4     CountVectorizer(min_df=3, stop_words='english')   \n",
       "..                                                ...   \n",
       "91  CountVectorizer(analyzer=<function stem_rmv_pu...   \n",
       "92    CountVectorizer(min_df=3, stop_words='english')   \n",
       "93  CountVectorizer(analyzer=<function stem_rmv_pu...   \n",
       "94    CountVectorizer(min_df=5, stop_words='english')   \n",
       "95  CountVectorizer(analyzer=<function stem_rmv_pu...   \n",
       "\n",
       "                                               params  split0_test_score  \\\n",
       "0   {'clf': SVC(C=100, kernel='linear', random_sta...           0.939759   \n",
       "1   {'clf': SVC(C=100, kernel='linear', random_sta...           0.936747   \n",
       "2   {'clf': SVC(C=100, kernel='linear', random_sta...           0.942771   \n",
       "3   {'clf': SVC(C=100, kernel='linear', random_sta...           0.933735   \n",
       "4   {'clf': SVC(C=100, kernel='linear', random_sta...           0.960843   \n",
       "..                                                ...                ...   \n",
       "91  {'clf': GaussianNB(), 'reduce_dim': NMF(init='...           0.966867   \n",
       "92  {'clf': GaussianNB(), 'reduce_dim': NMF(init='...           0.966867   \n",
       "93  {'clf': GaussianNB(), 'reduce_dim': NMF(init='...           0.966867   \n",
       "94  {'clf': GaussianNB(), 'reduce_dim': NMF(init='...           0.972892   \n",
       "95  {'clf': GaussianNB(), 'reduce_dim': NMF(init='...           0.966867   \n",
       "\n",
       "    split1_test_score  split2_test_score  split3_test_score  \\\n",
       "0            0.915663           0.921450           0.939577   \n",
       "1            0.915663           0.894260           0.936556   \n",
       "2            0.918675           0.921450           0.936556   \n",
       "3            0.918675           0.900302           0.939577   \n",
       "4            0.954819           0.942598           0.957704   \n",
       "..                ...                ...                ...   \n",
       "91           0.960843           0.966767           0.966767   \n",
       "92           0.975904           0.948640           0.966767   \n",
       "93           0.978916           0.930514           0.966767   \n",
       "94           0.972892           0.945619           0.978852   \n",
       "95           0.960843           0.933535           0.960725   \n",
       "\n",
       "    split4_test_score  mean_test_score  std_test_score  rank_test_score  \n",
       "0            0.903323         0.923954        0.014103               46  \n",
       "1            0.897281         0.916101        0.018309               60  \n",
       "2            0.903323         0.924555        0.013935               45  \n",
       "3            0.891239         0.916705        0.018626               58  \n",
       "4            0.960725         0.955338        0.006745               29  \n",
       "..                ...              ...             ...              ...  \n",
       "91           0.954683         0.963186        0.004837               15  \n",
       "92           0.960725         0.963781        0.008989               13  \n",
       "93           0.951662         0.958945        0.016638               22  \n",
       "94           0.966767         0.967404        0.011543                4  \n",
       "95           0.957704         0.955935        0.011588               28  \n",
       "\n",
       "[96 rows x 16 columns]"
      ]
     },
     "execution_count": 55,
     "metadata": {},
     "output_type": "execute_result"
    }
   ],
   "source": [
    "import pandas as pd\n",
    "\n",
    "result = pd.DataFrame(grid.cv_results_)\n",
    "pd.DataFrame(grid.cv_results_)"
   ]
  },
  {
   "cell_type": "code",
   "execution_count": 57,
   "id": "e20838fd",
   "metadata": {},
   "outputs": [],
   "source": [
    "# save the data\n",
    "np.save(\"results\",result)"
   ]
  },
  {
   "cell_type": "code",
   "execution_count": 66,
   "id": "ad1bee9e",
   "metadata": {},
   "outputs": [
    {
     "name": "stdout",
     "output_type": "stream",
     "text": [
      "The index of 5 best combination:{3: 8, 5: 20, 2: 56, 1: 58, 4: 94}\n"
     ]
    }
   ],
   "source": [
    "best_list = {}\n",
    "k = 1\n",
    "for i,row in enumerate(result['rank_test_score']):\n",
    "    if row >= 1 and row <= 5:\n",
    "        best_list[row] = i\n",
    "    \n",
    "print(\"The index of 5 best combination:{}\".format(best_list))"
   ]
  },
  {
   "cell_type": "code",
   "execution_count": 69,
   "id": "85423e4c",
   "metadata": {},
   "outputs": [
    {
     "name": "stdout",
     "output_type": "stream",
     "text": [
      "________________________________________________________________________________\n",
      "rank_test_score:\n",
      "1\n",
      "____________________\n",
      "mean_test_score:\n",
      "0.9698121792305173\n",
      "____________________\n",
      "model parameters:\n",
      "{'clf': LogisticRegression(C=10, random_state=42), 'reduce_dim': TruncatedSVD(n_components=500, random_state=42), 'vect': CountVectorizer(min_df=5, stop_words='english')}\n",
      "________________________________________________________________________________\n",
      "________________________________________________________________________________\n",
      "rank_test_score:\n",
      "2\n",
      "____________________\n",
      "mean_test_score:\n",
      "0.969209769591963\n",
      "____________________\n",
      "model parameters:\n",
      "{'clf': LogisticRegression(C=10, random_state=42), 'reduce_dim': TruncatedSVD(n_components=500, random_state=42), 'vect': CountVectorizer(min_df=3, stop_words='english')}\n",
      "________________________________________________________________________________\n",
      "________________________________________________________________________________\n",
      "rank_test_score:\n",
      "3\n",
      "____________________\n",
      "mean_test_score:\n",
      "0.9686055399847122\n",
      "____________________\n",
      "model parameters:\n",
      "{'clf': SVC(C=100, kernel='linear', random_state=42), 'reduce_dim': TruncatedSVD(n_components=500, random_state=42), 'vect': CountVectorizer(min_df=3, stop_words='english')}\n",
      "________________________________________________________________________________\n",
      "________________________________________________________________________________\n",
      "rank_test_score:\n",
      "4\n",
      "____________________\n",
      "mean_test_score:\n",
      "0.9674043606449969\n",
      "____________________\n",
      "model parameters:\n",
      "{'clf': GaussianNB(), 'reduce_dim': NMF(init='random', n_components=500, random_state=42), 'vect': CountVectorizer(min_df=5, stop_words='english')}\n",
      "________________________________________________________________________________\n",
      "________________________________________________________________________________\n",
      "rank_test_score:\n",
      "5\n",
      "____________________\n",
      "mean_test_score:\n",
      "0.9673989007389071\n",
      "____________________\n",
      "model parameters:\n",
      "{'clf': SVC(C=100, kernel='linear', random_state=42), 'reduce_dim': NMF(init='random', n_components=500, random_state=42), 'vect': CountVectorizer(min_df=3, stop_words='english')}\n",
      "________________________________________________________________________________\n"
     ]
    }
   ],
   "source": [
    "i = 1\n",
    "while i <= 5:\n",
    "    index = best_list[i]\n",
    "    print(\"_\" * 80)\n",
    "    print(\"rank_test_score:\")\n",
    "    print(result['rank_test_score'][index]) \n",
    "    print(\"_\" * 20)\n",
    "    print(\"mean_test_score:\")\n",
    "    print(result['mean_test_score'][index])     \n",
    "    print(\"_\" * 20)\n",
    "    print(\"model parameters:\")\n",
    "    print(result['params'][index])  \n",
    "    print(\"_\" * 80)\n",
    "    i += 1"
   ]
  },
  {
   "cell_type": "code",
   "execution_count": 132,
   "id": "6f0b3881",
   "metadata": {},
   "outputs": [
    {
     "name": "stdout",
     "output_type": "stream",
     "text": [
      "--------------------\n",
      "Confusion matrix on test set is: \n",
      "[[198   8]\n",
      " [  0 209]]\n",
      "--------------------\n",
      "--------------------\n",
      "Performance metrics on test set is: \n",
      "Precision is:  0.9631336405529954\n",
      "Recall is:  1.0\n",
      "Accuracy is:  0.980722891566265\n",
      "F1 score is:  0.9812206572769953\n",
      "--------------------\n",
      "--------------------\n",
      "Confusion matrix on test set is: \n",
      "[[198   8]\n",
      " [  1 208]]\n",
      "--------------------\n",
      "--------------------\n",
      "Performance metrics on test set is: \n",
      "Precision is:  0.9629629629629629\n",
      "Recall is:  0.9952153110047847\n",
      "Accuracy is:  0.9783132530120482\n",
      "F1 score is:  0.9788235294117646\n",
      "--------------------\n",
      "--------------------\n",
      "Confusion matrix on test set is: \n",
      "[[196  10]\n",
      " [  1 208]]\n",
      "--------------------\n",
      "--------------------\n",
      "Performance metrics on test set is: \n",
      "Precision is:  0.9541284403669725\n",
      "Recall is:  0.9952153110047847\n",
      "Accuracy is:  0.9734939759036144\n",
      "F1 score is:  0.9742388758782202\n",
      "--------------------\n"
     ]
    },
    {
     "ename": "KeyboardInterrupt",
     "evalue": "",
     "output_type": "error",
     "traceback": [
      "\u001b[0;31m---------------------------------------------------------------------------\u001b[0m",
      "\u001b[0;31mKeyboardInterrupt\u001b[0m                         Traceback (most recent call last)",
      "\u001b[0;32m<ipython-input-132-0d008649f1fa>\u001b[0m in \u001b[0;36m<module>\u001b[0;34m\u001b[0m\n\u001b[1;32m     81\u001b[0m ])\n\u001b[1;32m     82\u001b[0m \u001b[0;34m\u001b[0m\u001b[0m\n\u001b[0;32m---> 83\u001b[0;31m \u001b[0mpipeline4\u001b[0m\u001b[0;34m.\u001b[0m\u001b[0mfit\u001b[0m\u001b[0;34m(\u001b[0m\u001b[0mtrain\u001b[0m\u001b[0;34m.\u001b[0m\u001b[0mfull_text\u001b[0m\u001b[0;34m,\u001b[0m \u001b[0my_train\u001b[0m\u001b[0;34m)\u001b[0m\u001b[0;34m\u001b[0m\u001b[0;34m\u001b[0m\u001b[0m\n\u001b[0m\u001b[1;32m     84\u001b[0m \u001b[0mpredict\u001b[0m \u001b[0;34m=\u001b[0m \u001b[0mpipeline4\u001b[0m\u001b[0;34m.\u001b[0m\u001b[0mpredict\u001b[0m\u001b[0;34m(\u001b[0m\u001b[0mtest\u001b[0m\u001b[0;34m.\u001b[0m\u001b[0mfull_text\u001b[0m\u001b[0;34m)\u001b[0m\u001b[0;34m\u001b[0m\u001b[0;34m\u001b[0m\u001b[0m\n\u001b[1;32m     85\u001b[0m \u001b[0;34m\u001b[0m\u001b[0m\n",
      "\u001b[0;32m~/.conda/envs/kaggle/lib/python3.8/site-packages/sklearn/pipeline.py\u001b[0m in \u001b[0;36mfit\u001b[0;34m(self, X, y, **fit_params)\u001b[0m\n\u001b[1;32m    388\u001b[0m         \"\"\"\n\u001b[1;32m    389\u001b[0m         \u001b[0mfit_params_steps\u001b[0m \u001b[0;34m=\u001b[0m \u001b[0mself\u001b[0m\u001b[0;34m.\u001b[0m\u001b[0m_check_fit_params\u001b[0m\u001b[0;34m(\u001b[0m\u001b[0;34m**\u001b[0m\u001b[0mfit_params\u001b[0m\u001b[0;34m)\u001b[0m\u001b[0;34m\u001b[0m\u001b[0;34m\u001b[0m\u001b[0m\n\u001b[0;32m--> 390\u001b[0;31m         \u001b[0mXt\u001b[0m \u001b[0;34m=\u001b[0m \u001b[0mself\u001b[0m\u001b[0;34m.\u001b[0m\u001b[0m_fit\u001b[0m\u001b[0;34m(\u001b[0m\u001b[0mX\u001b[0m\u001b[0;34m,\u001b[0m \u001b[0my\u001b[0m\u001b[0;34m,\u001b[0m \u001b[0;34m**\u001b[0m\u001b[0mfit_params_steps\u001b[0m\u001b[0;34m)\u001b[0m\u001b[0;34m\u001b[0m\u001b[0;34m\u001b[0m\u001b[0m\n\u001b[0m\u001b[1;32m    391\u001b[0m         \u001b[0;32mwith\u001b[0m \u001b[0m_print_elapsed_time\u001b[0m\u001b[0;34m(\u001b[0m\u001b[0;34m\"Pipeline\"\u001b[0m\u001b[0;34m,\u001b[0m \u001b[0mself\u001b[0m\u001b[0;34m.\u001b[0m\u001b[0m_log_message\u001b[0m\u001b[0;34m(\u001b[0m\u001b[0mlen\u001b[0m\u001b[0;34m(\u001b[0m\u001b[0mself\u001b[0m\u001b[0;34m.\u001b[0m\u001b[0msteps\u001b[0m\u001b[0;34m)\u001b[0m \u001b[0;34m-\u001b[0m \u001b[0;36m1\u001b[0m\u001b[0;34m)\u001b[0m\u001b[0;34m)\u001b[0m\u001b[0;34m:\u001b[0m\u001b[0;34m\u001b[0m\u001b[0;34m\u001b[0m\u001b[0m\n\u001b[1;32m    392\u001b[0m             \u001b[0;32mif\u001b[0m \u001b[0mself\u001b[0m\u001b[0;34m.\u001b[0m\u001b[0m_final_estimator\u001b[0m \u001b[0;34m!=\u001b[0m \u001b[0;34m\"passthrough\"\u001b[0m\u001b[0;34m:\u001b[0m\u001b[0;34m\u001b[0m\u001b[0;34m\u001b[0m\u001b[0m\n",
      "\u001b[0;32m~/.conda/envs/kaggle/lib/python3.8/site-packages/sklearn/pipeline.py\u001b[0m in \u001b[0;36m_fit\u001b[0;34m(self, X, y, **fit_params_steps)\u001b[0m\n\u001b[1;32m    346\u001b[0m                 \u001b[0mcloned_transformer\u001b[0m \u001b[0;34m=\u001b[0m \u001b[0mclone\u001b[0m\u001b[0;34m(\u001b[0m\u001b[0mtransformer\u001b[0m\u001b[0;34m)\u001b[0m\u001b[0;34m\u001b[0m\u001b[0;34m\u001b[0m\u001b[0m\n\u001b[1;32m    347\u001b[0m             \u001b[0;31m# Fit or load from cache the current transformer\u001b[0m\u001b[0;34m\u001b[0m\u001b[0;34m\u001b[0m\u001b[0;34m\u001b[0m\u001b[0m\n\u001b[0;32m--> 348\u001b[0;31m             X, fitted_transformer = fit_transform_one_cached(\n\u001b[0m\u001b[1;32m    349\u001b[0m                 \u001b[0mcloned_transformer\u001b[0m\u001b[0;34m,\u001b[0m\u001b[0;34m\u001b[0m\u001b[0;34m\u001b[0m\u001b[0m\n\u001b[1;32m    350\u001b[0m                 \u001b[0mX\u001b[0m\u001b[0;34m,\u001b[0m\u001b[0;34m\u001b[0m\u001b[0;34m\u001b[0m\u001b[0m\n",
      "\u001b[0;32m~/.conda/envs/kaggle/lib/python3.8/site-packages/joblib/memory.py\u001b[0m in \u001b[0;36m__call__\u001b[0;34m(self, *args, **kwargs)\u001b[0m\n\u001b[1;32m    350\u001b[0m \u001b[0;34m\u001b[0m\u001b[0m\n\u001b[1;32m    351\u001b[0m     \u001b[0;32mdef\u001b[0m \u001b[0m__call__\u001b[0m\u001b[0;34m(\u001b[0m\u001b[0mself\u001b[0m\u001b[0;34m,\u001b[0m \u001b[0;34m*\u001b[0m\u001b[0margs\u001b[0m\u001b[0;34m,\u001b[0m \u001b[0;34m**\u001b[0m\u001b[0mkwargs\u001b[0m\u001b[0;34m)\u001b[0m\u001b[0;34m:\u001b[0m\u001b[0;34m\u001b[0m\u001b[0;34m\u001b[0m\u001b[0m\n\u001b[0;32m--> 352\u001b[0;31m         \u001b[0;32mreturn\u001b[0m \u001b[0mself\u001b[0m\u001b[0;34m.\u001b[0m\u001b[0mfunc\u001b[0m\u001b[0;34m(\u001b[0m\u001b[0;34m*\u001b[0m\u001b[0margs\u001b[0m\u001b[0;34m,\u001b[0m \u001b[0;34m**\u001b[0m\u001b[0mkwargs\u001b[0m\u001b[0;34m)\u001b[0m\u001b[0;34m\u001b[0m\u001b[0;34m\u001b[0m\u001b[0m\n\u001b[0m\u001b[1;32m    353\u001b[0m \u001b[0;34m\u001b[0m\u001b[0m\n\u001b[1;32m    354\u001b[0m     \u001b[0;32mdef\u001b[0m \u001b[0mcall_and_shelve\u001b[0m\u001b[0;34m(\u001b[0m\u001b[0mself\u001b[0m\u001b[0;34m,\u001b[0m \u001b[0;34m*\u001b[0m\u001b[0margs\u001b[0m\u001b[0;34m,\u001b[0m \u001b[0;34m**\u001b[0m\u001b[0mkwargs\u001b[0m\u001b[0;34m)\u001b[0m\u001b[0;34m:\u001b[0m\u001b[0;34m\u001b[0m\u001b[0;34m\u001b[0m\u001b[0m\n",
      "\u001b[0;32m~/.conda/envs/kaggle/lib/python3.8/site-packages/sklearn/pipeline.py\u001b[0m in \u001b[0;36m_fit_transform_one\u001b[0;34m(transformer, X, y, weight, message_clsname, message, **fit_params)\u001b[0m\n\u001b[1;32m    891\u001b[0m     \u001b[0;32mwith\u001b[0m \u001b[0m_print_elapsed_time\u001b[0m\u001b[0;34m(\u001b[0m\u001b[0mmessage_clsname\u001b[0m\u001b[0;34m,\u001b[0m \u001b[0mmessage\u001b[0m\u001b[0;34m)\u001b[0m\u001b[0;34m:\u001b[0m\u001b[0;34m\u001b[0m\u001b[0;34m\u001b[0m\u001b[0m\n\u001b[1;32m    892\u001b[0m         \u001b[0;32mif\u001b[0m \u001b[0mhasattr\u001b[0m\u001b[0;34m(\u001b[0m\u001b[0mtransformer\u001b[0m\u001b[0;34m,\u001b[0m \u001b[0;34m\"fit_transform\"\u001b[0m\u001b[0;34m)\u001b[0m\u001b[0;34m:\u001b[0m\u001b[0;34m\u001b[0m\u001b[0;34m\u001b[0m\u001b[0m\n\u001b[0;32m--> 893\u001b[0;31m             \u001b[0mres\u001b[0m \u001b[0;34m=\u001b[0m \u001b[0mtransformer\u001b[0m\u001b[0;34m.\u001b[0m\u001b[0mfit_transform\u001b[0m\u001b[0;34m(\u001b[0m\u001b[0mX\u001b[0m\u001b[0;34m,\u001b[0m \u001b[0my\u001b[0m\u001b[0;34m,\u001b[0m \u001b[0;34m**\u001b[0m\u001b[0mfit_params\u001b[0m\u001b[0;34m)\u001b[0m\u001b[0;34m\u001b[0m\u001b[0;34m\u001b[0m\u001b[0m\n\u001b[0m\u001b[1;32m    894\u001b[0m         \u001b[0;32melse\u001b[0m\u001b[0;34m:\u001b[0m\u001b[0;34m\u001b[0m\u001b[0;34m\u001b[0m\u001b[0m\n\u001b[1;32m    895\u001b[0m             \u001b[0mres\u001b[0m \u001b[0;34m=\u001b[0m \u001b[0mtransformer\u001b[0m\u001b[0;34m.\u001b[0m\u001b[0mfit\u001b[0m\u001b[0;34m(\u001b[0m\u001b[0mX\u001b[0m\u001b[0;34m,\u001b[0m \u001b[0my\u001b[0m\u001b[0;34m,\u001b[0m \u001b[0;34m**\u001b[0m\u001b[0mfit_params\u001b[0m\u001b[0;34m)\u001b[0m\u001b[0;34m.\u001b[0m\u001b[0mtransform\u001b[0m\u001b[0;34m(\u001b[0m\u001b[0mX\u001b[0m\u001b[0;34m)\u001b[0m\u001b[0;34m\u001b[0m\u001b[0;34m\u001b[0m\u001b[0m\n",
      "\u001b[0;32m~/.conda/envs/kaggle/lib/python3.8/site-packages/sklearn/decomposition/_nmf.py\u001b[0m in \u001b[0;36mfit_transform\u001b[0;34m(self, X, y, W, H)\u001b[0m\n\u001b[1;32m   1536\u001b[0m \u001b[0;34m\u001b[0m\u001b[0m\n\u001b[1;32m   1537\u001b[0m         \u001b[0;32mwith\u001b[0m \u001b[0mconfig_context\u001b[0m\u001b[0;34m(\u001b[0m\u001b[0massume_finite\u001b[0m\u001b[0;34m=\u001b[0m\u001b[0;32mTrue\u001b[0m\u001b[0;34m)\u001b[0m\u001b[0;34m:\u001b[0m\u001b[0;34m\u001b[0m\u001b[0;34m\u001b[0m\u001b[0m\n\u001b[0;32m-> 1538\u001b[0;31m             \u001b[0mW\u001b[0m\u001b[0;34m,\u001b[0m \u001b[0mH\u001b[0m\u001b[0;34m,\u001b[0m \u001b[0mn_iter\u001b[0m \u001b[0;34m=\u001b[0m \u001b[0mself\u001b[0m\u001b[0;34m.\u001b[0m\u001b[0m_fit_transform\u001b[0m\u001b[0;34m(\u001b[0m\u001b[0mX\u001b[0m\u001b[0;34m,\u001b[0m \u001b[0mW\u001b[0m\u001b[0;34m=\u001b[0m\u001b[0mW\u001b[0m\u001b[0;34m,\u001b[0m \u001b[0mH\u001b[0m\u001b[0;34m=\u001b[0m\u001b[0mH\u001b[0m\u001b[0;34m)\u001b[0m\u001b[0;34m\u001b[0m\u001b[0;34m\u001b[0m\u001b[0m\n\u001b[0m\u001b[1;32m   1539\u001b[0m \u001b[0;34m\u001b[0m\u001b[0m\n\u001b[1;32m   1540\u001b[0m         self.reconstruction_err_ = _beta_divergence(\n",
      "\u001b[0;32m~/.conda/envs/kaggle/lib/python3.8/site-packages/sklearn/decomposition/_nmf.py\u001b[0m in \u001b[0;36m_fit_transform\u001b[0;34m(self, X, y, W, H, update_H)\u001b[0m\n\u001b[1;32m   1601\u001b[0m \u001b[0;34m\u001b[0m\u001b[0m\n\u001b[1;32m   1602\u001b[0m         \u001b[0;32mif\u001b[0m \u001b[0mself\u001b[0m\u001b[0;34m.\u001b[0m\u001b[0msolver\u001b[0m \u001b[0;34m==\u001b[0m \u001b[0;34m\"cd\"\u001b[0m\u001b[0;34m:\u001b[0m\u001b[0;34m\u001b[0m\u001b[0;34m\u001b[0m\u001b[0m\n\u001b[0;32m-> 1603\u001b[0;31m             W, H, n_iter = _fit_coordinate_descent(\n\u001b[0m\u001b[1;32m   1604\u001b[0m                 \u001b[0mX\u001b[0m\u001b[0;34m,\u001b[0m\u001b[0;34m\u001b[0m\u001b[0;34m\u001b[0m\u001b[0m\n\u001b[1;32m   1605\u001b[0m                 \u001b[0mW\u001b[0m\u001b[0;34m,\u001b[0m\u001b[0;34m\u001b[0m\u001b[0;34m\u001b[0m\u001b[0m\n",
      "\u001b[0;32m~/.conda/envs/kaggle/lib/python3.8/site-packages/sklearn/decomposition/_nmf.py\u001b[0m in \u001b[0;36m_fit_coordinate_descent\u001b[0;34m(X, W, H, tol, max_iter, l1_reg_W, l1_reg_H, l2_reg_W, l2_reg_H, update_H, verbose, shuffle, random_state)\u001b[0m\n\u001b[1;32m    514\u001b[0m         \u001b[0;31m# Update H\u001b[0m\u001b[0;34m\u001b[0m\u001b[0;34m\u001b[0m\u001b[0;34m\u001b[0m\u001b[0m\n\u001b[1;32m    515\u001b[0m         \u001b[0;32mif\u001b[0m \u001b[0mupdate_H\u001b[0m\u001b[0;34m:\u001b[0m\u001b[0;34m\u001b[0m\u001b[0;34m\u001b[0m\u001b[0m\n\u001b[0;32m--> 516\u001b[0;31m             violation += _update_coordinate_descent(\n\u001b[0m\u001b[1;32m    517\u001b[0m                 \u001b[0mX\u001b[0m\u001b[0;34m.\u001b[0m\u001b[0mT\u001b[0m\u001b[0;34m,\u001b[0m \u001b[0mHt\u001b[0m\u001b[0;34m,\u001b[0m \u001b[0mW\u001b[0m\u001b[0;34m,\u001b[0m \u001b[0ml1_reg_H\u001b[0m\u001b[0;34m,\u001b[0m \u001b[0ml2_reg_H\u001b[0m\u001b[0;34m,\u001b[0m \u001b[0mshuffle\u001b[0m\u001b[0;34m,\u001b[0m \u001b[0mrng\u001b[0m\u001b[0;34m\u001b[0m\u001b[0;34m\u001b[0m\u001b[0m\n\u001b[1;32m    518\u001b[0m             )\n",
      "\u001b[0;32m~/.conda/envs/kaggle/lib/python3.8/site-packages/sklearn/decomposition/_nmf.py\u001b[0m in \u001b[0;36m_update_coordinate_descent\u001b[0;34m(X, W, Ht, l1_reg, l2_reg, shuffle, random_state)\u001b[0m\n\u001b[1;32m    412\u001b[0m     \u001b[0;31m# The following seems to be required on 64-bit Windows w/ Python 3.5.\u001b[0m\u001b[0;34m\u001b[0m\u001b[0;34m\u001b[0m\u001b[0;34m\u001b[0m\u001b[0m\n\u001b[1;32m    413\u001b[0m     \u001b[0mpermutation\u001b[0m \u001b[0;34m=\u001b[0m \u001b[0mnp\u001b[0m\u001b[0;34m.\u001b[0m\u001b[0masarray\u001b[0m\u001b[0;34m(\u001b[0m\u001b[0mpermutation\u001b[0m\u001b[0;34m,\u001b[0m \u001b[0mdtype\u001b[0m\u001b[0;34m=\u001b[0m\u001b[0mnp\u001b[0m\u001b[0;34m.\u001b[0m\u001b[0mintp\u001b[0m\u001b[0;34m)\u001b[0m\u001b[0;34m\u001b[0m\u001b[0;34m\u001b[0m\u001b[0m\n\u001b[0;32m--> 414\u001b[0;31m     \u001b[0;32mreturn\u001b[0m \u001b[0m_update_cdnmf_fast\u001b[0m\u001b[0;34m(\u001b[0m\u001b[0mW\u001b[0m\u001b[0;34m,\u001b[0m \u001b[0mHHt\u001b[0m\u001b[0;34m,\u001b[0m \u001b[0mXHt\u001b[0m\u001b[0;34m,\u001b[0m \u001b[0mpermutation\u001b[0m\u001b[0;34m)\u001b[0m\u001b[0;34m\u001b[0m\u001b[0;34m\u001b[0m\u001b[0m\n\u001b[0m\u001b[1;32m    415\u001b[0m \u001b[0;34m\u001b[0m\u001b[0m\n\u001b[1;32m    416\u001b[0m \u001b[0;34m\u001b[0m\u001b[0m\n",
      "\u001b[0;31mKeyboardInterrupt\u001b[0m: "
     ]
    }
   ],
   "source": [
    "# Report their performance on the testing set \n",
    "\n",
    "# model-1\n",
    "pipeline1 = Pipeline([\n",
    "    ('vect', CountVectorizer(min_df=5, stop_words='english')),\n",
    "    ('tfidf', TfidfTransformer()),\n",
    "    ('reduce_dim', TruncatedSVD(n_components=500, random_state=42)),\n",
    "    ('clf', LogisticRegression(C=10, random_state=42))\n",
    "])\n",
    "\n",
    "pipeline1.fit(train.full_text, y_train)\n",
    "predict = pipeline1.predict(test.full_text)\n",
    "\n",
    "print('-'*20)\n",
    "print(\"Confusion matrix on test set is: \")\n",
    "print(metrics.confusion_matrix(y_test, predict))\n",
    "print('-'*20)\n",
    "print('-'*20)\n",
    "print(\"Performance metrics on test set is: \")\n",
    "print (\"Precision is: \", metrics.precision_score(y_test, predict))\n",
    "print (\"Recall is: \", metrics.recall_score(y_test, predict))\n",
    "print (\"Accuracy is: \", metrics.accuracy_score(y_test, predict))\n",
    "print (\"F1 score is: \", metrics.f1_score(y_test, predict))\n",
    "print('-'*20)\n",
    "\n",
    "\n",
    "# model-2\n",
    "pipeline2 = Pipeline([\n",
    "    ('vect', CountVectorizer(min_df=3, stop_words='english')),\n",
    "    ('tfidf', TfidfTransformer()),\n",
    "    ('reduce_dim', TruncatedSVD(n_components=500, random_state=42)),\n",
    "    ('clf', LogisticRegression(C=10, random_state=42))\n",
    "])\n",
    "\n",
    "pipeline2.fit(train.full_text, y_train)\n",
    "predict = pipeline2.predict(test.full_text)\n",
    "\n",
    "print('-'*20)\n",
    "print(\"Confusion matrix on test set is: \")\n",
    "print(metrics.confusion_matrix(y_test, predict))\n",
    "print('-'*20)\n",
    "print('-'*20)\n",
    "print(\"Performance metrics on test set is: \")\n",
    "print (\"Precision is: \", metrics.precision_score(y_test, predict))\n",
    "print (\"Recall is: \", metrics.recall_score(y_test, predict))\n",
    "print (\"Accuracy is: \", metrics.accuracy_score(y_test, predict))\n",
    "print (\"F1 score is: \", metrics.f1_score(y_test, predict))\n",
    "print('-'*20)\n",
    "\n",
    "\n",
    "# model-3\n",
    "pipeline3 = Pipeline([\n",
    "    ('vect', CountVectorizer(min_df=3, stop_words='english')),\n",
    "    ('tfidf', TfidfTransformer()),\n",
    "    ('reduce_dim', TruncatedSVD(n_components=500, random_state=42)),\n",
    "    ('clf', SVC(C=100, kernel='linear', random_state=42))\n",
    "])\n",
    "\n",
    "pipeline3.fit(train.full_text, y_train)\n",
    "predict = pipeline3.predict(test.full_text)\n",
    "\n",
    "print('-'*20)\n",
    "print(\"Confusion matrix on test set is: \")\n",
    "print(metrics.confusion_matrix(y_test, predict))\n",
    "print('-'*20)\n",
    "print('-'*20)\n",
    "print(\"Performance metrics on test set is: \")\n",
    "print (\"Precision is: \", metrics.precision_score(y_test, predict))\n",
    "print (\"Recall is: \", metrics.recall_score(y_test, predict))\n",
    "print (\"Accuracy is: \", metrics.accuracy_score(y_test, predict))\n",
    "print (\"F1 score is: \", metrics.f1_score(y_test, predict))\n",
    "print('-'*20)\n",
    "\n",
    "\n",
    "#model-4\n",
    "pipeline4 = Pipeline([\n",
    "    ('vect', CountVectorizer(min_df=5, stop_words='english')),\n",
    "    ('tfidf', TfidfTransformer()),\n",
    "    ('reduce_dim', NMF(init='random', n_components=500, random_state=42)),\n",
    "    ('clf', GaussianNB())\n",
    "])\n",
    "\n",
    "pipeline4.fit(train.full_text, y_train)\n",
    "predict = pipeline4.predict(test.full_text)\n",
    "\n",
    "print('-'*20)\n",
    "print(\"Confusion matrix on test set is: \")\n",
    "print(metrics.confusion_matrix(y_test, predict))\n",
    "print('-'*20)\n",
    "print('-'*20)\n",
    "print(\"Performance metrics on test set is: \")\n",
    "print (\"Precision is: \", metrics.precision_score(y_test, predict))\n",
    "print (\"Recall is: \", metrics.recall_score(y_test, predict))\n",
    "print (\"Accuracy is: \", metrics.accuracy_score(y_test, predict))\n",
    "print (\"F1 score is: \", metrics.f1_score(y_test, predict))\n",
    "print('-'*20)\n",
    "\n",
    "\n",
    "#model-5\n",
    "pipeline5 = Pipeline([\n",
    "    ('vect', CountVectorizer(min_df=3, stop_words='english')),\n",
    "    ('tfidf', TfidfTransformer()),\n",
    "    ('reduce_dim', NMF(init='random', n_components=500, random_state=42)),\n",
    "    ('clf', SVC(C=100, kernel='linear', random_state=42))\n",
    "])\n",
    "\n",
    "pipeline5.fit(train.full_text, y_train)\n",
    "predict = pipeline5.predict(test.full_text)\n",
    "\n",
    "print('-'*20)\n",
    "print(\"Confusion matrix on test set is: \")\n",
    "print(metrics.confusion_matrix(y_test, predict))\n",
    "print('-'*20)\n",
    "print('-'*20)\n",
    "print(\"Performance metrics on test set is: \")\n",
    "print (\"Precision is: \", metrics.precision_score(y_test, predict))\n",
    "print (\"Recall is: \", metrics.recall_score(y_test, predict))\n",
    "print (\"Accuracy is: \", metrics.accuracy_score(y_test, predict))\n",
    "print (\"F1 score is: \", metrics.f1_score(y_test, predict))\n",
    "print('-'*20)\n"
   ]
  },
  {
   "cell_type": "code",
   "execution_count": null,
   "id": "db43972a",
   "metadata": {},
   "outputs": [],
   "source": [
    "## corrected grid search code - run completed"
   ]
  },
  {
   "cell_type": "code",
   "execution_count": 60,
   "id": "71293da8",
   "metadata": {},
   "outputs": [],
   "source": [
    "# cachedir = mkdtemp()\n",
    "# memory = joblib.Memory(location=cachedir, verbose=10)\n",
    "\n",
    "pipeline = Pipeline([\n",
    "    ('vect', CountVectorizer(min_df=1, stop_words='english')),\n",
    "    ('tfidf', TfidfTransformer()),\n",
    "    ('reduce_dim', TruncatedSVD(random_state=42)),\n",
    "    ('clf', GaussianNB()),\n",
    "],\n",
    "# memory=memory\n",
    ")\n",
    "\n",
    "param_grid = [\n",
    "    {\n",
    "        'vect': [\n",
    "            CountVectorizer(min_df=3, analyzer=doc_tokens_lemma),   ## lemmatization with data cleaning\n",
    "            CountVectorizer(min_df=3, analyzer=doc_tokens_stem),    ## stemming with data cleaning\n",
    "            CountVectorizer(min_df=3, analyzer=doc_tokens),   ## no compression with data cleaning\n",
    "            CountVectorizer(min_df=3, analyzer=doc_tokens_lemma_woClean), ## lemmatization without data cleaning\n",
    "            CountVectorizer(min_df=3, analyzer=doc_tokens_stem_woClean), ## stemming without data cleaning\n",
    "            CountVectorizer(min_df=3, analyzer=doc_tokens_woClean),  ## no compression with data cleaning\n",
    "            CountVectorizer(min_df=5, analyzer=doc_tokens_lemma),   \n",
    "            CountVectorizer(min_df=5, analyzer=doc_tokens_stem),    \n",
    "            CountVectorizer(min_df=5, analyzer=doc_tokens),   \n",
    "            CountVectorizer(min_df=5, analyzer=doc_tokens_lemma_woClean), \n",
    "            CountVectorizer(min_df=5, analyzer=doc_tokens_stem_woClean), \n",
    "            CountVectorizer(min_df=5, analyzer=doc_tokens_woClean)\n",
    "        ],\n",
    "        'reduce_dim': [TruncatedSVD(n_components=5, n_iter=20, random_state=42),\n",
    "                       TruncatedSVD(n_components=50, n_iter=20, random_state=42),\n",
    "                       TruncatedSVD(n_components=500, n_iter=20, random_state=42),\n",
    "                       NMF(n_components=5, max_iter=500, init='random', random_state=42),\n",
    "                       NMF(n_components=50, max_iter=500, init='random', random_state=42),\n",
    "                       NMF(n_components=500, max_iter=500, init='random', random_state=42)\n",
    "        ],\n",
    "        'clf': [SVC(kernel='linear', C=10, random_state=42),\n",
    "                LogisticRegression(penalty='l1', C=100, random_state=42),\n",
    "                LogisticRegression(penalty='l2', C=1000, random_state=42),\n",
    "                GaussianNB()\n",
    "        ],\n",
    "    }\n",
    "]"
   ]
  },
  {
   "cell_type": "code",
   "execution_count": 61,
   "id": "f038cb73",
   "metadata": {},
   "outputs": [
    {
     "name": "stderr",
     "output_type": "stream",
     "text": [
      "/Users/reemakumari/.conda/envs/kaggle/lib/python3.8/site-packages/sklearn/model_selection/_validation.py:372: FitFailedWarning: \n",
      "360 fits failed out of a total of 1440.\n",
      "The score on these train-test partitions for these parameters will be set to nan.\n",
      "If these failures are not expected, you can try to debug them by setting error_score='raise'.\n",
      "\n",
      "Below are more details about the failures:\n",
      "--------------------------------------------------------------------------------\n",
      "360 fits failed with the following error:\n",
      "Traceback (most recent call last):\n",
      "  File \"/Users/reemakumari/.conda/envs/kaggle/lib/python3.8/site-packages/sklearn/model_selection/_validation.py\", line 680, in _fit_and_score\n",
      "    estimator.fit(X_train, y_train, **fit_params)\n",
      "  File \"/Users/reemakumari/.conda/envs/kaggle/lib/python3.8/site-packages/sklearn/pipeline.py\", line 394, in fit\n",
      "    self._final_estimator.fit(Xt, y, **fit_params_last_step)\n",
      "  File \"/Users/reemakumari/.conda/envs/kaggle/lib/python3.8/site-packages/sklearn/linear_model/_logistic.py\", line 1461, in fit\n",
      "    solver = _check_solver(self.solver, self.penalty, self.dual)\n",
      "  File \"/Users/reemakumari/.conda/envs/kaggle/lib/python3.8/site-packages/sklearn/linear_model/_logistic.py\", line 447, in _check_solver\n",
      "    raise ValueError(\n",
      "ValueError: Solver lbfgs supports only 'l2' or 'none' penalties, got l1 penalty.\n",
      "\n",
      "  warnings.warn(some_fits_failed_message, FitFailedWarning)\n",
      "/Users/reemakumari/.conda/envs/kaggle/lib/python3.8/site-packages/sklearn/model_selection/_search.py:969: UserWarning: One or more of the test scores are non-finite: [0.91490008 0.91670731 0.92274779 0.90584392 0.89738834 0.89920831\n",
      " 0.91549885 0.91489644 0.91973028 0.90222036 0.89618171 0.89920467\n",
      " 0.95714702 0.9571452  0.95654279 0.94990354 0.95110654 0.94929749\n",
      " 0.95533797 0.95835002 0.95835002 0.94990172 0.9511029  0.9474848\n",
      " 0.96196083 0.9686019  0.96800495 0.9649838  0.96920431 0.9661868\n",
      " 0.96256688 0.96558803 0.96740072 0.96377534 0.96860372 0.96679467\n",
      " 0.91852    0.919723   0.91549703 0.88169657 0.88168747 0.87083682\n",
      " 0.91490008 0.91670913 0.92153205 0.88291413 0.88712918 0.87325374\n",
      " 0.95352528 0.95171259 0.94749026 0.94266553 0.92939067 0.93964802\n",
      " 0.95292105 0.95714884 0.95171623 0.93783715 0.94567757 0.93362392\n",
      " 0.95955484 0.96015361 0.96136388 0.93239544 0.94084374 0.92154115\n",
      " 0.96316565 0.96014633 0.9637808  0.94989444 0.94627452 0.93360208\n",
      "        nan        nan        nan        nan        nan        nan\n",
      "        nan        nan        nan        nan        nan        nan\n",
      "        nan        nan        nan        nan        nan        nan\n",
      "        nan        nan        nan        nan        nan        nan\n",
      "        nan        nan        nan        nan        nan        nan\n",
      "        nan        nan        nan        nan        nan        nan\n",
      "        nan        nan        nan        nan        nan        nan\n",
      "        nan        nan        nan        nan        nan        nan\n",
      "        nan        nan        nan        nan        nan        nan\n",
      "        nan        nan        nan        nan        nan        nan\n",
      "        nan        nan        nan        nan        nan        nan\n",
      "        nan        nan        nan        nan        nan        nan\n",
      " 0.91611036 0.92033633 0.92515925 0.90524151 0.89920467 0.89377753\n",
      " 0.916114   0.91973392 0.92395079 0.90523969 0.90041313 0.89679322\n",
      " 0.95956576 0.95655189 0.95292287 0.95292287 0.95351982 0.94748844\n",
      " 0.9583573  0.95534161 0.95413133 0.95473374 0.95593492 0.94929385\n",
      " 0.96679285 0.97161759 0.97102064 0.97042005 0.97041277 0.9673989\n",
      " 0.96619044 0.96739708 0.96921159 0.96679831 0.96740072 0.96860554\n",
      " 0.91912787 0.91791759 0.92938339 0.90282823 0.89195938 0.89015579\n",
      " 0.91791759 0.91852546 0.92938521 0.89437812 0.89498599 0.89378117\n",
      " 0.96016089 0.96560077 0.95533797 0.95534343 0.95051869 0.95473192\n",
      " 0.96499472 0.95775125 0.9571452  0.95352346 0.95292105 0.95232774\n",
      " 0.96317111 0.96679649 0.96800313 0.95291195 0.9559331  0.94989626\n",
      " 0.9637717  0.96438139 0.96558803 0.96136024 0.9559331  0.95773669\n",
      " 0.87204164 0.85816256 0.87686638 0.8883249  0.87083682 0.88471044\n",
      " 0.87143195 0.86540058 0.88412077 0.88711644 0.87445856 0.88593528\n",
      " 0.93480872 0.93663597 0.91913333 0.91429767 0.92334656 0.87146289\n",
      " 0.93299785 0.94267281 0.92757981 0.92335748 0.92334838 0.87869727\n",
      " 0.85574746 0.85452626 0.85517417 0.94326248 0.91911513 0.90765115\n",
      " 0.87264405 0.86902595 0.85816074 0.93481964 0.91790667 0.90645725\n",
      " 0.9118844  0.91309103 0.91611582 0.88050086 0.89075456 0.88774433\n",
      " 0.91792851 0.91490372 0.91973574 0.89437266 0.89740108 0.88110145\n",
      " 0.96257598 0.96438685 0.95714338 0.95231864 0.95775489 0.95534161\n",
      " 0.967408   0.96378808 0.96016089 0.95292287 0.95111928 0.94870782\n",
      " 0.95593128 0.95653187 0.96196629 0.95834092 0.95894333 0.96377352\n",
      " 0.95351618 0.95291559 0.95774397 0.95472464 0.95834092 0.95954574]\n",
      "  warnings.warn(\n",
      "/Users/reemakumari/.conda/envs/kaggle/lib/python3.8/site-packages/sklearn/linear_model/_logistic.py:814: ConvergenceWarning: lbfgs failed to converge (status=1):\n",
      "STOP: TOTAL NO. of ITERATIONS REACHED LIMIT.\n",
      "\n",
      "Increase the number of iterations (max_iter) or scale the data as shown in:\n",
      "    https://scikit-learn.org/stable/modules/preprocessing.html\n",
      "Please also refer to the documentation for alternative solver options:\n",
      "    https://scikit-learn.org/stable/modules/linear_model.html#logistic-regression\n",
      "  n_iter_i = _check_optimize_result(\n"
     ]
    },
    {
     "data": {
      "text/plain": [
       "GridSearchCV(cv=5,\n",
       "             estimator=Pipeline(steps=[('vect',\n",
       "                                        CountVectorizer(stop_words='english')),\n",
       "                                       ('tfidf', TfidfTransformer()),\n",
       "                                       ('reduce_dim',\n",
       "                                        TruncatedSVD(random_state=42)),\n",
       "                                       ('clf', GaussianNB())]),\n",
       "             n_jobs=-1,\n",
       "             param_grid=[{'clf': [SVC(C=10, kernel='linear', random_state=42),\n",
       "                                  LogisticRegression(C=100, penalty='l1',\n",
       "                                                     random_state=42),\n",
       "                                  LogisticRegression(C=1000, random_st...\n",
       "                                                   min_df=5),\n",
       "                                   CountVectorizer(analyzer=<function doc_tokens at 0x7fc86dc3bc10>,\n",
       "                                                   min_df=5),\n",
       "                                   CountVectorizer(analyzer=<function doc_tokens_lemma_woClean at 0x7fc86dc18ee0>,\n",
       "                                                   min_df=5),\n",
       "                                   CountVectorizer(analyzer=<function doc_tokens_stem_woClean at 0x7fc86dc3bb80>,\n",
       "                                                   min_df=5),\n",
       "                                   CountVectorizer(analyzer=<function doc_tokens_woClean at 0x7fc86dc3bca0>,\n",
       "                                                   min_df=5)]}],\n",
       "             scoring='accuracy')"
      ]
     },
     "execution_count": 61,
     "metadata": {},
     "output_type": "execute_result"
    }
   ],
   "source": [
    "# grid search no clean data\n",
    "grid = GridSearchCV(pipeline, cv=5, n_jobs=-1, param_grid=param_grid, scoring='accuracy')\n",
    "grid.fit(train.full_text, y_train)\n",
    "# rmtree(cachedir)"
   ]
  },
  {
   "cell_type": "code",
   "execution_count": 62,
   "id": "a55a705e",
   "metadata": {},
   "outputs": [
    {
     "data": {
      "text/html": [
       "<div>\n",
       "<style scoped>\n",
       "    .dataframe tbody tr th:only-of-type {\n",
       "        vertical-align: middle;\n",
       "    }\n",
       "\n",
       "    .dataframe tbody tr th {\n",
       "        vertical-align: top;\n",
       "    }\n",
       "\n",
       "    .dataframe thead th {\n",
       "        text-align: right;\n",
       "    }\n",
       "</style>\n",
       "<table border=\"1\" class=\"dataframe\">\n",
       "  <thead>\n",
       "    <tr style=\"text-align: right;\">\n",
       "      <th></th>\n",
       "      <th>mean_fit_time</th>\n",
       "      <th>std_fit_time</th>\n",
       "      <th>mean_score_time</th>\n",
       "      <th>std_score_time</th>\n",
       "      <th>param_clf</th>\n",
       "      <th>param_reduce_dim</th>\n",
       "      <th>param_vect</th>\n",
       "      <th>params</th>\n",
       "      <th>split0_test_score</th>\n",
       "      <th>split1_test_score</th>\n",
       "      <th>split2_test_score</th>\n",
       "      <th>split3_test_score</th>\n",
       "      <th>split4_test_score</th>\n",
       "      <th>mean_test_score</th>\n",
       "      <th>std_test_score</th>\n",
       "      <th>rank_test_score</th>\n",
       "    </tr>\n",
       "  </thead>\n",
       "  <tbody>\n",
       "    <tr>\n",
       "      <th>0</th>\n",
       "      <td>60.556012</td>\n",
       "      <td>0.298203</td>\n",
       "      <td>14.204888</td>\n",
       "      <td>0.572275</td>\n",
       "      <td>SVC(C=10, kernel='linear', random_state=42)</td>\n",
       "      <td>TruncatedSVD(n_components=5, n_iter=20, random...</td>\n",
       "      <td>CountVectorizer(analyzer=&lt;function doc_tokens_...</td>\n",
       "      <td>{'clf': SVC(C=10, kernel='linear', random_stat...</td>\n",
       "      <td>0.942771</td>\n",
       "      <td>0.897590</td>\n",
       "      <td>0.909366</td>\n",
       "      <td>0.933535</td>\n",
       "      <td>0.891239</td>\n",
       "      <td>0.914900</td>\n",
       "      <td>0.020071</td>\n",
       "      <td>159</td>\n",
       "    </tr>\n",
       "    <tr>\n",
       "      <th>1</th>\n",
       "      <td>20.732930</td>\n",
       "      <td>0.137565</td>\n",
       "      <td>4.658493</td>\n",
       "      <td>0.184470</td>\n",
       "      <td>SVC(C=10, kernel='linear', random_state=42)</td>\n",
       "      <td>TruncatedSVD(n_components=5, n_iter=20, random...</td>\n",
       "      <td>CountVectorizer(analyzer=&lt;function doc_tokens_...</td>\n",
       "      <td>{'clf': SVC(C=10, kernel='linear', random_stat...</td>\n",
       "      <td>0.945783</td>\n",
       "      <td>0.903614</td>\n",
       "      <td>0.909366</td>\n",
       "      <td>0.933535</td>\n",
       "      <td>0.891239</td>\n",
       "      <td>0.916707</td>\n",
       "      <td>0.020013</td>\n",
       "      <td>152</td>\n",
       "    </tr>\n",
       "    <tr>\n",
       "      <th>2</th>\n",
       "      <td>6.262473</td>\n",
       "      <td>0.367922</td>\n",
       "      <td>1.512071</td>\n",
       "      <td>0.194906</td>\n",
       "      <td>SVC(C=10, kernel='linear', random_state=42)</td>\n",
       "      <td>TruncatedSVD(n_components=5, n_iter=20, random...</td>\n",
       "      <td>CountVectorizer(analyzer=&lt;function doc_tokens ...</td>\n",
       "      <td>{'clf': SVC(C=10, kernel='linear', random_stat...</td>\n",
       "      <td>0.942771</td>\n",
       "      <td>0.909639</td>\n",
       "      <td>0.918429</td>\n",
       "      <td>0.939577</td>\n",
       "      <td>0.903323</td>\n",
       "      <td>0.922748</td>\n",
       "      <td>0.015824</td>\n",
       "      <td>134</td>\n",
       "    </tr>\n",
       "    <tr>\n",
       "      <th>3</th>\n",
       "      <td>78.784462</td>\n",
       "      <td>0.922245</td>\n",
       "      <td>19.691121</td>\n",
       "      <td>0.719939</td>\n",
       "      <td>SVC(C=10, kernel='linear', random_state=42)</td>\n",
       "      <td>TruncatedSVD(n_components=5, n_iter=20, random...</td>\n",
       "      <td>CountVectorizer(analyzer=&lt;function doc_tokens_...</td>\n",
       "      <td>{'clf': SVC(C=10, kernel='linear', random_stat...</td>\n",
       "      <td>0.921687</td>\n",
       "      <td>0.906627</td>\n",
       "      <td>0.906344</td>\n",
       "      <td>0.909366</td>\n",
       "      <td>0.885196</td>\n",
       "      <td>0.905844</td>\n",
       "      <td>0.011752</td>\n",
       "      <td>167</td>\n",
       "    </tr>\n",
       "    <tr>\n",
       "      <th>4</th>\n",
       "      <td>30.760967</td>\n",
       "      <td>0.455082</td>\n",
       "      <td>7.697273</td>\n",
       "      <td>0.284119</td>\n",
       "      <td>SVC(C=10, kernel='linear', random_state=42)</td>\n",
       "      <td>TruncatedSVD(n_components=5, n_iter=20, random...</td>\n",
       "      <td>CountVectorizer(analyzer=&lt;function doc_tokens_...</td>\n",
       "      <td>{'clf': SVC(C=10, kernel='linear', random_stat...</td>\n",
       "      <td>0.906627</td>\n",
       "      <td>0.915663</td>\n",
       "      <td>0.888218</td>\n",
       "      <td>0.891239</td>\n",
       "      <td>0.885196</td>\n",
       "      <td>0.897388</td>\n",
       "      <td>0.011746</td>\n",
       "      <td>177</td>\n",
       "    </tr>\n",
       "    <tr>\n",
       "      <th>...</th>\n",
       "      <td>...</td>\n",
       "      <td>...</td>\n",
       "      <td>...</td>\n",
       "      <td>...</td>\n",
       "      <td>...</td>\n",
       "      <td>...</td>\n",
       "      <td>...</td>\n",
       "      <td>...</td>\n",
       "      <td>...</td>\n",
       "      <td>...</td>\n",
       "      <td>...</td>\n",
       "      <td>...</td>\n",
       "      <td>...</td>\n",
       "      <td>...</td>\n",
       "      <td>...</td>\n",
       "      <td>...</td>\n",
       "    </tr>\n",
       "    <tr>\n",
       "      <th>283</th>\n",
       "      <td>1651.058377</td>\n",
       "      <td>284.965942</td>\n",
       "      <td>8.317265</td>\n",
       "      <td>0.401409</td>\n",
       "      <td>GaussianNB()</td>\n",
       "      <td>NMF(init='random', max_iter=500, n_components=...</td>\n",
       "      <td>CountVectorizer(analyzer=&lt;function doc_tokens_...</td>\n",
       "      <td>{'clf': GaussianNB(), 'reduce_dim': NMF(init='...</td>\n",
       "      <td>0.966867</td>\n",
       "      <td>0.957831</td>\n",
       "      <td>0.933535</td>\n",
       "      <td>0.954683</td>\n",
       "      <td>0.951662</td>\n",
       "      <td>0.952916</td>\n",
       "      <td>0.010947</td>\n",
       "      <td>90</td>\n",
       "    </tr>\n",
       "    <tr>\n",
       "      <th>284</th>\n",
       "      <td>1939.243576</td>\n",
       "      <td>256.195033</td>\n",
       "      <td>5.926939</td>\n",
       "      <td>0.210400</td>\n",
       "      <td>GaussianNB()</td>\n",
       "      <td>NMF(init='random', max_iter=500, n_components=...</td>\n",
       "      <td>CountVectorizer(analyzer=&lt;function doc_tokens ...</td>\n",
       "      <td>{'clf': GaussianNB(), 'reduce_dim': NMF(init='...</td>\n",
       "      <td>0.975904</td>\n",
       "      <td>0.957831</td>\n",
       "      <td>0.951662</td>\n",
       "      <td>0.957704</td>\n",
       "      <td>0.945619</td>\n",
       "      <td>0.957744</td>\n",
       "      <td>0.010137</td>\n",
       "      <td>58</td>\n",
       "    </tr>\n",
       "    <tr>\n",
       "      <th>285</th>\n",
       "      <td>3805.432942</td>\n",
       "      <td>379.143034</td>\n",
       "      <td>30.776265</td>\n",
       "      <td>3.635799</td>\n",
       "      <td>GaussianNB()</td>\n",
       "      <td>NMF(init='random', max_iter=500, n_components=...</td>\n",
       "      <td>CountVectorizer(analyzer=&lt;function doc_tokens_...</td>\n",
       "      <td>{'clf': GaussianNB(), 'reduce_dim': NMF(init='...</td>\n",
       "      <td>0.966867</td>\n",
       "      <td>0.963855</td>\n",
       "      <td>0.951662</td>\n",
       "      <td>0.948640</td>\n",
       "      <td>0.942598</td>\n",
       "      <td>0.954725</td>\n",
       "      <td>0.009212</td>\n",
       "      <td>79</td>\n",
       "    </tr>\n",
       "    <tr>\n",
       "      <th>286</th>\n",
       "      <td>3241.540353</td>\n",
       "      <td>569.392592</td>\n",
       "      <td>16.464806</td>\n",
       "      <td>1.008004</td>\n",
       "      <td>GaussianNB()</td>\n",
       "      <td>NMF(init='random', max_iter=500, n_components=...</td>\n",
       "      <td>CountVectorizer(analyzer=&lt;function doc_tokens_...</td>\n",
       "      <td>{'clf': GaussianNB(), 'reduce_dim': NMF(init='...</td>\n",
       "      <td>0.978916</td>\n",
       "      <td>0.966867</td>\n",
       "      <td>0.951662</td>\n",
       "      <td>0.951662</td>\n",
       "      <td>0.942598</td>\n",
       "      <td>0.958341</td>\n",
       "      <td>0.012908</td>\n",
       "      <td>54</td>\n",
       "    </tr>\n",
       "    <tr>\n",
       "      <th>287</th>\n",
       "      <td>2846.555764</td>\n",
       "      <td>542.532993</td>\n",
       "      <td>7.761512</td>\n",
       "      <td>1.930609</td>\n",
       "      <td>GaussianNB()</td>\n",
       "      <td>NMF(init='random', max_iter=500, n_components=...</td>\n",
       "      <td>CountVectorizer(analyzer=&lt;function doc_tokens_...</td>\n",
       "      <td>{'clf': GaussianNB(), 'reduce_dim': NMF(init='...</td>\n",
       "      <td>0.969880</td>\n",
       "      <td>0.981928</td>\n",
       "      <td>0.957704</td>\n",
       "      <td>0.948640</td>\n",
       "      <td>0.939577</td>\n",
       "      <td>0.959546</td>\n",
       "      <td>0.015025</td>\n",
       "      <td>49</td>\n",
       "    </tr>\n",
       "  </tbody>\n",
       "</table>\n",
       "<p>288 rows × 16 columns</p>\n",
       "</div>"
      ],
      "text/plain": [
       "     mean_fit_time  std_fit_time  mean_score_time  std_score_time  \\\n",
       "0        60.556012      0.298203        14.204888        0.572275   \n",
       "1        20.732930      0.137565         4.658493        0.184470   \n",
       "2         6.262473      0.367922         1.512071        0.194906   \n",
       "3        78.784462      0.922245        19.691121        0.719939   \n",
       "4        30.760967      0.455082         7.697273        0.284119   \n",
       "..             ...           ...              ...             ...   \n",
       "283    1651.058377    284.965942         8.317265        0.401409   \n",
       "284    1939.243576    256.195033         5.926939        0.210400   \n",
       "285    3805.432942    379.143034        30.776265        3.635799   \n",
       "286    3241.540353    569.392592        16.464806        1.008004   \n",
       "287    2846.555764    542.532993         7.761512        1.930609   \n",
       "\n",
       "                                       param_clf  \\\n",
       "0    SVC(C=10, kernel='linear', random_state=42)   \n",
       "1    SVC(C=10, kernel='linear', random_state=42)   \n",
       "2    SVC(C=10, kernel='linear', random_state=42)   \n",
       "3    SVC(C=10, kernel='linear', random_state=42)   \n",
       "4    SVC(C=10, kernel='linear', random_state=42)   \n",
       "..                                           ...   \n",
       "283                                 GaussianNB()   \n",
       "284                                 GaussianNB()   \n",
       "285                                 GaussianNB()   \n",
       "286                                 GaussianNB()   \n",
       "287                                 GaussianNB()   \n",
       "\n",
       "                                      param_reduce_dim  \\\n",
       "0    TruncatedSVD(n_components=5, n_iter=20, random...   \n",
       "1    TruncatedSVD(n_components=5, n_iter=20, random...   \n",
       "2    TruncatedSVD(n_components=5, n_iter=20, random...   \n",
       "3    TruncatedSVD(n_components=5, n_iter=20, random...   \n",
       "4    TruncatedSVD(n_components=5, n_iter=20, random...   \n",
       "..                                                 ...   \n",
       "283  NMF(init='random', max_iter=500, n_components=...   \n",
       "284  NMF(init='random', max_iter=500, n_components=...   \n",
       "285  NMF(init='random', max_iter=500, n_components=...   \n",
       "286  NMF(init='random', max_iter=500, n_components=...   \n",
       "287  NMF(init='random', max_iter=500, n_components=...   \n",
       "\n",
       "                                            param_vect  \\\n",
       "0    CountVectorizer(analyzer=<function doc_tokens_...   \n",
       "1    CountVectorizer(analyzer=<function doc_tokens_...   \n",
       "2    CountVectorizer(analyzer=<function doc_tokens ...   \n",
       "3    CountVectorizer(analyzer=<function doc_tokens_...   \n",
       "4    CountVectorizer(analyzer=<function doc_tokens_...   \n",
       "..                                                 ...   \n",
       "283  CountVectorizer(analyzer=<function doc_tokens_...   \n",
       "284  CountVectorizer(analyzer=<function doc_tokens ...   \n",
       "285  CountVectorizer(analyzer=<function doc_tokens_...   \n",
       "286  CountVectorizer(analyzer=<function doc_tokens_...   \n",
       "287  CountVectorizer(analyzer=<function doc_tokens_...   \n",
       "\n",
       "                                                params  split0_test_score  \\\n",
       "0    {'clf': SVC(C=10, kernel='linear', random_stat...           0.942771   \n",
       "1    {'clf': SVC(C=10, kernel='linear', random_stat...           0.945783   \n",
       "2    {'clf': SVC(C=10, kernel='linear', random_stat...           0.942771   \n",
       "3    {'clf': SVC(C=10, kernel='linear', random_stat...           0.921687   \n",
       "4    {'clf': SVC(C=10, kernel='linear', random_stat...           0.906627   \n",
       "..                                                 ...                ...   \n",
       "283  {'clf': GaussianNB(), 'reduce_dim': NMF(init='...           0.966867   \n",
       "284  {'clf': GaussianNB(), 'reduce_dim': NMF(init='...           0.975904   \n",
       "285  {'clf': GaussianNB(), 'reduce_dim': NMF(init='...           0.966867   \n",
       "286  {'clf': GaussianNB(), 'reduce_dim': NMF(init='...           0.978916   \n",
       "287  {'clf': GaussianNB(), 'reduce_dim': NMF(init='...           0.969880   \n",
       "\n",
       "     split1_test_score  split2_test_score  split3_test_score  \\\n",
       "0             0.897590           0.909366           0.933535   \n",
       "1             0.903614           0.909366           0.933535   \n",
       "2             0.909639           0.918429           0.939577   \n",
       "3             0.906627           0.906344           0.909366   \n",
       "4             0.915663           0.888218           0.891239   \n",
       "..                 ...                ...                ...   \n",
       "283           0.957831           0.933535           0.954683   \n",
       "284           0.957831           0.951662           0.957704   \n",
       "285           0.963855           0.951662           0.948640   \n",
       "286           0.966867           0.951662           0.951662   \n",
       "287           0.981928           0.957704           0.948640   \n",
       "\n",
       "     split4_test_score  mean_test_score  std_test_score  rank_test_score  \n",
       "0             0.891239         0.914900        0.020071              159  \n",
       "1             0.891239         0.916707        0.020013              152  \n",
       "2             0.903323         0.922748        0.015824              134  \n",
       "3             0.885196         0.905844        0.011752              167  \n",
       "4             0.885196         0.897388        0.011746              177  \n",
       "..                 ...              ...             ...              ...  \n",
       "283           0.951662         0.952916        0.010947               90  \n",
       "284           0.945619         0.957744        0.010137               58  \n",
       "285           0.942598         0.954725        0.009212               79  \n",
       "286           0.942598         0.958341        0.012908               54  \n",
       "287           0.939577         0.959546        0.015025               49  \n",
       "\n",
       "[288 rows x 16 columns]"
      ]
     },
     "execution_count": 62,
     "metadata": {},
     "output_type": "execute_result"
    }
   ],
   "source": [
    "import pandas as pd\n",
    "\n",
    "result = pd.DataFrame(grid.cv_results_)\n",
    "pd.DataFrame(grid.cv_results_)"
   ]
  },
  {
   "cell_type": "code",
   "execution_count": 63,
   "id": "2a1ffec0",
   "metadata": {},
   "outputs": [],
   "source": [
    "# save the data\n",
    "np.save(\"results\",result)"
   ]
  },
  {
   "cell_type": "code",
   "execution_count": 64,
   "id": "d362dea9",
   "metadata": {},
   "outputs": [
    {
     "name": "stdout",
     "output_type": "stream",
     "text": [
      "The index of 5 best combination:{1: 169, 2: 170, 3: 171, 4: 172, 5: 176}\n"
     ]
    }
   ],
   "source": [
    "best_list = {}\n",
    "k = 1\n",
    "for i,row in enumerate(result['rank_test_score']):\n",
    "    if row >= 1 and row <= 5:\n",
    "        best_list[row] = i\n",
    "    \n",
    "print(\"The index of 5 best combination:{}\".format(best_list))"
   ]
  },
  {
   "cell_type": "code",
   "execution_count": 65,
   "id": "fee857d6",
   "metadata": {},
   "outputs": [
    {
     "name": "stdout",
     "output_type": "stream",
     "text": [
      "________________________________________________________________________________\n",
      "rank_test_score:\n",
      "1\n",
      "____________________\n",
      "mean_test_score:\n",
      "0.9716175881774834\n",
      "____________________\n",
      "model parameters:\n",
      "{'clf': LogisticRegression(C=1000, random_state=42), 'reduce_dim': TruncatedSVD(n_components=500, n_iter=20, random_state=42), 'vect': CountVectorizer(analyzer=<function doc_tokens_stem at 0x7fc86dc3b5e0>, min_df=3)}\n",
      "________________________________________________________________________________\n",
      "________________________________________________________________________________\n",
      "rank_test_score:\n",
      "2\n",
      "____________________\n",
      "mean_test_score:\n",
      "0.9710206384450188\n",
      "____________________\n",
      "model parameters:\n",
      "{'clf': LogisticRegression(C=1000, random_state=42), 'reduce_dim': TruncatedSVD(n_components=500, n_iter=20, random_state=42), 'vect': CountVectorizer(analyzer=<function doc_tokens at 0x7fc86dc3bc10>, min_df=3)}\n",
      "________________________________________________________________________________\n",
      "________________________________________________________________________________\n",
      "rank_test_score:\n",
      "3\n",
      "____________________\n",
      "mean_test_score:\n",
      "0.970420048775161\n",
      "____________________\n",
      "model parameters:\n",
      "{'clf': LogisticRegression(C=1000, random_state=42), 'reduce_dim': TruncatedSVD(n_components=500, n_iter=20, random_state=42), 'vect': CountVectorizer(analyzer=<function doc_tokens_lemma_woClean at 0x7fc86dc18ee0>,\n",
      "                min_df=3)}\n",
      "________________________________________________________________________________\n",
      "________________________________________________________________________________\n",
      "rank_test_score:\n",
      "4\n",
      "____________________\n",
      "mean_test_score:\n",
      "0.9704127689003748\n",
      "____________________\n",
      "model parameters:\n",
      "{'clf': LogisticRegression(C=1000, random_state=42), 'reduce_dim': TruncatedSVD(n_components=500, n_iter=20, random_state=42), 'vect': CountVectorizer(analyzer=<function doc_tokens_stem_woClean at 0x7fc86dc3bb80>,\n",
      "                min_df=3)}\n",
      "________________________________________________________________________________\n",
      "________________________________________________________________________________\n",
      "rank_test_score:\n",
      "5\n",
      "____________________\n",
      "mean_test_score:\n",
      "0.9692115895606597\n",
      "____________________\n",
      "model parameters:\n",
      "{'clf': LogisticRegression(C=1000, random_state=42), 'reduce_dim': TruncatedSVD(n_components=500, n_iter=20, random_state=42), 'vect': CountVectorizer(analyzer=<function doc_tokens at 0x7fc86dc3bc10>, min_df=5)}\n",
      "________________________________________________________________________________\n"
     ]
    }
   ],
   "source": [
    "i = 1\n",
    "while i <= 5:\n",
    "    index = best_list[i]\n",
    "    print(\"_\" * 80)\n",
    "    print(\"rank_test_score:\")\n",
    "    print(result['rank_test_score'][index]) \n",
    "    print(\"_\" * 20)\n",
    "    print(\"mean_test_score:\")\n",
    "    print(result['mean_test_score'][index])     \n",
    "    print(\"_\" * 20)\n",
    "    print(\"model parameters:\")\n",
    "    print(result['params'][index])  \n",
    "    print(\"_\" * 80)\n",
    "    i += 1"
   ]
  },
  {
   "cell_type": "code",
   "execution_count": 133,
   "id": "aaff4053",
   "metadata": {},
   "outputs": [
    {
     "name": "stderr",
     "output_type": "stream",
     "text": [
      "/Users/reemakumari/.conda/envs/kaggle/lib/python3.8/site-packages/sklearn/linear_model/_logistic.py:814: ConvergenceWarning: lbfgs failed to converge (status=1):\n",
      "STOP: TOTAL NO. of ITERATIONS REACHED LIMIT.\n",
      "\n",
      "Increase the number of iterations (max_iter) or scale the data as shown in:\n",
      "    https://scikit-learn.org/stable/modules/preprocessing.html\n",
      "Please also refer to the documentation for alternative solver options:\n",
      "    https://scikit-learn.org/stable/modules/linear_model.html#logistic-regression\n",
      "  n_iter_i = _check_optimize_result(\n"
     ]
    },
    {
     "name": "stdout",
     "output_type": "stream",
     "text": [
      "--------------------\n",
      "Confusion matrix on test set is: \n",
      "[[199   7]\n",
      " [  1 208]]\n",
      "--------------------\n",
      "--------------------\n",
      "Performance metrics on test set is: \n",
      "Precision is:  0.9674418604651163\n",
      "Recall is:  0.9952153110047847\n",
      "Accuracy is:  0.980722891566265\n",
      "F1 score is:  0.981132075471698\n",
      "--------------------\n"
     ]
    },
    {
     "name": "stderr",
     "output_type": "stream",
     "text": [
      "/Users/reemakumari/.conda/envs/kaggle/lib/python3.8/site-packages/sklearn/linear_model/_logistic.py:814: ConvergenceWarning: lbfgs failed to converge (status=1):\n",
      "STOP: TOTAL NO. of ITERATIONS REACHED LIMIT.\n",
      "\n",
      "Increase the number of iterations (max_iter) or scale the data as shown in:\n",
      "    https://scikit-learn.org/stable/modules/preprocessing.html\n",
      "Please also refer to the documentation for alternative solver options:\n",
      "    https://scikit-learn.org/stable/modules/linear_model.html#logistic-regression\n",
      "  n_iter_i = _check_optimize_result(\n"
     ]
    },
    {
     "name": "stdout",
     "output_type": "stream",
     "text": [
      "--------------------\n",
      "Confusion matrix on test set is: \n",
      "[[198   8]\n",
      " [  2 207]]\n",
      "--------------------\n",
      "--------------------\n",
      "Performance metrics on test set is: \n",
      "Precision is:  0.9627906976744186\n",
      "Recall is:  0.9904306220095693\n",
      "Accuracy is:  0.9759036144578314\n",
      "F1 score is:  0.9764150943396227\n",
      "--------------------\n"
     ]
    },
    {
     "name": "stderr",
     "output_type": "stream",
     "text": [
      "/Users/reemakumari/.conda/envs/kaggle/lib/python3.8/site-packages/sklearn/linear_model/_logistic.py:814: ConvergenceWarning: lbfgs failed to converge (status=1):\n",
      "STOP: TOTAL NO. of ITERATIONS REACHED LIMIT.\n",
      "\n",
      "Increase the number of iterations (max_iter) or scale the data as shown in:\n",
      "    https://scikit-learn.org/stable/modules/preprocessing.html\n",
      "Please also refer to the documentation for alternative solver options:\n",
      "    https://scikit-learn.org/stable/modules/linear_model.html#logistic-regression\n",
      "  n_iter_i = _check_optimize_result(\n"
     ]
    },
    {
     "name": "stdout",
     "output_type": "stream",
     "text": [
      "--------------------\n",
      "Confusion matrix on test set is: \n",
      "[[198   8]\n",
      " [  0 209]]\n",
      "--------------------\n",
      "--------------------\n",
      "Performance metrics on test set is: \n",
      "Precision is:  0.9631336405529954\n",
      "Recall is:  1.0\n",
      "Accuracy is:  0.980722891566265\n",
      "F1 score is:  0.9812206572769953\n",
      "--------------------\n"
     ]
    },
    {
     "name": "stderr",
     "output_type": "stream",
     "text": [
      "/Users/reemakumari/.conda/envs/kaggle/lib/python3.8/site-packages/sklearn/linear_model/_logistic.py:814: ConvergenceWarning: lbfgs failed to converge (status=1):\n",
      "STOP: TOTAL NO. of ITERATIONS REACHED LIMIT.\n",
      "\n",
      "Increase the number of iterations (max_iter) or scale the data as shown in:\n",
      "    https://scikit-learn.org/stable/modules/preprocessing.html\n",
      "Please also refer to the documentation for alternative solver options:\n",
      "    https://scikit-learn.org/stable/modules/linear_model.html#logistic-regression\n",
      "  n_iter_i = _check_optimize_result(\n"
     ]
    },
    {
     "name": "stdout",
     "output_type": "stream",
     "text": [
      "--------------------\n",
      "Confusion matrix on test set is: \n",
      "[[199   7]\n",
      " [  0 209]]\n",
      "--------------------\n",
      "--------------------\n",
      "Performance metrics on test set is: \n",
      "Precision is:  0.9675925925925926\n",
      "Recall is:  1.0\n",
      "Accuracy is:  0.983132530120482\n",
      "F1 score is:  0.9835294117647059\n",
      "--------------------\n"
     ]
    },
    {
     "name": "stderr",
     "output_type": "stream",
     "text": [
      "/Users/reemakumari/.conda/envs/kaggle/lib/python3.8/site-packages/sklearn/linear_model/_logistic.py:814: ConvergenceWarning: lbfgs failed to converge (status=1):\n",
      "STOP: TOTAL NO. of ITERATIONS REACHED LIMIT.\n",
      "\n",
      "Increase the number of iterations (max_iter) or scale the data as shown in:\n",
      "    https://scikit-learn.org/stable/modules/preprocessing.html\n",
      "Please also refer to the documentation for alternative solver options:\n",
      "    https://scikit-learn.org/stable/modules/linear_model.html#logistic-regression\n",
      "  n_iter_i = _check_optimize_result(\n"
     ]
    },
    {
     "name": "stdout",
     "output_type": "stream",
     "text": [
      "--------------------\n",
      "Confusion matrix on test set is: \n",
      "[[198   8]\n",
      " [  1 208]]\n",
      "--------------------\n",
      "--------------------\n",
      "Performance metrics on test set is: \n",
      "Precision is:  0.9629629629629629\n",
      "Recall is:  0.9952153110047847\n",
      "Accuracy is:  0.9783132530120482\n",
      "F1 score is:  0.9788235294117646\n",
      "--------------------\n"
     ]
    }
   ],
   "source": [
    "# Report their performance on the testing set \n",
    "\n",
    "# model-1\n",
    "pipeline1 = Pipeline([\n",
    "    ('vect', CountVectorizer(min_df=3, analyzer=doc_tokens_stem)),\n",
    "    ('tfidf', TfidfTransformer()),\n",
    "    ('reduce_dim', TruncatedSVD(n_components=500, n_iter=20, random_state=42)),\n",
    "    ('clf', LogisticRegression(C=1000, random_state=42))\n",
    "])\n",
    "\n",
    "pipeline1.fit(train.full_text, y_train)\n",
    "predict = pipeline1.predict(test.full_text)\n",
    "\n",
    "print('-'*20)\n",
    "print(\"Confusion matrix on test set is: \")\n",
    "print(metrics.confusion_matrix(y_test, predict))\n",
    "print('-'*20)\n",
    "print('-'*20)\n",
    "print(\"Performance metrics on test set is: \")\n",
    "print (\"Precision is: \", metrics.precision_score(y_test, predict))\n",
    "print (\"Recall is: \", metrics.recall_score(y_test, predict))\n",
    "print (\"Accuracy is: \", metrics.accuracy_score(y_test, predict))\n",
    "print (\"F1 score is: \", metrics.f1_score(y_test, predict))\n",
    "print('-'*20)\n",
    "\n",
    "\n",
    "# model-2\n",
    "pipeline2 = Pipeline([\n",
    "    ('vect', CountVectorizer(min_df=3, analyzer=doc_tokens)),\n",
    "    ('tfidf', TfidfTransformer()),\n",
    "    ('reduce_dim', TruncatedSVD(n_components=500, n_iter=20, random_state=42)),\n",
    "    ('clf', LogisticRegression(C=1000, random_state=42))\n",
    "])\n",
    "\n",
    "pipeline2.fit(train.full_text, y_train)\n",
    "predict = pipeline2.predict(test.full_text)\n",
    "\n",
    "print('-'*20)\n",
    "print(\"Confusion matrix on test set is: \")\n",
    "print(metrics.confusion_matrix(y_test, predict))\n",
    "print('-'*20)\n",
    "print('-'*20)\n",
    "print(\"Performance metrics on test set is: \")\n",
    "print (\"Precision is: \", metrics.precision_score(y_test, predict))\n",
    "print (\"Recall is: \", metrics.recall_score(y_test, predict))\n",
    "print (\"Accuracy is: \", metrics.accuracy_score(y_test, predict))\n",
    "print (\"F1 score is: \", metrics.f1_score(y_test, predict))\n",
    "print('-'*20)\n",
    "\n",
    "\n",
    "# model-3\n",
    "pipeline3 = Pipeline([\n",
    "    ('vect', CountVectorizer(min_df=3, analyzer=doc_tokens_lemma_woClean)),\n",
    "    ('tfidf', TfidfTransformer()),\n",
    "    ('reduce_dim', TruncatedSVD(n_components=500, n_iter=20, random_state=42)),\n",
    "    ('clf', LogisticRegression(C=1000, random_state=42))\n",
    "])\n",
    "\n",
    "pipeline3.fit(train.full_text, y_train)\n",
    "predict = pipeline3.predict(test.full_text)\n",
    "\n",
    "print('-'*20)\n",
    "print(\"Confusion matrix on test set is: \")\n",
    "print(metrics.confusion_matrix(y_test, predict))\n",
    "print('-'*20)\n",
    "print('-'*20)\n",
    "print(\"Performance metrics on test set is: \")\n",
    "print (\"Precision is: \", metrics.precision_score(y_test, predict))\n",
    "print (\"Recall is: \", metrics.recall_score(y_test, predict))\n",
    "print (\"Accuracy is: \", metrics.accuracy_score(y_test, predict))\n",
    "print (\"F1 score is: \", metrics.f1_score(y_test, predict))\n",
    "print('-'*20)\n",
    "\n",
    "\n",
    "#model-4\n",
    "pipeline4 = Pipeline([\n",
    "    ('vect', CountVectorizer(min_df=3, analyzer=doc_tokens_stem_woClean)),\n",
    "    ('tfidf', TfidfTransformer()),\n",
    "    ('reduce_dim', TruncatedSVD(n_components=500, n_iter=20, random_state=42)),\n",
    "    ('clf', LogisticRegression(C=1000, random_state=42))\n",
    "])\n",
    "\n",
    "pipeline4.fit(train.full_text, y_train)\n",
    "predict = pipeline4.predict(test.full_text)\n",
    "\n",
    "print('-'*20)\n",
    "print(\"Confusion matrix on test set is: \")\n",
    "print(metrics.confusion_matrix(y_test, predict))\n",
    "print('-'*20)\n",
    "print('-'*20)\n",
    "print(\"Performance metrics on test set is: \")\n",
    "print (\"Precision is: \", metrics.precision_score(y_test, predict))\n",
    "print (\"Recall is: \", metrics.recall_score(y_test, predict))\n",
    "print (\"Accuracy is: \", metrics.accuracy_score(y_test, predict))\n",
    "print (\"F1 score is: \", metrics.f1_score(y_test, predict))\n",
    "print('-'*20)\n",
    "\n",
    "\n",
    "#model-5\n",
    "pipeline5 = Pipeline([\n",
    "    ('vect', CountVectorizer(min_df=5, analyzer=doc_tokens)),\n",
    "    ('tfidf', TfidfTransformer()),\n",
    "    ('reduce_dim', TruncatedSVD(n_components=500, n_iter=20, random_state=42)),\n",
    "    ('clf', LogisticRegression(C=1000, random_state=42))\n",
    "])\n",
    "\n",
    "pipeline5.fit(train.full_text, y_train)\n",
    "predict = pipeline5.predict(test.full_text)\n",
    "\n",
    "print('-'*20)\n",
    "print(\"Confusion matrix on test set is: \")\n",
    "print(metrics.confusion_matrix(y_test, predict))\n",
    "print('-'*20)\n",
    "print('-'*20)\n",
    "print(\"Performance metrics on test set is: \")\n",
    "print (\"Precision is: \", metrics.precision_score(y_test, predict))\n",
    "print (\"Recall is: \", metrics.recall_score(y_test, predict))\n",
    "print (\"Accuracy is: \", metrics.accuracy_score(y_test, predict))\n",
    "print (\"F1 score is: \", metrics.f1_score(y_test, predict))\n",
    "print('-'*20)\n"
   ]
  },
  {
   "cell_type": "code",
   "execution_count": null,
   "id": "c89e9ad1",
   "metadata": {},
   "outputs": [],
   "source": [
    "## Retrain the above 5 best models on trainset and report on test set"
   ]
  },
  {
   "cell_type": "markdown",
   "id": "f0abbe5c",
   "metadata": {},
   "source": [
    "## Question 9: Multi-class classification"
   ]
  },
  {
   "cell_type": "code",
   "execution_count": 56,
   "id": "eee5b272",
   "metadata": {},
   "outputs": [],
   "source": [
    "from sklearn.naive_bayes import MultinomialNB"
   ]
  },
  {
   "cell_type": "code",
   "execution_count": 57,
   "id": "d406df4b",
   "metadata": {},
   "outputs": [],
   "source": [
    "map_row_to_class = {0:\"chess\", 1:\"cricket\", 2:\"soccer\", 3:\"football\", \\\n",
    "                    4:\"%22forest%20fire%22\", 5:\"flood\", 6:\"earthquake\", 7:\"drought\"}\n",
    "\n",
    "map_class_to_val = {\"chess\": 0, \"cricket\": 1, \"soccer\": 2, \"football\": 3, \\\n",
    "                    \"%22forest%20fire%22\": 4, \"flood\": 5, \"earthquake\": 6, \"drought\": 7}\n"
   ]
  },
  {
   "cell_type": "code",
   "execution_count": 58,
   "id": "7fd8c5d5",
   "metadata": {},
   "outputs": [],
   "source": [
    "## Naive bayes classification\n",
    "\n",
    "k = 50\n",
    "\n",
    "## train the model\n",
    "\n",
    "## define model\n",
    "count_vectorizer = CountVectorizer(min_df=3, stop_words='english', analyzer=doc_tokens_lemma, max_df=0.7)\n",
    "transformer = TfidfTransformer()\n",
    "nmf = NMF(n_components=k, max_iter=500, init='random', random_state=42)  ## Multinomial NB can take only positive values\n",
    "svd = TruncatedSVD(n_components=k, n_iter=20, random_state=42) \n",
    "clf = MultinomialNB()\n",
    "\n",
    "## train model\n",
    "train['leaf_label_encode']= train['leaf_label'].map(map_class_to_val)\n",
    "\n",
    "y_train = train['leaf_label_encode']\n",
    "# print(y_train)\n",
    "X_train_counts = count_vectorizer.fit_transform(train['full_text'])\n",
    "X_train_tfidf = transformer.fit_transform(X_train_counts)\n",
    "X_train_nmf = nmf.fit_transform(X_train_tfidf)\n",
    "model = clf.fit(X_train_nmf, y_train)\n",
    "\n",
    "## get train parameters\n",
    "\n",
    "## test model\n",
    "test['leaf_label_encode']= test['leaf_label'].map(map_class_to_val)\n",
    "\n",
    "y_test = test['leaf_label_encode']\n",
    "X_test_counts = count_vectorizer.transform(test['full_text'])\n",
    "X_test_tfidf = transformer.transform(X_test_counts)\n",
    "X_test_nmf = nmf.transform(X_test_tfidf)\n",
    "y_test_pred = clf.predict(X_test_nmf)"
   ]
  },
  {
   "cell_type": "code",
   "execution_count": 60,
   "id": "f0104020",
   "metadata": {},
   "outputs": [
    {
     "name": "stdout",
     "output_type": "stream",
     "text": [
      "--------------------\n",
      "Confusion matrix on test set is: \n",
      "[[44  0  0  1  1  0  0  0]\n",
      " [ 2 48  0  0  0  0  0  0]\n",
      " [ 7  1 48  2  0  0  0  0]\n",
      " [ 2  0  0 53  0  0  0  0]\n",
      " [ 1  0  1  0 47  0  0  0]\n",
      " [ 3  0  0  1  2 39  6  2]\n",
      " [ 7  0  1  1  0  1 41  6]\n",
      " [ 1  0  1  0  1  1  0 43]]\n",
      "--------------------\n",
      "--------------------\n",
      "Performance metrics on test set is: \n",
      "Precision is:  0.8849429560952038\n",
      "Recall is:  0.8796211127964779\n",
      "Accuracy is:  0.8746987951807229\n",
      "F1 score is:  0.8753806083569236\n",
      "--------------------\n"
     ]
    }
   ],
   "source": [
    "## get test parameters\n",
    "print('-'*20)\n",
    "print(\"Confusion matrix on test set is: \")\n",
    "print(metrics.confusion_matrix(y_test, y_test_pred))\n",
    "print('-'*20)\n",
    "print('-'*20)\n",
    "print(\"Performance metrics on test set is: \")\n",
    "print (\"Precision is: \", metrics.precision_score(y_test, y_test_pred, average = 'macro'))\n",
    "print (\"Recall is: \", metrics.recall_score(y_test, y_test_pred, average = 'macro'))\n",
    "print (\"Accuracy is: \", metrics.accuracy_score(y_test, y_test_pred))\n",
    "print (\"F1 score is: \", metrics.f1_score(y_test, y_test_pred, average = 'macro'))\n",
    "print('-'*20)"
   ]
  },
  {
   "cell_type": "code",
   "execution_count": 61,
   "id": "c2243d18",
   "metadata": {},
   "outputs": [],
   "source": [
    "## svm classification one vs one"
   ]
  },
  {
   "cell_type": "code",
   "execution_count": 76,
   "id": "9f673ca8",
   "metadata": {},
   "outputs": [],
   "source": [
    "from sklearn.multiclass import OneVsOneClassifier, OneVsRestClassifier\n",
    "from sklearn.svm import LinearSVC"
   ]
  },
  {
   "cell_type": "code",
   "execution_count": 77,
   "id": "726c5bfc",
   "metadata": {},
   "outputs": [],
   "source": [
    "k = 50\n",
    "\n",
    "## train the model\n",
    "\n",
    "## define model\n",
    "count_vectorizer = CountVectorizer(min_df=3, stop_words='english', analyzer=doc_tokens, max_df=0.7)\n",
    "transformer = TfidfTransformer()\n",
    "svd = TruncatedSVD(n_components=k, n_iter = 20, random_state=42) ## Multinomial NB can take only positive values\n",
    "clf = LinearSVC(random_state=42)\n",
    "ovo_classifier = OneVsOneClassifier(clf)\n",
    "\n",
    "## train model\n",
    "train['leaf_label_encode']= train['leaf_label'].map(map_class_to_val)\n",
    "y_train = train['leaf_label_encode']\n",
    "# print(y_train)\n",
    "X_train_counts = count_vectorizer.fit_transform(train['full_text'])\n",
    "X_train_tfidf = transformer.fit_transform(X_train_counts)\n",
    "X_train_svd = svd.fit_transform(X_train_tfidf)\n",
    "model = ovo_classifier.fit(X_train_svd, y_train)\n",
    "\n",
    "## get train parameters\n",
    "\n",
    "## test model\n",
    "test['leaf_label_encode']= test['leaf_label'].map(map_class_to_val)\n",
    "y_test = test['leaf_label_encode']\n",
    "X_test_counts = count_vectorizer.transform(test['full_text'])\n",
    "X_test_tfidf = transformer.transform(X_test_counts)\n",
    "X_test_svd = svd.transform(X_test_tfidf)\n",
    "y_test_pred = ovo_classifier.predict(X_test_svd)"
   ]
  },
  {
   "cell_type": "code",
   "execution_count": 78,
   "id": "2bd9aefb",
   "metadata": {},
   "outputs": [
    {
     "name": "stdout",
     "output_type": "stream",
     "text": [
      "--------------------\n",
      "Confusion matrix on test set is: \n",
      "[[44  0  0  1  0  0  1  0]\n",
      " [ 1 49  0  0  0  0  0  0]\n",
      " [ 6  1 51  0  0  0  0  0]\n",
      " [ 2  0  0 53  0  0  0  0]\n",
      " [ 2  0  1  0 46  0  0  0]\n",
      " [ 3  0  0  1  2 43  2  2]\n",
      " [ 2  0  1  1  1  2 49  1]\n",
      " [ 2  0  1  0  2  1  0 41]]\n",
      "--------------------\n",
      "--------------------\n",
      "Performance metrics on test set is: \n",
      "Precision is:  0.9114274627953882\n",
      "Recall is:  0.9076942826067975\n",
      "Accuracy is:  0.9060240963855422\n",
      "F1 score is:  0.9061690492596456\n",
      "--------------------\n"
     ]
    }
   ],
   "source": [
    "## get test parameters\n",
    "print('-'*20)\n",
    "print(\"Confusion matrix on test set is: \")\n",
    "print(metrics.confusion_matrix(y_test, y_test_pred))\n",
    "print('-'*20)\n",
    "print('-'*20)\n",
    "print(\"Performance metrics on test set is: \")\n",
    "print (\"Precision is: \", metrics.precision_score(y_test, y_test_pred, average = 'macro'))\n",
    "print (\"Recall is: \", metrics.recall_score(y_test, y_test_pred, average = 'macro'))\n",
    "print (\"Accuracy is: \", metrics.accuracy_score(y_test, y_test_pred))\n",
    "print (\"F1 score is: \", metrics.f1_score(y_test, y_test_pred, average = 'macro'))\n",
    "print('-'*20)\n"
   ]
  },
  {
   "cell_type": "code",
   "execution_count": 79,
   "id": "b501dc79",
   "metadata": {},
   "outputs": [],
   "source": [
    "## svm classification one vs rest"
   ]
  },
  {
   "cell_type": "code",
   "execution_count": 80,
   "id": "14869e0d",
   "metadata": {},
   "outputs": [],
   "source": [
    "k = 50\n",
    "\n",
    "## train the model\n",
    "\n",
    "## define model\n",
    "count_vectorizer = CountVectorizer(min_df=3, stop_words='english', analyzer=doc_tokens, max_df=0.7)\n",
    "transformer = TfidfTransformer()\n",
    "svd = TruncatedSVD(n_components=k, n_iter = 20, random_state=42) ## Multinomial NB can take only positive values\n",
    "clf = LinearSVC(multi_class = 'ovr', class_weight = 'balanced', random_state=42)\n",
    "# clf = LinearSVC(multi_class = 'ovr')\n",
    "# ovr_classifier = OneVsRestClassifier(clf)\n",
    "\n",
    "## train model\n",
    "train['leaf_label_encode']= train['leaf_label'].map(map_class_to_val)\n",
    "y_train = train['leaf_label_encode']\n",
    "# print(y_train)\n",
    "X_train_counts = count_vectorizer.fit_transform(train['full_text'])\n",
    "X_train_tfidf = transformer.fit_transform(X_train_counts)\n",
    "X_train_svd = svd.fit_transform(X_train_tfidf)\n",
    "model = clf.fit(X_train_svd, y_train)\n",
    "\n",
    "## get train parameters\n",
    "\n",
    "## test model\n",
    "test['leaf_label_encode']= test['leaf_label'].map(map_class_to_val)\n",
    "y_test = test['leaf_label_encode']\n",
    "X_test_counts = count_vectorizer.transform(test['full_text'])\n",
    "X_test_tfidf = transformer.transform(X_test_counts)\n",
    "X_test_svd = svd.transform(X_test_tfidf)\n",
    "y_test_pred = clf.predict(X_test_svd)"
   ]
  },
  {
   "cell_type": "code",
   "execution_count": 81,
   "id": "2abc8652",
   "metadata": {},
   "outputs": [
    {
     "name": "stdout",
     "output_type": "stream",
     "text": [
      "--------------------\n",
      "Confusion matrix on test set is: \n",
      "[[44  0  0  1  0  0  1  0]\n",
      " [ 0 49  0  0  0  0  0  1]\n",
      " [ 4  1 53  0  0  0  0  0]\n",
      " [ 0  0  0 55  0  0  0  0]\n",
      " [ 1  0  1  0 47  0  0  0]\n",
      " [ 1  0  0  1  2 44  3  2]\n",
      " [ 1  0  1  1  0  2 51  1]\n",
      " [ 1  1  1  0  1  1  0 42]]\n",
      "--------------------\n",
      "--------------------\n",
      "Performance metrics on test set is: \n",
      "Precision is:  0.9272661264595534\n",
      "Recall is:  0.928505132334405\n",
      "Accuracy is:  0.927710843373494\n",
      "F1 score is:  0.9268708929843031\n",
      "--------------------\n"
     ]
    }
   ],
   "source": [
    "## get test parameters\n",
    "print('-'*20)\n",
    "print(\"Confusion matrix on test set is: \")\n",
    "print(metrics.confusion_matrix(y_test, y_test_pred))\n",
    "print('-'*20)\n",
    "print('-'*20)\n",
    "print(\"Performance metrics on test set is: \")\n",
    "print (\"Precision is: \", metrics.precision_score(y_test, y_test_pred, average = 'macro'))\n",
    "print (\"Recall is: \", metrics.recall_score(y_test, y_test_pred, average = 'macro'))\n",
    "print (\"Accuracy is: \", metrics.accuracy_score(y_test, y_test_pred))\n",
    "print (\"F1 score is: \", metrics.f1_score(y_test, y_test_pred, average = 'macro'))\n",
    "print('-'*20)"
   ]
  },
  {
   "cell_type": "code",
   "execution_count": 82,
   "id": "81ddad4a",
   "metadata": {},
   "outputs": [],
   "source": [
    "## svm classification one vs rest without balancing"
   ]
  },
  {
   "cell_type": "code",
   "execution_count": 83,
   "id": "b7ed6d51",
   "metadata": {},
   "outputs": [],
   "source": [
    "k = 50\n",
    "\n",
    "## train the model\n",
    "\n",
    "## define model\n",
    "count_vectorizer = CountVectorizer(min_df=3, stop_words='english', analyzer=doc_tokens, max_df=0.7)\n",
    "transformer = TfidfTransformer()\n",
    "svd = TruncatedSVD(n_components=k, n_iter = 20, random_state=42) ## Multinomial NB can take only positive values\n",
    "clf = LinearSVC(multi_class = 'ovr', random_state=42)\n",
    "# clf = LinearSVC(multi_class = 'ovr')\n",
    "# ovr_classifier = OneVsRestClassifier(clf)\n",
    "\n",
    "## train model\n",
    "train['leaf_label_encode']= train['leaf_label'].map(map_class_to_val)\n",
    "y_train = train['leaf_label_encode']\n",
    "# print(y_train)\n",
    "X_train_counts = count_vectorizer.fit_transform(train['full_text'])\n",
    "X_train_tfidf = transformer.fit_transform(X_train_counts)\n",
    "X_train_svd = svd.fit_transform(X_train_tfidf)\n",
    "model = clf.fit(X_train_svd, y_train)\n",
    "\n",
    "## get train parameters\n",
    "\n",
    "## test model\n",
    "test['leaf_label_encode']= test['leaf_label'].map(map_class_to_val)\n",
    "y_test = test['leaf_label_encode']\n",
    "X_test_counts = count_vectorizer.transform(test['full_text'])\n",
    "X_test_tfidf = transformer.transform(X_test_counts)\n",
    "X_test_svd = svd.transform(X_test_tfidf)\n",
    "y_test_pred = clf.predict(X_test_svd)"
   ]
  },
  {
   "cell_type": "code",
   "execution_count": 84,
   "id": "a8688402",
   "metadata": {},
   "outputs": [
    {
     "name": "stdout",
     "output_type": "stream",
     "text": [
      "--------------------\n",
      "Confusion matrix on test set is: \n",
      "[[44  0  0  1  0  0  1  0]\n",
      " [ 0 49  0  0  0  0  0  1]\n",
      " [ 4  1 53  0  0  0  0  0]\n",
      " [ 0  0  0 55  0  0  0  0]\n",
      " [ 1  0  1  0 47  0  0  0]\n",
      " [ 1  0  0  1  2 44  3  2]\n",
      " [ 1  0  1  1  0  2 50  2]\n",
      " [ 1  1  1  0  1  1  0 42]]\n",
      "--------------------\n",
      "--------------------\n",
      "Performance metrics on test set is: \n",
      "Precision is:  0.9246694691681691\n",
      "Recall is:  0.9263121498782647\n",
      "Accuracy is:  0.9253012048192771\n",
      "F1 score is:  0.9244431217357528\n",
      "--------------------\n"
     ]
    }
   ],
   "source": [
    "## get test parameters\n",
    "print('-'*20)\n",
    "print(\"Confusion matrix on test set is: \")\n",
    "print(metrics.confusion_matrix(y_test, y_test_pred))\n",
    "print('-'*20)\n",
    "print('-'*20)\n",
    "print(\"Performance metrics on test set is: \")\n",
    "print (\"Precision is: \", metrics.precision_score(y_test, y_test_pred, average = 'macro'))\n",
    "print (\"Recall is: \", metrics.recall_score(y_test, y_test_pred, average = 'macro'))\n",
    "print (\"Accuracy is: \", metrics.accuracy_score(y_test, y_test_pred))\n",
    "print (\"F1 score is: \", metrics.f1_score(y_test, y_test_pred, average = 'macro'))\n",
    "print('-'*20)"
   ]
  },
  {
   "cell_type": "code",
   "execution_count": null,
   "id": "e5721209",
   "metadata": {},
   "outputs": [],
   "source": [
    "## merge classes flood, earthquake and drought and retrain onevsone and onevsrest svm classifiers"
   ]
  },
  {
   "cell_type": "code",
   "execution_count": 92,
   "id": "59454dcc",
   "metadata": {},
   "outputs": [],
   "source": [
    "map_class_to_val = {\"chess\": 0, \"cricket\": 1, \"soccer\": 2, \"football\": 3, \\\n",
    "                    \"%22forest%20fire%22\": 4, \"flood\": 5, \"earthquake\": 5, \"drought\": 5}"
   ]
  },
  {
   "cell_type": "code",
   "execution_count": 93,
   "id": "41969bcd",
   "metadata": {},
   "outputs": [],
   "source": [
    "## one vs one"
   ]
  },
  {
   "cell_type": "code",
   "execution_count": 94,
   "id": "54bddcb4",
   "metadata": {},
   "outputs": [],
   "source": [
    "k = 50\n",
    "\n",
    "## train the model\n",
    "\n",
    "## define model\n",
    "count_vectorizer = CountVectorizer(min_df=3, stop_words='english', analyzer=doc_tokens, max_df=0.7)\n",
    "transformer = TfidfTransformer()\n",
    "svd = TruncatedSVD(n_components=k, n_iter = 20, random_state=42) ## Multinomial NB can take only positive values\n",
    "clf = LinearSVC(random_state=42)\n",
    "ovo_classifier = OneVsOneClassifier(clf)\n",
    "\n",
    "## train model\n",
    "train['leaf_label_encode']= train['leaf_label'].map(map_class_to_val)\n",
    "y_train = train['leaf_label_encode']\n",
    "# print(y_train)\n",
    "X_train_counts = count_vectorizer.fit_transform(train['full_text'])\n",
    "X_train_tfidf = transformer.fit_transform(X_train_counts)\n",
    "X_train_svd = svd.fit_transform(X_train_tfidf)\n",
    "model = ovo_classifier.fit(X_train_svd, y_train)\n",
    "\n",
    "## get train parameters\n",
    "\n",
    "## test model\n",
    "test['leaf_label_encode']= test['leaf_label'].map(map_class_to_val)\n",
    "y_test = test['leaf_label_encode']\n",
    "X_test_counts = count_vectorizer.transform(test['full_text'])\n",
    "X_test_tfidf = transformer.transform(X_test_counts)\n",
    "X_test_svd = svd.transform(X_test_tfidf)\n",
    "y_test_pred = ovo_classifier.predict(X_test_svd)"
   ]
  },
  {
   "cell_type": "code",
   "execution_count": 95,
   "id": "11a9f654",
   "metadata": {},
   "outputs": [
    {
     "name": "stdout",
     "output_type": "stream",
     "text": [
      "--------------------\n",
      "Confusion matrix on test set is: \n",
      "[[ 42   0   0   1   0   3]\n",
      " [  0  48   0   0   0   2]\n",
      " [  6   1  50   0   0   1]\n",
      " [  1   0   0  52   0   2]\n",
      " [  0   0   1   0  43   5]\n",
      " [  0   0   2   2   2 151]]\n",
      "--------------------\n",
      "--------------------\n",
      "Performance metrics on test set is: \n",
      "Precision is:  0.93364545476997\n",
      "Recall is:  0.9199835748552111\n",
      "Accuracy is:  0.9301204819277108\n",
      "F1 score is:  0.9259944213728057\n",
      "--------------------\n"
     ]
    }
   ],
   "source": [
    "## get test parameters\n",
    "print('-'*20)\n",
    "print(\"Confusion matrix on test set is: \")\n",
    "print(metrics.confusion_matrix(y_test, y_test_pred))\n",
    "print('-'*20)\n",
    "print('-'*20)\n",
    "print(\"Performance metrics on test set is: \")\n",
    "print (\"Precision is: \", metrics.precision_score(y_test, y_test_pred, average = 'macro'))\n",
    "print (\"Recall is: \", metrics.recall_score(y_test, y_test_pred, average = 'macro'))\n",
    "print (\"Accuracy is: \", metrics.accuracy_score(y_test, y_test_pred))\n",
    "print (\"F1 score is: \", metrics.f1_score(y_test, y_test_pred, average = 'macro'))\n",
    "print('-'*20)"
   ]
  },
  {
   "cell_type": "code",
   "execution_count": 96,
   "id": "bd59e8b6",
   "metadata": {},
   "outputs": [],
   "source": [
    "## one vs rest"
   ]
  },
  {
   "cell_type": "code",
   "execution_count": 97,
   "id": "b9891b59",
   "metadata": {},
   "outputs": [],
   "source": [
    "k = 50\n",
    "\n",
    "## train the model\n",
    "\n",
    "## define model\n",
    "count_vectorizer = CountVectorizer(min_df=3, stop_words='english', analyzer=doc_tokens, max_df=0.7)\n",
    "transformer = TfidfTransformer()\n",
    "svd = TruncatedSVD(n_components=k, n_iter = 20, random_state=42) ## Multinomial NB can take only positive values\n",
    "clf = LinearSVC(multi_class = 'ovr', class_weight = 'balanced', random_state=42)\n",
    "# clf = LinearSVC(multi_class = 'ovr')\n",
    "# ovr_classifier = OneVsRestClassifier(clf)\n",
    "\n",
    "## train model\n",
    "train['leaf_label_encode']= train['leaf_label'].map(map_class_to_val)\n",
    "y_train = train['leaf_label_encode']\n",
    "# print(y_train)\n",
    "X_train_counts = count_vectorizer.fit_transform(train['full_text'])\n",
    "X_train_tfidf = transformer.fit_transform(X_train_counts)\n",
    "X_train_svd = svd.fit_transform(X_train_tfidf)\n",
    "model = clf.fit(X_train_svd, y_train)\n",
    "\n",
    "## get train parameters\n",
    "\n",
    "## test model\n",
    "test['leaf_label_encode']= test['leaf_label'].map(map_class_to_val)\n",
    "y_test = test['leaf_label_encode']\n",
    "X_test_counts = count_vectorizer.transform(test['full_text'])\n",
    "X_test_tfidf = transformer.transform(X_test_counts)\n",
    "X_test_svd = svd.transform(X_test_tfidf)\n",
    "y_test_pred = clf.predict(X_test_svd)"
   ]
  },
  {
   "cell_type": "code",
   "execution_count": 98,
   "id": "ce34bce6",
   "metadata": {},
   "outputs": [
    {
     "name": "stdout",
     "output_type": "stream",
     "text": [
      "--------------------\n",
      "Confusion matrix on test set is: \n",
      "[[ 44   0   0   1   0   1]\n",
      " [  0  49   0   0   0   1]\n",
      " [  4   1  53   0   0   0]\n",
      " [  0   0   0  55   0   0]\n",
      " [  0   0   1   0  47   1]\n",
      " [  4   0   2   2   2 147]]\n",
      "--------------------\n",
      "--------------------\n",
      "Performance metrics on test set is: \n",
      "Precision is:  0.9433403255201286\n",
      "Recall is:  0.957634041422029\n",
      "Accuracy is:  0.9518072289156626\n",
      "F1 score is:  0.9496789115178382\n",
      "--------------------\n"
     ]
    }
   ],
   "source": [
    "## get test parameters\n",
    "print('-'*20)\n",
    "print(\"Confusion matrix on test set is: \")\n",
    "print(metrics.confusion_matrix(y_test, y_test_pred))\n",
    "print('-'*20)\n",
    "print('-'*20)\n",
    "print(\"Performance metrics on test set is: \")\n",
    "print (\"Precision is: \", metrics.precision_score(y_test, y_test_pred, average = 'macro'))\n",
    "print (\"Recall is: \", metrics.recall_score(y_test, y_test_pred, average = 'macro'))\n",
    "print (\"Accuracy is: \", metrics.accuracy_score(y_test, y_test_pred))\n",
    "print (\"F1 score is: \", metrics.f1_score(y_test, y_test_pred, average = 'macro'))\n",
    "print('-'*20)"
   ]
  },
  {
   "cell_type": "markdown",
   "id": "010a737f",
   "metadata": {},
   "source": [
    "### Word Embeddings"
   ]
  },
  {
   "cell_type": "markdown",
   "id": "2fb63f2b",
   "metadata": {},
   "source": [
    "GLoVE embeddings - Global vectors for word representation"
   ]
  },
  {
   "cell_type": "markdown",
   "id": "6f385d38",
   "metadata": {},
   "source": [
    "#### Question 10"
   ]
  },
  {
   "cell_type": "markdown",
   "id": "8c5bb270",
   "metadata": {},
   "source": [
    "Q10 a. Why are GLoVE embeddings trained on the ratio of co-occurrence probabilities rather than\n",
    "the probabilities themselves?\n",
    "\n"
   ]
  },
  {
   "cell_type": "markdown",
   "id": "c154a1dd",
   "metadata": {},
   "source": [
    "Ratio of the co-occurence probabilities helps determine the words in context which are relevant in distinguishing two different words and also helps determining which context word is more important for which key word. For example, let the context words be solid, gas, water and fashion being studied to understand the target words ice and steam. The probability of solid given ice (P(solid | ice)) and (P(solid| steam)) by itself does not provide much information but if we take the ratio (P(solid | ice) / (P(solid| steam)) given a corpus, we can see that solid is a relevant word in context of ice compared to steam and can help distinguish between ice and steam. "
   ]
  },
  {
   "cell_type": "markdown",
   "id": "7e4473e7",
   "metadata": {},
   "source": [
    "Q10 b. In the two sentences: “James is running in the park.” and “James is running for the\n",
    "presidency.”, would GLoVE embeddings return the same vector for the word running in both\n",
    "cases? Why or why not?"
   ]
  },
  {
   "cell_type": "markdown",
   "id": "50b531d9",
   "metadata": {},
   "source": [
    "Since GLoVE is a global vector representation, after being trained on a large corpus using the co-occurence matrix of wordsfrom the corpus, the vector embeddings of the word remain unique. Hence, GLoVE will return same vector for the word \"running\" in the two sentences. "
   ]
  },
  {
   "cell_type": "markdown",
   "id": "35063139",
   "metadata": {},
   "source": [
    "Q10 c. What do you expect for the values of,\n",
    "||GLoVE[\"queen\"] - GLoVE[\"king\"] - GLoVE[\"wife\"] + GLoVE[\"husband\"]||2,\n",
    "||GLoVE[\"queen\"] - GLoVE[\"king\"]||2 and ||GLoVE[\"wife\"] - GLoVE[\"husband\"]||2 ?\n",
    "Compare these values."
   ]
  },
  {
   "cell_type": "markdown",
   "id": "9eaa8cfc",
   "metadata": {},
   "source": [
    "The distance between the embeddings of queen and king compared to the distance between the embeddings of wife and husband should be of similar value as they both have same semantic relationship. The difference between the queen and king and wife and husband should be close to zero."
   ]
  },
  {
   "cell_type": "markdown",
   "id": "28aeda2f",
   "metadata": {},
   "source": [
    "Q10 d. Given a word, would you rather stem or lemmatize the word before mapping it to its GLoVE\n",
    "embedding?"
   ]
  },
  {
   "cell_type": "markdown",
   "id": "b3208a50",
   "metadata": {},
   "source": [
    "Lemmatization would be preferred over stemming before mapping the word to its GLoVE embedding. This is becayse lemmatization with pos tagging is word base reduction on the basis of context of word. Also, lemmatization ensures the reduced word is actually an english word with close meaning to original word."
   ]
  },
  {
   "cell_type": "code",
   "execution_count": 99,
   "id": "203979d2",
   "metadata": {},
   "outputs": [],
   "source": [
    "embeddings_dict = {}\n",
    "dimension_of_glove = 300\n",
    "with open(\"glove/glove.6B.300d.txt\", 'r') as f:\n",
    "    for line in f:\n",
    "        values = line.split()\n",
    "        word = values[0]\n",
    "        vector = np.asarray(values[1:], \"float32\")\n",
    "        embeddings_dict[word] = vector"
   ]
  },
  {
   "cell_type": "code",
   "execution_count": 100,
   "id": "0a05aa17",
   "metadata": {},
   "outputs": [],
   "source": [
    "queen_king = ((embeddings_dict['king'] - embeddings_dict['queen'])**2)\n",
    "husband_wife = ((embeddings_dict['husband'] - embeddings_dict['wife'])**2)"
   ]
  },
  {
   "cell_type": "code",
   "execution_count": 101,
   "id": "e2ee288d",
   "metadata": {},
   "outputs": [
    {
     "data": {
      "text/plain": [
       "5.966257954114113"
      ]
     },
     "execution_count": 101,
     "metadata": {},
     "output_type": "execute_result"
    }
   ],
   "source": [
    "(sum(queen_king))**0.5"
   ]
  },
  {
   "cell_type": "code",
   "execution_count": 102,
   "id": "1010a331",
   "metadata": {},
   "outputs": [],
   "source": [
    "queen_king = np.linalg.norm(embeddings_dict['king'] - embeddings_dict['queen'])\n",
    "husband_wife = np.linalg.norm(embeddings_dict['husband'] - embeddings_dict['wife'])\n",
    "queen_king_husband_wife = np.linalg.norm(embeddings_dict['queen'] - embeddings_dict['king'] - \\\n",
    "                                         embeddings_dict['wife'] + embeddings_dict['husband'])"
   ]
  },
  {
   "cell_type": "code",
   "execution_count": 103,
   "id": "1039e9d5",
   "metadata": {},
   "outputs": [
    {
     "name": "stdout",
     "output_type": "stream",
     "text": [
      "9.695891\n"
     ]
    }
   ],
   "source": [
    "m = np.linalg.norm(embeddings_dict['husband'] - embeddings_dict['badminton'])\n",
    "print(m)"
   ]
  },
  {
   "cell_type": "code",
   "execution_count": 104,
   "id": "f180e1eb",
   "metadata": {},
   "outputs": [],
   "source": [
    "a = (embeddings_dict['king'] - embeddings_dict['queen'])"
   ]
  },
  {
   "cell_type": "code",
   "execution_count": 105,
   "id": "9e9809ca",
   "metadata": {},
   "outputs": [
    {
     "data": {
      "text/plain": [
       "5.966258"
      ]
     },
     "execution_count": 105,
     "metadata": {},
     "output_type": "execute_result"
    }
   ],
   "source": [
    "np.linalg.norm(a)"
   ]
  },
  {
   "cell_type": "code",
   "execution_count": 106,
   "id": "cd21b3b4",
   "metadata": {},
   "outputs": [
    {
     "name": "stdout",
     "output_type": "stream",
     "text": [
      "5.966258\n",
      "3.1520464\n",
      "6.1650367\n"
     ]
    }
   ],
   "source": [
    "print(queen_king)\n",
    "print(husband_wife)\n",
    "print(queen_king_husband_wife)"
   ]
  },
  {
   "cell_type": "markdown",
   "id": "90a96f8a",
   "metadata": {},
   "source": [
    "#### Question 11\n",
    "\n",
    "Train a binary classification model using GLoVE embeddings"
   ]
  },
  {
   "cell_type": "code",
   "execution_count": 107,
   "id": "5afa5219",
   "metadata": {},
   "outputs": [],
   "source": [
    "## Feature engineering using Glove word embeddings\n",
    "\n",
    "def get_document_vector (doc_keywords:list, embeddings_dict: dict, embed_size = 300 ):\n",
    "    '''\n",
    "    From the list of keywords representing the document, get a document embedding\n",
    "    '''\n",
    "    representation = np.zeros(embed_size)\n",
    "    count = 0\n",
    "    for word in doc_keywords:\n",
    "        try:\n",
    "            embed = embeddings_dict[word]\n",
    "            count = count+1\n",
    "            representation = np.add(representation, embed)    \n",
    "        except:\n",
    "            count = count\n",
    "    return (representation / count)\n",
    "        "
   ]
  },
  {
   "cell_type": "code",
   "execution_count": 108,
   "id": "fe541d8f",
   "metadata": {},
   "outputs": [],
   "source": [
    "def get_tokens(doc: str):\n",
    "    '''\n",
    "    Clean full text without any stemming or lemmatization\n",
    "    '''\n",
    "    doc = clean(doc)\n",
    "    doc = doc.translate(str.maketrans('', '', string.punctuation))\n",
    "    tokens = nltk.word_tokenize(doc)\n",
    "    lower_txt = [token.lower() for token in tokens]\n",
    "    remove_words = [token for token in lower_txt if (not token.isdigit())\\\n",
    "                     and (token not in combined_stopwords) and (len(token)>1)]\n",
    "    return (word for word in remove_words)"
   ]
  },
  {
   "cell_type": "code",
   "execution_count": 109,
   "id": "6120f468",
   "metadata": {},
   "outputs": [],
   "source": [
    "def data_to_feature_mapping (data: pd.DataFrame(), embeddings_dict: dict, embed_size = 300):\n",
    "    feature_map = np.zeros(embed_size)\n",
    "    for index, row in data.iterrows():\n",
    "#         keywords = row['keywords']\n",
    "#         print(keywords)\n",
    "        keywords = get_tokens(row['full_text'])\n",
    "        embed = get_document_vector(keywords, embeddings_dict, embed_size)\n",
    "        feature_map = np.vstack((feature_map,embed))\n",
    "    feature_map = feature_map[1:,:]\n",
    "    return feature_map"
   ]
  },
  {
   "cell_type": "code",
   "execution_count": 110,
   "id": "f28c4261",
   "metadata": {},
   "outputs": [
    {
     "data": {
      "text/plain": [
       "1657"
      ]
     },
     "execution_count": 110,
     "metadata": {},
     "output_type": "execute_result"
    }
   ],
   "source": [
    "len(train)"
   ]
  },
  {
   "cell_type": "code",
   "execution_count": 111,
   "id": "9697813a",
   "metadata": {},
   "outputs": [],
   "source": [
    "clf = LogisticRegression(penalty = 'none', max_iter=10000, random_state=42)\n",
    "# clf = SVC(kernel='linear', C=10, random_state=42)\n",
    "label_encoder = LabelEncoder()\n",
    "\n",
    "## train model\n",
    "y_train = label_encoder.fit_transform(train['root_label'])\n",
    "# print(y_train)\n",
    "X_train = data_to_feature_mapping(train, embeddings_dict, 300)\n",
    "model = clf.fit(X_train, y_train)\n",
    "\n",
    "## get train parameters\n",
    "\n",
    "## test model\n",
    "y_test = label_encoder.transform(test['root_label'])\n",
    "X_test = data_to_feature_mapping(test, embeddings_dict, 300)\n",
    "y_test_pred = clf.predict(X_test)\n"
   ]
  },
  {
   "cell_type": "code",
   "execution_count": 114,
   "id": "13c94c7d",
   "metadata": {},
   "outputs": [
    {
     "name": "stdout",
     "output_type": "stream",
     "text": [
      "--------------------\n",
      "Confusion matrix on test set is: \n",
      "[[193  13]\n",
      " [  1 208]]\n",
      "--------------------\n",
      "--------------------\n",
      "Performance metrics on test set is: \n",
      "Precision is:  0.9411764705882353\n",
      "Recall is:  0.9952153110047847\n",
      "Accuracy is:  0.9662650602409638\n",
      "F1 score is:  0.9674418604651163\n",
      "--------------------\n",
      "--------------------\n",
      "ROC curve on test set is: \n"
     ]
    },
    {
     "data": {
      "image/png": "[encoded data removed]",
      "text/plain": [
       "<Figure size 432x288 with 1 Axes>"
      ]
     },
     "metadata": {
      "needs_background": "light"
     },
     "output_type": "display_data"
    }
   ],
   "source": [
    "## get test parameters\n",
    "print('-'*20)\n",
    "print(\"Confusion matrix on test set is: \")\n",
    "print(metrics.confusion_matrix(y_test, y_test_pred))\n",
    "print('-'*20)\n",
    "print('-'*20)\n",
    "print(\"Performance metrics on test set is: \")\n",
    "print (\"Precision is: \", metrics.precision_score(y_test, y_test_pred))\n",
    "print (\"Recall is: \", metrics.recall_score(y_test, y_test_pred))\n",
    "print (\"Accuracy is: \", metrics.accuracy_score(y_test, y_test_pred))\n",
    "print (\"F1 score is: \", metrics.f1_score(y_test, y_test_pred))\n",
    "print('-'*20)\n",
    "\n",
    "print('-'*20)\n",
    "print(\"ROC curve on test set is: \")\n",
    "y_test_pred_proba = clf.predict_proba(X_test)[::,1]\n",
    "# y_test_pred_proba = clf.decision_function(X_test)\n",
    "fpr, tpr, _ = metrics.roc_curve(y_test,  y_test_pred_proba)\n",
    "\n",
    "#create ROC curve\n",
    "plt.plot(fpr,tpr)\n",
    "plt.ylabel('True Positive Rate')\n",
    "plt.xlabel('False Positive Rate')\n",
    "plt.show()"
   ]
  },
  {
   "cell_type": "markdown",
   "id": "4d0beff7",
   "metadata": {},
   "source": [
    "#### Question 12\n",
    "\n",
    "Trend between embedding size and accuracy"
   ]
  },
  {
   "cell_type": "code",
   "execution_count": 115,
   "id": "afcc5aad",
   "metadata": {},
   "outputs": [],
   "source": [
    "embed_size = [50,100,200,300]"
   ]
  },
  {
   "cell_type": "code",
   "execution_count": 116,
   "id": "0a106837",
   "metadata": {},
   "outputs": [],
   "source": [
    "clf = LogisticRegression(penalty = 'none',max_iter=10000, random_state=42)\n",
    "# clf = SVC(kernel='linear', C=10, random_state=42)\n",
    "label_encoder = LabelEncoder()\n",
    "\n",
    "## label encoding\n",
    "y_train = label_encoder.fit_transform(train['root_label'])\n",
    "y_test = label_encoder.transform(test['root_label'])\n",
    "\n",
    "## report test accuracy on different embedding size\n",
    "accuracy = []\n",
    "accuracy_train = []\n",
    "for size in embed_size:\n",
    "    \n",
    "    embeddings_dict = {}\n",
    "    with open(\"glove/glove.6B.\"+ str(size)+\"d.txt\", 'r') as f:\n",
    "        for line in f:\n",
    "            values = line.split()\n",
    "            word = values[0]\n",
    "            vector = np.asarray(values[1:], \"float32\")\n",
    "            embeddings_dict[word] = vector\n",
    "    \n",
    "    X_train = data_to_feature_mapping(train, embeddings_dict, size)\n",
    "    model = clf.fit(X_train, y_train)\n",
    "\n",
    "    X_test = data_to_feature_mapping(test,embeddings_dict, size)\n",
    "    y_test_pred = clf.predict(X_test)\n",
    "    y_train_pred = clf.predict(X_train)\n",
    "    accuracy.append(metrics.accuracy_score(y_test, y_test_pred))\n",
    "    accuracy_train.append(metrics.accuracy_score(y_train, y_train_pred))"
   ]
  },
  {
   "cell_type": "code",
   "execution_count": 117,
   "id": "8548b0f8",
   "metadata": {},
   "outputs": [
    {
     "data": {
      "text/plain": [
       "[0.9566265060240964,\n",
       " 0.9518072289156626,\n",
       " 0.9662650602409638,\n",
       " 0.9662650602409638]"
      ]
     },
     "execution_count": 117,
     "metadata": {},
     "output_type": "execute_result"
    }
   ],
   "source": [
    "accuracy"
   ]
  },
  {
   "cell_type": "code",
   "execution_count": 118,
   "id": "a8185ff7",
   "metadata": {},
   "outputs": [
    {
     "data": {
      "text/plain": [
       "[0.9480989740494871,\n",
       " 0.9837054918527459,\n",
       " 0.9981894990947495,\n",
       " 0.9981894990947495]"
      ]
     },
     "execution_count": 118,
     "metadata": {},
     "output_type": "execute_result"
    }
   ],
   "source": [
    "accuracy_train"
   ]
  },
  {
   "cell_type": "code",
   "execution_count": 119,
   "id": "d9f214e1",
   "metadata": {},
   "outputs": [
    {
     "data": {
      "image/png": "[encoded data removed]",
      "text/plain": [
       "<Figure size 432x288 with 1 Axes>"
      ]
     },
     "metadata": {
      "needs_background": "light"
     },
     "output_type": "display_data"
    }
   ],
   "source": [
    "# plotting the explained variance ratio across number of components\n",
    "plt.plot(embed_size, accuracy)\n",
    "plt.xlabel('embed_size')\n",
    "plt.ylabel('test_accuracy')\n",
    "plt.title('GLoVE embedding')\n",
    "plt.savefig('glove_embed.png')\n",
    "plt.show()"
   ]
  },
  {
   "cell_type": "markdown",
   "id": "c90a95f1",
   "metadata": {},
   "source": [
    "#### Question 13\n",
    "\n",
    "Visualize using UMAP"
   ]
  },
  {
   "cell_type": "code",
   "execution_count": 120,
   "id": "25b5277c",
   "metadata": {},
   "outputs": [],
   "source": [
    "import umap\n",
    "import seaborn as sns\n",
    "from sklearn.preprocessing import StandardScaler"
   ]
  },
  {
   "cell_type": "code",
   "execution_count": 121,
   "id": "bc87bf59",
   "metadata": {},
   "outputs": [
    {
     "data": {
      "text/plain": [
       "(1657, 2)"
      ]
     },
     "execution_count": 121,
     "metadata": {},
     "output_type": "execute_result"
    }
   ],
   "source": [
    "size = 300\n",
    "embeddings_dict = {}\n",
    "with open(\"glove/glove.6B.\"+ str(size)+\"d.txt\", 'r') as f:\n",
    "    for line in f:\n",
    "        values = line.split()\n",
    "        word = values[0]\n",
    "        vector = np.asarray(values[1:], \"float32\")\n",
    "        embeddings_dict[word] = vector\n",
    "\n",
    "X_train = data_to_feature_mapping(train, embeddings_dict, size)\n",
    "\n",
    "reducer = umap.UMAP()\n",
    "scaled_data = StandardScaler().fit_transform(X_train)\n",
    "embedding = reducer.fit_transform(scaled_data)\n",
    "embedding.shape"
   ]
  },
  {
   "cell_type": "code",
   "execution_count": 122,
   "id": "aa8533b7",
   "metadata": {},
   "outputs": [
    {
     "data": {
      "image/png": "[encoded data removed]",
      "text/plain": [
       "<Figure size 432x288 with 1 Axes>"
      ]
     },
     "metadata": {
      "needs_background": "light"
     },
     "output_type": "display_data"
    }
   ],
   "source": [
    "plt.scatter(\n",
    "    embedding[:, 0],\n",
    "    embedding[:, 1],\n",
    "    c=[sns.color_palette()[x] for x in train.root_label.map({\"sports\":0, \"climate\":1})])\n",
    "plt.gca().set_aspect('equal', 'datalim')\n",
    "plt.title('UMAP projection of the Training dataset', fontsize=24)\n",
    "plt.savefig(\"umap_train.png\")"
   ]
  },
  {
   "cell_type": "code",
   "execution_count": 123,
   "id": "2048dd61",
   "metadata": {},
   "outputs": [],
   "source": [
    "rand_data = np.random.rand(1657,300)"
   ]
  },
  {
   "cell_type": "code",
   "execution_count": 124,
   "id": "ec71c742",
   "metadata": {},
   "outputs": [
    {
     "data": {
      "text/plain": [
       "(1657, 2)"
      ]
     },
     "execution_count": 124,
     "metadata": {},
     "output_type": "execute_result"
    }
   ],
   "source": [
    "reducer = umap.UMAP()\n",
    "scaled_data_rand = StandardScaler().fit_transform(rand_data)\n",
    "embedding_rand = reducer.fit_transform(scaled_data_rand)\n",
    "embedding_rand.shape"
   ]
  },
  {
   "cell_type": "code",
   "execution_count": 125,
   "id": "66128245",
   "metadata": {},
   "outputs": [
    {
     "data": {
      "image/png": "[encoded data removed]",
      "text/plain": [
       "<Figure size 432x288 with 1 Axes>"
      ]
     },
     "metadata": {
      "needs_background": "light"
     },
     "output_type": "display_data"
    }
   ],
   "source": [
    "plt.scatter(\n",
    "    embedding_rand[:, 0],\n",
    "    embedding_rand[:, 1],\n",
    "    c=[sns.color_palette()[x] for x in train.root_label.map({\"sports\":0, \"climate\":1})])\n",
    "plt.gca().set_aspect('equal', 'datalim')\n",
    "plt.title('UMAP projection of the random dataset', fontsize=24)\n",
    "plt.savefig(\"umap_random.png\")"
   ]
  },
  {
   "cell_type": "code",
   "execution_count": null,
   "id": "df5eb82e",
   "metadata": {},
   "outputs": [],
   "source": []
  },
  {
   "cell_type": "code",
   "execution_count": null,
   "id": "ac1633dc",
   "metadata": {},
   "outputs": [],
   "source": []
  },
  {
   "cell_type": "code",
   "execution_count": null,
   "id": "2ea226de",
   "metadata": {},
   "outputs": [],
   "source": []
  }
 ],
 "metadata": {
  "kernelspec": {
   "display_name": "Python 3",
   "language": "python",
   "name": "python3"
  },
  "language_info": {
   "codemirror_mode": {
    "name": "ipython",
    "version": 3
   },
   "file_extension": ".py",
   "mimetype": "text/x-python",
   "name": "python",
   "nbconvert_exporter": "python",
   "pygments_lexer": "ipython3",
   "version": "3.8.5"
  }
 },
 "nbformat": 4,
 "nbformat_minor": 5
}
