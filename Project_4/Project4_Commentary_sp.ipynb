{
 "cells": [
  {
   "cell_type": "code",
   "execution_count": 1,
   "id": "f68d78e9",
   "metadata": {},
   "outputs": [],
   "source": [
    "import numpy as np\n",
    "import pandas as pd\n",
    "from time import time\n",
    "from sklearn import metrics\n",
    "from collections import defaultdict\n",
    "import matplotlib.pyplot as plt\n",
    "import glob\n",
    "\n",
    "\n",
    "from sklearn.feature_extraction.text import CountVectorizer\n",
    "from sklearn.feature_extraction import text\n",
    "from sklearn.feature_extraction.text import TfidfTransformer\n",
    "from sklearn.cluster import KMeans\n",
    "from sklearn import preprocessing\n",
    "from sklearn.metrics.cluster import contingency_matrix, homogeneity_score, completeness_score, adjusted_rand_score, adjusted_mutual_info_score, v_measure_score\n",
    "from sklearn.metrics.cluster import contingency_matrix\n",
    "\n",
    "## Import libraries\n",
    "import re\n",
    "import nltk\n",
    "from nltk import pos_tag\n",
    "from nltk.tokenize import sent_tokenize\n",
    "from nltk.corpus import stopwords\n",
    "#nltk.download('stopwords' )\n",
    "\n",
    "import string\n",
    "from string import punctuation\n",
    "import matplotlib.pyplot as plt"
   ]
  },
  {
   "cell_type": "code",
   "execution_count": 2,
   "id": "716a90ae",
   "metadata": {},
   "outputs": [
    {
     "name": "stderr",
     "output_type": "stream",
     "text": [
      "/usr/lib/python3/dist-packages/requests/__init__.py:89: RequestsDependencyWarning: urllib3 (1.26.8) or chardet (3.0.4) doesn't match a supported version!\n",
      "  warnings.warn(\"urllib3 ({}) or chardet ({}) doesn't match a supported \"\n"
     ]
    }
   ],
   "source": [
    "from sumy.parsers.plaintext import PlaintextParser\n",
    "from sumy.nlp.tokenizers import Tokenizer\n",
    "from sumy.summarizers.lex_rank import LexRankSummarizer\n",
    "import random\n",
    "import pandas as pd\n",
    "import numpy as np\n",
    "import re, json, datetime, pytz\n",
    "import matplotlib.pyplot as plt\n",
    "from sklearn.feature_extraction import text\n",
    "from nltk.stem.porter import PorterStemmer\n",
    "from sklearn.feature_extraction.text import TfidfVectorizer\n",
    "from sklearn.decomposition import TruncatedSVD\n",
    "from textblob import TextBlob\n",
    "from sklearn.ensemble import RandomForestClassifier\n",
    "from collections import Counter\n",
    "from collections import Counter\n",
    "import nltk"
   ]
  },
  {
   "cell_type": "code",
   "execution_count": 3,
   "id": "2849c0e1",
   "metadata": {},
   "outputs": [],
   "source": [
    "import pytz\n",
    "import datetime\n",
    "\n",
    "pst_tz = pytz.timezone('America/Los_Angeles')"
   ]
  },
  {
   "cell_type": "code",
   "execution_count": 4,
   "id": "1b3cf117",
   "metadata": {},
   "outputs": [
    {
     "name": "stderr",
     "output_type": "stream",
     "text": [
      "03/13/2022 05:20:30 - INFO - happytransformer.happy_transformer -   Using model: cuda\n"
     ]
    }
   ],
   "source": [
    "from happytransformer import HappyTextClassification\n",
    "happy_tc = HappyTextClassification(model_type=\"DISTILBERT\", \n",
    "                                       model_name=\"distilbert-base-uncased-finetuned-sst-2-english\", num_labels=2)"
   ]
  },
  {
   "cell_type": "code",
   "execution_count": 5,
   "id": "a169f3f8",
   "metadata": {},
   "outputs": [],
   "source": [
    "from transformers import pipeline\n",
    "pipe = pipeline(task='text2text-generation', model='facebook/m2m100_418M')"
   ]
  },
  {
   "cell_type": "code",
   "execution_count": 6,
   "id": "36e9696f",
   "metadata": {},
   "outputs": [],
   "source": [
    "def transformer_sentiment(tweet):\n",
    "    \n",
    "    result = happy_tc.classify_text(tweet)\n",
    "    if result.label == 'NEGATIVE':\n",
    "        return -1, -result.score\n",
    "    else:\n",
    "        return 1, result.score\n",
    "    "
   ]
  },
  {
   "cell_type": "code",
   "execution_count": 7,
   "id": "7e9fb1b4",
   "metadata": {},
   "outputs": [],
   "source": [
    "def translate_and_transformer_sentiment(tweet):\n",
    "    \n",
    "    tweet = pipe(tweet, forced_bos_token_id=pipe.tokenizer.get_lang_id(lang='en'))\n",
    "    tweet = tweet[0]['generated_text']\n",
    "    result = happy_tc.classify_text(tweet)\n",
    "    if result.label == 'NEGATIVE':\n",
    "        return -1, -result.score\n",
    "    else:\n",
    "        return 1, result.score"
   ]
  },
  {
   "cell_type": "code",
   "execution_count": 8,
   "id": "695aaf9d",
   "metadata": {},
   "outputs": [],
   "source": [
    "def clean_tweet(tweet):\n",
    "    '''\n",
    "    Utility function to clean the text in a tweet by removing \n",
    "    links and special characters using regex.\n",
    "    '''\n",
    "    return ' '.join(re.sub(\"(@[A-Za-z0-9]+)|([^0-9A-Za-z \\t])|(\\w+:\\/\\/\\S+)\", \" \", tweet).split())"
   ]
  },
  {
   "cell_type": "code",
   "execution_count": 9,
   "id": "72def57a",
   "metadata": {},
   "outputs": [],
   "source": [
    "def get_data(text):\n",
    "    with open(text+'.txt', 'r',encoding=\"utf8\") as f:\n",
    "        retweet_count, fav_count, followers, place, title, time = [],[],[],[],[],[]\n",
    "        sentiment_polarity, sentiment_score = [], []\n",
    "        pst_tz = pytz.timezone('US/Pacific') \n",
    "        for line in f:\n",
    "            tweet = json.loads(line)\n",
    "            title.append(tweet['title'])\n",
    "            retweet_count.append(tweet['metrics']['citations']['total']) \n",
    "            fav_count.append(tweet['tweet']['favorite_count'])\n",
    "            followers.append(tweet['author']['followers'])\n",
    "            time.append(datetime.datetime.fromtimestamp(tweet['citation_date'], pst_tz))\n",
    "            place.append(tweet['tweet']['user']['location'])\n",
    "            cleaned_tweet = clean_tweet(tweet['title'])\n",
    "            if not tweet['tweet']['lang'] == 'en':\n",
    "                senti_polarity, senti_score = translate_and_transformer_sentiment(cleaned_tweet)\n",
    "                sentiment_polarity.append(senti_polarity)\n",
    "                sentiment_score.append(senti_score)\n",
    "            else:\n",
    "                senti_polarity, senti_score = transformer_sentiment(cleaned_tweet)\n",
    "                sentiment_polarity.append(senti_polarity)\n",
    "                sentiment_score.append(senti_score)\n",
    "            break\n",
    "    d = {'title':title, 'retweet_count':retweet_count, 'favourite_count': fav_count, 'followers':followers,\n",
    "         'time':time,'place':place, 'sentiment_polarity':sentiment_polarity, 'sentiment_score':sentiment_score}\n",
    "    df = pd.DataFrame(d)\n",
    "    return df   "
   ]
  },
  {
   "cell_type": "code",
   "execution_count": 10,
   "id": "9f8703e8",
   "metadata": {},
   "outputs": [],
   "source": [
    "def get_player(text, player=['tom', 'brady']):\n",
    "    with open(text+'.txt', 'r',encoding=\"utf8\") as f:\n",
    "        retweet_count, fav_count, followers, place, title, time = [],[],[],[],[],[]\n",
    "        sentiment_polarity, sentiment_score = [], []\n",
    "        pst_tz = pytz.timezone('US/Pacific') \n",
    "        for line in f:\n",
    "            tweet = json.loads(line)\n",
    "            tweet_text = tweet['title']\n",
    "            tweet_text = tweet_text.lower().split()\n",
    "            for word in player: \n",
    "                if word in tweet_text:\n",
    "                    title.append(tweet['title'])\n",
    "                    retweet_count.append(tweet['metrics']['citations']['total']) \n",
    "                    fav_count.append(tweet['tweet']['favorite_count'])\n",
    "                    followers.append(tweet['author']['followers'])\n",
    "                    time.append(datetime.datetime.fromtimestamp(tweet['citation_date'], pst_tz))\n",
    "                    place.append(tweet['tweet']['user']['location'])\n",
    "                    cleaned_tweet = clean_tweet(tweet['title'])\n",
    "                    if not tweet['tweet']['lang'] == 'en':\n",
    "                        senti_polarity, senti_score = translate_and_transformer_sentiment(cleaned_tweet)\n",
    "                        sentiment_polarity.append(senti_polarity)\n",
    "                        sentiment_score.append(senti_score)\n",
    "                    else:\n",
    "                        senti_polarity, senti_score = transformer_sentiment(cleaned_tweet)\n",
    "                        sentiment_polarity.append(senti_polarity)\n",
    "                        sentiment_score.append(senti_score)\n",
    "                    break\n",
    "    d = {'title':title, 'retweet_count':retweet_count, 'favourite_count': fav_count, 'followers':followers,\n",
    "         'time':time,'place':place, 'sentiment_polarity':sentiment_polarity, 'sentiment_score':sentiment_score}\n",
    "    df = pd.DataFrame(d)\n",
    "    return df   "
   ]
  },
  {
   "cell_type": "code",
   "execution_count": 11,
   "id": "5d3f93df",
   "metadata": {},
   "outputs": [
    {
     "name": "stderr",
     "output_type": "stream",
     "text": [
      "/home/shivam/.local/lib/python3.8/site-packages/transformers/pipelines/base.py:997: UserWarning: You seem to be using the pipelines sequentially on GPU. In order to maximize efficiency please use a dataset\n",
      "  warnings.warn(\n"
     ]
    }
   ],
   "source": [
    "df = get_player('tweets_#gopatriots')"
   ]
  },
  {
   "cell_type": "code",
   "execution_count": 60,
   "id": "aa6f3a8f",
   "metadata": {},
   "outputs": [],
   "source": [
    "Limdf= df[(df['time'] > '2015-02-01 15:00:00') & (df['time'] < '2015-02-02 10:00:00')]\n",
    "times = pd.to_datetime(Limdf.time)\n",
    "grouped = df.groupby([times.dt.date, times.dt.hour]).title.transform(lambda x: ',,,'.join(x))\n"
   ]
  },
  {
   "cell_type": "code",
   "execution_count": 61,
   "id": "7473ee3d",
   "metadata": {},
   "outputs": [
    {
     "name": "stdout",
     "output_type": "stream",
     "text": [
      "180    Tom Brady is an American Legend. #BeatTheSeahawks #GoPatriots http://t.co/0afqnbLH1I,,,Statement from a guy at my house: Gronk is the guy you wanna party with. Brady is the guy you bring home to mom.  #GOPATRIOTS #SuperBowI,,,En mi TL nada más que hay mensajes de ánimo a los seahawks pero yo soy muy Brady asiq #GoPatriots,,,Brady looks pumped!!! About two pounds less than full though🏈👌#gopatriots http://t.co/fehtxEYTzQ,,,Tom Brady has a lot to prove #GoPatriots,,,In Tom Brady we trust #GoPatriots #PatsNation #NePatriots #NEvsSEA #SuperBowlXLIX #HappyBday2Me,,,Go Patriots, Brady mostra para eles quem é que manda #SuperBowlNoEsporteInterativo  #GoPatriots #GoBrady,,,Secundária do Patriots muito bem só espero que o Brady não sinta a interceptação #GoPatriots #SuperBowlNoEsporteInterativo,,,Tom Brady is my dream man!  #gopatriots,,,Go Brady 😍🙈🏈💙. \\n#GoPatriots http://t.co/9J8Nh87CTA,,,#C4NFL I'm new to American Football, but I'm really enjoying it :) Especially the dishy QB Brady ;) #G...\n",
      "Name: title, dtype: object\n"
     ]
    }
   ],
   "source": [
    "pd.options.display.max_colwidth = 1000\n",
    "print(grouped.head(1))"
   ]
  },
  {
   "cell_type": "code",
   "execution_count": 30,
   "id": "41d4392b",
   "metadata": {},
   "outputs": [],
   "source": [
    "import transformers"
   ]
  },
  {
   "cell_type": "code",
   "execution_count": 31,
   "id": "8f560c33",
   "metadata": {},
   "outputs": [
    {
     "name": "stderr",
     "output_type": "stream",
     "text": [
      "No model was supplied, defaulted to sshleifer/distilbart-cnn-12-6 (https://huggingface.co/sshleifer/distilbart-cnn-12-6)\n"
     ]
    },
    {
     "data": {
      "application/vnd.jupyter.widget-view+json": {
       "model_id": "60d86e2a6f9b4203b0e44b99ba6c1416",
       "version_major": 2,
       "version_minor": 0
      },
      "text/plain": [
       "Downloading:   0%|          | 0.00/1.76k [00:00<?, ?B/s]"
      ]
     },
     "metadata": {},
     "output_type": "display_data"
    },
    {
     "data": {
      "application/vnd.jupyter.widget-view+json": {
       "model_id": "f62c7b5c58504d1bb18027636ffc1409",
       "version_major": 2,
       "version_minor": 0
      },
      "text/plain": [
       "Downloading:   0%|          | 0.00/1.14G [00:00<?, ?B/s]"
      ]
     },
     "metadata": {},
     "output_type": "display_data"
    },
    {
     "data": {
      "application/vnd.jupyter.widget-view+json": {
       "model_id": "79f84d305ea04129b313f15e7f4c3ba5",
       "version_major": 2,
       "version_minor": 0
      },
      "text/plain": [
       "Downloading:   0%|          | 0.00/26.0 [00:00<?, ?B/s]"
      ]
     },
     "metadata": {},
     "output_type": "display_data"
    },
    {
     "data": {
      "application/vnd.jupyter.widget-view+json": {
       "model_id": "e7849aa2af034533955f90148f411158",
       "version_major": 2,
       "version_minor": 0
      },
      "text/plain": [
       "Downloading:   0%|          | 0.00/878k [00:00<?, ?B/s]"
      ]
     },
     "metadata": {},
     "output_type": "display_data"
    },
    {
     "data": {
      "application/vnd.jupyter.widget-view+json": {
       "model_id": "f77507fe546e452aa1ace3cd70e47498",
       "version_major": 2,
       "version_minor": 0
      },
      "text/plain": [
       "Downloading:   0%|          | 0.00/446k [00:00<?, ?B/s]"
      ]
     },
     "metadata": {},
     "output_type": "display_data"
    }
   ],
   "source": [
    "summarizer = pipeline(\"summarization\")"
   ]
  },
  {
   "cell_type": "code",
   "execution_count": 62,
   "id": "63c5c2b1",
   "metadata": {},
   "outputs": [
    {
     "name": "stdout",
     "output_type": "stream",
     "text": [
      "Tom Brady is an American Legend. #BeatTheSeahawks #GoPatriots http://t.co/0afqnbLH1I,,,Statement from a guy at my house: Gronk is the guy you wanna party with. Brady is the guy you bring home to mom.  #GOPATRIOTS #SuperBowI,,,En mi TL nada más que hay mensajes de ánimo a los seahawks pero yo soy muy Brady asiq #GoPatriots,,,Brady looks pumped!!! About two pounds less than full though🏈👌#gopatriots http://t.co/fehtxEYTzQ,,,Tom Brady has a lot to prove #GoPatriots,,,In Tom Brady we trust #GoPatriots #PatsNation #NePatriots #NEvsSEA #SuperBowlXLIX #HappyBday2Me,,,Go Patriots, Brady mostra para eles quem é que manda #SuperBowlNoEsporteInterativo  #GoPatriots #GoBrady,,,Secundária do Patriots muito bem só espero que o Brady não sinta a interceptação #GoPatriots #SuperBowlNoEsporteInterativo,,,Tom Brady is my dream man!  #gopatriots,,,Go Brady 😍🙈🏈💙. \n",
      "#GoPatriots http://t.co/9J8Nh87CTA,,,#C4NFL I'm new to American Football, but I'm really enjoying it :) Especially the dishy QB Brady ;) #GoPatriots,,,Gotta love the Budweiser commercials but in bill and Brady trust #GoPatriots,,,#foxnflitalia #GoPatriots Brady idolo!!! Sky..ma la regia?,,,Ora usiamo la testa Tom !!! Wilson inizio stile GreenBay....difesa @Patriots stile difesa @Seahawks 😁😁😁 #foxnflitalia #SuperBowl #GoPatriots,,,@_Jackie_Topo_ #GoPatriots Go Tom Lady digo Tom Brady :) dame follow para DM,,,@C4NFL how many more seasons do you think Brady will go on for #GoPatriots #legend,,,Sudo completamente de la NFL pero hoy voy con los Patriots por el simple hecho de que es el equipo de Tom Brady 😍 #SuperBowlXLIX #GoPatriots,,,#GoPatriots \n",
      "espero que cuando me despierte los Boston New England Patriots con Brady a la cabeza hayan ganado.,,,Uhhh @RogerZayas acá vamos por bandos opuestos jejje me encanta verlo a Tom Brady, uno de los mejores #GoPatriots,,,If you aren't pulling for Tom Brady tonight, you're blind #GoPatriots 😍,,,brady is cautiously optimistic. #gopatriots #superbowl49 http://t.co/4e3DvAn6Si,,,TOUCHDOOOOOWN !!!!! BRADY ? NUNCA CRITIQUEI ! #GoPats #GoPatriots #ESPNtemSuperBowl49,,,WOLLLLLL! BRADY QUE HOMEM! #GoPatriots #ESPNtemSuperBowl49,,,Así Brady carajo!!!... TOUCHDOWN PATRIOTS #GoPatriots,,,Siiiiii Touchdown PATRIOTS!!!!!! #SuperBowl #GoPatriots Brady es un puñetero CRACK.,,,Tom Brady throwing lighting in the Red Zone...somebody better tell the Seahawks it Tom Brady not Peyton Manning! #GoPatriots,,,@bfmotaa A quien le vas? No me digas que eres Brady hater? #GoPatriots,,,Touuuuuuchdown New England Patriots #GoPatriots #12 Tom Brady #ESPNTemSuperBowl49,,,Tom Brady talking smack #GoPatriots,,,Brady to LaFell for the 6! #GoPatriots #DoYourJob,,,Brady está a otro nivel #GoPatriots,,,Viva Tom Brady!!!!! #GoPatriots #GoPats #SuperBowlNoEsporteInterativo,,,Difference between Tom Brady and other NFL quarterbacks, throws a red zone interception and it doesn't phase him AT ALL. #GoPatriots,,,Touchdown!!!! Que bien Tom Brady!! #GoPatriots #SuperBowlXLIX,,,\"@ESPNNFL: TOUCHDOWN PATRIOTS!!!\n",
      "\n",
      "Brady hits LaFell for the first score of the game!\" &lt;&lt; #GoPatriots #FinishTheJob,,,“@rgilzuarth: Sucede que cuando inflan bien los balones a Brady le salen callos.” Aún así ganaremos! #GoPatriotsNation @Patriots #SuperBowl,,,BOOM!! Brady dictating!! #SuperBowl #SuperBowlXLIX #GoPatriots @Patriots,,,Mi sa che l'intervento di prima a Brady lo ha svegliato....#foxnflitalia #GoPatriots,,,TOUCHDOWN !!!!! Que bien Brady para Lafell !!!!! 7-0 !!!! #GoPatriots #SuperBowl,,,TOUCHDOWN!!! Brandon LaFell #GoPatriots Grande TOM BRADY!!! #SB49,,,Tom Brady is the Greatets of all time. #GoPatriots,,,TOUCHDOWN!!! 🙌🏈 \r",
      "#MiRitualEs ver a Brady dejando atrás la intercepción del 1er cuarto por @AztecaSiete \r",
      "#GoPatriots #DoYourJob #SB49,,,Brady ya ha sacado el brazo a pasear!!! #GoPatriots!!!,,,HOLD ON,WE HAVE TOM BOY #12 #GoPatriots,,,Brady to Simon...GOAL!! #GoPatriots #GoPats #SuperBowlXLIX #HappyDance #BussAhDance,,,Rumor has it,every time Tom Brady throws a touchdown an angel gains it's wings and an orphan gets adopted. #GoPatriots #GoBrady,,,#SuperBowl #GoPatriots Brady ya empieza con sus lecciones... 7-0...,,,Mr Tom Brady irá mostrar pro mundo hoje, que um homem pode ter TUDO o que deseja nessa vida... #ESPNtemSuperBowl49 #12TomBrady #GoPatriots,,,Edelman, Gronkowski, LaFell, and Brady are gonna dominate this game. The end. #SuperBowlXLIX #GoPatriots,,,Cadê os babaca que estava xingando o Tom Brady ? chupa otários #GoPatriots http://t.co/njGZ2f3NPw,,,Tom Brady a lancé la machine à Touchdown #GoPatriots #SuperBowl,,,#patriots #GoPatriots Tom Brady with the game's first turnover, to Jeremy Lane http://t.co/9EBEtR1SYs,,,Tom Brady #1 #SB49 #SuperBowI #GoPatriots,,,Torcendo para o lindtcho do Tom Brady ❤️💙 #GoPatriots #ESPNtemSuperBowl49,,,\"@nfl: Tom Brady. Brandon LaFell. \n",
      "\n",
      "TOUCHDOWN!! #SB49 http://t.co/Pjju0u3Ug4\"  #GoPatriots #LoveLoveLove,,,Confesso: Estou torcendo para o New England Patriots, mas só porque o Tom Brady roubou meu coração. Desde de 2012 nesse love ♥ #GoPatriots,,,#SuperBowlNoEsporteInterativo #GoPatriots Vamos Tom Brady,,,#ESPNtemSuperBowl49 meu melhor amigo e meu primo torcendo pro Seahawks, RSRSRDS ensina eles Brady #GoPatriots #GoPats,,,Hey Brady just look at your WRs @Edelman11 @DannyAmendola They are the best! #GoPats #GoPatriots @Patriots #SuperBowl,,,Brady tem que manter os passes curtos pra cansar a melhor defesa!!! #GoPatriots #ESPNtemSuperBowl49,,,- Tom Brady tho. #sexyass #gopatriots #tombradytho #wegotthis #superbowlsunday http://t.co/mWvbIZpAVD,,,Tom Brady😍 #GoPatriots #SuperBowl 🏈🍹,,,Go Tom Brady🎉❤️ #GoPatriots,,,Hey NFL Brady looks pretty good throwing the Football! #gopatriots #superbowlXLIX,,,Lá vem Brady e companhia #GoPatriots #SuperBowlNoEsporteInterativo #PerucaNoCareca,,,Let's go Brady #SuperBowl #GoPatriots,,,What's his first name? “@_Blkahontas: Brady is bae 😍😍🏈 #GoPatriots 🔴⚪️🔵”,,,Esse Tom Brady joga demaisssss!! #GoPatriots #espntemsuperbowl49 http://t.co/YPur2OycrI,,,Looks like there was a little to much air in the ball after that last Brady throw Lolll #had #to #say #it #GoPatriots,,,o Tom Brady faz merda, acerta, faz outra merda. #ESPNtemSuperBowl49 \n",
      "#GoPats #GoPatriots,,,Brady podia usar as colinhas de handebol, né @1980Renatinho? #ESPNtemSuperBowl49 #GoPatriots,,,Brady tirando a suelo.\n",
      "\n",
      "Con menos, @EsppeonzAguirre te hace una parada de metro y, de seguido, te la privatiza\n",
      "\n",
      "#SuperBowlXLIX #GoPatriots,,,#GoPatriots #GoPats I love my team but why do people always say go Brady y'all are aware there are others players on the team right?!?!!,,,Listo #GoPatriots \"@josegoz: datobinario Anótate a los Patriots de Tom Brady.\",,,Brady is life. #GoPatriots #superbowl,,,Tom brady tem que aparecer mais nesse 2 tempo pros patriots sair com o caneco #ESPNtemSuperBowl49  #GoPatriots,,,Tom looks so cute rn... #SuperBowlXLIX  #GoPatriots,,,Ok Brady time too air one out down field. Field general!!! #SuperBowlXLIX #GoPatriots 38/24,,,Lo bueno de la #SuperBowlXLIX es q no te pierdes nada Ni cuando juegan Ni cuando paran\n",
      "#GoPatriots\n",
      "#Seahawks\n",
      "Brady,,,Queria ver meu colin lançando,mas tem o tom brady\n",
      "#GoPatriots,,,Really could care less who wins since my Lions aren't playing but #GoPatriots because Tom Brady 😍😍,,,Tom Brady seu gostoso #GoPatriots,,,If only Brady had Seahawks defense. #GoPatriots,,,That Brady pass was dynamite. #goPatriots,,,#GoPatriots\n",
      "vamo vamo..Tom Brady mostra do q tu e capaz..\n",
      "#NFL\n",
      "#SB49\n",
      "#NewEnglandPatriots #SuperBowlNoEsporteInterativo,,,@Angel_Ramis Brady el solito va a joder a los Seahawks, y luego a Gisele #GoPatriots #BradyTop @Hector_Durden,,,#GoPatriots 💪🏈❤️ Tom Brady 12 QB http://t.co/fqxLUB3G5I,,,Brady to Gronk! The reason I won my fantasy league. #GoPatriots!,,,Tom Brady is seriously sexy to watch on that field!! #TomBrady TOUCHDOWN!!! YAAAAAYYYYY #GoPatriots,,,BRADY TO GRONK FOR THE TD! #GoPatriots,,,¡A Huevo Touch Down! Antes de que acabe el segundo cuarto :3 ¡Eres la verga Tom Brady #GoPatriots,,,Brady is a machine!! He's wrecking Seattle right now #SuperBowl #gopatriots,,,BRADY TOUCHDOWN RECORD #GoPatriots,,,Brady to Gronk!!!!!!!! #GoPatriots #GRONKNATION #GronkSpike #TomBrady,,,Tom Brady is god #GoPatriots,,,AWESOME PASS FROM TOM BRADY ! TOUCHFUCKINGDOOOOWN #GoPatriots #SuperBowlXLIX,,,Tom Brady brincando pqp #gopatriots,,,Tom Brady the fucking boss! Patriots 14 - 7 Seattle #SuperBowl #GoPatriots,,,Que vision de Brady y Groundkowsky sella el 2do touchdown de los Patrotas! #GoPatriots,,,Tom Brady. Quem homem! #GoPatriots #ESPNtemSuperBowl49,,,E é touchdoooown!! Brady monstro! #GoPatriots,,,Yes Patriots!! Gronkowski you beaut great take and too throw by Brady 14-7 New England #SuperBowlXLIX #Halftime #TeamBrady #GoPatriots,,,Tom Brady Es un gigante en el futbol americano el mejor para mi de todos los tiempos #Touchdown #GoPatriots #SB49xESPN,,,Gronkowski et Brady jvous aime !!!!!!! #Touchdown  !!!!! #GoPatriots,,,Vaya touchdown de gronkowsky a pase de Brady #ESPECTÁCULO #SuperBowlXLIX #GoPatriots,,,TOUCHDOWN DE GRONKOWSKI !!! el otro grande de los pats junto a Brady !!! #gopatriots,,,Tom Brady'i fenere almak lazım #GoPatriots 🏈,,,#MiRitualEs ver el segundo Touchdown de los @Patriots!!!\r",
      "De Brady para Bronkowzky\r",
      "#GoPatriots #DoYourJob #SB49,,,TOUCHDOWN Brady a GRONK #YoSoyFiesta #GoPatriots,,,Tom Brady empata a Joe Montana en 11 pases completos para Touchdown en un Super Bowl. #SuperBowl #GoPatriots,,,Brady taking over just taking it simple experience is key finding his range now #GoPatriots,,,Brady Reyizzzzzzzzz\n",
      "#GoPatriots \n",
      "#SuperBowlXLIX \n",
      "#SuperBowl,,,Would love to see the #Patriots win tonight! Big UK support! #GoPatriots #SuperBowlXLIX a Brady bow out!,,,Brady and Gronk are my new otp 😍 #SuperBowl #SB49 #GoPatriots #FinishTheJob,,,Tom Brady além de ser um dos caras mais sortudos do mundo, é maravilhoso!!! #GoPatriots,,,Tom Brady égale Joe Montana ! Encore un touchdown et le record dans les superbowls va tomber ! #SuperBowl #GoPatriots,,,Brady to Gronk #GoPatriots,,,@SportsCenter brady is doting these seahawks up ahah great work gronk.. #GoPatriots,,,Welp, some guy in this bar just loudly confessed his love for Tom Brady. I feel strangely at home. #gopatriots,,,Bien Brady conexión con Growskoski y los Pats se van 14-7 la primera mitad. #GoPatriots,,,Tom Brady gênio... Que visão de jogo esse cara tem. #TouchDown #GoPatriots #SuperBowlXLIX,,,tom brady MEU amor que passe foi esseeeeeee 😱 #touchdownpats #GoPatriots #SuperBowlNoEsporteInterativo,,,+1 Tom Brady #GoPatriots http://t.co/XTB5shbVtF,,,Solo por esto merece la pena trasnochar... Menudo pase de Brady para el gran Gronko... #SuperBowl #GoPatriots #GoPats 14-7...,,,Touchdown!!!! Brady conecta con Gronkowski!! 14-7 #GoPatriots,,,Y con uno de 22yrd. Tom Brady iguala a Montana con 11 pases de Touchdown 😍 #legend #GoPatriots #SuperBowlXLIX,,,#GoPatriots Tom Brady MITO,,,Tom setting records!! #GoPatriots #GoTom,,,Que grande la dupla Brady y Gronkowski!!! #GoPatriots #SuperBowl,,,Tom Brady chegou a 11 passes para TD na carreira. #ESPNtemSuperBowl49 #GoPatriots,,,That's the way I like it! Tom #Brady‼️\n",
      "T O U C H D O W N \n",
      "P A T R I O T S\n",
      "#NEvsSEA 14:7 #NFL #ranSB49 \n",
      "#GoPatriotsNation 💪👍🏈,,,tom brady is life ♡ #PatsNation #GoPatriots,,,GO BRADY GO!!! #GoPatriots 🇺🇸🇺🇸🇺🇸,,,Brady to Gronkowski...perfect run...perfect pass! #GoPatriots #PatriotsVsSeaHawks,,,It's when Tom Brady starts to actually look like a crack addict when you know he's in the zone #crackiswhack #GoPatriots,,,Brady er best! Ingen protest! #gopatriots #ViasatNFL,,,@lucadondoni @MaxPezzali un Brady super in qst prima parte!Concentrato e ispirato x la vittoria!! #GoPatriots #PatriotsWillWin,,,Brady to Gronk... TOUCHDOWN! #SuperBowlXLIX #GoPatriots,,,Tom Brady il fait de ces passes magnifiques ! #TomBrady #SuperBowlXLIX #GoPatriots,,,#GoPatriots @espn excelente partido! Grande tom brady igualando a joe montada en pases de touchdown en super bowl http://t.co/DBI6QYAGJR,,,I have a huge crush on Tom Brady 🏉 #gopatriots,,,Brady lleva 10 pases para anotación en un #SuperBowI, el máximo...TOUCHDOWN Baby!! Por eso digo, 11 #GoPatriots,,,Tom Brady ta brincando de jogar #gopatriots,,,Tom BRADYYYYYYYY ! #GoPatriots #Brady4Ever #SuperBowlXLIX,,,Dame la mitad de precisión que tiene Tom Brady..espectacular! #GoPatriots! #SuperBowlXLIX,,,#patriots #GoPatriots Belichick, Brady haven't been interviewed by NFL yet http://t.co/bWN9x5tHg4,,,Can I just marry Tom Brady? #SuperBowlXLIX #GoPatriots,,,Is just me or Tom Brady looks hot today. Hahaha. #SuperBowlXLIX #GoPatriotsNation,,,Brady capullo quiero un hijo tuyo @catarosas13 #GoPatriots 🏈\n"
     ]
    }
   ],
   "source": [
    "for index, value in grouped.items():\n",
    "    to_tokenize = value\n",
    "    print(value)\n",
    "    break\n",
    "\n",
    "#     summarized = summarizer(to_tokenize, min_length=5, max_length=50)\n",
    "#     summ=' '.join([str(i) for i in summarized])\n",
    "#     summ=summ.replace(\"{\",\"\")\n",
    "#     summ=summ.replace(\"''\",\"\")\n",
    "#     summ=summ.replace(\"\\x92\",\"\")\n",
    "#     print(summ)"
   ]
  },
  {
   "cell_type": "code",
   "execution_count": 37,
   "id": "b5c81ca6",
   "metadata": {},
   "outputs": [
    {
     "data": {
      "text/plain": [
       "str"
      ]
     },
     "execution_count": 37,
     "metadata": {},
     "output_type": "execute_result"
    }
   ],
   "source": [
    "type(value)"
   ]
  },
  {
   "cell_type": "code",
   "execution_count": 63,
   "id": "d04f88f5",
   "metadata": {},
   "outputs": [],
   "source": [
    "to_tokenize = value.split(',,,')"
   ]
  },
  {
   "cell_type": "code",
   "execution_count": 64,
   "id": "468e8890",
   "metadata": {},
   "outputs": [
    {
     "data": {
      "text/plain": [
       "['Tom Brady is an American Legend. #BeatTheSeahawks #GoPatriots http://t.co/0afqnbLH1I',\n",
       " 'Statement from a guy at my house: Gronk is the guy you wanna party with. Brady is the guy you bring home to mom.  #GOPATRIOTS #SuperBowI',\n",
       " 'En mi TL nada más que hay mensajes de ánimo a los seahawks pero yo soy muy Brady asiq #GoPatriots',\n",
       " 'Brady looks pumped!!! About two pounds less than full though🏈👌#gopatriots http://t.co/fehtxEYTzQ',\n",
       " 'Tom Brady has a lot to prove #GoPatriots',\n",
       " 'In Tom Brady we trust #GoPatriots #PatsNation #NePatriots #NEvsSEA #SuperBowlXLIX #HappyBday2Me',\n",
       " 'Go Patriots, Brady mostra para eles quem é que manda #SuperBowlNoEsporteInterativo  #GoPatriots #GoBrady',\n",
       " 'Secundária do Patriots muito bem só espero que o Brady não sinta a interceptação #GoPatriots #SuperBowlNoEsporteInterativo',\n",
       " 'Tom Brady is my dream man!  #gopatriots',\n",
       " 'Go Brady 😍🙈🏈💙. \\n#GoPatriots http://t.co/9J8Nh87CTA',\n",
       " \"#C4NFL I'm new to American Football, but I'm really enjoying it :) Especially the dishy QB Brady ;) #GoPatriots\",\n",
       " 'Gotta love the Budweiser commercials but in bill and Brady trust #GoPatriots',\n",
       " '#foxnflitalia #GoPatriots Brady idolo!!! Sky..ma la regia?',\n",
       " 'Ora usiamo la testa Tom !!! Wilson inizio stile GreenBay....difesa @Patriots stile difesa @Seahawks 😁😁😁 #foxnflitalia #SuperBowl #GoPatriots',\n",
       " '@_Jackie_Topo_ #GoPatriots Go Tom Lady digo Tom Brady :) dame follow para DM',\n",
       " '@C4NFL how many more seasons do you think Brady will go on for #GoPatriots #legend',\n",
       " 'Sudo completamente de la NFL pero hoy voy con los Patriots por el simple hecho de que es el equipo de Tom Brady 😍 #SuperBowlXLIX #GoPatriots',\n",
       " '#GoPatriots \\nespero que cuando me despierte los Boston New England Patriots con Brady a la cabeza hayan ganado.',\n",
       " 'Uhhh @RogerZayas acá vamos por bandos opuestos jejje me encanta verlo a Tom Brady, uno de los mejores #GoPatriots',\n",
       " \"If you aren't pulling for Tom Brady tonight, you're blind #GoPatriots 😍\",\n",
       " 'brady is cautiously optimistic. #gopatriots #superbowl49 http://t.co/4e3DvAn6Si',\n",
       " 'TOUCHDOOOOOWN !!!!! BRADY ? NUNCA CRITIQUEI ! #GoPats #GoPatriots #ESPNtemSuperBowl49',\n",
       " 'WOLLLLLL! BRADY QUE HOMEM! #GoPatriots #ESPNtemSuperBowl49',\n",
       " 'Así Brady carajo!!!... TOUCHDOWN PATRIOTS #GoPatriots',\n",
       " 'Siiiiii Touchdown PATRIOTS!!!!!! #SuperBowl #GoPatriots Brady es un puñetero CRACK.',\n",
       " 'Tom Brady throwing lighting in the Red Zone...somebody better tell the Seahawks it Tom Brady not Peyton Manning! #GoPatriots',\n",
       " '@bfmotaa A quien le vas? No me digas que eres Brady hater? #GoPatriots',\n",
       " 'Touuuuuuchdown New England Patriots #GoPatriots #12 Tom Brady #ESPNTemSuperBowl49',\n",
       " 'Tom Brady talking smack #GoPatriots',\n",
       " 'Brady to LaFell for the 6! #GoPatriots #DoYourJob',\n",
       " 'Brady está a otro nivel #GoPatriots',\n",
       " 'Viva Tom Brady!!!!! #GoPatriots #GoPats #SuperBowlNoEsporteInterativo',\n",
       " \"Difference between Tom Brady and other NFL quarterbacks, throws a red zone interception and it doesn't phase him AT ALL. #GoPatriots\",\n",
       " 'Touchdown!!!! Que bien Tom Brady!! #GoPatriots #SuperBowlXLIX',\n",
       " '\"@ESPNNFL: TOUCHDOWN PATRIOTS!!!\\n\\nBrady hits LaFell for the first score of the game!\" &lt;&lt; #GoPatriots #FinishTheJob',\n",
       " '“@rgilzuarth: Sucede que cuando inflan bien los balones a Brady le salen callos.” Aún así ganaremos! #GoPatriotsNation @Patriots #SuperBowl',\n",
       " 'BOOM!! Brady dictating!! #SuperBowl #SuperBowlXLIX #GoPatriots @Patriots',\n",
       " \"Mi sa che l'intervento di prima a Brady lo ha svegliato....#foxnflitalia #GoPatriots\",\n",
       " 'TOUCHDOWN !!!!! Que bien Brady para Lafell !!!!! 7-0 !!!! #GoPatriots #SuperBowl',\n",
       " 'TOUCHDOWN!!! Brandon LaFell #GoPatriots Grande TOM BRADY!!! #SB49',\n",
       " 'Tom Brady is the Greatets of all time. #GoPatriots',\n",
       " 'TOUCHDOWN!!! 🙌🏈 \\r#MiRitualEs ver a Brady dejando atrás la intercepción del 1er cuarto por @AztecaSiete \\r#GoPatriots #DoYourJob #SB49',\n",
       " 'Brady ya ha sacado el brazo a pasear!!! #GoPatriots!!!',\n",
       " 'HOLD ON,WE HAVE TOM BOY #12 #GoPatriots',\n",
       " 'Brady to Simon...GOAL!! #GoPatriots #GoPats #SuperBowlXLIX #HappyDance #BussAhDance',\n",
       " \"Rumor has it,every time Tom Brady throws a touchdown an angel gains it's wings and an orphan gets adopted. #GoPatriots #GoBrady\",\n",
       " '#SuperBowl #GoPatriots Brady ya empieza con sus lecciones... 7-0...',\n",
       " 'Mr Tom Brady irá mostrar pro mundo hoje, que um homem pode ter TUDO o que deseja nessa vida... #ESPNtemSuperBowl49 #12TomBrady #GoPatriots',\n",
       " 'Edelman, Gronkowski, LaFell, and Brady are gonna dominate this game. The end. #SuperBowlXLIX #GoPatriots',\n",
       " 'Cadê os babaca que estava xingando o Tom Brady ? chupa otários #GoPatriots http://t.co/njGZ2f3NPw',\n",
       " 'Tom Brady a lancé la machine à Touchdown #GoPatriots #SuperBowl',\n",
       " \"#patriots #GoPatriots Tom Brady with the game's first turnover, to Jeremy Lane http://t.co/9EBEtR1SYs\",\n",
       " 'Tom Brady #1 #SB49 #SuperBowI #GoPatriots',\n",
       " 'Torcendo para o lindtcho do Tom Brady ❤️💙 #GoPatriots #ESPNtemSuperBowl49',\n",
       " '\"@nfl: Tom Brady. Brandon LaFell. \\n\\nTOUCHDOWN!! #SB49 http://t.co/Pjju0u3Ug4\"  #GoPatriots #LoveLoveLove',\n",
       " 'Confesso: Estou torcendo para o New England Patriots, mas só porque o Tom Brady roubou meu coração. Desde de 2012 nesse love ♥ #GoPatriots',\n",
       " '#SuperBowlNoEsporteInterativo #GoPatriots Vamos Tom Brady',\n",
       " '#ESPNtemSuperBowl49 meu melhor amigo e meu primo torcendo pro Seahawks, RSRSRDS ensina eles Brady #GoPatriots #GoPats',\n",
       " 'Hey Brady just look at your WRs @Edelman11 @DannyAmendola They are the best! #GoPats #GoPatriots @Patriots #SuperBowl',\n",
       " 'Brady tem que manter os passes curtos pra cansar a melhor defesa!!! #GoPatriots #ESPNtemSuperBowl49',\n",
       " '- Tom Brady tho. #sexyass #gopatriots #tombradytho #wegotthis #superbowlsunday http://t.co/mWvbIZpAVD',\n",
       " 'Tom Brady😍 #GoPatriots #SuperBowl 🏈🍹',\n",
       " 'Go Tom Brady🎉❤️ #GoPatriots',\n",
       " 'Hey NFL Brady looks pretty good throwing the Football! #gopatriots #superbowlXLIX',\n",
       " 'Lá vem Brady e companhia #GoPatriots #SuperBowlNoEsporteInterativo #PerucaNoCareca',\n",
       " \"Let's go Brady #SuperBowl #GoPatriots\",\n",
       " \"What's his first name? “@_Blkahontas: Brady is bae 😍😍🏈 #GoPatriots 🔴⚪️🔵”\",\n",
       " 'Esse Tom Brady joga demaisssss!! #GoPatriots #espntemsuperbowl49 http://t.co/YPur2OycrI',\n",
       " 'Looks like there was a little to much air in the ball after that last Brady throw Lolll #had #to #say #it #GoPatriots',\n",
       " 'o Tom Brady faz merda, acerta, faz outra merda. #ESPNtemSuperBowl49 \\n#GoPats #GoPatriots',\n",
       " 'Brady podia usar as colinhas de handebol, né @1980Renatinho? #ESPNtemSuperBowl49 #GoPatriots',\n",
       " 'Brady tirando a suelo.\\n\\nCon menos, @EsppeonzAguirre te hace una parada de metro y, de seguido, te la privatiza\\n\\n#SuperBowlXLIX #GoPatriots',\n",
       " \"#GoPatriots #GoPats I love my team but why do people always say go Brady y'all are aware there are others players on the team right?!?!!\",\n",
       " 'Listo #GoPatriots \"@josegoz: datobinario Anótate a los Patriots de Tom Brady.\"',\n",
       " 'Brady is life. #GoPatriots #superbowl',\n",
       " 'Tom brady tem que aparecer mais nesse 2 tempo pros patriots sair com o caneco #ESPNtemSuperBowl49  #GoPatriots',\n",
       " 'Tom looks so cute rn... #SuperBowlXLIX  #GoPatriots',\n",
       " 'Ok Brady time too air one out down field. Field general!!! #SuperBowlXLIX #GoPatriots 38/24',\n",
       " 'Lo bueno de la #SuperBowlXLIX es q no te pierdes nada Ni cuando juegan Ni cuando paran\\n#GoPatriots\\n#Seahawks\\nBrady',\n",
       " 'Queria ver meu colin lançando,mas tem o tom brady\\n#GoPatriots',\n",
       " \"Really could care less who wins since my Lions aren't playing but #GoPatriots because Tom Brady 😍😍\",\n",
       " 'Tom Brady seu gostoso #GoPatriots',\n",
       " 'If only Brady had Seahawks defense. #GoPatriots',\n",
       " 'That Brady pass was dynamite. #goPatriots',\n",
       " '#GoPatriots\\nvamo vamo..Tom Brady mostra do q tu e capaz..\\n#NFL\\n#SB49\\n#NewEnglandPatriots #SuperBowlNoEsporteInterativo',\n",
       " '@Angel_Ramis Brady el solito va a joder a los Seahawks, y luego a Gisele #GoPatriots #BradyTop @Hector_Durden',\n",
       " '#GoPatriots 💪🏈❤️ Tom Brady 12 QB http://t.co/fqxLUB3G5I',\n",
       " 'Brady to Gronk! The reason I won my fantasy league. #GoPatriots!',\n",
       " 'Tom Brady is seriously sexy to watch on that field!! #TomBrady TOUCHDOWN!!! YAAAAAYYYYY #GoPatriots',\n",
       " 'BRADY TO GRONK FOR THE TD! #GoPatriots',\n",
       " '¡A Huevo Touch Down! Antes de que acabe el segundo cuarto :3 ¡Eres la verga Tom Brady #GoPatriots',\n",
       " \"Brady is a machine!! He's wrecking Seattle right now #SuperBowl #gopatriots\",\n",
       " 'BRADY TOUCHDOWN RECORD #GoPatriots',\n",
       " 'Brady to Gronk!!!!!!!! #GoPatriots #GRONKNATION #GronkSpike #TomBrady',\n",
       " 'Tom Brady is god #GoPatriots',\n",
       " 'AWESOME PASS FROM TOM BRADY ! TOUCHFUCKINGDOOOOWN #GoPatriots #SuperBowlXLIX',\n",
       " 'Tom Brady brincando pqp #gopatriots',\n",
       " 'Tom Brady the fucking boss! Patriots 14 - 7 Seattle #SuperBowl #GoPatriots',\n",
       " 'Que vision de Brady y Groundkowsky sella el 2do touchdown de los Patrotas! #GoPatriots',\n",
       " 'Tom Brady. Quem homem! #GoPatriots #ESPNtemSuperBowl49',\n",
       " 'E é touchdoooown!! Brady monstro! #GoPatriots',\n",
       " 'Yes Patriots!! Gronkowski you beaut great take and too throw by Brady 14-7 New England #SuperBowlXLIX #Halftime #TeamBrady #GoPatriots',\n",
       " 'Tom Brady Es un gigante en el futbol americano el mejor para mi de todos los tiempos #Touchdown #GoPatriots #SB49xESPN',\n",
       " 'Gronkowski et Brady jvous aime !!!!!!! #Touchdown  !!!!! #GoPatriots',\n",
       " 'Vaya touchdown de gronkowsky a pase de Brady #ESPECTÁCULO #SuperBowlXLIX #GoPatriots',\n",
       " 'TOUCHDOWN DE GRONKOWSKI !!! el otro grande de los pats junto a Brady !!! #gopatriots',\n",
       " \"Tom Brady'i fenere almak lazım #GoPatriots 🏈\",\n",
       " '#MiRitualEs ver el segundo Touchdown de los @Patriots!!!\\rDe Brady para Bronkowzky\\r#GoPatriots #DoYourJob #SB49',\n",
       " 'TOUCHDOWN Brady a GRONK #YoSoyFiesta #GoPatriots',\n",
       " 'Tom Brady empata a Joe Montana en 11 pases completos para Touchdown en un Super Bowl. #SuperBowl #GoPatriots',\n",
       " 'Brady taking over just taking it simple experience is key finding his range now #GoPatriots',\n",
       " 'Brady Reyizzzzzzzzz\\n#GoPatriots \\n#SuperBowlXLIX \\n#SuperBowl',\n",
       " 'Would love to see the #Patriots win tonight! Big UK support! #GoPatriots #SuperBowlXLIX a Brady bow out!',\n",
       " 'Brady and Gronk are my new otp 😍 #SuperBowl #SB49 #GoPatriots #FinishTheJob',\n",
       " 'Tom Brady além de ser um dos caras mais sortudos do mundo, é maravilhoso!!! #GoPatriots',\n",
       " 'Tom Brady égale Joe Montana ! Encore un touchdown et le record dans les superbowls va tomber ! #SuperBowl #GoPatriots',\n",
       " 'Brady to Gronk #GoPatriots',\n",
       " '@SportsCenter brady is doting these seahawks up ahah great work gronk.. #GoPatriots',\n",
       " 'Welp, some guy in this bar just loudly confessed his love for Tom Brady. I feel strangely at home. #gopatriots',\n",
       " 'Bien Brady conexión con Growskoski y los Pats se van 14-7 la primera mitad. #GoPatriots',\n",
       " 'Tom Brady gênio... Que visão de jogo esse cara tem. #TouchDown #GoPatriots #SuperBowlXLIX',\n",
       " 'tom brady MEU amor que passe foi esseeeeeee 😱 #touchdownpats #GoPatriots #SuperBowlNoEsporteInterativo',\n",
       " '+1 Tom Brady #GoPatriots http://t.co/XTB5shbVtF',\n",
       " 'Solo por esto merece la pena trasnochar... Menudo pase de Brady para el gran Gronko... #SuperBowl #GoPatriots #GoPats 14-7...',\n",
       " 'Touchdown!!!! Brady conecta con Gronkowski!! 14-7 #GoPatriots',\n",
       " 'Y con uno de 22yrd. Tom Brady iguala a Montana con 11 pases de Touchdown 😍 #legend #GoPatriots #SuperBowlXLIX',\n",
       " '#GoPatriots Tom Brady MITO',\n",
       " 'Tom setting records!! #GoPatriots #GoTom',\n",
       " 'Que grande la dupla Brady y Gronkowski!!! #GoPatriots #SuperBowl',\n",
       " 'Tom Brady chegou a 11 passes para TD na carreira. #ESPNtemSuperBowl49 #GoPatriots',\n",
       " \"That's the way I like it! Tom #Brady‼️\\nT O U C H D O W N \\nP A T R I O T S\\n#NEvsSEA 14:7 #NFL #ranSB49 \\n#GoPatriotsNation 💪👍🏈\",\n",
       " 'tom brady is life ♡ #PatsNation #GoPatriots',\n",
       " 'GO BRADY GO!!! #GoPatriots 🇺🇸🇺🇸🇺🇸',\n",
       " 'Brady to Gronkowski...perfect run...perfect pass! #GoPatriots #PatriotsVsSeaHawks',\n",
       " \"It's when Tom Brady starts to actually look like a crack addict when you know he's in the zone #crackiswhack #GoPatriots\",\n",
       " 'Brady er best! Ingen protest! #gopatriots #ViasatNFL',\n",
       " '@lucadondoni @MaxPezzali un Brady super in qst prima parte!Concentrato e ispirato x la vittoria!! #GoPatriots #PatriotsWillWin',\n",
       " 'Brady to Gronk... TOUCHDOWN! #SuperBowlXLIX #GoPatriots',\n",
       " 'Tom Brady il fait de ces passes magnifiques ! #TomBrady #SuperBowlXLIX #GoPatriots',\n",
       " '#GoPatriots @espn excelente partido! Grande tom brady igualando a joe montada en pases de touchdown en super bowl http://t.co/DBI6QYAGJR',\n",
       " 'I have a huge crush on Tom Brady 🏉 #gopatriots',\n",
       " 'Brady lleva 10 pases para anotación en un #SuperBowI, el máximo...TOUCHDOWN Baby!! Por eso digo, 11 #GoPatriots',\n",
       " 'Tom Brady ta brincando de jogar #gopatriots',\n",
       " 'Tom BRADYYYYYYYY ! #GoPatriots #Brady4Ever #SuperBowlXLIX',\n",
       " 'Dame la mitad de precisión que tiene Tom Brady..espectacular! #GoPatriots! #SuperBowlXLIX',\n",
       " \"#patriots #GoPatriots Belichick, Brady haven't been interviewed by NFL yet http://t.co/bWN9x5tHg4\",\n",
       " 'Can I just marry Tom Brady? #SuperBowlXLIX #GoPatriots',\n",
       " 'Is just me or Tom Brady looks hot today. Hahaha. #SuperBowlXLIX #GoPatriotsNation',\n",
       " 'Brady capullo quiero un hijo tuyo @catarosas13 #GoPatriots 🏈']"
      ]
     },
     "execution_count": 64,
     "metadata": {},
     "output_type": "execute_result"
    }
   ],
   "source": [
    "to_tokenize"
   ]
  },
  {
   "cell_type": "code",
   "execution_count": null,
   "id": "71e89b32",
   "metadata": {},
   "outputs": [
    {
     "name": "stderr",
     "output_type": "stream",
     "text": [
      "Your max_length is set to 50, but you input_length is only 33. You might consider decreasing max_length manually, e.g. summarizer('...', max_length=16)\n",
      "Your max_length is set to 50, but you input_length is only 40. You might consider decreasing max_length manually, e.g. summarizer('...', max_length=20)\n",
      "Your max_length is set to 50, but you input_length is only 38. You might consider decreasing max_length manually, e.g. summarizer('...', max_length=19)\n",
      "Your max_length is set to 50, but you input_length is only 36. You might consider decreasing max_length manually, e.g. summarizer('...', max_length=18)\n",
      "Your max_length is set to 50, but you input_length is only 13. You might consider decreasing max_length manually, e.g. summarizer('...', max_length=6)\n",
      "Your max_length is set to 50, but you input_length is only 35. You might consider decreasing max_length manually, e.g. summarizer('...', max_length=17)\n",
      "Your max_length is set to 50, but you input_length is only 37. You might consider decreasing max_length manually, e.g. summarizer('...', max_length=18)\n",
      "Your max_length is set to 50, but you input_length is only 46. You might consider decreasing max_length manually, e.g. summarizer('...', max_length=23)\n",
      "Your max_length is set to 50, but you input_length is only 15. You might consider decreasing max_length manually, e.g. summarizer('...', max_length=7)\n",
      "Your max_length is set to 50, but you input_length is only 36. You might consider decreasing max_length manually, e.g. summarizer('...', max_length=18)\n",
      "Your max_length is set to 50, but you input_length is only 31. You might consider decreasing max_length manually, e.g. summarizer('...', max_length=15)\n",
      "Your max_length is set to 50, but you input_length is only 20. You might consider decreasing max_length manually, e.g. summarizer('...', max_length=10)\n",
      "Your max_length is set to 50, but you input_length is only 23. You might consider decreasing max_length manually, e.g. summarizer('...', max_length=11)\n",
      "Your max_length is set to 50, but you input_length is only 27. You might consider decreasing max_length manually, e.g. summarizer('...', max_length=13)\n",
      "Your max_length is set to 50, but you input_length is only 25. You might consider decreasing max_length manually, e.g. summarizer('...', max_length=12)\n",
      "Your max_length is set to 50, but you input_length is only 45. You might consider decreasing max_length manually, e.g. summarizer('...', max_length=22)\n",
      "Your max_length is set to 50, but you input_length is only 36. You might consider decreasing max_length manually, e.g. summarizer('...', max_length=18)\n",
      "Your max_length is set to 50, but you input_length is only 44. You might consider decreasing max_length manually, e.g. summarizer('...', max_length=22)\n",
      "Your max_length is set to 50, but you input_length is only 21. You might consider decreasing max_length manually, e.g. summarizer('...', max_length=10)\n",
      "Your max_length is set to 50, but you input_length is only 31. You might consider decreasing max_length manually, e.g. summarizer('...', max_length=15)\n",
      "Your max_length is set to 50, but you input_length is only 38. You might consider decreasing max_length manually, e.g. summarizer('...', max_length=19)\n",
      "Your max_length is set to 50, but you input_length is only 28. You might consider decreasing max_length manually, e.g. summarizer('...', max_length=14)\n",
      "Your max_length is set to 50, but you input_length is only 20. You might consider decreasing max_length manually, e.g. summarizer('...', max_length=10)\n",
      "Your max_length is set to 50, but you input_length is only 31. You might consider decreasing max_length manually, e.g. summarizer('...', max_length=15)\n",
      "Your max_length is set to 50, but you input_length is only 28. You might consider decreasing max_length manually, e.g. summarizer('...', max_length=14)\n",
      "Your max_length is set to 50, but you input_length is only 28. You might consider decreasing max_length manually, e.g. summarizer('...', max_length=14)\n",
      "Your max_length is set to 50, but you input_length is only 27. You might consider decreasing max_length manually, e.g. summarizer('...', max_length=13)\n",
      "Your max_length is set to 50, but you input_length is only 10. You might consider decreasing max_length manually, e.g. summarizer('...', max_length=5)\n",
      "Your max_length is set to 50, but you input_length is only 19. You might consider decreasing max_length manually, e.g. summarizer('...', max_length=9)\n",
      "Your max_length is set to 50, but you input_length is only 15. You might consider decreasing max_length manually, e.g. summarizer('...', max_length=7)\n",
      "Your max_length is set to 50, but you input_length is only 26. You might consider decreasing max_length manually, e.g. summarizer('...', max_length=13)\n",
      "Your max_length is set to 50, but you input_length is only 29. You might consider decreasing max_length manually, e.g. summarizer('...', max_length=14)\n",
      "Your max_length is set to 50, but you input_length is only 21. You might consider decreasing max_length manually, e.g. summarizer('...', max_length=10)\n",
      "Your max_length is set to 50, but you input_length is only 46. You might consider decreasing max_length manually, e.g. summarizer('...', max_length=23)\n",
      "Your max_length is set to 50, but you input_length is only 26. You might consider decreasing max_length manually, e.g. summarizer('...', max_length=13)\n",
      "Your max_length is set to 50, but you input_length is only 33. You might consider decreasing max_length manually, e.g. summarizer('...', max_length=16)\n",
      "Your max_length is set to 50, but you input_length is only 30. You might consider decreasing max_length manually, e.g. summarizer('...', max_length=15)\n",
      "Your max_length is set to 50, but you input_length is only 24. You might consider decreasing max_length manually, e.g. summarizer('...', max_length=12)\n",
      "Your max_length is set to 50, but you input_length is only 16. You might consider decreasing max_length manually, e.g. summarizer('...', max_length=8)\n",
      "Your max_length is set to 50, but you input_length is only 20. You might consider decreasing max_length manually, e.g. summarizer('...', max_length=10)\n",
      "Your max_length is set to 50, but you input_length is only 17. You might consider decreasing max_length manually, e.g. summarizer('...', max_length=8)\n",
      "Your max_length is set to 50, but you input_length is only 33. You might consider decreasing max_length manually, e.g. summarizer('...', max_length=16)\n",
      "Your max_length is set to 50, but you input_length is only 34. You might consider decreasing max_length manually, e.g. summarizer('...', max_length=17)\n",
      "Your max_length is set to 50, but you input_length is only 26. You might consider decreasing max_length manually, e.g. summarizer('...', max_length=13)\n",
      "Your max_length is set to 50, but you input_length is only 33. You might consider decreasing max_length manually, e.g. summarizer('...', max_length=16)\n",
      "Your max_length is set to 50, but you input_length is only 43. You might consider decreasing max_length manually, e.g. summarizer('...', max_length=21)\n",
      "Your max_length is set to 50, but you input_length is only 21. You might consider decreasing max_length manually, e.g. summarizer('...', max_length=10)\n",
      "Your max_length is set to 50, but you input_length is only 35. You might consider decreasing max_length manually, e.g. summarizer('...', max_length=17)\n",
      "Your max_length is set to 50, but you input_length is only 17. You might consider decreasing max_length manually, e.g. summarizer('...', max_length=8)\n",
      "Your max_length is set to 50, but you input_length is only 31. You might consider decreasing max_length manually, e.g. summarizer('...', max_length=15)\n",
      "Your max_length is set to 50, but you input_length is only 48. You might consider decreasing max_length manually, e.g. summarizer('...', max_length=24)\n",
      "Your max_length is set to 50, but you input_length is only 22. You might consider decreasing max_length manually, e.g. summarizer('...', max_length=11)\n",
      "Your max_length is set to 50, but you input_length is only 43. You might consider decreasing max_length manually, e.g. summarizer('...', max_length=21)\n",
      "Your max_length is set to 50, but you input_length is only 39. You might consider decreasing max_length manually, e.g. summarizer('...', max_length=19)\n"
     ]
    },
    {
     "name": "stderr",
     "output_type": "stream",
     "text": [
      "Your max_length is set to 50, but you input_length is only 32. You might consider decreasing max_length manually, e.g. summarizer('...', max_length=16)\n",
      "Your max_length is set to 50, but you input_length is only 46. You might consider decreasing max_length manually, e.g. summarizer('...', max_length=23)\n",
      "Your max_length is set to 50, but you input_length is only 20. You might consider decreasing max_length manually, e.g. summarizer('...', max_length=10)\n",
      "Your max_length is set to 50, but you input_length is only 15. You might consider decreasing max_length manually, e.g. summarizer('...', max_length=7)\n",
      "Your max_length is set to 50, but you input_length is only 22. You might consider decreasing max_length manually, e.g. summarizer('...', max_length=11)\n",
      "Your max_length is set to 50, but you input_length is only 32. You might consider decreasing max_length manually, e.g. summarizer('...', max_length=16)\n",
      "Your max_length is set to 50, but you input_length is only 14. You might consider decreasing max_length manually, e.g. summarizer('...', max_length=7)\n",
      "Your max_length is set to 50, but you input_length is only 45. You might consider decreasing max_length manually, e.g. summarizer('...', max_length=22)\n",
      "Your max_length is set to 50, but you input_length is only 38. You might consider decreasing max_length manually, e.g. summarizer('...', max_length=19)\n",
      "Your max_length is set to 50, but you input_length is only 33. You might consider decreasing max_length manually, e.g. summarizer('...', max_length=16)\n",
      "Your max_length is set to 50, but you input_length is only 38. You might consider decreasing max_length manually, e.g. summarizer('...', max_length=19)\n",
      "Your max_length is set to 50, but you input_length is only 35. You might consider decreasing max_length manually, e.g. summarizer('...', max_length=17)\n",
      "Your max_length is set to 50, but you input_length is only 38. You might consider decreasing max_length manually, e.g. summarizer('...', max_length=19)\n",
      "Your max_length is set to 50, but you input_length is only 28. You might consider decreasing max_length manually, e.g. summarizer('...', max_length=14)\n",
      "Your max_length is set to 50, but you input_length is only 13. You might consider decreasing max_length manually, e.g. summarizer('...', max_length=6)\n",
      "Your max_length is set to 50, but you input_length is only 37. You might consider decreasing max_length manually, e.g. summarizer('...', max_length=18)\n",
      "Your max_length is set to 50, but you input_length is only 20. You might consider decreasing max_length manually, e.g. summarizer('...', max_length=10)\n",
      "Your max_length is set to 50, but you input_length is only 28. You might consider decreasing max_length manually, e.g. summarizer('...', max_length=14)\n",
      "Your max_length is set to 50, but you input_length is only 44. You might consider decreasing max_length manually, e.g. summarizer('...', max_length=22)\n",
      "Your max_length is set to 50, but you input_length is only 24. You might consider decreasing max_length manually, e.g. summarizer('...', max_length=12)\n",
      "Your max_length is set to 50, but you input_length is only 26. You might consider decreasing max_length manually, e.g. summarizer('...', max_length=13)\n",
      "Your max_length is set to 50, but you input_length is only 13. You might consider decreasing max_length manually, e.g. summarizer('...', max_length=6)\n",
      "Your max_length is set to 50, but you input_length is only 13. You might consider decreasing max_length manually, e.g. summarizer('...', max_length=6)\n",
      "Your max_length is set to 50, but you input_length is only 13. You might consider decreasing max_length manually, e.g. summarizer('...', max_length=6)\n",
      "Your max_length is set to 50, but you input_length is only 47. You might consider decreasing max_length manually, e.g. summarizer('...', max_length=23)\n",
      "Your max_length is set to 50, but you input_length is only 41. You might consider decreasing max_length manually, e.g. summarizer('...', max_length=20)\n",
      "Your max_length is set to 50, but you input_length is only 34. You might consider decreasing max_length manually, e.g. summarizer('...', max_length=17)\n",
      "Your max_length is set to 50, but you input_length is only 20. You might consider decreasing max_length manually, e.g. summarizer('...', max_length=10)\n",
      "Your max_length is set to 50, but you input_length is only 31. You might consider decreasing max_length manually, e.g. summarizer('...', max_length=15)\n",
      "Your max_length is set to 50, but you input_length is only 17. You might consider decreasing max_length manually, e.g. summarizer('...', max_length=8)\n",
      "Your max_length is set to 50, but you input_length is only 38. You might consider decreasing max_length manually, e.g. summarizer('...', max_length=19)\n",
      "Your max_length is set to 50, but you input_length is only 23. You might consider decreasing max_length manually, e.g. summarizer('...', max_length=11)\n",
      "Your max_length is set to 50, but you input_length is only 15. You might consider decreasing max_length manually, e.g. summarizer('...', max_length=7)\n",
      "Your max_length is set to 50, but you input_length is only 26. You might consider decreasing max_length manually, e.g. summarizer('...', max_length=13)\n",
      "Your max_length is set to 50, but you input_length is only 10. You might consider decreasing max_length manually, e.g. summarizer('...', max_length=5)\n",
      "Your max_length is set to 50, but you input_length is only 32. You might consider decreasing max_length manually, e.g. summarizer('...', max_length=16)\n",
      "Your max_length is set to 50, but you input_length is only 15. You might consider decreasing max_length manually, e.g. summarizer('...', max_length=7)\n",
      "Your max_length is set to 50, but you input_length is only 21. You might consider decreasing max_length manually, e.g. summarizer('...', max_length=10)\n",
      "Your max_length is set to 50, but you input_length is only 26. You might consider decreasing max_length manually, e.g. summarizer('...', max_length=13)\n",
      "Your max_length is set to 50, but you input_length is only 21. You might consider decreasing max_length manually, e.g. summarizer('...', max_length=10)\n",
      "Your max_length is set to 50, but you input_length is only 17. You might consider decreasing max_length manually, e.g. summarizer('...', max_length=8)\n",
      "Your max_length is set to 50, but you input_length is only 38. You might consider decreasing max_length manually, e.g. summarizer('...', max_length=19)\n",
      "Your max_length is set to 50, but you input_length is only 39. You might consider decreasing max_length manually, e.g. summarizer('...', max_length=19)\n",
      "Your max_length is set to 50, but you input_length is only 23. You might consider decreasing max_length manually, e.g. summarizer('...', max_length=11)\n",
      "Your max_length is set to 50, but you input_length is only 34. You might consider decreasing max_length manually, e.g. summarizer('...', max_length=17)\n",
      "Your max_length is set to 50, but you input_length is only 35. You might consider decreasing max_length manually, e.g. summarizer('...', max_length=17)\n",
      "Your max_length is set to 50, but you input_length is only 22. You might consider decreasing max_length manually, e.g. summarizer('...', max_length=11)\n",
      "Your max_length is set to 50, but you input_length is only 41. You might consider decreasing max_length manually, e.g. summarizer('...', max_length=20)\n",
      "Your max_length is set to 50, but you input_length is only 21. You might consider decreasing max_length manually, e.g. summarizer('...', max_length=10)\n",
      "Your max_length is set to 50, but you input_length is only 33. You might consider decreasing max_length manually, e.g. summarizer('...', max_length=16)\n",
      "Your max_length is set to 50, but you input_length is only 20. You might consider decreasing max_length manually, e.g. summarizer('...', max_length=10)\n",
      "Your max_length is set to 50, but you input_length is only 28. You might consider decreasing max_length manually, e.g. summarizer('...', max_length=14)\n",
      "Your max_length is set to 50, but you input_length is only 32. You might consider decreasing max_length manually, e.g. summarizer('...', max_length=16)\n",
      "Your max_length is set to 50, but you input_length is only 28. You might consider decreasing max_length manually, e.g. summarizer('...', max_length=14)\n"
     ]
    },
    {
     "name": "stderr",
     "output_type": "stream",
     "text": [
      "Your max_length is set to 50, but you input_length is only 32. You might consider decreasing max_length manually, e.g. summarizer('...', max_length=16)\n",
      "Your max_length is set to 50, but you input_length is only 35. You might consider decreasing max_length manually, e.g. summarizer('...', max_length=17)\n",
      "Your max_length is set to 50, but you input_length is only 10. You might consider decreasing max_length manually, e.g. summarizer('...', max_length=5)\n",
      "Your max_length is set to 50, but you input_length is only 27. You might consider decreasing max_length manually, e.g. summarizer('...', max_length=13)\n",
      "Your max_length is set to 50, but you input_length is only 30. You might consider decreasing max_length manually, e.g. summarizer('...', max_length=15)\n",
      "Your max_length is set to 50, but you input_length is only 32. You might consider decreasing max_length manually, e.g. summarizer('...', max_length=16)\n",
      "Your max_length is set to 50, but you input_length is only 34. You might consider decreasing max_length manually, e.g. summarizer('...', max_length=17)\n",
      "Your max_length is set to 50, but you input_length is only 40. You might consider decreasing max_length manually, e.g. summarizer('...', max_length=20)\n",
      "Your max_length is set to 50, but you input_length is only 24. You might consider decreasing max_length manually, e.g. summarizer('...', max_length=12)\n",
      "Your max_length is set to 50, but you input_length is only 44. You might consider decreasing max_length manually, e.g. summarizer('...', max_length=22)\n",
      "Your max_length is set to 50, but you input_length is only 20. You might consider decreasing max_length manually, e.g. summarizer('...', max_length=10)\n",
      "Your max_length is set to 50, but you input_length is only 39. You might consider decreasing max_length manually, e.g. summarizer('...', max_length=19)\n",
      "Your max_length is set to 50, but you input_length is only 10. You might consider decreasing max_length manually, e.g. summarizer('...', max_length=5)\n",
      "Your max_length is set to 50, but you input_length is only 13. You might consider decreasing max_length manually, e.g. summarizer('...', max_length=6)\n",
      "Your max_length is set to 50, but you input_length is only 21. You might consider decreasing max_length manually, e.g. summarizer('...', max_length=10)\n",
      "Your max_length is set to 50, but you input_length is only 28. You might consider decreasing max_length manually, e.g. summarizer('...', max_length=14)\n",
      "Your max_length is set to 50, but you input_length is only 17. You might consider decreasing max_length manually, e.g. summarizer('...', max_length=8)\n",
      "Your max_length is set to 50, but you input_length is only 30. You might consider decreasing max_length manually, e.g. summarizer('...', max_length=15)\n",
      "Your max_length is set to 50, but you input_length is only 24. You might consider decreasing max_length manually, e.g. summarizer('...', max_length=12)\n",
      "Your max_length is set to 50, but you input_length is only 33. You might consider decreasing max_length manually, e.g. summarizer('...', max_length=16)\n",
      "Your max_length is set to 50, but you input_length is only 20. You might consider decreasing max_length manually, e.g. summarizer('...', max_length=10)\n",
      "Your max_length is set to 50, but you input_length is only 47. You might consider decreasing max_length manually, e.g. summarizer('...', max_length=23)\n",
      "Your max_length is set to 50, but you input_length is only 22. You might consider decreasing max_length manually, e.g. summarizer('...', max_length=11)\n",
      "Your max_length is set to 50, but you input_length is only 29. You might consider decreasing max_length manually, e.g. summarizer('...', max_length=14)\n",
      "Your max_length is set to 50, but you input_length is only 47. You might consider decreasing max_length manually, e.g. summarizer('...', max_length=23)\n"
     ]
    }
   ],
   "source": [
    "summarized = summarizer(to_tokenize , min_length=5, max_length=50)"
   ]
  }
 ],
 "metadata": {
  "kernelspec": {
   "display_name": "Python 3 (ipykernel)",
   "language": "python",
   "name": "python3"
  },
  "language_info": {
   "codemirror_mode": {
    "name": "ipython",
    "version": 3
   },
   "file_extension": ".py",
   "mimetype": "text/x-python",
   "name": "python",
   "nbconvert_exporter": "python",
   "pygments_lexer": "ipython3",
   "version": "3.8.10"
  }
 },
 "nbformat": 4,
 "nbformat_minor": 5
}
