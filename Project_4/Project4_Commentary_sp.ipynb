{
 "cells": [
  {
   "cell_type": "markdown",
   "id": "b984d436",
   "metadata": {},
   "source": [
    "## Tweet Generation"
   ]
  },
  {
   "cell_type": "code",
   "execution_count": 1,
   "id": "f68d78e9",
   "metadata": {},
   "outputs": [],
   "source": [
    "import numpy as np\n",
    "import pandas as pd\n",
    "from time import time\n",
    "from sklearn import metrics\n",
    "from collections import defaultdict\n",
    "import matplotlib.pyplot as plt\n",
    "import glob\n",
    "\n",
    "\n",
    "from sklearn.feature_extraction.text import CountVectorizer\n",
    "from sklearn.feature_extraction import text\n",
    "from sklearn.feature_extraction.text import TfidfTransformer\n",
    "from sklearn.cluster import KMeans\n",
    "from sklearn import preprocessing\n",
    "from sklearn.metrics.cluster import contingency_matrix, homogeneity_score, completeness_score, adjusted_rand_score, adjusted_mutual_info_score, v_measure_score\n",
    "from sklearn.metrics.cluster import contingency_matrix\n",
    "\n",
    "## Import libraries\n",
    "import re\n",
    "import nltk\n",
    "from nltk import pos_tag\n",
    "from nltk.tokenize import sent_tokenize\n",
    "from nltk.corpus import stopwords\n",
    "#nltk.download('stopwords' )\n",
    "\n",
    "import string\n",
    "from string import punctuation\n",
    "import matplotlib.pyplot as plt"
   ]
  },
  {
   "cell_type": "code",
   "execution_count": 2,
   "id": "716a90ae",
   "metadata": {},
   "outputs": [
    {
     "name": "stderr",
     "output_type": "stream",
     "text": [
      "/usr/lib/python3/dist-packages/requests/__init__.py:89: RequestsDependencyWarning: urllib3 (1.26.8) or chardet (3.0.4) doesn't match a supported version!\n",
      "  warnings.warn(\"urllib3 ({}) or chardet ({}) doesn't match a supported \"\n"
     ]
    }
   ],
   "source": [
    "from sumy.parsers.plaintext import PlaintextParser\n",
    "from sumy.nlp.tokenizers import Tokenizer\n",
    "from sumy.summarizers.lex_rank import LexRankSummarizer\n",
    "import random\n",
    "import pandas as pd\n",
    "import numpy as np\n",
    "import re, json, datetime, pytz\n",
    "import matplotlib.pyplot as plt\n",
    "from sklearn.feature_extraction import text\n",
    "from nltk.stem.porter import PorterStemmer\n",
    "from sklearn.feature_extraction.text import TfidfVectorizer\n",
    "from sklearn.decomposition import TruncatedSVD\n",
    "from textblob import TextBlob\n",
    "from sklearn.ensemble import RandomForestClassifier\n",
    "from collections import Counter\n",
    "from collections import Counter\n",
    "import nltk"
   ]
  },
  {
   "cell_type": "code",
   "execution_count": 3,
   "id": "2849c0e1",
   "metadata": {},
   "outputs": [],
   "source": [
    "import pytz\n",
    "import datetime\n",
    "\n",
    "pst_tz = pytz.timezone('America/Los_Angeles')"
   ]
  },
  {
   "cell_type": "code",
   "execution_count": 4,
   "id": "1b3cf117",
   "metadata": {},
   "outputs": [
    {
     "name": "stderr",
     "output_type": "stream",
     "text": [
      "03/14/2022 00:14:02 - INFO - happytransformer.happy_transformer -   Using model: cuda\n"
     ]
    }
   ],
   "source": [
    "from happytransformer import HappyTextClassification\n",
    "happy_tc = HappyTextClassification(model_type=\"DISTILBERT\", \n",
    "                                       model_name=\"distilbert-base-uncased-finetuned-sst-2-english\", num_labels=2)"
   ]
  },
  {
   "cell_type": "code",
   "execution_count": 5,
   "id": "a169f3f8",
   "metadata": {},
   "outputs": [],
   "source": [
    "from transformers import pipeline\n",
    "pipe = pipeline(task='text2text-generation', model='facebook/m2m100_418M')"
   ]
  },
  {
   "cell_type": "code",
   "execution_count": 6,
   "id": "36e9696f",
   "metadata": {},
   "outputs": [],
   "source": [
    "def transformer_sentiment(tweet):\n",
    "    \n",
    "    result = happy_tc.classify_text(tweet)\n",
    "    if result.label == 'NEGATIVE':\n",
    "        return -1, -result.score\n",
    "    else:\n",
    "        return 1, result.score\n",
    "    "
   ]
  },
  {
   "cell_type": "code",
   "execution_count": 7,
   "id": "7e9fb1b4",
   "metadata": {},
   "outputs": [],
   "source": [
    "def translate_and_transformer_sentiment(tweet):\n",
    "    \n",
    "    tweet = pipe(tweet, forced_bos_token_id=pipe.tokenizer.get_lang_id(lang='en'))\n",
    "    tweet = tweet[0]['generated_text']\n",
    "    result = happy_tc.classify_text(tweet)\n",
    "    if result.label == 'NEGATIVE':\n",
    "        return -1, -result.score\n",
    "    else:\n",
    "        return 1, result.score"
   ]
  },
  {
   "cell_type": "code",
   "execution_count": 106,
   "id": "695aaf9d",
   "metadata": {},
   "outputs": [],
   "source": [
    "def clean_tweet(tweet):\n",
    "    '''\n",
    "    Utility function to clean the text in a tweet by removing \n",
    "    links and special characters using regex.\n",
    "    '''\n",
    "#     return ' '.join(re.sub(\"(@[A-Za-z0-9]+)|([^0-9A-Za-z \\t])|(\\w+:\\/\\/\\S+)|^rt|http.+?\", \" \", tweet).split())\n",
    "    return ' '.join(re.sub(\"([^0-9A-Za-z \\t])|(\\w+:\\/\\/\\S+)|^rt|http.+?\", \" \", tweet).split())"
   ]
  },
  {
   "cell_type": "code",
   "execution_count": 107,
   "id": "72def57a",
   "metadata": {},
   "outputs": [],
   "source": [
    "from_time = datetime.datetime.strptime('2015-02-01 15:00:00', '%Y-%m-%d %H:%M:%S')\n",
    "to_time =  datetime.datetime.strptime('2015-02-02 10:00:00', '%Y-%m-%d %H:%M:%S')\n",
    "\n",
    "\n",
    "def get_data(text, min_retweet=10):\n",
    "    with open(text+'.txt', 'r',encoding=\"utf8\") as f:\n",
    "        retweet_count, fav_count, followers, place, title, time = [],[],[],[],[],[]\n",
    "        sentiment_polarity, sentiment_score = [], []\n",
    "        pst_tz = pytz.timezone('US/Pacific') \n",
    "        for line in f:\n",
    "            tweet = json.loads(line)\n",
    "            time_now = datetime.datetime.fromtimestamp(tweet['citation_date'])\n",
    "            retweet_now = tweet['metrics']['citations']['total']\n",
    "            if time_now > from_time and time_now < to_time and retweet_now >= min_retweet and tweet['tweet']['lang'] == 'en': \n",
    "                retweet_count.append(tweet['metrics']['citations']['total']) \n",
    "                fav_count.append(tweet['tweet']['favorite_count'])\n",
    "                followers.append(tweet['author']['followers'])\n",
    "                time.append(datetime.datetime.fromtimestamp(tweet['citation_date'], pst_tz))\n",
    "                place.append(tweet['tweet']['user']['location'])\n",
    "                cleaned_tweet = clean_tweet(tweet['title'])\n",
    "                senti_polarity, senti_score = transformer_sentiment(cleaned_tweet)\n",
    "                sentiment_polarity.append(senti_polarity)\n",
    "                sentiment_score.append(senti_score)\n",
    "                title.append(cleaned_tweet)\n",
    "    d = {'title':title, 'retweet_count':retweet_count, 'favourite_count': fav_count, 'followers':followers,\n",
    "         'time':time,'place':place, 'sentiment_polarity':sentiment_polarity, 'sentiment_score':sentiment_score}\n",
    "    df = pd.DataFrame(d)\n",
    "    return df   "
   ]
  },
  {
   "cell_type": "code",
   "execution_count": 108,
   "id": "9f8703e8",
   "metadata": {},
   "outputs": [],
   "source": [
    "def get_player(text, player=['tom', 'brady']):\n",
    "    with open(text+'.txt', 'r',encoding=\"utf8\") as f:\n",
    "        retweet_count, fav_count, followers, place, title, time = [],[],[],[],[],[]\n",
    "        sentiment_polarity, sentiment_score = [], []\n",
    "        pst_tz = pytz.timezone('US/Pacific') \n",
    "        for line in f:\n",
    "            tweet = json.loads(line)\n",
    "            if tweet['metrics']['citations']['total'] >= 15:\n",
    "                tweet_text = tweet['title']\n",
    "                tweet_text = tweet_text.lower().split()\n",
    "                for word in player: \n",
    "                    if word in tweet_text:\n",
    "                        title.append(tweet['title'])\n",
    "                        retweet_count.append(tweet['metrics']['citations']['total']) \n",
    "                        fav_count.append(tweet['tweet']['favorite_count'])\n",
    "                        followers.append(tweet['author']['followers'])\n",
    "                        time.append(datetime.datetime.fromtimestamp(tweet['citation_date'], pst_tz))\n",
    "                        place.append(tweet['tweet']['user']['location'])\n",
    "                        cleaned_tweet = clean_tweet(tweet['title'])\n",
    "                        if not tweet['tweet']['lang'] == 'en':\n",
    "                            senti_polarity, senti_score = translate_and_transformer_sentiment(cleaned_tweet)\n",
    "                            sentiment_polarity.append(senti_polarity)\n",
    "                            sentiment_score.append(senti_score)\n",
    "                        else:\n",
    "                            senti_polarity, senti_score = transformer_sentiment(cleaned_tweet)\n",
    "                            sentiment_polarity.append(senti_polarity)\n",
    "                            sentiment_score.append(senti_score)\n",
    "                        break\n",
    "    d = {'title':title, 'retweet_count':retweet_count, 'favourite_count': fav_count, 'followers':followers,\n",
    "         'time':time,'place':place, 'sentiment_polarity':sentiment_polarity, 'sentiment_score':sentiment_score}\n",
    "    df = pd.DataFrame(d)\n",
    "    return df   "
   ]
  },
  {
   "cell_type": "code",
   "execution_count": 116,
   "id": "d9083b0b",
   "metadata": {},
   "outputs": [],
   "source": [
    "file1 = open('tweets_#nfl.txt', 'r')\n",
    "lines = file1.readlines()"
   ]
  },
  {
   "cell_type": "code",
   "execution_count": 118,
   "id": "2989429a",
   "metadata": {},
   "outputs": [
    {
     "name": "stdout",
     "output_type": "stream",
     "text": [
      "453\n"
     ]
    }
   ],
   "source": [
    "count = 0\n",
    "for line in lines:\n",
    "    json_object = json.loads(line)\n",
    "    if json_object['metrics']['citations']['total'] >= 30 and json_object['tweet']['lang'] == 'en':\n",
    "        count = count + 1\n",
    "print(count)"
   ]
  },
  {
   "cell_type": "code",
   "execution_count": 120,
   "id": "5d3f93df",
   "metadata": {},
   "outputs": [
    {
     "name": "stderr",
     "output_type": "stream",
     "text": [
      "/home/shivam/.local/lib/python3.8/site-packages/transformers/pipelines/base.py:997: UserWarning: You seem to be using the pipelines sequentially on GPU. In order to maximize efficiency please use a dataset\n",
      "  warnings.warn(\n"
     ]
    }
   ],
   "source": [
    "df = get_data('tweets_#nfl', 30)"
   ]
  },
  {
   "cell_type": "code",
   "execution_count": 121,
   "id": "1938284f",
   "metadata": {},
   "outputs": [
    {
     "data": {
      "text/plain": [
       "108"
      ]
     },
     "execution_count": 121,
     "metadata": {},
     "output_type": "execute_result"
    }
   ],
   "source": [
    "len(df)"
   ]
  },
  {
   "cell_type": "code",
   "execution_count": 122,
   "id": "bb38107c",
   "metadata": {},
   "outputs": [
    {
     "data": {
      "text/html": [
       "<div>\n",
       "<style scoped>\n",
       "    .dataframe tbody tr th:only-of-type {\n",
       "        vertical-align: middle;\n",
       "    }\n",
       "\n",
       "    .dataframe tbody tr th {\n",
       "        vertical-align: top;\n",
       "    }\n",
       "\n",
       "    .dataframe thead th {\n",
       "        text-align: right;\n",
       "    }\n",
       "</style>\n",
       "<table border=\"1\" class=\"dataframe\">\n",
       "  <thead>\n",
       "    <tr style=\"text-align: right;\">\n",
       "      <th></th>\n",
       "      <th>title</th>\n",
       "      <th>retweet_count</th>\n",
       "      <th>favourite_count</th>\n",
       "      <th>followers</th>\n",
       "      <th>time</th>\n",
       "      <th>place</th>\n",
       "      <th>sentiment_polarity</th>\n",
       "      <th>sentiment_score</th>\n",
       "    </tr>\n",
       "  </thead>\n",
       "  <tbody>\n",
       "    <tr>\n",
       "      <th>0</th>\n",
       "      <td>Repping the Patriots NFLSnow nfl rcolvin3</td>\n",
       "      <td>79</td>\n",
       "      <td>0</td>\n",
       "      <td>285.0</td>\n",
       "      <td>2015-02-01 22:32:44-08:00</td>\n",
       "      <td></td>\n",
       "      <td>-1</td>\n",
       "      <td>-0.994350</td>\n",
       "    </tr>\n",
       "    <tr>\n",
       "      <th>1</th>\n",
       "      <td>RT FOR PATRIOTS FAV FOR SEAHAWKS SB 49 nfl SuperBowl SuperBowlXLIX</td>\n",
       "      <td>172</td>\n",
       "      <td>0</td>\n",
       "      <td>68.0</td>\n",
       "      <td>2015-02-01 16:01:46-08:00</td>\n",
       "      <td>SoFlo</td>\n",
       "      <td>-1</td>\n",
       "      <td>-0.742071</td>\n",
       "    </tr>\n",
       "    <tr>\n",
       "      <th>2</th>\n",
       "      <td>En route Phoenix Bring on the SuperBowlIXLIX BellaBowl Patriots NFL TomBrady FearlessNikki</td>\n",
       "      <td>115</td>\n",
       "      <td>468</td>\n",
       "      <td>12.0</td>\n",
       "      <td>2015-02-02 04:58:55-08:00</td>\n",
       "      <td>Total Divas on E! &amp; RAW on USA</td>\n",
       "      <td>1</td>\n",
       "      <td>0.995345</td>\n",
       "    </tr>\n",
       "    <tr>\n",
       "      <th>3</th>\n",
       "      <td>Happy SuperBowl friskyfriday NFL Pats Seahawks playmate Playboy PlayboyMagSA Playboy NL PlayboyPlus</td>\n",
       "      <td>30</td>\n",
       "      <td>0</td>\n",
       "      <td>814.0</td>\n",
       "      <td>2015-02-02 06:44:39-08:00</td>\n",
       "      <td>Arizona</td>\n",
       "      <td>1</td>\n",
       "      <td>0.996990</td>\n",
       "    </tr>\n",
       "    <tr>\n",
       "      <th>4</th>\n",
       "      <td>Just saw a GREAT interview with the Deflated NFL Football on NBC</td>\n",
       "      <td>172</td>\n",
       "      <td>0</td>\n",
       "      <td>2642.0</td>\n",
       "      <td>2015-02-01 17:35:25-08:00</td>\n",
       "      <td>Disney XD</td>\n",
       "      <td>1</td>\n",
       "      <td>0.996231</td>\n",
       "    </tr>\n",
       "    <tr>\n",
       "      <th>...</th>\n",
       "      <td>...</td>\n",
       "      <td>...</td>\n",
       "      <td>...</td>\n",
       "      <td>...</td>\n",
       "      <td>...</td>\n",
       "      <td>...</td>\n",
       "      <td>...</td>\n",
       "      <td>...</td>\n",
       "    </tr>\n",
       "    <tr>\n",
       "      <th>103</th>\n",
       "      <td>VIDEO watch Malcolm Butler s amazing goal line pick preserving N E s SB49 win NFL</td>\n",
       "      <td>60</td>\n",
       "      <td>0</td>\n",
       "      <td>1379852.0</td>\n",
       "      <td>2015-02-01 20:37:35-08:00</td>\n",
       "      <td>Sunnyvale CA</td>\n",
       "      <td>1</td>\n",
       "      <td>0.999197</td>\n",
       "    </tr>\n",
       "    <tr>\n",
       "      <th>104</th>\n",
       "      <td>You want to talk about Montana We can do that But no one should ever again mention Manning in the same breath as Brady Patriots NFL</td>\n",
       "      <td>32</td>\n",
       "      <td>0</td>\n",
       "      <td>1260.0</td>\n",
       "      <td>2015-02-01 20:37:58-08:00</td>\n",
       "      <td>Florence, Massachusetts</td>\n",
       "      <td>-1</td>\n",
       "      <td>-0.707377</td>\n",
       "    </tr>\n",
       "    <tr>\n",
       "      <th>105</th>\n",
       "      <td>Thanks you nfl for a perfect evening Time for sleep Congrats Patriots Thanks for letting me</td>\n",
       "      <td>126</td>\n",
       "      <td>0</td>\n",
       "      <td>110349.0</td>\n",
       "      <td>2015-02-01 23:34:05-08:00</td>\n",
       "      <td>beachersmadhouse.com LA</td>\n",
       "      <td>1</td>\n",
       "      <td>0.999422</td>\n",
       "    </tr>\n",
       "    <tr>\n",
       "      <th>106</th>\n",
       "      <td>Simply the Best Tom Brady now stands alone as greatest QB of all time WEEI NFL Patriots</td>\n",
       "      <td>37</td>\n",
       "      <td>0</td>\n",
       "      <td>20233.0</td>\n",
       "      <td>2015-02-02 02:14:45-08:00</td>\n",
       "      <td>Massachusetts</td>\n",
       "      <td>1</td>\n",
       "      <td>0.999777</td>\n",
       "    </tr>\n",
       "    <tr>\n",
       "      <th>107</th>\n",
       "      <td>psyched 2 contribute 2 BizBash producers review of superbowlXLIX pepsi HypedForHalftime show PepsiCo NFL NFL</td>\n",
       "      <td>370</td>\n",
       "      <td>0</td>\n",
       "      <td>397261.0</td>\n",
       "      <td>2015-02-02 07:31:52-08:00</td>\n",
       "      <td>New York, NY</td>\n",
       "      <td>1</td>\n",
       "      <td>0.678357</td>\n",
       "    </tr>\n",
       "  </tbody>\n",
       "</table>\n",
       "<p>108 rows × 8 columns</p>\n",
       "</div>"
      ],
      "text/plain": [
       "                                                                                                                                   title  \\\n",
       "0                                                                                              Repping the Patriots NFLSnow nfl rcolvin3   \n",
       "1                                                                     RT FOR PATRIOTS FAV FOR SEAHAWKS SB 49 nfl SuperBowl SuperBowlXLIX   \n",
       "2                                             En route Phoenix Bring on the SuperBowlIXLIX BellaBowl Patriots NFL TomBrady FearlessNikki   \n",
       "3                                    Happy SuperBowl friskyfriday NFL Pats Seahawks playmate Playboy PlayboyMagSA Playboy NL PlayboyPlus   \n",
       "4                                                                       Just saw a GREAT interview with the Deflated NFL Football on NBC   \n",
       "..                                                                                                                                   ...   \n",
       "103                                                    VIDEO watch Malcolm Butler s amazing goal line pick preserving N E s SB49 win NFL   \n",
       "104  You want to talk about Montana We can do that But no one should ever again mention Manning in the same breath as Brady Patriots NFL   \n",
       "105                                          Thanks you nfl for a perfect evening Time for sleep Congrats Patriots Thanks for letting me   \n",
       "106                                              Simply the Best Tom Brady now stands alone as greatest QB of all time WEEI NFL Patriots   \n",
       "107                         psyched 2 contribute 2 BizBash producers review of superbowlXLIX pepsi HypedForHalftime show PepsiCo NFL NFL   \n",
       "\n",
       "     retweet_count  favourite_count  followers                      time  \\\n",
       "0               79                0      285.0 2015-02-01 22:32:44-08:00   \n",
       "1              172                0       68.0 2015-02-01 16:01:46-08:00   \n",
       "2              115              468       12.0 2015-02-02 04:58:55-08:00   \n",
       "3               30                0      814.0 2015-02-02 06:44:39-08:00   \n",
       "4              172                0     2642.0 2015-02-01 17:35:25-08:00   \n",
       "..             ...              ...        ...                       ...   \n",
       "103             60                0  1379852.0 2015-02-01 20:37:35-08:00   \n",
       "104             32                0     1260.0 2015-02-01 20:37:58-08:00   \n",
       "105            126                0   110349.0 2015-02-01 23:34:05-08:00   \n",
       "106             37                0    20233.0 2015-02-02 02:14:45-08:00   \n",
       "107            370                0   397261.0 2015-02-02 07:31:52-08:00   \n",
       "\n",
       "                              place  sentiment_polarity  sentiment_score  \n",
       "0                                                    -1        -0.994350  \n",
       "1                             SoFlo                  -1        -0.742071  \n",
       "2    Total Divas on E! & RAW on USA                   1         0.995345  \n",
       "3                           Arizona                   1         0.996990  \n",
       "4                         Disney XD                   1         0.996231  \n",
       "..                              ...                 ...              ...  \n",
       "103                    Sunnyvale CA                   1         0.999197  \n",
       "104         Florence, Massachusetts                  -1        -0.707377  \n",
       "105         beachersmadhouse.com LA                   1         0.999422  \n",
       "106                   Massachusetts                   1         0.999777  \n",
       "107                    New York, NY                   1         0.678357  \n",
       "\n",
       "[108 rows x 8 columns]"
      ]
     },
     "execution_count": 122,
     "metadata": {},
     "output_type": "execute_result"
    }
   ],
   "source": [
    "df"
   ]
  },
  {
   "cell_type": "code",
   "execution_count": 123,
   "id": "aa6f3a8f",
   "metadata": {},
   "outputs": [],
   "source": [
    "times = pd.to_datetime(df.time)\n",
    "grouped = df.groupby([times.dt.date, times.dt.hour]).title.transform(lambda x: '. '.join(x))\n",
    "grouped = grouped.drop_duplicates()"
   ]
  },
  {
   "cell_type": "code",
   "execution_count": 124,
   "id": "7473ee3d",
   "metadata": {},
   "outputs": [
    {
     "name": "stdout",
     "output_type": "stream",
     "text": [
      "0                                                                                                                                                                                                                                                                                                                                                                                                                                                                                                                                                                                                                                                                                                                                                                        Repping the Patriots NFLSnow nfl rcolvin3. Go seahawks Foam Padded tabletcase for ipad kindle etsymntt nfl superbowl integritytt. We re too nice So you can have until Midday to enter our RT comp SuperBowl SuperBowlSunday NFL BeastMode Seahawks AmericanFootball\n",
      "1                                                                                                                                                                                                                                                                                                                                                         RT FOR PATRIOTS FAV FOR SEAHAWKS SB 49 nfl SuperBowl SuperBowlXLIX. Gronk teaching Conan how to do Lynch s TD Dance Patriots Seahawks NFL. Smoked Bacon Wrapped Onion Rings Sriracha Mayo Sauce via grilling24x7 NFL SuperBowlXLIX. Can t wait for SuperBowlXLIX tonight Seahawks or Patriots though NFL. NFL SuperBowlXLIX Retweet for Seattle Seahawks Favorite for New England Patriots. Tropes vs Women Refund An Open Letter to Feminist Frequency NFL GamerGate FullMcIntosh. CONTEST Predict the score at the end of the second quarter of SB49 Use NFLUK2Q to enter. If you re following femsuperbowl you should be supporting NFLCheerPay Sign amp share the petition SB49\n",
      "2                                                                                                                                                                                                                                                                                                                                                                                                                                                                                                                                                                                                                                                                                                                                                                                                                                                                                                                                                  En route Phoenix Bring on the SuperBowlIXLIX BellaBowl Patriots NFL TomBrady FearlessNikki\n",
      "3                                                                                                                                                                                                                                                                                                                                                                                                                                                                                                                                                                                                                                                                                                                                                                                                                                                                                                                                         Happy SuperBowl friskyfriday NFL Pats Seahawks playmate Playboy PlayboyMagSA Playboy NL PlayboyPlus\n",
      "4     Just saw a GREAT interview with the Deflated NFL Football on NBC. The 2014 NFL Play of the Year. Jon Stewart goes after the NFL for fining Marshawn Lynch. Super Bowl the final act of the NFL s worst season epells SB49. Retweet for a chance to win 100 in SuperBowl swag from jetrulescom amp Join Jet NFLHonors. Do the Seahawks or the Patriots hold the Edge YOUR answer could win you an NFL prize SB49 SuperBowl SBXLIX. Go Hawks Seahawks NFC NFL SuperBowl. Kudos to the NFL players in today s game Which team do you want to see win SuperBowlXLIX Seahawks or Patriots. Big muscles AND big hearts PETA s Favorite NFL Superstars SuperBowlSunday. Today I root for bringing back a NFL team to LA If that happens we all win SuperBowlXLIX. SuperBowlSunday baby NFL SEAvsNE. This NFL NHL. Sports Day on TV AustralianOpen now FCBVIL and later nfl SuperBowl PartOfGoetze. NFL SuperBowlXLIX Retweet for Seattle Seahawks Favorite for New England Patriots. Concession prices at SuperBowlXLIX NFL. We re at it ag...\n",
      "6                                                                                                                                                                                                                                                                                                                                                                                                                                                                                                                                                                                                                                                                                                                                                                                                                                            The official Selfie of Superbowl2015 CjMiles SuperBowlXLIX NFL Seattle Seahawks NewEngland patriots. Thanks you nfl for a perfect evening Time for sleep Congrats Patriots Thanks for letting me\n",
      "7                                                                                                                                                                                                                                                                                                                                                                                                                                                                                                                                                                                                                                            Check out photos from the Patriots SB49 team photo shoot NFL VIEW GALLERY. Lets do this Hut 1 hut 2 Superbowl Superbowl2015 NFL SuperbowlSunday Seattle Seahawks NewEngland CjMiles. SuperBowlSunday online Now SuperBowlXLIX spend Halftime with Me NFL SuperBowl. MilesJR101 CalumWorthy who are u pulling 4 Seahawks or Patriots Neither I m a diehard Boston Bruins fan Best team in the NFL\n",
      "8                                                                                                                                                                                                                                                                                                                                                                                                                                                                                                                                                                                                                                                                                                                                                                                                                                                                                                                               FaceOffTime NFL fans Which QB leads their team to SuperBowl win RT Brady amp Patriots FAV Wilson amp Seahawks\n",
      "17    realist shirt I ve seen lol SuperBowlXLIX Patriots Seahawks NFL MarshawnLynch. Extreme consumerism hyper violence and big money USA s favorite past time superbowlrally superbowl halftime nfl sb48 patriots. Patriots become the sixth franchise in NFL history to win at least four Super Bowls. Patriots Run Defense 32nd in NFL on 3rd Down 4th Down and 2 yrds or less Carroll should ve know what every handicapper already did. Malcolm Butler s INT to clinch a SBXLIX win for the Patriots NFL. WATCH NFL commissioner Roger Goodell presents the Patriots with the Lombardi Trophy SB49. Very sad But what a great game bellatwins wwedanielbryan superbowl seahawks nfl repost. Jermaine Kearse s INSANE Catch that means absolutely nothing now Seahawks NFL. Now classified as the worst play in NFL History Seahawks. VIDEO watch Malcolm Butler s amazing goal line pick preserving N E s SB49 win NFL. You want to talk about Montana We can do that But no one should ever again mention Manning in the same breath...\n",
      "35    It s game time SB49 SuperBowlXLIX NEvsSEA NFL. If you could create your own NFL franchise what would it be called The Portland Perineums for me Use NewNFLFranchise. CONTEST Predict the final score of SB49 for a prize Use NFLUKFinal to enter. CONTEST Predict the score at the end of first quarter of SB49 for a prize Use NFLUK1Q to enter. Seahawks vs Patriots key matchups in Super Bowl wilner88 NFL SB49. Shazam the BigGame to see which idinamenzel songs were Shazamed the most during NFL season. Again a missed opportunity by NFL not to have Omarion involved in pregame festivities SuperBowl. Good luck to Bryan Stork tonight Before he played in SBXLIX he played in DoakCampbellStadium FSU NFL Noles. Bruce Irvin with the first tackle of the Super Bowl WVU MountaineerNation NFL. Some great hashtags to follow during today s SuperBowl gt femSuperBowl NFLCheerPay NotBuyingIt MediaWeLike. The trick about live tweeting an NFL game is pacing yourself It s long so you just gotta pace yourself I m ...\n",
      "Name: title, dtype: object\n"
     ]
    }
   ],
   "source": [
    "pd.options.display.max_colwidth = 1000\n",
    "print(grouped.head(10))"
   ]
  },
  {
   "cell_type": "code",
   "execution_count": 125,
   "id": "6d4749cd",
   "metadata": {},
   "outputs": [
    {
     "data": {
      "text/plain": [
       "14"
      ]
     },
     "execution_count": 125,
     "metadata": {},
     "output_type": "execute_result"
    }
   ],
   "source": [
    "len(grouped)"
   ]
  },
  {
   "cell_type": "code",
   "execution_count": 73,
   "id": "41d4392b",
   "metadata": {},
   "outputs": [],
   "source": [
    "import transformers"
   ]
  },
  {
   "cell_type": "code",
   "execution_count": 129,
   "id": "8f560c33",
   "metadata": {},
   "outputs": [
    {
     "data": {
      "application/vnd.jupyter.widget-view+json": {
       "model_id": "64eb28dffb664c29b8ba37f83675e3ee",
       "version_major": 2,
       "version_minor": 0
      },
      "text/plain": [
       "Downloading:   0%|          | 0.00/1.55k [00:00<?, ?B/s]"
      ]
     },
     "metadata": {},
     "output_type": "display_data"
    },
    {
     "data": {
      "application/vnd.jupyter.widget-view+json": {
       "model_id": "734dab420cf045968f96e1b9faec681e",
       "version_major": 2,
       "version_minor": 0
      },
      "text/plain": [
       "Downloading:   0%|          | 0.00/1.51G [00:00<?, ?B/s]"
      ]
     },
     "metadata": {},
     "output_type": "display_data"
    },
    {
     "data": {
      "application/vnd.jupyter.widget-view+json": {
       "model_id": "dafcabeec0184009a3e0edd610122a34",
       "version_major": 2,
       "version_minor": 0
      },
      "text/plain": [
       "Downloading:   0%|          | 0.00/878k [00:00<?, ?B/s]"
      ]
     },
     "metadata": {},
     "output_type": "display_data"
    },
    {
     "data": {
      "application/vnd.jupyter.widget-view+json": {
       "model_id": "6e2bd560e5b4421a895066b2616fea83",
       "version_major": 2,
       "version_minor": 0
      },
      "text/plain": [
       "Downloading:   0%|          | 0.00/446k [00:00<?, ?B/s]"
      ]
     },
     "metadata": {},
     "output_type": "display_data"
    },
    {
     "data": {
      "application/vnd.jupyter.widget-view+json": {
       "model_id": "d84dd9daf08f459a80cec825aecd2f9f",
       "version_major": 2,
       "version_minor": 0
      },
      "text/plain": [
       "Downloading:   0%|          | 0.00/1.29M [00:00<?, ?B/s]"
      ]
     },
     "metadata": {},
     "output_type": "display_data"
    }
   ],
   "source": [
    "summarizer = pipeline(\"summarization\", model=\"facebook/bart-large-cnn\")"
   ]
  },
  {
   "cell_type": "code",
   "execution_count": 126,
   "id": "616ec6d3",
   "metadata": {},
   "outputs": [
    {
     "name": "stdout",
     "output_type": "stream",
     "text": [
      "Tweet Hour1:   Repping the Patriots NFLSnow nfl rcolvin3. Go seahawks\n",
      "Tweet Hour2:  \" NFL.24x7 NFL SuperBowl XLIX. Cant wait for Super\"\n",
      "Tweet Hour3:   NFL TomBrady FearlessNikki wins Super BowlIXLIX BellaBowl\n",
      "Tweet Hour4:   NFL Pats Seahawks playmate Playboy PlayboyMagSA Playboy NL PlayboyPlus PlayboyPlus . NFL\n",
      "Tweet Hour5:   Retweet for a chance to win 100 in SuperBowl swag from jetrules\n",
      "Tweet Hour6:   The official Selfie of Superbowl 2015 CjMiles SuperBowl 2015 C\n",
      "Tweet Hour7:   Check out photos from the Patriots SB49 team photo shoot .\n",
      "Tweet Hour8:   FaceOffTime NFL fans reveal which QB leads their team to SuperBowl win .\n",
      "Tweet Hour9:   Malcolm Butler s INT to clinch a SBXLIX win for the Patriots NFL. Malcolm\n",
      "Tweet Hour10:   If you could create your own NFL franchise what would it be called The Portland Perine\n",
      "Tweet Hour11:   Tom Brady now holds the NFL record for most SuperBowl passing TDs 12 . Beyon\n",
      "Tweet Hour12:   NewEnglandPatriots beat defending champion SeattleSeahawks 28 24 to win SuperB\n",
      "Tweet Hour13:   Tom Brady now stands alone as greatest QB of all time . Tom Brady is one of\n",
      "Tweet Hour14:  \" Super Bowl XLIX XLIX halftime show is PepsiCo NFLs HypedForHal\"\n"
     ]
    }
   ],
   "source": [
    "hour_count = 0\n",
    "for index, value in grouped.items():\n",
    "    to_tokenize = value.split(',,')\n",
    "    summarized = summarizer(to_tokenize , min_length=2, max_length=20.  do_sample=False)\n",
    "    summ=' '.join([str(i) for i in summarized])\n",
    "    summ=summ.replace(\"{\",\"\")\n",
    "    summ=summ.replace(\"}\",\"\")\n",
    "    summ=summ.replace(\"'summary_text':\",\"\")\n",
    "    summ=summ.replace(\"'\",\"\")\n",
    "    summ=summ.replace(\"''\",\"\")\n",
    "    summ=summ.replace(\"\\x92\",\"\")\n",
    "    hour_count = hour_count+1\n",
    "    print('Tweet Hour' + str(hour_count) +': ' + summ)\n",
    "    "
   ]
  },
  {
   "cell_type": "code",
   "execution_count": 130,
   "id": "b851f0a8",
   "metadata": {},
   "outputs": [
    {
     "name": "stdout",
     "output_type": "stream",
     "text": [
      "Tweet Hour1:  RT comp SuperBowl SuperB BowlSunday NFL Beast Mode Seahawks AmericanFootball. Repping the Patriots NFLSnow nfl rcolvin3. Go seahawks Foam Padded tabletcase for ipad kindle etsym\n"
     ]
    },
    {
     "name": "stderr",
     "output_type": "stream",
     "text": [
      "Your max_length is set to 50, but you input_length is only 26. You might consider decreasing max_length manually, e.g. summarizer('...', max_length=13)\n"
     ]
    },
    {
     "name": "stdout",
     "output_type": "stream",
     "text": [
      "Tweet Hour2:  SuperBowl XLIX begins tonight at 8 p.m. ET. Seattle Seahawks take on the New England Patriots in SuperBowl 49.\n"
     ]
    },
    {
     "name": "stderr",
     "output_type": "stream",
     "text": [
      "Your max_length is set to 50, but you input_length is only 23. You might consider decreasing max_length manually, e.g. summarizer('...', max_length=11)\n"
     ]
    },
    {
     "name": "stdout",
     "output_type": "stream",
     "text": [
      "Tweet Hour3:  BowlIXLIX BellaBowl Patriots NFL TomBrady FearlessNikki. En route Phoenix Bring on the SuperBowl.\n",
      "Tweet Hour4:  NFL Pats Seahawks playmate Playboy PlayboyMagSA Playboy NL PlayboyPlus. Happy SuperBowl friskyfriday.\n"
     ]
    },
    {
     "name": "stderr",
     "output_type": "stream",
     "text": [
      "Your max_length is set to 50, but you input_length is only 45. You might consider decreasing max_length manually, e.g. summarizer('...', max_length=22)\n"
     ]
    },
    {
     "name": "stdout",
     "output_type": "stream",
     "text": [
      "Tweet Hour5:  Retweet for a chance to win 100 in SuperBowl swag from jetrules.com amp Join Jet NFLHonors. Do the Seahawks or the Patriots hold the Edge YOUR answer could win you an NFL prize SB49 SuperB\n",
      "Tweet Hour6:  2015 CjMiles SuperBowl XLIX NFL Seattle Seahawks NewEngland patriots.\n"
     ]
    },
    {
     "name": "stderr",
     "output_type": "stream",
     "text": [
      "Your max_length is set to 50, but you input_length is only 26. You might consider decreasing max_length manually, e.g. summarizer('...', max_length=13)\n"
     ]
    },
    {
     "name": "stdout",
     "output_type": "stream",
     "text": [
      "Tweet Hour7:  Check out photos from the Patriots SB49 team photo shoot. Lets do this Hut 1 hut 2 Superbowl.\n",
      "Tweet Hour8:   FaceOffTime NFL fans Which QB leads their team to SuperBowl win RT Brady amp Patriots FAV Wilson amp Seahawks.\n",
      "Tweet Hour9:  Patriots become the sixth franchise in NFL history to win at least four Super Bowls. Malcolm Butler s INT to clinch a SBXLIX win for the Patriots NFL. Jermaine Kearse s INSANE Catch that means absolutely nothing\n",
      "Tweet Hour10:  Predict the score at the end of the first quarter of SB49 for a prize. Shazam the BigGame to see which idinamenzel songs were Shazamed the most during NFL season.\n",
      "Tweet Hour11:  Tom Brady now holds the NFL record for most SuperBowl passing TDs 12. Beyonc was still my favorite halftime Sorry nflsuperbowl halftime.\n"
     ]
    },
    {
     "name": "stderr",
     "output_type": "stream",
     "text": [
      "Your max_length is set to 50, but you input_length is only 21. You might consider decreasing max_length manually, e.g. summarizer('...', max_length=10)\n"
     ]
    },
    {
     "name": "stdout",
     "output_type": "stream",
     "text": [
      "Tweet Hour12:  NewEnglandPatriots beat defending champion SeattleSeahawks 28 24 to win SuperBowl nfl. Deion is not on the fence on this one nfl SB49.\n"
     ]
    },
    {
     "name": "stderr",
     "output_type": "stream",
     "text": [
      "Your max_length is set to 50, but you input_length is only 31. You might consider decreasing max_length manually, e.g. summarizer('...', max_length=15)\n"
     ]
    },
    {
     "name": "stdout",
     "output_type": "stream",
     "text": [
      "Tweet Hour13:  Tom Brady now stands alone as greatest QB of all time, according to WEEI NFL Patriots.\n",
      "Tweet Hour14:  BizBash producers review of superbowlXLIX pepsi HypedForHalftime show.\n"
     ]
    }
   ],
   "source": [
    "hour_count = 0\n",
    "for index, value in grouped.items():\n",
    "    to_tokenize = value.split(',,')\n",
    "    summarized = summarizer(to_tokenize , min_length=2, max_length=50,  do_sample=False)\n",
    "    summ=' '.join([str(i) for i in summarized])\n",
    "    summ=summ.replace(\"{\",\"\")\n",
    "    summ=summ.replace(\"}\",\"\")\n",
    "    summ=summ.replace(\"'summary_text':\",\"\")\n",
    "    summ=summ.replace(\"'\",\"\")\n",
    "    summ=summ.replace(\"''\",\"\")\n",
    "    summ=summ.replace(\"\\x92\",\"\")\n",
    "    hour_count = hour_count+1\n",
    "    print('Tweet Hour' + str(hour_count) +': ' + summ)\n",
    "    "
   ]
  },
  {
   "cell_type": "markdown",
   "id": "5e44deee",
   "metadata": {},
   "source": [
    "## Commentary Generation"
   ]
  },
  {
   "cell_type": "code",
   "execution_count": 132,
   "id": "a58e60ee",
   "metadata": {},
   "outputs": [],
   "source": [
    "file1 = open('tweets_#superbowl.txt', 'r')\n",
    "lines = file1.readlines()"
   ]
  },
  {
   "cell_type": "code",
   "execution_count": 136,
   "id": "9845d4ef",
   "metadata": {},
   "outputs": [
    {
     "name": "stdout",
     "output_type": "stream",
     "text": [
      "1055\n"
     ]
    }
   ],
   "source": [
    "from_time = datetime.datetime.strptime('2015-02-01 15:00:00', '%Y-%m-%d %H:%M:%S')\n",
    "to_time =  datetime.datetime.strptime('2015-02-02 10:00:00', '%Y-%m-%d %H:%M:%S')\n",
    "\n",
    "count = 0\n",
    "for line in lines:\n",
    "    json_object = json.loads(line)\n",
    "    time_now = datetime.datetime.fromtimestamp(json_object['citation_date'])\n",
    "    if json_object['metrics']['citations']['total'] >= 150 and json_object['tweet']['lang'] == 'en' and time_now > from_time and time_now < to_time:\n",
    "        count = count + 1\n",
    "print(count)"
   ]
  },
  {
   "cell_type": "code",
   "execution_count": 137,
   "id": "0fc0ae00",
   "metadata": {},
   "outputs": [
    {
     "name": "stderr",
     "output_type": "stream",
     "text": [
      "/home/shivam/.local/lib/python3.8/site-packages/transformers/pipelines/base.py:997: UserWarning: You seem to be using the pipelines sequentially on GPU. In order to maximize efficiency please use a dataset\n",
      "  warnings.warn(\n"
     ]
    }
   ],
   "source": [
    "df_superbowl = get_data('tweets_#superbowl', 150)"
   ]
  },
  {
   "cell_type": "code",
   "execution_count": 138,
   "id": "cf0e38e8",
   "metadata": {},
   "outputs": [
    {
     "data": {
      "text/plain": [
       "1055"
      ]
     },
     "execution_count": 138,
     "metadata": {},
     "output_type": "execute_result"
    }
   ],
   "source": [
    "len(df_superbowl)"
   ]
  },
  {
   "cell_type": "code",
   "execution_count": 139,
   "id": "edacc176",
   "metadata": {},
   "outputs": [
    {
     "data": {
      "text/html": [
       "<div>\n",
       "<style scoped>\n",
       "    .dataframe tbody tr th:only-of-type {\n",
       "        vertical-align: middle;\n",
       "    }\n",
       "\n",
       "    .dataframe tbody tr th {\n",
       "        vertical-align: top;\n",
       "    }\n",
       "\n",
       "    .dataframe thead th {\n",
       "        text-align: right;\n",
       "    }\n",
       "</style>\n",
       "<table border=\"1\" class=\"dataframe\">\n",
       "  <thead>\n",
       "    <tr style=\"text-align: right;\">\n",
       "      <th></th>\n",
       "      <th>title</th>\n",
       "      <th>retweet_count</th>\n",
       "      <th>favourite_count</th>\n",
       "      <th>followers</th>\n",
       "      <th>time</th>\n",
       "      <th>place</th>\n",
       "      <th>sentiment_polarity</th>\n",
       "      <th>sentiment_score</th>\n",
       "    </tr>\n",
       "  </thead>\n",
       "  <tbody>\n",
       "    <tr>\n",
       "      <th>0</th>\n",
       "      <td>SuperBowl snickers stuffed strawberries recipe AND a chocolatesupply basket giveaway ENTER TO win Sweepstakes</td>\n",
       "      <td>200</td>\n",
       "      <td>0</td>\n",
       "      <td>5.0</td>\n",
       "      <td>2015-02-01 17:25:26-08:00</td>\n",
       "      <td>Austin, TX</td>\n",
       "      <td>1</td>\n",
       "      <td>0.998629</td>\n",
       "    </tr>\n",
       "    <tr>\n",
       "      <th>1</th>\n",
       "      <td>A 30 second ad in this year s SuperBowl will set a brand back about 4 5 million</td>\n",
       "      <td>152</td>\n",
       "      <td>0</td>\n",
       "      <td>586.0</td>\n",
       "      <td>2015-02-01 17:26:28-08:00</td>\n",
       "      <td>New York, NY</td>\n",
       "      <td>-1</td>\n",
       "      <td>-0.990321</td>\n",
       "    </tr>\n",
       "    <tr>\n",
       "      <th>2</th>\n",
       "      <td>BellaBowl has begun on WWE com espn nfl SportsCenter Patriots Seahawks SuperBowlXLIX</td>\n",
       "      <td>506</td>\n",
       "      <td>0</td>\n",
       "      <td>15.0</td>\n",
       "      <td>2015-02-01 16:04:18-08:00</td>\n",
       "      <td>Total Divas on E! &amp; RAW on USA</td>\n",
       "      <td>-1</td>\n",
       "      <td>-0.892226</td>\n",
       "    </tr>\n",
       "    <tr>\n",
       "      <th>3</th>\n",
       "      <td>Aaron Hernandez murder trial is doubtful for Sunday s SuperBowl</td>\n",
       "      <td>2463</td>\n",
       "      <td>0</td>\n",
       "      <td>212.0</td>\n",
       "      <td>2015-02-01 17:09:20-08:00</td>\n",
       "      <td>New York, NY</td>\n",
       "      <td>-1</td>\n",
       "      <td>-0.993053</td>\n",
       "    </tr>\n",
       "    <tr>\n",
       "      <th>4</th>\n",
       "      <td>Retweet for Patriots Fav for Seahawks SuperBowlXLIX</td>\n",
       "      <td>3102</td>\n",
       "      <td>0</td>\n",
       "      <td>43.0</td>\n",
       "      <td>2015-02-01 16:52:10-08:00</td>\n",
       "      <td></td>\n",
       "      <td>-1</td>\n",
       "      <td>-0.985823</td>\n",
       "    </tr>\n",
       "    <tr>\n",
       "      <th>...</th>\n",
       "      <td>...</td>\n",
       "      <td>...</td>\n",
       "      <td>...</td>\n",
       "      <td>...</td>\n",
       "      <td>...</td>\n",
       "      <td>...</td>\n",
       "      <td>...</td>\n",
       "      <td>...</td>\n",
       "    </tr>\n",
       "    <tr>\n",
       "      <th>1050</th>\n",
       "      <td>FAV IF YOU PICKED THE Patriots To Win SuperBowlXLIX Use Code Co For 5 Off GET IT</td>\n",
       "      <td>347</td>\n",
       "      <td>0</td>\n",
       "      <td>179.0</td>\n",
       "      <td>2015-02-02 05:46:35-08:00</td>\n",
       "      <td>LAX-HTX</td>\n",
       "      <td>-1</td>\n",
       "      <td>-0.982248</td>\n",
       "    </tr>\n",
       "    <tr>\n",
       "      <th>1051</th>\n",
       "      <td>psyched 2 contribute 2 BizBash producers review of superbowlXLIX pepsi HypedForHalftime show PepsiCo NFL NFL</td>\n",
       "      <td>370</td>\n",
       "      <td>0</td>\n",
       "      <td>397261.0</td>\n",
       "      <td>2015-02-02 07:31:52-08:00</td>\n",
       "      <td>New York, NY</td>\n",
       "      <td>1</td>\n",
       "      <td>0.678357</td>\n",
       "    </tr>\n",
       "    <tr>\n",
       "      <th>1052</th>\n",
       "      <td>A lot going on today Stay tuned for Super Bowl Coin Up TOTW MVP Updates later today UltimateSB SuperBowlXLIX</td>\n",
       "      <td>223</td>\n",
       "      <td>0</td>\n",
       "      <td>128491.0</td>\n",
       "      <td>2015-02-02 08:35:16-08:00</td>\n",
       "      <td>Orlando, Florida</td>\n",
       "      <td>1</td>\n",
       "      <td>0.994019</td>\n",
       "    </tr>\n",
       "    <tr>\n",
       "      <th>1053</th>\n",
       "      <td>All katyperry was missing last night was a sheet of ice SB49 SuperBowl</td>\n",
       "      <td>158</td>\n",
       "      <td>0</td>\n",
       "      <td>61570.0</td>\n",
       "      <td>2015-02-02 08:50:54-08:00</td>\n",
       "      <td>Colorado Springs, Colo.</td>\n",
       "      <td>-1</td>\n",
       "      <td>-0.998414</td>\n",
       "    </tr>\n",
       "    <tr>\n",
       "      <th>1054</th>\n",
       "      <td>In honor of the Patriots win we will GIVEAWAY these cleats RT and FOLLOW to enter SuperBowl SuperBowl49</td>\n",
       "      <td>163</td>\n",
       "      <td>0</td>\n",
       "      <td>75.0</td>\n",
       "      <td>2015-02-02 09:11:39-08:00</td>\n",
       "      <td>UK</td>\n",
       "      <td>1</td>\n",
       "      <td>0.998471</td>\n",
       "    </tr>\n",
       "  </tbody>\n",
       "</table>\n",
       "<p>1055 rows × 8 columns</p>\n",
       "</div>"
      ],
      "text/plain": [
       "                                                                                                              title  \\\n",
       "0     SuperBowl snickers stuffed strawberries recipe AND a chocolatesupply basket giveaway ENTER TO win Sweepstakes   \n",
       "1                                   A 30 second ad in this year s SuperBowl will set a brand back about 4 5 million   \n",
       "2                              BellaBowl has begun on WWE com espn nfl SportsCenter Patriots Seahawks SuperBowlXLIX   \n",
       "3                                                   Aaron Hernandez murder trial is doubtful for Sunday s SuperBowl   \n",
       "4                                                               Retweet for Patriots Fav for Seahawks SuperBowlXLIX   \n",
       "...                                                                                                             ...   \n",
       "1050                               FAV IF YOU PICKED THE Patriots To Win SuperBowlXLIX Use Code Co For 5 Off GET IT   \n",
       "1051   psyched 2 contribute 2 BizBash producers review of superbowlXLIX pepsi HypedForHalftime show PepsiCo NFL NFL   \n",
       "1052   A lot going on today Stay tuned for Super Bowl Coin Up TOTW MVP Updates later today UltimateSB SuperBowlXLIX   \n",
       "1053                                         All katyperry was missing last night was a sheet of ice SB49 SuperBowl   \n",
       "1054        In honor of the Patriots win we will GIVEAWAY these cleats RT and FOLLOW to enter SuperBowl SuperBowl49   \n",
       "\n",
       "      retweet_count  favourite_count  followers                      time  \\\n",
       "0               200                0        5.0 2015-02-01 17:25:26-08:00   \n",
       "1               152                0      586.0 2015-02-01 17:26:28-08:00   \n",
       "2               506                0       15.0 2015-02-01 16:04:18-08:00   \n",
       "3              2463                0      212.0 2015-02-01 17:09:20-08:00   \n",
       "4              3102                0       43.0 2015-02-01 16:52:10-08:00   \n",
       "...             ...              ...        ...                       ...   \n",
       "1050            347                0      179.0 2015-02-02 05:46:35-08:00   \n",
       "1051            370                0   397261.0 2015-02-02 07:31:52-08:00   \n",
       "1052            223                0   128491.0 2015-02-02 08:35:16-08:00   \n",
       "1053            158                0    61570.0 2015-02-02 08:50:54-08:00   \n",
       "1054            163                0       75.0 2015-02-02 09:11:39-08:00   \n",
       "\n",
       "                               place  sentiment_polarity  sentiment_score  \n",
       "0                         Austin, TX                   1         0.998629  \n",
       "1                       New York, NY                  -1        -0.990321  \n",
       "2     Total Divas on E! & RAW on USA                  -1        -0.892226  \n",
       "3                       New York, NY                  -1        -0.993053  \n",
       "4                                                     -1        -0.985823  \n",
       "...                              ...                 ...              ...  \n",
       "1050                         LAX-HTX                  -1        -0.982248  \n",
       "1051                    New York, NY                   1         0.678357  \n",
       "1052                Orlando, Florida                   1         0.994019  \n",
       "1053         Colorado Springs, Colo.                  -1        -0.998414  \n",
       "1054                              UK                   1         0.998471  \n",
       "\n",
       "[1055 rows x 8 columns]"
      ]
     },
     "execution_count": 139,
     "metadata": {},
     "output_type": "execute_result"
    }
   ],
   "source": [
    "df_superbowl"
   ]
  },
  {
   "cell_type": "code",
   "execution_count": 199,
   "id": "bb21c452",
   "metadata": {},
   "outputs": [],
   "source": [
    "times = pd.to_datetime(df_superbowl.time)\n",
    "grouped = df_superbowl.groupby(pd.Grouper(key='time', axis=0, freq='5min')).title.transform(lambda x: '. '.join(x))\n",
    "grouped = grouped.drop_duplicates()"
   ]
  },
  {
   "cell_type": "code",
   "execution_count": 200,
   "id": "d96095f5",
   "metadata": {},
   "outputs": [
    {
     "data": {
      "text/plain": [
       "95"
      ]
     },
     "execution_count": 200,
     "metadata": {},
     "output_type": "execute_result"
    }
   ],
   "source": [
    "len(grouped)"
   ]
  },
  {
   "cell_type": "code",
   "execution_count": 201,
   "id": "9b9338dc",
   "metadata": {},
   "outputs": [
    {
     "name": "stdout",
     "output_type": "stream",
     "text": [
      "150                                                                                                                                                                                                                                                                                     Still time to Win a pair of Monster24k headphones RT to enter SuperBowl BeastMode SuperBowlXLIX MoneyLynch. PetrCech and Ivanovic playing American Football at the Seattle Seahawks training facility SB49 SuperBowlSunday. RT if you re watching the Super Bowl Patriots vs Seahawks SB49 SuperBowlSunday. It s our 2nd annual SupernovaSunday During SuperBowl we re posting supernova info sb49. How about our girl carrieunderwood kicking off this Super Bowl Fight SuperBowlXLIX. ISS Research Trivia for your SuperBowlXLIX Patriots Seahawks party Q How big is Space Station A\n",
      "159                                                                                                                                                                                                                                                                                                                                                                                                                                                                                                                         Hoping for a good game but if not I get a day off from being my dad s biggest disappointment WinWin SuperBowl. Who s rooting for who SB49 SuperBowl2015 SundayFunday. Are you ready for SuperBowlXLIX Here are 5 things to know about the big game SuperBowl. We did it Million Coin MVP Item Winner announced at Halftime UltimateSB SuperBowlXLIX\n",
      "168                                                                                                                                                                                                                                                                                                                                                                                                                                                                                                                                                                                                                                                          Disappointed Patriots didn t come out to nWo theme SuperBowl. Seattle Seahawks vs New England Patriots in SuperBowl XLIX LIVE UPDATES SB49. This is gonna be a gas TheBlacklistReturns tonight after SuperBowlXLIX\n",
      "175                                                                                                                                                                                                                                                                                                                                                                                                                The SuperBowl ads of 2015 Watch them here SB49. EW The SuperBowl ads of 2015 Watch them here SB49. Everytime ur girlfriend says I just watch SuperBowl for the commercials the inventor of TiVo cries a little U may also like her friend. New England patriots regards and best wishes from the Colombian Patriotas we are playing today too RT to support us SuperBowlXLIX. so great to see adele dazeem continuing to kill it such a talent SuperBowlXLIX\n",
      "189                                                                                                                                                                                                                                                                                                                                                                                                                                                                            Thinking about that Super Bowl win Seahawks time to work it SB49 SuperBowl XLIX SeahawksWIN HawksNation. america is sooooo american SuperBowlXLIX. The start of the SuperBowl always gives me the chills but this time I think it s wings at this red roof inn bar. Rihanna s chillin SuperBowlXLIX. SuperBowl with these two studs SuperBowlXLIX SuperBowl2015 ManikaVegasParty ILoveMyBrothers\n",
      "203                                                  So proud of our Airmen representing the AirForce at SuperBowlXLIX Did you see the AFThunderbirds flyover FlyFightWin. NotasMedicina Apple iPad Air 2 Giveaway Giveaway Bandit SuperBowl SB49 HalfTime XLIX Seahawks. Let s do this Seahawks SuperBowlXLIX Seahawks GoHawks. Who s watching the SuperBowl SB49. im going back on tumblr someone call me when its the katy perry concert or the cute adverts SuperBowlXLIX. FINALLY ITS GAME TIME Patriots Seahawks SuperBowlXLIX. The footballs have been weighed and measured Tremendous SuperBowl. LETS GO SEAHAWKS RePete SuperBowlXLIX. Apple iPad Air 2 Giveaway Giveaway Bandit SuperBowl SB49 HalfTime XLIX Seahawks. Go Seattle Representing NFC SuperBowl Atlanta Falcons is home. Apple iPad Air 2 Giveaway Giveaway Bandit SuperBowl SB49 HalfTime XLIX Seahawks\n",
      "221    ARE YOU READY FOR SOME FOOOOOTBAAAAAALLLL SuperBowlXLIX. If something chases you Sponge SpongeBobMovie SuperBowl. SuperBowl Commercials Score Board Chevy 1 Everybody else 0. It s Game time SuperBowlXLIX NEvsSEA. It s our 2nd annual SupernovaSunday Let s kick off w some crab nebula SuperBowl SB49. Congratulations to idinamenzel for her stunning National Anthem performance SuperBowl SB49. RT if you re cheering for the New England Patriots to win the SuperBowl SB49 SuperBowlSunday. RT if you re cheering for the Seattle Seahawks to win the SuperBowl SB49 SuperBowlSunday. Time to watch a sporting event I couldn t care less about the outcome of SuperBowlXLIX Sportz. GAMETIME Who you got superbowl. we will be completely unbiased and root equally for both sides ps GO SEAHAWKS GO GO GO NP SuperBowlXLIX. Can you spot Rihanna SuperBowlXLIX\n",
      "239                                                                                                                                                                                                                                                                                  RT Follow us to enter to win the NEW Seth Rollins Tee WWE SuperBowlXLIX. That commercial had about a million peoole thinking their t v s were broke SuperBowlXLIX. America Will this be the SuperBowl that makes the world finally stop calling soccer football. NFL Teams with STAR WARS Related Logos SuperBowl Patriots Seahawks. Go patriots wherever you play In Phoenix Arizona and Tunja Boyac Patriots were made to triumph SuperBowlXLIX LALIGAxWIN. Can she just sing along to the whole game idinamenzel NAILED IT SB49 SuperBowl. Let s go Seahawks SuperBowl SB49 SeahawksWIN\n",
      "258                                                                                                                                                                                                                                                                                                                                                                                                                                                                                                                                                                                                                                                                              National Anthem and Flyby SuperBowl SB49. So amazing to be in the GameofWar SuperBowl commercial See the full version below and let me know what you think. SuperBowl Who s gonna win Patriots\n",
      "265                                                                                                                                                                                                                                                                                                                                                                                                                                                                                                                                                               BroDiscussion Who s going to win SuperBowlXLIX RT for Seahawks Fav for Patriots. Who are you rooting for this SupernovaSunday If Seahawks RT this nebula with their team colors SuperBowl SB49. Who are you rooting for this SupernovaSunday If Patriots RT this nebula with their team colors SuperBowl SB49\n",
      "Name: title, dtype: object\n"
     ]
    }
   ],
   "source": [
    "pd.options.display.max_colwidth = 10000\n",
    "print(grouped.head(10))"
   ]
  },
  {
   "cell_type": "code",
   "execution_count": 203,
   "id": "68a4c040",
   "metadata": {},
   "outputs": [
    {
     "name": "stdout",
     "output_type": "stream",
     "text": [
      "Commentary1:  SuperBowl XLIX takes place on Sunday, February 4th. PetrCech and Ivanovic play American Football at the Seattle Seahawks training facility.\n",
      "Commentary2:  Million Coin MVP Item Winner announced at Halftime UltimateSB SuperBowlXLIX. SB49 SuperB Bowl2015 SundayFunday.\n",
      "Commentary3:  Seahawks vs New England Patriots in SuperBowl XLIX LIVE UPDATES SB49. This is gonna be a gas TheBlacklist returns tonight after SuperB BowlXLIX.\n",
      "Commentary4:  The SuperBowl ads of 2015 Watch them here SB49. EW. Everytime ur girlfriend says I just watch SuperB Bowl for the commercials the inventor of TiVo cries a little.\n",
      "Commentary5:  The start of the SuperBowl always gives me the chills but this time I think it s wings at this red roof inn bar. Rihanna s chillin SuperB BowlXLIX.\n",
      "Commentary6:  The footballs have been weighed and measured. So proud of our Airmen representing the AirForce at SuperBowlXLIX. Did you see the AFThunderbirds flyover?\n",
      "Commentary7:  SuperBowl XLIX begins at 8 p.m. ET. The New England Patriots take on the Seattle Seahawks in the SuperBowl.\n"
     ]
    },
    {
     "name": "stderr",
     "output_type": "stream",
     "text": [
      "Your max_length is set to 50, but you input_length is only 47. You might consider decreasing max_length manually, e.g. summarizer('...', max_length=23)\n"
     ]
    },
    {
     "name": "stdout",
     "output_type": "stream",
     "text": [
      "Commentary8:  SuperBowlXLIX. Will this be the SuperBowl that makes the world finally stop calling soccer football.\n",
      "Commentary9:  SuperBowl commercial features the National Anthem and Flyby. The commercial also features the GameofWar SuperBowl ad.\n",
      "Commentary10:  If Seahawks RT this nebula with their team colors SuperBowl SB49. Who are you rooting for this SupernovaSunday? RT for Seahawks Fav for Patriots.\n",
      "Commentary11:  \"TeamGleason is looking to get 100,000 followers on SuperBowl Sunday. Were only 5,000 away.\"\n",
      "Commentary12:  The top 10 hottest cheerleaders in SuperBowlXLIX RT Patriots FAV Seahawks. Katy Perry and Lenny Kravitz on stage together. What if the Dodge Neon was a band?\n",
      "Commentary13:  Good luck to Tom Brady and the New England Patriots in SuperBowlXLIX. Adele Dazeem sings the National Anthem tonight. Kim Kardashian just wants you to see all of her selfies.\n",
      "Commentary14:  SuperBowl Sunday superbowlcommercials and SuperSoulSunday we are so ready via. katyperry. Retweet for Patriots Fav for Seahawks SuperBowlXLIX.\n",
      "Commentary15:  SuperBowl XLIX kicks off Sunday night at 8 p.m. ET on CBS. The Patriots take on the Seattle Seahawks.\n",
      "Commentary16:  SuperBowl XLIX is tonight. What s your favorite SuperBowl commercial. Who s going to win?\n",
      "Commentary17:  The storytelling just isn t strong enough particularly if you re buying 90 seconds SuperBowl XLIX. Was that Nissan commercial a much quicker version of BOYHOOD SuperB BowlXLIX.\n",
      "Commentary18:  Nationwide would like to take this opportunity to remind you that your children are doomed SuperBowl. 25 players from the SEC will play in SuperB BowlXLIX including 4 from Texas A amp M tamu SB49.\n",
      "Commentary19:  Is it just me or are these commercials depressing Any minute we re gonna see SarahMcLachlan singing to sad looking dogs SuperBowlXLIX. PaulMcCartney playing the 2005 half time show patriots or seahawks SB\n",
      "Commentary20:  SuperBowlXLIX. MoneyLynch will be about that action tomorrow boss. The best photos from the big game.\n",
      "Commentary21:  Fiat ad wins SuperBowl XLIX. Danny Trejo recast in The Brady Bunch for Snickers commercial. George RR Martin is within 25 feet of this photo.\n",
      "Commentary22:  I want me to win SuperBowlXLIX because I love myself. You really shouldn t be eating that shit. What I would say to a loved one who called me from McDonalds.\n",
      "Commentary23:  The balls at the Puppy Bowl have been tested and retested. Expect an honest game today Eat that SuperBowlXLIX.\n",
      "Commentary24:  Bryan Cranston Resurrected Walter White For A SuperBowl Ad via JarettSays BreakingBad.\n",
      "Commentary25:  Americans will eat 1 2 billion wings enough to give everyone 3 wings apiece SuperBowl. The second I see a kid in one of these commercials I immediately assume they re going to die Thanks Nationwide. The ASU marching band performed t\n",
      "Commentary26:  Twitter was not happy about the Nationwide s dark and depressing SuperBowl ad. If the Packers had coached that way two weeks ago they d be playing right now. Katy Perry is coming soon.\n",
      "Commentary27:  The GameofWar SuperBowl commercial is up for a vote. Share your love and vote for it here.\n",
      "Commentary28:  KatyPerry and LennyKravitz cover I Kissed a Girl during SuperBowl Halftime SB49. Katy Perry is apparently this week s special guest on Yo Gabba Gabba.\n",
      "Commentary29:  Katy Perry rode into the SuperBowl halftime show on a giant robotic tiger. Katy Perry is flying on the The More You Know Star babyyoureafirework. Missy Elliott is killing it music.\n",
      "Commentary30:  Katy Perry performs at SuperBowl XLIX between the Patriots and Seahawks. KatyPerry is on fire at the Superbowl Literally FashionPolice. The LikeAGirl commercial is SO important. America officially out of money after spending it\n",
      "Commentary31:  Katy Perry and LennyKravitz killed it at the SuperBowl Halftime Show 2015. Katy Perry looked so good at HT SuperB Bowl. Retweet if you BELIEVE Michael Jackson had the GREATEST SuperB\n",
      "Commentary32:  Liam Neeson is channeling exactly how I am when I play ClashofClans SuperBowl. RussellWilson is bout to make history as the 1st African American QB to win back to Back Super Bowls. Katy\n",
      "Commentary33:  \"Katy Perry still isnt better than ShawnMichaels SuperBowI SuperBowlXLIX Lol thanks. Supernova remnant with jets that extend trillions of miles superbowl supernovasunday sb49.\"\n",
      "Commentary34:   Billboard cover star KatyPerry shined during her SuperBowl XLIX halftime show. Let s discuss katyperry s halftime show wardrobe changes.\n",
      "Commentary35:  The SuperBowl commercials use to be a lot better. Is our man GuyFieri moonlighting as a Super Bowl stylist now days?\n",
      "Commentary36:  Watch the ads from the SuperBowl and vote for the best and worst. RT if you loved Katy Perry s performance at the Superbowl.\n",
      "Commentary37:  The Packers may not have made the SuperBowl but they did manage to sneak into a commercial. No halftime show will ever top this one superbowl. You can feel good rooting for a sport that employs unaffiliated neurotrauma consultants\n",
      "Commentary38:  SuperBowl XLIX commercial fail: This Land is Your Land which is about America CommercialFail: JEEP Quietly grand Great choice taking This Land Is Your Land global Tagline could use some help SuperBowl.\n",
      "Commentary39:  TheEllenShow Jeannie s at the game with a Disney Princess and a Beatle SuperBowl. Get free shipping on orders 25 AND 10 off 100 now until 12AM EST.\n",
      "Commentary40:  KatyPerry s PRISM amp TeenageDream are both in the iTunesMusic Top 10 SuperBowl. Who do you want to win this bet of theirs?\n",
      "Commentary41:  The Missy Elliott Halftime Show. Who did it better at the SuperBowl halftime show RT for Katy Perry FAV for Beyonc. I hope these guys wash their faces after the game.\n",
      "Commentary42:  The NFL said concussions have dropped which means you totally leave Edelman on the field Comical SuperBowlXLIX. Bud Light s original plan was real life Super Mario but no one would agree to eat mushrooms and stomp turtles on\n",
      "Commentary43:  Bud Light ad puts a man in the middle of a life size Pac Man game. Tom Brady just surpassed Joe Montana for the most touchdown passes in SuperBowl history with 12 SB49. Seattle Seahawks wide receiver Chris Matthews is the\n",
      "Commentary44:  Did Madden15 predict SuperBowlXLIX. You can never count out a team whose owner wears SuperB Bowl rings as cuff links SB49 Patriots.\n",
      "Commentary45:  New Heroes Reborn SuperBowl teaser shows a glimpse at what s to come when Heroes returns. 20K light years away a supernova w a lot of O2 superbowl supernovasunday sb49. George RR Martin\n",
      "Commentary46:  Tom Brady sets a new SuperBowl record with 36 completions SB49. katyperry was a girl on FIRE at the SuperB Bowl.\n",
      "Commentary47:  The official Madden SuperBowl simulation had the Patriots beating the Seahawks 28 24 on a late Edelman TD.\n",
      "Commentary48:  SuperBowl is tonight at 8 p.m. ET on CBS. Katy Perry will be hosting the show.\n",
      "Commentary49:  Marshawn Lynch has announced he is officially a free agent. The Patriots send their regards SuperBowl. Why not just run the ball?\n",
      "Commentary50:  New England Patriots defeat Seattle Seahawks to win the NFL s SuperBowl. New England Patriots beat other teams from the USA to be declared World Champions.\n",
      "Commentary51:  The NFL put so much into an anti violence campaign only for the SuperBowl to end in violence. Malcolm Butler is a NCAAD2 alum. When your coach doesn t give you the ball and costs you a SuperB Bowl\n",
      "Commentary52:  President Obama congratulates the Patriots on their 4th SuperBowl title. Bill Belichick Credits Victory To His God.\n",
      "Commentary53:  \"Tom Brady is your SuperBowl MVP. Why didnt they give the ball to Lynch superbowl.\"\n",
      "Commentary54:  Patriots QB Tom Brady named MVP of SuperBowl XLIX. Brady wins himself a truck for being MVP.\n",
      "Commentary55:  Patriots win SuperBowlXLIX. Nationwide is on your side.\n",
      "Commentary56:  Presenting the 10 best and the 5 worst SuperBowl 2015 commercials. Tom Brady is the SB49 MVP for the Patriots.\n",
      "Commentary57:  This one is for all the assholes TheWitchHuntIsOver SB49 SuperBowl DeflateGate. No Beastmode I m so confused right now So confused SuperB Bowl.\n"
     ]
    },
    {
     "name": "stderr",
     "output_type": "stream",
     "text": [
      "Your max_length is set to 50, but you input_length is only 21. You might consider decreasing max_length manually, e.g. summarizer('...', max_length=10)\n"
     ]
    },
    {
     "name": "stdout",
     "output_type": "stream",
     "text": [
      "Commentary58:   Billboard cover star KatyPerry shined during her SuperBowl XLIX halftime show. SuperB BowlXLIX had to have been booked by HeymanHustle. 19 times katyperry s SuperBOW halftime\n"
     ]
    },
    {
     "name": "stderr",
     "output_type": "stream",
     "text": [
      "Your max_length is set to 50, but you input_length is only 17. You might consider decreasing max_length manually, e.g. summarizer('...', max_length=8)\n"
     ]
    },
    {
     "name": "stdout",
     "output_type": "stream",
     "text": [
      "Commentary59:  I ve never seen Pete Carroll play blackjack but I m guessing he hits on 20 superbowls.\n",
      "Commentary60:  Hey Seahawks would you like another SuperBowl trophy? No thanks we ll pass.\n",
      "Commentary61:  17 years after he was hired as head coach Pete Carroll finally delivers a SuperBowl to the Patriots SB49. Omg I m so happy right now Brady is the greatest ever without doubt Love this game.\n",
      "Commentary62:  Tom Brady is the all time BEST QB in NFL History. No half time show will ever top SuperBowl Halftime. MarshawnLynch HBDive Seahawks AskMadden.\n",
      "Commentary63:  Gisele congratulates her man after he won SuperBowlXLIX. Sometimes Seahawks take the field to KICKSTART MY HEART.\n",
      "Commentary64:  We are so proud of you daddy Congratulations gopats superbowl sb49 Estamos muito. Hey I upgraded a helmet for you for tomorrows game SuperBowl Seahawks 12s ok that s badass.\n",
      "Commentary65:  Patriots complete dramatic rally in 4th quarter to defeat Seahawks 28 24. KatyCats We are Our SuperBowl Halftime snack game.\n"
     ]
    },
    {
     "name": "stderr",
     "output_type": "stream",
     "text": [
      "Your max_length is set to 50, but you input_length is only 26. You might consider decreasing max_length manually, e.g. summarizer('...', max_length=13)\n"
     ]
    },
    {
     "name": "stdout",
     "output_type": "stream",
     "text": [
      "Commentary66:  The Patriots win SuperBowlXLIX. The Patriots beat the Seahawks 24-16.\n",
      "Commentary67:  Live look inside the Patriots Lockeroom SuperBowlXLIX. What if during Halftime this happens SuperB Bowl.\n"
     ]
    },
    {
     "name": "stderr",
     "output_type": "stream",
     "text": [
      "Your max_length is set to 50, but you input_length is only 41. You might consider decreasing max_length manually, e.g. summarizer('...', max_length=20)\n"
     ]
    },
    {
     "name": "stdout",
     "output_type": "stream",
     "text": [
      "Commentary68:  Darrelle Revis would love to rejoin this team. RogerGoodell is basically a fraud writes tomecurran.\n"
     ]
    },
    {
     "name": "stderr",
     "output_type": "stream",
     "text": [
      "Your max_length is set to 50, but you input_length is only 28. You might consider decreasing max_length manually, e.g. summarizer('...', max_length=14)\n"
     ]
    },
    {
     "name": "stdout",
     "output_type": "stream",
     "text": [
      "Commentary69:  The New England Patriots won SuperBowl XLIX against the Atlanta Falcons. The game was played in Atlanta.\n"
     ]
    },
    {
     "name": "stderr",
     "output_type": "stream",
     "text": [
      "Your max_length is set to 50, but you input_length is only 46. You might consider decreasing max_length manually, e.g. summarizer('...', max_length=23)\n"
     ]
    },
    {
     "name": "stdout",
     "output_type": "stream",
     "text": [
      "Commentary70:  Super Bowl XLIX between the New England Patriots and the Atlanta Falcons. The Patriots won the game 34-28.\n"
     ]
    },
    {
     "name": "stderr",
     "output_type": "stream",
     "text": [
      "Your max_length is set to 50, but you input_length is only 22. You might consider decreasing max_length manually, e.g. summarizer('...', max_length=11)\n"
     ]
    },
    {
     "name": "stdout",
     "output_type": "stream",
     "text": [
      "Commentary71:  SuperBowlXLIX CHAMPS Me n Mr Kraft Patriots GoPats University of Phoenix Stadium. mgfgotw mygirlfund in honor of the SuperB Bowl RT retweet SuperBowl football sexy hot.\n"
     ]
    },
    {
     "name": "stderr",
     "output_type": "stream",
     "text": [
      "Your max_length is set to 50, but you input_length is only 24. You might consider decreasing max_length manually, e.g. summarizer('...', max_length=12)\n"
     ]
    },
    {
     "name": "stdout",
     "output_type": "stream",
     "text": [
      "Commentary72:  The New England Patriots won SuperBowlXLIX. The confetti was flying for the Patriots.\n",
      "Commentary73:  Katy Perry Rocked The 2015 Super Bowl Show gt lt SuperBowl SB49.\n"
     ]
    },
    {
     "name": "stderr",
     "output_type": "stream",
     "text": [
      "Your max_length is set to 50, but you input_length is only 29. You might consider decreasing max_length manually, e.g. summarizer('...', max_length=14)\n"
     ]
    },
    {
     "name": "stdout",
     "output_type": "stream",
     "text": [
      "Commentary74:  So who do YOU want to win the SuperBowl? RT for the Seahawks and FAV for the Patriots. Hey KatyCats who s ready for halftime forthosewhoPURR Superbowl SB49.\n"
     ]
    },
    {
     "name": "stderr",
     "output_type": "stream",
     "text": [
      "Your max_length is set to 50, but you input_length is only 29. You might consider decreasing max_length manually, e.g. summarizer('...', max_length=14)\n"
     ]
    },
    {
     "name": "stdout",
     "output_type": "stream",
     "text": [
      "Commentary75:  The Patriots are bidding for a fourth SuperBowl title. The team has won three of the last five Super Bowls.\n"
     ]
    },
    {
     "name": "stderr",
     "output_type": "stream",
     "text": [
      "Your max_length is set to 50, but you input_length is only 26. You might consider decreasing max_length manually, e.g. summarizer('...', max_length=13)\n"
     ]
    },
    {
     "name": "stdout",
     "output_type": "stream",
     "text": [
      "Commentary76:  Fun was most definitely had with SuperBowlXLIX. Looking forward to SuperB Bowl Halftime seeing KatyPerry.\n"
     ]
    },
    {
     "name": "stderr",
     "output_type": "stream",
     "text": [
      "Your max_length is set to 50, but you input_length is only 37. You might consider decreasing max_length manually, e.g. summarizer('...', max_length=18)\n"
     ]
    },
    {
     "name": "stdout",
     "output_type": "stream",
     "text": [
      "Commentary77:  Patriots beat the SeaHawks in SuperBowl.\n"
     ]
    },
    {
     "name": "stderr",
     "output_type": "stream",
     "text": [
      "Your max_length is set to 50, but you input_length is only 10. You might consider decreasing max_length manually, e.g. summarizer('...', max_length=5)\n"
     ]
    },
    {
     "name": "stdout",
     "output_type": "stream",
     "text": [
      "Commentary78:  Tomorrow s page one final edition Patriots Seahawks SuperBowlXLIX. Lauren Gallaway prattpratt pratt ChrisEvans I am Team Pratt Go Seahawks Superbowl.\n"
     ]
    },
    {
     "name": "stderr",
     "output_type": "stream",
     "text": [
      "Your max_length is set to 50, but you input_length is only 48. You might consider decreasing max_length manually, e.g. summarizer('...', max_length=24)\n"
     ]
    },
    {
     "name": "stdout",
     "output_type": "stream",
     "text": [
      "Commentary79:  One last SuperBowlXLIX tweet from the Super Bowl XLIX Twitter account.\n"
     ]
    },
    {
     "name": "stderr",
     "output_type": "stream",
     "text": [
      "Your max_length is set to 50, but you input_length is only 24. You might consider decreasing max_length manually, e.g. summarizer('...', max_length=12)\n"
     ]
    },
    {
     "name": "stdout",
     "output_type": "stream",
     "text": [
      "Commentary80:  Madden simulation predicted Patriots to win 28 24 after trailing Seahawks 24 14 in 3Q Wow.\n",
      "Commentary81:  SuperBowl XLIX was held in New Jersey. The Patriots beat the Atlanta Falcons in a thrilling game.\n"
     ]
    },
    {
     "name": "stderr",
     "output_type": "stream",
     "text": [
      "Your max_length is set to 50, but you input_length is only 16. You might consider decreasing max_length manually, e.g. summarizer('...', max_length=8)\n"
     ]
    },
    {
     "name": "stdout",
     "output_type": "stream",
     "text": [
      "Commentary82:  PetrCech dan Ivanovic bermain American Football di lapangan Seahawks SB49 SuperBowl.\n"
     ]
    },
    {
     "name": "stderr",
     "output_type": "stream",
     "text": [
      "Your max_length is set to 50, but you input_length is only 31. You might consider decreasing max_length manually, e.g. summarizer('...', max_length=15)\n"
     ]
    },
    {
     "name": "stdout",
     "output_type": "stream",
     "text": [
      "Commentary83:  It s Game Day Let s go Seahawks SuperBowl SeaHawks. It s time to get ready for the big game.\n"
     ]
    },
    {
     "name": "stderr",
     "output_type": "stream",
     "text": [
      "Your max_length is set to 50, but you input_length is only 23. You might consider decreasing max_length manually, e.g. summarizer('...', max_length=11)\n"
     ]
    },
    {
     "name": "stdout",
     "output_type": "stream",
     "text": [
      "Commentary84:  Do you have friends out there who are Seahawks fans or Patriots fans? Give me a shout back and I ll tally it up SuperBowl.\n"
     ]
    },
    {
     "name": "stderr",
     "output_type": "stream",
     "text": [
      "Your max_length is set to 50, but you input_length is only 19. You might consider decreasing max_length manually, e.g. summarizer('...', max_length=9)\n"
     ]
    },
    {
     "name": "stdout",
     "output_type": "stream",
     "text": [
      "Commentary85:  \"The one on the left doesnt give a f SuperbowlXLIX. The one in the right rehearsed.\"\n"
     ]
    },
    {
     "name": "stderr",
     "output_type": "stream",
     "text": [
      "Your max_length is set to 50, but you input_length is only 30. You might consider decreasing max_length manually, e.g. summarizer('...', max_length=15)\n"
     ]
    },
    {
     "name": "stdout",
     "output_type": "stream",
     "text": [
      "Commentary86:  SuperBowl XLIX kicks off at 4:30 p.m. ET on Sunday. The New England Patriots take on the Seattle Seahawks.\n"
     ]
    },
    {
     "name": "stderr",
     "output_type": "stream",
     "text": [
      "Your max_length is set to 50, but you input_length is only 19. You might consider decreasing max_length manually, e.g. summarizer('...', max_length=9)\n"
     ]
    },
    {
     "name": "stdout",
     "output_type": "stream",
     "text": [
      "Commentary87:  \"The Boston Celtics have won three straight NBA titles. The Celtics have also won the Super Bowl. Boston is the home of the NFLs Super Bowl champions.\"\n"
     ]
    },
    {
     "name": "stderr",
     "output_type": "stream",
     "text": [
      "Your max_length is set to 50, but you input_length is only 24. You might consider decreasing max_length manually, e.g. summarizer('...', max_length=12)\n"
     ]
    },
    {
     "name": "stdout",
     "output_type": "stream",
     "text": [
      "Commentary88:  GoSeahawks RT for your chance to win a Seahawks jersey SB49 superbowl.\n"
     ]
    },
    {
     "name": "stderr",
     "output_type": "stream",
     "text": [
      "Your max_length is set to 50, but you input_length is only 26. You might consider decreasing max_length manually, e.g. summarizer('...', max_length=13)\n"
     ]
    },
    {
     "name": "stdout",
     "output_type": "stream",
     "text": [
      "Commentary89:  Chloeflier FunnyVines Best commercial of the SuperBowl BudweiserPuppy SB49.\n"
     ]
    },
    {
     "name": "stderr",
     "output_type": "stream",
     "text": [
      "Your max_length is set to 50, but you input_length is only 31. You might consider decreasing max_length manually, e.g. summarizer('...', max_length=15)\n"
     ]
    },
    {
     "name": "stdout",
     "output_type": "stream",
     "text": [
      "Commentary90:  \"Use the Daily Discussion to help us understand todays featured news stories. Use the weekly Newsquiz to test your knowledge of stories you saw on CNN.com. Todays Daily Discussion includes the New England Patriots.\"\n"
     ]
    },
    {
     "name": "stderr",
     "output_type": "stream",
     "text": [
      "Your max_length is set to 50, but you input_length is only 28. You might consider decreasing max_length manually, e.g. summarizer('...', max_length=14)\n"
     ]
    },
    {
     "name": "stdout",
     "output_type": "stream",
     "text": [
      "Commentary91:  BizBash producers review of superbowlXLIX pepsi HypedForHalftime show.\n"
     ]
    },
    {
     "name": "stderr",
     "output_type": "stream",
     "text": [
      "Your max_length is set to 50, but you input_length is only 22. You might consider decreasing max_length manually, e.g. summarizer('...', max_length=11)\n"
     ]
    },
    {
     "name": "stdout",
     "output_type": "stream",
     "text": [
      "Commentary92:  Stay tuned for Super Bowl Coin Up TOTW MVP Updates later today UltimateSB SuperBowlXLIX.\n"
     ]
    },
    {
     "name": "stderr",
     "output_type": "stream",
     "text": [
      "Your max_length is set to 50, but you input_length is only 30. You might consider decreasing max_length manually, e.g. summarizer('...', max_length=15)\n"
     ]
    },
    {
     "name": "stdout",
     "output_type": "stream",
     "text": [
      "Commentary93:  All katyperry was missing last night was a sheet of ice SB49 SuperBowl.\n"
     ]
    },
    {
     "name": "stderr",
     "output_type": "stream",
     "text": [
      "Your max_length is set to 50, but you input_length is only 26. You might consider decreasing max_length manually, e.g. summarizer('...', max_length=13)\n"
     ]
    },
    {
     "name": "stdout",
     "output_type": "stream",
     "text": [
      "Commentary94:  In honor of the Patriots win we will GIVEAWAY these cleats RT and FOLLOW to enter SuperBowl.\n",
      "Commentary95:  Seahawks defense one of the great defenses of all time stakes its claim with another dominating performance SuperBowl KOD.\n"
     ]
    }
   ],
   "source": [
    "hour_count = 0\n",
    "for index, value in grouped.items():\n",
    "    to_tokenize = value[:3500].split(',,,')\n",
    "    summarized = summarizer(to_tokenize, min_length=10, max_length=50, do_sample=False)\n",
    "    summ=' '.join([str(i) for i in summarized])\n",
    "    summ=summ.replace(\"{\",\"\")\n",
    "    summ=summ.replace(\"}\",\"\")\n",
    "    summ=summ.replace(\"'summary_text':\",\"\")\n",
    "    summ=summ.replace(\"'\",\"\")\n",
    "    summ=summ.replace(\"''\",\"\")\n",
    "    summ=summ.replace(\"\\x92\",\"\")\n",
    "    hour_count = hour_count+1\n",
    "    print('Commentary' + str(hour_count) +': ' + summ)\n",
    "    "
   ]
  },
  {
   "cell_type": "code",
   "execution_count": null,
   "id": "14655402",
   "metadata": {},
   "outputs": [],
   "source": []
  }
 ],
 "metadata": {
  "kernelspec": {
   "display_name": "Python 3 (ipykernel)",
   "language": "python",
   "name": "python3"
  },
  "language_info": {
   "codemirror_mode": {
    "name": "ipython",
    "version": 3
   },
   "file_extension": ".py",
   "mimetype": "text/x-python",
   "name": "python",
   "nbconvert_exporter": "python",
   "pygments_lexer": "ipython3",
   "version": "3.8.10"
  }
 },
 "nbformat": 4,
 "nbformat_minor": 5
}
