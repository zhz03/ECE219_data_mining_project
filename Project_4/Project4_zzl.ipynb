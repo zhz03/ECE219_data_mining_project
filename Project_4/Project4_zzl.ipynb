{
 "cells": [
  {
   "cell_type": "code",
   "execution_count": 1,
   "id": "e04e4941",
   "metadata": {},
   "outputs": [],
   "source": [
    "import pandas as pd \n",
    "import os\n",
    "def get_data(filename):\n",
    "    \"\"\"\n",
    "    This is function is to read csv files \n",
    "    and transfer into dataframe\n",
    "\n",
    "    Parameters\n",
    "    ----------\n",
    "    filename : string\n",
    "        the full name of that filename (path) \n",
    "\n",
    "    Returns\n",
    "    -------\n",
    "    None.\n",
    "\n",
    "    \"\"\"\n",
    "    # df = pd.read_csv(f\"{path}{filename}\")\n",
    "    df = pd.read_csv(filename)\n",
    "    return df"
   ]
  },
  {
   "cell_type": "code",
   "execution_count": 19,
   "id": "9e664076",
   "metadata": {},
   "outputs": [],
   "source": [
    "df_data = get_data('diamonds.csv')"
   ]
  },
  {
   "cell_type": "markdown",
   "id": "c7d45393",
   "metadata": {},
   "source": [
    "## Get familiar with the data"
   ]
  },
  {
   "cell_type": "code",
   "execution_count": 20,
   "id": "1e07eee3",
   "metadata": {},
   "outputs": [
    {
     "data": {
      "text/html": [
       "<div>\n",
       "<style scoped>\n",
       "    .dataframe tbody tr th:only-of-type {\n",
       "        vertical-align: middle;\n",
       "    }\n",
       "\n",
       "    .dataframe tbody tr th {\n",
       "        vertical-align: top;\n",
       "    }\n",
       "\n",
       "    .dataframe thead th {\n",
       "        text-align: right;\n",
       "    }\n",
       "</style>\n",
       "<table border=\"1\" class=\"dataframe\">\n",
       "  <thead>\n",
       "    <tr style=\"text-align: right;\">\n",
       "      <th></th>\n",
       "      <th>Unnamed: 0</th>\n",
       "      <th>carat</th>\n",
       "      <th>cut</th>\n",
       "      <th>color</th>\n",
       "      <th>clarity</th>\n",
       "      <th>depth</th>\n",
       "      <th>table</th>\n",
       "      <th>price</th>\n",
       "      <th>x</th>\n",
       "      <th>y</th>\n",
       "      <th>z</th>\n",
       "    </tr>\n",
       "  </thead>\n",
       "  <tbody>\n",
       "    <tr>\n",
       "      <th>0</th>\n",
       "      <td>1</td>\n",
       "      <td>0.23</td>\n",
       "      <td>Ideal</td>\n",
       "      <td>E</td>\n",
       "      <td>SI2</td>\n",
       "      <td>61.5</td>\n",
       "      <td>55.0</td>\n",
       "      <td>330</td>\n",
       "      <td>3.95</td>\n",
       "      <td>3.98</td>\n",
       "      <td>2.43</td>\n",
       "    </tr>\n",
       "    <tr>\n",
       "      <th>1</th>\n",
       "      <td>2</td>\n",
       "      <td>0.21</td>\n",
       "      <td>Premium</td>\n",
       "      <td>E</td>\n",
       "      <td>SI1</td>\n",
       "      <td>59.8</td>\n",
       "      <td>61.0</td>\n",
       "      <td>327</td>\n",
       "      <td>3.89</td>\n",
       "      <td>3.84</td>\n",
       "      <td>2.31</td>\n",
       "    </tr>\n",
       "    <tr>\n",
       "      <th>2</th>\n",
       "      <td>3</td>\n",
       "      <td>0.23</td>\n",
       "      <td>Good</td>\n",
       "      <td>E</td>\n",
       "      <td>VS1</td>\n",
       "      <td>56.9</td>\n",
       "      <td>65.0</td>\n",
       "      <td>328</td>\n",
       "      <td>4.05</td>\n",
       "      <td>4.07</td>\n",
       "      <td>2.31</td>\n",
       "    </tr>\n",
       "    <tr>\n",
       "      <th>3</th>\n",
       "      <td>4</td>\n",
       "      <td>0.29</td>\n",
       "      <td>Premium</td>\n",
       "      <td>I</td>\n",
       "      <td>VS2</td>\n",
       "      <td>62.4</td>\n",
       "      <td>58.0</td>\n",
       "      <td>337</td>\n",
       "      <td>4.20</td>\n",
       "      <td>4.23</td>\n",
       "      <td>2.63</td>\n",
       "    </tr>\n",
       "    <tr>\n",
       "      <th>4</th>\n",
       "      <td>5</td>\n",
       "      <td>0.31</td>\n",
       "      <td>Good</td>\n",
       "      <td>J</td>\n",
       "      <td>SI2</td>\n",
       "      <td>63.3</td>\n",
       "      <td>58.0</td>\n",
       "      <td>338</td>\n",
       "      <td>4.34</td>\n",
       "      <td>4.35</td>\n",
       "      <td>2.75</td>\n",
       "    </tr>\n",
       "  </tbody>\n",
       "</table>\n",
       "</div>"
      ],
      "text/plain": [
       "   Unnamed: 0  carat      cut color clarity  depth  table  price     x     y  \\\n",
       "0           1   0.23    Ideal     E     SI2   61.5   55.0    330  3.95  3.98   \n",
       "1           2   0.21  Premium     E     SI1   59.8   61.0    327  3.89  3.84   \n",
       "2           3   0.23     Good     E     VS1   56.9   65.0    328  4.05  4.07   \n",
       "3           4   0.29  Premium     I     VS2   62.4   58.0    337  4.20  4.23   \n",
       "4           5   0.31     Good     J     SI2   63.3   58.0    338  4.34  4.35   \n",
       "\n",
       "      z  \n",
       "0  2.43  \n",
       "1  2.31  \n",
       "2  2.31  \n",
       "3  2.63  \n",
       "4  2.75  "
      ]
     },
     "execution_count": 20,
     "metadata": {},
     "output_type": "execute_result"
    }
   ],
   "source": [
    "df_data.head()"
   ]
  },
  {
   "cell_type": "code",
   "execution_count": 21,
   "id": "28f82966",
   "metadata": {},
   "outputs": [
    {
     "name": "stdout",
     "output_type": "stream",
     "text": [
      "cut sets:  {'Ideal', 'Premium', 'Good', 'Very Good', 'Fair'}\n",
      "color sets:  ['D', 'E', 'F', 'G', 'H', 'I', 'J']\n",
      "clarity sets:  {'I1', 'VS1', 'SI1', 'VVS1', 'IF', 'VVS2', 'SI2', 'VS2'}\n"
     ]
    }
   ],
   "source": [
    "# print the sets \n",
    "cut_set = set(df_data['cut'])\n",
    "color_set = set(df_data['color'])\n",
    "color_sorted_set = sorted(color_set)\n",
    "clarity_set = set(df_data['clarity'])\n",
    "print('cut sets: ',cut_set)\n",
    "print('color sets: ',color_sorted_set)\n",
    "print('clarity sets: ',clarity_set)\n",
    "# Cut: Fair, Good, Very Good, Premium, Ideal\n",
    "# Color: J < I < H < G < F < E < D \n",
    "# Clarity: I1 (worst), SI2, SI1, VS2, VS1, VVS2, VVS1, IF (best)"
   ]
  },
  {
   "cell_type": "markdown",
   "id": "71b1853d",
   "metadata": {},
   "source": [
    "## 3.1.1 Handling Categorical Features"
   ]
  },
  {
   "cell_type": "code",
   "execution_count": 22,
   "id": "d4cf303c",
   "metadata": {},
   "outputs": [],
   "source": [
    "def cut_to_categ(df_data):\n",
    "    for i in range(len(df_data['cut'])):\n",
    "        if df_data['cut'][i] == 'Fair':\n",
    "            df_data['cut'][i] = 1\n",
    "        elif df_data['cut'][i] == 'Good':\n",
    "            df_data['cut'][i] = 2\n",
    "        elif df_data['cut'][i] == 'Very Good':\n",
    "            df_data['cut'][i] = 3\n",
    "        elif df_data['cut'][i] == 'Premium':\n",
    "            df_data['cut'][i] = 4\n",
    "        else:\n",
    "            df_data['cut'][i] = 5     \n",
    "    return df_data\n",
    "\n",
    "def color_to_categ(df_data):\n",
    "    data = df_data['color']\n",
    "    for i in range(len(data)):\n",
    "        if data[i] == 'J':\n",
    "            data[i] = 1\n",
    "        elif data[i] == 'I':\n",
    "            data[i] = 2\n",
    "        elif data[i] == 'H':\n",
    "            data[i] = 3\n",
    "        elif data[i] == 'G':\n",
    "            data[i] = 4\n",
    "        elif data[i] == 'F':\n",
    "            data[i] = 5   \n",
    "        elif data[i] == 'E':\n",
    "            data[i] = 6                \n",
    "        else: #D \n",
    "            data[i] = 7     \n",
    "    df_data['color'] = data\n",
    "    return df_data  \n",
    "\n",
    "def clarity_to_categ(df_data):\n",
    "    data = df_data['clarity']\n",
    "    for i in range(len(data)):\n",
    "        if data[i] == 'I1':\n",
    "            data[i] = 1\n",
    "        elif data[i] == 'SI2':\n",
    "            data[i] = 2\n",
    "        elif data[i] == 'SI1':\n",
    "            data[i] = 3\n",
    "        elif data[i] == 'VS2':\n",
    "            data[i] = 4\n",
    "        elif data[i] == 'VS1':\n",
    "            data[i] = 5   \n",
    "        elif data[i] == 'VVS2':\n",
    "            data[i] = 6       \n",
    "        elif data[i] == 'VVS1':\n",
    "            data[i] = 7\n",
    "        else: # IF \n",
    "            data[i] = 8     \n",
    "    df_data['clarity'] = data\n",
    "    return df_data"
   ]
  },
  {
   "cell_type": "code",
   "execution_count": 23,
   "id": "e68c510b",
   "metadata": {},
   "outputs": [
    {
     "name": "stderr",
     "output_type": "stream",
     "text": [
      "/var/folders/g2/25bsk6jn695bt7xl4cfbjw5h0000gq/T/ipykernel_70336/649154061.py:12: SettingWithCopyWarning: \n",
      "A value is trying to be set on a copy of a slice from a DataFrame\n",
      "\n",
      "See the caveats in the documentation: https://pandas.pydata.org/pandas-docs/stable/user_guide/indexing.html#returning-a-view-versus-a-copy\n",
      "  df_data['cut'][i] = 5\n",
      "/var/folders/g2/25bsk6jn695bt7xl4cfbjw5h0000gq/T/ipykernel_70336/649154061.py:10: SettingWithCopyWarning: \n",
      "A value is trying to be set on a copy of a slice from a DataFrame\n",
      "\n",
      "See the caveats in the documentation: https://pandas.pydata.org/pandas-docs/stable/user_guide/indexing.html#returning-a-view-versus-a-copy\n",
      "  df_data['cut'][i] = 4\n",
      "/var/folders/g2/25bsk6jn695bt7xl4cfbjw5h0000gq/T/ipykernel_70336/649154061.py:6: SettingWithCopyWarning: \n",
      "A value is trying to be set on a copy of a slice from a DataFrame\n",
      "\n",
      "See the caveats in the documentation: https://pandas.pydata.org/pandas-docs/stable/user_guide/indexing.html#returning-a-view-versus-a-copy\n",
      "  df_data['cut'][i] = 2\n",
      "/var/folders/g2/25bsk6jn695bt7xl4cfbjw5h0000gq/T/ipykernel_70336/649154061.py:8: SettingWithCopyWarning: \n",
      "A value is trying to be set on a copy of a slice from a DataFrame\n",
      "\n",
      "See the caveats in the documentation: https://pandas.pydata.org/pandas-docs/stable/user_guide/indexing.html#returning-a-view-versus-a-copy\n",
      "  df_data['cut'][i] = 3\n",
      "/var/folders/g2/25bsk6jn695bt7xl4cfbjw5h0000gq/T/ipykernel_70336/649154061.py:4: SettingWithCopyWarning: \n",
      "A value is trying to be set on a copy of a slice from a DataFrame\n",
      "\n",
      "See the caveats in the documentation: https://pandas.pydata.org/pandas-docs/stable/user_guide/indexing.html#returning-a-view-versus-a-copy\n",
      "  df_data['cut'][i] = 1\n"
     ]
    }
   ],
   "source": [
    "df_data_1 = cut_to_categ(df_data)"
   ]
  },
  {
   "cell_type": "code",
   "execution_count": 24,
   "id": "4fb43eb5",
   "metadata": {},
   "outputs": [
    {
     "data": {
      "text/html": [
       "<div>\n",
       "<style scoped>\n",
       "    .dataframe tbody tr th:only-of-type {\n",
       "        vertical-align: middle;\n",
       "    }\n",
       "\n",
       "    .dataframe tbody tr th {\n",
       "        vertical-align: top;\n",
       "    }\n",
       "\n",
       "    .dataframe thead th {\n",
       "        text-align: right;\n",
       "    }\n",
       "</style>\n",
       "<table border=\"1\" class=\"dataframe\">\n",
       "  <thead>\n",
       "    <tr style=\"text-align: right;\">\n",
       "      <th></th>\n",
       "      <th>Unnamed: 0</th>\n",
       "      <th>carat</th>\n",
       "      <th>cut</th>\n",
       "      <th>color</th>\n",
       "      <th>clarity</th>\n",
       "      <th>depth</th>\n",
       "      <th>table</th>\n",
       "      <th>price</th>\n",
       "      <th>x</th>\n",
       "      <th>y</th>\n",
       "      <th>z</th>\n",
       "    </tr>\n",
       "  </thead>\n",
       "  <tbody>\n",
       "    <tr>\n",
       "      <th>0</th>\n",
       "      <td>1</td>\n",
       "      <td>0.23</td>\n",
       "      <td>5</td>\n",
       "      <td>E</td>\n",
       "      <td>SI2</td>\n",
       "      <td>61.5</td>\n",
       "      <td>55.0</td>\n",
       "      <td>330</td>\n",
       "      <td>3.95</td>\n",
       "      <td>3.98</td>\n",
       "      <td>2.43</td>\n",
       "    </tr>\n",
       "    <tr>\n",
       "      <th>1</th>\n",
       "      <td>2</td>\n",
       "      <td>0.21</td>\n",
       "      <td>4</td>\n",
       "      <td>E</td>\n",
       "      <td>SI1</td>\n",
       "      <td>59.8</td>\n",
       "      <td>61.0</td>\n",
       "      <td>327</td>\n",
       "      <td>3.89</td>\n",
       "      <td>3.84</td>\n",
       "      <td>2.31</td>\n",
       "    </tr>\n",
       "    <tr>\n",
       "      <th>2</th>\n",
       "      <td>3</td>\n",
       "      <td>0.23</td>\n",
       "      <td>2</td>\n",
       "      <td>E</td>\n",
       "      <td>VS1</td>\n",
       "      <td>56.9</td>\n",
       "      <td>65.0</td>\n",
       "      <td>328</td>\n",
       "      <td>4.05</td>\n",
       "      <td>4.07</td>\n",
       "      <td>2.31</td>\n",
       "    </tr>\n",
       "    <tr>\n",
       "      <th>3</th>\n",
       "      <td>4</td>\n",
       "      <td>0.29</td>\n",
       "      <td>4</td>\n",
       "      <td>I</td>\n",
       "      <td>VS2</td>\n",
       "      <td>62.4</td>\n",
       "      <td>58.0</td>\n",
       "      <td>337</td>\n",
       "      <td>4.20</td>\n",
       "      <td>4.23</td>\n",
       "      <td>2.63</td>\n",
       "    </tr>\n",
       "    <tr>\n",
       "      <th>4</th>\n",
       "      <td>5</td>\n",
       "      <td>0.31</td>\n",
       "      <td>2</td>\n",
       "      <td>J</td>\n",
       "      <td>SI2</td>\n",
       "      <td>63.3</td>\n",
       "      <td>58.0</td>\n",
       "      <td>338</td>\n",
       "      <td>4.34</td>\n",
       "      <td>4.35</td>\n",
       "      <td>2.75</td>\n",
       "    </tr>\n",
       "  </tbody>\n",
       "</table>\n",
       "</div>"
      ],
      "text/plain": [
       "   Unnamed: 0  carat cut color clarity  depth  table  price     x     y     z\n",
       "0           1   0.23   5     E     SI2   61.5   55.0    330  3.95  3.98  2.43\n",
       "1           2   0.21   4     E     SI1   59.8   61.0    327  3.89  3.84  2.31\n",
       "2           3   0.23   2     E     VS1   56.9   65.0    328  4.05  4.07  2.31\n",
       "3           4   0.29   4     I     VS2   62.4   58.0    337  4.20  4.23  2.63\n",
       "4           5   0.31   2     J     SI2   63.3   58.0    338  4.34  4.35  2.75"
      ]
     },
     "execution_count": 24,
     "metadata": {},
     "output_type": "execute_result"
    }
   ],
   "source": [
    "df_data_1.head()"
   ]
  },
  {
   "cell_type": "code",
   "execution_count": 25,
   "id": "52d737c1",
   "metadata": {},
   "outputs": [
    {
     "name": "stderr",
     "output_type": "stream",
     "text": [
      "/var/folders/g2/25bsk6jn695bt7xl4cfbjw5h0000gq/T/ipykernel_70336/649154061.py:29: SettingWithCopyWarning: \n",
      "A value is trying to be set on a copy of a slice from a DataFrame\n",
      "\n",
      "See the caveats in the documentation: https://pandas.pydata.org/pandas-docs/stable/user_guide/indexing.html#returning-a-view-versus-a-copy\n",
      "  data[i] = 6\n",
      "/var/folders/g2/25bsk6jn695bt7xl4cfbjw5h0000gq/T/ipykernel_70336/649154061.py:21: SettingWithCopyWarning: \n",
      "A value is trying to be set on a copy of a slice from a DataFrame\n",
      "\n",
      "See the caveats in the documentation: https://pandas.pydata.org/pandas-docs/stable/user_guide/indexing.html#returning-a-view-versus-a-copy\n",
      "  data[i] = 2\n",
      "/var/folders/g2/25bsk6jn695bt7xl4cfbjw5h0000gq/T/ipykernel_70336/649154061.py:19: SettingWithCopyWarning: \n",
      "A value is trying to be set on a copy of a slice from a DataFrame\n",
      "\n",
      "See the caveats in the documentation: https://pandas.pydata.org/pandas-docs/stable/user_guide/indexing.html#returning-a-view-versus-a-copy\n",
      "  data[i] = 1\n",
      "/var/folders/g2/25bsk6jn695bt7xl4cfbjw5h0000gq/T/ipykernel_70336/649154061.py:23: SettingWithCopyWarning: \n",
      "A value is trying to be set on a copy of a slice from a DataFrame\n",
      "\n",
      "See the caveats in the documentation: https://pandas.pydata.org/pandas-docs/stable/user_guide/indexing.html#returning-a-view-versus-a-copy\n",
      "  data[i] = 3\n",
      "/var/folders/g2/25bsk6jn695bt7xl4cfbjw5h0000gq/T/ipykernel_70336/649154061.py:27: SettingWithCopyWarning: \n",
      "A value is trying to be set on a copy of a slice from a DataFrame\n",
      "\n",
      "See the caveats in the documentation: https://pandas.pydata.org/pandas-docs/stable/user_guide/indexing.html#returning-a-view-versus-a-copy\n",
      "  data[i] = 5\n",
      "/var/folders/g2/25bsk6jn695bt7xl4cfbjw5h0000gq/T/ipykernel_70336/649154061.py:25: SettingWithCopyWarning: \n",
      "A value is trying to be set on a copy of a slice from a DataFrame\n",
      "\n",
      "See the caveats in the documentation: https://pandas.pydata.org/pandas-docs/stable/user_guide/indexing.html#returning-a-view-versus-a-copy\n",
      "  data[i] = 4\n",
      "/var/folders/g2/25bsk6jn695bt7xl4cfbjw5h0000gq/T/ipykernel_70336/649154061.py:31: SettingWithCopyWarning: \n",
      "A value is trying to be set on a copy of a slice from a DataFrame\n",
      "\n",
      "See the caveats in the documentation: https://pandas.pydata.org/pandas-docs/stable/user_guide/indexing.html#returning-a-view-versus-a-copy\n",
      "  data[i] = 7\n"
     ]
    }
   ],
   "source": [
    "df_data_2 = color_to_categ(df_data_1)"
   ]
  },
  {
   "cell_type": "code",
   "execution_count": 26,
   "id": "394fa37b",
   "metadata": {},
   "outputs": [
    {
     "data": {
      "text/html": [
       "<div>\n",
       "<style scoped>\n",
       "    .dataframe tbody tr th:only-of-type {\n",
       "        vertical-align: middle;\n",
       "    }\n",
       "\n",
       "    .dataframe tbody tr th {\n",
       "        vertical-align: top;\n",
       "    }\n",
       "\n",
       "    .dataframe thead th {\n",
       "        text-align: right;\n",
       "    }\n",
       "</style>\n",
       "<table border=\"1\" class=\"dataframe\">\n",
       "  <thead>\n",
       "    <tr style=\"text-align: right;\">\n",
       "      <th></th>\n",
       "      <th>Unnamed: 0</th>\n",
       "      <th>carat</th>\n",
       "      <th>cut</th>\n",
       "      <th>color</th>\n",
       "      <th>clarity</th>\n",
       "      <th>depth</th>\n",
       "      <th>table</th>\n",
       "      <th>price</th>\n",
       "      <th>x</th>\n",
       "      <th>y</th>\n",
       "      <th>z</th>\n",
       "    </tr>\n",
       "  </thead>\n",
       "  <tbody>\n",
       "    <tr>\n",
       "      <th>0</th>\n",
       "      <td>1</td>\n",
       "      <td>0.23</td>\n",
       "      <td>5</td>\n",
       "      <td>6</td>\n",
       "      <td>SI2</td>\n",
       "      <td>61.5</td>\n",
       "      <td>55.0</td>\n",
       "      <td>330</td>\n",
       "      <td>3.95</td>\n",
       "      <td>3.98</td>\n",
       "      <td>2.43</td>\n",
       "    </tr>\n",
       "    <tr>\n",
       "      <th>1</th>\n",
       "      <td>2</td>\n",
       "      <td>0.21</td>\n",
       "      <td>4</td>\n",
       "      <td>6</td>\n",
       "      <td>SI1</td>\n",
       "      <td>59.8</td>\n",
       "      <td>61.0</td>\n",
       "      <td>327</td>\n",
       "      <td>3.89</td>\n",
       "      <td>3.84</td>\n",
       "      <td>2.31</td>\n",
       "    </tr>\n",
       "    <tr>\n",
       "      <th>2</th>\n",
       "      <td>3</td>\n",
       "      <td>0.23</td>\n",
       "      <td>2</td>\n",
       "      <td>6</td>\n",
       "      <td>VS1</td>\n",
       "      <td>56.9</td>\n",
       "      <td>65.0</td>\n",
       "      <td>328</td>\n",
       "      <td>4.05</td>\n",
       "      <td>4.07</td>\n",
       "      <td>2.31</td>\n",
       "    </tr>\n",
       "    <tr>\n",
       "      <th>3</th>\n",
       "      <td>4</td>\n",
       "      <td>0.29</td>\n",
       "      <td>4</td>\n",
       "      <td>2</td>\n",
       "      <td>VS2</td>\n",
       "      <td>62.4</td>\n",
       "      <td>58.0</td>\n",
       "      <td>337</td>\n",
       "      <td>4.20</td>\n",
       "      <td>4.23</td>\n",
       "      <td>2.63</td>\n",
       "    </tr>\n",
       "    <tr>\n",
       "      <th>4</th>\n",
       "      <td>5</td>\n",
       "      <td>0.31</td>\n",
       "      <td>2</td>\n",
       "      <td>1</td>\n",
       "      <td>SI2</td>\n",
       "      <td>63.3</td>\n",
       "      <td>58.0</td>\n",
       "      <td>338</td>\n",
       "      <td>4.34</td>\n",
       "      <td>4.35</td>\n",
       "      <td>2.75</td>\n",
       "    </tr>\n",
       "  </tbody>\n",
       "</table>\n",
       "</div>"
      ],
      "text/plain": [
       "   Unnamed: 0  carat cut color clarity  depth  table  price     x     y     z\n",
       "0           1   0.23   5     6     SI2   61.5   55.0    330  3.95  3.98  2.43\n",
       "1           2   0.21   4     6     SI1   59.8   61.0    327  3.89  3.84  2.31\n",
       "2           3   0.23   2     6     VS1   56.9   65.0    328  4.05  4.07  2.31\n",
       "3           4   0.29   4     2     VS2   62.4   58.0    337  4.20  4.23  2.63\n",
       "4           5   0.31   2     1     SI2   63.3   58.0    338  4.34  4.35  2.75"
      ]
     },
     "execution_count": 26,
     "metadata": {},
     "output_type": "execute_result"
    }
   ],
   "source": [
    "df_data_2.head()"
   ]
  },
  {
   "cell_type": "code",
   "execution_count": 27,
   "id": "524fb53a",
   "metadata": {},
   "outputs": [
    {
     "name": "stderr",
     "output_type": "stream",
     "text": [
      "/var/folders/g2/25bsk6jn695bt7xl4cfbjw5h0000gq/T/ipykernel_70336/649154061.py:41: SettingWithCopyWarning: \n",
      "A value is trying to be set on a copy of a slice from a DataFrame\n",
      "\n",
      "See the caveats in the documentation: https://pandas.pydata.org/pandas-docs/stable/user_guide/indexing.html#returning-a-view-versus-a-copy\n",
      "  data[i] = 2\n",
      "/var/folders/g2/25bsk6jn695bt7xl4cfbjw5h0000gq/T/ipykernel_70336/649154061.py:43: SettingWithCopyWarning: \n",
      "A value is trying to be set on a copy of a slice from a DataFrame\n",
      "\n",
      "See the caveats in the documentation: https://pandas.pydata.org/pandas-docs/stable/user_guide/indexing.html#returning-a-view-versus-a-copy\n",
      "  data[i] = 3\n",
      "/var/folders/g2/25bsk6jn695bt7xl4cfbjw5h0000gq/T/ipykernel_70336/649154061.py:47: SettingWithCopyWarning: \n",
      "A value is trying to be set on a copy of a slice from a DataFrame\n",
      "\n",
      "See the caveats in the documentation: https://pandas.pydata.org/pandas-docs/stable/user_guide/indexing.html#returning-a-view-versus-a-copy\n",
      "  data[i] = 5\n",
      "/var/folders/g2/25bsk6jn695bt7xl4cfbjw5h0000gq/T/ipykernel_70336/649154061.py:45: SettingWithCopyWarning: \n",
      "A value is trying to be set on a copy of a slice from a DataFrame\n",
      "\n",
      "See the caveats in the documentation: https://pandas.pydata.org/pandas-docs/stable/user_guide/indexing.html#returning-a-view-versus-a-copy\n",
      "  data[i] = 4\n",
      "/var/folders/g2/25bsk6jn695bt7xl4cfbjw5h0000gq/T/ipykernel_70336/649154061.py:49: SettingWithCopyWarning: \n",
      "A value is trying to be set on a copy of a slice from a DataFrame\n",
      "\n",
      "See the caveats in the documentation: https://pandas.pydata.org/pandas-docs/stable/user_guide/indexing.html#returning-a-view-versus-a-copy\n",
      "  data[i] = 6\n",
      "/var/folders/g2/25bsk6jn695bt7xl4cfbjw5h0000gq/T/ipykernel_70336/649154061.py:51: SettingWithCopyWarning: \n",
      "A value is trying to be set on a copy of a slice from a DataFrame\n",
      "\n",
      "See the caveats in the documentation: https://pandas.pydata.org/pandas-docs/stable/user_guide/indexing.html#returning-a-view-versus-a-copy\n",
      "  data[i] = 7\n",
      "/var/folders/g2/25bsk6jn695bt7xl4cfbjw5h0000gq/T/ipykernel_70336/649154061.py:39: SettingWithCopyWarning: \n",
      "A value is trying to be set on a copy of a slice from a DataFrame\n",
      "\n",
      "See the caveats in the documentation: https://pandas.pydata.org/pandas-docs/stable/user_guide/indexing.html#returning-a-view-versus-a-copy\n",
      "  data[i] = 1\n",
      "/var/folders/g2/25bsk6jn695bt7xl4cfbjw5h0000gq/T/ipykernel_70336/649154061.py:53: SettingWithCopyWarning: \n",
      "A value is trying to be set on a copy of a slice from a DataFrame\n",
      "\n",
      "See the caveats in the documentation: https://pandas.pydata.org/pandas-docs/stable/user_guide/indexing.html#returning-a-view-versus-a-copy\n",
      "  data[i] = 8\n"
     ]
    }
   ],
   "source": [
    "df_data_3 = clarity_to_categ(df_data_2)"
   ]
  },
  {
   "cell_type": "code",
   "execution_count": 28,
   "id": "0c8b5a87",
   "metadata": {
    "scrolled": true
   },
   "outputs": [
    {
     "data": {
      "text/html": [
       "<div>\n",
       "<style scoped>\n",
       "    .dataframe tbody tr th:only-of-type {\n",
       "        vertical-align: middle;\n",
       "    }\n",
       "\n",
       "    .dataframe tbody tr th {\n",
       "        vertical-align: top;\n",
       "    }\n",
       "\n",
       "    .dataframe thead th {\n",
       "        text-align: right;\n",
       "    }\n",
       "</style>\n",
       "<table border=\"1\" class=\"dataframe\">\n",
       "  <thead>\n",
       "    <tr style=\"text-align: right;\">\n",
       "      <th></th>\n",
       "      <th>Unnamed: 0</th>\n",
       "      <th>carat</th>\n",
       "      <th>cut</th>\n",
       "      <th>color</th>\n",
       "      <th>clarity</th>\n",
       "      <th>depth</th>\n",
       "      <th>table</th>\n",
       "      <th>price</th>\n",
       "      <th>x</th>\n",
       "      <th>y</th>\n",
       "      <th>z</th>\n",
       "    </tr>\n",
       "  </thead>\n",
       "  <tbody>\n",
       "    <tr>\n",
       "      <th>0</th>\n",
       "      <td>1</td>\n",
       "      <td>0.23</td>\n",
       "      <td>5</td>\n",
       "      <td>6</td>\n",
       "      <td>2</td>\n",
       "      <td>61.5</td>\n",
       "      <td>55.0</td>\n",
       "      <td>330</td>\n",
       "      <td>3.95</td>\n",
       "      <td>3.98</td>\n",
       "      <td>2.43</td>\n",
       "    </tr>\n",
       "    <tr>\n",
       "      <th>1</th>\n",
       "      <td>2</td>\n",
       "      <td>0.21</td>\n",
       "      <td>4</td>\n",
       "      <td>6</td>\n",
       "      <td>3</td>\n",
       "      <td>59.8</td>\n",
       "      <td>61.0</td>\n",
       "      <td>327</td>\n",
       "      <td>3.89</td>\n",
       "      <td>3.84</td>\n",
       "      <td>2.31</td>\n",
       "    </tr>\n",
       "    <tr>\n",
       "      <th>2</th>\n",
       "      <td>3</td>\n",
       "      <td>0.23</td>\n",
       "      <td>2</td>\n",
       "      <td>6</td>\n",
       "      <td>5</td>\n",
       "      <td>56.9</td>\n",
       "      <td>65.0</td>\n",
       "      <td>328</td>\n",
       "      <td>4.05</td>\n",
       "      <td>4.07</td>\n",
       "      <td>2.31</td>\n",
       "    </tr>\n",
       "    <tr>\n",
       "      <th>3</th>\n",
       "      <td>4</td>\n",
       "      <td>0.29</td>\n",
       "      <td>4</td>\n",
       "      <td>2</td>\n",
       "      <td>4</td>\n",
       "      <td>62.4</td>\n",
       "      <td>58.0</td>\n",
       "      <td>337</td>\n",
       "      <td>4.20</td>\n",
       "      <td>4.23</td>\n",
       "      <td>2.63</td>\n",
       "    </tr>\n",
       "    <tr>\n",
       "      <th>4</th>\n",
       "      <td>5</td>\n",
       "      <td>0.31</td>\n",
       "      <td>2</td>\n",
       "      <td>1</td>\n",
       "      <td>2</td>\n",
       "      <td>63.3</td>\n",
       "      <td>58.0</td>\n",
       "      <td>338</td>\n",
       "      <td>4.34</td>\n",
       "      <td>4.35</td>\n",
       "      <td>2.75</td>\n",
       "    </tr>\n",
       "  </tbody>\n",
       "</table>\n",
       "</div>"
      ],
      "text/plain": [
       "   Unnamed: 0  carat cut color clarity  depth  table  price     x     y     z\n",
       "0           1   0.23   5     6       2   61.5   55.0    330  3.95  3.98  2.43\n",
       "1           2   0.21   4     6       3   59.8   61.0    327  3.89  3.84  2.31\n",
       "2           3   0.23   2     6       5   56.9   65.0    328  4.05  4.07  2.31\n",
       "3           4   0.29   4     2       4   62.4   58.0    337  4.20  4.23  2.63\n",
       "4           5   0.31   2     1       2   63.3   58.0    338  4.34  4.35  2.75"
      ]
     },
     "execution_count": 28,
     "metadata": {},
     "output_type": "execute_result"
    }
   ],
   "source": [
    "df_data_3.head()"
   ]
  },
  {
   "cell_type": "code",
   "execution_count": 29,
   "id": "8a47d832",
   "metadata": {},
   "outputs": [],
   "source": [
    "df_data_3.to_csv('preprocess_diamonds.csv')"
   ]
  },
  {
   "cell_type": "markdown",
   "id": "74124c94",
   "metadata": {},
   "source": [
    "## 3.1.2 Standardization (Questions 1)"
   ]
  },
  {
   "cell_type": "markdown",
   "id": "4fc1e11d",
   "metadata": {},
   "source": [
    "## Question 2"
   ]
  },
  {
   "cell_type": "code",
   "execution_count": 53,
   "id": "2975a6a4",
   "metadata": {},
   "outputs": [],
   "source": [
    "df_data_3['cut'] = pd.to_numeric(df_data_3['cut'])\n",
    "df_data_3['color'] = pd.to_numeric(df_data_3['color'])\n",
    "df_data_3['clarity'] = pd.to_numeric(df_data_3['clarity'])"
   ]
  },
  {
   "cell_type": "code",
   "execution_count": 54,
   "id": "f6b5a1e4",
   "metadata": {},
   "outputs": [
    {
     "name": "stdout",
     "output_type": "stream",
     "text": [
      "['clarity', 'carat', 'cut', 'depth', 'color', 'price', 'table']\n"
     ]
    }
   ],
   "source": [
    "feature_columns = list(df_data_3.columns)\n",
    "feature_columns = list(set(feature_columns) - set(['Unnamed: 0','x','y','z']))\n",
    "print(feature_columns)"
   ]
  },
  {
   "cell_type": "code",
   "execution_count": 57,
   "id": "b4f1ff42",
   "metadata": {},
   "outputs": [
    {
     "name": "stdout",
     "output_type": "stream",
     "text": [
      "Correlation Matrix Heatmap:\n"
     ]
    },
    {
     "data": {
      "text/plain": [
       "<AxesSubplot:>"
      ]
     },
     "execution_count": 57,
     "metadata": {},
     "output_type": "execute_result"
    },
    {
     "data": {
      "image/png": "[encoded data removed]",
      "text/plain": [
       "<Figure size 432x288 with 2 Axes>"
      ]
     },
     "metadata": {
      "needs_background": "light"
     },
     "output_type": "display_data"
    }
   ],
   "source": [
    "import seaborn as sns\n",
    "print('Correlation Matrix Heatmap:')\n",
    "sns.heatmap(df_data_3[feature_columns].corr(), annot = True, fmt='.2g',cmap= 'coolwarm')"
   ]
  },
  {
   "cell_type": "code",
   "execution_count": 65,
   "id": "38bf9f93",
   "metadata": {},
   "outputs": [
    {
     "name": "stdout",
     "output_type": "stream",
     "text": [
      "clarity   -0.146802\n",
      "carat      0.921591\n",
      "cut       -0.053493\n",
      "depth     -0.010648\n",
      "color     -0.172509\n",
      "price      1.000000\n",
      "table      0.127134\n",
      "Name: price, dtype: float64\n",
      "The high correlation is: Carat 0.9215914337868304\n"
     ]
    }
   ],
   "source": [
    "CM = df_data_3[feature_columns].corr()\n",
    "print(CM['price'])\n",
    "print('The high correlation is: Carat', CM['price']['carat'])"
   ]
  },
  {
   "cell_type": "markdown",
   "id": "33a29d19",
   "metadata": {},
   "source": [
    "## Question 3"
   ]
  },
  {
   "cell_type": "code",
   "execution_count": 70,
   "id": "e401288d",
   "metadata": {},
   "outputs": [],
   "source": [
    "import matplotlib.pyplot as plt\n",
    "import numpy as np"
   ]
  },
  {
   "cell_type": "code",
   "execution_count": 158,
   "id": "d93be810",
   "metadata": {},
   "outputs": [],
   "source": [
    "def plot_hist(title_name,data,bin_num):\n",
    "    n, bins, patches = plt.hist(data, density=False, bins=bin_num)  # density=False would make counts\n",
    "    plt.xlabel('Value')\n",
    "    plt.ylabel('Frequency')\n",
    "    plt.title(title_name)\n",
    "    plt.grid(axis='y', alpha=0.75)\n",
    "    plt.grid(axis='x', alpha=0.75,linestyle='-.')\n",
    "    plt.xlabel('Data')\n",
    "    maxfreq = n.max()\n",
    "    print('max value:',maxfreq)\n",
    "    # print(bins.mean())"
   ]
  },
  {
   "cell_type": "code",
   "execution_count": 198,
   "id": "4817d6bf",
   "metadata": {},
   "outputs": [],
   "source": [
    "def sns_hist(title_name,data,bin_num):\n",
    "    ax = sns.distplot(data,kde = False,bins=bin_num)\n",
    "    ax.set_title(title_name)\n",
    "    ax.set_xlabel('Data')\n",
    "    ax.set_ylabel('Frequency')\n",
    "    plt.grid(axis='y', alpha=0.75,linestyle='-.')"
   ]
  },
  {
   "cell_type": "markdown",
   "id": "78b83a34",
   "metadata": {},
   "source": [
    "### Cut histogram"
   ]
  },
  {
   "cell_type": "code",
   "execution_count": 188,
   "id": "92dcbb7e",
   "metadata": {},
   "outputs": [
    {
     "name": "stdout",
     "output_type": "stream",
     "text": [
      "max value: 13065.0\n"
     ]
    },
    {
     "data": {
      "image/png": "[encoded data removed]",
      "text/plain": [
       "<Figure size 432x288 with 1 Axes>"
      ]
     },
     "metadata": {
      "needs_background": "light"
     },
     "output_type": "display_data"
    }
   ],
   "source": [
    "title_name = 'Clarity histogram'\n",
    "data = df_data_3['clarity']\n",
    "bin_num = len(list(set(data))) * 2\n",
    "plot_hist(title_name,data,bin_num)"
   ]
  },
  {
   "cell_type": "code",
   "execution_count": 199,
   "id": "8bb01580",
   "metadata": {},
   "outputs": [
    {
     "data": {
      "image/png": "[encoded data removed]",
      "text/plain": [
       "<Figure size 432x288 with 1 Axes>"
      ]
     },
     "metadata": {
      "needs_background": "light"
     },
     "output_type": "display_data"
    }
   ],
   "source": [
    "sns_hist(title_name,data,bin_num)"
   ]
  },
  {
   "cell_type": "code",
   "execution_count": 137,
   "id": "aee86004",
   "metadata": {},
   "outputs": [
    {
     "name": "stdout",
     "output_type": "stream",
     "text": [
      "Counter({3: 13065, 4: 12258, 2: 9194, 5: 8171, 6: 5066, 7: 3655, 8: 1790, 1: 741})\n"
     ]
    }
   ],
   "source": [
    "from collections import Counter\n",
    "count=Counter(data)\n",
    "print(count)"
   ]
  },
  {
   "cell_type": "markdown",
   "id": "14d52968",
   "metadata": {},
   "source": [
    "### Cut histogram"
   ]
  },
  {
   "cell_type": "code",
   "execution_count": 218,
   "id": "22f1e4a0",
   "metadata": {},
   "outputs": [
    {
     "data": {
      "image/png": "[encoded data removed]",
      "text/plain": [
       "<Figure size 432x288 with 1 Axes>"
      ]
     },
     "metadata": {
      "needs_background": "light"
     },
     "output_type": "display_data"
    }
   ],
   "source": [
    "title_name = 'Cut histogram'\n",
    "data = df_data_3['cut']\n",
    "bin_num = len(list(set(data))) * 2\n",
    "sns_hist(title_name,data,bin_num)"
   ]
  },
  {
   "cell_type": "markdown",
   "id": "b1386a0d",
   "metadata": {},
   "source": [
    "### Color histogram"
   ]
  },
  {
   "cell_type": "code",
   "execution_count": 217,
   "id": "3563e630",
   "metadata": {},
   "outputs": [
    {
     "data": {
      "image/png": "[encoded data removed]",
      "text/plain": [
       "<Figure size 432x288 with 1 Axes>"
      ]
     },
     "metadata": {
      "needs_background": "light"
     },
     "output_type": "display_data"
    }
   ],
   "source": [
    "title_name = 'Color histogram'\n",
    "data = df_data_3['color']\n",
    "bin_num = len(list(set(data))) * 2\n",
    "sns_hist(title_name,data,bin_num)"
   ]
  },
  {
   "cell_type": "markdown",
   "id": "1a7dc815",
   "metadata": {},
   "source": [
    "### Carat histogram"
   ]
  },
  {
   "cell_type": "code",
   "execution_count": 216,
   "id": "5b7d4f76",
   "metadata": {},
   "outputs": [
    {
     "data": {
      "image/png": "[encoded data removed]",
      "text/plain": [
       "<Figure size 432x288 with 1 Axes>"
      ]
     },
     "metadata": {
      "needs_background": "light"
     },
     "output_type": "display_data"
    }
   ],
   "source": [
    "title_name = 'Carat histogram'\n",
    "data = df_data_3['carat']\n",
    "bin_num = int(len(list(set(data))) / 10)\n",
    "sns_hist(title_name,data,bin_num)"
   ]
  },
  {
   "cell_type": "markdown",
   "id": "3f0c31cb",
   "metadata": {},
   "source": [
    "### Depth histogram"
   ]
  },
  {
   "cell_type": "code",
   "execution_count": 203,
   "id": "dabb9b70",
   "metadata": {},
   "outputs": [
    {
     "data": {
      "image/png": "[encoded data removed]",
      "text/plain": [
       "<Figure size 432x288 with 1 Axes>"
      ]
     },
     "metadata": {
      "needs_background": "light"
     },
     "output_type": "display_data"
    }
   ],
   "source": [
    "title_name = 'Depth histogram'\n",
    "data = df_data_3['depth']\n",
    "bin_num = int(len(list(set(data))) /2)\n",
    "sns_hist(title_name,data,bin_num)"
   ]
  },
  {
   "cell_type": "markdown",
   "id": "6a3559f3",
   "metadata": {},
   "source": [
    "### Table histogram"
   ]
  },
  {
   "cell_type": "code",
   "execution_count": 208,
   "id": "635143e9",
   "metadata": {},
   "outputs": [
    {
     "data": {
      "image/png": "[encoded data removed]",
      "text/plain": [
       "<Figure size 432x288 with 1 Axes>"
      ]
     },
     "metadata": {
      "needs_background": "light"
     },
     "output_type": "display_data"
    }
   ],
   "source": [
    "title_name = 'Table histogram'\n",
    "data = df_data_3['table']\n",
    "bin_num = int(len(list(set(data)))/3)\n",
    "sns_hist(title_name,data,bin_num)"
   ]
  },
  {
   "cell_type": "markdown",
   "id": "1b1c8f78",
   "metadata": {},
   "source": [
    "### Price histogram"
   ]
  },
  {
   "cell_type": "code",
   "execution_count": 221,
   "id": "b85b17eb",
   "metadata": {},
   "outputs": [
    {
     "data": {
      "image/png": "[encoded data removed]",
      "text/plain": [
       "<Figure size 432x288 with 1 Axes>"
      ]
     },
     "metadata": {
      "needs_background": "light"
     },
     "output_type": "display_data"
    }
   ],
   "source": [
    "title_name = 'Price histogram'\n",
    "data = df_data_3['price']\n",
    "bin_num = int(len(list(set(data)))/100)\n",
    "sns_hist(title_name,data,bin_num)"
   ]
  },
  {
   "cell_type": "markdown",
   "id": "8a4ef69d",
   "metadata": {},
   "source": [
    "## Question 4"
   ]
  },
  {
   "cell_type": "code",
   "execution_count": 268,
   "id": "f1dfad35",
   "metadata": {},
   "outputs": [
    {
     "data": {
      "text/plain": [
       "Text(0.5, 1.0, 'carat vs price')"
      ]
     },
     "execution_count": 268,
     "metadata": {},
     "output_type": "execute_result"
    },
    {
     "data": {
      "image/png": "[encoded data removed]",
      "text/plain": [
       "<Figure size 561.6x396.72 with 3 Axes>"
      ]
     },
     "metadata": {
      "needs_background": "light"
     },
     "output_type": "display_data"
    }
   ],
   "source": [
    "# this code is a little bit problematic \n",
    "feature = 'carat'\n",
    "target = 'price'\n",
    "title_name = feature + ' vs ' + target\n",
    "fig, ax1  = plt.subplots(figsize=(7.8, 5.51))\n",
    "\n",
    "fig.set_size_inches(7.8, 5.51)\n",
    "\n",
    "plt.ylim(0.0, 1.1)\n",
    "\n",
    "ax1 = fig.add_subplot(111)\n",
    "\n",
    "ax1 = sns.boxplot(ax=ax1, data=df_data_3[feature])\n",
    "\n",
    "ax2 = ax1.twinx()\n",
    "\n",
    "boxplot = sns.boxplot(ax=ax2, data=df_data_3[[feature,target]])\n",
    "\n",
    "plt.title(title_name)"
   ]
  },
  {
   "cell_type": "code",
   "execution_count": 275,
   "id": "bdb8b281",
   "metadata": {},
   "outputs": [],
   "source": [
    "def box_plot(feature,target,df_data):\n",
    "    fig, ax1  = plt.subplots(figsize=(7, 5))\n",
    "\n",
    "    #feature = 'carat'\n",
    "    #target = 'price'\n",
    "    title_name = feature + ' vs ' + target\n",
    "\n",
    "    props = dict(widths=0.8,patch_artist=True, medianprops=dict(color=\"gold\"))\n",
    "    box1=ax1.boxplot(df_data[feature], positions=[0], **props)\n",
    "\n",
    "    ax2 = ax1.twinx()\n",
    "    box2=ax2.boxplot(df_data[target],positions=[1], **props)\n",
    "\n",
    "    # ax1.set_xticks(range(len(df.columns)))\n",
    "    # ax1.set_xticklabels(df.columns)\n",
    "\n",
    "    for b in box1[\"boxes\"]+box2[\"boxes\"]:\n",
    "        b.set_facecolor(next(ax1._get_lines.prop_cycler)[\"color\"])\n",
    "    plt.title(title_name)\n",
    "    plt.show()"
   ]
  },
  {
   "cell_type": "code",
   "execution_count": 276,
   "id": "df220ce6",
   "metadata": {},
   "outputs": [
    {
     "data": {
      "image/png": "[encoded data removed]",
      "text/plain": [
       "<Figure size 504x360 with 2 Axes>"
      ]
     },
     "metadata": {
      "needs_background": "light"
     },
     "output_type": "display_data"
    }
   ],
   "source": [
    "box_plot('carat','price',df_data_3)"
   ]
  },
  {
   "cell_type": "code",
   "execution_count": 277,
   "id": "8d1f250c",
   "metadata": {},
   "outputs": [
    {
     "data": {
      "image/png": "[encoded data removed]",
      "text/plain": [
       "<Figure size 504x360 with 2 Axes>"
      ]
     },
     "metadata": {
      "needs_background": "light"
     },
     "output_type": "display_data"
    }
   ],
   "source": [
    "box_plot('color','price',df_data_3)"
   ]
  },
  {
   "cell_type": "code",
   "execution_count": 278,
   "id": "cbfa3f22",
   "metadata": {},
   "outputs": [
    {
     "data": {
      "image/png": "[encoded data removed]",
      "text/plain": [
       "<Figure size 504x360 with 2 Axes>"
      ]
     },
     "metadata": {
      "needs_background": "light"
     },
     "output_type": "display_data"
    }
   ],
   "source": [
    "box_plot('cut','price',df_data_3)"
   ]
  },
  {
   "cell_type": "code",
   "execution_count": 279,
   "id": "3a3b02bd",
   "metadata": {},
   "outputs": [
    {
     "data": {
      "image/png": "[encoded data removed]",
      "text/plain": [
       "<Figure size 504x360 with 2 Axes>"
      ]
     },
     "metadata": {
      "needs_background": "light"
     },
     "output_type": "display_data"
    }
   ],
   "source": [
    "box_plot('clarity','price',df_data_3)"
   ]
  },
  {
   "cell_type": "code",
   "execution_count": 280,
   "id": "001fb845",
   "metadata": {},
   "outputs": [
    {
     "data": {
      "image/png": "[encoded data removed]",
      "text/plain": [
       "<Figure size 504x360 with 2 Axes>"
      ]
     },
     "metadata": {
      "needs_background": "light"
     },
     "output_type": "display_data"
    }
   ],
   "source": [
    "box_plot('depth','price',df_data_3)"
   ]
  },
  {
   "cell_type": "code",
   "execution_count": 281,
   "id": "8a788244",
   "metadata": {},
   "outputs": [
    {
     "data": {
      "image/png": "[encoded data removed]",
      "text/plain": [
       "<Figure size 504x360 with 2 Axes>"
      ]
     },
     "metadata": {
      "needs_background": "light"
     },
     "output_type": "display_data"
    }
   ],
   "source": [
    "box_plot('table','price',df_data_3)"
   ]
  },
  {
   "cell_type": "markdown",
   "id": "07b6ae1f",
   "metadata": {},
   "source": [
    "## Question 5: plot the counts by color, cut and clarity"
   ]
  },
  {
   "cell_type": "code",
   "execution_count": 297,
   "id": "25078d8a",
   "metadata": {},
   "outputs": [],
   "source": [
    "def cout_plot(title_name,data_name,df_data):\n",
    "    data = df_data[data_name]\n",
    "    count = Counter(data)\n",
    "    \n",
    "    plt.bar(count.keys(),count.values())\n",
    "    plt.title(title_name)\n",
    "    plt.xlabel(data_name)\n",
    "    plt.ylabel('Conut numbers')\n",
    "    plt.grid(axis='y', alpha=0.75,linestyle='-.')"
   ]
  },
  {
   "cell_type": "markdown",
   "id": "e3a6f884",
   "metadata": {},
   "source": [
    "### cut count plot"
   ]
  },
  {
   "cell_type": "code",
   "execution_count": 300,
   "id": "c7b41afc",
   "metadata": {},
   "outputs": [
    {
     "data": {
      "image/png": "[encoded data removed]",
      "text/plain": [
       "<Figure size 432x288 with 1 Axes>"
      ]
     },
     "metadata": {
      "needs_background": "light"
     },
     "output_type": "display_data"
    }
   ],
   "source": [
    "title_name = 'Cut histogram'\n",
    "data_name = 'cut'\n",
    "cout_plot(title_name,data_name,df_data_3)"
   ]
  },
  {
   "cell_type": "markdown",
   "id": "3bc97c20",
   "metadata": {},
   "source": [
    "### Color count plot"
   ]
  },
  {
   "cell_type": "code",
   "execution_count": 301,
   "id": "d04a1fbf",
   "metadata": {},
   "outputs": [
    {
     "data": {
      "image/png": "[encoded data removed]",
      "text/plain": [
       "<Figure size 432x288 with 1 Axes>"
      ]
     },
     "metadata": {
      "needs_background": "light"
     },
     "output_type": "display_data"
    }
   ],
   "source": [
    "title_name = 'Color histogram'\n",
    "data_name = 'color'\n",
    "cout_plot(title_name,data_name,df_data_3)"
   ]
  },
  {
   "cell_type": "code",
   "execution_count": 302,
   "id": "0995728b",
   "metadata": {},
   "outputs": [
    {
     "data": {
      "image/png": "[encoded data removed]",
      "text/plain": [
       "<Figure size 432x288 with 1 Axes>"
      ]
     },
     "metadata": {
      "needs_background": "light"
     },
     "output_type": "display_data"
    }
   ],
   "source": [
    "title_name = 'Clarity histogram'\n",
    "data_name = 'clarity'\n",
    "cout_plot(title_name,data_name,df_data_3)"
   ]
  },
  {
   "cell_type": "markdown",
   "id": "e7083654",
   "metadata": {},
   "source": [
    "## Question 7"
   ]
  },
  {
   "cell_type": "code",
   "execution_count": 304,
   "id": "92928cb0",
   "metadata": {},
   "outputs": [
    {
     "name": "stdout",
     "output_type": "stream",
     "text": [
      "Requirement already satisfied: scikit-learn in /opt/anaconda3/envs/myCourse/lib/python3.9/site-packages (1.0.2)\n",
      "Requirement already satisfied: numpy>=1.14.6 in /opt/anaconda3/envs/myCourse/lib/python3.9/site-packages (from scikit-learn) (1.21.2)\n",
      "Requirement already satisfied: scipy>=1.1.0 in /opt/anaconda3/envs/myCourse/lib/python3.9/site-packages (from scikit-learn) (1.7.3)\n",
      "Requirement already satisfied: joblib>=0.11 in /opt/anaconda3/envs/myCourse/lib/python3.9/site-packages (from scikit-learn) (1.1.0)\n",
      "Requirement already satisfied: threadpoolctl>=2.0.0 in /opt/anaconda3/envs/myCourse/lib/python3.9/site-packages (from scikit-learn) (3.0.0)\n"
     ]
    }
   ],
   "source": [
    "!pip install scikit-learn"
   ]
  },
  {
   "cell_type": "code",
   "execution_count": 305,
   "id": "694e8065",
   "metadata": {},
   "outputs": [],
   "source": [
    "from sklearn.feature_selection import mutual_info_regression\n",
    "from sklearn.feature_selection import f_regression"
   ]
  },
  {
   "cell_type": "code",
   "execution_count": 309,
   "id": "c3308dbb",
   "metadata": {},
   "outputs": [
    {
     "name": "stdout",
     "output_type": "stream",
     "text": [
      "['clarity', 'carat', 'cut', 'depth', 'color', 'table']\n"
     ]
    }
   ],
   "source": [
    "feature_columns = list(df_data_3.columns)\n",
    "feature_columns = list(set(feature_columns) - set(['Unnamed: 0','x','y','z','price']))\n",
    "print(feature_columns)"
   ]
  },
  {
   "cell_type": "code",
   "execution_count": null,
   "id": "c6046523",
   "metadata": {},
   "outputs": [],
   "source": [
    "np.set_printoptions(suppress=True)"
   ]
  },
  {
   "cell_type": "code",
   "execution_count": 348,
   "id": "b6e709c2",
   "metadata": {},
   "outputs": [],
   "source": [
    "def sort_score(reg_score):\n",
    "    reg_dict = {}\n",
    "    for i in range(len(reg_score)):\n",
    "        reg_dict[feature_columns[i]] = reg_score[i]  \n",
    "    sorted_reg = dict(sorted(reg_dict.items(), key=lambda item: item[1]))    \n",
    "    return sorted_reg\n",
    "\n",
    "def feature_selection(feature_columns,df_data,target):\n",
    "    mu_reg_score = mutual_info_regression(df_data_3[feature_columns],df_data_3[target])\n",
    "    f_reg_score = f_regression(df_data_3[feature_columns],df_data_3[target])\n",
    "    \n",
    "    sorted_mu_reg = sort_score(mu_reg_score)\n",
    "    sorted_f_reg_1 = sort_score(f_reg_score[0]) # f-statistic for each feature\n",
    "    sorted_f_reg_2 = sort_score(f_reg_score[1]) # P - values\n",
    "    return sorted_mu_reg,sorted_f_reg_1,sorted_f_reg_2\n",
    "    "
   ]
  },
  {
   "cell_type": "code",
   "execution_count": 349,
   "id": "9cf8d201",
   "metadata": {},
   "outputs": [],
   "source": [
    "sorted_mu_reg,sorted_f_reg_f, sorted_f_reg_p= feature_selection(feature_columns,df_data_3,'price')"
   ]
  },
  {
   "cell_type": "code",
   "execution_count": 351,
   "id": "5b2fa43c",
   "metadata": {},
   "outputs": [
    {
     "name": "stdout",
     "output_type": "stream",
     "text": [
      "mutual_regression scorted scores:\n",
      "{'depth': 0.03206798641148456, 'table': 0.03395268542435881, 'cut': 0.05492469304174463, 'color': 0.13948062050880106, 'clarity': 0.21475976097419958, 'carat': 1.6507987679262106}\n",
      "______________________________\n",
      "f_regression scorted f-scores:\n",
      "{'depth': 6.115863462847932, 'cut': 154.78446752092603, 'table': 886.1193631731552, 'clarity': 1188.007064832709, 'color': 1654.4012442377589, 'carat': 304051.48661817226}\n",
      "____________________\n",
      "f_regression scorted p-scores:\n",
      "{'carat': 0.0, 'color': 0.0, 'clarity': 1.5717207638870312e-257, 'table': 3.7699631519791983e-193, 'cut': 1.746019328214254e-35, 'depth': 0.013400452961358124}\n"
     ]
    }
   ],
   "source": [
    "print('mutual_regression scorted scores:')\n",
    "print(sorted_mu_reg)\n",
    "print('_'*30)\n",
    "print('f_regression scorted f-scores:')\n",
    "print(sorted_f_reg_f)\n",
    "print('_'*20)\n",
    "print('f_regression scorted p-scores:')\n",
    "print(sorted_f_reg_p)"
   ]
  },
  {
   "cell_type": "markdown",
   "id": "85245bdc",
   "metadata": {},
   "source": [
    "Interms of the dependency, the top 4 features are:\n",
    "    - carat\n",
    "    - clarity\n",
    "    - color\n",
    "    - cut\n",
    "\n",
    "Feature selection is the process of reducing the number of input variables when developing a predictive model. It is desirable to reduce the number of input variables to both reduce the computational cost of modeling and, in some cases, to improve the performance of the model.\n",
    "\n",
    "If we consider all the features into our model, it will not only increase the time but also some noise feature will reduce the performance, which will make RMSE increase."
   ]
  },
  {
   "cell_type": "code",
   "execution_count": null,
   "id": "2575d1fc",
   "metadata": {},
   "outputs": [],
   "source": [
    "## Linear Regreassion "
   ]
  },
  {
   "cell_type": "code",
   "execution_count": null,
   "id": "bb15ad28",
   "metadata": {},
   "outputs": [],
   "source": []
  },
  {
   "cell_type": "code",
   "execution_count": 322,
   "id": "e69167b0",
   "metadata": {},
   "outputs": [],
   "source": []
  },
  {
   "cell_type": "code",
   "execution_count": null,
   "id": "b405da1d",
   "metadata": {},
   "outputs": [],
   "source": []
  }
 ],
 "metadata": {
  "kernelspec": {
   "display_name": "Python 3 (ipykernel)",
   "language": "python",
   "name": "python3"
  },
  "language_info": {
   "codemirror_mode": {
    "name": "ipython",
    "version": 3
   },
   "file_extension": ".py",
   "mimetype": "text/x-python",
   "name": "python",
   "nbconvert_exporter": "python",
   "pygments_lexer": "ipython3",
   "version": "3.9.7"
  }
 },
 "nbformat": 4,
 "nbformat_minor": 5
}
