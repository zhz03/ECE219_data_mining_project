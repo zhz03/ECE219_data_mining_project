{
 "cells": [
  {
   "cell_type": "code",
   "execution_count": 1,
   "metadata": {},
   "outputs": [],
   "source": [
    "import numpy as np\n",
    "import pandas as pd\n",
    "from collections import defaultdict\n",
    "import matplotlib.pyplot as plt\n",
    "from sklearn.feature_extraction.text import CountVectorizer\n",
    "from sklearn.feature_extraction import text\n",
    "from sklearn.feature_extraction.text import TfidfTransformer\n",
    "from sklearn.cluster import KMeans\n",
    "from time import time\n",
    "from sklearn import metrics\n",
    "from sklearn.metrics.cluster import contingency_matrix, homogeneity_score, completeness_score, adjusted_rand_score, adjusted_mutual_info_score, v_measure_score\n",
    "from sklearn.metrics.cluster import contingency_matrix"
   ]
  },
  {
   "cell_type": "code",
   "execution_count": 3,
   "metadata": {},
   "outputs": [
    {
     "name": "stdout",
     "output_type": "stream",
     "text": [
      "Columns of ratings_df: Index(['Unnamed: 0', 'userId', 'movieId', 'rating', 'timestamp'], dtype='object')\n"
     ]
    }
   ],
   "source": [
    "ratings_df = pd.read_csv('Synthetic_Movie_Lens/ratings.csv')  \n",
    "print('Columns of ratings_df: {0}'.format(ratings_df.columns))"
   ]
  },
  {
   "cell_type": "code",
   "execution_count": 4,
   "metadata": {},
   "outputs": [
    {
     "name": "stdout",
     "output_type": "stream",
     "text": [
      "Columns of movies_df: Index(['movieId', 'title', 'genres'], dtype='object')\n"
     ]
    }
   ],
   "source": [
    "#movies df (tidy data)\n",
    "movies_df = pd.read_csv('Synthetic_Movie_Lens/movies.csv')\n",
    "print('Columns of movies_df: {0}'.format(movies_df.columns))"
   ]
  },
  {
   "cell_type": "code",
   "execution_count": 24,
   "metadata": {},
   "outputs": [
    {
     "data": {
      "text/plain": [
       "951"
      ]
     },
     "execution_count": 24,
     "metadata": {},
     "output_type": "execute_result"
    }
   ],
   "source": [
    "movies_df['genres'].nunique()"
   ]
  },
  {
   "cell_type": "code",
   "execution_count": 12,
   "metadata": {},
   "outputs": [],
   "source": [
    "from surprise import BaselineOnly\n",
    "from surprise import Dataset\n",
    "from surprise import Reader\n",
    "from surprise.model_selection import cross_validate\n",
    "from surprise.model_selection import KFold\n",
    "from surprise import NMF\n",
    "from surprise.accuracy import rmse\n",
    "import pickle"
   ]
  },
  {
   "cell_type": "code",
   "execution_count": 6,
   "metadata": {},
   "outputs": [],
   "source": [
    "reader = Reader(rating_scale=(1, 5))\n",
    "data = Dataset.load_from_df(ratings_df[['userId', 'movieId', 'rating']], reader)"
   ]
  },
  {
   "cell_type": "code",
   "execution_count": 7,
   "metadata": {},
   "outputs": [],
   "source": [
    "def get_top_n(predictions, userId, movies_df, ratings_df, n = 10):\n",
    "    '''Return the top N (default) movieId for a user,.i.e. userID and history for comparisom\n",
    "    Args:\n",
    "    Returns: \n",
    "  \n",
    "    '''\n",
    "    \n",
    "    #1. First map the predictions to each user.\n",
    "    top_n = defaultdict(list)\n",
    "    for uid, iid, true_r, est, _ in predictions:\n",
    "        top_n[uid].append((iid, est))\n",
    "\n",
    "    #2. Then sort the predictions for each user and retrieve the k highest ones.\n",
    "    for uid, user_ratings in top_n.items():\n",
    "        user_ratings.sort(key = lambda x: x[1], reverse = True)\n",
    "        top_n[uid] = user_ratings[: n ]\n",
    "    \n",
    "    #Part II.: inspired by: https://beckernick.github.io/matrix-factorization-recommender/\n",
    "    \n",
    "    #3. Tells how many movies the user has already rated\n",
    "    user_data = ratings_df[ratings_df.userId == (userId)]\n",
    "    print('User {0} has already rated {1} movies.'.format(userId, user_data.shape[0]))\n",
    "\n",
    "    \n",
    "    #4. Data Frame with predictions. \n",
    "    preds_df = pd.DataFrame([(id, pair[0],pair[1]) for id, row in top_n.items() for pair in row],\n",
    "                        columns=[\"userId\" ,\"movieId\",\"rat_pred\"])\n",
    "    \n",
    "    \n",
    "    #5. Return pred_usr, i.e. top N recommended movies with (merged) titles and genres. \n",
    "    pred_usr = preds_df[preds_df[\"userId\"] == (userId)].merge(movies_df, how = 'left', left_on = 'movieId', right_on = 'movieId')\n",
    "            \n",
    "    #6. Return hist_usr, i.e. top N historically rated movies with (merged) titles and genres for holistic evaluation\n",
    "    hist_usr = ratings_df[ratings_df.userId == (userId) ].sort_values(\"rating\", ascending = False).merge\\\n",
    "    (movies_df, how = 'left', left_on = 'movieId', right_on = 'movieId')\n",
    "       \n",
    "    return hist_usr, pred_usr\n",
    "    "
   ]
  },
  {
   "cell_type": "markdown",
   "metadata": {},
   "source": [
    "## NMF Collaborative Filter "
   ]
  },
  {
   "cell_type": "code",
   "execution_count": 8,
   "metadata": {},
   "outputs": [],
   "source": [
    "trainset = data.build_full_trainset()\n",
    "testset = trainset.build_anti_testset()\n"
   ]
  },
  {
   "cell_type": "code",
   "execution_count": 10,
   "metadata": {},
   "outputs": [
    {
     "data": {
      "text/plain": [
       "<generator object Trainset.all_ratings at 0x7f258438f430>"
      ]
     },
     "execution_count": 10,
     "metadata": {},
     "output_type": "execute_result"
    }
   ],
   "source": [
    "trainset.t"
   ]
  },
  {
   "cell_type": "code",
   "execution_count": 16,
   "metadata": {},
   "outputs": [],
   "source": [
    "algo_NMF = NMF(n_factors = 16)\n",
    "algo_NMF.fit(trainset)\n",
    "\n",
    "# Predict ratings for all pairs (u, i) that are NOT in the training set.\n",
    "predictions = algo_NMF.test(testset)"
   ]
  },
  {
   "cell_type": "code",
   "execution_count": 31,
   "metadata": {},
   "outputs": [
    {
     "name": "stdout",
     "output_type": "stream",
     "text": [
      "User 124 has already rated 50 movies.\n"
     ]
    }
   ],
   "source": [
    "hist_NMF_124, pred_NMF_124 = get_top_n(predictions, movies_df = movies_df, userId = 124, ratings_df = ratings_df)"
   ]
  },
  {
   "cell_type": "markdown",
   "metadata": {},
   "source": [
    "### Sweep"
   ]
  },
  {
   "cell_type": "code",
   "execution_count": 15,
   "metadata": {},
   "outputs": [],
   "source": [
    "sweep_k = np.arange(2,50,2) # number of latent factors"
   ]
  },
  {
   "cell_type": "code",
   "execution_count": 36,
   "metadata": {},
   "outputs": [],
   "source": [
    "\n",
    "number_of_folds = 10\n",
    "results_rmse = []\n",
    "results_mae = []\n",
    "\n",
    "# kf = KFold(n_splits=number_of_folds)\n",
    "# results = cross_validate(algorithm, data, measures=['RMSE'], cv=3, verbose=False)\n",
    "\n",
    "for k in sweep_k:\n",
    "    algorithm = NMF(n_factors = k)\n",
    "    results = cross_validate(algorithm, data, measures=['rmse', 'mae'], cv=10)\n",
    "    results_rmse.append(results['test_rmse'].mean())\n",
    "    results_mae.append(results['test_mae'].mean())"
   ]
  },
  {
   "cell_type": "code",
   "execution_count": null,
   "metadata": {},
   "outputs": [],
   "source": [
    "def  trim_test_set():\n",
    "    return df"
   ]
  },
  {
   "cell_type": "code",
   "execution_count": 37,
   "metadata": {},
   "outputs": [],
   "source": [
    "\n",
    "pickle.dump( results_rmse, open( \"result_nmf_all_rmse.pkl\", \"wb\" ) )\n",
    "pickle.dump( results_mae, open( \"result_nmf_all_mae.pkl\", \"wb\" ) )"
   ]
  },
  {
   "cell_type": "code",
   "execution_count": 13,
   "metadata": {},
   "outputs": [],
   "source": [
    "with open('result_nmf_all_mae.pkl', 'rb') as f:\n",
    "    result_nmf_all_mae = pickle.load(f)\n",
    "\n",
    "with open('result_nmf_all_rmse.pkl', 'rb') as f:\n",
    "    result_nmf_all_rmse = pickle.load(f)"
   ]
  },
  {
   "cell_type": "code",
   "execution_count": 16,
   "metadata": {},
   "outputs": [
    {
     "data": {
      "image/png": "[encoded data removed]",
      "text/plain": [
       "<Figure size 432x288 with 1 Axes>"
      ]
     },
     "metadata": {
      "needs_background": "light"
     },
     "output_type": "display_data"
    },
    {
     "data": {
      "text/plain": [
       "[<matplotlib.lines.Line2D at 0x7f256b483f70>]"
      ]
     },
     "execution_count": 16,
     "metadata": {},
     "output_type": "execute_result"
    },
    {
     "data": {
      "image/png": "[encoded data removed]",
      "text/plain": [
       "<Figure size 432x288 with 1 Axes>"
      ]
     },
     "metadata": {
      "needs_background": "light"
     },
     "output_type": "display_data"
    }
   ],
   "source": [
    "\n",
    "plt.plot(sweep_k, np.array(result_nmf_all_rmse))\n",
    "plt.show()\n",
    "plt.plot(sweep_k, np.array(result_nmf_all_mae))"
   ]
  },
  {
   "cell_type": "code",
   "execution_count": 22,
   "metadata": {},
   "outputs": [
    {
     "name": "stdout",
     "output_type": "stream",
     "text": [
      "Optimal number of latent factors for NMF via RMSE Error 16 and MAE error 22\n"
     ]
    }
   ],
   "source": [
    "best_latent_factor_nmf_all_rmse = sweep_k[np.argmin(result_nmf_all_rmse)]\n",
    "best_latent_factor_nmf_all_mae = sweep_k[np.argmin(result_nmf_all_mae)]\n",
    "print(\"Optimal number of latent factors for NMF via RMSE Error {} and MAE error {}\".format(best_latent_factor_nmf_all_rmse,best_latent_factor_nmf_all_mae))"
   ]
  },
  {
   "cell_type": "markdown",
   "metadata": {},
   "source": [
    "No, the number of movie genres if 951 but the optimal latent factors are 16 or 22 here"
   ]
  },
  {
   "cell_type": "markdown",
   "metadata": {},
   "source": []
  },
  {
   "cell_type": "markdown",
   "metadata": {},
   "source": [
    "## Trimmed Test Sets"
   ]
  },
  {
   "cell_type": "code",
   "execution_count": null,
   "metadata": {},
   "outputs": [],
   "source": [
    "min_movie_ratings = 2 #a movie has was rated at least \n",
    "min_user_ratings =  5 # has atleast these many ratings\n",
    "min_var = 2\n",
    "\n",
    "popular_df = ratings_df.groupby(\"movieId\").filter(lambda x: x['rating'].count() > min_movie_ratings)\n",
    "unpopular_df =  ratings_df.groupby(\"movieId\").filter(lambda x: x['rating'].count() <= min_movie_ratings)\n",
    "high_variance_df =  ratings_df.groupby(\"movieId\").filter(lambda x: x['rating'].var() < min_var and x['rating'].count() > min_user_ratings)\n",
    "# ratings_flrd_df = ratings_flrd_df.groupby(\"userId\").filter(lambda x: x['userId'].count() >= min_user_ratings)"
   ]
  },
  {
   "cell_type": "code",
   "execution_count": 25,
   "metadata": {},
   "outputs": [
    {
     "data": {
      "text/html": [
       "<div>\n",
       "<style scoped>\n",
       "    .dataframe tbody tr th:only-of-type {\n",
       "        vertical-align: middle;\n",
       "    }\n",
       "\n",
       "    .dataframe tbody tr th {\n",
       "        vertical-align: top;\n",
       "    }\n",
       "\n",
       "    .dataframe thead th {\n",
       "        text-align: right;\n",
       "    }\n",
       "</style>\n",
       "<table border=\"1\" class=\"dataframe\">\n",
       "  <thead>\n",
       "    <tr style=\"text-align: right;\">\n",
       "      <th></th>\n",
       "      <th>Unnamed: 0</th>\n",
       "      <th>userId</th>\n",
       "      <th>movieId</th>\n",
       "      <th>rating</th>\n",
       "      <th>timestamp</th>\n",
       "    </tr>\n",
       "  </thead>\n",
       "  <tbody>\n",
       "    <tr>\n",
       "      <th>0</th>\n",
       "      <td>0</td>\n",
       "      <td>496</td>\n",
       "      <td>112852</td>\n",
       "      <td>3.0</td>\n",
       "      <td>1415520462</td>\n",
       "    </tr>\n",
       "    <tr>\n",
       "      <th>1</th>\n",
       "      <td>1</td>\n",
       "      <td>391</td>\n",
       "      <td>1947</td>\n",
       "      <td>4.0</td>\n",
       "      <td>1030945141</td>\n",
       "    </tr>\n",
       "    <tr>\n",
       "      <th>2</th>\n",
       "      <td>2</td>\n",
       "      <td>387</td>\n",
       "      <td>1562</td>\n",
       "      <td>1.5</td>\n",
       "      <td>1095041022</td>\n",
       "    </tr>\n",
       "    <tr>\n",
       "      <th>3</th>\n",
       "      <td>3</td>\n",
       "      <td>474</td>\n",
       "      <td>2716</td>\n",
       "      <td>4.5</td>\n",
       "      <td>1053020930</td>\n",
       "    </tr>\n",
       "    <tr>\n",
       "      <th>4</th>\n",
       "      <td>4</td>\n",
       "      <td>483</td>\n",
       "      <td>88125</td>\n",
       "      <td>4.5</td>\n",
       "      <td>1311337237</td>\n",
       "    </tr>\n",
       "    <tr>\n",
       "      <th>...</th>\n",
       "      <td>...</td>\n",
       "      <td>...</td>\n",
       "      <td>...</td>\n",
       "      <td>...</td>\n",
       "      <td>...</td>\n",
       "    </tr>\n",
       "    <tr>\n",
       "      <th>100831</th>\n",
       "      <td>100831</td>\n",
       "      <td>469</td>\n",
       "      <td>1219</td>\n",
       "      <td>4.0</td>\n",
       "      <td>965661925</td>\n",
       "    </tr>\n",
       "    <tr>\n",
       "      <th>100832</th>\n",
       "      <td>100832</td>\n",
       "      <td>599</td>\n",
       "      <td>3571</td>\n",
       "      <td>2.0</td>\n",
       "      <td>1498511343</td>\n",
       "    </tr>\n",
       "    <tr>\n",
       "      <th>100833</th>\n",
       "      <td>100833</td>\n",
       "      <td>414</td>\n",
       "      <td>276</td>\n",
       "      <td>3.0</td>\n",
       "      <td>961596299</td>\n",
       "    </tr>\n",
       "    <tr>\n",
       "      <th>100834</th>\n",
       "      <td>100834</td>\n",
       "      <td>395</td>\n",
       "      <td>168</td>\n",
       "      <td>3.0</td>\n",
       "      <td>841503984</td>\n",
       "    </tr>\n",
       "    <tr>\n",
       "      <th>100835</th>\n",
       "      <td>100835</td>\n",
       "      <td>288</td>\n",
       "      <td>2407</td>\n",
       "      <td>3.5</td>\n",
       "      <td>1054568795</td>\n",
       "    </tr>\n",
       "  </tbody>\n",
       "</table>\n",
       "<p>100836 rows × 5 columns</p>\n",
       "</div>"
      ],
      "text/plain": [
       "        Unnamed: 0  userId  movieId  rating   timestamp\n",
       "0                0     496   112852     3.0  1415520462\n",
       "1                1     391     1947     4.0  1030945141\n",
       "2                2     387     1562     1.5  1095041022\n",
       "3                3     474     2716     4.5  1053020930\n",
       "4                4     483    88125     4.5  1311337237\n",
       "...            ...     ...      ...     ...         ...\n",
       "100831      100831     469     1219     4.0   965661925\n",
       "100832      100832     599     3571     2.0  1498511343\n",
       "100833      100833     414      276     3.0   961596299\n",
       "100834      100834     395      168     3.0   841503984\n",
       "100835      100835     288     2407     3.5  1054568795\n",
       "\n",
       "[100836 rows x 5 columns]"
      ]
     },
     "execution_count": 25,
     "metadata": {},
     "output_type": "execute_result"
    }
   ],
   "source": [
    "ratings_df"
   ]
  },
  {
   "cell_type": "code",
   "execution_count": null,
   "metadata": {},
   "outputs": [],
   "source": []
  },
  {
   "cell_type": "code",
   "execution_count": null,
   "metadata": {},
   "outputs": [],
   "source": [
    "# define a cross-validation iterator\n",
    "kf = KFold(n_splits=3)\n",
    "\n",
    "\n",
    "for k in sweep_k:\n",
    "    \n",
    "    for trainset, testset in kf.split(data):\n",
    "        algo = NMF(n_factors = k)\n",
    "        \n",
    "        # train and test algorithm.\n",
    "        algo.fit(trainset)\n",
    "        predictions = algo.test(testset)\n",
    "\n",
    "        # Compute and print Root Mean Squared Error\n",
    "        rmse(predictions, verbose=True)"
   ]
  },
  {
   "cell_type": "code",
   "execution_count": null,
   "metadata": {},
   "outputs": [],
   "source": [
    "# – Train the collaborative filter on the train set\n",
    "# – Write a trimming function that takes as input the test set and outputs a trimmed test set\n",
    "# – Predict the ratings of the movies in the trimmed test set using the trained collaborative filter\n",
    "# – Compute the RMSE of the predictions in the trimmed test set\n",
    "\n"
   ]
  }
 ],
 "metadata": {
  "interpreter": {
   "hash": "0c170169508312ff7e7c30987aa5611089573c6d8d161fb90321785e3175574a"
  },
  "kernelspec": {
   "display_name": "Python 3.8.10 64-bit ('env219': venv)",
   "name": "python3"
  },
  "language_info": {
   "codemirror_mode": {
    "name": "ipython",
    "version": 3
   },
   "file_extension": ".py",
   "mimetype": "text/x-python",
   "name": "python",
   "nbconvert_exporter": "python",
   "pygments_lexer": "ipython3",
   "version": "3.8.10"
  },
  "orig_nbformat": 4
 },
 "nbformat": 4,
 "nbformat_minor": 2
}
