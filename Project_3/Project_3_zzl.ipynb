{
 "cells": [
  {
   "cell_type": "code",
   "execution_count": 1,
   "id": "845a2414",
   "metadata": {},
   "outputs": [],
   "source": [
    "import numpy as np\n",
    "import pandas as pd\n",
    "import csv"
   ]
  },
  {
   "cell_type": "code",
   "execution_count": 2,
   "id": "b83cead5",
   "metadata": {},
   "outputs": [
    {
     "name": "stderr",
     "output_type": "stream",
     "text": [
      "C:\\Users\\LENOVO\\AppData\\Local\\Temp/ipykernel_19172/4248012774.py:4: DeprecationWarning: `np.str` is a deprecated alias for the builtin `str`. To silence this warning, use `str` by itself. Doing this will not modify any behavior and is safe. If you specifically wanted the numpy scalar type, use `np.str_` here.\n",
      "Deprecated in NumPy 1.20; for more details and guidance: https://numpy.org/devdocs/release/1.20.0-notes.html#deprecations\n",
      "  tmp = np.loadtxt(name, dtype = np.str, delimiter = \",\")\n",
      "C:\\Users\\LENOVO\\AppData\\Local\\Temp/ipykernel_19172/4248012774.py:5: DeprecationWarning: `np.str` is a deprecated alias for the builtin `str`. To silence this warning, use `str` by itself. Doing this will not modify any behavior and is safe. If you specifically wanted the numpy scalar type, use `np.str_` here.\n",
      "Deprecated in NumPy 1.20; for more details and guidance: https://numpy.org/devdocs/release/1.20.0-notes.html#deprecations\n",
      "  data = tmp[1:,0:].astype(np.str)\n",
      "C:\\Users\\LENOVO\\AppData\\Local\\Temp/ipykernel_19172/4248012774.py:6: DeprecationWarning: `np.str` is a deprecated alias for the builtin `str`. To silence this warning, use `str` by itself. Doing this will not modify any behavior and is safe. If you specifically wanted the numpy scalar type, use `np.str_` here.\n",
      "Deprecated in NumPy 1.20; for more details and guidance: https://numpy.org/devdocs/release/1.20.0-notes.html#deprecations\n",
      "  label = tmp[0,0:].astype(np.str)\n"
     ]
    }
   ],
   "source": [
    "# import data\n",
    "def loadCSVfile(name):\n",
    "    try:\n",
    "        tmp = np.loadtxt(name, dtype = np.str, delimiter = \",\")\n",
    "        data = tmp[1:,0:].astype(np.str) \n",
    "        label = tmp[0,0:].astype(np.str) \n",
    "    except ValueError:\n",
    "        with open(name,\"r\",encoding = \"UTF-8\") as f:\n",
    "            content = csv.reader(f)\n",
    "            li = []\n",
    "            i = 0\n",
    "            for row in content:\n",
    "                if i == 0:\n",
    "                    label = np.array(row)\n",
    "                else:\n",
    "                    li.append(np.array(row))\n",
    "                i += 1\n",
    "            data = np.array(li)\n",
    "    return data, label \n",
    "\n",
    "ratings, rate_label = loadCSVfile('Synthetic_Movie_Lens/ratings.csv')\n",
    "tags, tag_label = loadCSVfile('Synthetic_Movie_Lens/tags.csv')\n",
    "links, link_label = loadCSVfile('Synthetic_Movie_Lens/links.csv')\n",
    "movies, movie_label = loadCSVfile('Synthetic_Movie_Lens/movies.csv')"
   ]
  },
  {
   "cell_type": "code",
   "execution_count": 25,
   "id": "79397f02",
   "metadata": {},
   "outputs": [
    {
     "name": "stdout",
     "output_type": "stream",
     "text": [
      "-------------------- ratings --------------------\n",
      "The labels are: ['' 'userId' 'movieId' 'rating' 'timestamp']\n",
      "How much is the data: (100836, 5)\n",
      "-------------------- tags --------------------\n",
      "The labels are: ['userId' 'movieId' 'tag' 'timestamp']\n",
      "How much is the data: (3683, 4)\n",
      "-------------------- links --------------------\n",
      "The labels are: ['movieId' 'imdbId' 'tmdbId']\n",
      "How much is the data: (9742, 3)\n",
      "-------------------- movies --------------------\n",
      "The labels are: ['movieId' 'title' 'genres']\n",
      "How much is the data: (9742, 3)\n"
     ]
    }
   ],
   "source": [
    "print('-'*20,'ratings','-'*20)\n",
    "print(\"The labels are:\",rate_label)\n",
    "print(\"How much is the data:\",ratings.shape)\n",
    "print('-'*20,'tags','-'*20)\n",
    "print(\"The labels are:\",tag_label)\n",
    "print(\"How much is the data:\",tags.shape)\n",
    "print('-'*20,'links','-'*20)\n",
    "print(\"The labels are:\",link_label)\n",
    "print(\"How much is the data:\",links.shape)\n",
    "print('-'*20,'movies','-'*20)\n",
    "print(\"The labels are:\",movie_label)\n",
    "print(\"How much is the data:\",movies.shape)"
   ]
  },
  {
   "cell_type": "code",
   "execution_count": 31,
   "id": "a82d30d2",
   "metadata": {},
   "outputs": [],
   "source": [
    "df_ratings = pd.read_csv('Synthetic_Movie_Lens/ratings.csv')  \n",
    "df_tags = pd.read_csv('Synthetic_Movie_Lens/tags.csv')  \n",
    "df_links = pd.read_csv('Synthetic_Movie_Lens/links.csv')  \n",
    "df_movies = pd.read_csv('Synthetic_Movie_Lens/movies.csv')  "
   ]
  },
  {
   "cell_type": "markdown",
   "id": "44fdf469",
   "metadata": {},
   "source": [
    "## Quation 1:A"
   ]
  },
  {
   "cell_type": "code",
   "execution_count": 57,
   "id": "5a35ea3f",
   "metadata": {},
   "outputs": [],
   "source": [
    "def construct_R(name):\n",
    "    df = pd.read_csv(name)  \n",
    "    print(df)\n",
    "    a = df['userId'].unique()\n",
    "    b = df['movieId'].unique()\n",
    "    columns =  sorted(a)\n",
    "    rows = sorted(b)\n",
    "    R = pd.DataFrame(np.nan, index=rows, columns=columns)\n",
    "    for index, row in df.iterrows():\n",
    "        R[(int(row['userId']))][int(row['movieId'])] = row['rating']\n",
    "    return R"
   ]
  },
  {
   "cell_type": "code",
   "execution_count": 58,
   "id": "cc82206c",
   "metadata": {},
   "outputs": [
    {
     "name": "stdout",
     "output_type": "stream",
     "text": [
      "        Unnamed: 0  userId  movieId  rating   timestamp\n",
      "0                0     496   112852     3.0  1415520462\n",
      "1                1     391     1947     4.0  1030945141\n",
      "2                2     387     1562     1.5  1095041022\n",
      "3                3     474     2716     4.5  1053020930\n",
      "4                4     483    88125     4.5  1311337237\n",
      "...            ...     ...      ...     ...         ...\n",
      "100831      100831     469     1219     4.0   965661925\n",
      "100832      100832     599     3571     2.0  1498511343\n",
      "100833      100833     414      276     3.0   961596299\n",
      "100834      100834     395      168     3.0   841503984\n",
      "100835      100835     288     2407     3.5  1054568795\n",
      "\n",
      "[100836 rows x 5 columns]\n"
     ]
    }
   ],
   "source": [
    "R = construct_R('Synthetic_Movie_Lens/ratings.csv')"
   ]
  },
  {
   "cell_type": "code",
   "execution_count": 59,
   "id": "8cbecdc9",
   "metadata": {},
   "outputs": [
    {
     "name": "stdout",
     "output_type": "stream",
     "text": [
      "Sparsity: 0.0169997 \n"
     ]
    }
   ],
   "source": [
    "sparsity = (len(R.columns) * len(R.index) - R.isna().sum().sum())/(len(R.columns) * len(R.index))\n",
    "print(\"Sparsity: %0.7f \" % (sparsity))"
   ]
  },
  {
   "cell_type": "markdown",
   "id": "e7aa81a9",
   "metadata": {},
   "source": [
    "## Quation 1:B"
   ]
  },
  {
   "cell_type": "code",
   "execution_count": 29,
   "id": "29e631d1",
   "metadata": {},
   "outputs": [
    {
     "name": "stderr",
     "output_type": "stream",
     "text": [
      "C:\\Users\\LENOVO\\AppData\\Local\\Temp/ipykernel_19172/2238068674.py:5: VisibleDeprecationWarning: Creating an ndarray from ragged nested sequences (which is a list-or-tuple of lists-or-tuples-or ndarrays with different lengths or shapes) is deprecated. If you meant to do this, you must specify 'dtype=object' when creating the ndarray.\n",
      "  rating_count = np.array([rating_span,rating_counter])\n"
     ]
    },
    {
     "data": {
      "text/plain": [
       "Counter({'3.0': 20046,\n",
       "         '4.0': 26816,\n",
       "         '1.5': 1791,\n",
       "         '4.5': 8553,\n",
       "         '2.5': 5551,\n",
       "         '2.0': 7551,\n",
       "         '1.0': 2811,\n",
       "         '3.5': 13136,\n",
       "         '5.0': 13211,\n",
       "         '0.5': 1370})"
      ]
     },
     "execution_count": 29,
     "metadata": {},
     "output_type": "execute_result"
    }
   ],
   "source": [
    "from collections import Counter\n",
    "rating_span = np.arange(0.5,5.5,0.5)\n",
    "rating_counter = Counter(ratings[:,3])\n",
    "rating_counter2 = [rating_counter[str(i)] for i in rating_span]\n",
    "rating_count = np.array([rating_span,rating_counter])\n",
    "rating_counter"
   ]
  },
  {
   "cell_type": "code",
   "execution_count": 30,
   "id": "9205d919",
   "metadata": {},
   "outputs": [
    {
     "data": {
      "text/plain": [
       "Text(0.5, 1.0, 'Frequency of rating values')"
      ]
     },
     "execution_count": 30,
     "metadata": {},
     "output_type": "execute_result"
    },
    {
     "data": {
      "image/png": "[encoded data removed]",
      "text/plain": [
       "<Figure size 432x288 with 1 Axes>"
      ]
     },
     "metadata": {
      "needs_background": "light"
     },
     "output_type": "display_data"
    }
   ],
   "source": [
    "# plot the histogram\n",
    "import matplotlib.pyplot as plt\n",
    "%matplotlib inline\n",
    "plt.bar(rating_span, rating_counter2, 0.5,facecolor=\"blue\", edgecolor=\"black\", alpha=0.7)\n",
    "plt.xticks((0,0.25,0.75,1.25,1.75,2.25,2.75,3.25,3.75,4.25,4.75,5.25),(u'',u'0',u'0.5',u'1',u'1.5',u'2',u'2.5',u'3',u'3.5',u'4',u'4.5',u'5'))\n",
    "plt.grid(True,linestyle='-.')\n",
    "plt.xlabel('Rating values')\n",
    "plt.ylabel('Number of ratings')\n",
    "plt.title('Frequency of rating values')"
   ]
  },
  {
   "cell_type": "markdown",
   "id": "c2a38843",
   "metadata": {},
   "source": [
    "The shape is like a normal distribution around 3.5"
   ]
  },
  {
   "cell_type": "markdown",
   "id": "c845ef57",
   "metadata": {},
   "source": [
    "## Question 1:C"
   ]
  },
  {
   "cell_type": "code",
   "execution_count": 35,
   "id": "39d860be",
   "metadata": {},
   "outputs": [
    {
     "data": {
      "text/plain": [
       "Text(0.5, 1.0, 'Distribution of the number of ratings received among movies')"
      ]
     },
     "execution_count": 35,
     "metadata": {},
     "output_type": "execute_result"
    },
    {
     "data": {
      "image/png": "[encoded data removed]",
      "text/plain": [
       "<Figure size 432x288 with 1 Axes>"
      ]
     },
     "metadata": {
      "needs_background": "light"
     },
     "output_type": "display_data"
    }
   ],
   "source": [
    "count = df_ratings['movieId'].value_counts()\n",
    "plt.plot(count.values,color='dodgerblue',linewidth = 3)\n",
    "plt.grid(True,linestyle = '-.')\n",
    "plt.xlabel('Movie index')\n",
    "plt.ylabel('Number of ratings for each movie')\n",
    "plt.title('Distribution of the number of ratings received among movies')"
   ]
  },
  {
   "cell_type": "markdown",
   "id": "fff16e1b",
   "metadata": {},
   "source": [
    "## Question 1:D"
   ]
  },
  {
   "cell_type": "code",
   "execution_count": 36,
   "id": "bebe289e",
   "metadata": {},
   "outputs": [
    {
     "data": {
      "text/plain": [
       "Text(0.5, 1.0, 'Distribution of the number of ratings received among movies')"
      ]
     },
     "execution_count": 36,
     "metadata": {},
     "output_type": "execute_result"
    },
    {
     "data": {
      "image/png": "[encoded data removed]",
      "text/plain": [
       "<Figure size 432x288 with 1 Axes>"
      ]
     },
     "metadata": {
      "needs_background": "light"
     },
     "output_type": "display_data"
    }
   ],
   "source": [
    "count = df_ratings['userId'].value_counts()\n",
    "plt.plot(count.values,color='coral',linewidth = 3)\n",
    "plt.grid(True,linestyle = '-.')\n",
    "plt.xlabel('Movie index')\n",
    "plt.ylabel('Number of ratings for each movie')\n",
    "plt.title('Distribution of the number of ratings received among movies')"
   ]
  },
  {
   "cell_type": "markdown",
   "id": "ca1877be",
   "metadata": {},
   "source": [
    "## Qustion 1:E\n",
    "\n",
    "There are so many movies but the number of ratings are nothing comparing to that of movies. And there are so many movies that only one or two ratings are received."
   ]
  },
  {
   "cell_type": "markdown",
   "id": "a46d07db",
   "metadata": {},
   "source": [
    "## Qestion 1:F"
   ]
  },
  {
   "cell_type": "code",
   "execution_count": 61,
   "id": "d0a47681",
   "metadata": {},
   "outputs": [
    {
     "data": {
      "text/plain": [
       "Text(0.5, 1.0, 'Variance of the rating values rerceived by each movie')"
      ]
     },
     "execution_count": 61,
     "metadata": {},
     "output_type": "execute_result"
    },
    {
     "data": {
      "image/png": "[encoded data removed]",
      "text/plain": [
       "<Figure size 432x288 with 1 Axes>"
      ]
     },
     "metadata": {
      "needs_background": "light"
     },
     "output_type": "display_data"
    }
   ],
   "source": [
    "R.var(axis=1)\n",
    "R_array = np.array(R)\n",
    "R_var = np.nanvar(R_array, axis=1)\n",
    "plt.hist(R_var, bins = 10,facecolor=\"blue\", edgecolor=\"black\") \n",
    "plt.xticks((0,0.5,1.0,1.5,2.0,2.5,3.0,3.5,4.0,4.5,5.0,5.5),(u'0',u'0.5',u'1',u'1.5',u'2',u'2.5',u'3',u'3.5',u'4',u'4.5',u'5',u'5.5'))\n",
    "plt.grid(True,linestyle='-.')\n",
    "plt.xlabel('Rating variance')\n",
    "plt.ylabel('Number of movies')\n",
    "plt.title('Variance of the rating values rerceived by each movie')"
   ]
  },
  {
   "cell_type": "markdown",
   "id": "e7361f63",
   "metadata": {},
   "source": [
    "### Popular moving trimming"
   ]
  },
  {
   "cell_type": "code",
   "execution_count": 67,
   "id": "1c490b64",
   "metadata": {},
   "outputs": [
    {
     "data": {
      "text/plain": [
       "[('0', '1', 4), ('0', '1', 3), ('2', '1', 2)]"
      ]
     },
     "execution_count": 67,
     "metadata": {},
     "output_type": "execute_result"
    }
   ],
   "source": [
    "def PMT(testset):    \n",
    "    counter = [x for x in Counter([x[1] for x in testset]).items()]\n",
    "    count_filter = list(filter(lambda x:x[1] > 2,counter))\n",
    "    testset_trim = list(filter(lambda x:x[1] in [y[0] for y in count_filter],\n",
    "                           testset))\n",
    "    return testset_trim\n",
    "# test PMT function\n",
    "a = [('0','1',4),('0','1',3),('2','1',2),('2','2',2),('2','3',5),('6','3',5)]\n",
    "PMT(a)"
   ]
  },
  {
   "cell_type": "markdown",
   "id": "a1557184",
   "metadata": {},
   "source": [
    "### Unpopular movie trimming"
   ]
  },
  {
   "cell_type": "code",
   "execution_count": 86,
   "id": "c7be66da",
   "metadata": {},
   "outputs": [
    {
     "data": {
      "text/plain": [
       "[('2', '2', 2), ('2', '3', 5), ('6', '3', 5)]"
      ]
     },
     "execution_count": 86,
     "metadata": {},
     "output_type": "execute_result"
    }
   ],
   "source": [
    "# define a function for Unpopular movie trimming\n",
    "def UMT(testset):    \n",
    "    counter = [x for x in Counter([x[1] for x in testset]).items()]\n",
    "    count_filter = list(filter(lambda x:x[1] <= 2,counter))\n",
    "    testset_trim = list(filter(lambda x:x[1] in [y[0] for y in count_filter],\n",
    "                           testset))\n",
    "    return testset_trim\n",
    "\n",
    "# test UMT function\n",
    "a = [('0','1',4),('0','1',3),('2','1',2),('2','2',2),('2','3',5),('6','3',5)]\n",
    "UMT(a)"
   ]
  },
  {
   "cell_type": "markdown",
   "id": "5bc6c6d4",
   "metadata": {},
   "source": [
    "### High variance movie trimming"
   ]
  },
  {
   "cell_type": "code",
   "execution_count": 88,
   "id": "6f81a83e",
   "metadata": {},
   "outputs": [
    {
     "data": {
      "text/plain": [
       "[('0', '1', 4), ('0', '1', 3), ('2', '1', 2), ('0', '1', 100), ('0', '1', 20)]"
      ]
     },
     "execution_count": 88,
     "metadata": {},
     "output_type": "execute_result"
    }
   ],
   "source": [
    "# Define a function for high variance movie trimming method\n",
    "def HVMT(testset):\n",
    "    counter = [x for x in Counter([x[1] for x in testset]).items()]\n",
    "    count_filter1 = list(filter(lambda x:x[1] >= 5,counter))\n",
    "    var_list = list(get_var(np.array(testset)[:,1:3]).items())\n",
    "    count_filter2 = list(filter(lambda x:x[1] >= 2,var_list))\n",
    "    count_filter = list(set([x[0] for x in count_filter1]).intersection(set([y[0] for y in count_filter2])))\n",
    "    #count_filter = list([x[0] for x in count_filter1 if x[0] in [y[0] for y in count_filter2]])\n",
    "    testset_trim = list(filter(lambda x:x[1] in [y[0] for y in count_filter],\n",
    "                           testset))\n",
    "    return testset_trim\n",
    "\n",
    "a = [('0','1',4),('0','1',3),('2','1',2),('2','2',2),('2','3',5),('6','3',5),\n",
    "    ('0','1',100),('0','1',20),('5','3',5),('6','3',5)]\n",
    "HVMT(a)"
   ]
  },
  {
   "cell_type": "markdown",
   "id": "552a65d8",
   "metadata": {},
   "source": [
    "## Question 10: Designing the MF Collaborative Filter"
   ]
  },
  {
   "cell_type": "code",
   "execution_count": 63,
   "id": "f12fc8a4",
   "metadata": {},
   "outputs": [],
   "source": [
    "from surprise import KNNBasic\n",
    "from surprise import NormalPredictor\n",
    "from surprise import KNNBasic\n",
    "from surprise import KNNWithMeans\n",
    "from surprise import KNNWithZScore\n",
    "from surprise import KNNBaseline\n",
    "from surprise import SVD\n",
    "from surprise import BaselineOnly\n",
    "from surprise import SVDpp\n",
    "from surprise import NMF\n",
    "from surprise import SlopeOne\n",
    "from surprise import CoClustering\n",
    "from surprise.accuracy import rmse\n",
    "from surprise.model_selection import cross_validate\n",
    "from surprise import Dataset\n",
    "from surprise import Reader"
   ]
  },
  {
   "cell_type": "code",
   "execution_count": 65,
   "id": "fc581cbd",
   "metadata": {},
   "outputs": [],
   "source": [
    "reader = Reader(rating_scale=(1, 5))\n",
    "data = Dataset.load_from_df(df_ratings[['userId', 'movieId', 'rating']], reader)"
   ]
  },
  {
   "cell_type": "markdown",
   "id": "ab71d65b",
   "metadata": {},
   "source": [
    "## Question 10:A"
   ]
  },
  {
   "cell_type": "code",
   "execution_count": 66,
   "id": "fbdfad26",
   "metadata": {},
   "outputs": [
    {
     "name": "stdout",
     "output_type": "stream",
     "text": [
      "Evaluating RMSE, MAE of algorithm SVD on 10 split(s).\n",
      "\n",
      "                  Fold 1  Fold 2  Fold 3  Fold 4  Fold 5  Fold 6  Fold 7  Fold 8  Fold 9  Fold 10 Mean    Std     \n",
      "RMSE (testset)    0.8701  0.8668  0.8644  0.8668  0.8644  0.8558  0.8717  0.8739  0.8660  0.8690  0.8669  0.0047  \n",
      "MAE (testset)     0.6680  0.6672  0.6645  0.6691  0.6652  0.6604  0.6697  0.6654  0.6649  0.6685  0.6663  0.0026  \n",
      "Fit time          1.34    1.41    1.41    1.32    1.29    1.33    1.32    1.31    1.31    1.35    1.34    0.04    \n",
      "Test time         0.17    0.06    0.05    0.05    0.06    0.06    0.06    0.05    0.06    0.06    0.07    0.03    \n",
      "Evaluating RMSE, MAE of algorithm SVD on 10 split(s).\n",
      "\n",
      "                  Fold 1  Fold 2  Fold 3  Fold 4  Fold 5  Fold 6  Fold 7  Fold 8  Fold 9  Fold 10 Mean    Std     \n",
      "RMSE (testset)    0.8700  0.8745  0.8631  0.8667  0.8702  0.8567  0.8663  0.8675  0.8621  0.8728  0.8670  0.0050  \n",
      "MAE (testset)     0.6681  0.6687  0.6635  0.6656  0.6672  0.6578  0.6645  0.6715  0.6615  0.6712  0.6660  0.0041  \n",
      "Fit time          1.56    1.53    1.78    1.60    1.46    1.40    1.36    1.38    1.34    1.34    1.48    0.14    \n",
      "Test time         0.06    0.06    0.06    0.08    0.06    0.06    0.06    0.20    0.05    0.06    0.08    0.04    \n",
      "Evaluating RMSE, MAE of algorithm SVD on 10 split(s).\n",
      "\n",
      "                  Fold 1  Fold 2  Fold 3  Fold 4  Fold 5  Fold 6  Fold 7  Fold 8  Fold 9  Fold 10 Mean    Std     \n",
      "RMSE (testset)    0.8707  0.8592  0.8523  0.8660  0.8657  0.8715  0.8745  0.8617  0.8716  0.8716  0.8665  0.0066  \n",
      "MAE (testset)     0.6701  0.6641  0.6548  0.6635  0.6683  0.6696  0.6734  0.6591  0.6679  0.6683  0.6659  0.0053  \n",
      "Fit time          1.43    1.41    1.40    1.42    1.40    1.41    1.42    1.45    1.45    1.41    1.42    0.02    \n",
      "Test time         0.05    0.05    0.06    0.05    0.21    0.06    0.05    0.05    0.05    0.05    0.07    0.05    \n",
      "Evaluating RMSE, MAE of algorithm SVD on 10 split(s).\n",
      "\n",
      "                  Fold 1  Fold 2  Fold 3  Fold 4  Fold 5  Fold 6  Fold 7  Fold 8  Fold 9  Fold 10 Mean    Std     \n",
      "RMSE (testset)    0.8663  0.8776  0.8755  0.8615  0.8640  0.8636  0.8581  0.8672  0.8644  0.8718  0.8670  0.0059  \n",
      "MAE (testset)     0.6674  0.6713  0.6741  0.6614  0.6633  0.6680  0.6570  0.6602  0.6590  0.6730  0.6655  0.0058  \n",
      "Fit time          1.49    1.52    1.50    1.55    1.60    1.60    1.67    1.58    1.65    1.65    1.58    0.06    \n",
      "Test time         0.05    0.05    0.05    0.06    0.06    0.06    0.06    0.05    0.07    0.06    0.06    0.01    \n",
      "Evaluating RMSE, MAE of algorithm SVD on 10 split(s).\n",
      "\n",
      "                  Fold 1  Fold 2  Fold 3  Fold 4  Fold 5  Fold 6  Fold 7  Fold 8  Fold 9  Fold 10 Mean    Std     \n",
      "RMSE (testset)    0.8752  0.8628  0.8675  0.8585  0.8617  0.8665  0.8625  0.8723  0.8695  0.8629  0.8659  0.0050  \n",
      "MAE (testset)     0.6723  0.6594  0.6631  0.6607  0.6635  0.6676  0.6619  0.6710  0.6740  0.6606  0.6654  0.0051  \n",
      "Fit time          1.56    1.56    1.57    1.59    1.63    1.61    1.58    1.59    1.64    1.67    1.60    0.04    \n",
      "Test time         0.06    0.05    0.06    0.05    0.06    0.05    0.05    0.05    0.06    0.05    0.06    0.00    \n",
      "Evaluating RMSE, MAE of algorithm SVD on 10 split(s).\n",
      "\n",
      "                  Fold 1  Fold 2  Fold 3  Fold 4  Fold 5  Fold 6  Fold 7  Fold 8  Fold 9  Fold 10 Mean    Std     \n",
      "RMSE (testset)    0.8609  0.8737  0.8637  0.8746  0.8617  0.8515  0.8702  0.8775  0.8742  0.8581  0.8666  0.0082  \n",
      "MAE (testset)     0.6639  0.6682  0.6656  0.6696  0.6617  0.6554  0.6702  0.6718  0.6706  0.6572  0.6654  0.0055  \n",
      "Fit time          1.84    1.86    1.82    1.69    1.87    1.74    1.69    1.72    1.67    1.71    1.76    0.07    \n",
      "Test time         0.10    0.06    0.05    0.05    0.23    0.06    0.05    0.05    0.06    0.06    0.08    0.05    \n",
      "Evaluating RMSE, MAE of algorithm SVD on 10 split(s).\n",
      "\n",
      "                  Fold 1  Fold 2  Fold 3  Fold 4  Fold 5  Fold 6  Fold 7  Fold 8  Fold 9  Fold 10 Mean    Std     \n",
      "RMSE (testset)    0.8628  0.8731  0.8696  0.8707  0.8514  0.8688  0.8611  0.8750  0.8617  0.8571  0.8651  0.0072  \n",
      "MAE (testset)     0.6628  0.6715  0.6693  0.6740  0.6533  0.6660  0.6617  0.6684  0.6578  0.6646  0.6649  0.0060  \n",
      "Fit time          1.74    1.69    1.87    1.77    1.77    1.79    1.75    1.78    1.77    1.82    1.77    0.05    \n",
      "Test time         0.05    0.20    0.06    0.06    0.06    0.06    0.06    0.05    0.05    0.05    0.07    0.04    \n",
      "Evaluating RMSE, MAE of algorithm SVD on 10 split(s).\n",
      "\n",
      "                  Fold 1  Fold 2  Fold 3  Fold 4  Fold 5  Fold 6  Fold 7  Fold 8  Fold 9  Fold 10 Mean    Std     \n",
      "RMSE (testset)    0.8557  0.8711  0.8857  0.8592  0.8804  0.8690  0.8607  0.8655  0.8647  0.8565  0.8669  0.0094  \n",
      "MAE (testset)     0.6595  0.6701  0.6772  0.6597  0.6732  0.6674  0.6592  0.6658  0.6660  0.6591  0.6657  0.0061  \n",
      "Fit time          1.90    1.75    1.78    1.76    1.78    1.79    2.70    2.41    1.90    1.85    1.96    0.31    \n",
      "Test time         0.05    0.06    0.06    0.06    0.05    0.05    0.31    0.07    0.05    0.05    0.08    0.08    \n",
      "Evaluating RMSE, MAE of algorithm SVD on 10 split(s).\n",
      "\n",
      "                  Fold 1  Fold 2  Fold 3  Fold 4  Fold 5  Fold 6  Fold 7  Fold 8  Fold 9  Fold 10 Mean    Std     \n",
      "RMSE (testset)    0.8781  0.8541  0.8551  0.8583  0.8724  0.8683  0.8643  0.8608  0.8780  0.8707  0.8660  0.0084  \n",
      "MAE (testset)     0.6746  0.6564  0.6566  0.6586  0.6703  0.6659  0.6616  0.6602  0.6739  0.6732  0.6651  0.0070  \n",
      "Fit time          1.84    1.84    1.90    1.94    1.93    1.80    1.82    1.80    1.84    1.83    1.85    0.05    \n",
      "Test time         0.06    0.05    0.05    0.05    0.05    0.05    0.05    0.05    0.05    0.05    0.05    0.00    \n",
      "Evaluating RMSE, MAE of algorithm SVD on 10 split(s).\n",
      "\n",
      "                  Fold 1  Fold 2  Fold 3  Fold 4  Fold 5  Fold 6  Fold 7  Fold 8  Fold 9  Fold 10 Mean    Std     \n",
      "RMSE (testset)    0.8643  0.8675  0.8601  0.8598  0.8760  0.8540  0.8770  0.8560  0.8852  0.8658  0.8666  0.0095  \n",
      "MAE (testset)     0.6664  0.6675  0.6640  0.6568  0.6720  0.6571  0.6739  0.6576  0.6750  0.6675  0.6658  0.0065  \n",
      "Fit time          1.92    1.94    2.01    2.03    1.98    1.96    1.99    1.97    1.98    1.99    1.98    0.03    \n",
      "Test time         0.06    0.21    0.05    0.06    0.06    0.06    0.06    0.05    0.05    0.06    0.07    0.05    \n",
      "Evaluating RMSE, MAE of algorithm SVD on 10 split(s).\n",
      "\n",
      "                  Fold 1  Fold 2  Fold 3  Fold 4  Fold 5  Fold 6  Fold 7  Fold 8  Fold 9  Fold 10 Mean    Std     \n",
      "RMSE (testset)    0.8545  0.8635  0.8651  0.8694  0.8700  0.8747  0.8606  0.8757  0.8682  0.8618  0.8664  0.0062  \n",
      "MAE (testset)     0.6595  0.6649  0.6600  0.6685  0.6670  0.6687  0.6635  0.6670  0.6713  0.6621  0.6653  0.0037  \n",
      "Fit time          2.12    2.02    1.97    1.96    1.96    2.01    1.99    1.99    2.00    1.97    2.00    0.05    \n",
      "Test time         0.06    0.05    0.07    0.05    0.05    0.05    0.05    0.06    0.05    0.06    0.06    0.00    \n",
      "Evaluating RMSE, MAE of algorithm SVD on 10 split(s).\n",
      "\n",
      "                  Fold 1  Fold 2  Fold 3  Fold 4  Fold 5  Fold 6  Fold 7  Fold 8  Fold 9  Fold 10 Mean    Std     \n",
      "RMSE (testset)    0.8570  0.8601  0.8634  0.8577  0.8675  0.8694  0.8751  0.8770  0.8658  0.8606  0.8654  0.0066  \n",
      "MAE (testset)     0.6588  0.6618  0.6626  0.6564  0.6681  0.6694  0.6658  0.6727  0.6641  0.6650  0.6645  0.0046  \n",
      "Fit time          2.00    2.05    2.04    2.21    2.14    2.09    2.55    2.36    2.14    2.07    2.17    0.16    \n",
      "Test time         0.08    0.06    0.05    0.06    0.05    0.05    0.08    0.06    0.06    0.06    0.06    0.01    \n",
      "Evaluating RMSE, MAE of algorithm SVD on 10 split(s).\n",
      "\n",
      "                  Fold 1  Fold 2  Fold 3  Fold 4  Fold 5  Fold 6  Fold 7  Fold 8  Fold 9  Fold 10 Mean    Std     \n",
      "RMSE (testset)    0.8579  0.8678  0.8645  0.8731  0.8675  0.8805  0.8643  0.8515  0.8751  0.8614  0.8664  0.0081  \n",
      "MAE (testset)     0.6586  0.6651  0.6655  0.6683  0.6697  0.6716  0.6617  0.6534  0.6728  0.6655  0.6652  0.0057  \n",
      "Fit time          2.11    2.11    2.12    2.11    2.19    2.12    2.11    2.07    2.15    2.18    2.13    0.03    \n",
      "Test time         0.21    0.05    0.05    0.05    0.05    0.05    0.06    0.05    0.05    0.06    0.07    0.05    \n",
      "Evaluating RMSE, MAE of algorithm SVD on 10 split(s).\n",
      "\n",
      "                  Fold 1  Fold 2  Fold 3  Fold 4  Fold 5  Fold 6  Fold 7  Fold 8  Fold 9  Fold 10 Mean    Std     \n",
      "RMSE (testset)    0.8489  0.8562  0.8663  0.8668  0.8724  0.8821  0.8618  0.8724  0.8705  0.8601  0.8658  0.0089  \n",
      "MAE (testset)     0.6495  0.6567  0.6667  0.6659  0.6710  0.6779  0.6620  0.6686  0.6688  0.6613  0.6648  0.0075  \n",
      "Fit time          2.19    2.18    2.17    2.72    2.24    2.20    2.19    2.19    2.20    2.24    2.25    0.16    \n",
      "Test time         0.06    0.05    0.05    0.06    0.05    0.05    0.05    0.06    0.06    0.06    0.06    0.00    \n"
     ]
    },
    {
     "name": "stdout",
     "output_type": "stream",
     "text": [
      "Evaluating RMSE, MAE of algorithm SVD on 10 split(s).\n",
      "\n",
      "                  Fold 1  Fold 2  Fold 3  Fold 4  Fold 5  Fold 6  Fold 7  Fold 8  Fold 9  Fold 10 Mean    Std     \n",
      "RMSE (testset)    0.8789  0.8633  0.8642  0.8640  0.8662  0.8641  0.8612  0.8552  0.8693  0.8748  0.8661  0.0064  \n",
      "MAE (testset)     0.6727  0.6599  0.6643  0.6650  0.6669  0.6647  0.6622  0.6572  0.6646  0.6700  0.6647  0.0043  \n",
      "Fit time          2.34    2.45    2.44    2.31    2.26    2.29    2.25    2.27    2.24    2.26    2.31    0.07    \n",
      "Test time         0.07    0.05    0.06    0.06    0.06    0.06    0.05    0.06    0.06    0.06    0.06    0.01    \n",
      "Evaluating RMSE, MAE of algorithm SVD on 10 split(s).\n",
      "\n",
      "                  Fold 1  Fold 2  Fold 3  Fold 4  Fold 5  Fold 6  Fold 7  Fold 8  Fold 9  Fold 10 Mean    Std     \n",
      "RMSE (testset)    0.8673  0.8797  0.8694  0.8709  0.8762  0.8482  0.8665  0.8509  0.8594  0.8717  0.8660  0.0097  \n",
      "MAE (testset)     0.6655  0.6778  0.6657  0.6692  0.6754  0.6536  0.6653  0.6509  0.6590  0.6673  0.6650  0.0081  \n",
      "Fit time          2.37    2.33    2.53    3.14    2.53    2.43    2.39    2.37    2.82    2.51    2.54    0.24    \n",
      "Test time         0.20    0.05    0.06    0.06    0.06    0.06    0.06    0.05    0.05    0.06    0.07    0.04    \n",
      "Evaluating RMSE, MAE of algorithm SVD on 10 split(s).\n",
      "\n",
      "                  Fold 1  Fold 2  Fold 3  Fold 4  Fold 5  Fold 6  Fold 7  Fold 8  Fold 9  Fold 10 Mean    Std     \n",
      "RMSE (testset)    0.8644  0.8647  0.8567  0.8645  0.8728  0.8749  0.8600  0.8694  0.8723  0.8582  0.8658  0.0061  \n",
      "MAE (testset)     0.6648  0.6614  0.6597  0.6635  0.6693  0.6691  0.6636  0.6635  0.6682  0.6627  0.6646  0.0031  \n",
      "Fit time          2.73    2.40    2.51    2.45    2.46    2.54    2.58    2.46    2.35    2.51    2.50    0.10    \n",
      "Test time         0.06    0.05    0.06    0.05    0.06    0.27    0.06    0.06    0.06    0.05    0.08    0.06    \n",
      "Evaluating RMSE, MAE of algorithm SVD on 10 split(s).\n",
      "\n",
      "                  Fold 1  Fold 2  Fold 3  Fold 4  Fold 5  Fold 6  Fold 7  Fold 8  Fold 9  Fold 10 Mean    Std     \n",
      "RMSE (testset)    0.8728  0.8557  0.8686  0.8635  0.8677  0.8658  0.8663  0.8624  0.8691  0.8712  0.8663  0.0047  \n",
      "MAE (testset)     0.6654  0.6584  0.6692  0.6618  0.6654  0.6661  0.6670  0.6595  0.6691  0.6715  0.6653  0.0041  \n",
      "Fit time          2.40    2.51    2.54    2.47    2.49    2.46    2.45    2.45    2.41    2.50    2.47    0.04    \n",
      "Test time         0.06    0.06    0.06    0.06    0.05    0.05    0.06    0.05    0.06    0.06    0.06    0.00    \n",
      "Evaluating RMSE, MAE of algorithm SVD on 10 split(s).\n",
      "\n",
      "                  Fold 1  Fold 2  Fold 3  Fold 4  Fold 5  Fold 6  Fold 7  Fold 8  Fold 9  Fold 10 Mean    Std     \n",
      "RMSE (testset)    0.8728  0.8585  0.8495  0.8705  0.8738  0.8618  0.8706  0.8682  0.8566  0.8804  0.8663  0.0089  \n",
      "MAE (testset)     0.6714  0.6582  0.6539  0.6710  0.6719  0.6626  0.6671  0.6655  0.6608  0.6717  0.6654  0.0060  \n",
      "Fit time          2.55    2.47    2.48    2.45    2.48    2.47    2.51    2.54    2.64    2.54    2.51    0.05    \n",
      "Test time         0.23    0.05    0.05    0.05    0.05    0.05    0.06    0.22    0.05    0.05    0.09    0.07    \n",
      "Evaluating RMSE, MAE of algorithm SVD on 10 split(s).\n",
      "\n",
      "                  Fold 1  Fold 2  Fold 3  Fold 4  Fold 5  Fold 6  Fold 7  Fold 8  Fold 9  Fold 10 Mean    Std     \n",
      "RMSE (testset)    0.8695  0.8573  0.8688  0.8666  0.8649  0.8621  0.8689  0.8678  0.8670  0.8674  0.8660  0.0036  \n",
      "MAE (testset)     0.6703  0.6600  0.6672  0.6666  0.6654  0.6629  0.6690  0.6628  0.6669  0.6657  0.6657  0.0029  \n",
      "Fit time          2.86    2.82    2.77    2.84    2.64    2.59    2.60    2.56    2.56    2.56    2.68    0.12    \n",
      "Test time         0.06    0.06    0.06    0.06    0.06    0.06    0.05    0.05    0.05    0.05    0.06    0.00    \n",
      "Evaluating RMSE, MAE of algorithm SVD on 10 split(s).\n",
      "\n",
      "                  Fold 1  Fold 2  Fold 3  Fold 4  Fold 5  Fold 6  Fold 7  Fold 8  Fold 9  Fold 10 Mean    Std     \n",
      "RMSE (testset)    0.8757  0.8584  0.8554  0.8682  0.8713  0.8597  0.8727  0.8746  0.8704  0.8603  0.8667  0.0071  \n",
      "MAE (testset)     0.6727  0.6618  0.6569  0.6668  0.6689  0.6590  0.6681  0.6703  0.6664  0.6595  0.6650  0.0051  \n",
      "Fit time          2.59    2.61    2.66    2.68    2.66    2.66    2.61    2.59    2.63    2.90    2.66    0.09    \n",
      "Test time         0.06    0.05    0.07    0.06    0.05    0.06    0.05    0.06    0.06    0.06    0.06    0.00    \n",
      "Evaluating RMSE, MAE of algorithm SVD on 10 split(s).\n",
      "\n",
      "                  Fold 1  Fold 2  Fold 3  Fold 4  Fold 5  Fold 6  Fold 7  Fold 8  Fold 9  Fold 10 Mean    Std     \n",
      "RMSE (testset)    0.8744  0.8647  0.8728  0.8644  0.8723  0.8718  0.8566  0.8600  0.8620  0.8654  0.8664  0.0058  \n",
      "MAE (testset)     0.6715  0.6672  0.6725  0.6634  0.6675  0.6693  0.6588  0.6598  0.6600  0.6642  0.6654  0.0047  \n",
      "Fit time          2.67    2.68    2.66    2.89    2.81    2.71    2.77    2.71    2.77    2.82    2.75    0.07    \n",
      "Test time         0.05    0.05    0.06    0.05    0.06    0.06    0.05    0.23    0.05    0.05    0.07    0.05    \n",
      "Evaluating RMSE, MAE of algorithm SVD on 10 split(s).\n",
      "\n",
      "                  Fold 1  Fold 2  Fold 3  Fold 4  Fold 5  Fold 6  Fold 7  Fold 8  Fold 9  Fold 10 Mean    Std     \n",
      "RMSE (testset)    0.8709  0.8582  0.8567  0.8741  0.8649  0.8759  0.8541  0.8680  0.8751  0.8597  0.8658  0.0078  \n",
      "MAE (testset)     0.6688  0.6577  0.6565  0.6702  0.6628  0.6697  0.6601  0.6698  0.6706  0.6622  0.6648  0.0053  \n",
      "Fit time          2.80    2.83    2.98    2.91    2.93    3.07    2.89    2.84    3.08    2.92    2.93    0.09    \n",
      "Test time         0.06    0.05    0.07    0.06    0.06    0.06    0.06    0.06    0.06    0.06    0.06    0.00    \n",
      "Evaluating RMSE, MAE of algorithm SVD on 10 split(s).\n",
      "\n",
      "                  Fold 1  Fold 2  Fold 3  Fold 4  Fold 5  Fold 6  Fold 7  Fold 8  Fold 9  Fold 10 Mean    Std     \n",
      "RMSE (testset)    0.8777  0.8650  0.8662  0.8646  0.8729  0.8583  0.8604  0.8712  0.8670  0.8666  0.8670  0.0054  \n",
      "MAE (testset)     0.6762  0.6632  0.6667  0.6618  0.6750  0.6623  0.6593  0.6634  0.6645  0.6665  0.6659  0.0053  \n",
      "Fit time          2.94    2.87    2.96    2.86    2.94    3.05    3.21    3.16    3.68    3.20    3.09    0.23    \n",
      "Test time         0.06    0.06    0.06    0.06    0.10    0.06    0.07    0.06    0.06    0.24    0.08    0.05    \n",
      "Evaluating RMSE, MAE of algorithm SVD on 10 split(s).\n",
      "\n",
      "                  Fold 1  Fold 2  Fold 3  Fold 4  Fold 5  Fold 6  Fold 7  Fold 8  Fold 9  Fold 10 Mean    Std     \n",
      "RMSE (testset)    0.8619  0.8570  0.8619  0.8766  0.8658  0.8607  0.8628  0.8714  0.8714  0.8606  0.8650  0.0058  \n",
      "MAE (testset)     0.6604  0.6594  0.6605  0.6750  0.6630  0.6659  0.6639  0.6715  0.6673  0.6583  0.6645  0.0052  \n",
      "Fit time          2.93    2.99    3.02    3.17    3.19    3.03    3.09    3.27    3.02    3.04    3.07    0.10    \n",
      "Test time         0.05    0.05    0.05    0.05    0.06    0.06    0.06    0.05    0.06    0.06    0.06    0.00    \n"
     ]
    }
   ],
   "source": [
    "mae = []\n",
    "rmse = []\n",
    "\n",
    "for k in range(2,52,2):\n",
    "    svd = SVD(n_factors=k)\n",
    "    result_dict = cross_validate(svd, data, measures=['RMSE', 'MAE'], cv=10, \n",
    "                                 verbose=True)\n",
    "    mae.append(np.mean(result_dict['test_mae']))\n",
    "    rmse.append(np.mean(result_dict['test_rmse']))"
   ]
  },
  {
   "cell_type": "code",
   "execution_count": 76,
   "id": "fd0381bf",
   "metadata": {},
   "outputs": [
    {
     "data": {
      "text/plain": [
       "Text(0.5, 1.0, 'MAE against #k of latent factors (MF with bias)')"
      ]
     },
     "execution_count": 76,
     "metadata": {},
     "output_type": "execute_result"
    },
    {
     "data": {
      "image/png": "[encoded data removed]",
      "text/plain": [
       "<Figure size 432x288 with 1 Axes>"
      ]
     },
     "metadata": {
      "needs_background": "light"
     },
     "output_type": "display_data"
    }
   ],
   "source": [
    "# MAE plot \n",
    "x = range(2,52,2)\n",
    "plt.plot(x,mae,color='dodgerblue',linewidth=3)\n",
    "plt.grid(True,linestyle='-.')\n",
    "plt.xlabel('k (number of latent factors)')\n",
    "plt.ylabel('Value of MAE')\n",
    "plt.title('MAE against #k of latent factors (MF with bias)')"
   ]
  },
  {
   "cell_type": "code",
   "execution_count": 77,
   "id": "a6564835",
   "metadata": {},
   "outputs": [
    {
     "data": {
      "text/plain": [
       "Text(0.5, 1.0, 'RMSE against #k of latent factors (MF with bias)')"
      ]
     },
     "execution_count": 77,
     "metadata": {},
     "output_type": "execute_result"
    },
    {
     "data": {
      "image/png": "[encoded data removed]",
      "text/plain": [
       "<Figure size 432x288 with 1 Axes>"
      ]
     },
     "metadata": {
      "needs_background": "light"
     },
     "output_type": "display_data"
    }
   ],
   "source": [
    "# RMSE Plot\n",
    "plt.plot(x,rmse,color='tomato',linewidth=3)\n",
    "plt.grid(True,linestyle='-.')\n",
    "plt.xlabel('k (number of latent factors)')\n",
    "plt.ylabel('Value of RMSE')\n",
    "plt.title('RMSE against #k of latent factors (MF with bias)')"
   ]
  },
  {
   "cell_type": "markdown",
   "id": "c90fa355",
   "metadata": {},
   "source": [
    "## Question 10:B"
   ]
  },
  {
   "cell_type": "code",
   "execution_count": 81,
   "id": "3dd116a4",
   "metadata": {},
   "outputs": [
    {
     "name": "stdout",
     "output_type": "stream",
     "text": [
      "The optimal k for RMSE is: 50\n",
      "The minimum average RMSE value is: 0.8650173536058647\n",
      "The optimal k for MAE is: 24\n",
      "The minimum average MAE value is: 0.66447078051676\n"
     ]
    }
   ],
   "source": [
    "# Find the optimal k and min value\n",
    "K_rmse = range(2,52,2)[rmse.index(min(rmse))]\n",
    "K_mae = range(2,52,2)[mae.index(min(mae))]\n",
    "min_rmse = min(rmse)\n",
    "min_mae = min(mae)\n",
    "print('The optimal k for RMSE is:',K_rmse)\n",
    "print('The minimum average RMSE value is:',min_rmse)\n",
    "print('The optimal k for MAE is:',K_mae)\n",
    "print('The minimum average MAE value is:',min_mae)"
   ]
  },
  {
   "cell_type": "markdown",
   "id": "d99e6f25",
   "metadata": {},
   "source": [
    "## Question 10:C"
   ]
  },
  {
   "cell_type": "code",
   "execution_count": null,
   "id": "b8c238a4",
   "metadata": {},
   "outputs": [],
   "source": [
    "def cal_rmse(Test_subset,data):\n",
    "    kf = KFold(n_splits=10)\n",
    "    rmse = []\n",
    "    for k in range(2,52,2):\n",
    "        svd = SVD(n_factors=k)\n",
    "        rmse_i = []\n",
    "        for trainset, testset in kf.split(data):\n",
    "\n",
    "            # train and test algorithm.\n",
    "            svd.fit(trainset)\n",
    "            if Test_subset == \"PMT\":\n",
    "                testset_trim = PMT(testset)\n",
    "                predictions = svd.test(testset_trim)\n",
    "            elif Test_subset == \"UMT\":\n",
    "                testset_trim = UMT(testset)\n",
    "                predictions = svd.test(testset_trim)\n",
    "            else: # HVMT\n",
    "                testset_trim = HVMT(testset)\n",
    "                predictions = svd.test(testset_trim)\n",
    "\n",
    "            # Compute and print Root Mean Squared Error\n",
    "            rmse_i.append(accuracy.rmse(predictions, verbose=True))\n",
    "        rmse.append(np.mean(rmse_i))\n",
    "    return rmse"
   ]
  },
  {
   "cell_type": "code",
   "execution_count": null,
   "id": "c5864546",
   "metadata": {},
   "outputs": [],
   "source": [
    "def plot_rmse(rmse,plot_title):\n",
    "    x = range(2,52,2)\n",
    "    plt.plot(x,rmse,color='dodgerblue',linewidth=3)\n",
    "    plt.grid(True,linestyle='-.')\n",
    "    plt.xlabel('k (number of latent factors)')\n",
    "    plt.ylabel('Value of RMSE')\n",
    "    plt.title('RMSE against k' + plot_title)\n",
    "    print('The minimum average value of RMSE is:',min(rmse))"
   ]
  },
  {
   "cell_type": "markdown",
   "id": "308263a0",
   "metadata": {},
   "source": [
    "### Popular movie trimming dataset"
   ]
  },
  {
   "cell_type": "code",
   "execution_count": 83,
   "id": "343b7f92",
   "metadata": {},
   "outputs": [
    {
     "name": "stdout",
     "output_type": "stream",
     "text": [
      "RMSE: 0.8573\n",
      "RMSE: 0.8365\n",
      "RMSE: 0.8361\n",
      "RMSE: 0.8429\n",
      "RMSE: 0.8421\n",
      "RMSE: 0.8674\n",
      "RMSE: 0.8618\n",
      "RMSE: 0.8655\n",
      "RMSE: 0.8537\n",
      "RMSE: 0.8525\n",
      "RMSE: 0.8662\n",
      "RMSE: 0.8530\n",
      "RMSE: 0.8444\n",
      "RMSE: 0.8557\n",
      "RMSE: 0.8463\n",
      "RMSE: 0.8589\n",
      "RMSE: 0.8390\n",
      "RMSE: 0.8593\n",
      "RMSE: 0.8431\n",
      "RMSE: 0.8415\n",
      "RMSE: 0.8476\n",
      "RMSE: 0.8496\n",
      "RMSE: 0.8411\n",
      "RMSE: 0.8656\n",
      "RMSE: 0.8414\n",
      "RMSE: 0.8548\n",
      "RMSE: 0.8574\n",
      "RMSE: 0.8424\n",
      "RMSE: 0.8489\n",
      "RMSE: 0.8381\n",
      "RMSE: 0.8399\n",
      "RMSE: 0.8536\n",
      "RMSE: 0.8611\n",
      "RMSE: 0.8406\n",
      "RMSE: 0.8357\n",
      "RMSE: 0.8494\n",
      "RMSE: 0.8524\n",
      "RMSE: 0.8622\n",
      "RMSE: 0.8548\n",
      "RMSE: 0.8485\n",
      "RMSE: 0.8486\n",
      "RMSE: 0.8581\n",
      "RMSE: 0.8416\n",
      "RMSE: 0.8587\n",
      "RMSE: 0.8467\n",
      "RMSE: 0.8487\n",
      "RMSE: 0.8317\n",
      "RMSE: 0.8650\n",
      "RMSE: 0.8591\n",
      "RMSE: 0.8518\n",
      "RMSE: 0.8452\n",
      "RMSE: 0.8497\n",
      "RMSE: 0.8438\n",
      "RMSE: 0.8430\n",
      "RMSE: 0.8525\n",
      "RMSE: 0.8475\n",
      "RMSE: 0.8514\n",
      "RMSE: 0.8598\n",
      "RMSE: 0.8630\n",
      "RMSE: 0.8417\n",
      "RMSE: 0.8509\n",
      "RMSE: 0.8391\n",
      "RMSE: 0.8514\n",
      "RMSE: 0.8551\n",
      "RMSE: 0.8445\n",
      "RMSE: 0.8451\n",
      "RMSE: 0.8505\n",
      "RMSE: 0.8565\n",
      "RMSE: 0.8562\n",
      "RMSE: 0.8405\n",
      "RMSE: 0.8704\n",
      "RMSE: 0.8585\n",
      "RMSE: 0.8381\n",
      "RMSE: 0.8403\n",
      "RMSE: 0.8520\n",
      "RMSE: 0.8397\n",
      "RMSE: 0.8481\n",
      "RMSE: 0.8412\n",
      "RMSE: 0.8518\n",
      "RMSE: 0.8429\n",
      "RMSE: 0.8554\n",
      "RMSE: 0.8491\n",
      "RMSE: 0.8388\n",
      "RMSE: 0.8496\n",
      "RMSE: 0.8589\n",
      "RMSE: 0.8565\n",
      "RMSE: 0.8493\n",
      "RMSE: 0.8485\n",
      "RMSE: 0.8372\n",
      "RMSE: 0.8389\n",
      "RMSE: 0.8371\n",
      "RMSE: 0.8527\n",
      "RMSE: 0.8477\n",
      "RMSE: 0.8556\n",
      "RMSE: 0.8340\n",
      "RMSE: 0.8549\n",
      "RMSE: 0.8337\n",
      "RMSE: 0.8531\n",
      "RMSE: 0.8444\n",
      "RMSE: 0.8558\n",
      "RMSE: 0.8552\n",
      "RMSE: 0.8413\n",
      "RMSE: 0.8487\n",
      "RMSE: 0.8499\n",
      "RMSE: 0.8483\n",
      "RMSE: 0.8497\n",
      "RMSE: 0.8496\n",
      "RMSE: 0.8519\n",
      "RMSE: 0.8548\n",
      "RMSE: 0.8362\n",
      "RMSE: 0.8605\n",
      "RMSE: 0.8603\n",
      "RMSE: 0.8511\n",
      "RMSE: 0.8403\n",
      "RMSE: 0.8445\n",
      "RMSE: 0.8461\n",
      "RMSE: 0.8496\n",
      "RMSE: 0.8449\n",
      "RMSE: 0.8467\n",
      "RMSE: 0.8363\n",
      "RMSE: 0.8462\n",
      "RMSE: 0.8457\n",
      "RMSE: 0.8516\n",
      "RMSE: 0.8479\n",
      "RMSE: 0.8481\n",
      "RMSE: 0.8273\n",
      "RMSE: 0.8378\n",
      "RMSE: 0.8642\n",
      "RMSE: 0.8502\n",
      "RMSE: 0.8463\n",
      "RMSE: 0.8395\n",
      "RMSE: 0.8362\n",
      "RMSE: 0.8446\n",
      "RMSE: 0.8541\n",
      "RMSE: 0.8504\n",
      "RMSE: 0.8469\n",
      "RMSE: 0.8539\n",
      "RMSE: 0.8569\n",
      "RMSE: 0.8533\n",
      "RMSE: 0.8504\n",
      "RMSE: 0.8560\n",
      "RMSE: 0.8423\n",
      "RMSE: 0.8471\n",
      "RMSE: 0.8500\n",
      "RMSE: 0.8572\n",
      "RMSE: 0.8445\n",
      "RMSE: 0.8450\n",
      "RMSE: 0.8543\n",
      "RMSE: 0.8441\n",
      "RMSE: 0.8400\n",
      "RMSE: 0.8563\n",
      "RMSE: 0.8476\n",
      "RMSE: 0.8373\n",
      "RMSE: 0.8582\n",
      "RMSE: 0.8473\n",
      "RMSE: 0.8478\n",
      "RMSE: 0.8466\n",
      "RMSE: 0.8475\n",
      "RMSE: 0.8447\n",
      "RMSE: 0.8481\n",
      "RMSE: 0.8519\n",
      "RMSE: 0.8533\n",
      "RMSE: 0.8682\n",
      "RMSE: 0.8475\n",
      "RMSE: 0.8422\n",
      "RMSE: 0.8437\n",
      "RMSE: 0.8409\n",
      "RMSE: 0.8281\n",
      "RMSE: 0.8501\n",
      "RMSE: 0.8647\n",
      "RMSE: 0.8434\n",
      "RMSE: 0.8620\n",
      "RMSE: 0.8563\n",
      "RMSE: 0.8417\n",
      "RMSE: 0.8547\n",
      "RMSE: 0.8436\n",
      "RMSE: 0.8365\n",
      "RMSE: 0.8647\n",
      "RMSE: 0.8471\n",
      "RMSE: 0.8358\n",
      "RMSE: 0.8482\n",
      "RMSE: 0.8470\n",
      "RMSE: 0.8422\n",
      "RMSE: 0.8521\n",
      "RMSE: 0.8366\n",
      "RMSE: 0.8440\n",
      "RMSE: 0.8556\n",
      "RMSE: 0.8532\n",
      "RMSE: 0.8268\n",
      "RMSE: 0.8464\n",
      "RMSE: 0.8470\n",
      "RMSE: 0.8541\n",
      "RMSE: 0.8281\n",
      "RMSE: 0.8439\n",
      "RMSE: 0.8441\n",
      "RMSE: 0.8521\n",
      "RMSE: 0.8647\n",
      "RMSE: 0.8614\n",
      "RMSE: 0.8552\n",
      "RMSE: 0.8431\n",
      "RMSE: 0.8640\n",
      "RMSE: 0.8529\n",
      "RMSE: 0.8509\n",
      "RMSE: 0.8413\n",
      "RMSE: 0.8423\n",
      "RMSE: 0.8487\n",
      "RMSE: 0.8358\n",
      "RMSE: 0.8409\n",
      "RMSE: 0.8463\n",
      "RMSE: 0.8570\n",
      "RMSE: 0.8405\n",
      "RMSE: 0.8438\n",
      "RMSE: 0.8614\n",
      "RMSE: 0.8484\n",
      "RMSE: 0.8496\n",
      "RMSE: 0.8586\n",
      "RMSE: 0.8491\n",
      "RMSE: 0.8442\n",
      "RMSE: 0.8466\n",
      "RMSE: 0.8450\n",
      "RMSE: 0.8466\n",
      "RMSE: 0.8341\n",
      "RMSE: 0.8424\n",
      "RMSE: 0.8500\n",
      "RMSE: 0.8401\n",
      "RMSE: 0.8492\n",
      "RMSE: 0.8611\n",
      "RMSE: 0.8558\n",
      "RMSE: 0.8437\n",
      "RMSE: 0.8516\n",
      "RMSE: 0.8755\n",
      "RMSE: 0.8558\n",
      "RMSE: 0.8483\n",
      "RMSE: 0.8379\n",
      "RMSE: 0.8413\n",
      "RMSE: 0.8417\n",
      "RMSE: 0.8476\n",
      "RMSE: 0.8527\n",
      "RMSE: 0.8322\n",
      "RMSE: 0.8497\n",
      "RMSE: 0.8507\n",
      "RMSE: 0.8429\n",
      "RMSE: 0.8465\n",
      "RMSE: 0.8474\n",
      "RMSE: 0.8484\n",
      "RMSE: 0.8413\n",
      "RMSE: 0.8556\n",
      "RMSE: 0.8560\n",
      "RMSE: 0.8482\n",
      "RMSE: 0.8410\n"
     ]
    }
   ],
   "source": [
    "# train the dataset using Popular movie trimming\n",
    "from surprise.model_selection import KFold\n",
    "from surprise import accuracy\n",
    "# define a cross-validation iterator\n",
    "kf = KFold(n_splits=10)\n",
    "\n",
    "# Construct a knn filter\n",
    "rmse = []\n",
    "for k in range(2,52,2):\n",
    "    svd = SVD(n_factors=k)\n",
    "    rmse_i = []\n",
    "    for trainset, testset in kf.split(data):\n",
    "\n",
    "        # train and test algorithm.\n",
    "        svd.fit(trainset)\n",
    "        testset_trim = PMT(testset)\n",
    "        predictions = svd.test(testset_trim)\n",
    "\n",
    "        # Compute and print Root Mean Squared Error\n",
    "        rmse_i.append(accuracy.rmse(predictions, verbose=True))\n",
    "    rmse.append(np.mean(rmse_i))"
   ]
  },
  {
   "cell_type": "code",
   "execution_count": 89,
   "id": "b5cc0332",
   "metadata": {},
   "outputs": [
    {
     "name": "stdout",
     "output_type": "stream",
     "text": [
      "The minimum average value of RMSE is: 0.8452337113423314\n"
     ]
    },
    {
     "data": {
      "image/png": "[encoded data removed]",
      "text/plain": [
       "<Figure size 432x288 with 1 Axes>"
      ]
     },
     "metadata": {
      "needs_background": "light"
     },
     "output_type": "display_data"
    }
   ],
   "source": [
    "x = range(2,52,2)\n",
    "plt.plot(x,rmse,color='dodgerblue',linewidth=3)\n",
    "plt.grid(True,linestyle='-.')\n",
    "plt.xlabel('k (number of latent factors)')\n",
    "plt.ylabel('Value of RMSE')\n",
    "plt.title('RMSE against k (Popular movie trimming dataset)')\n",
    "print('The minimum average value of RMSE is:',min(rmse))"
   ]
  },
  {
   "cell_type": "markdown",
   "id": "e89c6679",
   "metadata": {},
   "source": [
    "### Unpopular movie trimming dataset"
   ]
  },
  {
   "cell_type": "code",
   "execution_count": 91,
   "id": "7e9a17b8",
   "metadata": {},
   "outputs": [
    {
     "name": "stdout",
     "output_type": "stream",
     "text": [
      "RMSE: 0.9149\n",
      "RMSE: 0.9147\n",
      "RMSE: 0.9042\n",
      "RMSE: 0.8969\n",
      "RMSE: 0.9088\n",
      "RMSE: 0.8957\n",
      "RMSE: 0.8954\n",
      "RMSE: 0.8887\n",
      "RMSE: 0.8742\n",
      "RMSE: 0.8918\n",
      "RMSE: 0.8745\n",
      "RMSE: 0.9067\n",
      "RMSE: 0.8815\n",
      "RMSE: 0.9213\n",
      "RMSE: 0.9270\n",
      "RMSE: 0.9142\n",
      "RMSE: 0.9089\n",
      "RMSE: 0.9147\n",
      "RMSE: 0.9052\n",
      "RMSE: 0.8969\n",
      "RMSE: 0.9218\n",
      "RMSE: 0.9088\n",
      "RMSE: 0.9243\n",
      "RMSE: 0.8912\n",
      "RMSE: 0.8956\n",
      "RMSE: 0.9042\n",
      "RMSE: 0.9059\n",
      "RMSE: 0.9208\n",
      "RMSE: 0.9053\n",
      "RMSE: 0.8922\n",
      "RMSE: 0.9136\n",
      "RMSE: 0.8927\n",
      "RMSE: 0.9078\n",
      "RMSE: 0.8896\n",
      "RMSE: 0.8951\n",
      "RMSE: 0.9154\n",
      "RMSE: 0.9010\n",
      "RMSE: 0.9141\n",
      "RMSE: 0.8906\n",
      "RMSE: 0.8977\n",
      "RMSE: 0.9006\n",
      "RMSE: 0.9074\n",
      "RMSE: 0.9096\n",
      "RMSE: 0.8898\n",
      "RMSE: 0.8797\n",
      "RMSE: 0.9078\n",
      "RMSE: 0.8876\n",
      "RMSE: 0.9186\n",
      "RMSE: 0.9012\n",
      "RMSE: 0.9183\n",
      "RMSE: 0.9111\n",
      "RMSE: 0.9217\n",
      "RMSE: 0.9027\n",
      "RMSE: 0.8829\n",
      "RMSE: 0.8919\n",
      "RMSE: 0.8854\n",
      "RMSE: 0.9007\n",
      "RMSE: 0.8998\n",
      "RMSE: 0.9198\n",
      "RMSE: 0.9237\n",
      "RMSE: 0.9082\n",
      "RMSE: 0.8743\n",
      "RMSE: 0.8938\n",
      "RMSE: 0.8974\n",
      "RMSE: 0.8891\n",
      "RMSE: 0.9050\n",
      "RMSE: 0.9060\n",
      "RMSE: 0.9042\n",
      "RMSE: 0.9210\n",
      "RMSE: 0.9052\n",
      "RMSE: 0.9007\n",
      "RMSE: 0.9052\n",
      "RMSE: 0.9279\n",
      "RMSE: 0.8942\n",
      "RMSE: 0.8810\n",
      "RMSE: 0.8970\n",
      "RMSE: 0.9289\n",
      "RMSE: 0.8990\n",
      "RMSE: 0.9180\n",
      "RMSE: 0.8948\n",
      "RMSE: 0.8940\n",
      "RMSE: 0.9106\n",
      "RMSE: 0.9234\n",
      "RMSE: 0.8910\n",
      "RMSE: 0.9149\n",
      "RMSE: 0.9172\n",
      "RMSE: 0.8931\n",
      "RMSE: 0.9095\n",
      "RMSE: 0.8949\n",
      "RMSE: 0.9102\n",
      "RMSE: 0.8898\n",
      "RMSE: 0.9011\n",
      "RMSE: 0.8937\n",
      "RMSE: 0.9061\n",
      "RMSE: 0.9019\n",
      "RMSE: 0.9122\n",
      "RMSE: 0.8995\n",
      "RMSE: 0.8993\n",
      "RMSE: 0.9058\n",
      "RMSE: 0.9150\n",
      "RMSE: 0.9023\n",
      "RMSE: 0.8890\n",
      "RMSE: 0.9264\n",
      "RMSE: 0.9363\n",
      "RMSE: 0.8741\n",
      "RMSE: 0.8942\n",
      "RMSE: 0.8974\n",
      "RMSE: 0.8960\n",
      "RMSE: 0.8973\n",
      "RMSE: 0.8971\n",
      "RMSE: 0.9126\n",
      "RMSE: 0.9103\n",
      "RMSE: 0.8888\n",
      "RMSE: 0.8955\n",
      "RMSE: 0.8975\n",
      "RMSE: 0.9274\n",
      "RMSE: 0.9047\n",
      "RMSE: 0.9038\n",
      "RMSE: 0.8910\n",
      "RMSE: 0.8968\n",
      "RMSE: 0.8923\n",
      "RMSE: 0.9146\n",
      "RMSE: 0.9131\n",
      "RMSE: 0.9207\n",
      "RMSE: 0.9036\n",
      "RMSE: 0.9036\n",
      "RMSE: 0.8856\n",
      "RMSE: 0.8893\n",
      "RMSE: 0.8900\n",
      "RMSE: 0.9153\n",
      "RMSE: 0.9007\n",
      "RMSE: 0.8988\n",
      "RMSE: 0.9057\n",
      "RMSE: 0.9268\n",
      "RMSE: 0.8984\n",
      "RMSE: 0.9020\n",
      "RMSE: 0.9167\n",
      "RMSE: 0.9207\n",
      "RMSE: 0.8867\n",
      "RMSE: 0.8909\n",
      "RMSE: 0.9175\n",
      "RMSE: 0.8939\n",
      "RMSE: 0.9067\n",
      "RMSE: 0.9135\n",
      "RMSE: 0.9064\n",
      "RMSE: 0.9129\n",
      "RMSE: 0.9051\n",
      "RMSE: 0.9047\n",
      "RMSE: 0.8889\n",
      "RMSE: 0.9141\n",
      "RMSE: 0.9022\n",
      "RMSE: 0.9313\n",
      "RMSE: 0.9041\n",
      "RMSE: 0.9010\n",
      "RMSE: 0.9377\n",
      "RMSE: 0.8858\n",
      "RMSE: 0.8922\n",
      "RMSE: 0.9046\n",
      "RMSE: 0.8946\n",
      "RMSE: 0.8908\n",
      "RMSE: 0.9050\n",
      "RMSE: 0.8975\n",
      "RMSE: 0.8845\n",
      "RMSE: 0.8992\n",
      "RMSE: 0.9059\n",
      "RMSE: 0.8988\n",
      "RMSE: 0.9174\n",
      "RMSE: 0.9062\n",
      "RMSE: 0.9286\n",
      "RMSE: 0.9005\n",
      "RMSE: 0.9138\n",
      "RMSE: 0.8861\n",
      "RMSE: 0.8883\n",
      "RMSE: 0.8915\n",
      "RMSE: 0.9093\n",
      "RMSE: 0.9179\n",
      "RMSE: 0.9025\n",
      "RMSE: 0.9051\n",
      "RMSE: 0.8963\n",
      "RMSE: 0.9063\n",
      "RMSE: 0.9054\n",
      "RMSE: 0.8794\n",
      "RMSE: 0.9009\n",
      "RMSE: 0.9018\n",
      "RMSE: 0.9122\n",
      "RMSE: 0.8940\n",
      "RMSE: 0.9164\n",
      "RMSE: 0.8894\n",
      "RMSE: 0.8910\n",
      "RMSE: 0.9101\n",
      "RMSE: 0.9185\n",
      "RMSE: 0.9190\n",
      "RMSE: 0.8933\n",
      "RMSE: 0.9114\n",
      "RMSE: 0.9013\n",
      "RMSE: 0.8808\n",
      "RMSE: 0.9070\n",
      "RMSE: 0.9117\n",
      "RMSE: 0.8966\n",
      "RMSE: 0.8840\n",
      "RMSE: 0.8992\n",
      "RMSE: 0.8975\n",
      "RMSE: 0.8981\n",
      "RMSE: 0.8889\n",
      "RMSE: 0.9129\n",
      "RMSE: 0.9109\n",
      "RMSE: 0.9039\n",
      "RMSE: 0.9330\n",
      "RMSE: 0.9002\n",
      "RMSE: 0.9050\n",
      "RMSE: 0.9145\n",
      "RMSE: 0.9172\n",
      "RMSE: 0.8925\n",
      "RMSE: 0.8960\n",
      "RMSE: 0.9037\n",
      "RMSE: 0.9202\n",
      "RMSE: 0.8987\n",
      "RMSE: 0.9131\n",
      "RMSE: 0.9032\n",
      "RMSE: 0.8957\n",
      "RMSE: 0.8962\n",
      "RMSE: 0.9011\n",
      "RMSE: 0.8965\n",
      "RMSE: 0.8967\n",
      "RMSE: 0.9270\n",
      "RMSE: 0.9042\n",
      "RMSE: 0.9182\n",
      "RMSE: 0.8873\n",
      "RMSE: 0.9065\n",
      "RMSE: 0.9157\n",
      "RMSE: 0.9179\n",
      "RMSE: 0.8975\n",
      "RMSE: 0.8902\n",
      "RMSE: 0.9166\n",
      "RMSE: 0.9192\n",
      "RMSE: 0.8795\n",
      "RMSE: 0.9184\n",
      "RMSE: 0.9010\n",
      "RMSE: 0.9129\n",
      "RMSE: 0.9061\n",
      "RMSE: 0.9168\n",
      "RMSE: 0.8884\n",
      "RMSE: 0.8980\n",
      "RMSE: 0.9118\n",
      "RMSE: 0.9054\n",
      "RMSE: 0.9249\n",
      "RMSE: 0.9015\n",
      "RMSE: 0.8936\n",
      "RMSE: 0.9121\n",
      "RMSE: 0.9241\n"
     ]
    }
   ],
   "source": [
    "# define a cross-validation iterator\n",
    "kf = KFold(n_splits=10)\n",
    "\n",
    "# Construct a knn filter\n",
    "rmse = []\n",
    "for k in range(2,52,2):\n",
    "    svd = SVD(n_factors=k)\n",
    "    rmse_i = []\n",
    "    for trainset, testset in kf.split(data):\n",
    "\n",
    "        # train and test algorithm.\n",
    "        svd.fit(trainset)\n",
    "        testset_trim = UMT(testset)\n",
    "        predictions = svd.test(testset_trim)\n",
    "\n",
    "        # Compute and print Root Mean Squared Error\n",
    "        rmse_i.append(accuracy.rmse(predictions, verbose=True))\n",
    "    rmse.append(np.mean(rmse_i))"
   ]
  },
  {
   "cell_type": "code",
   "execution_count": 92,
   "id": "8b9cac21",
   "metadata": {},
   "outputs": [
    {
     "name": "stdout",
     "output_type": "stream",
     "text": [
      "The minimum average value of RMSE is: 0.8985198148644804\n"
     ]
    },
    {
     "data": {
      "image/png": "[encoded data removed]",
      "text/plain": [
       "<Figure size 432x288 with 1 Axes>"
      ]
     },
     "metadata": {
      "needs_background": "light"
     },
     "output_type": "display_data"
    }
   ],
   "source": [
    "x = range(2,52,2)\n",
    "plt.plot(x,rmse,color='dodgerblue',linewidth=3)\n",
    "plt.grid(True,linestyle='-.')\n",
    "plt.xlabel('k (number of latent factors)')\n",
    "plt.ylabel('Value of RMSE')\n",
    "plt.title('RMSE against k (Unpopular movie trimming method)')\n",
    "print('The minimum average value of RMSE is:',min(rmse))"
   ]
  },
  {
   "cell_type": "markdown",
   "id": "0ec2b292",
   "metadata": {},
   "source": [
    "### High variance movie trimming dataset"
   ]
  },
  {
   "cell_type": "code",
   "execution_count": null,
   "id": "198b3c55",
   "metadata": {},
   "outputs": [],
   "source": [
    "# define a cross-validation iterator\n",
    "kf = KFold(n_splits=10)\n",
    "\n",
    "# Construct a knn filter\n",
    "rmse = []\n",
    "for k in range(2,52,2):\n",
    "    svd = SVD(n_factors=k)\n",
    "    rmse_i = []\n",
    "    for trainset, testset in kf.split(data):\n",
    "\n",
    "        # train and test algorithm.\n",
    "        svd.fit(trainset)\n",
    "        testset_trim = HVMT(testset)\n",
    "        predictions = svd.test(testset_trim)\n",
    "\n",
    "        # Compute and print Root Mean Squared Error\n",
    "        rmse_i.append(accuracy.rmse(predictions, verbose=True))\n",
    "    rmse.append(np.mean(rmse_i))"
   ]
  },
  {
   "cell_type": "code",
   "execution_count": null,
   "id": "e5f3e25a",
   "metadata": {},
   "outputs": [],
   "source": [
    "# show time (plot)\n",
    "x = range(2,52,2)\n",
    "plt.plot(x,rmse,color='dodgerblue',linewidth=3)\n",
    "plt.grid(True,linestyle='-.')\n",
    "plt.xlabel('k (number of latent factors)')\n",
    "plt.ylabel('Value of RMSE')\n",
    "plt.title('RMSE against k (High variance movie trimming method)')\n",
    "print('The minimum average value of RMSE is:',min(rmse))"
   ]
  },
  {
   "cell_type": "markdown",
   "id": "d7b7c6d7",
   "metadata": {},
   "source": [
    "## Question 10: D\n",
    "\n",
    "Plot the ROC curves for NMF-based collaborative filter"
   ]
  },
  {
   "cell_type": "code",
   "execution_count": null,
   "id": "107e4bcb",
   "metadata": {},
   "outputs": [],
   "source": [
    "# define plot drawing\n",
    "from sklearn import metrics\n",
    "from surprise.model_selection import train_test_split\n",
    "from sklearn.metrics import roc_curve\n",
    "\n",
    "def plot_roc(fpr, tpr):\n",
    "    fig, ax = plt.subplots()\n",
    "\n",
    "    roc_auc = metrics.auc(fpr,tpr)\n",
    "\n",
    "    ax.plot(fpr, tpr, linewidth=3,color='deepskyblue',label= 'area under curve = %0.4f' % roc_auc)\n",
    "    #color='coral'\n",
    "    \n",
    "    ax.grid(color='0.7', linestyle='--', linewidth=1)\n",
    "\n",
    "    ax.set_xlim([-0.1, 1.1])\n",
    "    ax.set_ylim([0.0, 1.05])\n",
    "    ax.set_xlabel('False Positive Rate',fontsize=15)\n",
    "    ax.set_ylabel('True Positive Rate',fontsize=15)\n",
    "\n",
    "    ax.legend(loc=\"lower right\")\n",
    "\n",
    "    for label in ax.get_xticklabels()+ax.get_yticklabels():\n",
    "        label.set_fontsize(15)   "
   ]
  },
  {
   "cell_type": "code",
   "execution_count": null,
   "id": "1c52d750",
   "metadata": {},
   "outputs": [],
   "source": [
    "# Define a func to get ground_truth\n",
    "def get_labels(predictions,threshold):\n",
    "    #y_pred = list(map(lambda x:0 if x[3] < threshold else 1, predictions))\n",
    "    #y_true = list(map(lambda x:0 if x[2] < threshold else 1, predictions))\n",
    "    y_true, y_pred = [], []\n",
    "    for u, i, r_real, r_pred, misc in predictions:\n",
    "        y_true.append(threshold <= r_real)\n",
    "        y_pred.append(r_pred)\n",
    "    return y_pred, y_true"
   ]
  },
  {
   "cell_type": "code",
   "execution_count": null,
   "id": "d3d97fe6",
   "metadata": {},
   "outputs": [],
   "source": [
    "threshold = [2.5,3,3.5,4]\n",
    "nmf = NMF(n_factors=20)\n",
    "trainset, testset = train_test_split(data, test_size=.1)\n",
    "predictions = nmf.fit(trainset).test(testset)\n",
    "for thresh in threshold:\n",
    "    y_pred, y_true = get_labels(predictions, thresh)\n",
    "    fpr,tpr,_ = roc_curve(y_true, y_pred)\n",
    "    plot_roc(fpr,tpr)\n",
    "    plt.title('ROC curve for NNMF when threshold = %2.1f' % thresh)"
   ]
  },
  {
   "cell_type": "markdown",
   "id": "883a1cb0",
   "metadata": {},
   "source": [
    "## Question 11: Designing a Naive Collaborative Filter"
   ]
  },
  {
   "cell_type": "code",
   "execution_count": null,
   "id": "41da38e2",
   "metadata": {},
   "outputs": [],
   "source": [
    "from surprise import AlgoBase\n",
    "\n",
    "class NaiveFilter(AlgoBase):\n",
    "    def __init__(self):\n",
    "        AlgoBase.__init__(self)\n",
    "        \n",
    "    def estimate(self, u, i):\n",
    "        return np.mean([rating for (_, rating) in self.trainset.ur[u]])"
   ]
  },
  {
   "cell_type": "code",
   "execution_count": null,
   "id": "552547e8",
   "metadata": {},
   "outputs": [],
   "source": [
    "naiveCF = NaiveFilter()\n",
    "output = cross_validate(naiveCF, data, measures=['RMSE'], cv=10)\n",
    "    \n",
    "avg_rmse = np.mean(output['test_rmse'])\n",
    "    \n",
    "print(\"Avg RMSE: \", avg_rmse)"
   ]
  }
 ],
 "metadata": {
  "kernelspec": {
   "display_name": "Python 3 (ipykernel)",
   "language": "python",
   "name": "python3"
  },
  "language_info": {
   "codemirror_mode": {
    "name": "ipython",
    "version": 3
   },
   "file_extension": ".py",
   "mimetype": "text/x-python",
   "name": "python",
   "nbconvert_exporter": "python",
   "pygments_lexer": "ipython3",
   "version": "3.9.7"
  }
 },
 "nbformat": 4,
 "nbformat_minor": 5
}
