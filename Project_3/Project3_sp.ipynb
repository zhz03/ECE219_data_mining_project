{
 "cells": [
  {
   "cell_type": "code",
   "execution_count": 1,
   "id": "f4a8a0c0",
   "metadata": {},
   "outputs": [],
   "source": [
    "import numpy as np\n",
    "import pandas as pd\n",
    "import matplotlib.pyplot as plt\n",
    "from sklearn.feature_extraction.text import CountVectorizer\n",
    "from sklearn.feature_extraction import text\n",
    "from sklearn.feature_extraction.text import TfidfTransformer\n",
    "from sklearn.cluster import KMeans\n",
    "from time import time\n",
    "from sklearn import metrics\n",
    "from sklearn.metrics.cluster import contingency_matrix, homogeneity_score, completeness_score, adjusted_rand_score, adjusted_mutual_info_score, v_measure_score\n",
    "from sklearn.metrics.cluster import contingency_matrix"
   ]
  },
  {
   "cell_type": "code",
   "execution_count": 30,
   "id": "afcd31a4",
   "metadata": {
    "scrolled": true
   },
   "outputs": [
    {
     "name": "stdout",
     "output_type": "stream",
     "text": [
      "        Unnamed: 0  userId  movieId  rating   timestamp\n",
      "0                0     496   112852     3.0  1415520462\n",
      "1                1     391     1947     4.0  1030945141\n",
      "2                2     387     1562     1.5  1095041022\n",
      "3                3     474     2716     4.5  1053020930\n",
      "4                4     483    88125     4.5  1311337237\n",
      "...            ...     ...      ...     ...         ...\n",
      "100831      100831     469     1219     4.0   965661925\n",
      "100832      100832     599     3571     2.0  1498511343\n",
      "100833      100833     414      276     3.0   961596299\n",
      "100834      100834     395      168     3.0   841503984\n",
      "100835      100835     288     2407     3.5  1054568795\n",
      "\n",
      "[100836 rows x 5 columns]\n"
     ]
    }
   ],
   "source": [
    "df = pd.read_csv('Synthetic_Movie_Lens/ratings.csv')  \n",
    "print(df)\n",
    "a = df['userId'].unique()\n",
    "b = df['movieId'].unique()\n",
    "columns =  sorted(a)\n",
    "rows = sorted(b)"
   ]
  },
  {
   "cell_type": "code",
   "execution_count": 31,
   "id": "04b990d9",
   "metadata": {},
   "outputs": [],
   "source": [
    "R = pd.DataFrame(np.nan, index=rows, columns=columns)\n",
    "for index, row in df.iterrows():\n",
    "    R[(int(row['userId']))][int(row['movieId'])] = row['rating']"
   ]
  },
  {
   "cell_type": "code",
   "execution_count": 44,
   "id": "b63f3931",
   "metadata": {},
   "outputs": [
    {
     "name": "stdout",
     "output_type": "stream",
     "text": [
      "Sparsity: 0.0169996831 \n"
     ]
    }
   ],
   "source": [
    "sparsity = (len(rows)*len(columns) - R.isna().sum().sum())/(len(rows)*len(columns))\n",
    "print(\"Sparsity: %0.10f \" % (sparsity))"
   ]
  },
  {
   "cell_type": "code",
   "execution_count": 48,
   "id": "4f906135",
   "metadata": {},
   "outputs": [
    {
     "data": {
      "image/png": "[encoded data removed]",
      "text/plain": [
       "<Figure size 432x288 with 1 Axes>"
      ]
     },
     "metadata": {
      "needs_background": "light"
     },
     "output_type": "display_data"
    }
   ],
   "source": [
    "hist = df.hist(column= 'rating', bins=9)"
   ]
  },
  {
   "cell_type": "code",
   "execution_count": 71,
   "id": "1c77e988",
   "metadata": {},
   "outputs": [
    {
     "data": {
      "text/plain": [
       "[<matplotlib.lines.Line2D at 0x7f69a42f92e0>]"
      ]
     },
     "execution_count": 71,
     "metadata": {},
     "output_type": "execute_result"
    },
    {
     "data": {
      "image/png": "[encoded data removed]",
      "text/plain": [
       "<Figure size 432x288 with 1 Axes>"
      ]
     },
     "metadata": {
      "needs_background": "light"
     },
     "output_type": "display_data"
    }
   ],
   "source": [
    "count = df['movieId'].value_counts()\n",
    "plt.plot(count.values)"
   ]
  },
  {
   "cell_type": "code",
   "execution_count": 72,
   "id": "080c527f",
   "metadata": {},
   "outputs": [
    {
     "data": {
      "text/plain": [
       "[<matplotlib.lines.Line2D at 0x7f69a42578e0>]"
      ]
     },
     "execution_count": 72,
     "metadata": {},
     "output_type": "execute_result"
    },
    {
     "data": {
      "image/png": "[encoded data removed]",
      "text/plain": [
       "<Figure size 432x288 with 1 Axes>"
      ]
     },
     "metadata": {
      "needs_background": "light"
     },
     "output_type": "display_data"
    }
   ],
   "source": [
    "count = df['userId'].value_counts()\n",
    "plt.plot(count.values)"
   ]
  },
  {
   "cell_type": "code",
   "execution_count": 77,
   "id": "abba8228",
   "metadata": {},
   "outputs": [
    {
     "data": {
      "text/plain": [
       "(array([6.337e+03, 2.444e+03, 7.020e+02, 1.280e+02, 6.800e+01, 3.100e+01,\n",
       "        7.000e+00, 4.000e+00, 3.000e+00]),\n",
       " array([0.    , 0.5625, 1.125 , 1.6875, 2.25  , 2.8125, 3.375 , 3.9375,\n",
       "        4.5   , 5.0625]),\n",
       " <BarContainer object of 9 artists>)"
      ]
     },
     "execution_count": 77,
     "metadata": {},
     "output_type": "execute_result"
    },
    {
     "data": {
      "image/png": "[encoded data removed]",
      "text/plain": [
       "<Figure size 432x288 with 1 Axes>"
      ]
     },
     "metadata": {
      "needs_background": "light"
     },
     "output_type": "display_data"
    }
   ],
   "source": [
    "R.var(axis=1)\n",
    "R_array = np.array(R)\n",
    "R_var = np.nanvar(R_array, axis=1)\n",
    "plt.hist(R_var, bins = 9)"
   ]
  },
  {
   "cell_type": "code",
   "execution_count": null,
   "id": "2d5bc2b8",
   "metadata": {},
   "outputs": [],
   "source": []
  }
 ],
 "metadata": {
  "kernelspec": {
   "display_name": "Python 3 (ipykernel)",
   "language": "python",
   "name": "python3"
  },
  "language_info": {
   "codemirror_mode": {
    "name": "ipython",
    "version": 3
   },
   "file_extension": ".py",
   "mimetype": "text/x-python",
   "name": "python",
   "nbconvert_exporter": "python",
   "pygments_lexer": "ipython3",
   "version": "3.8.10"
  }
 },
 "nbformat": 4,
 "nbformat_minor": 5
}
