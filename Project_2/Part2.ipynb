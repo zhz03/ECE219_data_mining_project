{
  "nbformat": 4,
  "nbformat_minor": 0,
  "metadata": {
    "colab": {
      "name": "Part2.ipynb",
      "provenance": []
    },
    "kernelspec": {
      "name": "python3",
      "display_name": "Python 3"
    },
    "language_info": {
      "name": "python"
    },
    "accelerator": "GPU",
    "widgets": {
      "application/vnd.jupyter.widget-state+json": {
        "da07e4f1efb546bd93a2f332a41cca05": {
          "model_module": "@jupyter-widgets/controls",
          "model_name": "HBoxModel",
          "model_module_version": "1.5.0",
          "state": {
            "_view_name": "HBoxView",
            "_dom_classes": [],
            "_model_name": "HBoxModel",
            "_view_module": "@jupyter-widgets/controls",
            "_model_module_version": "1.5.0",
            "_view_count": null,
            "_view_module_version": "1.5.0",
            "box_style": "",
            "layout": "IPY_MODEL_8100ecf976ed4101a1950064824949bc",
            "_model_module": "@jupyter-widgets/controls",
            "children": [
              "IPY_MODEL_1b09186a54ab4e3b853fb4ae89602518",
              "IPY_MODEL_68a8dbfff9d64341bb528ce2dca7de1c",
              "IPY_MODEL_f68ef771a7fb46ff92569c21d8a13259"
            ]
          }
        },
        "8100ecf976ed4101a1950064824949bc": {
          "model_module": "@jupyter-widgets/base",
          "model_name": "LayoutModel",
          "model_module_version": "1.2.0",
          "state": {
            "_view_name": "LayoutView",
            "grid_template_rows": null,
            "right": null,
            "justify_content": null,
            "_view_module": "@jupyter-widgets/base",
            "overflow": null,
            "_model_module_version": "1.2.0",
            "_view_count": null,
            "flex_flow": null,
            "width": null,
            "min_width": null,
            "border": null,
            "align_items": null,
            "bottom": null,
            "_model_module": "@jupyter-widgets/base",
            "top": null,
            "grid_column": null,
            "overflow_y": null,
            "overflow_x": null,
            "grid_auto_flow": null,
            "grid_area": null,
            "grid_template_columns": null,
            "flex": null,
            "_model_name": "LayoutModel",
            "justify_items": null,
            "grid_row": null,
            "max_height": null,
            "align_content": null,
            "visibility": null,
            "align_self": null,
            "height": null,
            "min_height": null,
            "padding": null,
            "grid_auto_rows": null,
            "grid_gap": null,
            "max_width": null,
            "order": null,
            "_view_module_version": "1.2.0",
            "grid_template_areas": null,
            "object_position": null,
            "object_fit": null,
            "grid_auto_columns": null,
            "margin": null,
            "display": null,
            "left": null
          }
        },
        "1b09186a54ab4e3b853fb4ae89602518": {
          "model_module": "@jupyter-widgets/controls",
          "model_name": "HTMLModel",
          "model_module_version": "1.5.0",
          "state": {
            "_view_name": "HTMLView",
            "style": "IPY_MODEL_90d135239f764cd4a253f20aeab6f61a",
            "_dom_classes": [],
            "description": "",
            "_model_name": "HTMLModel",
            "placeholder": "​",
            "_view_module": "@jupyter-widgets/controls",
            "_model_module_version": "1.5.0",
            "value": "100%",
            "_view_count": null,
            "_view_module_version": "1.5.0",
            "description_tooltip": null,
            "_model_module": "@jupyter-widgets/controls",
            "layout": "IPY_MODEL_8a9d86f9e27644479a9be11b1649112c"
          }
        },
        "68a8dbfff9d64341bb528ce2dca7de1c": {
          "model_module": "@jupyter-widgets/controls",
          "model_name": "FloatProgressModel",
          "model_module_version": "1.5.0",
          "state": {
            "_view_name": "ProgressView",
            "style": "IPY_MODEL_61927ea3b6ff4536b8d5ad605c1d5a8d",
            "_dom_classes": [],
            "description": "",
            "_model_name": "FloatProgressModel",
            "bar_style": "success",
            "max": 553433881,
            "_view_module": "@jupyter-widgets/controls",
            "_model_module_version": "1.5.0",
            "value": 553433881,
            "_view_count": null,
            "_view_module_version": "1.5.0",
            "orientation": "horizontal",
            "min": 0,
            "description_tooltip": null,
            "_model_module": "@jupyter-widgets/controls",
            "layout": "IPY_MODEL_c67d1302192241569c3b23fb9b31d94e"
          }
        },
        "f68ef771a7fb46ff92569c21d8a13259": {
          "model_module": "@jupyter-widgets/controls",
          "model_name": "HTMLModel",
          "model_module_version": "1.5.0",
          "state": {
            "_view_name": "HTMLView",
            "style": "IPY_MODEL_2c1f09b8cf4542ee9647e7a6f39d95bf",
            "_dom_classes": [],
            "description": "",
            "_model_name": "HTMLModel",
            "placeholder": "​",
            "_view_module": "@jupyter-widgets/controls",
            "_model_module_version": "1.5.0",
            "value": " 528M/528M [00:06&lt;00:00, 148MB/s]",
            "_view_count": null,
            "_view_module_version": "1.5.0",
            "description_tooltip": null,
            "_model_module": "@jupyter-widgets/controls",
            "layout": "IPY_MODEL_3ca441ef174b464eb9085b22d9eff6b2"
          }
        },
        "90d135239f764cd4a253f20aeab6f61a": {
          "model_module": "@jupyter-widgets/controls",
          "model_name": "DescriptionStyleModel",
          "model_module_version": "1.5.0",
          "state": {
            "_view_name": "StyleView",
            "_model_name": "DescriptionStyleModel",
            "description_width": "",
            "_view_module": "@jupyter-widgets/base",
            "_model_module_version": "1.5.0",
            "_view_count": null,
            "_view_module_version": "1.2.0",
            "_model_module": "@jupyter-widgets/controls"
          }
        },
        "8a9d86f9e27644479a9be11b1649112c": {
          "model_module": "@jupyter-widgets/base",
          "model_name": "LayoutModel",
          "model_module_version": "1.2.0",
          "state": {
            "_view_name": "LayoutView",
            "grid_template_rows": null,
            "right": null,
            "justify_content": null,
            "_view_module": "@jupyter-widgets/base",
            "overflow": null,
            "_model_module_version": "1.2.0",
            "_view_count": null,
            "flex_flow": null,
            "width": null,
            "min_width": null,
            "border": null,
            "align_items": null,
            "bottom": null,
            "_model_module": "@jupyter-widgets/base",
            "top": null,
            "grid_column": null,
            "overflow_y": null,
            "overflow_x": null,
            "grid_auto_flow": null,
            "grid_area": null,
            "grid_template_columns": null,
            "flex": null,
            "_model_name": "LayoutModel",
            "justify_items": null,
            "grid_row": null,
            "max_height": null,
            "align_content": null,
            "visibility": null,
            "align_self": null,
            "height": null,
            "min_height": null,
            "padding": null,
            "grid_auto_rows": null,
            "grid_gap": null,
            "max_width": null,
            "order": null,
            "_view_module_version": "1.2.0",
            "grid_template_areas": null,
            "object_position": null,
            "object_fit": null,
            "grid_auto_columns": null,
            "margin": null,
            "display": null,
            "left": null
          }
        },
        "61927ea3b6ff4536b8d5ad605c1d5a8d": {
          "model_module": "@jupyter-widgets/controls",
          "model_name": "ProgressStyleModel",
          "model_module_version": "1.5.0",
          "state": {
            "_view_name": "StyleView",
            "_model_name": "ProgressStyleModel",
            "description_width": "",
            "_view_module": "@jupyter-widgets/base",
            "_model_module_version": "1.5.0",
            "_view_count": null,
            "_view_module_version": "1.2.0",
            "bar_color": null,
            "_model_module": "@jupyter-widgets/controls"
          }
        },
        "c67d1302192241569c3b23fb9b31d94e": {
          "model_module": "@jupyter-widgets/base",
          "model_name": "LayoutModel",
          "model_module_version": "1.2.0",
          "state": {
            "_view_name": "LayoutView",
            "grid_template_rows": null,
            "right": null,
            "justify_content": null,
            "_view_module": "@jupyter-widgets/base",
            "overflow": null,
            "_model_module_version": "1.2.0",
            "_view_count": null,
            "flex_flow": null,
            "width": null,
            "min_width": null,
            "border": null,
            "align_items": null,
            "bottom": null,
            "_model_module": "@jupyter-widgets/base",
            "top": null,
            "grid_column": null,
            "overflow_y": null,
            "overflow_x": null,
            "grid_auto_flow": null,
            "grid_area": null,
            "grid_template_columns": null,
            "flex": null,
            "_model_name": "LayoutModel",
            "justify_items": null,
            "grid_row": null,
            "max_height": null,
            "align_content": null,
            "visibility": null,
            "align_self": null,
            "height": null,
            "min_height": null,
            "padding": null,
            "grid_auto_rows": null,
            "grid_gap": null,
            "max_width": null,
            "order": null,
            "_view_module_version": "1.2.0",
            "grid_template_areas": null,
            "object_position": null,
            "object_fit": null,
            "grid_auto_columns": null,
            "margin": null,
            "display": null,
            "left": null
          }
        },
        "2c1f09b8cf4542ee9647e7a6f39d95bf": {
          "model_module": "@jupyter-widgets/controls",
          "model_name": "DescriptionStyleModel",
          "model_module_version": "1.5.0",
          "state": {
            "_view_name": "StyleView",
            "_model_name": "DescriptionStyleModel",
            "description_width": "",
            "_view_module": "@jupyter-widgets/base",
            "_model_module_version": "1.5.0",
            "_view_count": null,
            "_view_module_version": "1.2.0",
            "_model_module": "@jupyter-widgets/controls"
          }
        },
        "3ca441ef174b464eb9085b22d9eff6b2": {
          "model_module": "@jupyter-widgets/base",
          "model_name": "LayoutModel",
          "model_module_version": "1.2.0",
          "state": {
            "_view_name": "LayoutView",
            "grid_template_rows": null,
            "right": null,
            "justify_content": null,
            "_view_module": "@jupyter-widgets/base",
            "overflow": null,
            "_model_module_version": "1.2.0",
            "_view_count": null,
            "flex_flow": null,
            "width": null,
            "min_width": null,
            "border": null,
            "align_items": null,
            "bottom": null,
            "_model_module": "@jupyter-widgets/base",
            "top": null,
            "grid_column": null,
            "overflow_y": null,
            "overflow_x": null,
            "grid_auto_flow": null,
            "grid_area": null,
            "grid_template_columns": null,
            "flex": null,
            "_model_name": "LayoutModel",
            "justify_items": null,
            "grid_row": null,
            "max_height": null,
            "align_content": null,
            "visibility": null,
            "align_self": null,
            "height": null,
            "min_height": null,
            "padding": null,
            "grid_auto_rows": null,
            "grid_gap": null,
            "max_width": null,
            "order": null,
            "_view_module_version": "1.2.0",
            "grid_template_areas": null,
            "object_position": null,
            "object_fit": null,
            "grid_auto_columns": null,
            "margin": null,
            "display": null,
            "left": null
          }
        }
      }
    }
  },
  "cells": [
    {
      "cell_type": "code",
      "execution_count": 10,
      "metadata": {
        "id": "LZkiQMFUHPvq"
      },
      "outputs": [],
      "source": [
        "import torch\n",
        "import torch.nn as nn\n",
        "from torchvision import transforms, datasets\n",
        "from torch.utils.data import DataLoader, TensorDataset\n",
        "import numpy as np\n",
        "import matplotlib.pyplot as plt\n",
        "\n",
        "from tqdm import tqdm\n",
        "import requests\n",
        "import os\n",
        "import tarfile\n",
        "\n",
        "from sklearn.preprocessing import StandardScaler\n",
        "from sklearn.decomposition import PCA\n",
        "from sklearn.cluster import KMeans\n",
        "from sklearn.metrics import confusion_matrix, adjusted_rand_score, adjusted_mutual_info_score\n",
        "from sklearn.pipeline import Pipeline\n",
        "from sklearn.base import TransformerMixin"
      ]
    },
    {
      "cell_type": "code",
      "source": [
        "print(torch.cuda.is_available())"
      ],
      "metadata": {
        "colab": {
          "base_uri": "https://localhost:8080/"
        },
        "id": "YwnoVDk2HXxe",
        "outputId": "6bcde3b8-774b-4d1c-e0cd-6f3adedcdd66"
      },
      "execution_count": 11,
      "outputs": [
        {
          "output_type": "stream",
          "name": "stdout",
          "text": [
            "True\n"
          ]
        }
      ]
    },
    {
      "cell_type": "code",
      "source": [
        "filename = './flowers_features_and_labels.npz'\n",
        "\n",
        "if os.path.exists(filename):\n",
        "    file = np.load(filename)\n",
        "    f_all, y_all = file['f_all'], file['y_all']\n",
        "\n",
        "else:\n",
        "    if not os.path.exists('./flower_photos'):\n",
        "        # download the flowers dataset and extract its images\n",
        "        url = 'http://download.tensorflow.org/example_images/flower_photos.tgz'\n",
        "        with open('./flower_photos.tgz', 'wb') as file:\n",
        "            file.write(requests.get(url).content)\n",
        "        with tarfile.open('./flower_photos.tgz') as file:\n",
        "            file.extractall('./')\n",
        "        os.remove('./flower_photos.tgz')\n",
        "\n",
        "    class FeatureExtractor(nn.Module):\n",
        "        def __init__(self):\n",
        "            super().__init__()\n",
        "\n",
        "            vgg = torch.hub.load('pytorch/vision:v0.10.0', 'vgg16', pretrained=True)\n",
        "\n",
        "            # Extract VGG-16 Feature Layers\n",
        "            self.features = list(vgg.features)\n",
        "            self.features = nn.Sequential(*self.features)\n",
        "            # Extract VGG-16 Average Pooling Layer\n",
        "            self.pooling = vgg.avgpool\n",
        "            # Convert the image into one-dimensional vector\n",
        "            self.flatten = nn.Flatten()\n",
        "            # Extract the first part of fully-connected layer from VGG16\n",
        "            self.fc = vgg.classifier[0]\n",
        "\n",
        "        def forward(self, x):\n",
        "            # It will take the input 'x' until it returns the feature vector called 'out'\n",
        "            out = self.features(x)\n",
        "            out = self.pooling(out)\n",
        "            out = self.flatten(out)\n",
        "            out = self.fc(out) \n",
        "            return out \n",
        "\n",
        "    # Initialize the model\n",
        "    assert torch.cuda.is_available()\n",
        "    feature_extractor = FeatureExtractor().cuda().eval()\n",
        "\n",
        "    dataset = datasets.ImageFolder(root='./flower_photos',\n",
        "                                   transform=transforms.Compose([transforms.Resize(224),\n",
        "                                                                 transforms.CenterCrop(224),\n",
        "                                                                 transforms.ToTensor(),\n",
        "                                                                 transforms.Normalize(mean=[0.485, 0.456, 0.406], std=[0.229, 0.224, 0.225])]))\n",
        "    dataloader = DataLoader(dataset, batch_size=64, shuffle=True)\n",
        "\n",
        "    # Extract features and store them on disk\n",
        "    f_all, y_all = np.zeros((0, 4096)), np.zeros((0,))\n",
        "    for x, y in tqdm(dataloader):\n",
        "        with torch.no_grad():\n",
        "            f_all = np.vstack([f_all, feature_extractor(x.cuda()).cpu()])\n",
        "            y_all = np.concatenate([y_all, y])\n",
        "    np.savez(filename, f_all=f_all, y_all=y_all)"
      ],
      "metadata": {
        "colab": {
          "base_uri": "https://localhost:8080/",
          "height": 121,
          "referenced_widgets": [
            "da07e4f1efb546bd93a2f332a41cca05",
            "8100ecf976ed4101a1950064824949bc",
            "1b09186a54ab4e3b853fb4ae89602518",
            "68a8dbfff9d64341bb528ce2dca7de1c",
            "f68ef771a7fb46ff92569c21d8a13259",
            "90d135239f764cd4a253f20aeab6f61a",
            "8a9d86f9e27644479a9be11b1649112c",
            "61927ea3b6ff4536b8d5ad605c1d5a8d",
            "c67d1302192241569c3b23fb9b31d94e",
            "2c1f09b8cf4542ee9647e7a6f39d95bf",
            "3ca441ef174b464eb9085b22d9eff6b2"
          ]
        },
        "id": "Mhn4gj-9HbBh",
        "outputId": "23a79b90-5bd0-47fc-c087-377c5f45471d"
      },
      "execution_count": 13,
      "outputs": [
        {
          "output_type": "stream",
          "name": "stderr",
          "text": [
            "Downloading: \"https://github.com/pytorch/vision/archive/v0.10.0.zip\" to /root/.cache/torch/hub/v0.10.0.zip\n",
            "Downloading: \"https://download.pytorch.org/models/vgg16-397923af.pth\" to /root/.cache/torch/hub/checkpoints/vgg16-397923af.pth\n"
          ]
        },
        {
          "output_type": "display_data",
          "data": {
            "application/vnd.jupyter.widget-view+json": {
              "model_id": "da07e4f1efb546bd93a2f332a41cca05",
              "version_minor": 0,
              "version_major": 2
            },
            "text/plain": [
              "  0%|          | 0.00/528M [00:00<?, ?B/s]"
            ]
          },
          "metadata": {}
        },
        {
          "output_type": "stream",
          "name": "stderr",
          "text": [
            "100%|██████████| 58/58 [00:35<00:00,  1.62it/s]\n"
          ]
        }
      ]
    },
    {
      "cell_type": "code",
      "source": [
        "import os\n",
        "print(os.getcwd()) "
      ],
      "metadata": {
        "colab": {
          "base_uri": "https://localhost:8080/"
        },
        "id": "iEC3-JWpJMoC",
        "outputId": "1126f496-7abd-4e44-f800-405e68ed4479"
      },
      "execution_count": 15,
      "outputs": [
        {
          "output_type": "stream",
          "name": "stdout",
          "text": [
            "/content\n"
          ]
        }
      ]
    },
    {
      "cell_type": "code",
      "source": [
        "filename = './flowers_features_and_labels.npz'\n",
        "np.savez(filename, f_all=f_all, y_all=y_all)"
      ],
      "metadata": {
        "id": "LEn7KB_9JDIu"
      },
      "execution_count": 14,
      "outputs": []
    },
    {
      "cell_type": "code",
      "source": [
        "filename = './flowers_features_and_labels.npz'\n",
        "load_dataset = np.load(filename)"
      ],
      "metadata": {
        "id": "Y0ZoAJ6jHoNH"
      },
      "execution_count": 16,
      "outputs": []
    },
    {
      "cell_type": "markdown",
      "source": [
        "### Question 21\n",
        "\n",
        "Original pixels: 224 * 224 \n",
        "\n",
        "Feature extracted per image: 4096"
      ],
      "metadata": {
        "id": "-J3U4ZujJXqw"
      }
    },
    {
      "cell_type": "code",
      "source": [
        "print(f_all.shape, y_all.shape)\n",
        "num_features = f_all.shape[1]\n",
        "print(num_features)"
      ],
      "metadata": {
        "colab": {
          "base_uri": "https://localhost:8080/"
        },
        "id": "gpC9Jfr6IqWz",
        "outputId": "bdfb9a0f-9aef-41a0-82ae-8a93d06c9a63"
      },
      "execution_count": 17,
      "outputs": [
        {
          "output_type": "stream",
          "name": "stdout",
          "text": [
            "(3670, 4096) (3670,)\n",
            "4096\n"
          ]
        }
      ]
    },
    {
      "cell_type": "markdown",
      "source": [
        "### Question 23"
      ],
      "metadata": {
        "id": "53k_lQTYJwlZ"
      }
    },
    {
      "cell_type": "code",
      "source": [
        "f_pca = PCA(n_components=2).fit_transform(f_all)\n",
        "plt.scatter(*f_pca.T, c=y_all)"
      ],
      "metadata": {
        "colab": {
          "base_uri": "https://localhost:8080/",
          "height": 282
        },
        "id": "bECeiQlsJS_L",
        "outputId": "5a502095-e9ad-48a1-cca3-efb0b4c9e179"
      },
      "execution_count": 18,
      "outputs": [
        {
          "output_type": "execute_result",
          "data": {
            "text/plain": [
              "<matplotlib.collections.PathCollection at 0x7f38c8fcaf90>"
            ]
          },
          "metadata": {},
          "execution_count": 18
        },
        {
          "output_type": "display_data",
          "data": {
            "image/png": "[encoded data removed]",
            "text/plain": [
              "<Figure size 432x288 with 1 Axes>"
            ]
          },
          "metadata": {
            "needs_background": "light"
          }
        }
      ]
    },
    {
      "cell_type": "code",
      "source": [
        "from sklearn.manifold import TSNE\n",
        "tsne = TSNE(n_components=2).fit_transform(f_all)"
      ],
      "metadata": {
        "colab": {
          "base_uri": "https://localhost:8080/"
        },
        "id": "wAkJRP1pJ3Sq",
        "outputId": "49527b0e-c2ab-4c0a-a471-e0c40489ee77"
      },
      "execution_count": 19,
      "outputs": [
        {
          "output_type": "stream",
          "name": "stderr",
          "text": [
            "/usr/local/lib/python3.7/dist-packages/sklearn/manifold/_t_sne.py:783: FutureWarning: The default initialization in TSNE will change from 'random' to 'pca' in 1.2.\n",
            "  FutureWarning,\n",
            "/usr/local/lib/python3.7/dist-packages/sklearn/manifold/_t_sne.py:793: FutureWarning: The default learning rate in TSNE will change from 200.0 to 'auto' in 1.2.\n",
            "  FutureWarning,\n"
          ]
        }
      ]
    },
    {
      "cell_type": "code",
      "source": [
        "plt.scatter(*tsne.T, c=y_all)"
      ],
      "metadata": {
        "colab": {
          "base_uri": "https://localhost:8080/",
          "height": 282
        },
        "id": "DcarrifYJ8Ol",
        "outputId": "25006a2f-5701-4794-b278-86d269d6ba84"
      },
      "execution_count": 56,
      "outputs": [
        {
          "output_type": "execute_result",
          "data": {
            "text/plain": [
              "<matplotlib.collections.PathCollection at 0x7f3855162510>"
            ]
          },
          "metadata": {},
          "execution_count": 56
        },
        {
          "output_type": "display_data",
          "data": {
            "image/png": "[encoded data removed]",
            "text/plain": [
              "<Figure size 432x288 with 1 Axes>"
            ]
          },
          "metadata": {
            "needs_background": "light"
          }
        }
      ]
    },
    {
      "cell_type": "markdown",
      "source": [
        "### Question 24\n",
        "---\n",
        "\n",
        "#### Dimensionality Reduction\n",
        "\n",
        "| Alternative | Hyperparameters   |\n",
        "| ----------- | ----------------- |\n",
        "| None        | N/A               |\n",
        "| SVD         | r = 50            |\n",
        "| UMAP        | n components = 50 |\n",
        "| Autoencoder | num features = 50 |\n",
        "\n",
        "#### Clustering\n",
        "\n",
        "| Alternative | Hyperparameters   |\n",
        "| ----------- | ----------------- |\n",
        "| K-Means        | k=5               |\n",
        "| Agglomerative Clustering        | n clusters = 5            |\n",
        "| HDBSCAN        | min cluster size & min samples |\n",
        "\n"
      ],
      "metadata": {
        "id": "7oIebtdeKA8p"
      }
    },
    {
      "cell_type": "code",
      "source": [
        "!pip install umap-learn"
      ],
      "metadata": {
        "colab": {
          "base_uri": "https://localhost:8080/"
        },
        "id": "JYmKXXocLUh4",
        "outputId": "be04118c-26b7-4f56-b631-0979420a5afd"
      },
      "execution_count": 20,
      "outputs": [
        {
          "output_type": "stream",
          "name": "stdout",
          "text": [
            "Collecting umap-learn\n",
            "  Downloading umap-learn-0.5.2.tar.gz (86 kB)\n",
            "\u001b[K     |████████████████████████████████| 86 kB 3.4 MB/s \n",
            "\u001b[?25hRequirement already satisfied: numpy>=1.17 in /usr/local/lib/python3.7/dist-packages (from umap-learn) (1.19.5)\n",
            "Requirement already satisfied: scikit-learn>=0.22 in /usr/local/lib/python3.7/dist-packages (from umap-learn) (1.0.2)\n",
            "Requirement already satisfied: scipy>=1.0 in /usr/local/lib/python3.7/dist-packages (from umap-learn) (1.4.1)\n",
            "Requirement already satisfied: numba>=0.49 in /usr/local/lib/python3.7/dist-packages (from umap-learn) (0.51.2)\n",
            "Collecting pynndescent>=0.5\n",
            "  Downloading pynndescent-0.5.6.tar.gz (1.1 MB)\n",
            "\u001b[K     |████████████████████████████████| 1.1 MB 13.8 MB/s \n",
            "\u001b[?25hRequirement already satisfied: tqdm in /usr/local/lib/python3.7/dist-packages (from umap-learn) (4.62.3)\n",
            "Requirement already satisfied: llvmlite<0.35,>=0.34.0.dev0 in /usr/local/lib/python3.7/dist-packages (from numba>=0.49->umap-learn) (0.34.0)\n",
            "Requirement already satisfied: setuptools in /usr/local/lib/python3.7/dist-packages (from numba>=0.49->umap-learn) (57.4.0)\n",
            "Requirement already satisfied: joblib>=0.11 in /usr/local/lib/python3.7/dist-packages (from pynndescent>=0.5->umap-learn) (1.1.0)\n",
            "Requirement already satisfied: threadpoolctl>=2.0.0 in /usr/local/lib/python3.7/dist-packages (from scikit-learn>=0.22->umap-learn) (3.1.0)\n",
            "Building wheels for collected packages: umap-learn, pynndescent\n",
            "  Building wheel for umap-learn (setup.py) ... \u001b[?25l\u001b[?25hdone\n",
            "  Created wheel for umap-learn: filename=umap_learn-0.5.2-py3-none-any.whl size=82708 sha256=ce7e8c21973d3f71150baf9cfe606435cafcc1104a6d06072c675c4cabbae404\n",
            "  Stored in directory: /root/.cache/pip/wheels/84/1b/c6/aaf68a748122632967cef4dffef68224eb16798b6793257d82\n",
            "  Building wheel for pynndescent (setup.py) ... \u001b[?25l\u001b[?25hdone\n",
            "  Created wheel for pynndescent: filename=pynndescent-0.5.6-py3-none-any.whl size=53943 sha256=ca124db1f6ebb50944a23bb1edfd9f022818e438e17ab06c638fdbb07f961d31\n",
            "  Stored in directory: /root/.cache/pip/wheels/03/f1/56/f80d72741e400345b5a5b50ec3d929aca581bf45e0225d5c50\n",
            "Successfully built umap-learn pynndescent\n",
            "Installing collected packages: pynndescent, umap-learn\n",
            "Successfully installed pynndescent-0.5.6 umap-learn-0.5.2\n"
          ]
        }
      ]
    },
    {
      "cell_type": "code",
      "source": [
        "!pip install hdbscan"
      ],
      "metadata": {
        "colab": {
          "base_uri": "https://localhost:8080/"
        },
        "id": "hhC4kkE2MCnt",
        "outputId": "9a584c56-bc1a-4060-e645-d580ca32210f"
      },
      "execution_count": 21,
      "outputs": [
        {
          "output_type": "stream",
          "name": "stdout",
          "text": [
            "Collecting hdbscan\n",
            "  Downloading hdbscan-0.8.27.tar.gz (6.4 MB)\n",
            "\u001b[K     |████████████████████████████████| 6.4 MB 6.5 MB/s \n",
            "\u001b[?25h  Installing build dependencies ... \u001b[?25l\u001b[?25hdone\n",
            "  Getting requirements to build wheel ... \u001b[?25l\u001b[?25hdone\n",
            "    Preparing wheel metadata ... \u001b[?25l\u001b[?25hdone\n",
            "Requirement already satisfied: joblib>=1.0 in /usr/local/lib/python3.7/dist-packages (from hdbscan) (1.1.0)\n",
            "Requirement already satisfied: cython>=0.27 in /usr/local/lib/python3.7/dist-packages (from hdbscan) (0.29.27)\n",
            "Requirement already satisfied: numpy>=1.16 in /usr/local/lib/python3.7/dist-packages (from hdbscan) (1.19.5)\n",
            "Requirement already satisfied: scikit-learn>=0.20 in /usr/local/lib/python3.7/dist-packages (from hdbscan) (1.0.2)\n",
            "Requirement already satisfied: scipy>=1.0 in /usr/local/lib/python3.7/dist-packages (from hdbscan) (1.4.1)\n",
            "Requirement already satisfied: six in /usr/local/lib/python3.7/dist-packages (from hdbscan) (1.15.0)\n",
            "Requirement already satisfied: threadpoolctl>=2.0.0 in /usr/local/lib/python3.7/dist-packages (from scikit-learn>=0.20->hdbscan) (3.1.0)\n",
            "Building wheels for collected packages: hdbscan\n",
            "  Building wheel for hdbscan (PEP 517) ... \u001b[?25l\u001b[?25hdone\n",
            "  Created wheel for hdbscan: filename=hdbscan-0.8.27-cp37-cp37m-linux_x86_64.whl size=2311878 sha256=b65bae6655bf82586ae91c4efb9cc24f777e6ed4e42be62d5008a79ad60201a4\n",
            "  Stored in directory: /root/.cache/pip/wheels/73/5f/2f/9a259b84003b84847c259779206acecabb25ab56f1506ee72b\n",
            "Successfully built hdbscan\n",
            "Installing collected packages: hdbscan\n",
            "Successfully installed hdbscan-0.8.27\n"
          ]
        }
      ]
    },
    {
      "cell_type": "code",
      "source": [
        "from sklearn.decomposition import TruncatedSVD\n",
        "import umap\n",
        "from sklearn.cluster import KMeans\n",
        "from sklearn.cluster import AgglomerativeClustering\n",
        "import hdbscan\n",
        "from sklearn.metrics import rand_score"
      ],
      "metadata": {
        "id": "8771fJhOJ8vV"
      },
      "execution_count": 22,
      "outputs": []
    },
    {
      "cell_type": "code",
      "source": [
        "class Autoencoder(torch.nn.Module, TransformerMixin):\n",
        "    def __init__(self, n_components,n_features):\n",
        "        super().__init__()\n",
        "        self.n_components = n_components\n",
        "        self.n_features = n_features  # to be determined with data\n",
        "        self.encoder = None\n",
        "        self.decoder = None\n",
        "        \n",
        "    def _create_encoder(self):\n",
        "        return nn.Sequential(\n",
        "            nn.Linear(4096, 1280),\n",
        "            nn.ReLU(True),\n",
        "            nn.Linear(1280, 640),\n",
        "            nn.ReLU(True), nn.Linear(640, 120), nn.ReLU(True), nn.Linear(120, self.n_components))\n",
        "    \n",
        "    def _create_decoder(self):\n",
        "        return nn.Sequential(\n",
        "            nn.Linear(self.n_components, 120),\n",
        "            nn.ReLU(True),\n",
        "            nn.Linear(120, 640),\n",
        "            nn.ReLU(True),\n",
        "            nn.Linear(640, 1280),\n",
        "            nn.ReLU(True), nn.Linear(1280, 4096))\n",
        "    \n",
        "    def forward(self, X):\n",
        "        encoded = self.encoder(X)\n",
        "        decoded = self.decoder(encoded)\n",
        "        return decoded\n",
        "    \n",
        "    def fit(self, X):\n",
        "        X = torch.tensor(X, dtype=torch.float32, device='cuda')\n",
        "        self.n_features = X.shape[1]\n",
        "        self.encoder = self._create_encoder()\n",
        "        self.decoder = self._create_decoder()\n",
        "        self.cuda()\n",
        "        self.train()\n",
        "        \n",
        "        criterion = nn.MSELoss()\n",
        "        optimizer = torch.optim.Adam(self.parameters(), lr=1e-3, weight_decay=1e-5)\n",
        "\n",
        "        dataset = TensorDataset(X)\n",
        "        dataloader = DataLoader(dataset, batch_size=128, shuffle=True)\n",
        "\n",
        "        for epoch in tqdm(range(100)):\n",
        "            for (X_,) in dataloader:\n",
        "                X_ = X_.cuda()\n",
        "                # ===================forward=====================\n",
        "                output = self(X_)\n",
        "                loss = criterion(output, X_)\n",
        "                # ===================backward====================\n",
        "                optimizer.zero_grad()\n",
        "                loss.backward()\n",
        "                optimizer.step()\n",
        "\n",
        "        return self     \n",
        "        \n",
        "    def transform(self, X):\n",
        "        X = torch.tensor(X, dtype=torch.float32, device='cuda')\n",
        "        self.eval()\n",
        "        with torch.no_grad():\n",
        "            return self.encoder(X).cpu().numpy()"
      ],
      "metadata": {
        "id": "v1Alf9SxMzBY"
      },
      "execution_count": 24,
      "outputs": []
    },
    {
      "cell_type": "code",
      "source": [
        "svd_reducer = TruncatedSVD(n_components=50)\n",
        "umap_reducer = umap.UMAP(n_components=50)\n",
        "autoen_reducer = Autoencoder(2,50)"
      ],
      "metadata": {
        "id": "gfogn6JdMJAL"
      },
      "execution_count": 25,
      "outputs": []
    },
    {
      "cell_type": "code",
      "source": [
        "data_None = f_all\n",
        "data_svd = svd_reducer.fit_transform(f_all)\n",
        "data_umap = umap_reducer.fit_transform(f_all)\n",
        "data_autoencode =autoen_reducer.fit_transform(f_all)"
      ],
      "metadata": {
        "colab": {
          "base_uri": "https://localhost:8080/"
        },
        "id": "jplCwRwxMpVk",
        "outputId": "a6ae3bdc-e132-40c7-f9b9-83d91130095e"
      },
      "execution_count": 26,
      "outputs": [
        {
          "output_type": "stream",
          "name": "stderr",
          "text": [
            "/usr/local/lib/python3.7/dist-packages/numba/np/ufunc/parallel.py:363: NumbaWarning: The TBB threading layer requires TBB version 2019.5 or later i.e., TBB_INTERFACE_VERSION >= 11005. Found TBB_INTERFACE_VERSION = 9107. The TBB threading layer is disabled.\n",
            "  warnings.warn(problem)\n",
            "100%|██████████| 100/100 [00:22<00:00,  4.46it/s]\n"
          ]
        }
      ]
    },
    {
      "cell_type": "code",
      "source": [
        "data_all = [data_None,data_svd,data_umap,data_autoencode]"
      ],
      "metadata": {
        "id": "__1Uc-j5SkNT"
      },
      "execution_count": 28,
      "outputs": []
    },
    {
      "cell_type": "code",
      "source": [
        "km = KMeans(n_clusters=5, max_iter=1000, n_init=30, random_state=0)\n",
        "AC = AgglomerativeClustering(n_clusters=5)\n",
        "hdbscan_clusterer = hdbscan.HDBSCAN(min_cluster_size=5, min_samples=1000)"
      ],
      "metadata": {
        "id": "MuB3F3C1MUUX"
      },
      "execution_count": 27,
      "outputs": []
    },
    {
      "cell_type": "code",
      "source": [
        "score_km = []\n",
        "for i in range(len(data_all)):\n",
        "  if i == 0:\n",
        "    msg = \"None\"\n",
        "  elif i == 1:\n",
        "    msg = \"SVD\"\n",
        "  elif i == 2:\n",
        "    msg = \"UMAP\"\n",
        "  elif i == 3:\n",
        "    msg = \"Autoencoder\"\n",
        "  km.fit(data_all[i])\n",
        "  randScore = rand_score(y_all,km.labels_)\n",
        "  score_km.append(randScore)\n",
        "  print(\"Dimensional Reduction: {}\".format(msg))\n",
        "  print(\"kM score: %0.4f\"%(randScore))\n",
        "  print(\"____________________________\")\n"
      ],
      "metadata": {
        "colab": {
          "base_uri": "https://localhost:8080/"
        },
        "id": "yVqlfnHISeDJ",
        "outputId": "58fd633c-f250-4a53-ea63-f9187973d9cf"
      },
      "execution_count": 30,
      "outputs": [
        {
          "output_type": "stream",
          "name": "stdout",
          "text": [
            "Dimensional Reduction: None\n",
            "kM score: 0.7043\n",
            "____________________________\n",
            "Dimensional Reduction: SVD\n",
            "kM score: 0.7043\n",
            "____________________________\n",
            "Dimensional Reduction: UMAP\n",
            "kM score: 0.7945\n",
            "____________________________\n",
            "Dimensional Reduction: Autoencoder\n",
            "kM score: 0.6537\n",
            "____________________________\n"
          ]
        }
      ]
    },
    {
      "cell_type": "code",
      "source": [
        "score_AC = []\n",
        "for i in range(len(data_all)):\n",
        "  if i == 0:\n",
        "    msg = \"None\"\n",
        "  elif i == 1:\n",
        "    msg = \"SVD\"\n",
        "  elif i == 2:\n",
        "    msg = \"UMAP\"\n",
        "  elif i == 3:\n",
        "    msg = \"Autoencoder\"\n",
        "  AC.fit(data_all[i])\n",
        "  randScore = rand_score(y_all,AC.labels_)\n",
        "  score_AC.append(randScore)\n",
        "  print(\"Dimensional Reduction: {}\".format(msg))\n",
        "  print(\"Agglomerative Clustering score: %0.4f\"%(randScore))\n",
        "  print(\"____________________________\")"
      ],
      "metadata": {
        "colab": {
          "base_uri": "https://localhost:8080/"
        },
        "id": "K398Y8XuSzyU",
        "outputId": "ba18df3b-0fc1-4388-d9fe-5fc24d19749d"
      },
      "execution_count": 32,
      "outputs": [
        {
          "output_type": "stream",
          "name": "stdout",
          "text": [
            "Dimensional Reduction: None\n",
            "Agglomerative Clustering score: 0.6862\n",
            "____________________________\n",
            "Dimensional Reduction: SVD\n",
            "Agglomerative Clustering score: 0.6529\n",
            "____________________________\n",
            "Dimensional Reduction: UMAP\n",
            "Agglomerative Clustering score: 0.7922\n",
            "____________________________\n",
            "Dimensional Reduction: Autoencoder\n",
            "Agglomerative Clustering score: 0.6227\n",
            "____________________________\n"
          ]
        }
      ]
    },
    {
      "cell_type": "code",
      "source": [
        "hdbscan_clusterer = hdbscan.HDBSCAN(min_cluster_size=5, min_samples=None)"
      ],
      "metadata": {
        "id": "aSWzGWqAV75h"
      },
      "execution_count": 35,
      "outputs": []
    },
    {
      "cell_type": "code",
      "source": [
        "score_HDBSCAN = []\n",
        "for i in range(len(data_all)):\n",
        "  if i == 0:\n",
        "    msg = \"None\"\n",
        "  elif i == 1:\n",
        "    msg = \"SVD\"\n",
        "  elif i == 2:\n",
        "    msg = \"UMAP\"\n",
        "  elif i == 3:\n",
        "    msg = \"Autoencoder\"\n",
        "  hdbscan_clusterer.fit(data_all[i])\n",
        "  randScore = rand_score(y_all,hdbscan_clusterer.labels_)\n",
        "  score_HDBSCAN.append(randScore)\n",
        "  print(\"Dimensional Reduction: {}\".format(msg))\n",
        "  print(\"Agglomerative Clustering score: %0.4f\"%(randScore))\n",
        "  print(\"____________________________\")"
      ],
      "metadata": {
        "colab": {
          "base_uri": "https://localhost:8080/"
        },
        "id": "iulcNEriU3mo",
        "outputId": "61bdbd5a-8941-45f1-8807-3b3c1d1bf06a"
      },
      "execution_count": 36,
      "outputs": [
        {
          "output_type": "stream",
          "name": "stdout",
          "text": [
            "Dimensional Reduction: None\n",
            "Agglomerative Clustering score: 0.3785\n",
            "____________________________\n",
            "Dimensional Reduction: SVD\n",
            "Agglomerative Clustering score: 0.4135\n",
            "____________________________\n",
            "Dimensional Reduction: UMAP\n",
            "Agglomerative Clustering score: 0.6782\n",
            "____________________________\n",
            "Dimensional Reduction: Autoencoder\n",
            "Agglomerative Clustering score: 0.6194\n",
            "____________________________\n"
          ]
        }
      ]
    },
    {
      "cell_type": "code",
      "source": [
        "# best result:\n",
        "\n",
        "best_score = max(max(score_km),max(score_AC),max(score_HDBSCAN))\n",
        "print(\"Best result is from (UMAP+KMEAN):{}\".format(best_score))"
      ],
      "metadata": {
        "colab": {
          "base_uri": "https://localhost:8080/"
        },
        "id": "ts0L8RzYthQV",
        "outputId": "0d45064f-6375-4a2b-9f9e-2499e53b0b83"
      },
      "execution_count": 58,
      "outputs": [
        {
          "output_type": "stream",
          "name": "stdout",
          "text": [
            "Best result is from (UMAP+KMEAN):0.7944788169232906\n"
          ]
        }
      ]
    },
    {
      "cell_type": "markdown",
      "source": [
        "### Questions 25 "
      ],
      "metadata": {
        "id": "pIkhOkRSZfUd"
      }
    },
    {
      "cell_type": "code",
      "source": [
        "class MLP(torch.nn.Module):\n",
        "    def __init__(self, num_features):\n",
        "        super().__init__()\n",
        "        self.model = nn.Sequential(\n",
        "            nn.Linear(num_features, 1280),\n",
        "            nn.ReLU(True),\n",
        "            nn.Linear(1280, 640),\n",
        "            nn.ReLU(True), \n",
        "            nn.Linear(640, 5),\n",
        "            nn.LogSoftmax(dim=1)\n",
        "        )\n",
        "        self.cuda()\n",
        "      \n",
        "    def forward(self, X):\n",
        "        return self.model(X)\n",
        "    \n",
        "    def train(self, X, y):\n",
        "        X = torch.tensor(X, dtype=torch.float32, device='cuda')\n",
        "        y = torch.tensor(y, dtype=torch.int64, device='cuda')\n",
        "\n",
        "        self.model.train()\n",
        "        \n",
        "        criterion = nn.NLLLoss()\n",
        "        optimizer = torch.optim.Adam(self.parameters(), lr=1e-3, weight_decay=1e-5)\n",
        "\n",
        "        dataset = TensorDataset(X, y)\n",
        "        dataloader = DataLoader(dataset, batch_size=128, shuffle=True)\n",
        "\n",
        "        for epoch in tqdm(range(100)):\n",
        "            for (X_, y_) in dataloader:\n",
        "                ##################################\n",
        "                # you should implement this part #\n",
        "                ##################################\n",
        "                output_y = self.model.forward(X_)\n",
        "                loss = criterion(output_y,y_)\n",
        "                optimizer.zero_grad() \n",
        "                loss.backward()\n",
        "            # self.model.eval()\n",
        "                raise NotImplementedError\n",
        "        return self\n",
        "    \n",
        "    def eval(self, X_test, y_test):\n",
        "        ##################################\n",
        "        # you should implement this part #\n",
        "        ##################################\n",
        "        dataset = TensorDataset(X_test, y_test)\n",
        "        dataloader = DataLoader(dataset, batch_size=128, shuffle=False)\n",
        "        i = 0\n",
        "        sumScore = 0\n",
        "        with torch.no_grad():\n",
        "          for X,y in dataloader:\n",
        "            output_y = self.model.forward(X_)\n",
        "            randScore = rand_score(y_,output_y)\n",
        "            sumScore += randScore\n",
        "            i += 1\n",
        "        finalScore = sumScore/i\n",
        "        print(finalScore)\n",
        "        # y_pred = self.model.predict(X_test)\n",
        "        # print(rand_score(y_all,y_pred))\n",
        "        raise NotImplementedError"
      ],
      "metadata": {
        "id": "x3E-ClLgZeo0"
      },
      "execution_count": 46,
      "outputs": []
    },
    {
      "cell_type": "code",
      "source": [
        "from sklearn.model_selection import train_test_split\n",
        "X_train, X_test, y_train, y_test = train_test_split(f_all, y_all, test_size = 0.2)"
      ],
      "metadata": {
        "id": "AQl804P0amg1"
      },
      "execution_count": 51,
      "outputs": []
    },
    {
      "cell_type": "code",
      "source": [
        "mlp_model = MLP(4096)\n",
        "mlp_model.train(X_train,y_train)"
      ],
      "metadata": {
        "colab": {
          "base_uri": "https://localhost:8080/",
          "height": 322
        },
        "id": "EzGEISDraava",
        "outputId": "60438fa6-fe92-4146-c5b8-d6044c84af12"
      },
      "execution_count": 47,
      "outputs": [
        {
          "output_type": "stream",
          "name": "stderr",
          "text": [
            "  0%|          | 0/100 [00:00<?, ?it/s]\n"
          ]
        },
        {
          "output_type": "error",
          "ename": "TypeError",
          "evalue": "ignored",
          "traceback": [
            "\u001b[0;31m---------------------------------------------------------------------------\u001b[0m",
            "\u001b[0;31mTypeError\u001b[0m                                 Traceback (most recent call last)",
            "\u001b[0;32m<ipython-input-47-fa17a4f43d62>\u001b[0m in \u001b[0;36m<module>\u001b[0;34m()\u001b[0m\n\u001b[1;32m      1\u001b[0m \u001b[0mmlp_model\u001b[0m \u001b[0;34m=\u001b[0m \u001b[0mMLP\u001b[0m\u001b[0;34m(\u001b[0m\u001b[0;36m4096\u001b[0m\u001b[0;34m)\u001b[0m\u001b[0;34m\u001b[0m\u001b[0;34m\u001b[0m\u001b[0m\n\u001b[0;32m----> 2\u001b[0;31m \u001b[0mmlp_model\u001b[0m\u001b[0;34m.\u001b[0m\u001b[0mtrain\u001b[0m\u001b[0;34m(\u001b[0m\u001b[0mX_train\u001b[0m\u001b[0;34m,\u001b[0m\u001b[0my_train\u001b[0m\u001b[0;34m)\u001b[0m\u001b[0;34m\u001b[0m\u001b[0;34m\u001b[0m\u001b[0m\n\u001b[0m",
            "\u001b[0;32m<ipython-input-46-62b3f2dd61f0>\u001b[0m in \u001b[0;36mtrain\u001b[0;34m(self, X, y)\u001b[0m\n\u001b[1;32m     33\u001b[0m                 \u001b[0;31m# you should implement this part #\u001b[0m\u001b[0;34m\u001b[0m\u001b[0;34m\u001b[0m\u001b[0;34m\u001b[0m\u001b[0m\n\u001b[1;32m     34\u001b[0m                 \u001b[0;31m##################################\u001b[0m\u001b[0;34m\u001b[0m\u001b[0;34m\u001b[0m\u001b[0;34m\u001b[0m\u001b[0m\n\u001b[0;32m---> 35\u001b[0;31m                 \u001b[0mself\u001b[0m\u001b[0;34m.\u001b[0m\u001b[0mmodel\u001b[0m\u001b[0;34m.\u001b[0m\u001b[0mtrain\u001b[0m\u001b[0;34m(\u001b[0m\u001b[0mX_\u001b[0m\u001b[0;34m,\u001b[0m\u001b[0my_\u001b[0m\u001b[0;34m)\u001b[0m\u001b[0;34m\u001b[0m\u001b[0;34m\u001b[0m\u001b[0m\n\u001b[0m\u001b[1;32m     36\u001b[0m                 \u001b[0;32mraise\u001b[0m \u001b[0mNotImplementedError\u001b[0m\u001b[0;34m\u001b[0m\u001b[0;34m\u001b[0m\u001b[0m\n\u001b[1;32m     37\u001b[0m         \u001b[0;32mreturn\u001b[0m \u001b[0mself\u001b[0m\u001b[0;34m\u001b[0m\u001b[0;34m\u001b[0m\u001b[0m\n",
            "\u001b[0;31mTypeError\u001b[0m: train() takes from 1 to 2 positional arguments but 3 were given"
          ]
        }
      ]
    },
    {
      "cell_type": "code",
      "source": [
        "from sklearn.neural_network import MLPClassifier\n",
        "clf = MLPClassifier(random_state=1, max_iter=300).fit(X_train, y_train)"
      ],
      "metadata": {
        "id": "nxZRbr9SfPOE"
      },
      "execution_count": 48,
      "outputs": []
    },
    {
      "cell_type": "code",
      "source": [
        "y_pred = clf.predict(X_test)\n",
        "rand_score(y_test,y_pred)"
      ],
      "metadata": {
        "colab": {
          "base_uri": "https://localhost:8080/"
        },
        "id": "hHloP3vzfYv_",
        "outputId": "ba216b6f-d784-4fc7-945c-4e280003457c"
      },
      "execution_count": 50,
      "outputs": [
        {
          "output_type": "execute_result",
          "data": {
            "text/plain": [
              "0.9187356650843274"
            ]
          },
          "metadata": {},
          "execution_count": 50
        }
      ]
    },
    {
      "cell_type": "code",
      "source": [
        "from sklearn.model_selection import train_test_split\n",
        "X_train, X_test, y_train, y_test = train_test_split(data_umap, y_all, test_size = 0.2)"
      ],
      "metadata": {
        "id": "tWUEGRG0fzkQ"
      },
      "execution_count": null,
      "outputs": []
    },
    {
      "cell_type": "code",
      "source": [
        "def mlp_train(data,y_all,data_name):\n",
        "  X_train, X_test, y_train, y_test = train_test_split(data, y_all, test_size = 0.2)\n",
        "  clf = MLPClassifier(random_state=1, max_iter=300).fit(X_train, y_train)\n",
        "  y_pred = clf.predict(X_test)\n",
        "  print(\"DR data:{}\".format(data_name))\n",
        "  \n",
        "  score = rand_score(y_test,y_pred)\n",
        "  print(\"MLP score:{}\".format(score))\n",
        "  print(\"_________________________\")\n",
        "  \n"
      ],
      "metadata": {
        "id": "DUa23W0uf6pj"
      },
      "execution_count": 54,
      "outputs": []
    },
    {
      "cell_type": "code",
      "source": [
        "mlp_train(data_None,y_all,\"None\")\n",
        "mlp_train(data_svd,y_all,\"svd\")\n",
        "mlp_train(data_umap,y_all,\"umap\")\n",
        "mlp_train(data_autoencode,y_all,\"autoencoder\")"
      ],
      "metadata": {
        "colab": {
          "base_uri": "https://localhost:8080/"
        },
        "id": "hJ1Wpl6RgfqA",
        "outputId": "dfed65ee-0650-485f-cc27-9cdbcc83d771"
      },
      "execution_count": 55,
      "outputs": [
        {
          "output_type": "stream",
          "name": "stdout",
          "text": [
            "DR data:None\n",
            "MLP score:0.9185981242402727\n",
            "_________________________\n",
            "DR data:svd\n",
            "MLP score:0.9072826018266911\n",
            "_________________________\n",
            "DR data:umap\n",
            "MLP score:0.8787038448241894\n",
            "_________________________\n",
            "DR data:autoencoder\n",
            "MLP score:0.8180669191966128\n",
            "_________________________\n"
          ]
        }
      ]
    }
  ]
}